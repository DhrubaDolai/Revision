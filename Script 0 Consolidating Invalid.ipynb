{
 "cells": [
  {
   "cell_type": "code",
   "execution_count": 1,
   "id": "d46f89ee",
   "metadata": {},
   "outputs": [],
   "source": [
    "import pandas as pd\n",
    "import os\n",
    "import numpy as np\n",
    "import xlsxwriter as xw\n",
    "import re\n",
    "import warnings\n",
    "warnings.filterwarnings('ignore')\n",
    "import openpyxl as op\n",
    "from openpyxl import Workbook, load_workbook\n",
    "from openpyxl.styles import PatternFill, Border, Side, Alignment, Protection, Font\n",
    "from pathlib import Path\n",
    "import glob"
   ]
  },
  {
   "cell_type": "code",
   "execution_count": 2,
   "id": "998c94de",
   "metadata": {},
   "outputs": [],
   "source": [
    "input_loc = \"/home/dhrubakumardolai/Desktop/Python Test/Rahul/Script 0 Split the dynamic file/Result/11-Nov-2022/\"\n",
    "output_loc = \"/home/dhrubakumardolai/Desktop/Python Test/Rahul/Script 0 Split the dynamic file/Result/Consolidated Invalid/\""
   ]
  },
  {
   "cell_type": "markdown",
   "id": "58fc6ab5",
   "metadata": {},
   "source": [
    "# Invalid Delete Consolidation "
   ]
  },
  {
   "cell_type": "code",
   "execution_count": 3,
   "id": "470cbb12",
   "metadata": {},
   "outputs": [],
   "source": [
    "input_loc_in_delete = input_loc+\"Delete_format/Invalid/\""
   ]
  },
  {
   "cell_type": "code",
   "execution_count": 4,
   "id": "0b881f3c",
   "metadata": {
    "scrolled": true
   },
   "outputs": [
    {
     "data": {
      "text/plain": [
       "['/home/dhrubakumardolai/Desktop/Python Test/Rahul/Script 0 Split the dynamic file/Result/11-Nov-2022/Delete_format/Invalid/Invalid Revisit Merchant (2).xlsx',\n",
       " '/home/dhrubakumardolai/Desktop/Python Test/Rahul/Script 0 Split the dynamic file/Result/11-Nov-2022/Delete_format/Invalid/Invalid Revisit Merchant (1).xlsx',\n",
       " '/home/dhrubakumardolai/Desktop/Python Test/Rahul/Script 0 Split the dynamic file/Result/11-Nov-2022/Delete_format/Invalid/Invalid Revisit Merchant (3).xlsx',\n",
       " '/home/dhrubakumardolai/Desktop/Python Test/Rahul/Script 0 Split the dynamic file/Result/11-Nov-2022/Delete_format/Invalid/Invalid Revisit Merchant (4).xlsx']"
      ]
     },
     "execution_count": 4,
     "metadata": {},
     "output_type": "execute_result"
    }
   ],
   "source": [
    "os.chdir(input_loc_in_delete)\n",
    "filelist_d = glob.glob(input_loc_in_delete+'**/*.xlsx', recursive = True)\n",
    "filelist_d"
   ]
  },
  {
   "cell_type": "code",
   "execution_count": 5,
   "id": "7d3e794d",
   "metadata": {},
   "outputs": [],
   "source": [
    "delete_invalid = pd.DataFrame()\n",
    "\n",
    "for files in filelist_d:\n",
    "    if files.endswith(\".xlsx\"):\n",
    "        df1 = pd.read_excel(files)\n",
    "        delete_invalid = delete_invalid.append(df1)"
   ]
  },
  {
   "cell_type": "code",
   "execution_count": 6,
   "id": "c3311bb2",
   "metadata": {},
   "outputs": [],
   "source": [
    "delete_invalid.to_excel(output_loc+\"Invalid_delete_consolidated.xlsx\", index=False)"
   ]
  },
  {
   "cell_type": "markdown",
   "id": "c0d95203",
   "metadata": {},
   "source": [
    "# Invalid Optional Consolidation"
   ]
  },
  {
   "cell_type": "code",
   "execution_count": 7,
   "id": "c9afddae",
   "metadata": {},
   "outputs": [
    {
     "data": {
      "text/plain": [
       "['/home/dhrubakumardolai/Desktop/Python Test/Rahul/Script 0 Split the dynamic file/Result/11-Nov-2022/Optional_format/Invalid/Invalid Revisit Merchant List (01).xlsx',\n",
       " '/home/dhrubakumardolai/Desktop/Python Test/Rahul/Script 0 Split the dynamic file/Result/11-Nov-2022/Optional_format/Invalid/Invalid Revisit Merchant List (04).xlsx',\n",
       " '/home/dhrubakumardolai/Desktop/Python Test/Rahul/Script 0 Split the dynamic file/Result/11-Nov-2022/Optional_format/Invalid/Invalid Revisit Merchant List (03).xlsx',\n",
       " '/home/dhrubakumardolai/Desktop/Python Test/Rahul/Script 0 Split the dynamic file/Result/11-Nov-2022/Optional_format/Invalid/Invalid Revisit Merchant List (02).xlsx',\n",
       " '/home/dhrubakumardolai/Desktop/Python Test/Rahul/Script 0 Split the dynamic file/Result/11-Nov-2022/Optional_format/Invalid/Invalid Revisit Merchant List (05).xlsx',\n",
       " '/home/dhrubakumardolai/Desktop/Python Test/Rahul/Script 0 Split the dynamic file/Result/11-Nov-2022/Optional_format/Invalid/Invalid Revisit Merchant List (07).xlsx',\n",
       " '/home/dhrubakumardolai/Desktop/Python Test/Rahul/Script 0 Split the dynamic file/Result/11-Nov-2022/Optional_format/Invalid/Invalid Revisit Merchant List (08).xlsx',\n",
       " '/home/dhrubakumardolai/Desktop/Python Test/Rahul/Script 0 Split the dynamic file/Result/11-Nov-2022/Optional_format/Invalid/Invalid Revisit Merchant List (09).xlsx',\n",
       " '/home/dhrubakumardolai/Desktop/Python Test/Rahul/Script 0 Split the dynamic file/Result/11-Nov-2022/Optional_format/Invalid/Invalid Revisit Merchant List (06).xlsx']"
      ]
     },
     "execution_count": 7,
     "metadata": {},
     "output_type": "execute_result"
    }
   ],
   "source": [
    "input_loc_in_optional = input_loc+\"Optional_format/Invalid/\"\n",
    "\n",
    "os.chdir(input_loc_in_optional)\n",
    "filelist_o = glob.glob(input_loc_in_optional+'**/*.xlsx', recursive = True)\n",
    "filelist_o"
   ]
  },
  {
   "cell_type": "code",
   "execution_count": 8,
   "id": "929cf4c0",
   "metadata": {},
   "outputs": [],
   "source": [
    "optional_invalid = pd.DataFrame()\n",
    "\n",
    "for files in filelist_o:\n",
    "    if files.endswith(\".xlsx\"):\n",
    "        df2 = pd.read_excel(files)\n",
    "        optional_invalid = optional_invalid.append(df2)\n",
    "\n",
    "optional_invalid.to_excel(output_loc+\"Invalid_optional_consolidated.xlsx\", index=False)"
   ]
  },
  {
   "cell_type": "markdown",
   "id": "a51e6390",
   "metadata": {},
   "source": [
    "# Invalid Edit Consolidated"
   ]
  },
  {
   "cell_type": "code",
   "execution_count": 9,
   "id": "67613731",
   "metadata": {},
   "outputs": [
    {
     "data": {
      "text/plain": [
       "['/home/dhrubakumardolai/Desktop/Python Test/Rahul/Script 0 Split the dynamic file/Result/11-Nov-2022/AdHOC_format/Invalid/Invalid Adhoc (01).xlsx',\n",
       " '/home/dhrubakumardolai/Desktop/Python Test/Rahul/Script 0 Split the dynamic file/Result/11-Nov-2022/AdHOC_format/Invalid/Invalid Adhoc (08).xlsx',\n",
       " '/home/dhrubakumardolai/Desktop/Python Test/Rahul/Script 0 Split the dynamic file/Result/11-Nov-2022/AdHOC_format/Invalid/Invalid Adhoc (02).xlsx',\n",
       " '/home/dhrubakumardolai/Desktop/Python Test/Rahul/Script 0 Split the dynamic file/Result/11-Nov-2022/AdHOC_format/Invalid/Invalid Adhoc (05).xlsx',\n",
       " '/home/dhrubakumardolai/Desktop/Python Test/Rahul/Script 0 Split the dynamic file/Result/11-Nov-2022/AdHOC_format/Invalid/Invalid Adhoc (07).xlsx',\n",
       " '/home/dhrubakumardolai/Desktop/Python Test/Rahul/Script 0 Split the dynamic file/Result/11-Nov-2022/AdHOC_format/Invalid/Invalid Adhoc (03).xlsx',\n",
       " '/home/dhrubakumardolai/Desktop/Python Test/Rahul/Script 0 Split the dynamic file/Result/11-Nov-2022/AdHOC_format/Invalid/Invalid Adhoc (09).xlsx',\n",
       " '/home/dhrubakumardolai/Desktop/Python Test/Rahul/Script 0 Split the dynamic file/Result/11-Nov-2022/AdHOC_format/Invalid/Invalid Adhoc (06).xlsx',\n",
       " '/home/dhrubakumardolai/Desktop/Python Test/Rahul/Script 0 Split the dynamic file/Result/11-Nov-2022/AdHOC_format/Invalid/Invalid Adhoc (04).xlsx']"
      ]
     },
     "execution_count": 9,
     "metadata": {},
     "output_type": "execute_result"
    }
   ],
   "source": [
    "input_loc_in_edit = input_loc+\"AdHOC_format/Invalid/\"\n",
    "\n",
    "os.chdir(input_loc_in_optional)\n",
    "filelist_e = glob.glob(input_loc_in_edit+'**/*.xlsx', recursive = True)\n",
    "filelist_e"
   ]
  },
  {
   "cell_type": "code",
   "execution_count": 10,
   "id": "643ab1ba",
   "metadata": {},
   "outputs": [],
   "source": [
    "adhoc_invalid = pd.DataFrame()\n",
    "\n",
    "for files in filelist_e:\n",
    "    if files.endswith(\".xlsx\"):\n",
    "        df3 = pd.read_excel(files)\n",
    "        adhoc_invalid = adhoc_invalid.append(df3)\n",
    "\n",
    "adhoc_invalid.to_excel(output_loc+\"Invalid_adhoc_consolidated.xlsx\", index=False)"
   ]
  },
  {
   "cell_type": "code",
   "execution_count": null,
   "id": "19af93da",
   "metadata": {},
   "outputs": [],
   "source": []
  }
 ],
 "metadata": {
  "kernelspec": {
   "display_name": "Python 3 (ipykernel)",
   "language": "python",
   "name": "python3"
  },
  "language_info": {
   "codemirror_mode": {
    "name": "ipython",
    "version": 3
   },
   "file_extension": ".py",
   "mimetype": "text/x-python",
   "name": "python",
   "nbconvert_exporter": "python",
   "pygments_lexer": "ipython3",
   "version": "3.10.6"
  }
 },
 "nbformat": 4,
 "nbformat_minor": 5
}
