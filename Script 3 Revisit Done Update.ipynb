{
 "cells": [
  {
   "cell_type": "code",
   "execution_count": 1,
   "id": "c30890eb",
   "metadata": {},
   "outputs": [],
   "source": [
    "import pandas as pd\n",
    "import os\n",
    "import numpy as np\n",
    "import xlsxwriter as xw\n",
    "import re\n",
    "import warnings\n",
    "warnings.filterwarnings('ignore')\n",
    "import openpyxl as op\n",
    "from openpyxl import Workbook, load_workbook\n",
    "from openpyxl.styles import PatternFill, Border, Side, Alignment, Protection, Font\n",
    "from pathlib import Path\n",
    "import glob"
   ]
  },
  {
   "cell_type": "markdown",
   "id": "d850b734",
   "metadata": {},
   "source": [
    "# Input and Output Variable"
   ]
  },
  {
   "cell_type": "code",
   "execution_count": 2,
   "id": "37398057",
   "metadata": {},
   "outputs": [],
   "source": [
    "input_loc = '/home/dhrubakumardolai/Desktop/Python Test/Rahul/Script 3 Revisit Update/Target/'\n",
    "output_loc = '/home/dhrubakumardolai/Desktop/Python Test/Rahul/Script 3 Revisit Update/Result/'"
   ]
  },
  {
   "cell_type": "markdown",
   "id": "2ea37116",
   "metadata": {},
   "source": [
    "# Target Files"
   ]
  },
  {
   "cell_type": "code",
   "execution_count": 3,
   "id": "71031bda",
   "metadata": {},
   "outputs": [],
   "source": [
    "dynamic_source_revisit_done = pd.read_csv(\n",
    "    \"/home/dhrubakumardolai/Desktop/Python Test/Rahul/Script 4 Matching revisit with the dynamic Source/Result/Dynamic_source_match.csv\")\n",
    "dynamic_source_status = pd.read_csv(\n",
    "    \"/home/dhrubakumardolai/Desktop/Python Test/Rahul/Script 2 Google Dynamic Revisit/Result/Final/Dynamic_Source.csv\")"
   ]
  },
  {
   "cell_type": "markdown",
   "id": "68b61919",
   "metadata": {},
   "source": [
    "# Analysis"
   ]
  },
  {
   "cell_type": "code",
   "execution_count": 4,
   "id": "ae6ca0c2",
   "metadata": {},
   "outputs": [
    {
     "data": {
      "text/html": [
       "<div>\n",
       "<style scoped>\n",
       "    .dataframe tbody tr th:only-of-type {\n",
       "        vertical-align: middle;\n",
       "    }\n",
       "\n",
       "    .dataframe tbody tr th {\n",
       "        vertical-align: top;\n",
       "    }\n",
       "\n",
       "    .dataframe thead th {\n",
       "        text-align: right;\n",
       "    }\n",
       "</style>\n",
       "<table border=\"1\" class=\"dataframe\">\n",
       "  <thead>\n",
       "    <tr style=\"text-align: right;\">\n",
       "      <th></th>\n",
       "      <th>MerchantId</th>\n",
       "      <th>Objectives</th>\n",
       "      <th>IngestionStatus</th>\n",
       "      <th>Report Date</th>\n",
       "      <th>RWM Remarks</th>\n",
       "      <th>Ingestion Date</th>\n",
       "      <th>RWM Revisit Status</th>\n",
       "      <th>RWM Revisit Date</th>\n",
       "      <th>Revisit Expire Date</th>\n",
       "      <th>Validity</th>\n",
       "      <th>Pincode</th>\n",
       "      <th>Phone Number</th>\n",
       "      <th>City</th>\n",
       "      <th>Cluster</th>\n",
       "      <th>Failed Upload RWM MID</th>\n",
       "      <th>csv Google MID</th>\n",
       "      <th>Google csv Visit Date</th>\n",
       "      <th>csv Validity</th>\n",
       "      <th>s no</th>\n",
       "    </tr>\n",
       "  </thead>\n",
       "  <tbody>\n",
       "    <tr>\n",
       "      <th>0</th>\n",
       "      <td>BCR2DN4TSCO3DNDR</td>\n",
       "      <td>checkin-nob</td>\n",
       "      <td>ADD</td>\n",
       "      <td>5-Aug-2022</td>\n",
       "      <td>Success</td>\n",
       "      <td>5-Aug-2022</td>\n",
       "      <td>NaN</td>\n",
       "      <td>NaN</td>\n",
       "      <td>NaN</td>\n",
       "      <td>NaN</td>\n",
       "      <td>NaN</td>\n",
       "      <td>NaN</td>\n",
       "      <td>NaN</td>\n",
       "      <td>NaN</td>\n",
       "      <td>NaN</td>\n",
       "      <td>NaN</td>\n",
       "      <td>NaN</td>\n",
       "      <td>NaN</td>\n",
       "      <td>1</td>\n",
       "    </tr>\n",
       "  </tbody>\n",
       "</table>\n",
       "</div>"
      ],
      "text/plain": [
       "         MerchantId   Objectives IngestionStatus Report Date RWM Remarks  \\\n",
       "0  BCR2DN4TSCO3DNDR  checkin-nob             ADD  5-Aug-2022     Success   \n",
       "\n",
       "  Ingestion Date RWM Revisit Status RWM Revisit Date Revisit Expire Date  \\\n",
       "0     5-Aug-2022                NaN              NaN                 NaN   \n",
       "\n",
       "  Validity  Pincode  Phone Number City Cluster  Failed Upload RWM MID  \\\n",
       "0      NaN      NaN           NaN  NaN     NaN                    NaN   \n",
       "\n",
       "  csv Google MID Google csv Visit Date csv Validity  s no  \n",
       "0            NaN                   NaN          NaN     1  "
      ]
     },
     "execution_count": 4,
     "metadata": {},
     "output_type": "execute_result"
    }
   ],
   "source": [
    "dynamic_source_status.head(1)"
   ]
  },
  {
   "cell_type": "code",
   "execution_count": 5,
   "id": "ff7494a8",
   "metadata": {
    "scrolled": true
   },
   "outputs": [
    {
     "data": {
      "text/plain": [
       "1991413"
      ]
     },
     "execution_count": 5,
     "metadata": {},
     "output_type": "execute_result"
    }
   ],
   "source": [
    "len(dynamic_source_status)"
   ]
  },
  {
   "cell_type": "code",
   "execution_count": 6,
   "id": "c3e88057",
   "metadata": {},
   "outputs": [],
   "source": [
    "dynamic_source_status = dynamic_source_status[['MerchantId', 'Objectives', 'IngestionStatus' , 'Report Date', \n",
    "                                               \"Ingestion Date\",'RWM Remarks','Revisit Expire Date' ,'s no']]"
   ]
  },
  {
   "cell_type": "code",
   "execution_count": 7,
   "id": "11da9de2",
   "metadata": {},
   "outputs": [
    {
     "data": {
      "text/html": [
       "<div>\n",
       "<style scoped>\n",
       "    .dataframe tbody tr th:only-of-type {\n",
       "        vertical-align: middle;\n",
       "    }\n",
       "\n",
       "    .dataframe tbody tr th {\n",
       "        vertical-align: top;\n",
       "    }\n",
       "\n",
       "    .dataframe thead th {\n",
       "        text-align: right;\n",
       "    }\n",
       "</style>\n",
       "<table border=\"1\" class=\"dataframe\">\n",
       "  <thead>\n",
       "    <tr style=\"text-align: right;\">\n",
       "      <th></th>\n",
       "      <th>MerchantId</th>\n",
       "      <th>Objectives</th>\n",
       "      <th>IngestionStatus</th>\n",
       "      <th>Report Date</th>\n",
       "      <th>RWM Remarks</th>\n",
       "      <th>Ingestion Date</th>\n",
       "      <th>RWM Revisit Status</th>\n",
       "      <th>RWM Revisit Date</th>\n",
       "      <th>Revisit Expire Date</th>\n",
       "      <th>Validity</th>\n",
       "      <th>Pincode</th>\n",
       "      <th>Phone Number</th>\n",
       "      <th>City</th>\n",
       "      <th>Cluster</th>\n",
       "      <th>Failed Upload RWM MID</th>\n",
       "      <th>csv Google MID</th>\n",
       "      <th>Google csv Visit Date</th>\n",
       "      <th>csv Validity</th>\n",
       "      <th>s no</th>\n",
       "    </tr>\n",
       "  </thead>\n",
       "  <tbody>\n",
       "    <tr>\n",
       "      <th>0</th>\n",
       "      <td>BCR2DN4TSCO3DNDR</td>\n",
       "      <td>checkin-nob</td>\n",
       "      <td>ADD</td>\n",
       "      <td>5-Aug-2022</td>\n",
       "      <td>Success</td>\n",
       "      <td>5-Aug-2022</td>\n",
       "      <td>NaN</td>\n",
       "      <td>NaN</td>\n",
       "      <td>NaN</td>\n",
       "      <td>NaN</td>\n",
       "      <td>NaN</td>\n",
       "      <td>NaN</td>\n",
       "      <td>NaN</td>\n",
       "      <td>NaN</td>\n",
       "      <td>NaN</td>\n",
       "      <td>NaN</td>\n",
       "      <td>NaN</td>\n",
       "      <td>NaN</td>\n",
       "      <td>1</td>\n",
       "    </tr>\n",
       "  </tbody>\n",
       "</table>\n",
       "</div>"
      ],
      "text/plain": [
       "         MerchantId   Objectives IngestionStatus Report Date RWM Remarks  \\\n",
       "0  BCR2DN4TSCO3DNDR  checkin-nob             ADD  5-Aug-2022     Success   \n",
       "\n",
       "  Ingestion Date RWM Revisit Status RWM Revisit Date Revisit Expire Date  \\\n",
       "0     5-Aug-2022                NaN              NaN                 NaN   \n",
       "\n",
       "  Validity  Pincode  Phone Number City Cluster  Failed Upload RWM MID  \\\n",
       "0      NaN      NaN           NaN  NaN     NaN                    NaN   \n",
       "\n",
       "  csv Google MID Google csv Visit Date csv Validity  s no  \n",
       "0            NaN                   NaN          NaN     1  "
      ]
     },
     "execution_count": 7,
     "metadata": {},
     "output_type": "execute_result"
    }
   ],
   "source": [
    "dynamic_source_revisit_done.head(1)"
   ]
  },
  {
   "cell_type": "code",
   "execution_count": 13,
   "id": "16ed08de",
   "metadata": {},
   "outputs": [
    {
     "data": {
      "text/plain": [
       "1718725"
      ]
     },
     "execution_count": 13,
     "metadata": {},
     "output_type": "execute_result"
    }
   ],
   "source": [
    "len(dynamic_source_revisit_done)"
   ]
  },
  {
   "cell_type": "code",
   "execution_count": 9,
   "id": "d3d72a6f",
   "metadata": {},
   "outputs": [],
   "source": [
    "dynamic_source_revisit_done_f = dynamic_source_revisit_done[['s no', 'RWM Revisit Status', 'RWM Revisit Date',\n",
    "                            'Validity', 'Pincode', 'Phone Number', 'City', 'Cluster', 'Failed Upload RWM MID',\n",
    "                            'csv Google MID', 'Google csv Visit Date', 'csv Validity']]"
   ]
  },
  {
   "cell_type": "code",
   "execution_count": 10,
   "id": "b3dd93c3",
   "metadata": {},
   "outputs": [],
   "source": [
    "dynamic_source_status_merge = dynamic_source_status.merge(dynamic_source_revisit_done_f, on='s no', how='left')"
   ]
  },
  {
   "cell_type": "code",
   "execution_count": 11,
   "id": "ef63cd74",
   "metadata": {},
   "outputs": [],
   "source": [
    "dynamic_source_status_merge.drop_duplicates(subset=['s no'], inplace=True)"
   ]
  },
  {
   "cell_type": "code",
   "execution_count": 12,
   "id": "b653b6a0",
   "metadata": {},
   "outputs": [],
   "source": [
    "dynamic_source_status_merge.to_csv(output_loc+'Dynamic_source.csv', index=False)"
   ]
  },
  {
   "cell_type": "code",
   "execution_count": 14,
   "id": "19dacf10",
   "metadata": {},
   "outputs": [
    {
     "data": {
      "text/plain": [
       "(1991413, 19)"
      ]
     },
     "execution_count": 14,
     "metadata": {},
     "output_type": "execute_result"
    }
   ],
   "source": [
    "dynamic_source_status_merge.shape"
   ]
  },
  {
   "cell_type": "code",
   "execution_count": null,
   "id": "450dc96b",
   "metadata": {},
   "outputs": [],
   "source": []
  }
 ],
 "metadata": {
  "kernelspec": {
   "display_name": "Python 3 (ipykernel)",
   "language": "python",
   "name": "python3"
  },
  "language_info": {
   "codemirror_mode": {
    "name": "ipython",
    "version": 3
   },
   "file_extension": ".py",
   "mimetype": "text/x-python",
   "name": "python",
   "nbconvert_exporter": "python",
   "pygments_lexer": "ipython3",
   "version": "3.10.6"
  }
 },
 "nbformat": 4,
 "nbformat_minor": 5
}
