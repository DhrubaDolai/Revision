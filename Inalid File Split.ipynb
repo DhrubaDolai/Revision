{
 "cells": [
  {
   "cell_type": "code",
   "execution_count": 1,
   "id": "7086937a",
   "metadata": {},
   "outputs": [],
   "source": [
    "import pandas as pd\n",
    "import numpy as np\n",
    "import xlsxwriter as xw\n",
    "import re\n",
    "import warnings\n",
    "warnings.filterwarnings('ignore')\n",
    "import openpyxl as op\n",
    "from openpyxl import Workbook, load_workbook\n",
    "from openpyxl.styles import PatternFill, Border, Side, Alignment, Protection, Font\n",
    "import os\n",
    "import glob\n",
    "import calendar\n",
    "from datetime import date, timedelta, datetime"
   ]
  },
  {
   "cell_type": "code",
   "execution_count": 31,
   "id": "024d7140",
   "metadata": {},
   "outputs": [],
   "source": [
    "month_n = \"Jul\"\n",
    "year = 2023\n",
    "Filter_date = [f'{month_n}-17-{year}']"
   ]
  },
  {
   "cell_type": "code",
   "execution_count": 32,
   "id": "d824b7f8",
   "metadata": {},
   "outputs": [],
   "source": [
    "input_loc = \"/home/dhrubakumardolai/Desktop/Python Test/Rahul/Payout Remarks/Target Invalid/\"\n",
    "output_loc = f\"/home/dhrubakumardolai/Desktop/Python Test/Rahul/Payout Remarks/Result/{year}/{month_n}/Invalid Split/\""
   ]
  },
  {
   "cell_type": "code",
   "execution_count": 33,
   "id": "3bbaea97",
   "metadata": {},
   "outputs": [],
   "source": [
    "filelist = glob.glob(input_loc+\"*\", recursive=True)"
   ]
  },
  {
   "cell_type": "code",
   "execution_count": 35,
   "id": "51e04bab",
   "metadata": {},
   "outputs": [],
   "source": [
    "invalid_file = pd.DataFrame()\n",
    "for i in filelist:\n",
    "    df = pd.read_csv(i)\n",
    "    df = df[['City Name','Merchant ID','Merchant Name','Owner Mobile No.','PIN Code','Visit By','Employee Code','Role Name','POD Name','POD ID','Revisit Date',\n",
    "'Revisit Time','Team Lead Name','Remarks','QR Code String','Merchant Ext ID','Is in Google Daily File?','CompletedSubTaskTypes','Task Count',\n",
    "'Source Data picekd from?','cluster','Final Remark','Validity','Invalid Reason','Image Found New','Merchant Name Matched/ Unmatched',' SS Time Format',\n",
    "'SS Time Vs Revisit Time (15 mins)','Invalid/ Valid (Time Matched)','Hustle_Completion_Image']]\n",
    "    invalid_file = invalid_file.append(df)"
   ]
  },
  {
   "cell_type": "code",
   "execution_count": 36,
   "id": "da2757c4",
   "metadata": {},
   "outputs": [],
   "source": [
    "Cluster = invalid_file[\"cluster\"].unique()"
   ]
  },
  {
   "cell_type": "code",
   "execution_count": 37,
   "id": "5c26a858",
   "metadata": {},
   "outputs": [],
   "source": [
    "invalid_file_f = invalid_file[invalid_file[\"Revisit Date\"].isin(Filter_date)]"
   ]
  },
  {
   "cell_type": "code",
   "execution_count": 38,
   "id": "56f946b9",
   "metadata": {},
   "outputs": [],
   "source": [
    "for i in Cluster:\n",
    "    invalid_file_f[invalid_file_f['cluster'].isin([i])].to_csv(output_loc+\"Cluster Filter/\"+f'{i}'+\".csv\", index=False)"
   ]
  },
  {
   "cell_type": "code",
   "execution_count": 39,
   "id": "232ed1c9",
   "metadata": {},
   "outputs": [],
   "source": [
    "for i in Cluster:\n",
    "    invalid_file[invalid_file['cluster'].isin([i])].to_csv(output_loc+\"Cluster Consolidate/\"+f'{i}'+\".csv\", index=False)"
   ]
  }
 ],
 "metadata": {
  "kernelspec": {
   "display_name": "Python 3 (ipykernel)",
   "language": "python",
   "name": "python3"
  },
  "language_info": {
   "codemirror_mode": {
    "name": "ipython",
    "version": 3
   },
   "file_extension": ".py",
   "mimetype": "text/x-python",
   "name": "python",
   "nbconvert_exporter": "python",
   "pygments_lexer": "ipython3",
   "version": "3.10.6"
  },
  "vscode": {
   "interpreter": {
    "hash": "916dbcbb3f70747c44a77c7bcd40155683ae19c65e1c03b4aa3499c5328201f1"
   }
  }
 },
 "nbformat": 4,
 "nbformat_minor": 5
}
