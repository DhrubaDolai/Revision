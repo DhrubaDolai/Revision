{
 "cells": [
  {
   "cell_type": "code",
   "execution_count": 1,
   "id": "7086937a",
   "metadata": {},
   "outputs": [],
   "source": [
    "import pandas as pd\n",
    "import numpy as np\n",
    "import xlsxwriter as xw\n",
    "import re\n",
    "import warnings\n",
    "warnings.filterwarnings('ignore')\n",
    "import openpyxl as op\n",
    "from openpyxl import Workbook, load_workbook\n",
    "from openpyxl.styles import PatternFill, Border, Side, Alignment, Protection, Font\n",
    "import os\n",
    "import glob\n",
    "import calendar\n",
    "from datetime import date, timedelta, datetime"
   ]
  },
  {
   "cell_type": "code",
   "execution_count": 2,
   "id": "877e2e45",
   "metadata": {},
   "outputs": [],
   "source": [
    "Date_n_ob_no_change = \"32\"\n",
    "Date_n = Date_n_ob_no_change\n",
    "current_year = \"2023\"\n",
    "current_month = \"Jul\"\n",
    "Month_f = current_month\n",
    "Month_n = \"07\"\n",
    "current_date = [f\"{current_month}-{Date_n}-{current_year}\"]"
   ]
  },
  {
   "cell_type": "code",
   "execution_count": 3,
   "id": "ebd2ca5b",
   "metadata": {},
   "outputs": [],
   "source": [
    "#Data_Not_Available_Date = ['32-Jun-2023']   #If the data is not available for more then one day then use the this code "
   ]
  },
  {
   "cell_type": "code",
   "execution_count": 4,
   "id": "0fbaf48d",
   "metadata": {},
   "outputs": [],
   "source": [
    "today_date = date.today().day\n",
    "today_month = date.today().month\n",
    "today_month_abbr = calendar.month_abbr[today_month]\n",
    "today_year = date.today().year\n",
    "Data_Not_Available_Date = [f\"{today_date-1}-{today_month_abbr}-{current_year}\"]"
   ]
  },
  {
   "cell_type": "code",
   "execution_count": 5,
   "id": "825f2788",
   "metadata": {},
   "outputs": [],
   "source": [
    "input_loc = \"/home/dhrubakumardolai/Desktop/Python Test/Rahul/Payout Remarks/Target Consolidated/\"\n",
    "output_loc = \"/home/dhrubakumardolai/Desktop/Python Test/Rahul/Payout Remarks/Result/\"\n",
    "input_loc_ob = f\"/home/dhrubakumardolai/Desktop/Python Test/Rahul/Is in OB?/Target/latest ob/{current_year}/{current_month}/\"\n",
    "input_loc_form = f\"/home/dhrubakumardolai/Desktop/Python Test/All Sql Ingestion Script/Google + RWM Revisit + Visit/Result/RWM/{current_year}/{Month_f}/\"\n",
    "input_loc_form_2 = \"/home/dhrubakumardolai/Desktop/Python Test/Rahul/Task File Rahul Sir/Form Data Append/Target/\"\n",
    "input_loc_revisit_con = f\"/home/dhrubakumardolai/Desktop/Python Test/Result/Revisit File/{current_year}/{current_month}/Form/\"\n",
    "input_loc_ob_google = f\"/home/dhrubakumardolai/Desktop/Python Test/Revisit File/Google Revisit/{current_year}/{Month_n}/\"\n",
    "input_loc_tv = f'/home/dhrubakumardolai/Desktop/Python Test/Target/Mini/Latest Team View File/{current_year}/{current_month}/'\n",
    "input_loc_mini = \"/home/dhrubakumardolai/Desktop/Python Test/Target/Mini/\"\n",
    "input_loc_tv = f\"/home/dhrubakumardolai/Desktop/Python Test/Target/Mini/Latest Team View File/{current_year}/{current_month}/\"\n",
    "input_loc_ob_rwm = f\"/home/dhrubakumardolai/Desktop/Python Test/Revisit File/OB/{current_year}/{Month_f}/{Date_n}/\"\n",
    "output_loc = f\"/home/dhrubakumardolai/Desktop/Python Test/Rahul/Payout Remarks/Result/{current_year}/{current_month}/\""
   ]
  },
  {
   "cell_type": "code",
   "execution_count": 6,
   "id": "e6bbafa5",
   "metadata": {},
   "outputs": [],
   "source": [
    "def fill_task(row2):\n",
    "    if row2['Is in Google Daily File?'] == \"Yes\" and row2['CompletedSubTaskTypes'] is np.nan:\n",
    "        return 0\n",
    "    else:\n",
    "        return row2['Task Count']"
   ]
  },
  {
   "cell_type": "code",
   "execution_count": 7,
   "id": "61b09990",
   "metadata": {},
   "outputs": [],
   "source": [
    "def fill_ob_csv_file(row2, col_name):\n",
    "    if row2[\"Validity_ob\"] in [\"INVALID\",\"VALID\"]:\n",
    "        return \"Yes\"\n",
    "    else:\n",
    "        return row2[col_name]"
   ]
  },
  {
   "cell_type": "code",
   "execution_count": 8,
   "id": "46cc9c6c",
   "metadata": {},
   "outputs": [],
   "source": [
    "def drop_rename(row3, old_name, new_name):\n",
    "    row3 = row3.drop([old_name], axis=1)\n",
    "    row3 = row3.rename(columns={new_name:old_name})\n",
    "    return row3"
   ]
  },
  {
   "cell_type": "code",
   "execution_count": 9,
   "id": "ca3a3361",
   "metadata": {},
   "outputs": [],
   "source": [
    "def left_join_date_wise(left_table, left_date, right_table, right_date,\n",
    " common_col, merge_table_name, new_column_name, Date):\n",
    "    merge_table_name = pd.DataFrame()\n",
    "    for i in Date:\n",
    "        t = left_table[left_table[left_date].isin([i])]\n",
    "        m = right_table[right_table[right_date].isin([i])]\n",
    "        t_merge = t.merge(m, on = common_col, how=\"left\", indicator=True)\n",
    "        t_merge.drop_duplicates(subset=['Primary_key'], inplace=True)\n",
    "        t_merge.rename(columns={'_merge':new_column_name}, inplace=True)\n",
    "        t_merge[new_column_name].replace('left_only', \"No\", inplace=True)\n",
    "        t_merge[new_column_name].replace('both', \"Yes\", inplace=True)\n",
    "        merge_table_name = merge_table_name.append(t_merge)\n",
    "    return merge_table_name"
   ]
  },
  {
   "cell_type": "code",
   "execution_count": 10,
   "id": "c816057b",
   "metadata": {},
   "outputs": [],
   "source": [
    "def left_join_date_wise_mid(left_table, left_date, right_table, right_date,\n",
    " common_col, merge_table_name, new_column_name, Date):\n",
    "    merge_table_name = pd.DataFrame()\n",
    "    for i in Date:\n",
    "        t = left_table[left_table[left_date].isin([i])]\n",
    "        m = right_table[~right_table[right_date].isin([i])]\n",
    "        t_merge = t.merge(m, on = common_col, how=\"left\", indicator=True)\n",
    "        t_merge.drop_duplicates(subset=['sno'], inplace=True)\n",
    "        t_merge.rename(columns={'_merge':new_column_name}, inplace=True)\n",
    "        t_merge[new_column_name].replace('left_only', \"No\", inplace=True)\n",
    "        t_merge[new_column_name].replace('both', \"Yes\", inplace=True)\n",
    "        merge_table_name = merge_table_name.append(t_merge)\n",
    "    return merge_table_name"
   ]
  },
  {
   "cell_type": "code",
   "execution_count": 11,
   "id": "fa92c62b",
   "metadata": {},
   "outputs": [],
   "source": [
    "def check_source_mid(row4, source_mid_col, mexternalid_col):\n",
    "    if row4[source_mid_col] is np.nan:\n",
    "        return np.nan\n",
    "    elif row4[source_mid_col] == row4[mexternalid_col]:\n",
    "        return \"TRUE\"\n",
    "    else:\n",
    "        return \"FALSE\""
   ]
  },
  {
   "cell_type": "code",
   "execution_count": 12,
   "id": "2d6e8090",
   "metadata": {},
   "outputs": [],
   "source": [
    "def left_join_indicator(left_table, right_table, common_col, indicator_True_False, \n",
    "left_only, both, new_column_name):\n",
    "    left_table_merge = left_table.merge(right_table, how='left',on = common_col, indicator=indicator_True_False)\n",
    "    left_table_merge.drop_duplicates(subset=['Primary_key'], inplace=True)\n",
    "    left_table_merge.rename(columns={\"_merge\":new_column_name}, inplace=True)\n",
    "    left_table_merge[new_column_name].replace('left_only', left_only, inplace=True)\n",
    "    left_table_merge[new_column_name].replace('both', both, inplace=True)\n",
    "    return left_table_merge"
   ]
  },
  {
   "cell_type": "code",
   "execution_count": 13,
   "id": "9ce84f2c",
   "metadata": {},
   "outputs": [],
   "source": [
    "def Already_Paid(row5, Previous_Match_No_Match_col, Previous_Date_col, Ingestion_Date_col):\n",
    "    if row5[Previous_Match_No_Match_col] == \"No Match\":\n",
    "        return np.nan\n",
    "    elif row5[Previous_Match_No_Match_col] == \"Match\" and row5[Ingestion_Date_col] == np.NaN:\n",
    "        return np.nan\n",
    "    elif pd.to_datetime(row5[Previous_Date_col]) >= pd.to_datetime(row5[Ingestion_Date_col]):\n",
    "        return \"Already Paid\"\n",
    "    else:\n",
    "        return np.nan\n"
   ]
  },
  {
   "attachments": {},
   "cell_type": "markdown",
   "id": "9f5f99cd",
   "metadata": {},
   "source": [
    "# Google File"
   ]
  },
  {
   "cell_type": "code",
   "execution_count": 14,
   "id": "e65a1fbf",
   "metadata": {},
   "outputs": [],
   "source": [
    "filelist = glob.glob(input_loc_revisit_con+\"/Google/Consolidated/*.csv\", recursive=True)"
   ]
  },
  {
   "cell_type": "code",
   "execution_count": 15,
   "id": "027b5880",
   "metadata": {},
   "outputs": [],
   "source": [
    "Google_file = pd.DataFrame()\n",
    "for i in filelist:\n",
    "    df = pd.read_csv(i)\n",
    "    Google_file = Google_file.append(df)\n"
   ]
  },
  {
   "cell_type": "code",
   "execution_count": 16,
   "id": "59a7fe34",
   "metadata": {},
   "outputs": [],
   "source": [
    "Google_file['TaskSubmissionTimestamp'] = pd.to_datetime(Google_file['TaskSubmissionTimestamp'])\n",
    "Google_file['TaskSubmissionTimestamp'] = Google_file['TaskSubmissionTimestamp'].dt.strftime(\"%d-%b-%Y\")"
   ]
  },
  {
   "cell_type": "code",
   "execution_count": 17,
   "id": "ad9ee1c5",
   "metadata": {},
   "outputs": [],
   "source": [
    "Google_file['Primary_key'] = range(1,(len(Google_file)+1))"
   ]
  },
  {
   "cell_type": "code",
   "execution_count": 18,
   "id": "0745760e",
   "metadata": {},
   "outputs": [
    {
     "data": {
      "text/html": [
       "<div>\n",
       "<style scoped>\n",
       "    .dataframe tbody tr th:only-of-type {\n",
       "        vertical-align: middle;\n",
       "    }\n",
       "\n",
       "    .dataframe tbody tr th {\n",
       "        vertical-align: top;\n",
       "    }\n",
       "\n",
       "    .dataframe thead th {\n",
       "        text-align: right;\n",
       "    }\n",
       "</style>\n",
       "<table border=\"1\" class=\"dataframe\">\n",
       "  <thead>\n",
       "    <tr style=\"text-align: right;\">\n",
       "      <th></th>\n",
       "      <th>StoreName</th>\n",
       "      <th>City</th>\n",
       "      <th>Pincode</th>\n",
       "      <th>StorePhoneNumber</th>\n",
       "      <th>OnboardingTimestamp</th>\n",
       "      <th>TaskSubmissionTimestamp</th>\n",
       "      <th>MerchantExternalId</th>\n",
       "      <th>CompletedSubTaskTypes</th>\n",
       "      <th>AdditionalQRs</th>\n",
       "      <th>AxisSTRCount</th>\n",
       "      <th>...</th>\n",
       "      <th>Dynamic IngestionStatus</th>\n",
       "      <th>Dynamic Ingestion Date</th>\n",
       "      <th>Source_MID</th>\n",
       "      <th>sno</th>\n",
       "      <th>Data Tag</th>\n",
       "      <th>Date</th>\n",
       "      <th>Report_Date</th>\n",
       "      <th>Revisit_Date</th>\n",
       "      <th>Dup</th>\n",
       "      <th>Primary_key</th>\n",
       "    </tr>\n",
       "  </thead>\n",
       "  <tbody>\n",
       "    <tr>\n",
       "      <th>0</th>\n",
       "      <td>Rajeswari General Store</td>\n",
       "      <td>Kadapa</td>\n",
       "      <td>516001</td>\n",
       "      <td>9849970176</td>\n",
       "      <td>5/27/2022 16:24:43</td>\n",
       "      <td>01-Jul-2023</td>\n",
       "      <td>BCR2DN4T2C22DCZU</td>\n",
       "      <td>VERIFY_MERCHANT, PROVISION_VPA, CAPTURE_ADDITI...</td>\n",
       "      <td>NaN</td>\n",
       "      <td>1.0</td>\n",
       "      <td>...</td>\n",
       "      <td>ADD</td>\n",
       "      <td>2023-02-03</td>\n",
       "      <td>NaN</td>\n",
       "      <td>100001</td>\n",
       "      <td>Google</td>\n",
       "      <td>01-07-2023</td>\n",
       "      <td>NaN</td>\n",
       "      <td>NaN</td>\n",
       "      <td>NaN</td>\n",
       "      <td>1</td>\n",
       "    </tr>\n",
       "  </tbody>\n",
       "</table>\n",
       "<p>1 rows × 53 columns</p>\n",
       "</div>"
      ],
      "text/plain": [
       "                 StoreName    City  Pincode  StorePhoneNumber  \\\n",
       "0  Rajeswari General Store  Kadapa   516001        9849970176   \n",
       "\n",
       "  OnboardingTimestamp TaskSubmissionTimestamp MerchantExternalId  \\\n",
       "0  5/27/2022 16:24:43             01-Jul-2023   BCR2DN4T2C22DCZU   \n",
       "\n",
       "                               CompletedSubTaskTypes  AdditionalQRs  \\\n",
       "0  VERIFY_MERCHANT, PROVISION_VPA, CAPTURE_ADDITI...            NaN   \n",
       "\n",
       "   AxisSTRCount  ...  Dynamic IngestionStatus  Dynamic Ingestion Date  \\\n",
       "0           1.0  ...                      ADD              2023-02-03   \n",
       "\n",
       "   Source_MID     sno  Data Tag        Date  Report_Date  Revisit_Date Dup  \\\n",
       "0         NaN  100001    Google  01-07-2023          NaN           NaN NaN   \n",
       "\n",
       "  Primary_key  \n",
       "0           1  \n",
       "\n",
       "[1 rows x 53 columns]"
      ]
     },
     "execution_count": 18,
     "metadata": {},
     "output_type": "execute_result"
    }
   ],
   "source": [
    "Google_file.head(1)"
   ]
  },
  {
   "cell_type": "code",
   "execution_count": null,
   "id": "2d169a72",
   "metadata": {},
   "outputs": [],
   "source": []
  },
  {
   "attachments": {},
   "cell_type": "markdown",
   "id": "4f264385",
   "metadata": {},
   "source": [
    "# RWM File"
   ]
  },
  {
   "cell_type": "code",
   "execution_count": 19,
   "id": "00bb0544",
   "metadata": {},
   "outputs": [],
   "source": [
    "filelist = glob.glob(input_loc_revisit_con+\"/RWM/Consolidated/*.csv\", recursive=True)"
   ]
  },
  {
   "cell_type": "code",
   "execution_count": 20,
   "id": "283bbee3",
   "metadata": {},
   "outputs": [],
   "source": [
    "RWM_file = pd.DataFrame()\n",
    "for i in filelist:\n",
    "    df = pd.read_csv(i)\n",
    "    RWM_file = RWM_file.append(df)"
   ]
  },
  {
   "cell_type": "code",
   "execution_count": 21,
   "id": "6ddee2b1",
   "metadata": {},
   "outputs": [],
   "source": [
    "RWM_file['Revisit Date'] = pd.to_datetime(RWM_file['Revisit Date'])\n",
    "RWM_file['Revisit Date'] = RWM_file['Revisit Date'].dt.strftime(\"%d-%b-%Y\")\n",
    "Date_for_mapping = RWM_file['Revisit Date'].unique()"
   ]
  },
  {
   "cell_type": "code",
   "execution_count": 22,
   "id": "6b1cbfd0",
   "metadata": {},
   "outputs": [],
   "source": [
    "RWM_file['Primary_key'] = range(1,(len(RWM_file)+1))"
   ]
  },
  {
   "cell_type": "code",
   "execution_count": 23,
   "id": "ab65fcb5",
   "metadata": {},
   "outputs": [
    {
     "data": {
      "text/html": [
       "<div>\n",
       "<style scoped>\n",
       "    .dataframe tbody tr th:only-of-type {\n",
       "        vertical-align: middle;\n",
       "    }\n",
       "\n",
       "    .dataframe tbody tr th {\n",
       "        vertical-align: top;\n",
       "    }\n",
       "\n",
       "    .dataframe thead th {\n",
       "        text-align: right;\n",
       "    }\n",
       "</style>\n",
       "<table border=\"1\" class=\"dataframe\">\n",
       "  <thead>\n",
       "    <tr style=\"text-align: right;\">\n",
       "      <th></th>\n",
       "      <th>City Name</th>\n",
       "      <th>Merchant ID</th>\n",
       "      <th>Merchant Name</th>\n",
       "      <th>Visit Count</th>\n",
       "      <th>Business Category</th>\n",
       "      <th>Owner Mobile No.</th>\n",
       "      <th>Follow Up Date</th>\n",
       "      <th>PIN Code</th>\n",
       "      <th>On Boarding Date</th>\n",
       "      <th>On Boarding Time</th>\n",
       "      <th>...</th>\n",
       "      <th>Source_MID</th>\n",
       "      <th>Hustle Task Completion Image</th>\n",
       "      <th>Data Tag</th>\n",
       "      <th>Unnamed: 33</th>\n",
       "      <th>sno</th>\n",
       "      <th>Dup_MerchantID</th>\n",
       "      <th>Report_Date</th>\n",
       "      <th>Revisit_Date</th>\n",
       "      <th>Dup</th>\n",
       "      <th>Primary_key</th>\n",
       "    </tr>\n",
       "  </thead>\n",
       "  <tbody>\n",
       "    <tr>\n",
       "      <th>0</th>\n",
       "      <td>Bardhaman</td>\n",
       "      <td>9518165</td>\n",
       "      <td>KALIMATA MOBILE SERVICE CENTER</td>\n",
       "      <td>2.0</td>\n",
       "      <td>Service</td>\n",
       "      <td>9641025856</td>\n",
       "      <td>NaN</td>\n",
       "      <td>713502.0</td>\n",
       "      <td>Jun-27-2023</td>\n",
       "      <td>10:49:01</td>\n",
       "      <td>...</td>\n",
       "      <td>NaN</td>\n",
       "      <td>http://imagev1.fleetrobo.com/App_Images/FSTSIm...</td>\n",
       "      <td>RWM</td>\n",
       "      <td>NaN</td>\n",
       "      <td>100001</td>\n",
       "      <td>NaN</td>\n",
       "      <td>NaN</td>\n",
       "      <td>NaN</td>\n",
       "      <td>NaN</td>\n",
       "      <td>1</td>\n",
       "    </tr>\n",
       "  </tbody>\n",
       "</table>\n",
       "<p>1 rows × 70 columns</p>\n",
       "</div>"
      ],
      "text/plain": [
       "   City Name  Merchant ID                   Merchant Name  Visit Count  \\\n",
       "0  Bardhaman      9518165  KALIMATA MOBILE SERVICE CENTER          2.0   \n",
       "\n",
       "  Business Category  Owner Mobile No.  Follow Up Date  PIN Code  \\\n",
       "0           Service        9641025856             NaN  713502.0   \n",
       "\n",
       "  On Boarding Date On Boarding Time  ...  Source_MID  \\\n",
       "0      Jun-27-2023         10:49:01  ...         NaN   \n",
       "\n",
       "                        Hustle Task Completion Image  Data Tag Unnamed: 33  \\\n",
       "0  http://imagev1.fleetrobo.com/App_Images/FSTSIm...       RWM         NaN   \n",
       "\n",
       "      sno  Dup_MerchantID Report_Date Revisit_Date Dup Primary_key  \n",
       "0  100001             NaN         NaN          NaN NaN           1  \n",
       "\n",
       "[1 rows x 70 columns]"
      ]
     },
     "execution_count": 23,
     "metadata": {},
     "output_type": "execute_result"
    }
   ],
   "source": [
    "RWM_file.head(1)"
   ]
  },
  {
   "cell_type": "code",
   "execution_count": null,
   "id": "f5d89a55",
   "metadata": {},
   "outputs": [],
   "source": []
  },
  {
   "attachments": {},
   "cell_type": "markdown",
   "id": "6862a307",
   "metadata": {},
   "source": [
    "# OB_Invalid Mapping for Date and Validity"
   ]
  },
  {
   "cell_type": "code",
   "execution_count": 24,
   "id": "844d62a4",
   "metadata": {},
   "outputs": [],
   "source": [
    "filelist = glob.glob(input_loc_ob+\"/*.csv\", recursive=True)"
   ]
  },
  {
   "cell_type": "code",
   "execution_count": 25,
   "id": "1df03a2f",
   "metadata": {},
   "outputs": [],
   "source": [
    "ob_con = pd.DataFrame()\n",
    "for i in filelist:\n",
    "    df = pd.read_csv(i)\n",
    "    ob_con = ob_con.append(df)"
   ]
  },
  {
   "cell_type": "code",
   "execution_count": 26,
   "id": "f304060c",
   "metadata": {},
   "outputs": [],
   "source": [
    "ob_con['VerificationTimestamp'] = pd.to_datetime(ob_con['VerificationTimestamp'])\n",
    "ob_con['VerificationTimestamp'] = ob_con['VerificationTimestamp'].dt.strftime('%d-%b-%Y')"
   ]
  },
  {
   "cell_type": "code",
   "execution_count": 27,
   "id": "0d3dc0c1",
   "metadata": {},
   "outputs": [],
   "source": [
    "ob_con_f = ob_con[ob_con['VerificationTimestamp'].str.contains(f\"{current_month}\")]"
   ]
  },
  {
   "cell_type": "code",
   "execution_count": 28,
   "id": "1ff27a05",
   "metadata": {},
   "outputs": [],
   "source": [
    "ob_con_f2 = ob_con_f[['MerchantExternalId', 'VerificationTimestamp', 'Validity']].rename(\n",
    "    columns={'Validity':'Validity_ob'})"
   ]
  },
  {
   "cell_type": "code",
   "execution_count": 29,
   "id": "7ade1df2",
   "metadata": {},
   "outputs": [],
   "source": [
    "RWM_file.rename(columns={'Merchant Ext ID':'MerchantExternalId'}, inplace=True)"
   ]
  },
  {
   "cell_type": "code",
   "execution_count": 30,
   "id": "3f070f53",
   "metadata": {},
   "outputs": [],
   "source": [
    "RWM_file_2 = pd.DataFrame()\n",
    "RWM_file_2 = left_join_date_wise(RWM_file, 'Revisit Date', ob_con_f2, 'VerificationTimestamp',\n",
    " 'MerchantExternalId', RWM_file_2, 'Is_in_OB_CSV_file', Date_for_mapping)"
   ]
  },
  {
   "attachments": {},
   "cell_type": "markdown",
   "id": "74f8a392",
   "metadata": {},
   "source": [
    "# OB_Google_Invalid Mapping for Date and Validity"
   ]
  },
  {
   "cell_type": "code",
   "execution_count": 31,
   "id": "0aa9eac3",
   "metadata": {},
   "outputs": [],
   "source": [
    "filelist = glob.glob(input_loc_ob_google+\"**/*/onboardings/data-00000-of-00001.csv\", recursive = True)"
   ]
  },
  {
   "cell_type": "code",
   "execution_count": 32,
   "id": "92bf716e",
   "metadata": {},
   "outputs": [],
   "source": [
    "google_csv_ob = pd.DataFrame()\n",
    "\n",
    "for file in filelist:\n",
    "    if file.endswith(\".csv\"):\n",
    "        df = pd.read_csv(file)\n",
    "        google_csv_ob = google_csv_ob.append(df)"
   ]
  },
  {
   "cell_type": "code",
   "execution_count": 33,
   "id": "67b936f1",
   "metadata": {},
   "outputs": [],
   "source": [
    "google_csv_ob['VerificationTimestamp'] = pd.to_datetime(google_csv_ob['VerificationTimestamp'])\n",
    "google_csv_ob['VerificationTimestamp'] = google_csv_ob['VerificationTimestamp'].dt.strftime('%d-%b-%Y')"
   ]
  },
  {
   "cell_type": "code",
   "execution_count": 34,
   "id": "d552fc29",
   "metadata": {},
   "outputs": [],
   "source": [
    "google_csv_ob_f = google_csv_ob[google_csv_ob['VerificationTimestamp'].str.contains(f\"{current_month}\")]"
   ]
  },
  {
   "cell_type": "code",
   "execution_count": 35,
   "id": "20aa1faf",
   "metadata": {},
   "outputs": [],
   "source": [
    "google_csv_ob_f2 = google_csv_ob_f[['MerchantExternalId', 'VerificationTimestamp', 'Validity']].rename(\n",
    "    columns={'Validity':'Validity_google_ob'})"
   ]
  },
  {
   "cell_type": "code",
   "execution_count": 36,
   "id": "df5bb33b",
   "metadata": {},
   "outputs": [],
   "source": [
    "RWM_file_3 = pd.DataFrame()\n",
    "RWM_file_3 = left_join_date_wise(RWM_file_2, 'Revisit Date', google_csv_ob_f2, 'VerificationTimestamp',\n",
    " 'MerchantExternalId', RWM_file_3, 'Is_in_OB_Google_CSV_file', Date_for_mapping)"
   ]
  },
  {
   "cell_type": "code",
   "execution_count": 37,
   "id": "8e779114",
   "metadata": {},
   "outputs": [],
   "source": [
    "RWM_file_3['VerificationTimestamp_x'].fillna(RWM_file_3['VerificationTimestamp_y'], inplace=True)\n",
    "RWM_file_3['Is_in_OB_CSV_file'].replace(\"No\", \"\", inplace=True)\n",
    "RWM_file_3['Is_in_OB_CSV_file'] = RWM_file_3['Is_in_OB_CSV_file'].astype('str')\n",
    "RWM_file_3['Is_in_OB_CSV_file'].fillna(RWM_file_3['Is_in_OB_Google_CSV_file'], inplace=True)\n",
    "RWM_file_3['Validity_ob'].fillna(RWM_file_3['Validity_google_ob'], inplace=True)\n",
    "RWM_file_3.drop(['VerificationTimestamp_y', 'Is_in_OB_Google_CSV_file', \n",
    "'Validity_google_ob'], axis=1, inplace=True)"
   ]
  },
  {
   "cell_type": "code",
   "execution_count": 38,
   "id": "6295c30d",
   "metadata": {},
   "outputs": [],
   "source": [
    "RWM_file_3.rename(columns={'VerificationTimestamp_x':'OB_Date'}, inplace=True)"
   ]
  },
  {
   "cell_type": "code",
   "execution_count": 39,
   "id": "48e8f1f9",
   "metadata": {},
   "outputs": [],
   "source": [
    "RWM_file_3['Validity_ob'] = RWM_file_3['Validity_ob'].str.replace(\" \", \"\", regex=True)"
   ]
  },
  {
   "cell_type": "code",
   "execution_count": 40,
   "id": "aca3dcd4",
   "metadata": {},
   "outputs": [],
   "source": [
    "RWM_file_3['Validity_ob_2'] = RWM_file_3.apply(fill_ob_csv_file, axis=1, args=(\"Validity_ob\",))"
   ]
  },
  {
   "cell_type": "code",
   "execution_count": 41,
   "id": "8fc547de",
   "metadata": {},
   "outputs": [],
   "source": [
    "RWM_file_4 = drop_rename(RWM_file_3, 'Is_in_OB_CSV_file', 'Validity_ob_2')"
   ]
  },
  {
   "cell_type": "code",
   "execution_count": 42,
   "id": "44085929",
   "metadata": {},
   "outputs": [],
   "source": [
    "RWM_file_4['Source MID Match Check'] = RWM_file_4.apply(check_source_mid, args=(\"Source_MID\", \n",
    "\"MerchantExternalId\"), axis=1)"
   ]
  },
  {
   "attachments": {},
   "cell_type": "markdown",
   "id": "892580b1",
   "metadata": {},
   "source": [
    "# RWM OB Date and Validity Remarks"
   ]
  },
  {
   "cell_type": "code",
   "execution_count": 43,
   "id": "a521d1d6",
   "metadata": {},
   "outputs": [],
   "source": [
    "rwm_ob_validity = pd.read_csv(input_loc_ob_rwm+\"Is Suspicious_Updated.csv\")"
   ]
  },
  {
   "cell_type": "code",
   "execution_count": 44,
   "id": "2cf668ca",
   "metadata": {},
   "outputs": [
    {
     "data": {
      "text/html": [
       "<div>\n",
       "<style scoped>\n",
       "    .dataframe tbody tr th:only-of-type {\n",
       "        vertical-align: middle;\n",
       "    }\n",
       "\n",
       "    .dataframe tbody tr th {\n",
       "        vertical-align: top;\n",
       "    }\n",
       "\n",
       "    .dataframe thead th {\n",
       "        text-align: right;\n",
       "    }\n",
       "</style>\n",
       "<table border=\"1\" class=\"dataframe\">\n",
       "  <thead>\n",
       "    <tr style=\"text-align: right;\">\n",
       "      <th></th>\n",
       "      <th>Merchant ID</th>\n",
       "      <th>Is Suspicious</th>\n",
       "      <th>Final</th>\n",
       "    </tr>\n",
       "  </thead>\n",
       "  <tbody>\n",
       "    <tr>\n",
       "      <th>0</th>\n",
       "      <td>9531548</td>\n",
       "      <td>No</td>\n",
       "      <td>Valid</td>\n",
       "    </tr>\n",
       "  </tbody>\n",
       "</table>\n",
       "</div>"
      ],
      "text/plain": [
       "   Merchant ID Is Suspicious  Final\n",
       "0      9531548            No  Valid"
      ]
     },
     "execution_count": 44,
     "metadata": {},
     "output_type": "execute_result"
    }
   ],
   "source": [
    "rwm_ob_validity.head(1)"
   ]
  },
  {
   "cell_type": "code",
   "execution_count": 45,
   "id": "a62e4937",
   "metadata": {},
   "outputs": [],
   "source": [
    "rwm_ob_validity_f = rwm_ob_validity[['Merchant ID', 'Final']]"
   ]
  },
  {
   "cell_type": "code",
   "execution_count": 46,
   "id": "d1726685",
   "metadata": {},
   "outputs": [],
   "source": [
    "External_Gpay_fos = pd.read_csv(input_loc_ob_rwm+\"External Gpay FOS Backend_Trail - Gpay Internal.csv\")"
   ]
  },
  {
   "cell_type": "code",
   "execution_count": 47,
   "id": "6b060e22",
   "metadata": {},
   "outputs": [],
   "source": [
    "External_Gpay_fos_f = External_Gpay_fos[['On Boarding Date', 'Owner Mob No', 'Merchant ID']]"
   ]
  },
  {
   "cell_type": "code",
   "execution_count": 48,
   "id": "ac842c99",
   "metadata": {},
   "outputs": [],
   "source": [
    "External_Gpay_fos_f['On Boarding Date'] = pd.to_datetime(External_Gpay_fos_f['On Boarding Date'])\n",
    "External_Gpay_fos_f['On Boarding Date'] = External_Gpay_fos_f['On Boarding Date'].dt.strftime(\"%d-%b-%Y\")"
   ]
  },
  {
   "cell_type": "code",
   "execution_count": 49,
   "id": "79e6604d",
   "metadata": {},
   "outputs": [],
   "source": [
    "External_Gpay_fos_f_merge = External_Gpay_fos_f.merge(rwm_ob_validity_f, on=\"Merchant ID\", how=\"left\")"
   ]
  },
  {
   "cell_type": "code",
   "execution_count": 50,
   "id": "540935b6",
   "metadata": {},
   "outputs": [
    {
     "data": {
      "text/html": [
       "<div>\n",
       "<style scoped>\n",
       "    .dataframe tbody tr th:only-of-type {\n",
       "        vertical-align: middle;\n",
       "    }\n",
       "\n",
       "    .dataframe tbody tr th {\n",
       "        vertical-align: top;\n",
       "    }\n",
       "\n",
       "    .dataframe thead th {\n",
       "        text-align: right;\n",
       "    }\n",
       "</style>\n",
       "<table border=\"1\" class=\"dataframe\">\n",
       "  <thead>\n",
       "    <tr style=\"text-align: right;\">\n",
       "      <th></th>\n",
       "      <th>On Boarding Date</th>\n",
       "      <th>Owner Mob No</th>\n",
       "      <th>Merchant ID</th>\n",
       "      <th>Final</th>\n",
       "    </tr>\n",
       "  </thead>\n",
       "  <tbody>\n",
       "    <tr>\n",
       "      <th>0</th>\n",
       "      <td>01-Jul-2023</td>\n",
       "      <td>BCR2DN4T53A4XX2V</td>\n",
       "      <td>9531548</td>\n",
       "      <td>Valid</td>\n",
       "    </tr>\n",
       "  </tbody>\n",
       "</table>\n",
       "</div>"
      ],
      "text/plain": [
       "  On Boarding Date      Owner Mob No  Merchant ID  Final\n",
       "0      01-Jul-2023  BCR2DN4T53A4XX2V      9531548  Valid"
      ]
     },
     "execution_count": 50,
     "metadata": {},
     "output_type": "execute_result"
    }
   ],
   "source": [
    "External_Gpay_fos_f_merge.head(1)"
   ]
  },
  {
   "cell_type": "code",
   "execution_count": 51,
   "id": "a9e0da01",
   "metadata": {},
   "outputs": [],
   "source": [
    "External_Gpay_fos_f_merge_f = External_Gpay_fos_f_merge[['Owner Mob No', 'Final', 'On Boarding Date']].rename(\n",
    "    columns={'On Boarding Date':'RWM OB Date', 'Owner Mob No':'MerchantExternalId'})"
   ]
  },
  {
   "cell_type": "code",
   "execution_count": 52,
   "id": "6452514e",
   "metadata": {},
   "outputs": [
    {
     "data": {
      "text/plain": [
       "0"
      ]
     },
     "execution_count": 52,
     "metadata": {},
     "output_type": "execute_result"
    }
   ],
   "source": [
    "len(External_Gpay_fos_f_merge) - len(External_Gpay_fos_f_merge['Owner Mob No'])"
   ]
  },
  {
   "attachments": {},
   "cell_type": "markdown",
   "id": "75ba1f23",
   "metadata": {},
   "source": [
    "# Already Paid with Google"
   ]
  },
  {
   "cell_type": "code",
   "execution_count": 53,
   "id": "2c11c362",
   "metadata": {},
   "outputs": [],
   "source": [
    "already_paid = pd.read_csv(input_loc_mini+\"Previous Valid.csv\")\n",
    "already_paid_2 = pd.read_csv(input_loc_mini+\"Previous Valid 2.csv\")"
   ]
  },
  {
   "cell_type": "code",
   "execution_count": 54,
   "id": "6a62570b",
   "metadata": {},
   "outputs": [],
   "source": [
    "already_paid['Date'] = pd.to_datetime(already_paid['TaskSubmissionTimestamp'])\n",
    "already_paid = already_paid[~already_paid['MerchantExternalId'].isin([np.nan])]\n",
    "already_paid['Date'].fillna(method='ffill', inplace=True)\n",
    "already_paid['Date'].fillna(method='bfill', inplace=True)\n",
    "already_paid['Date'] = already_paid['Date'].dt.strftime(\"%Y-%m-%d\")"
   ]
  },
  {
   "cell_type": "code",
   "execution_count": 55,
   "id": "6435fa46",
   "metadata": {},
   "outputs": [
    {
     "data": {
      "text/html": [
       "<div>\n",
       "<style scoped>\n",
       "    .dataframe tbody tr th:only-of-type {\n",
       "        vertical-align: middle;\n",
       "    }\n",
       "\n",
       "    .dataframe tbody tr th {\n",
       "        vertical-align: top;\n",
       "    }\n",
       "\n",
       "    .dataframe thead th {\n",
       "        text-align: right;\n",
       "    }\n",
       "</style>\n",
       "<table border=\"1\" class=\"dataframe\">\n",
       "  <thead>\n",
       "    <tr style=\"text-align: right;\">\n",
       "      <th></th>\n",
       "      <th>TaskSubmissionTimestamp</th>\n",
       "      <th>MerchantExternalId</th>\n",
       "      <th>Date</th>\n",
       "      <th>Validity</th>\n",
       "    </tr>\n",
       "  </thead>\n",
       "  <tbody>\n",
       "    <tr>\n",
       "      <th>0</th>\n",
       "      <td>07/06/22 11:26</td>\n",
       "      <td>BCR2DN4T2CA2D3JX</td>\n",
       "      <td>2022-07-06</td>\n",
       "      <td>VALID</td>\n",
       "    </tr>\n",
       "  </tbody>\n",
       "</table>\n",
       "</div>"
      ],
      "text/plain": [
       "  TaskSubmissionTimestamp MerchantExternalId        Date Validity\n",
       "0          07/06/22 11:26   BCR2DN4T2CA2D3JX  2022-07-06    VALID"
      ]
     },
     "execution_count": 55,
     "metadata": {},
     "output_type": "execute_result"
    }
   ],
   "source": [
    "already_paid.head(1)"
   ]
  },
  {
   "cell_type": "code",
   "execution_count": 56,
   "id": "2dadf3ef",
   "metadata": {},
   "outputs": [],
   "source": [
    "already_paid_2['Date'] = pd.to_datetime(already_paid_2['TaskSubmissionTimestamp'])\n",
    "already_paid_2 = already_paid_2[~already_paid_2['MerchantExternalId'].isin([np.nan])]\n",
    "already_paid_2['Date'].fillna(method='ffill', inplace=True)\n",
    "already_paid_2['Date'].fillna(method='bfill', inplace=True)\n",
    "already_paid_2['Date'] = already_paid_2['Date'].dt.strftime(\"%Y-%m-%d\")"
   ]
  },
  {
   "cell_type": "code",
   "execution_count": null,
   "id": "f0c5fcf4",
   "metadata": {},
   "outputs": [],
   "source": [
    "already_paid_complete = already_paid.append(already_paid_2)"
   ]
  },
  {
   "cell_type": "code",
   "execution_count": null,
   "id": "83d7700b",
   "metadata": {},
   "outputs": [],
   "source": [
    "already_paid_complete_f = already_paid_complete.drop_duplicates(subset=['MerchantExternalId'], keep=\"last\")"
   ]
  },
  {
   "cell_type": "code",
   "execution_count": null,
   "id": "731e0cf4",
   "metadata": {},
   "outputs": [],
   "source": [
    "already_paid_complete_f2 = already_paid_complete_f[['MerchantExternalId', 'Date']]"
   ]
  },
  {
   "cell_type": "code",
   "execution_count": null,
   "id": "57b2def2",
   "metadata": {},
   "outputs": [
    {
     "data": {
      "text/html": [
       "<div>\n",
       "<style scoped>\n",
       "    .dataframe tbody tr th:only-of-type {\n",
       "        vertical-align: middle;\n",
       "    }\n",
       "\n",
       "    .dataframe tbody tr th {\n",
       "        vertical-align: top;\n",
       "    }\n",
       "\n",
       "    .dataframe thead th {\n",
       "        text-align: right;\n",
       "    }\n",
       "</style>\n",
       "<table border=\"1\" class=\"dataframe\">\n",
       "  <thead>\n",
       "    <tr style=\"text-align: right;\">\n",
       "      <th></th>\n",
       "      <th>MerchantExternalId</th>\n",
       "      <th>Date</th>\n",
       "    </tr>\n",
       "  </thead>\n",
       "  <tbody>\n",
       "    <tr>\n",
       "      <th>0</th>\n",
       "      <td>BCR2DN4T2CA2D3JX</td>\n",
       "      <td>2022-07-06</td>\n",
       "    </tr>\n",
       "  </tbody>\n",
       "</table>\n",
       "</div>"
      ],
      "text/plain": [
       "  MerchantExternalId        Date\n",
       "0   BCR2DN4T2CA2D3JX  2022-07-06"
      ]
     },
     "execution_count": 60,
     "metadata": {},
     "output_type": "execute_result"
    }
   ],
   "source": [
    "already_paid_complete_f2.head(1)"
   ]
  },
  {
   "cell_type": "code",
   "execution_count": null,
   "id": "1de10c23",
   "metadata": {},
   "outputs": [],
   "source": [
    "already_paid_complete_f2.rename(columns={'Date':'Is_in_Previous_Month_Payout_Date'}, inplace=True)"
   ]
  },
  {
   "cell_type": "code",
   "execution_count": null,
   "id": "0e139523",
   "metadata": {},
   "outputs": [],
   "source": [
    "RWM_file_5 = left_join_indicator(RWM_file_4, already_paid_complete_f2, 'MerchantExternalId', \n",
    "True, \"No Match\", \"Match\", \"Is_in_Previous_Month_Payout\")"
   ]
  },
  {
   "cell_type": "code",
   "execution_count": null,
   "id": "c1652ef2",
   "metadata": {},
   "outputs": [],
   "source": [
    "RWM_file_5['Already_Paid'] = RWM_file_5.apply(Already_Paid, args=(\"Is_in_Previous_Month_Payout\", \"Is_in_Previous_Month_Payout_Date\", 'Report Date'), axis=1)"
   ]
  },
  {
   "attachments": {},
   "cell_type": "markdown",
   "id": "4910caa2",
   "metadata": {},
   "source": [
    "# OB_Date_Check for RWM"
   ]
  },
  {
   "cell_type": "code",
   "execution_count": null,
   "id": "3fdb0eb9",
   "metadata": {},
   "outputs": [],
   "source": [
    "RWM_file_5['OB_Date_Check'] = RWM_file_5.apply(check_source_mid, args=(\"OB_Date\", \n",
    "\"Revisit Date\"), axis=1)"
   ]
  },
  {
   "attachments": {},
   "cell_type": "markdown",
   "id": "acaa1cc3",
   "metadata": {},
   "source": [
    "# Is_in_Google_Daily_File_"
   ]
  },
  {
   "cell_type": "code",
   "execution_count": null,
   "id": "0b1a041f",
   "metadata": {},
   "outputs": [],
   "source": [
    "Google_file_f_Date = Google_file[['MerchantExternalId', 'TaskSubmissionTimestamp']]"
   ]
  },
  {
   "cell_type": "code",
   "execution_count": null,
   "id": "f7c05858",
   "metadata": {},
   "outputs": [],
   "source": [
    "RWM_file_6 = pd.DataFrame()\n",
    "RWM_file_6 = left_join_date_wise(RWM_file_5, 'Revisit Date', Google_file_f_Date, 'TaskSubmissionTimestamp',\n",
    " 'MerchantExternalId', RWM_file_6, 'Is_in_Google_Daily_File_2', Date_for_mapping)"
   ]
  },
  {
   "cell_type": "code",
   "execution_count": null,
   "id": "cee65ead",
   "metadata": {},
   "outputs": [],
   "source": [
    "RWM_file_6.drop(['TaskSubmissionTimestamp'], axis=1, inplace=True)"
   ]
  },
  {
   "cell_type": "code",
   "execution_count": null,
   "id": "ff51ccc2",
   "metadata": {},
   "outputs": [],
   "source": [
    "RWM_file_6.drop(['PQR_Axis.1', 'PQR_Icici.1', 'Unnamed: 33', 'Unnamed: 33'],axis=1, inplace=True)"
   ]
  },
  {
   "cell_type": "code",
   "execution_count": null,
   "id": "e3605324",
   "metadata": {},
   "outputs": [],
   "source": [
    "RWM_file_6['MerchantExternalId'].replace(\"Empty\", np.nan, inplace=True)"
   ]
  },
  {
   "cell_type": "code",
   "execution_count": null,
   "id": "9e7f8367",
   "metadata": {},
   "outputs": [],
   "source": [
    "RWM_file_6['Revisit Date'] = pd.to_datetime(RWM_file_6['Revisit Date'])\n",
    "RWM_file_6.sort_values(by=['Validity','MerchantExternalId','Revisit Date'], ascending=[False, True, True], inplace=True)\n",
    "RWM_file_6['Revisit Date'] = RWM_file_6['Revisit Date'].dt.strftime(\"%d-%b-%Y\")"
   ]
  },
  {
   "cell_type": "code",
   "execution_count": null,
   "id": "55b1140a",
   "metadata": {},
   "outputs": [],
   "source": [
    "RWM_file_6['Ext_ID Dup?'] = RWM_file_6.groupby(\"MerchantExternalId\")[\"MerchantExternalId\"].rank(method='first')\n",
    "RWM_file_6['Ext_ID Dup?'].replace(np.nan, 0, inplace=True)\n",
    "RWM_file_6['Merchant_ID_Dup'] = RWM_file_6.groupby(\"Merchant ID\")[\"Merchant ID\"].rank(method='first')\n",
    "RWM_file_6['Merchant_ID_Dup'].replace(np.nan, 0, inplace=True)\n",
    "RWM_file_6['Phone_Dup?'] = RWM_file_6.groupby(\"Owner Mobile No.\")[\"Owner Mobile No.\"].rank(method='first')\n",
    "RWM_file_6['Phone_Dup?'].replace(np.nan, 0, inplace=True)"
   ]
  },
  {
   "cell_type": "code",
   "execution_count": null,
   "id": "bf48d47c",
   "metadata": {},
   "outputs": [],
   "source": [
    "RWM_file_6.drop_duplicates(subset=['Merchant ID'], inplace=True)"
   ]
  },
  {
   "cell_type": "code",
   "execution_count": null,
   "id": "4b0ce315",
   "metadata": {},
   "outputs": [],
   "source": [
    "RWM_file_6['Task Count_2'] = RWM_file_6.apply(fill_task, axis=1)\n",
    "RWM_file_6.drop(['Task Count'], axis=1, inplace=True)\n",
    "RWM_file_6.rename(columns={'Task Count_2':'Task Count'}, inplace=True)"
   ]
  },
  {
   "attachments": {},
   "cell_type": "markdown",
   "id": "9b28a997",
   "metadata": {},
   "source": [
    "# RWM Valid OB with Date"
   ]
  },
  {
   "cell_type": "code",
   "execution_count": null,
   "id": "b03fabf1",
   "metadata": {},
   "outputs": [],
   "source": [
    "RWM_file_7 = pd.DataFrame()\n",
    "RWM_file_7 = left_join_date_wise(RWM_file_6, 'Revisit Date', External_Gpay_fos_f_merge_f, 'RWM OB Date',\n",
    " 'MerchantExternalId', RWM_file_6, 'Is_in_OB_RWM_file', Date_for_mapping)"
   ]
  },
  {
   "cell_type": "code",
   "execution_count": null,
   "id": "a98b0390",
   "metadata": {},
   "outputs": [],
   "source": [
    "RWM_file_6 = RWM_file_7"
   ]
  },
  {
   "attachments": {},
   "cell_type": "markdown",
   "id": "30a18a2e",
   "metadata": {},
   "source": [
    "# Payout Criteria"
   ]
  },
  {
   "cell_type": "code",
   "execution_count": null,
   "id": "44006412",
   "metadata": {},
   "outputs": [],
   "source": [
    "RWM_file_6['Source Data picekd from?'] = RWM_file_6['Data Tag'].str.contains('Form', na=False)\n",
    "RWM_file_6['Source Data picekd from?'] = RWM_file_6['Source Data picekd from?'].replace(False, \"RWM\")\n",
    "RWM_file_6['Source Data picekd from?'] = RWM_file_6['Source Data picekd from?'].replace(True, \"Form\")\n",
    "RWM_file_6['Invalid_PhonenumberLookup'] = RWM_file_6['Invalid Reason'].str.contains('Invalid_PhonenumberLookup', na=False)\n",
    "RWM_file_6['Invalid_NotOnTargetlist'] = RWM_file_6['Invalid Reason'].str.contains('Invalid_NotOnTargetlist', na=False)\n",
    "RWM_file_6['Invalid_IncompleteSubTasks'] = RWM_file_6['Invalid Reason'].str.contains('Invalid_IncompleteSubTasks', na=False)"
   ]
  },
  {
   "attachments": {},
   "cell_type": "markdown",
   "id": "3ef1eb2f",
   "metadata": {},
   "source": [
    "# Check Data Available in Google"
   ]
  },
  {
   "cell_type": "code",
   "execution_count": null,
   "id": "07a35439",
   "metadata": {},
   "outputs": [],
   "source": [
    "check_date = lambda x:x in Data_Not_Available_Date\n",
    "RWM_file_6['Data_Avaliable_Google_file'] = RWM_file_6['Revisit Date'].apply(check_date)"
   ]
  },
  {
   "attachments": {},
   "cell_type": "markdown",
   "id": "6c31b27a",
   "metadata": {},
   "source": [
    "# Payout Citeria"
   ]
  },
  {
   "cell_type": "code",
   "execution_count": null,
   "id": "30a9ac79",
   "metadata": {},
   "outputs": [],
   "source": [
    "RWM_file_6.rename(columns={'Is in Source File?_x':'Is in Source File?',\n",
    "'Is_in_Google_Daily_File_':'Is in Google Daily File?', 'Source MID Match Check':'Dynamic Source MID Check',\n",
    "'Is_in_OB_CSV_file':'Present in Google Invalid?', 'Source MID Match Check':'Dynamic Source MID Check'}, inplace=True)"
   ]
  },
  {
   "cell_type": "code",
   "execution_count": null,
   "id": "77327475",
   "metadata": {},
   "outputs": [],
   "source": [
    "RWM_file_6['Dynamic Source MID Check'].replace('FALSE', False, inplace=True)"
   ]
  },
  {
   "cell_type": "code",
   "execution_count": null,
   "id": "1de50ec9",
   "metadata": {},
   "outputs": [
    {
     "data": {
      "text/plain": [
       "array([nan, False], dtype=object)"
      ]
     },
     "execution_count": 80,
     "metadata": {},
     "output_type": "execute_result"
    }
   ],
   "source": [
    "RWM_file_6['Dynamic Source MID Check'].unique()"
   ]
  },
  {
   "cell_type": "code",
   "execution_count": null,
   "id": "04e06fa3",
   "metadata": {},
   "outputs": [],
   "source": [
    "def payout_remarks(row):\n",
    "   if row['Ext_ID Dup?'] > 1:\n",
    "       return 'Duplicate Ext_ID'\n",
    "   elif row['Ext_ID Dup?'] == 0:\n",
    "       return 'Not Found'\n",
    "   elif row['Phone_Dup?'] > 1:\n",
    "        return \"Duplicate Phone Number\"\n",
    "   elif row['Is in Google Daily File?'] == \"No\" and row['Present in Google Invalid?'] == \"Yes\" and row['Dynamic Source MID Check'] == False:\n",
    "       return 'Possible -Re OB'\n",
    "       \n",
    "   elif row['Data_Avaliable_Google_file'] == True:\n",
    "        if row['Is in Source File?'] == \"Match\" or row['Is in Source File?'] == \"MN Match\":\n",
    "            return \"Valid\"\n",
    "        else:\n",
    "            return \"Not Found, Invalid_NotOnTargetlist\"\n",
    "   elif row['Final'] == \"Valid\":\n",
    "       return 'Considered in Onboarding'\n",
    "   elif row['Is in Google Daily File?'] == \"No\" and row['Present in Google Invalid?'] == \"Yes\" and row['Is in Source File?'] == 'No Match':\n",
    "       return 'Not Found, Invalid_NotOnTargetlist'\n",
    "   elif row['Is in Google Daily File?'] == \"No\" and row['Present in Google Invalid?'] != \"Yes\" and row['Dynamic Source MID Check'] != False:\n",
    "       if row['Is in Source File?'] == 'Match':\n",
    "           return 'Not Found'\n",
    "       else:\n",
    "           return 'Not Found'\n",
    "   elif row['Is in Google Daily File?'] == \"No\" and row['Present in Google Invalid?'] == np.nan and row['Is in Source File?'] in ('No Match','No Match Dynamic'):\n",
    "       return 'Not Found, Invalid_NotOnTargetlist'\n",
    "   elif row['Is in Google Daily File?'] == \"No\" and row['Source Data picekd from?'] == 'Form Data' and row['MerchantExternalId'] == np.nan:\n",
    "       return 'Not Found'\n",
    "   elif row['Is in Google Daily File?'] == \"No\" and row['Source Data picekd from?'] == 'RWM' and row['MerchantExternalId'] == np.nan:\n",
    "       return 'Not Found'\n",
    "   elif row['Is in Google Daily File?'] == \"No\" and row['Source Data picekd from?'] == 'RWM' and row['Is in Source File?'] == 'Match':\n",
    "       return 'Not Found'\n",
    "   elif row['Is in Google Daily File?'] == \"No\" and row['Source Data picekd from?'] == 'RWM' and row['Is in Source File?'] == 'MN Match':\n",
    "       return 'Not Found'\n",
    "   elif row['Is in Google Daily File?'] == \"Yes\" : \n",
    "       if row['Task Count'] < 3:\n",
    "           if row['Invalid_PhonenumberLookup'] == True:\n",
    "               return 'Invalid_PhonenumberLookup'\n",
    "           else:\n",
    "               return 'Invalid_IncompleteSubTasks'\n",
    "       elif row['Task Count'] >= 3:\n",
    "           if row['Is in Source File?'] == 'MN Match' and row['Validity'] == \"INVALID\":\n",
    "               return \"Pending Review\"\n",
    "           elif row['Is in Source File?'] != 'MN Match' and row['Invalid_PhonenumberLookup'] == True:\n",
    "               return \"Invalid_PhonenumberLookup\"\n",
    "           elif row['Is in Source File?'] != 'MN Match' and row['Invalid_NotOnTargetlist'] == True:\n",
    "               return \"Invalid_NotOnTargetlist\"\n",
    "           else:\n",
    "               if row['Validity'] == \"VALID\":\n",
    "                    return \"Valid\"\n",
    "               else:\n",
    "                    return np.nan\n",
    "   else:\n",
    "       return \"Not Found\"\n",
    "\n"
   ]
  },
  {
   "cell_type": "code",
   "execution_count": null,
   "id": "16714c0c",
   "metadata": {},
   "outputs": [],
   "source": [
    "RWM_file_6['Payout_remarks'] = RWM_file_6.apply(payout_remarks, axis=1)"
   ]
  },
  {
   "cell_type": "code",
   "execution_count": null,
   "id": "acd95f11",
   "metadata": {},
   "outputs": [],
   "source": [
    "def Already_Paid_Col(row6, Payout_col, Already_Paid_col):\n",
    "    if row6[Payout_col] in (\"Invalid_PhonenumberLookup\", \"Invalid_NotOnTargetlist\", \"Invalid_IncompleteSubTasks\") and row6[Already_Paid_col] == \"Already Paid\":\n",
    "        return \"Already Paid\"\n",
    "    else:\n",
    "        return row6[Payout_col]\n"
   ]
  },
  {
   "cell_type": "code",
   "execution_count": null,
   "id": "22c100bc",
   "metadata": {},
   "outputs": [],
   "source": [
    "RWM_file_6['Payout_remarks_2'] = RWM_file_6.apply(Already_Paid_Col, args=(\"Payout_remarks\", \"Already_Paid\"),axis=1)\n",
    "RWM_file_6.drop(['Payout_remarks'], axis=1, inplace=True)\n",
    "RWM_file_6.rename(columns={'Payout_remarks_2':'Payout_remarks'}, inplace=True)"
   ]
  },
  {
   "cell_type": "code",
   "execution_count": null,
   "id": "14e9c9ec",
   "metadata": {},
   "outputs": [],
   "source": [
    "RWM_file_7 = RWM_file_6[['City Name', 'Merchant ID', 'Owner Mobile No.', 'Employee Code', 'Role Name',\n",
    "'POD Name', 'POD ID', 'Team Lead Name', 'Revisit Date', 'MerchantExternalId', 'Is in Google Daily File?',\n",
    "'CompletedSubTaskTypes','Task Count', 'Is in Source File?', 'Validity', 'Invalid Reason', 'Segment', 'Is in Dynamic Source Visit Date Valid?',\n",
    "'Report Date', 'IngestionStatus', 'Ingestion Date', 'Revisit Expire Date', 'Source_MID', 'OB_Date', 'Final', 'Present in Google Invalid?', 'Dynamic Source MID Check',\n",
    "'Is_in_Previous_Month_Payout_Date', 'Is_in_Previous_Month_Payout', 'OB_Date_Check','Ext_ID Dup?',\n",
    "'Merchant_ID_Dup', 'Phone_Dup?' ,'Data Tag', 'Payout_remarks']].rename(columns={\"Final\":'Validity_ob', 'RWM OB Date':'OB_Date'})"
   ]
  },
  {
   "cell_type": "code",
   "execution_count": null,
   "id": "50c153d6",
   "metadata": {},
   "outputs": [],
   "source": [
    "rwm_col = RWM_file_7.columns"
   ]
  },
  {
   "cell_type": "code",
   "execution_count": null,
   "id": "6231abea",
   "metadata": {},
   "outputs": [],
   "source": [
    "for i in rwm_col:\n",
    "    RWM_file_7[i].replace(\"^ \", \"\", inplace=True, regex=True)\n",
    "    RWM_file_7[i].replace(\"$ \", \"\", inplace=True, regex=True)\n",
    "    RWM_file_7[i].replace(r'\\r+|\\n+|\\t+','', inplace=True, regex=True)"
   ]
  },
  {
   "cell_type": "code",
   "execution_count": null,
   "id": "2f672889",
   "metadata": {},
   "outputs": [],
   "source": [
    "RWM_file_7['Merchant ID'] = RWM_file_7['Merchant ID'].apply('int64')"
   ]
  },
  {
   "cell_type": "code",
   "execution_count": null,
   "id": "7824c0b9",
   "metadata": {},
   "outputs": [],
   "source": [
    "RWM_file_7.to_csv(output_loc+\"payout_remarks_rwm.csv\", index=False)"
   ]
  },
  {
   "attachments": {},
   "cell_type": "markdown",
   "id": "20dea519",
   "metadata": {},
   "source": [
    "# Google Analysis"
   ]
  },
  {
   "cell_type": "code",
   "execution_count": null,
   "id": "f7fd2908",
   "metadata": {},
   "outputs": [
    {
     "data": {
      "text/html": [
       "<div>\n",
       "<style scoped>\n",
       "    .dataframe tbody tr th:only-of-type {\n",
       "        vertical-align: middle;\n",
       "    }\n",
       "\n",
       "    .dataframe tbody tr th {\n",
       "        vertical-align: top;\n",
       "    }\n",
       "\n",
       "    .dataframe thead th {\n",
       "        text-align: right;\n",
       "    }\n",
       "</style>\n",
       "<table border=\"1\" class=\"dataframe\">\n",
       "  <thead>\n",
       "    <tr style=\"text-align: right;\">\n",
       "      <th></th>\n",
       "      <th>StoreName</th>\n",
       "      <th>City</th>\n",
       "      <th>Pincode</th>\n",
       "      <th>StorePhoneNumber</th>\n",
       "      <th>OnboardingTimestamp</th>\n",
       "      <th>TaskSubmissionTimestamp</th>\n",
       "      <th>MerchantExternalId</th>\n",
       "      <th>CompletedSubTaskTypes</th>\n",
       "      <th>AdditionalQRs</th>\n",
       "      <th>AxisSTRCount</th>\n",
       "      <th>...</th>\n",
       "      <th>Dynamic IngestionStatus</th>\n",
       "      <th>Dynamic Ingestion Date</th>\n",
       "      <th>Source_MID</th>\n",
       "      <th>sno</th>\n",
       "      <th>Data Tag</th>\n",
       "      <th>Date</th>\n",
       "      <th>Report_Date</th>\n",
       "      <th>Revisit_Date</th>\n",
       "      <th>Dup</th>\n",
       "      <th>Primary_key</th>\n",
       "    </tr>\n",
       "  </thead>\n",
       "  <tbody>\n",
       "    <tr>\n",
       "      <th>0</th>\n",
       "      <td>Rajeswari General Store</td>\n",
       "      <td>Kadapa</td>\n",
       "      <td>516001</td>\n",
       "      <td>9849970176</td>\n",
       "      <td>5/27/2022 16:24:43</td>\n",
       "      <td>01-Jul-2023</td>\n",
       "      <td>BCR2DN4T2C22DCZU</td>\n",
       "      <td>VERIFY_MERCHANT, PROVISION_VPA, CAPTURE_ADDITI...</td>\n",
       "      <td>NaN</td>\n",
       "      <td>1.0</td>\n",
       "      <td>...</td>\n",
       "      <td>ADD</td>\n",
       "      <td>2023-02-03</td>\n",
       "      <td>NaN</td>\n",
       "      <td>100001</td>\n",
       "      <td>Google</td>\n",
       "      <td>01-07-2023</td>\n",
       "      <td>NaN</td>\n",
       "      <td>NaN</td>\n",
       "      <td>NaN</td>\n",
       "      <td>1</td>\n",
       "    </tr>\n",
       "  </tbody>\n",
       "</table>\n",
       "<p>1 rows × 53 columns</p>\n",
       "</div>"
      ],
      "text/plain": [
       "                 StoreName    City  Pincode  StorePhoneNumber  \\\n",
       "0  Rajeswari General Store  Kadapa   516001        9849970176   \n",
       "\n",
       "  OnboardingTimestamp TaskSubmissionTimestamp MerchantExternalId  \\\n",
       "0  5/27/2022 16:24:43             01-Jul-2023   BCR2DN4T2C22DCZU   \n",
       "\n",
       "                               CompletedSubTaskTypes  AdditionalQRs  \\\n",
       "0  VERIFY_MERCHANT, PROVISION_VPA, CAPTURE_ADDITI...            NaN   \n",
       "\n",
       "   AxisSTRCount  ...  Dynamic IngestionStatus  Dynamic Ingestion Date  \\\n",
       "0           1.0  ...                      ADD              2023-02-03   \n",
       "\n",
       "   Source_MID     sno  Data Tag        Date  Report_Date  Revisit_Date Dup  \\\n",
       "0         NaN  100001    Google  01-07-2023          NaN           NaN NaN   \n",
       "\n",
       "  Primary_key  \n",
       "0           1  \n",
       "\n",
       "[1 rows x 53 columns]"
      ]
     },
     "execution_count": 90,
     "metadata": {},
     "output_type": "execute_result"
    }
   ],
   "source": [
    "Google_file.head(1)"
   ]
  },
  {
   "attachments": {},
   "cell_type": "markdown",
   "id": "1801c412",
   "metadata": {},
   "source": [
    "### OB_Invalid Mapping for Date and Validity"
   ]
  },
  {
   "cell_type": "code",
   "execution_count": null,
   "id": "6d403f8a",
   "metadata": {},
   "outputs": [],
   "source": [
    "Google_file_2 = pd.DataFrame()\n",
    "Google_file_2 = left_join_date_wise(Google_file, 'TaskSubmissionTimestamp', ob_con_f2, 'VerificationTimestamp',\n",
    " 'MerchantExternalId', Google_file_2, 'Is_in_OB_CSV_file', Date_for_mapping)"
   ]
  },
  {
   "attachments": {},
   "cell_type": "markdown",
   "id": "1ec2b376",
   "metadata": {},
   "source": [
    "### OB_Google_Invalid Mapping for Date and Validity"
   ]
  },
  {
   "cell_type": "code",
   "execution_count": null,
   "id": "55bd0629",
   "metadata": {},
   "outputs": [],
   "source": [
    "Google_file_3 = pd.DataFrame()\n",
    "Google_file_3 = left_join_date_wise(Google_file_2, 'TaskSubmissionTimestamp', google_csv_ob_f2, 'VerificationTimestamp',\n",
    " 'MerchantExternalId', Google_file_3, 'Is_in_OB_Google_CSV_file', Date_for_mapping)"
   ]
  },
  {
   "cell_type": "code",
   "execution_count": null,
   "id": "64aa0cbb",
   "metadata": {},
   "outputs": [],
   "source": [
    "Google_file_3['VerificationTimestamp_x'].fillna(Google_file_3['VerificationTimestamp_y'], inplace=True)\n",
    "Google_file_3['Is_in_OB_CSV_file'].replace(\"No\", \"\", inplace=True)\n",
    "Google_file_3['Is_in_OB_CSV_file'] = Google_file_3['Is_in_OB_CSV_file'].astype('str')\n",
    "Google_file_3['Is_in_OB_CSV_file'].fillna(Google_file_3['Is_in_OB_Google_CSV_file'], inplace=True)\n",
    "Google_file_3['Validity_ob'].fillna(Google_file_3['Validity_google_ob'], inplace=True)\n",
    "Google_file_3.drop(['VerificationTimestamp_y', 'Is_in_OB_Google_CSV_file', \n",
    "'Validity_google_ob'], axis=1, inplace=True)"
   ]
  },
  {
   "cell_type": "code",
   "execution_count": null,
   "id": "d3315cad",
   "metadata": {},
   "outputs": [],
   "source": [
    "Google_file_3.rename(columns={'VerificationTimestamp_x':'OB_Date'}, inplace=True)"
   ]
  },
  {
   "cell_type": "code",
   "execution_count": null,
   "id": "12085a35",
   "metadata": {},
   "outputs": [],
   "source": [
    "Google_file_3['Validity_ob'] = Google_file_3['Validity_ob'].str.replace(\" \", \"\", regex=True)"
   ]
  },
  {
   "cell_type": "code",
   "execution_count": null,
   "id": "0c3e5f29",
   "metadata": {},
   "outputs": [],
   "source": [
    "Google_file_3['Validity_ob_2'] = Google_file_3.apply(fill_ob_csv_file, axis=1, args=(\"Validity_ob\",))"
   ]
  },
  {
   "cell_type": "code",
   "execution_count": null,
   "id": "ff774499",
   "metadata": {},
   "outputs": [],
   "source": [
    "Google_file_4 = drop_rename(Google_file_3, 'Is_in_OB_CSV_file', 'Validity_ob_2')"
   ]
  },
  {
   "cell_type": "code",
   "execution_count": null,
   "id": "e05e7596",
   "metadata": {},
   "outputs": [],
   "source": [
    "Google_file_4['Source MID Match Check'] = Google_file_4.apply(check_source_mid, args=(\"Source_MID\", \n",
    "\"MerchantExternalId\"), axis=1)"
   ]
  },
  {
   "attachments": {},
   "cell_type": "markdown",
   "id": "7bcc4d5d",
   "metadata": {},
   "source": [
    "# Already Paid with Google"
   ]
  },
  {
   "cell_type": "code",
   "execution_count": null,
   "id": "9ab94a20",
   "metadata": {},
   "outputs": [],
   "source": [
    "Google_file_5 = left_join_indicator(Google_file_4, already_paid_complete_f2, 'MerchantExternalId', \n",
    "True, \"No Match\", \"Match\", \"Is_in_Previous_Month_Payout\")"
   ]
  },
  {
   "cell_type": "code",
   "execution_count": null,
   "id": "41e5e8c7",
   "metadata": {},
   "outputs": [],
   "source": [
    "Google_file_5['Already_Paid'] = Google_file_5.apply(Already_Paid, args=(\"Is_in_Previous_Month_Payout\", \"Is_in_Previous_Month_Payout_Date\", 'Dynamic Ingestion Date'), axis=1)"
   ]
  },
  {
   "attachments": {},
   "cell_type": "markdown",
   "id": "cf6228a0",
   "metadata": {},
   "source": [
    "# OB_Date_Check for Google"
   ]
  },
  {
   "cell_type": "code",
   "execution_count": null,
   "id": "cac67a0b",
   "metadata": {},
   "outputs": [],
   "source": [
    "Google_file_5['OB_Date_Check'] = Google_file_5.apply(check_source_mid, args=(\"OB_Date\", \n",
    "\"TaskSubmissionTimestamp\"), axis=1)"
   ]
  },
  {
   "attachments": {},
   "cell_type": "markdown",
   "id": "7ff8a155",
   "metadata": {},
   "source": [
    "# Is_in_RWM_Daily_File_"
   ]
  },
  {
   "cell_type": "code",
   "execution_count": null,
   "id": "1f57f228",
   "metadata": {},
   "outputs": [],
   "source": [
    "RWM_file_f_Date = RWM_file[['MerchantExternalId', 'Revisit Date']]"
   ]
  },
  {
   "cell_type": "code",
   "execution_count": null,
   "id": "5589560c",
   "metadata": {},
   "outputs": [],
   "source": [
    "Google_file_6 = pd.DataFrame()\n",
    "Google_file_6 = left_join_date_wise(Google_file_5, 'TaskSubmissionTimestamp', RWM_file_f_Date,'Revisit Date' ,\n",
    " 'MerchantExternalId', Google_file_6, 'Is_in_RWM_Daily_File_2', Date_for_mapping)"
   ]
  },
  {
   "cell_type": "code",
   "execution_count": null,
   "id": "65377918",
   "metadata": {},
   "outputs": [],
   "source": [
    "Google_file_6.drop(['Revisit Date'], axis=1, inplace=True)"
   ]
  },
  {
   "cell_type": "code",
   "execution_count": null,
   "id": "94c04b62",
   "metadata": {},
   "outputs": [],
   "source": [
    "Google_file_6.drop(['Unnamed: 33'],axis=1, inplace=True)"
   ]
  },
  {
   "cell_type": "code",
   "execution_count": null,
   "id": "a15bf3c8",
   "metadata": {},
   "outputs": [],
   "source": [
    "Google_file_6['MerchantExternalId'].replace(\"Empty\", np.nan, inplace=True)"
   ]
  },
  {
   "cell_type": "code",
   "execution_count": null,
   "id": "e8ac5162",
   "metadata": {},
   "outputs": [],
   "source": [
    "Google_file_6['TaskSubmissionTimestamp'] = pd.to_datetime(Google_file_6['TaskSubmissionTimestamp'])\n",
    "Google_file_6.sort_values(by=['Validity','MerchantExternalId','TaskSubmissionTimestamp'], ascending=[False, True, True], inplace=True)\n",
    "Google_file_6['TaskSubmissionTimestamp'] = Google_file_6['TaskSubmissionTimestamp'].dt.strftime(\"%d-%b-%Y\")"
   ]
  },
  {
   "cell_type": "code",
   "execution_count": null,
   "id": "85a6554e",
   "metadata": {},
   "outputs": [],
   "source": [
    "Google_file_6['Ext_ID Dup?'] = Google_file_6.groupby(\"MerchantExternalId\")[\"MerchantExternalId\"].rank(method='first')\n",
    "Google_file_6['Ext_ID Dup?'].replace(np.nan, 0, inplace=True)\n",
    "Google_file_6['Phone_Dup?'] = Google_file_6.groupby(\"StorePhoneNumber\")[\"StorePhoneNumber\"].rank(method='first')\n",
    "Google_file_6['Phone_Dup?'].replace(np.nan, 0, inplace=True)"
   ]
  },
  {
   "attachments": {},
   "cell_type": "markdown",
   "id": "caa5b8ef",
   "metadata": {},
   "source": [
    "# Payout Criteria"
   ]
  },
  {
   "cell_type": "code",
   "execution_count": null,
   "id": "33275924",
   "metadata": {},
   "outputs": [],
   "source": [
    "Google_file_6['Source Data picekd from?'] = Google_file_6['Data Tag'].str.contains('Form', na=False)\n",
    "Google_file_6['Source Data picekd from?'] = Google_file_6['Source Data picekd from?'].replace(False, \"RWM\")\n",
    "Google_file_6['Source Data picekd from?'] = Google_file_6['Source Data picekd from?'].replace(True, \"Form\")\n",
    "Google_file_6['Invalid_PhonenumberLookup'] = Google_file_6['InvalidReasons'].str.contains('Invalid_PhonenumberLookup', na=False)\n",
    "Google_file_6['Invalid_NotOnTargetlist'] = Google_file_6['InvalidReasons'].str.contains('Invalid_NotOnTargetlist', na=False)\n",
    "Google_file_6['Invalid_IncompleteSubTasks'] = Google_file_6['InvalidReasons'].str.contains('Invalid_IncompleteSubTasks', na=False)"
   ]
  },
  {
   "attachments": {},
   "cell_type": "markdown",
   "id": "60fac13b",
   "metadata": {},
   "source": [
    "# Payout Citeria"
   ]
  },
  {
   "cell_type": "code",
   "execution_count": null,
   "id": "267a0df4",
   "metadata": {},
   "outputs": [],
   "source": [
    "Google_file_6.rename(columns={'Is_in_RWM_Daily_File_2':'Is in RWM Daily File?', 'Source MID Match Check':'Dynamic Source MID Check',\n",
    "'Is_in_OB_CSV_file':'Present in Google Invalid?', 'Source MID Match Check':'Dynamic Source MID Check'}, inplace=True)"
   ]
  },
  {
   "cell_type": "code",
   "execution_count": null,
   "id": "e800baf2",
   "metadata": {},
   "outputs": [],
   "source": [
    "Google_file_6['Dynamic Source MID Check'].replace('FALSE', False, inplace=True)"
   ]
  },
  {
   "cell_type": "code",
   "execution_count": null,
   "id": "89ca7feb",
   "metadata": {},
   "outputs": [
    {
     "data": {
      "text/plain": [
       "array([nan, False], dtype=object)"
      ]
     },
     "execution_count": 112,
     "metadata": {},
     "output_type": "execute_result"
    }
   ],
   "source": [
    "Google_file_6['Dynamic Source MID Check'].unique()"
   ]
  },
  {
   "cell_type": "code",
   "execution_count": null,
   "id": "db6fb601",
   "metadata": {},
   "outputs": [],
   "source": [
    "Google_file_6.to_csv(\"Test_1.csv\", index=False)"
   ]
  },
  {
   "cell_type": "code",
   "execution_count": null,
   "id": "b71b2e5d",
   "metadata": {},
   "outputs": [],
   "source": [
    "def payout_remarks(row):\n",
    "   if row['Ext_ID Dup?'] > 1:\n",
    "       return 'Duplicate Ext_ID'\n",
    "   elif row['Ext_ID Dup?'] == 0:\n",
    "       return 'Not Found'\n",
    "   elif row['Phone_Dup?'] > 1:\n",
    "        return \"Duplicate Phone Number\"      \n",
    "   elif row['Validity_ob'] == \"VALID\":\n",
    "       return 'Considered in Onboarding'\n",
    "   elif row['Is in RWM Daily File?'] == \"Yes\" or row['Is in RWM Daily File?'] == \"No\" : \n",
    "       if row['Task Count'] < 3:\n",
    "           if row['Invalid_PhonenumberLookup'] == True:\n",
    "               return 'Invalid_PhonenumberLookup'\n",
    "           else:\n",
    "               return 'Invalid_IncompleteSubTasks'\n",
    "       elif row['Task Count'] >= 3:\n",
    "           if row['Is in Source File?'] == 'MN Match' and row['Validity'] == \"INVALID\":\n",
    "               return \"Pending Review\"\n",
    "           elif row['Is in Source File?'] != 'MN Match' and row['Invalid_PhonenumberLookup'] == True:\n",
    "               return \"Invalid_PhonenumberLookup\"\n",
    "           elif row['Is in Source File?'] != 'MN Match' and row['Invalid_NotOnTargetlist'] == True:\n",
    "               return \"Invalid_NotOnTargetlist\"\n",
    "           else:\n",
    "               if row['Validity'] == \"VALID\":\n",
    "                    return \"Valid\"\n",
    "               else:\n",
    "                    return np.nan\n",
    "   else:\n",
    "       return \"Not Found\"\n",
    "\n"
   ]
  },
  {
   "cell_type": "code",
   "execution_count": null,
   "id": "01106072",
   "metadata": {},
   "outputs": [],
   "source": [
    "Google_file_6['Payout_remarks'] = Google_file_6.apply(payout_remarks, axis=1)"
   ]
  },
  {
   "cell_type": "code",
   "execution_count": null,
   "id": "774721fe",
   "metadata": {},
   "outputs": [],
   "source": [
    "Google_file_6['Payout_remarks_2'] = Google_file_6.apply(Already_Paid_Col, args=(\"Payout_remarks\", \"Already_Paid\"),axis=1)\n",
    "Google_file_6.drop(['Payout_remarks'], axis=1, inplace=True)\n",
    "Google_file_6.rename(columns={'Payout_remarks_2':'Payout_remarks'}, inplace=True)"
   ]
  },
  {
   "cell_type": "code",
   "execution_count": null,
   "id": "55b3ee97",
   "metadata": {},
   "outputs": [],
   "source": [
    "Google_file_7 = Google_file_6[['City', 'Pincode','StorePhoneNumber', 'TaskSubmissionTimestamp',\n",
    "'MerchantExternalId', 'CompletedSubTaskTypes', 'Validity', 'InvalidReasons', 'AgentEmail',\n",
    "'Is in Source File?', 'Is in RWM Daily File?', 'IF R is Blank then RWM App Code', 'Team View City', 'Task Count',\n",
    "'Is in Google Daily OB File?', 'Is Previous Revisit same month?', 'Previous Revisit Date',\n",
    "'Segments', 'Is in Dynamic Source Visit Date Valid?', 'Revisit Expire Date','Dynamic IngestionStatus',\n",
    "'Dynamic Ingestion Date', 'Validity_ob','OB_Date_Check', 'Present in Google Invalid?','Source_MID', \n",
    "'Dynamic Source MID Check','Is_in_Previous_Month_Payout_Date', 'Is_in_Previous_Month_Payout','Ext_ID Dup?',\n",
    "'Phone_Dup?','Source Data picekd from?',\"Data Tag\", 'Payout_remarks']]"
   ]
  },
  {
   "cell_type": "code",
   "execution_count": null,
   "id": "95986631",
   "metadata": {},
   "outputs": [],
   "source": [
    "Google_col = Google_file_7.columns"
   ]
  },
  {
   "cell_type": "code",
   "execution_count": null,
   "id": "1d913d23",
   "metadata": {},
   "outputs": [],
   "source": [
    "for i in Google_col:\n",
    "    Google_file_7[i].replace(\"^ \", \"\", inplace=True, regex=True)\n",
    "    Google_file_7[i].replace(\"$ \", \"\", inplace=True, regex=True)\n",
    "    Google_file_7[i].replace(r'\\r+|\\n+|\\t+','', inplace=True, regex=True)"
   ]
  },
  {
   "cell_type": "code",
   "execution_count": null,
   "id": "f987174f",
   "metadata": {},
   "outputs": [],
   "source": [
    "Google_file_7.to_csv(output_loc+\"Reconsilation_remarks_Google.csv\", index=False)"
   ]
  },
  {
   "cell_type": "code",
   "execution_count": null,
   "id": "1b6755f3",
   "metadata": {},
   "outputs": [
    {
     "data": {
      "text/plain": [
       "96588"
      ]
     },
     "execution_count": 121,
     "metadata": {},
     "output_type": "execute_result"
    }
   ],
   "source": [
    "len(Google_file_7)"
   ]
  },
  {
   "cell_type": "code",
   "execution_count": null,
   "id": "34ed7fb4",
   "metadata": {},
   "outputs": [
    {
     "data": {
      "text/plain": [
       "97363"
      ]
     },
     "execution_count": 122,
     "metadata": {},
     "output_type": "execute_result"
    }
   ],
   "source": [
    "len(RWM_file_7)"
   ]
  }
 ],
 "metadata": {
  "kernelspec": {
   "display_name": "Python 3 (ipykernel)",
   "language": "python",
   "name": "python3"
  },
  "language_info": {
   "codemirror_mode": {
    "name": "ipython",
    "version": 3
   },
   "file_extension": ".py",
   "mimetype": "text/x-python",
   "name": "python",
   "nbconvert_exporter": "python",
   "pygments_lexer": "ipython3",
   "version": "3.10.6"
  },
  "vscode": {
   "interpreter": {
    "hash": "916dbcbb3f70747c44a77c7bcd40155683ae19c65e1c03b4aa3499c5328201f1"
   }
  }
 },
 "nbformat": 4,
 "nbformat_minor": 5
}
