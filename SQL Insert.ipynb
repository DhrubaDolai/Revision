{
 "cells": [
  {
   "cell_type": "code",
   "execution_count": 1,
   "id": "7086937a",
   "metadata": {},
   "outputs": [],
   "source": [
    "import pandas as pd\n",
    "import numpy as np\n",
    "import xlsxwriter as xw\n",
    "import re\n",
    "import warnings\n",
    "warnings.filterwarnings('ignore')\n",
    "import openpyxl as op\n",
    "from openpyxl import Workbook, load_workbook\n",
    "from openpyxl.styles import PatternFill, Border, Side, Alignment, Protection, Font\n",
    "import os\n",
    "import glob"
   ]
  },
  {
   "cell_type": "code",
   "execution_count": 2,
   "id": "825f2788",
   "metadata": {},
   "outputs": [],
   "source": [
    "input_loc = \"/home/dhrubakumardolai/Desktop/Dhruba/Target/Q1/\"\n",
    "output_loc = \"/home/dhrubakumardolai/Desktop/Dhruba/Result/SQL Code/\""
   ]
  },
  {
   "cell_type": "code",
   "execution_count": 3,
   "id": "5d40df6e",
   "metadata": {},
   "outputs": [],
   "source": [
    "q1_1 = pd.read_csv(input_loc+'Segment1.csv')\n",
    "q1_2 = pd.read_csv(input_loc+'Segment2.csv')"
   ]
  },
  {
   "cell_type": "code",
   "execution_count": 4,
   "id": "82ab3609",
   "metadata": {},
   "outputs": [],
   "source": [
    "Table_name = \"Q1_source\""
   ]
  },
  {
   "cell_type": "code",
   "execution_count": 5,
   "id": "ec9d743e",
   "metadata": {},
   "outputs": [],
   "source": [
    "column_name = \"Name,Phone_Number,Address,Pincode,Latitude,Longitude,District,Polygon_Name,Created_by_ID,Merchant_Ext_ID,Last_Transaction_date,Gpay_OB_Email,segments,_merge\""
   ]
  },
  {
   "cell_type": "code",
   "execution_count": 6,
   "id": "53577c90",
   "metadata": {},
   "outputs": [],
   "source": [
    "SQl_code_1 = \"INSERT INTO \" + Table_name + \"(\"+ column_name +\")\""
   ]
  },
  {
   "cell_type": "code",
   "execution_count": 7,
   "id": "bc144f4e",
   "metadata": {},
   "outputs": [],
   "source": [
    "SQl_code_2 = \"VALUES (\""
   ]
  },
  {
   "cell_type": "code",
   "execution_count": 8,
   "id": "32aac7d9",
   "metadata": {},
   "outputs": [],
   "source": [
    "q1 = q1_1.append(q1_2)"
   ]
  },
  {
   "cell_type": "code",
   "execution_count": 9,
   "id": "4f186156",
   "metadata": {
    "scrolled": true
   },
   "outputs": [
    {
     "data": {
      "text/html": [
       "<div>\n",
       "<style scoped>\n",
       "    .dataframe tbody tr th:only-of-type {\n",
       "        vertical-align: middle;\n",
       "    }\n",
       "\n",
       "    .dataframe tbody tr th {\n",
       "        vertical-align: top;\n",
       "    }\n",
       "\n",
       "    .dataframe thead th {\n",
       "        text-align: right;\n",
       "    }\n",
       "</style>\n",
       "<table border=\"1\" class=\"dataframe\">\n",
       "  <thead>\n",
       "    <tr style=\"text-align: right;\">\n",
       "      <th></th>\n",
       "      <th>Name</th>\n",
       "      <th>Phone Number</th>\n",
       "      <th>Address</th>\n",
       "      <th>Pincode</th>\n",
       "      <th>Latitude</th>\n",
       "      <th>Longitude</th>\n",
       "      <th>District</th>\n",
       "      <th>Polygon Name</th>\n",
       "      <th>Created By ID</th>\n",
       "      <th>Merchant Ext.ID</th>\n",
       "      <th>Last Transaction date</th>\n",
       "      <th>Gpay OB E-mail</th>\n",
       "      <th>segments</th>\n",
       "      <th>_merge</th>\n",
       "    </tr>\n",
       "  </thead>\n",
       "  <tbody>\n",
       "    <tr>\n",
       "      <th>0</th>\n",
       "      <td>Nilkanth Enterprises</td>\n",
       "      <td>7.579170e+09</td>\n",
       "      <td>Bareilly Road ,Motahaldu</td>\n",
       "      <td>263139.0</td>\n",
       "      <td>29.145969</td>\n",
       "      <td>79.522095</td>\n",
       "      <td>Nainital</td>\n",
       "      <td>244715</td>\n",
       "      <td>58515.0</td>\n",
       "      <td>BCR2DN6T57H7THC2</td>\n",
       "      <td>28-12-2021</td>\n",
       "      <td>sjoshi375@gmail.com</td>\n",
       "      <td>active</td>\n",
       "      <td>both</td>\n",
       "    </tr>\n",
       "  </tbody>\n",
       "</table>\n",
       "</div>"
      ],
      "text/plain": [
       "                   Name  Phone Number                    Address   Pincode  \\\n",
       "0  Nilkanth Enterprises  7.579170e+09  Bareilly Road ,Motahaldu   263139.0   \n",
       "\n",
       "    Latitude  Longitude  District Polygon Name  Created By ID  \\\n",
       "0  29.145969  79.522095  Nainital       244715        58515.0   \n",
       "\n",
       "    Merchant Ext.ID Last Transaction date       Gpay OB E-mail segments _merge  \n",
       "0  BCR2DN6T57H7THC2            28-12-2021  sjoshi375@gmail.com   active   both  "
      ]
     },
     "execution_count": 9,
     "metadata": {},
     "output_type": "execute_result"
    }
   ],
   "source": [
    "q1.head(1)"
   ]
  },
  {
   "cell_type": "markdown",
   "id": "232fe60e",
   "metadata": {},
   "source": [
    "# Changing date format to insert in the table "
   ]
  },
  {
   "cell_type": "code",
   "execution_count": 10,
   "id": "2e56afe8",
   "metadata": {},
   "outputs": [],
   "source": [
    "q1['Last Transaction date'] = pd.to_datetime(q1['Last Transaction date'])"
   ]
  },
  {
   "cell_type": "code",
   "execution_count": 11,
   "id": "7d815a8e",
   "metadata": {},
   "outputs": [],
   "source": [
    "q1['Last Transaction date'] = q1['Last Transaction date'].dt.strftime(\"%Y-%m-%d\")"
   ]
  },
  {
   "cell_type": "markdown",
   "id": "b129269f",
   "metadata": {},
   "source": [
    "# Replacing all blank with the null"
   ]
  },
  {
   "cell_type": "code",
   "execution_count": 12,
   "id": "bd66a18b",
   "metadata": {},
   "outputs": [],
   "source": [
    "q1.fillna(\"Null\", inplace=True)"
   ]
  },
  {
   "cell_type": "markdown",
   "id": "7ea69770",
   "metadata": {},
   "source": [
    "# Checking Null in date"
   ]
  },
  {
   "cell_type": "code",
   "execution_count": 13,
   "id": "df6d62b8",
   "metadata": {},
   "outputs": [],
   "source": [
    "filter_null = q1[q1['Last Transaction date'].isin(['Null'])]"
   ]
  },
  {
   "cell_type": "code",
   "execution_count": 14,
   "id": "27e9cf37",
   "metadata": {},
   "outputs": [
    {
     "data": {
      "text/plain": [
       "(1930, 14)"
      ]
     },
     "execution_count": 14,
     "metadata": {},
     "output_type": "execute_result"
    }
   ],
   "source": [
    "filter_null.shape"
   ]
  },
  {
   "cell_type": "markdown",
   "id": "cc170a0d",
   "metadata": {},
   "source": [
    "# Change Every columns to string"
   ]
  },
  {
   "cell_type": "code",
   "execution_count": 15,
   "id": "2eee24a0",
   "metadata": {},
   "outputs": [],
   "source": [
    "columns= q1.columns"
   ]
  },
  {
   "cell_type": "code",
   "execution_count": 16,
   "id": "31114406",
   "metadata": {},
   "outputs": [],
   "source": [
    "for i in columns:\n",
    "    q1[i] = q1[i].map(str)"
   ]
  },
  {
   "cell_type": "code",
   "execution_count": null,
   "id": "88f80e5b",
   "metadata": {},
   "outputs": [],
   "source": [
    "q1['SQL_code'] = SQl_code_1+SQl_code_2+'\"'+q1['Name']+'\",'+'\"'+q1['Phone Number']+'\",'+'\"'+q1['Address']+'\",'+'\"'+q1['Pincode']+'\",'+'\"'+q1['Latitude']+'\",'+'\"'+q1['Longitude']+'\",'+'\"'+q1['District']+'\",'+'\"'+q1['Polygon Name']+'\",'+'\"'+q1['Created By ID']+'\",'+'\"'+q1['Merchant Ext.ID']+'\",'+'\"'+q1['Last Transaction date']+'\",'+'\"'+q1['Gpay OB E-mail']+'\",'+'\"'+q1['segments']+'\",'+'\"'+q1['_merge']+'\");'"
   ]
  },
  {
   "cell_type": "code",
   "execution_count": null,
   "id": "074679f6",
   "metadata": {},
   "outputs": [],
   "source": [
    "q1['SQL_code'].iloc[1]"
   ]
  },
  {
   "cell_type": "code",
   "execution_count": null,
   "id": "c9d5b99e",
   "metadata": {},
   "outputs": [],
   "source": [
    "# np.savetxt(output_loc+'SQL_Code.txt', q1[\"SQL_code\"], fmt=\"% str\")"
   ]
  },
  {
   "cell_type": "code",
   "execution_count": null,
   "id": "3aa27ebf",
   "metadata": {},
   "outputs": [],
   "source": [
    "q1['SQL_code'].to_csv(output_loc+'/Split/SQL_code.csv', index=False)"
   ]
  },
  {
   "cell_type": "code",
   "execution_count": null,
   "id": "b9d506a1",
   "metadata": {},
   "outputs": [],
   "source": [
    "file_size = 20000\n",
    "batch_no = 1"
   ]
  },
  {
   "cell_type": "code",
   "execution_count": null,
   "id": "fbededba",
   "metadata": {},
   "outputs": [],
   "source": [
    "for i in pd.read_csv(output_loc+'/Split/SQL_code.csv', chunksize=file_size):\n",
    "    i.to_csv(output_loc+'SQL_code-'+str(batch_no)+'.csv', index=False)\n",
    "    batch_no += 1"
   ]
  },
  {
   "cell_type": "code",
   "execution_count": null,
   "id": "0330f875",
   "metadata": {},
   "outputs": [],
   "source": []
  },
  {
   "cell_type": "code",
   "execution_count": null,
   "id": "cff1c8c0",
   "metadata": {},
   "outputs": [],
   "source": []
  }
 ],
 "metadata": {
  "kernelspec": {
   "display_name": "Python 3 (ipykernel)",
   "language": "python",
   "name": "python3"
  },
  "language_info": {
   "codemirror_mode": {
    "name": "ipython",
    "version": 3
   },
   "file_extension": ".py",
   "mimetype": "text/x-python",
   "name": "python",
   "nbconvert_exporter": "python",
   "pygments_lexer": "ipython3",
   "version": "3.10.6"
  }
 },
 "nbformat": 4,
 "nbformat_minor": 5
}
