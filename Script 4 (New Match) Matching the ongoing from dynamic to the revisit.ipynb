{
 "cells": [
  {
   "cell_type": "code",
   "execution_count": 1,
   "id": "aa354088",
   "metadata": {},
   "outputs": [],
   "source": [
    "import pandas as pd\n",
    "import os\n",
    "import numpy as np\n",
    "import xlsxwriter as xw\n",
    "import re\n",
    "import warnings\n",
    "warnings.filterwarnings('ignore')\n",
    "import openpyxl as op\n",
    "from openpyxl import Workbook, load_workbook\n",
    "from openpyxl.styles import PatternFill, Border, Side, Alignment, Protection, Font\n",
    "from pathlib import Path\n",
    "import glob"
   ]
  },
  {
   "cell_type": "markdown",
   "id": "de0925a6",
   "metadata": {},
   "source": [
    "# Date to split the files result"
   ]
  },
  {
   "cell_type": "code",
   "execution_count": 2,
   "id": "ee8a2315",
   "metadata": {},
   "outputs": [
    {
     "data": {
      "text/plain": [
       "list"
      ]
     },
     "execution_count": 2,
     "metadata": {},
     "output_type": "execute_result"
    }
   ],
   "source": [
    "date_list = [['5-Aug-2022','12-Aug-2022', '19-Aug-2022', '26-Aug-2022', '2-Sep-2022', '9-Sep-2022',\n",
    "             '16-Sep-2022', '23-Sep-2022', '28-Sep-2022', '30-Sep-2022'], ['6-Oct-2022'], ['7-Oct-2022'], \n",
    "             ['14-Oct-2022'],['21-Oct-2022'], ['28-Oct-2022'], ['4-Nov-2022']]\n",
    "type(date_list)"
   ]
  },
  {
   "cell_type": "markdown",
   "id": "3e59eba9",
   "metadata": {},
   "source": [
    "# Extracting the dynamic file and filtering the ongoing out for matching"
   ]
  },
  {
   "cell_type": "code",
   "execution_count": 3,
   "id": "8a191dc2",
   "metadata": {},
   "outputs": [],
   "source": [
    "input_loc = '/home/dhrubakumardolai/Desktop/Python Test/Rahul/Script 4 Matching revisit with the dynamic Source/Target/'\n",
    "output_loc = '/home/dhrubakumardolai/Desktop/Python Test/Rahul/Script 4 Matching revisit with the dynamic Source/Result/'"
   ]
  },
  {
   "cell_type": "code",
   "execution_count": 4,
   "id": "9774c05e",
   "metadata": {},
   "outputs": [],
   "source": [
    "input_loc_d = input_loc+\"Dynamic Source Latest/\""
   ]
  },
  {
   "cell_type": "code",
   "execution_count": 5,
   "id": "e4344e3f",
   "metadata": {},
   "outputs": [
    {
     "data": {
      "text/plain": [
       "['/home/dhrubakumardolai/Desktop/Python Test/Rahul/Script 4 Matching revisit with the dynamic Source/Target/Dynamic Source Latest/Dynamic_source.csv']"
      ]
     },
     "execution_count": 5,
     "metadata": {},
     "output_type": "execute_result"
    }
   ],
   "source": [
    "os.chdir(input_loc+\"Dynamic Source Latest/\")\n",
    "filelist = glob.glob(input_loc_d+'**/*.csv', recursive = True)\n",
    "filelist"
   ]
  },
  {
   "cell_type": "code",
   "execution_count": 6,
   "id": "a6dc1558",
   "metadata": {},
   "outputs": [],
   "source": [
    "dynamic_source = pd.DataFrame()\n",
    "\n",
    "for files in filelist:\n",
    "    if files.endswith(\".csv\"):\n",
    "        df = pd.read_csv(files)\n",
    "        dynamic_source = dynamic_source.append(df)\n",
    "\n",
    "# unsuccessful_revisit.to_excel(output_loc+\"unsuccessful_revisit.xlsx\", index = False)"
   ]
  },
  {
   "cell_type": "code",
   "execution_count": 7,
   "id": "a3f945b3",
   "metadata": {
    "scrolled": false
   },
   "outputs": [
    {
     "data": {
      "text/plain": [
       "(1991413, 19)"
      ]
     },
     "execution_count": 7,
     "metadata": {},
     "output_type": "execute_result"
    }
   ],
   "source": [
    "dynamic_source.shape"
   ]
  },
  {
   "cell_type": "code",
   "execution_count": 8,
   "id": "04602f5f",
   "metadata": {},
   "outputs": [
    {
     "data": {
      "text/html": [
       "<div>\n",
       "<style scoped>\n",
       "    .dataframe tbody tr th:only-of-type {\n",
       "        vertical-align: middle;\n",
       "    }\n",
       "\n",
       "    .dataframe tbody tr th {\n",
       "        vertical-align: top;\n",
       "    }\n",
       "\n",
       "    .dataframe thead th {\n",
       "        text-align: right;\n",
       "    }\n",
       "</style>\n",
       "<table border=\"1\" class=\"dataframe\">\n",
       "  <thead>\n",
       "    <tr style=\"text-align: right;\">\n",
       "      <th></th>\n",
       "      <th>MerchantId</th>\n",
       "      <th>Objectives</th>\n",
       "      <th>IngestionStatus</th>\n",
       "      <th>Report Date</th>\n",
       "      <th>Ingestion Date</th>\n",
       "      <th>RWM Remarks</th>\n",
       "      <th>Revisit Expire Date</th>\n",
       "      <th>s no</th>\n",
       "      <th>RWM Revisit Status</th>\n",
       "      <th>RWM Revisit Date</th>\n",
       "      <th>Validity</th>\n",
       "      <th>Pincode</th>\n",
       "      <th>Phone Number</th>\n",
       "      <th>City</th>\n",
       "      <th>Cluster</th>\n",
       "      <th>Failed Upload RWM MID</th>\n",
       "      <th>csv Google MID</th>\n",
       "      <th>Google csv Visit Date</th>\n",
       "      <th>csv Validity</th>\n",
       "    </tr>\n",
       "  </thead>\n",
       "  <tbody>\n",
       "    <tr>\n",
       "      <th>0</th>\n",
       "      <td>BCR2DN4TSCO3DNDR</td>\n",
       "      <td>checkin-nob</td>\n",
       "      <td>ADD</td>\n",
       "      <td>5-Aug-2022</td>\n",
       "      <td>5-Aug-2022</td>\n",
       "      <td>Success</td>\n",
       "      <td>NaN</td>\n",
       "      <td>1</td>\n",
       "      <td>NaN</td>\n",
       "      <td>NaN</td>\n",
       "      <td>NaN</td>\n",
       "      <td>NaN</td>\n",
       "      <td>NaN</td>\n",
       "      <td>NaN</td>\n",
       "      <td>NaN</td>\n",
       "      <td>NaN</td>\n",
       "      <td>NaN</td>\n",
       "      <td>NaN</td>\n",
       "      <td>NaN</td>\n",
       "    </tr>\n",
       "  </tbody>\n",
       "</table>\n",
       "</div>"
      ],
      "text/plain": [
       "         MerchantId   Objectives IngestionStatus Report Date Ingestion Date  \\\n",
       "0  BCR2DN4TSCO3DNDR  checkin-nob             ADD  5-Aug-2022     5-Aug-2022   \n",
       "\n",
       "  RWM Remarks Revisit Expire Date  s no RWM Revisit Status RWM Revisit Date  \\\n",
       "0     Success                 NaN     1                NaN              NaN   \n",
       "\n",
       "  Validity  Pincode  Phone Number City Cluster  Failed Upload RWM MID  \\\n",
       "0      NaN      NaN           NaN  NaN     NaN                    NaN   \n",
       "\n",
       "  csv Google MID Google csv Visit Date csv Validity  \n",
       "0            NaN                   NaN          NaN  "
      ]
     },
     "execution_count": 8,
     "metadata": {},
     "output_type": "execute_result"
    }
   ],
   "source": [
    "dynamic_source.head(1)"
   ]
  },
  {
   "cell_type": "code",
   "execution_count": 9,
   "id": "07680b65",
   "metadata": {},
   "outputs": [],
   "source": [
    "dynamic_source.sort_values(by=['s no'],inplace=True)"
   ]
  },
  {
   "cell_type": "code",
   "execution_count": 10,
   "id": "a6d87429",
   "metadata": {
    "scrolled": true
   },
   "outputs": [
    {
     "data": {
      "text/plain": [
       "array(['5-Aug-2022', '12-Aug-2022', '19-Aug-2022', '26-Aug-2022',\n",
       "       '2-Sep-2022', '9-Sep-2022', '16-Sep-2022', '23-Sep-2022',\n",
       "       '28-Sep-2022', '30-Sep-2022', '6-Oct-2022', '7-Oct-2022',\n",
       "       '14-Oct-2022', '21-Oct-2022', '28-Oct-2022', '4-Nov-2022'],\n",
       "      dtype=object)"
      ]
     },
     "execution_count": 10,
     "metadata": {},
     "output_type": "execute_result"
    }
   ],
   "source": [
    "dynamic_source['Report Date'].unique()"
   ]
  },
  {
   "cell_type": "markdown",
   "id": "dfabe340",
   "metadata": {},
   "source": [
    "# Reading the mid_match"
   ]
  },
  {
   "cell_type": "code",
   "execution_count": 11,
   "id": "5276e888",
   "metadata": {},
   "outputs": [],
   "source": [
    "mid_match = pd.read_csv(input_loc+\"q1 + q2 Source MID Match/mid_match.csv\")"
   ]
  },
  {
   "cell_type": "code",
   "execution_count": 12,
   "id": "60450b80",
   "metadata": {},
   "outputs": [
    {
     "data": {
      "text/html": [
       "<div>\n",
       "<style scoped>\n",
       "    .dataframe tbody tr th:only-of-type {\n",
       "        vertical-align: middle;\n",
       "    }\n",
       "\n",
       "    .dataframe tbody tr th {\n",
       "        vertical-align: top;\n",
       "    }\n",
       "\n",
       "    .dataframe thead th {\n",
       "        text-align: right;\n",
       "    }\n",
       "</style>\n",
       "<table border=\"1\" class=\"dataframe\">\n",
       "  <thead>\n",
       "    <tr style=\"text-align: right;\">\n",
       "      <th></th>\n",
       "      <th>Merchant Ext ID</th>\n",
       "      <th>Primary_key</th>\n",
       "      <th>s no</th>\n",
       "      <th>Name</th>\n",
       "      <th>Phone Number</th>\n",
       "      <th>Address</th>\n",
       "      <th>Pincode</th>\n",
       "      <th>Latitude</th>\n",
       "      <th>Longitude</th>\n",
       "      <th>City</th>\n",
       "      <th>Polygon Name</th>\n",
       "      <th>Created By ID</th>\n",
       "      <th>Last Transaction date</th>\n",
       "      <th>Gpay OB E-mail</th>\n",
       "      <th>segments</th>\n",
       "      <th>Source_Tags</th>\n",
       "      <th>_merge</th>\n",
       "      <th>Cluster</th>\n",
       "    </tr>\n",
       "  </thead>\n",
       "  <tbody>\n",
       "    <tr>\n",
       "      <th>0</th>\n",
       "      <td>BCR2DN6TTOL5HUDM</td>\n",
       "      <td>1</td>\n",
       "      <td>1718726</td>\n",
       "      <td>Sharda Healthcare</td>\n",
       "      <td>9.811409e+09</td>\n",
       "      <td>Main Teekli Road Near Police Station Badshahpu...</td>\n",
       "      <td>122001.0</td>\n",
       "      <td>28.389893</td>\n",
       "      <td>77.04838</td>\n",
       "      <td>Gurugram</td>\n",
       "      <td>122001</td>\n",
       "      <td>58517.0</td>\n",
       "      <td>09 March 2022</td>\n",
       "      <td>SahirK171@gmail.com</td>\n",
       "      <td>active</td>\n",
       "      <td>q2</td>\n",
       "      <td>both</td>\n",
       "      <td>Delhi</td>\n",
       "    </tr>\n",
       "  </tbody>\n",
       "</table>\n",
       "</div>"
      ],
      "text/plain": [
       "    Merchant Ext ID  Primary_key     s no                Name  Phone Number  \\\n",
       "0  BCR2DN6TTOL5HUDM            1  1718726  Sharda Healthcare   9.811409e+09   \n",
       "\n",
       "                                             Address   Pincode   Latitude  \\\n",
       "0  Main Teekli Road Near Police Station Badshahpu...  122001.0  28.389893   \n",
       "\n",
       "   Longitude      City Polygon Name  Created By ID Last Transaction date  \\\n",
       "0   77.04838  Gurugram       122001        58517.0         09 March 2022   \n",
       "\n",
       "        Gpay OB E-mail segments Source_Tags _merge Cluster  \n",
       "0  SahirK171@gmail.com   active          q2   both   Delhi  "
      ]
     },
     "execution_count": 12,
     "metadata": {},
     "output_type": "execute_result"
    }
   ],
   "source": [
    "mid_match.head(1)"
   ]
  },
  {
   "cell_type": "code",
   "execution_count": 13,
   "id": "c740c034",
   "metadata": {},
   "outputs": [],
   "source": [
    "mid_match_f = mid_match[['s no', 'Pincode','Phone Number', 'City', 'Cluster', 'segments']].rename(\n",
    "    columns={'segments':'Objectives_2', 'Pincode':'Pincode_2', 'Phone Number':'Phone Number_2', 'City':'City_2',\n",
    "            'Cluster':'Cluster_2', })"
   ]
  },
  {
   "cell_type": "markdown",
   "id": "70667fca",
   "metadata": {},
   "source": [
    "# Extracting the Google Revisit and RWM revisit file to match MID to the Dynamic Source MID"
   ]
  },
  {
   "cell_type": "markdown",
   "id": "e3a13347",
   "metadata": {},
   "source": [
    "## Google Revisit"
   ]
  },
  {
   "cell_type": "markdown",
   "id": "94a7d3f9",
   "metadata": {},
   "source": [
    "### Create Variables for Input and Output location"
   ]
  },
  {
   "cell_type": "code",
   "execution_count": 14,
   "id": "91013f81",
   "metadata": {},
   "outputs": [],
   "source": [
    "input_loc_google_r = \"/home/dhrubakumardolai/Desktop/Python Test/Rahul/Script 4 Matching revisit with the dynamic Source/Target/Google Revisit File/2022/08/\""
   ]
  },
  {
   "cell_type": "markdown",
   "id": "9b6f68e1",
   "metadata": {},
   "source": [
    "### Create Variables for list of input files for Google Revisit"
   ]
  },
  {
   "cell_type": "code",
   "execution_count": 15,
   "id": "d9e97bd8",
   "metadata": {},
   "outputs": [
    {
     "data": {
      "text/plain": [
       "[\"09 Nov'22 Revisit - Google Revisit.csv\",\n",
       " \".~lock.20 Sep'22 Revisit - Google Revisit.csv#\",\n",
       " \"06 Nov'22 Revisit - Google Revisit.csv\",\n",
       " \"04 Nov'22 Revisit - Google Revisit.csv\",\n",
       " \"08 Nov'22 Revisit - Google Revisit.csv\",\n",
       " \"05 Nov'22 Revisit - Google Revisit.csv\",\n",
       " \"07 Nov'22 Revisit - Google Revisit.csv\"]"
      ]
     },
     "execution_count": 15,
     "metadata": {},
     "output_type": "execute_result"
    }
   ],
   "source": [
    "filelist = os.listdir(input_loc_google_r)\n",
    "filelist"
   ]
  },
  {
   "cell_type": "markdown",
   "id": "0f3b5cbf",
   "metadata": {},
   "source": [
    "#### Consolidate the file using for loop"
   ]
  },
  {
   "cell_type": "code",
   "execution_count": 16,
   "id": "851b90a5",
   "metadata": {},
   "outputs": [],
   "source": [
    "google_revisit = pd.DataFrame()\n",
    "\n",
    "for files in filelist:\n",
    "    if files.endswith(\".csv\"):\n",
    "        df = pd.read_csv(input_loc_google_r + files)\n",
    "        google_revisit = google_revisit.append(df)\n",
    "\n",
    "google_revisit.to_csv(output_loc+\"google_revisit.csv\", index = False)"
   ]
  },
  {
   "cell_type": "markdown",
   "id": "b153786f",
   "metadata": {},
   "source": [
    "## RWM Revisit"
   ]
  },
  {
   "cell_type": "markdown",
   "id": "0a0f2c41",
   "metadata": {},
   "source": [
    "#### Create Variables for Input and Output location¶"
   ]
  },
  {
   "cell_type": "code",
   "execution_count": 17,
   "id": "eff5074f",
   "metadata": {},
   "outputs": [],
   "source": [
    "input_loc_rwm_r = \"/home/dhrubakumardolai/Desktop/Python Test/Rahul/Script 4 Matching revisit with the dynamic Source/Target/Revisit Merchant Master Records/2022/08/\""
   ]
  },
  {
   "cell_type": "markdown",
   "id": "9a7d94f0",
   "metadata": {},
   "source": [
    "#### Create Variables for list of input files for Google Revisit¶ "
   ]
  },
  {
   "cell_type": "code",
   "execution_count": 18,
   "id": "ee65280d",
   "metadata": {},
   "outputs": [],
   "source": [
    "os.chdir(input_loc_rwm_r)\n",
    "filelist = glob.glob(input_loc_rwm_r+'/**/*.xlsx')\n",
    "\n",
    "#for f in filelist:\n",
    "#    print(f)"
   ]
  },
  {
   "cell_type": "markdown",
   "id": "9dc6cf3d",
   "metadata": {},
   "source": [
    "#### Consolidate the file using for loop"
   ]
  },
  {
   "cell_type": "code",
   "execution_count": 19,
   "id": "747d088e",
   "metadata": {},
   "outputs": [],
   "source": [
    "rwm_revisit = pd.DataFrame()\n",
    "\n",
    "for files in filelist:\n",
    "    if files.endswith(\".xlsx\"):\n",
    "        df = pd.read_excel(files)\n",
    "        rwm_revisit = rwm_revisit.append(df)\n",
    "\n",
    "rwm_revisit.to_excel(output_loc+\"rwm_revisit.xlsx\", index = False)"
   ]
  },
  {
   "cell_type": "markdown",
   "id": "5422b13d",
   "metadata": {},
   "source": [
    "# Filtering Column from the revisit and changing datetime format"
   ]
  },
  {
   "cell_type": "code",
   "execution_count": 20,
   "id": "7a97a354",
   "metadata": {},
   "outputs": [],
   "source": [
    "rwm_revisit_f = rwm_revisit[['Merchant ID', 'Owner Mobile No.', 'Revisit Date', 'Remarks', 'QR Code String']]\n",
    "google_revisit_f = google_revisit[['MerchantExternalId', 'StorePhoneNumber', 'TaskSubmissionTimestamp','Validity']]"
   ]
  },
  {
   "cell_type": "code",
   "execution_count": 21,
   "id": "a60095b5",
   "metadata": {},
   "outputs": [],
   "source": [
    "rwm_revisit_f['Revisit Date'] = pd.to_datetime(rwm_revisit_f['Revisit Date'])\n",
    "google_revisit_f['TaskSubmissionTimestamp'] = pd.to_datetime(google_revisit_f['TaskSubmissionTimestamp'])"
   ]
  },
  {
   "cell_type": "code",
   "execution_count": 22,
   "id": "41af0d09",
   "metadata": {},
   "outputs": [],
   "source": [
    "rwm_revisit_f['Revisit Date'] = rwm_revisit_f['Revisit Date'].dt.strftime('%-d-%b-%Y')\n",
    "google_revisit_f['TaskSubmissionTimestamp'] = google_revisit_f['TaskSubmissionTimestamp'].dt.strftime('%-d-%b-%Y')"
   ]
  },
  {
   "cell_type": "code",
   "execution_count": 23,
   "id": "961c3e9c",
   "metadata": {},
   "outputs": [],
   "source": [
    "google_revisit_f['TaskSubmissionTimestamp'].replace('30-Dec-1899', np.nan, inplace=True)"
   ]
  },
  {
   "cell_type": "code",
   "execution_count": 24,
   "id": "a2015745",
   "metadata": {},
   "outputs": [],
   "source": [
    "google_revisit_f['TaskSubmissionTimestamp'].fillna(method='ffill', inplace=True)"
   ]
  },
  {
   "cell_type": "code",
   "execution_count": 25,
   "id": "f62b4842",
   "metadata": {},
   "outputs": [],
   "source": [
    "google_revisit_f['TaskSubmissionTimestamp'].fillna(method='bfill', inplace=True)"
   ]
  },
  {
   "cell_type": "markdown",
   "id": "22030477",
   "metadata": {},
   "source": [
    "# Filtering revisit done from RWM"
   ]
  },
  {
   "cell_type": "code",
   "execution_count": 26,
   "id": "4394e6dd",
   "metadata": {},
   "outputs": [],
   "source": [
    "rwm_revisit_f2 = rwm_revisit_f[rwm_revisit_f['Remarks'].isin(['Revisit Done'])]"
   ]
  },
  {
   "cell_type": "code",
   "execution_count": 27,
   "id": "1796f411",
   "metadata": {},
   "outputs": [],
   "source": [
    "rwm_revisit_split = rwm_revisit_f2['QR Code String'].str.split('=', expand = True).rename(\n",
    "    columns={5:'MerchantId'}).filter(['MerchantId'])"
   ]
  },
  {
   "cell_type": "code",
   "execution_count": 28,
   "id": "9a6ec9c8",
   "metadata": {},
   "outputs": [],
   "source": [
    "rwm_revisit_concat = pd.concat([rwm_revisit_f2, rwm_revisit_split], axis = 1, ignore_index = True)"
   ]
  },
  {
   "cell_type": "code",
   "execution_count": 29,
   "id": "438cbc53",
   "metadata": {},
   "outputs": [],
   "source": [
    "rwm_revisit_concat_f = rwm_revisit_concat[[0,1,2,3,5]]"
   ]
  },
  {
   "cell_type": "code",
   "execution_count": 30,
   "id": "b41025e5",
   "metadata": {},
   "outputs": [
    {
     "data": {
      "text/html": [
       "<div>\n",
       "<style scoped>\n",
       "    .dataframe tbody tr th:only-of-type {\n",
       "        vertical-align: middle;\n",
       "    }\n",
       "\n",
       "    .dataframe tbody tr th {\n",
       "        vertical-align: top;\n",
       "    }\n",
       "\n",
       "    .dataframe thead th {\n",
       "        text-align: right;\n",
       "    }\n",
       "</style>\n",
       "<table border=\"1\" class=\"dataframe\">\n",
       "  <thead>\n",
       "    <tr style=\"text-align: right;\">\n",
       "      <th></th>\n",
       "      <th>0</th>\n",
       "      <th>1</th>\n",
       "      <th>2</th>\n",
       "      <th>3</th>\n",
       "      <th>5</th>\n",
       "    </tr>\n",
       "  </thead>\n",
       "  <tbody>\n",
       "    <tr>\n",
       "      <th>322</th>\n",
       "      <td>8291321</td>\n",
       "      <td>9350628886</td>\n",
       "      <td>6-Nov-2022</td>\n",
       "      <td>Revisit Done</td>\n",
       "      <td>BCR2DN4TQC54X4BD</td>\n",
       "    </tr>\n",
       "  </tbody>\n",
       "</table>\n",
       "</div>"
      ],
      "text/plain": [
       "           0           1           2             3                 5\n",
       "322  8291321  9350628886  6-Nov-2022  Revisit Done  BCR2DN4TQC54X4BD"
      ]
     },
     "execution_count": 30,
     "metadata": {},
     "output_type": "execute_result"
    }
   ],
   "source": [
    "rwm_revisit_concat_f.head(1)"
   ]
  },
  {
   "cell_type": "code",
   "execution_count": 31,
   "id": "04363c2f",
   "metadata": {},
   "outputs": [],
   "source": [
    "rwm_revisit_concat_f.rename(\n",
    "    columns={0:'Merchant ID',1:'Owner Mobile No.', 2:'Revisit Date',3:'Remarks',5:'MerchantId'}, inplace=True)"
   ]
  },
  {
   "cell_type": "code",
   "execution_count": 32,
   "id": "3688b0ec",
   "metadata": {},
   "outputs": [],
   "source": [
    "rwm_revisit_concat_f2 = rwm_revisit_concat_f[['MerchantId', 'Revisit Date', 'Remarks']]"
   ]
  },
  {
   "cell_type": "code",
   "execution_count": 33,
   "id": "b7f154f6",
   "metadata": {},
   "outputs": [
    {
     "data": {
      "text/html": [
       "<div>\n",
       "<style scoped>\n",
       "    .dataframe tbody tr th:only-of-type {\n",
       "        vertical-align: middle;\n",
       "    }\n",
       "\n",
       "    .dataframe tbody tr th {\n",
       "        vertical-align: top;\n",
       "    }\n",
       "\n",
       "    .dataframe thead th {\n",
       "        text-align: right;\n",
       "    }\n",
       "</style>\n",
       "<table border=\"1\" class=\"dataframe\">\n",
       "  <thead>\n",
       "    <tr style=\"text-align: right;\">\n",
       "      <th></th>\n",
       "      <th>MerchantId</th>\n",
       "      <th>Revisit Date</th>\n",
       "      <th>Remarks</th>\n",
       "    </tr>\n",
       "  </thead>\n",
       "  <tbody>\n",
       "    <tr>\n",
       "      <th>322</th>\n",
       "      <td>BCR2DN4TQC54X4BD</td>\n",
       "      <td>6-Nov-2022</td>\n",
       "      <td>Revisit Done</td>\n",
       "    </tr>\n",
       "  </tbody>\n",
       "</table>\n",
       "</div>"
      ],
      "text/plain": [
       "           MerchantId Revisit Date       Remarks\n",
       "322  BCR2DN4TQC54X4BD   6-Nov-2022  Revisit Done"
      ]
     },
     "execution_count": 33,
     "metadata": {},
     "output_type": "execute_result"
    }
   ],
   "source": [
    "rwm_revisit_concat_f2.head(1)"
   ]
  },
  {
   "cell_type": "markdown",
   "id": "8c8ad44f",
   "metadata": {},
   "source": [
    "# Filtering columns in Google Revisit"
   ]
  },
  {
   "cell_type": "code",
   "execution_count": 34,
   "id": "0acb9082",
   "metadata": {},
   "outputs": [
    {
     "data": {
      "text/html": [
       "<div>\n",
       "<style scoped>\n",
       "    .dataframe tbody tr th:only-of-type {\n",
       "        vertical-align: middle;\n",
       "    }\n",
       "\n",
       "    .dataframe tbody tr th {\n",
       "        vertical-align: top;\n",
       "    }\n",
       "\n",
       "    .dataframe thead th {\n",
       "        text-align: right;\n",
       "    }\n",
       "</style>\n",
       "<table border=\"1\" class=\"dataframe\">\n",
       "  <thead>\n",
       "    <tr style=\"text-align: right;\">\n",
       "      <th></th>\n",
       "      <th>MerchantExternalId</th>\n",
       "      <th>StorePhoneNumber</th>\n",
       "      <th>TaskSubmissionTimestamp</th>\n",
       "      <th>Validity</th>\n",
       "    </tr>\n",
       "  </thead>\n",
       "  <tbody>\n",
       "    <tr>\n",
       "      <th>0</th>\n",
       "      <td>BCR2DN4T7C5JLWAV</td>\n",
       "      <td>8866609035</td>\n",
       "      <td>9-Nov-2022</td>\n",
       "      <td>INVALID</td>\n",
       "    </tr>\n",
       "  </tbody>\n",
       "</table>\n",
       "</div>"
      ],
      "text/plain": [
       "  MerchantExternalId  StorePhoneNumber TaskSubmissionTimestamp Validity\n",
       "0   BCR2DN4T7C5JLWAV        8866609035              9-Nov-2022  INVALID"
      ]
     },
     "execution_count": 34,
     "metadata": {},
     "output_type": "execute_result"
    }
   ],
   "source": [
    "google_revisit_f.head(1)"
   ]
  },
  {
   "cell_type": "code",
   "execution_count": 35,
   "id": "33b6dd2f",
   "metadata": {},
   "outputs": [],
   "source": [
    "google_revisit_f2 = google_revisit_f[['MerchantExternalId', 'TaskSubmissionTimestamp', 'Validity']].rename(\n",
    "    columns={'MerchantExternalId':'MerchantId', 'TaskSubmissionTimestamp':'New_Revisit_Date_Google', \n",
    "             \"Validity\":'Google_Validity'})"
   ]
  },
  {
   "cell_type": "code",
   "execution_count": 36,
   "id": "27b4bdb5",
   "metadata": {},
   "outputs": [],
   "source": [
    "google_revisit_f2['csv Google MID'] = google_revisit_f2['MerchantId']"
   ]
  },
  {
   "cell_type": "markdown",
   "id": "289f0f3e",
   "metadata": {},
   "source": [
    "# Filtering out the Dynamic Source"
   ]
  },
  {
   "cell_type": "code",
   "execution_count": 37,
   "id": "57ce491b",
   "metadata": {},
   "outputs": [],
   "source": [
    "dynamic_source['Primary_key'] = range(1,(1+len(dynamic_source)))"
   ]
  },
  {
   "cell_type": "code",
   "execution_count": 38,
   "id": "d96603d7",
   "metadata": {},
   "outputs": [],
   "source": [
    "dynamic_source_final = dynamic_source"
   ]
  },
  {
   "cell_type": "code",
   "execution_count": 39,
   "id": "9c6b464d",
   "metadata": {},
   "outputs": [],
   "source": [
    "dynamic_source = dynamic_source[dynamic_source['RWM Remarks'].isin(['Success'])]"
   ]
  },
  {
   "cell_type": "code",
   "execution_count": 40,
   "id": "03719a80",
   "metadata": {},
   "outputs": [],
   "source": [
    "dynamic_source_f = dynamic_source.drop_duplicates(subset=['MerchantId'], keep='last')"
   ]
  },
  {
   "cell_type": "code",
   "execution_count": 41,
   "id": "d3fe26d3",
   "metadata": {},
   "outputs": [],
   "source": [
    "dynamic_source_f2 = dynamic_source_f[['MerchantId', 'IngestionStatus', 'Revisit Expire Date', 'Primary_key']]"
   ]
  },
  {
   "cell_type": "code",
   "execution_count": 42,
   "id": "ce299c0a",
   "metadata": {},
   "outputs": [
    {
     "data": {
      "text/html": [
       "<div>\n",
       "<style scoped>\n",
       "    .dataframe tbody tr th:only-of-type {\n",
       "        vertical-align: middle;\n",
       "    }\n",
       "\n",
       "    .dataframe tbody tr th {\n",
       "        vertical-align: top;\n",
       "    }\n",
       "\n",
       "    .dataframe thead th {\n",
       "        text-align: right;\n",
       "    }\n",
       "</style>\n",
       "<table border=\"1\" class=\"dataframe\">\n",
       "  <thead>\n",
       "    <tr style=\"text-align: right;\">\n",
       "      <th></th>\n",
       "      <th>MerchantId</th>\n",
       "      <th>IngestionStatus</th>\n",
       "      <th>Revisit Expire Date</th>\n",
       "      <th>Primary_key</th>\n",
       "    </tr>\n",
       "  </thead>\n",
       "  <tbody>\n",
       "    <tr>\n",
       "      <th>0</th>\n",
       "      <td>BCR2DN4TSCO3DNDR</td>\n",
       "      <td>ADD</td>\n",
       "      <td>NaN</td>\n",
       "      <td>1</td>\n",
       "    </tr>\n",
       "    <tr>\n",
       "      <th>2</th>\n",
       "      <td>BCR2DN6T2OKJNTKZ</td>\n",
       "      <td>EDIT</td>\n",
       "      <td>NaN</td>\n",
       "      <td>3</td>\n",
       "    </tr>\n",
       "    <tr>\n",
       "      <th>3</th>\n",
       "      <td>BCR2DN6TUXLJ3PTX</td>\n",
       "      <td>EDIT</td>\n",
       "      <td>NaN</td>\n",
       "      <td>4</td>\n",
       "    </tr>\n",
       "    <tr>\n",
       "      <th>5</th>\n",
       "      <td>BCR2DN6TWO2ZPXL5</td>\n",
       "      <td>EDIT</td>\n",
       "      <td>NaN</td>\n",
       "      <td>6</td>\n",
       "    </tr>\n",
       "    <tr>\n",
       "      <th>6</th>\n",
       "      <td>BCR2DN6T56P37XKS</td>\n",
       "      <td>EDIT</td>\n",
       "      <td>NaN</td>\n",
       "      <td>7</td>\n",
       "    </tr>\n",
       "  </tbody>\n",
       "</table>\n",
       "</div>"
      ],
      "text/plain": [
       "         MerchantId IngestionStatus Revisit Expire Date  Primary_key\n",
       "0  BCR2DN4TSCO3DNDR             ADD                 NaN            1\n",
       "2  BCR2DN6T2OKJNTKZ            EDIT                 NaN            3\n",
       "3  BCR2DN6TUXLJ3PTX            EDIT                 NaN            4\n",
       "5  BCR2DN6TWO2ZPXL5            EDIT                 NaN            6\n",
       "6  BCR2DN6T56P37XKS            EDIT                 NaN            7"
      ]
     },
     "execution_count": 42,
     "metadata": {},
     "output_type": "execute_result"
    }
   ],
   "source": [
    "dynamic_source_f2.head()"
   ]
  },
  {
   "cell_type": "markdown",
   "id": "a992873c",
   "metadata": {},
   "source": [
    "# Matching with RWM Revisit Done"
   ]
  },
  {
   "cell_type": "code",
   "execution_count": 43,
   "id": "dd2ce18f",
   "metadata": {},
   "outputs": [],
   "source": [
    "rwm_revisit_concat_f2.sort_values(by=['Revisit Date'], inplace=True)"
   ]
  },
  {
   "cell_type": "code",
   "execution_count": 44,
   "id": "2812ca89",
   "metadata": {},
   "outputs": [],
   "source": [
    "dynamic_source_f2_merge_rwm = dynamic_source_f2.merge(rwm_revisit_concat_f2, on=\"MerchantId\", how='left')"
   ]
  },
  {
   "cell_type": "code",
   "execution_count": 45,
   "id": "1bb2445e",
   "metadata": {},
   "outputs": [],
   "source": [
    "dynamic_source_f2_merge_rwm.drop_duplicates(subset=['Primary_key'], inplace=True)"
   ]
  },
  {
   "cell_type": "code",
   "execution_count": 46,
   "id": "2eb188c4",
   "metadata": {},
   "outputs": [
    {
     "data": {
      "text/plain": [
       "(1284684, 6)"
      ]
     },
     "execution_count": 46,
     "metadata": {},
     "output_type": "execute_result"
    }
   ],
   "source": [
    "dynamic_source_f2_merge_rwm.shape"
   ]
  },
  {
   "cell_type": "markdown",
   "id": "d53a56e6",
   "metadata": {},
   "source": [
    "# Matching with Google Revisit"
   ]
  },
  {
   "cell_type": "code",
   "execution_count": 47,
   "id": "f74aab90",
   "metadata": {},
   "outputs": [],
   "source": [
    "google_revisit_f2.fillna(method=\"bfill\", inplace=True)"
   ]
  },
  {
   "cell_type": "code",
   "execution_count": 48,
   "id": "038730da",
   "metadata": {},
   "outputs": [],
   "source": [
    "google_revisit_f2.sort_values(by=['New_Revisit_Date_Google'], inplace=True)"
   ]
  },
  {
   "cell_type": "code",
   "execution_count": 49,
   "id": "e35d90ea",
   "metadata": {},
   "outputs": [],
   "source": [
    "dynamic_source_f2_merge_rwm_google = dynamic_source_f2_merge_rwm.merge(\n",
    "    google_revisit_f2, on='MerchantId', how='left')"
   ]
  },
  {
   "cell_type": "code",
   "execution_count": 50,
   "id": "b7bb90d8",
   "metadata": {},
   "outputs": [],
   "source": [
    "dynamic_source_f2_merge_rwm_google.drop_duplicates(subset=['Primary_key'], inplace=True)"
   ]
  },
  {
   "cell_type": "code",
   "execution_count": 51,
   "id": "a78ac18c",
   "metadata": {},
   "outputs": [
    {
     "data": {
      "text/html": [
       "<div>\n",
       "<style scoped>\n",
       "    .dataframe tbody tr th:only-of-type {\n",
       "        vertical-align: middle;\n",
       "    }\n",
       "\n",
       "    .dataframe tbody tr th {\n",
       "        vertical-align: top;\n",
       "    }\n",
       "\n",
       "    .dataframe thead th {\n",
       "        text-align: right;\n",
       "    }\n",
       "</style>\n",
       "<table border=\"1\" class=\"dataframe\">\n",
       "  <thead>\n",
       "    <tr style=\"text-align: right;\">\n",
       "      <th></th>\n",
       "      <th>MerchantId</th>\n",
       "      <th>IngestionStatus</th>\n",
       "      <th>Revisit Expire Date</th>\n",
       "      <th>Primary_key</th>\n",
       "      <th>Revisit Date</th>\n",
       "      <th>Remarks</th>\n",
       "      <th>New_Revisit_Date_Google</th>\n",
       "      <th>Google_Validity</th>\n",
       "      <th>csv Google MID</th>\n",
       "    </tr>\n",
       "  </thead>\n",
       "  <tbody>\n",
       "    <tr>\n",
       "      <th>0</th>\n",
       "      <td>BCR2DN4TSCO3DNDR</td>\n",
       "      <td>ADD</td>\n",
       "      <td>NaN</td>\n",
       "      <td>1</td>\n",
       "      <td>NaN</td>\n",
       "      <td>NaN</td>\n",
       "      <td>NaN</td>\n",
       "      <td>NaN</td>\n",
       "      <td>NaN</td>\n",
       "    </tr>\n",
       "    <tr>\n",
       "      <th>1</th>\n",
       "      <td>BCR2DN6T2OKJNTKZ</td>\n",
       "      <td>EDIT</td>\n",
       "      <td>NaN</td>\n",
       "      <td>3</td>\n",
       "      <td>NaN</td>\n",
       "      <td>NaN</td>\n",
       "      <td>NaN</td>\n",
       "      <td>NaN</td>\n",
       "      <td>NaN</td>\n",
       "    </tr>\n",
       "    <tr>\n",
       "      <th>2</th>\n",
       "      <td>BCR2DN6TUXLJ3PTX</td>\n",
       "      <td>EDIT</td>\n",
       "      <td>NaN</td>\n",
       "      <td>4</td>\n",
       "      <td>NaN</td>\n",
       "      <td>NaN</td>\n",
       "      <td>NaN</td>\n",
       "      <td>NaN</td>\n",
       "      <td>NaN</td>\n",
       "    </tr>\n",
       "    <tr>\n",
       "      <th>3</th>\n",
       "      <td>BCR2DN6TWO2ZPXL5</td>\n",
       "      <td>EDIT</td>\n",
       "      <td>NaN</td>\n",
       "      <td>6</td>\n",
       "      <td>NaN</td>\n",
       "      <td>NaN</td>\n",
       "      <td>NaN</td>\n",
       "      <td>NaN</td>\n",
       "      <td>NaN</td>\n",
       "    </tr>\n",
       "    <tr>\n",
       "      <th>4</th>\n",
       "      <td>BCR2DN6T56P37XKS</td>\n",
       "      <td>EDIT</td>\n",
       "      <td>NaN</td>\n",
       "      <td>7</td>\n",
       "      <td>NaN</td>\n",
       "      <td>NaN</td>\n",
       "      <td>NaN</td>\n",
       "      <td>NaN</td>\n",
       "      <td>NaN</td>\n",
       "    </tr>\n",
       "  </tbody>\n",
       "</table>\n",
       "</div>"
      ],
      "text/plain": [
       "         MerchantId IngestionStatus Revisit Expire Date  Primary_key  \\\n",
       "0  BCR2DN4TSCO3DNDR             ADD                 NaN            1   \n",
       "1  BCR2DN6T2OKJNTKZ            EDIT                 NaN            3   \n",
       "2  BCR2DN6TUXLJ3PTX            EDIT                 NaN            4   \n",
       "3  BCR2DN6TWO2ZPXL5            EDIT                 NaN            6   \n",
       "4  BCR2DN6T56P37XKS            EDIT                 NaN            7   \n",
       "\n",
       "  Revisit Date Remarks New_Revisit_Date_Google Google_Validity csv Google MID  \n",
       "0          NaN     NaN                     NaN             NaN            NaN  \n",
       "1          NaN     NaN                     NaN             NaN            NaN  \n",
       "2          NaN     NaN                     NaN             NaN            NaN  \n",
       "3          NaN     NaN                     NaN             NaN            NaN  \n",
       "4          NaN     NaN                     NaN             NaN            NaN  "
      ]
     },
     "execution_count": 51,
     "metadata": {},
     "output_type": "execute_result"
    }
   ],
   "source": [
    "dynamic_source_f2_merge_rwm_google.head()"
   ]
  },
  {
   "cell_type": "code",
   "execution_count": 52,
   "id": "2405c0f9",
   "metadata": {
    "scrolled": true
   },
   "outputs": [],
   "source": [
    "dynamic_source_f2_merge_rwm_google.rename(columns={'Revisit Date':'New_Revisit_Date_RWM', 'Remarks':'Remarks_RWM',\n",
    "                                                   'Revisit Date':'Revisit_Date_RWM'}, inplace=True)"
   ]
  },
  {
   "cell_type": "code",
   "execution_count": 53,
   "id": "61cf1d13",
   "metadata": {},
   "outputs": [
    {
     "data": {
      "text/html": [
       "<div>\n",
       "<style scoped>\n",
       "    .dataframe tbody tr th:only-of-type {\n",
       "        vertical-align: middle;\n",
       "    }\n",
       "\n",
       "    .dataframe tbody tr th {\n",
       "        vertical-align: top;\n",
       "    }\n",
       "\n",
       "    .dataframe thead th {\n",
       "        text-align: right;\n",
       "    }\n",
       "</style>\n",
       "<table border=\"1\" class=\"dataframe\">\n",
       "  <thead>\n",
       "    <tr style=\"text-align: right;\">\n",
       "      <th></th>\n",
       "      <th>MerchantId</th>\n",
       "      <th>IngestionStatus</th>\n",
       "      <th>Revisit Expire Date</th>\n",
       "      <th>Primary_key</th>\n",
       "      <th>Revisit_Date_RWM</th>\n",
       "      <th>Remarks_RWM</th>\n",
       "      <th>New_Revisit_Date_Google</th>\n",
       "      <th>Google_Validity</th>\n",
       "      <th>csv Google MID</th>\n",
       "    </tr>\n",
       "  </thead>\n",
       "  <tbody>\n",
       "    <tr>\n",
       "      <th>0</th>\n",
       "      <td>BCR2DN4TSCO3DNDR</td>\n",
       "      <td>ADD</td>\n",
       "      <td>NaN</td>\n",
       "      <td>1</td>\n",
       "      <td>NaN</td>\n",
       "      <td>NaN</td>\n",
       "      <td>NaN</td>\n",
       "      <td>NaN</td>\n",
       "      <td>NaN</td>\n",
       "    </tr>\n",
       "    <tr>\n",
       "      <th>1</th>\n",
       "      <td>BCR2DN6T2OKJNTKZ</td>\n",
       "      <td>EDIT</td>\n",
       "      <td>NaN</td>\n",
       "      <td>3</td>\n",
       "      <td>NaN</td>\n",
       "      <td>NaN</td>\n",
       "      <td>NaN</td>\n",
       "      <td>NaN</td>\n",
       "      <td>NaN</td>\n",
       "    </tr>\n",
       "    <tr>\n",
       "      <th>2</th>\n",
       "      <td>BCR2DN6TUXLJ3PTX</td>\n",
       "      <td>EDIT</td>\n",
       "      <td>NaN</td>\n",
       "      <td>4</td>\n",
       "      <td>NaN</td>\n",
       "      <td>NaN</td>\n",
       "      <td>NaN</td>\n",
       "      <td>NaN</td>\n",
       "      <td>NaN</td>\n",
       "    </tr>\n",
       "    <tr>\n",
       "      <th>3</th>\n",
       "      <td>BCR2DN6TWO2ZPXL5</td>\n",
       "      <td>EDIT</td>\n",
       "      <td>NaN</td>\n",
       "      <td>6</td>\n",
       "      <td>NaN</td>\n",
       "      <td>NaN</td>\n",
       "      <td>NaN</td>\n",
       "      <td>NaN</td>\n",
       "      <td>NaN</td>\n",
       "    </tr>\n",
       "    <tr>\n",
       "      <th>4</th>\n",
       "      <td>BCR2DN6T56P37XKS</td>\n",
       "      <td>EDIT</td>\n",
       "      <td>NaN</td>\n",
       "      <td>7</td>\n",
       "      <td>NaN</td>\n",
       "      <td>NaN</td>\n",
       "      <td>NaN</td>\n",
       "      <td>NaN</td>\n",
       "      <td>NaN</td>\n",
       "    </tr>\n",
       "  </tbody>\n",
       "</table>\n",
       "</div>"
      ],
      "text/plain": [
       "         MerchantId IngestionStatus Revisit Expire Date  Primary_key  \\\n",
       "0  BCR2DN4TSCO3DNDR             ADD                 NaN            1   \n",
       "1  BCR2DN6T2OKJNTKZ            EDIT                 NaN            3   \n",
       "2  BCR2DN6TUXLJ3PTX            EDIT                 NaN            4   \n",
       "3  BCR2DN6TWO2ZPXL5            EDIT                 NaN            6   \n",
       "4  BCR2DN6T56P37XKS            EDIT                 NaN            7   \n",
       "\n",
       "  Revisit_Date_RWM Remarks_RWM New_Revisit_Date_Google Google_Validity  \\\n",
       "0              NaN         NaN                     NaN             NaN   \n",
       "1              NaN         NaN                     NaN             NaN   \n",
       "2              NaN         NaN                     NaN             NaN   \n",
       "3              NaN         NaN                     NaN             NaN   \n",
       "4              NaN         NaN                     NaN             NaN   \n",
       "\n",
       "  csv Google MID  \n",
       "0            NaN  \n",
       "1            NaN  \n",
       "2            NaN  \n",
       "3            NaN  \n",
       "4            NaN  "
      ]
     },
     "execution_count": 53,
     "metadata": {},
     "output_type": "execute_result"
    }
   ],
   "source": [
    "dynamic_source_f2_merge_rwm_google.head()"
   ]
  },
  {
   "cell_type": "markdown",
   "id": "212957e5",
   "metadata": {},
   "source": [
    "# Filtering Out Delete and Checking it's Validity"
   ]
  },
  {
   "cell_type": "code",
   "execution_count": 54,
   "id": "2cf93652",
   "metadata": {},
   "outputs": [],
   "source": [
    "dynamic_source_f2_merge_rwm_google_f_del = dynamic_source_f2_merge_rwm_google[dynamic_source_f2_merge_rwm_google[\n",
    "    'IngestionStatus'].isin(['DELETE'])]"
   ]
  },
  {
   "cell_type": "code",
   "execution_count": 55,
   "id": "56fdf844",
   "metadata": {},
   "outputs": [],
   "source": [
    "dynamic_source_f2_merge_rwm_google_f_del['Revisit Expire Date'] = pd.to_datetime(\n",
    "    dynamic_source_f2_merge_rwm_google_f_del['Revisit Expire Date'])\n",
    "dynamic_source_f2_merge_rwm_google_f_del['Revisit_Date_RWM'] = pd.to_datetime(\n",
    "    dynamic_source_f2_merge_rwm_google_f_del['Revisit_Date_RWM'])"
   ]
  },
  {
   "cell_type": "code",
   "execution_count": 56,
   "id": "9fb69766",
   "metadata": {},
   "outputs": [],
   "source": [
    "dynamic_source_f2_merge_rwm_google_f_del['Revisit Expire Date'] = dynamic_source_f2_merge_rwm_google_f_del[\n",
    "    'Revisit Expire Date'].dt.strftime('%Y/%-m/%-d')\n",
    "dynamic_source_f2_merge_rwm_google_f_del['Revisit_Date_RWM'] = dynamic_source_f2_merge_rwm_google_f_del[\n",
    "    'Revisit_Date_RWM'].dt.strftime('%Y/%-m/%-d')"
   ]
  },
  {
   "cell_type": "code",
   "execution_count": 57,
   "id": "7d5c37e6",
   "metadata": {},
   "outputs": [],
   "source": [
    "dynamic_source_f2_merge_rwm_google_f_del['Check_Revisit_Validity'] = dynamic_source_f2_merge_rwm_google_f_del[\n",
    "    'Revisit Expire Date'] <= dynamic_source_f2_merge_rwm_google_f_del['Revisit_Date_RWM']"
   ]
  },
  {
   "cell_type": "code",
   "execution_count": 58,
   "id": "2de929bd",
   "metadata": {},
   "outputs": [],
   "source": [
    "dynamic_source_f2_merge_rwm_google_f_del['Check_Revisit_Validity'] = dynamic_source_f2_merge_rwm_google_f_del[\n",
    "    'Check_Revisit_Validity'].map({True:\"VALID\", False:\"INVALID\"})"
   ]
  },
  {
   "cell_type": "code",
   "execution_count": 59,
   "id": "84b301c9",
   "metadata": {},
   "outputs": [
    {
     "data": {
      "text/html": [
       "<div>\n",
       "<style scoped>\n",
       "    .dataframe tbody tr th:only-of-type {\n",
       "        vertical-align: middle;\n",
       "    }\n",
       "\n",
       "    .dataframe tbody tr th {\n",
       "        vertical-align: top;\n",
       "    }\n",
       "\n",
       "    .dataframe thead th {\n",
       "        text-align: right;\n",
       "    }\n",
       "</style>\n",
       "<table border=\"1\" class=\"dataframe\">\n",
       "  <thead>\n",
       "    <tr style=\"text-align: right;\">\n",
       "      <th></th>\n",
       "      <th>MerchantId</th>\n",
       "      <th>IngestionStatus</th>\n",
       "      <th>Revisit Expire Date</th>\n",
       "      <th>Primary_key</th>\n",
       "      <th>Revisit_Date_RWM</th>\n",
       "      <th>Remarks_RWM</th>\n",
       "      <th>New_Revisit_Date_Google</th>\n",
       "      <th>Google_Validity</th>\n",
       "      <th>csv Google MID</th>\n",
       "      <th>Check_Revisit_Validity</th>\n",
       "    </tr>\n",
       "  </thead>\n",
       "  <tbody>\n",
       "    <tr>\n",
       "      <th>29</th>\n",
       "      <td>BCR2DN6TZO66PUCX</td>\n",
       "      <td>DELETE</td>\n",
       "      <td>2022/8/5</td>\n",
       "      <td>52</td>\n",
       "      <td>NaN</td>\n",
       "      <td>NaN</td>\n",
       "      <td>NaN</td>\n",
       "      <td>NaN</td>\n",
       "      <td>NaN</td>\n",
       "      <td>INVALID</td>\n",
       "    </tr>\n",
       "  </tbody>\n",
       "</table>\n",
       "</div>"
      ],
      "text/plain": [
       "          MerchantId IngestionStatus Revisit Expire Date  Primary_key  \\\n",
       "29  BCR2DN6TZO66PUCX          DELETE            2022/8/5           52   \n",
       "\n",
       "   Revisit_Date_RWM Remarks_RWM New_Revisit_Date_Google Google_Validity  \\\n",
       "29              NaN         NaN                     NaN             NaN   \n",
       "\n",
       "   csv Google MID Check_Revisit_Validity  \n",
       "29            NaN                INVALID  "
      ]
     },
     "execution_count": 59,
     "metadata": {},
     "output_type": "execute_result"
    }
   ],
   "source": [
    "dynamic_source_f2_merge_rwm_google_f_del.head(1)"
   ]
  },
  {
   "cell_type": "code",
   "execution_count": 60,
   "id": "36905751",
   "metadata": {},
   "outputs": [],
   "source": [
    "dynamic_source_f2_merge_rwm_google_f_del['Check blank_RWM_Revisit'] = dynamic_source_f2_merge_rwm_google_f_del[\n",
    "    'Revisit_Date_RWM'].isna()"
   ]
  },
  {
   "cell_type": "code",
   "execution_count": 61,
   "id": "1745f64f",
   "metadata": {},
   "outputs": [],
   "source": [
    "dynamic_source_f2_merge_rwm_google_f_del['Check blank_RWM_Revisit'] = dynamic_source_f2_merge_rwm_google_f_del[\n",
    "    'Check blank_RWM_Revisit'].map({True:True, False:np.nan})"
   ]
  },
  {
   "cell_type": "code",
   "execution_count": 62,
   "id": "e80a72ca",
   "metadata": {
    "scrolled": true
   },
   "outputs": [
    {
     "data": {
      "text/plain": [
       "array([True, nan], dtype=object)"
      ]
     },
     "execution_count": 62,
     "metadata": {},
     "output_type": "execute_result"
    }
   ],
   "source": [
    "dynamic_source_f2_merge_rwm_google_f_del[\"Check blank_RWM_Revisit\"].unique()"
   ]
  },
  {
   "cell_type": "code",
   "execution_count": 63,
   "id": "78e48ff8",
   "metadata": {},
   "outputs": [],
   "source": [
    "dynamic_source_f2_merge_rwm_google_f_del[\"Check blank_RWM_Revisit\"].fillna(dynamic_source_f2_merge_rwm_google_f_del[\n",
    "    'Check_Revisit_Validity'], inplace=True)"
   ]
  },
  {
   "cell_type": "code",
   "execution_count": 64,
   "id": "2af89a97",
   "metadata": {},
   "outputs": [],
   "source": [
    "dynamic_source_f2_merge_rwm_google_f_del['Check blank_RWM_Revisit'].replace(True, np.nan, inplace=True)"
   ]
  },
  {
   "cell_type": "code",
   "execution_count": 65,
   "id": "7cd95bbd",
   "metadata": {},
   "outputs": [],
   "source": [
    "dynamic_source_f2_merge_rwm_google_f_del.rename(\n",
    "    columns={'Check_Revisit_Validity':'Check blank_RWM_Revisit', \n",
    "             'Check blank_RWM_Revisit':'Check_Revisit_Validity'}, inplace=True)"
   ]
  },
  {
   "cell_type": "markdown",
   "id": "b28d3fd8",
   "metadata": {},
   "source": [
    "# Merging with the Dynamic Source"
   ]
  },
  {
   "cell_type": "code",
   "execution_count": 66,
   "id": "7792ebf7",
   "metadata": {},
   "outputs": [],
   "source": [
    "dynamic_source_f2_merge_rwm_google_f2_del = dynamic_source_f2_merge_rwm_google_f_del[['Primary_key', \n",
    "                                                                                      'Check_Revisit_Validity']]"
   ]
  },
  {
   "cell_type": "code",
   "execution_count": 67,
   "id": "492be6e2",
   "metadata": {},
   "outputs": [],
   "source": [
    "dynamic_source_f2_merge2_rwm_google_del = dynamic_source_f2_merge_rwm_google.merge(\n",
    "    dynamic_source_f2_merge_rwm_google_f2_del, on='Primary_key', how='left')"
   ]
  },
  {
   "cell_type": "code",
   "execution_count": 68,
   "id": "19eb05a3",
   "metadata": {},
   "outputs": [],
   "source": [
    "dynamic_source_f2_merge2_rwm_google_del.rename(\n",
    "    columns={'Check_Revisit_Validity':'RWM_Revisit_Validity'}, inplace=True)"
   ]
  },
  {
   "cell_type": "code",
   "execution_count": 69,
   "id": "62dcdeb4",
   "metadata": {},
   "outputs": [],
   "source": [
    "dynamic_source_f3_merge2_rwm_google_del = dynamic_source_f2_merge2_rwm_google_del[['Primary_key', \n",
    "    'Revisit_Date_RWM', 'Remarks_RWM', 'New_Revisit_Date_Google', 'Google_Validity', 'csv Google MID',\n",
    "                                                            'RWM_Revisit_Validity']]"
   ]
  },
  {
   "cell_type": "code",
   "execution_count": 70,
   "id": "9f3060fd",
   "metadata": {
    "scrolled": true
   },
   "outputs": [],
   "source": [
    "dynamic_source_merge = dynamic_source_final.merge(\n",
    "    dynamic_source_f3_merge2_rwm_google_del, on='Primary_key', how='left')"
   ]
  },
  {
   "cell_type": "code",
   "execution_count": 71,
   "id": "a500c894",
   "metadata": {},
   "outputs": [],
   "source": [
    "dynamic_source_merge.drop_duplicates(subset=['Primary_key'], inplace=True)"
   ]
  },
  {
   "cell_type": "code",
   "execution_count": 72,
   "id": "02b61e65",
   "metadata": {},
   "outputs": [
    {
     "data": {
      "text/html": [
       "<div>\n",
       "<style scoped>\n",
       "    .dataframe tbody tr th:only-of-type {\n",
       "        vertical-align: middle;\n",
       "    }\n",
       "\n",
       "    .dataframe tbody tr th {\n",
       "        vertical-align: top;\n",
       "    }\n",
       "\n",
       "    .dataframe thead th {\n",
       "        text-align: right;\n",
       "    }\n",
       "</style>\n",
       "<table border=\"1\" class=\"dataframe\">\n",
       "  <thead>\n",
       "    <tr style=\"text-align: right;\">\n",
       "      <th></th>\n",
       "      <th>MerchantId</th>\n",
       "      <th>Objectives</th>\n",
       "      <th>IngestionStatus</th>\n",
       "      <th>Report Date</th>\n",
       "      <th>Ingestion Date</th>\n",
       "      <th>RWM Remarks</th>\n",
       "      <th>Revisit Expire Date</th>\n",
       "      <th>s no</th>\n",
       "      <th>RWM Revisit Status</th>\n",
       "      <th>RWM Revisit Date</th>\n",
       "      <th>...</th>\n",
       "      <th>csv Google MID_x</th>\n",
       "      <th>Google csv Visit Date</th>\n",
       "      <th>csv Validity</th>\n",
       "      <th>Primary_key</th>\n",
       "      <th>Revisit_Date_RWM</th>\n",
       "      <th>Remarks_RWM</th>\n",
       "      <th>New_Revisit_Date_Google</th>\n",
       "      <th>Google_Validity</th>\n",
       "      <th>csv Google MID_y</th>\n",
       "      <th>RWM_Revisit_Validity</th>\n",
       "    </tr>\n",
       "  </thead>\n",
       "  <tbody>\n",
       "    <tr>\n",
       "      <th>0</th>\n",
       "      <td>BCR2DN4TSCO3DNDR</td>\n",
       "      <td>checkin-nob</td>\n",
       "      <td>ADD</td>\n",
       "      <td>5-Aug-2022</td>\n",
       "      <td>5-Aug-2022</td>\n",
       "      <td>Success</td>\n",
       "      <td>NaN</td>\n",
       "      <td>1</td>\n",
       "      <td>NaN</td>\n",
       "      <td>NaN</td>\n",
       "      <td>...</td>\n",
       "      <td>NaN</td>\n",
       "      <td>NaN</td>\n",
       "      <td>NaN</td>\n",
       "      <td>1</td>\n",
       "      <td>NaN</td>\n",
       "      <td>NaN</td>\n",
       "      <td>NaN</td>\n",
       "      <td>NaN</td>\n",
       "      <td>NaN</td>\n",
       "      <td>NaN</td>\n",
       "    </tr>\n",
       "    <tr>\n",
       "      <th>1</th>\n",
       "      <td>BCR2DN4TWDVZF7LF</td>\n",
       "      <td>checkin-nob</td>\n",
       "      <td>ADD</td>\n",
       "      <td>5-Aug-2022</td>\n",
       "      <td>NaN</td>\n",
       "      <td>Merchant Ext.ID is not present in Merchant Mas...</td>\n",
       "      <td>NaN</td>\n",
       "      <td>2</td>\n",
       "      <td>NaN</td>\n",
       "      <td>NaN</td>\n",
       "      <td>...</td>\n",
       "      <td>NaN</td>\n",
       "      <td>NaN</td>\n",
       "      <td>NaN</td>\n",
       "      <td>2</td>\n",
       "      <td>NaN</td>\n",
       "      <td>NaN</td>\n",
       "      <td>NaN</td>\n",
       "      <td>NaN</td>\n",
       "      <td>NaN</td>\n",
       "      <td>NaN</td>\n",
       "    </tr>\n",
       "    <tr>\n",
       "      <th>2</th>\n",
       "      <td>BCR2DN6T2OKJNTKZ</td>\n",
       "      <td>inactive | stuck_settlements</td>\n",
       "      <td>EDIT</td>\n",
       "      <td>5-Aug-2022</td>\n",
       "      <td>5-Aug-2022</td>\n",
       "      <td>Success</td>\n",
       "      <td>NaN</td>\n",
       "      <td>3</td>\n",
       "      <td>Revisit Done</td>\n",
       "      <td>23-Sep-2022</td>\n",
       "      <td>...</td>\n",
       "      <td>BCR2DN6T2OKJNTKZ</td>\n",
       "      <td>23-Sep-2022</td>\n",
       "      <td>VALID</td>\n",
       "      <td>3</td>\n",
       "      <td>NaN</td>\n",
       "      <td>NaN</td>\n",
       "      <td>NaN</td>\n",
       "      <td>NaN</td>\n",
       "      <td>NaN</td>\n",
       "      <td>NaN</td>\n",
       "    </tr>\n",
       "    <tr>\n",
       "      <th>3</th>\n",
       "      <td>BCR2DN6TUXLJ3PTX</td>\n",
       "      <td>support | stuck_settlements</td>\n",
       "      <td>EDIT</td>\n",
       "      <td>5-Aug-2022</td>\n",
       "      <td>5-Aug-2022</td>\n",
       "      <td>Success</td>\n",
       "      <td>NaN</td>\n",
       "      <td>4</td>\n",
       "      <td>NaN</td>\n",
       "      <td>NaN</td>\n",
       "      <td>...</td>\n",
       "      <td>NaN</td>\n",
       "      <td>NaN</td>\n",
       "      <td>NaN</td>\n",
       "      <td>4</td>\n",
       "      <td>NaN</td>\n",
       "      <td>NaN</td>\n",
       "      <td>NaN</td>\n",
       "      <td>NaN</td>\n",
       "      <td>NaN</td>\n",
       "      <td>NaN</td>\n",
       "    </tr>\n",
       "    <tr>\n",
       "      <th>4</th>\n",
       "      <td>BCR2DN6TUW2MV52D</td>\n",
       "      <td>stuck_settlements</td>\n",
       "      <td>ADD</td>\n",
       "      <td>5-Aug-2022</td>\n",
       "      <td>NaN</td>\n",
       "      <td>Merchant Ext.ID is not present in Merchant Mas...</td>\n",
       "      <td>NaN</td>\n",
       "      <td>5</td>\n",
       "      <td>NaN</td>\n",
       "      <td>NaN</td>\n",
       "      <td>...</td>\n",
       "      <td>NaN</td>\n",
       "      <td>NaN</td>\n",
       "      <td>NaN</td>\n",
       "      <td>5</td>\n",
       "      <td>NaN</td>\n",
       "      <td>NaN</td>\n",
       "      <td>NaN</td>\n",
       "      <td>NaN</td>\n",
       "      <td>NaN</td>\n",
       "      <td>NaN</td>\n",
       "    </tr>\n",
       "  </tbody>\n",
       "</table>\n",
       "<p>5 rows × 26 columns</p>\n",
       "</div>"
      ],
      "text/plain": [
       "         MerchantId                    Objectives IngestionStatus Report Date  \\\n",
       "0  BCR2DN4TSCO3DNDR                   checkin-nob             ADD  5-Aug-2022   \n",
       "1  BCR2DN4TWDVZF7LF                   checkin-nob             ADD  5-Aug-2022   \n",
       "2  BCR2DN6T2OKJNTKZ  inactive | stuck_settlements            EDIT  5-Aug-2022   \n",
       "3  BCR2DN6TUXLJ3PTX   support | stuck_settlements            EDIT  5-Aug-2022   \n",
       "4  BCR2DN6TUW2MV52D             stuck_settlements             ADD  5-Aug-2022   \n",
       "\n",
       "  Ingestion Date                                        RWM Remarks  \\\n",
       "0     5-Aug-2022                                            Success   \n",
       "1            NaN  Merchant Ext.ID is not present in Merchant Mas...   \n",
       "2     5-Aug-2022                                            Success   \n",
       "3     5-Aug-2022                                            Success   \n",
       "4            NaN  Merchant Ext.ID is not present in Merchant Mas...   \n",
       "\n",
       "  Revisit Expire Date  s no RWM Revisit Status RWM Revisit Date  ...  \\\n",
       "0                 NaN     1                NaN              NaN  ...   \n",
       "1                 NaN     2                NaN              NaN  ...   \n",
       "2                 NaN     3       Revisit Done      23-Sep-2022  ...   \n",
       "3                 NaN     4                NaN              NaN  ...   \n",
       "4                 NaN     5                NaN              NaN  ...   \n",
       "\n",
       "   csv Google MID_x  Google csv Visit Date  csv Validity Primary_key  \\\n",
       "0               NaN                    NaN           NaN           1   \n",
       "1               NaN                    NaN           NaN           2   \n",
       "2  BCR2DN6T2OKJNTKZ            23-Sep-2022         VALID           3   \n",
       "3               NaN                    NaN           NaN           4   \n",
       "4               NaN                    NaN           NaN           5   \n",
       "\n",
       "  Revisit_Date_RWM  Remarks_RWM New_Revisit_Date_Google Google_Validity  \\\n",
       "0              NaN          NaN                     NaN             NaN   \n",
       "1              NaN          NaN                     NaN             NaN   \n",
       "2              NaN          NaN                     NaN             NaN   \n",
       "3              NaN          NaN                     NaN             NaN   \n",
       "4              NaN          NaN                     NaN             NaN   \n",
       "\n",
       "  csv Google MID_y  RWM_Revisit_Validity  \n",
       "0              NaN                   NaN  \n",
       "1              NaN                   NaN  \n",
       "2              NaN                   NaN  \n",
       "3              NaN                   NaN  \n",
       "4              NaN                   NaN  \n",
       "\n",
       "[5 rows x 26 columns]"
      ]
     },
     "execution_count": 72,
     "metadata": {},
     "output_type": "execute_result"
    }
   ],
   "source": [
    "dynamic_source_merge.head()"
   ]
  },
  {
   "cell_type": "code",
   "execution_count": null,
   "id": "af3a0cda",
   "metadata": {},
   "outputs": [],
   "source": []
  },
  {
   "cell_type": "code",
   "execution_count": null,
   "id": "30735697",
   "metadata": {},
   "outputs": [],
   "source": []
  },
  {
   "cell_type": "markdown",
   "id": "71dc78a0",
   "metadata": {},
   "source": [
    "# Filling the blank in Original Dynamic Source"
   ]
  },
  {
   "cell_type": "code",
   "execution_count": 73,
   "id": "053dcb7d",
   "metadata": {},
   "outputs": [],
   "source": [
    "dynamic_source_merge['RWM Revisit Status'].fillna(dynamic_source_merge['Remarks_RWM'], inplace=True)"
   ]
  },
  {
   "cell_type": "code",
   "execution_count": 74,
   "id": "5fbfaafe",
   "metadata": {},
   "outputs": [],
   "source": [
    "dynamic_source_merge['RWM Revisit Date'].fillna(dynamic_source_merge['Revisit_Date_RWM'], inplace=True)"
   ]
  },
  {
   "cell_type": "code",
   "execution_count": 75,
   "id": "5ef07bea",
   "metadata": {},
   "outputs": [],
   "source": [
    "dynamic_source_merge['Validity'].fillna(dynamic_source_merge['RWM_Revisit_Validity'], inplace=True)"
   ]
  },
  {
   "cell_type": "code",
   "execution_count": 76,
   "id": "9736a3e9",
   "metadata": {},
   "outputs": [],
   "source": [
    "dynamic_source_merge['csv Google MID_x'].fillna(dynamic_source_merge['csv Google MID_y'], inplace=True)"
   ]
  },
  {
   "cell_type": "code",
   "execution_count": 77,
   "id": "a9028eb7",
   "metadata": {},
   "outputs": [],
   "source": [
    "dynamic_source_merge['Google csv Visit Date'].fillna(dynamic_source_merge['New_Revisit_Date_Google'], inplace=True)"
   ]
  },
  {
   "cell_type": "code",
   "execution_count": 78,
   "id": "2902fd9a",
   "metadata": {},
   "outputs": [],
   "source": [
    "dynamic_source_merge['csv Validity'].fillna(dynamic_source_merge['Google_Validity'], inplace=True)"
   ]
  },
  {
   "cell_type": "markdown",
   "id": "6fa17a4e",
   "metadata": {},
   "source": [
    "# Filling Validity Except for Delete"
   ]
  },
  {
   "cell_type": "code",
   "execution_count": 79,
   "id": "bcdb3693",
   "metadata": {},
   "outputs": [],
   "source": [
    "dynamic_source_merge_f2 = dynamic_source_merge[['MerchantId', 'Primary_key', 'IngestionStatus', \n",
    "                                                'RWM Revisit Date']]"
   ]
  },
  {
   "cell_type": "code",
   "execution_count": 80,
   "id": "409fcab1",
   "metadata": {},
   "outputs": [],
   "source": [
    "dynamic_source_merge_f3 = dynamic_source_merge_f2[~dynamic_source_merge_f2['IngestionStatus'].isin(['DELETE'])]"
   ]
  },
  {
   "cell_type": "code",
   "execution_count": 81,
   "id": "65ca9b60",
   "metadata": {},
   "outputs": [],
   "source": [
    "dynamic_source_merge_f3[\"Check_revisit_date_blank\"] = dynamic_source_merge_f3[\"RWM Revisit Date\"].isna()"
   ]
  },
  {
   "cell_type": "code",
   "execution_count": 82,
   "id": "2de275f2",
   "metadata": {},
   "outputs": [],
   "source": [
    "dynamic_source_merge_f3[\"Check_revisit_date_blank\"] = dynamic_source_merge_f3[\n",
    "    \"Check_revisit_date_blank\"].map({True:np.nan, False:\"VALID\"})"
   ]
  },
  {
   "cell_type": "code",
   "execution_count": 83,
   "id": "58675669",
   "metadata": {},
   "outputs": [],
   "source": [
    "dynamic_source_merge_f4 = dynamic_source_merge_f3[['Primary_key', 'Check_revisit_date_blank']]"
   ]
  },
  {
   "cell_type": "code",
   "execution_count": 84,
   "id": "4c15df01",
   "metadata": {},
   "outputs": [],
   "source": [
    "dynamic_source_merge2 = dynamic_source_merge.merge(dynamic_source_merge_f4, on='Primary_key', how='left')"
   ]
  },
  {
   "cell_type": "code",
   "execution_count": 85,
   "id": "17c0468f",
   "metadata": {},
   "outputs": [],
   "source": [
    "dynamic_source_merge2['Validity'].fillna(dynamic_source_merge2['Check_revisit_date_blank'], inplace=True)"
   ]
  },
  {
   "cell_type": "code",
   "execution_count": 86,
   "id": "e75837fc",
   "metadata": {},
   "outputs": [],
   "source": [
    "dynamic_source_merge3 = dynamic_source_merge2.merge(mid_match_f, on='s no', how='left')"
   ]
  },
  {
   "cell_type": "code",
   "execution_count": 87,
   "id": "4bdfd682",
   "metadata": {},
   "outputs": [],
   "source": [
    "dynamic_source_merge3['Objectives'].fillna(dynamic_source_merge3['Objectives_2'], inplace=True)\n",
    "dynamic_source_merge3['Pincode'].fillna(dynamic_source_merge3['Pincode_2'], inplace=True)\n",
    "dynamic_source_merge3['Phone Number'].fillna(dynamic_source_merge3['Phone Number_2'], inplace=True)\n",
    "dynamic_source_merge3['City'].fillna(dynamic_source_merge3['City_2'], inplace=True)\n",
    "dynamic_source_merge3['Cluster'].fillna(dynamic_source_merge3['Cluster_2'], inplace=True)"
   ]
  },
  {
   "cell_type": "code",
   "execution_count": 88,
   "id": "0c5a7580",
   "metadata": {},
   "outputs": [],
   "source": [
    "dynamic_source_merge_f = dynamic_source_merge3[['MerchantId', 'Objectives', 'IngestionStatus', 'Report Date',\n",
    "                                              'RWM Remarks', 'Ingestion Date', 'RWM Revisit Status', \n",
    "                                               'RWM Revisit Date', 'Revisit Expire Date', 'Validity',\n",
    "                                              'Pincode', 'Phone Number', 'City', 'Cluster', \n",
    "                                               'Failed Upload RWM MID','csv Google MID_x','Google csv Visit Date',\n",
    "                                              'csv Validity', 's no']].rename(\n",
    "    columns={'csv Google MID_x':'csv Google MID'})"
   ]
  },
  {
   "cell_type": "code",
   "execution_count": 89,
   "id": "8586e6ad",
   "metadata": {},
   "outputs": [],
   "source": [
    "dynamic_source_merge_f2 = dynamic_source_merge_f.sort_values(by=\"s no\")"
   ]
  },
  {
   "cell_type": "code",
   "execution_count": 90,
   "id": "b5dd151a",
   "metadata": {},
   "outputs": [],
   "source": [
    "dynamic_source_merge_f2.to_csv(output_loc+\"Dynamic_source_match.csv\", index=False)"
   ]
  },
  {
   "cell_type": "code",
   "execution_count": 91,
   "id": "6cddf2c7",
   "metadata": {},
   "outputs": [
    {
     "data": {
      "text/plain": [
       "(1991413, 19)"
      ]
     },
     "execution_count": 91,
     "metadata": {},
     "output_type": "execute_result"
    }
   ],
   "source": [
    "dynamic_source_merge_f.shape"
   ]
  },
  {
   "cell_type": "code",
   "execution_count": 92,
   "id": "d449e12d",
   "metadata": {},
   "outputs": [],
   "source": [
    "dynamic_source_merge_f2 = dynamic_source_merge_f[['MerchantId', 'Objectives', 'IngestionStatus', 'Report Date',\n",
    "                                                 'RWM Remarks','Ingestion Date','Revisit Expire Date', 's no']]"
   ]
  },
  {
   "cell_type": "code",
   "execution_count": 93,
   "id": "de79db37",
   "metadata": {},
   "outputs": [],
   "source": [
    "dynamic_source_merge_f2 = dynamic_source_merge_f2[dynamic_source_merge_f2[\"RWM Remarks\"].isin(['Success'])]"
   ]
  },
  {
   "cell_type": "code",
   "execution_count": 94,
   "id": "196ff173",
   "metadata": {},
   "outputs": [],
   "source": [
    "dynamic_source_merge_f2.drop_duplicates(subset=['MerchantId'], keep='last', inplace=True)"
   ]
  },
  {
   "cell_type": "code",
   "execution_count": null,
   "id": "826d1b2a",
   "metadata": {},
   "outputs": [],
   "source": []
  },
  {
   "cell_type": "code",
   "execution_count": 95,
   "id": "88d8bdd6",
   "metadata": {},
   "outputs": [],
   "source": [
    "#dynamic_source_merge_f2[dynamic_source_merge_f2[\n",
    "#    'RWM Remarks'].isin(['Success'])].to_csv(output_loc+'Dynamic_for_matching.csv', index=False)"
   ]
  },
  {
   "cell_type": "code",
   "execution_count": 96,
   "id": "d8b1d012",
   "metadata": {},
   "outputs": [],
   "source": [
    "dynamic_source_merge_f2.to_csv(output_loc+'Dynamic_for_matching.csv', index=False)"
   ]
  },
  {
   "cell_type": "markdown",
   "id": "0e12a0ba",
   "metadata": {},
   "source": [
    "# Split file Based on Report Date"
   ]
  },
  {
   "cell_type": "code",
   "execution_count": 97,
   "id": "f120d58f",
   "metadata": {},
   "outputs": [
    {
     "data": {
      "text/plain": [
       "array(['5-Aug-2022', '12-Aug-2022', '19-Aug-2022', '26-Aug-2022',\n",
       "       '2-Sep-2022', '9-Sep-2022', '16-Sep-2022', '23-Sep-2022',\n",
       "       '28-Sep-2022', '30-Sep-2022', '6-Oct-2022', '7-Oct-2022',\n",
       "       '14-Oct-2022', '21-Oct-2022', '28-Oct-2022', '4-Nov-2022'],\n",
       "      dtype=object)"
      ]
     },
     "execution_count": 97,
     "metadata": {},
     "output_type": "execute_result"
    }
   ],
   "source": [
    "dynamic_source_merge_f['Report Date'].unique()"
   ]
  },
  {
   "cell_type": "code",
   "execution_count": 98,
   "id": "f8521e17",
   "metadata": {},
   "outputs": [],
   "source": [
    "file_no = 1"
   ]
  },
  {
   "cell_type": "code",
   "execution_count": 99,
   "id": "ba1926ac",
   "metadata": {},
   "outputs": [],
   "source": [
    "for i in date_list:\n",
    "    dynamic_source_merge_f[dynamic_source_merge_f[\n",
    "        'Report Date'].isin(i)].to_csv(output_loc+\"Dynamic Source Split/\"+str(file_no)+'.csv', index=False)\n",
    "    file_no += 1"
   ]
  },
  {
   "cell_type": "code",
   "execution_count": 100,
   "id": "aaf6ca45",
   "metadata": {},
   "outputs": [],
   "source": [
    "input_loc_s = \"/home/dhrubakumardolai/Desktop/Python Test/Rahul/Script 4 Matching revisit with the dynamic Source/Result/Dynamic Source Split/\""
   ]
  },
  {
   "cell_type": "code",
   "execution_count": 101,
   "id": "5c424475",
   "metadata": {},
   "outputs": [],
   "source": [
    "sort_3 = pd.read_csv(input_loc_s+\"3.csv\")"
   ]
  },
  {
   "cell_type": "code",
   "execution_count": 102,
   "id": "25d8e3af",
   "metadata": {},
   "outputs": [],
   "source": [
    "sort_3[\"s no\"].replace({\",\":\"\"}, regex=True, inplace=True)"
   ]
  },
  {
   "cell_type": "code",
   "execution_count": 103,
   "id": "29dbef2c",
   "metadata": {},
   "outputs": [],
   "source": [
    "sort_3[\"s no\"] = sort_3[\"s no\"].astype(int)"
   ]
  },
  {
   "cell_type": "code",
   "execution_count": 104,
   "id": "9c3d7922",
   "metadata": {},
   "outputs": [],
   "source": [
    "sort_3.sort_values(by='s no', inplace=True)"
   ]
  },
  {
   "cell_type": "code",
   "execution_count": 105,
   "id": "200ca3c2",
   "metadata": {},
   "outputs": [],
   "source": [
    "sort_3.to_csv(input_loc_s+\"3.csv\", index=False)"
   ]
  },
  {
   "cell_type": "code",
   "execution_count": 106,
   "id": "a0f2c10d",
   "metadata": {},
   "outputs": [],
   "source": [
    "file_size = 200000\n",
    "batch_no_3 = 1"
   ]
  },
  {
   "cell_type": "code",
   "execution_count": 107,
   "id": "37d26bd2",
   "metadata": {},
   "outputs": [],
   "source": [
    "for i in pd.read_csv(input_loc_s+\"3.csv\", chunksize=file_size):\n",
    "    i.to_csv(input_loc_s+'3-'+str(batch_no_3)+'.csv', index=False)\n",
    "    batch_no_3 += 1"
   ]
  },
  {
   "cell_type": "code",
   "execution_count": null,
   "id": "44607d83",
   "metadata": {},
   "outputs": [],
   "source": []
  },
  {
   "cell_type": "code",
   "execution_count": null,
   "id": "2e8c2d25",
   "metadata": {},
   "outputs": [],
   "source": []
  },
  {
   "cell_type": "code",
   "execution_count": null,
   "id": "7e7df67b",
   "metadata": {},
   "outputs": [],
   "source": [
    "Stop =  "
   ]
  },
  {
   "cell_type": "markdown",
   "id": "f7ec28fe",
   "metadata": {},
   "source": [
    "# Extra"
   ]
  },
  {
   "cell_type": "code",
   "execution_count": null,
   "id": "20936137",
   "metadata": {},
   "outputs": [],
   "source": []
  },
  {
   "cell_type": "code",
   "execution_count": null,
   "id": "3bd9ed42",
   "metadata": {},
   "outputs": [],
   "source": []
  },
  {
   "cell_type": "code",
   "execution_count": null,
   "id": "5152ff0d",
   "metadata": {},
   "outputs": [],
   "source": []
  },
  {
   "cell_type": "code",
   "execution_count": null,
   "id": "6615df52",
   "metadata": {},
   "outputs": [],
   "source": []
  }
 ],
 "metadata": {
  "kernelspec": {
   "display_name": "Python 3 (ipykernel)",
   "language": "python",
   "name": "python3"
  },
  "language_info": {
   "codemirror_mode": {
    "name": "ipython",
    "version": 3
   },
   "file_extension": ".py",
   "mimetype": "text/x-python",
   "name": "python",
   "nbconvert_exporter": "python",
   "pygments_lexer": "ipython3",
   "version": "3.10.6"
  }
 },
 "nbformat": 4,
 "nbformat_minor": 5
}
