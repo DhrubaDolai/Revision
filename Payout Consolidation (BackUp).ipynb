{
 "cells": [
  {
   "cell_type": "code",
   "execution_count": 1,
   "id": "529316bd",
   "metadata": {},
   "outputs": [],
   "source": [
    "import pandas as pd\n",
    "import os\n",
    "import numpy as np\n",
    "import xlsxwriter as xw\n",
    "import re\n",
    "import warnings\n",
    "warnings.filterwarnings('ignore')\n",
    "import openpyxl as op\n",
    "from openpyxl import Workbook, load_workbook\n",
    "from openpyxl.styles import PatternFill, Border, Side, Alignment, Protection, Font\n",
    "from pathlib import Path\n",
    "import glob"
   ]
  },
  {
   "cell_type": "code",
   "execution_count": 2,
   "id": "760b1c60",
   "metadata": {},
   "outputs": [],
   "source": [
    "input_loc = \"/home/dhrubakumardolai/Desktop/Python Test/Result/Revisit File/Nov/\"\n",
    "output_loc = \"/home/dhrubakumardolai/Desktop/Python Test/Rahul/Payout/Result/Payout Consolidation/\""
   ]
  },
  {
   "cell_type": "code",
   "execution_count": 3,
   "id": "08069876",
   "metadata": {},
   "outputs": [],
   "source": [
    "input_loc_tv_city = \"/home/dhrubakumardolai/Desktop/Python Test/Target/Mini/Latest Team View File/Nov/\""
   ]
  },
  {
   "cell_type": "code",
   "execution_count": 4,
   "id": "3b3fbe08",
   "metadata": {},
   "outputs": [],
   "source": [
    "input_loc_OB = \"/home/dhrubakumardolai/Desktop/Python Test/Rahul/Is in OB?/Target/latest ob/Nov/\""
   ]
  },
  {
   "cell_type": "code",
   "execution_count": 5,
   "id": "566dd13c",
   "metadata": {},
   "outputs": [],
   "source": [
    "input_loc_june_to_oct = \"/home/dhrubakumardolai/Desktop/Python Test/Rahul/Task File Rahul Sir/June to Aug Match/Target/\""
   ]
  },
  {
   "cell_type": "code",
   "execution_count": 6,
   "id": "659699d8",
   "metadata": {},
   "outputs": [],
   "source": [
    "input_loc_outcome = \"/home/dhrubakumardolai/Desktop/Python Test/Rahul/Task File Rahul Sir/Outcome Check Date Wise/Target/Outcome/Nov/\""
   ]
  },
  {
   "cell_type": "code",
   "execution_count": 7,
   "id": "93ce0d8e",
   "metadata": {},
   "outputs": [],
   "source": [
    "input_loc_OB_Google = \"/home/dhrubakumardolai/Desktop/Python Test/Revisit File/Google Revisit/2022/11/\""
   ]
  },
  {
   "cell_type": "markdown",
   "id": "adf7bcb0",
   "metadata": {},
   "source": [
    "# Target Date Range"
   ]
  },
  {
   "cell_type": "code",
   "execution_count": 8,
   "id": "db766a9d",
   "metadata": {},
   "outputs": [],
   "source": [
    "current_date = [\"Nov-29-2022\", \"Nov-30-2022\"]"
   ]
  },
  {
   "cell_type": "code",
   "execution_count": 9,
   "id": "79d6fb42",
   "metadata": {},
   "outputs": [],
   "source": [
    "current_month_ob = \"2022-11-01\"\n",
    "last_month_ob = \"2022-11-30\""
   ]
  },
  {
   "cell_type": "code",
   "execution_count": 10,
   "id": "3b3cd487",
   "metadata": {},
   "outputs": [],
   "source": [
    "current_month = \"Nov\""
   ]
  },
  {
   "cell_type": "code",
   "execution_count": 11,
   "id": "a3475ced",
   "metadata": {},
   "outputs": [],
   "source": [
    "current_year = 2022"
   ]
  },
  {
   "cell_type": "code",
   "execution_count": 12,
   "id": "a34d2d33",
   "metadata": {
    "scrolled": true
   },
   "outputs": [],
   "source": [
    "date_1 = range(1,10)"
   ]
  },
  {
   "cell_type": "code",
   "execution_count": 13,
   "id": "a2bd1a77",
   "metadata": {},
   "outputs": [],
   "source": [
    "date_2 = range(10,17)"
   ]
  },
  {
   "cell_type": "code",
   "execution_count": 14,
   "id": "7bda00a1",
   "metadata": {},
   "outputs": [],
   "source": [
    "Date = []\n",
    "for i in date_1:\n",
    "    i = str(current_month)+\"-\"+str(0)+str(i)+\"-\"+str(current_year)\n",
    "    Date.append(i)"
   ]
  },
  {
   "cell_type": "code",
   "execution_count": 15,
   "id": "1f0dd4a7",
   "metadata": {},
   "outputs": [],
   "source": [
    "for i in date_2:\n",
    "    i = str(current_month)+\"-\"+str(i)+\"-\"+str(current_year)\n",
    "    Date.append(i)"
   ]
  },
  {
   "cell_type": "markdown",
   "id": "0f139091",
   "metadata": {},
   "source": [
    "# Is in Previous Revisit"
   ]
  },
  {
   "cell_type": "code",
   "execution_count": 16,
   "id": "cae1af47",
   "metadata": {},
   "outputs": [],
   "source": [
    "input_loc_google = input_loc_june_to_oct+\"/Google/\"\n",
    "input_loc_rwm = input_loc_june_to_oct+\"/RWM/\""
   ]
  },
  {
   "cell_type": "markdown",
   "id": "581d2564",
   "metadata": {},
   "source": [
    "#### Google"
   ]
  },
  {
   "cell_type": "code",
   "execution_count": 17,
   "id": "c40d79db",
   "metadata": {},
   "outputs": [],
   "source": [
    "filelist = glob.glob(input_loc_google+'/**/*', recursive=True)"
   ]
  },
  {
   "cell_type": "code",
   "execution_count": 18,
   "id": "2b3797f9",
   "metadata": {},
   "outputs": [],
   "source": [
    "google_revisit = pd.DataFrame()\n",
    "\n",
    "for file in filelist:\n",
    "    if file.endswith(\".csv\"):\n",
    "        df = pd.read_csv(file)\n",
    "        google_revisit = google_revisit.append(df)"
   ]
  },
  {
   "cell_type": "code",
   "execution_count": 19,
   "id": "0db2440a",
   "metadata": {},
   "outputs": [],
   "source": [
    "google_revisit_f = google_revisit[google_revisit['Validity'].isin(['VALID'])]"
   ]
  },
  {
   "cell_type": "code",
   "execution_count": 20,
   "id": "0fce950e",
   "metadata": {},
   "outputs": [],
   "source": [
    "google_revisit_f2 = google_revisit_f[['MerchantExternalId', 'Date']]"
   ]
  },
  {
   "cell_type": "code",
   "execution_count": 21,
   "id": "f892ed0f",
   "metadata": {},
   "outputs": [],
   "source": [
    "google_revisit_f2['Date'] = pd.to_datetime(google_revisit_f2['Date'])\n",
    "google_revisit_f2['Date'] = google_revisit_f2['Date'].dt.strftime(\"%b-%d-%Y\")"
   ]
  },
  {
   "cell_type": "code",
   "execution_count": 22,
   "id": "1400fad7",
   "metadata": {
    "scrolled": false
   },
   "outputs": [
    {
     "data": {
      "text/html": [
       "<div>\n",
       "<style scoped>\n",
       "    .dataframe tbody tr th:only-of-type {\n",
       "        vertical-align: middle;\n",
       "    }\n",
       "\n",
       "    .dataframe tbody tr th {\n",
       "        vertical-align: top;\n",
       "    }\n",
       "\n",
       "    .dataframe thead th {\n",
       "        text-align: right;\n",
       "    }\n",
       "</style>\n",
       "<table border=\"1\" class=\"dataframe\">\n",
       "  <thead>\n",
       "    <tr style=\"text-align: right;\">\n",
       "      <th></th>\n",
       "      <th>MerchantExternalId</th>\n",
       "      <th>Date</th>\n",
       "    </tr>\n",
       "  </thead>\n",
       "  <tbody>\n",
       "    <tr>\n",
       "      <th>0</th>\n",
       "      <td>BCR2DN4T2C32B6QM</td>\n",
       "      <td>Aug-01-2022</td>\n",
       "    </tr>\n",
       "  </tbody>\n",
       "</table>\n",
       "</div>"
      ],
      "text/plain": [
       "  MerchantExternalId         Date\n",
       "0   BCR2DN4T2C32B6QM  Aug-01-2022"
      ]
     },
     "execution_count": 22,
     "metadata": {},
     "output_type": "execute_result"
    }
   ],
   "source": [
    "google_revisit_f2.head(1)"
   ]
  },
  {
   "cell_type": "code",
   "execution_count": 23,
   "id": "172e04bd",
   "metadata": {},
   "outputs": [],
   "source": [
    "google_revisit_f2.drop_duplicates(subset=['MerchantExternalId'], keep='last', inplace=True)"
   ]
  },
  {
   "cell_type": "markdown",
   "id": "256e0ce1",
   "metadata": {},
   "source": [
    "#### RWM"
   ]
  },
  {
   "cell_type": "code",
   "execution_count": 24,
   "id": "ea7b9ca1",
   "metadata": {},
   "outputs": [],
   "source": [
    "filelist2 = glob.glob(input_loc_rwm+'/**/*', recursive=True)"
   ]
  },
  {
   "cell_type": "code",
   "execution_count": 25,
   "id": "9b233d2f",
   "metadata": {},
   "outputs": [],
   "source": [
    "rwm_revisit = pd.DataFrame()\n",
    "\n",
    "for file in filelist2:\n",
    "    if file.endswith(\".csv\"):\n",
    "        df = pd.read_csv(file)\n",
    "        rwm_revisit = rwm_revisit.append(df)"
   ]
  },
  {
   "cell_type": "code",
   "execution_count": 26,
   "id": "7e664a8c",
   "metadata": {},
   "outputs": [],
   "source": [
    "rwm_revisit = rwm_revisit[rwm_revisit['Validity'].isin(['VALID'])]"
   ]
  },
  {
   "cell_type": "code",
   "execution_count": 27,
   "id": "76ae78e4",
   "metadata": {},
   "outputs": [],
   "source": [
    "rwm_revisit_f = rwm_revisit[['Merchant Ext ID', 'Revisit Date']]"
   ]
  },
  {
   "cell_type": "code",
   "execution_count": 28,
   "id": "19c23e29",
   "metadata": {},
   "outputs": [],
   "source": [
    "rwm_revisit_f.rename(columns={'Merchant Ext ID':'MerchantExternalId'}, inplace=True)"
   ]
  },
  {
   "cell_type": "code",
   "execution_count": 29,
   "id": "515c263a",
   "metadata": {},
   "outputs": [],
   "source": [
    "rwm_revisit_f['Revisit Date'] = pd.to_datetime(rwm_revisit_f['Revisit Date'])\n",
    "rwm_revisit_f['Revisit Date'] = rwm_revisit_f['Revisit Date'].dt.strftime(\"%b-%d-%Y\")"
   ]
  },
  {
   "cell_type": "code",
   "execution_count": 30,
   "id": "207241ef",
   "metadata": {},
   "outputs": [
    {
     "data": {
      "text/html": [
       "<div>\n",
       "<style scoped>\n",
       "    .dataframe tbody tr th:only-of-type {\n",
       "        vertical-align: middle;\n",
       "    }\n",
       "\n",
       "    .dataframe tbody tr th {\n",
       "        vertical-align: top;\n",
       "    }\n",
       "\n",
       "    .dataframe thead th {\n",
       "        text-align: right;\n",
       "    }\n",
       "</style>\n",
       "<table border=\"1\" class=\"dataframe\">\n",
       "  <thead>\n",
       "    <tr style=\"text-align: right;\">\n",
       "      <th></th>\n",
       "      <th>MerchantExternalId</th>\n",
       "      <th>Revisit Date</th>\n",
       "    </tr>\n",
       "  </thead>\n",
       "  <tbody>\n",
       "    <tr>\n",
       "      <th>7</th>\n",
       "      <td>BCR2DN6TY7F7LGDZ</td>\n",
       "      <td>Aug-01-2022</td>\n",
       "    </tr>\n",
       "  </tbody>\n",
       "</table>\n",
       "</div>"
      ],
      "text/plain": [
       "  MerchantExternalId Revisit Date\n",
       "7   BCR2DN6TY7F7LGDZ  Aug-01-2022"
      ]
     },
     "execution_count": 30,
     "metadata": {},
     "output_type": "execute_result"
    }
   ],
   "source": [
    "rwm_revisit_f.head(1)"
   ]
  },
  {
   "cell_type": "code",
   "execution_count": 31,
   "id": "8c93d582",
   "metadata": {},
   "outputs": [],
   "source": [
    "rwm_revisit_f.drop_duplicates(subset=['MerchantExternalId'], keep='last', inplace=True)"
   ]
  },
  {
   "cell_type": "markdown",
   "id": "b67ba66a",
   "metadata": {},
   "source": [
    "# Team View City"
   ]
  },
  {
   "cell_type": "code",
   "execution_count": 32,
   "id": "616c7fc0",
   "metadata": {},
   "outputs": [
    {
     "data": {
      "text/plain": [
       "['/home/dhrubakumardolai/Desktop/Python Test/Target/Mini/Latest Team View File/Nov/Team View_26.11.2022_09.22.csv',\n",
       " '/home/dhrubakumardolai/Desktop/Python Test/Target/Mini/Latest Team View File/Nov/Team View_15.11.2022_09.59.csv',\n",
       " '/home/dhrubakumardolai/Desktop/Python Test/Target/Mini/Latest Team View File/Nov/Team View_22.11.2022_10.05.csv',\n",
       " '/home/dhrubakumardolai/Desktop/Python Test/Target/Mini/Latest Team View File/Nov/Team View_01.11.2022_09.56.csv',\n",
       " '/home/dhrubakumardolai/Desktop/Python Test/Target/Mini/Latest Team View File/Nov/Team View_28.11.2022_10.14.csv',\n",
       " '/home/dhrubakumardolai/Desktop/Python Test/Target/Mini/Latest Team View File/Nov/Team View_02.11.2022_10.03.csv',\n",
       " '/home/dhrubakumardolai/Desktop/Python Test/Target/Mini/Latest Team View File/Nov/Team View_09.11.2022_09.45.csv',\n",
       " '/home/dhrubakumardolai/Desktop/Python Test/Target/Mini/Latest Team View File/Nov/Team View_07.11.2022_09.56.csv',\n",
       " '/home/dhrubakumardolai/Desktop/Python Test/Target/Mini/Latest Team View File/Nov/Team View_04.11.2022_09.45.csv',\n",
       " '/home/dhrubakumardolai/Desktop/Python Test/Target/Mini/Latest Team View File/Nov/Team View_16.11.2022_10.08.csv',\n",
       " '/home/dhrubakumardolai/Desktop/Python Test/Target/Mini/Latest Team View File/Nov/Team View_03.11.2022_09.30.csv',\n",
       " '/home/dhrubakumardolai/Desktop/Python Test/Target/Mini/Latest Team View File/Nov/Team View_05.11.2022_09.08.csv',\n",
       " '/home/dhrubakumardolai/Desktop/Python Test/Target/Mini/Latest Team View File/Nov/Team View_18.11.2022_10.28.csv',\n",
       " '/home/dhrubakumardolai/Desktop/Python Test/Target/Mini/Latest Team View File/Nov/Team View_24.11.2022_09.45.csv',\n",
       " '/home/dhrubakumardolai/Desktop/Python Test/Target/Mini/Latest Team View File/Nov/Team View_23.11.2022_10.03.csv',\n",
       " '/home/dhrubakumardolai/Desktop/Python Test/Target/Mini/Latest Team View File/Nov/Team View_30.11.2022_09.56.csv',\n",
       " '/home/dhrubakumardolai/Desktop/Python Test/Target/Mini/Latest Team View File/Nov/Team View_08.11.2022_09.36.csv',\n",
       " '/home/dhrubakumardolai/Desktop/Python Test/Target/Mini/Latest Team View File/Nov/Team View_25.11.2022_10.04.csv',\n",
       " '/home/dhrubakumardolai/Desktop/Python Test/Target/Mini/Latest Team View File/Nov/Team View_12.11.2022_09.12.csv',\n",
       " '/home/dhrubakumardolai/Desktop/Python Test/Target/Mini/Latest Team View File/Nov/Team View_11.11.2022_09.56.csv',\n",
       " '/home/dhrubakumardolai/Desktop/Python Test/Target/Mini/Latest Team View File/Nov/Team View_19.11.2022_09.06.csv',\n",
       " '/home/dhrubakumardolai/Desktop/Python Test/Target/Mini/Latest Team View File/Nov/Team View_10.11.2022_10.10.csv',\n",
       " '/home/dhrubakumardolai/Desktop/Python Test/Target/Mini/Latest Team View File/Nov/Team View_17.11.2022_10.22.csv',\n",
       " '/home/dhrubakumardolai/Desktop/Python Test/Target/Mini/Latest Team View File/Nov/Team View_29.11.2022_10.15.csv']"
      ]
     },
     "execution_count": 32,
     "metadata": {},
     "output_type": "execute_result"
    }
   ],
   "source": [
    "filelist = glob.glob(input_loc_tv_city+\"/**/*.csv\", recursive=True)"
   ]
  },
  {
   "cell_type": "code",
   "execution_count": 33,
   "id": "25aedcee",
   "metadata": {},
   "outputs": [],
   "source": [
    "TV_city = pd.DataFrame()\n",
    "\n",
    "for file in filelist:\n",
    "    if file.endswith('.csv'):\n",
    "        df = pd.read_csv(file)\n",
    "        TV_city = TV_city.append(df)"
   ]
  },
  {
   "cell_type": "code",
   "execution_count": 34,
   "id": "b631c212",
   "metadata": {},
   "outputs": [],
   "source": [
    "TV_city_f = TV_city[[\"Employee Code\",\"Employee Name\", 'Mobile Number', 'City', 'Role', 'POD Code']]"
   ]
  },
  {
   "cell_type": "code",
   "execution_count": 35,
   "id": "54eab2e5",
   "metadata": {},
   "outputs": [
    {
     "data": {
      "text/html": [
       "<div>\n",
       "<style scoped>\n",
       "    .dataframe tbody tr th:only-of-type {\n",
       "        vertical-align: middle;\n",
       "    }\n",
       "\n",
       "    .dataframe tbody tr th {\n",
       "        vertical-align: top;\n",
       "    }\n",
       "\n",
       "    .dataframe thead th {\n",
       "        text-align: right;\n",
       "    }\n",
       "</style>\n",
       "<table border=\"1\" class=\"dataframe\">\n",
       "  <thead>\n",
       "    <tr style=\"text-align: right;\">\n",
       "      <th></th>\n",
       "      <th>Employee Code</th>\n",
       "      <th>Employee Name</th>\n",
       "      <th>Mobile Number</th>\n",
       "      <th>City</th>\n",
       "      <th>Role</th>\n",
       "      <th>POD Code</th>\n",
       "    </tr>\n",
       "  </thead>\n",
       "  <tbody>\n",
       "    <tr>\n",
       "      <th>0</th>\n",
       "      <td>83551</td>\n",
       "      <td>CHILD 1</td>\n",
       "      <td>9182550441</td>\n",
       "      <td>Cudappa</td>\n",
       "      <td>FSE</td>\n",
       "      <td>NaN</td>\n",
       "    </tr>\n",
       "  </tbody>\n",
       "</table>\n",
       "</div>"
      ],
      "text/plain": [
       "   Employee Code Employee Name  Mobile Number     City  Role  POD Code\n",
       "0          83551       CHILD 1     9182550441  Cudappa   FSE       NaN"
      ]
     },
     "execution_count": 35,
     "metadata": {},
     "output_type": "execute_result"
    }
   ],
   "source": [
    "TV_city_f.head(1)"
   ]
  },
  {
   "cell_type": "markdown",
   "id": "cf1e023d",
   "metadata": {},
   "source": [
    "# Google File"
   ]
  },
  {
   "cell_type": "code",
   "execution_count": 36,
   "id": "30a904da",
   "metadata": {},
   "outputs": [],
   "source": [
    "input_loc_g = input_loc+\"Google/Consolidated/\""
   ]
  },
  {
   "cell_type": "code",
   "execution_count": 37,
   "id": "d218a787",
   "metadata": {},
   "outputs": [],
   "source": [
    "Google_re = pd.read_csv(input_loc_g+'Google_consolidated.csv')"
   ]
  },
  {
   "cell_type": "code",
   "execution_count": 38,
   "id": "02e773a9",
   "metadata": {
    "scrolled": true
   },
   "outputs": [],
   "source": [
    "Google_re.sort_values(by=['sno'], inplace=True)"
   ]
  },
  {
   "cell_type": "code",
   "execution_count": 39,
   "id": "277a546d",
   "metadata": {},
   "outputs": [
    {
     "data": {
      "text/plain": [
       "(180532, 44)"
      ]
     },
     "execution_count": 39,
     "metadata": {},
     "output_type": "execute_result"
    }
   ],
   "source": [
    "Google_re.shape"
   ]
  },
  {
   "cell_type": "markdown",
   "id": "2812eb22",
   "metadata": {},
   "source": [
    "# RWM File"
   ]
  },
  {
   "cell_type": "code",
   "execution_count": 40,
   "id": "41a65585",
   "metadata": {},
   "outputs": [],
   "source": [
    "input_loc_r = input_loc+\"RWM/Consolidated/\""
   ]
  },
  {
   "cell_type": "code",
   "execution_count": 41,
   "id": "d1a47d51",
   "metadata": {},
   "outputs": [],
   "source": [
    "RWM_re = pd.read_csv(input_loc_r+'RWM_consolidated.csv')"
   ]
  },
  {
   "cell_type": "code",
   "execution_count": 42,
   "id": "d0a34509",
   "metadata": {},
   "outputs": [],
   "source": [
    "RWM_re.sort_values(by=['sno'], inplace=True)"
   ]
  },
  {
   "cell_type": "code",
   "execution_count": 43,
   "id": "fb06a2f9",
   "metadata": {
    "scrolled": false
   },
   "outputs": [
    {
     "data": {
      "text/plain": [
       "(190655, 58)"
      ]
     },
     "execution_count": 43,
     "metadata": {},
     "output_type": "execute_result"
    }
   ],
   "source": [
    "RWM_re.shape"
   ]
  },
  {
   "cell_type": "markdown",
   "id": "a460f290",
   "metadata": {},
   "source": [
    "# Google OB"
   ]
  },
  {
   "cell_type": "code",
   "execution_count": 44,
   "id": "9ec7f703",
   "metadata": {},
   "outputs": [
    {
     "data": {
      "text/plain": [
       "'2022-11-01'"
      ]
     },
     "execution_count": 44,
     "metadata": {},
     "output_type": "execute_result"
    }
   ],
   "source": [
    "current_month_ob"
   ]
  },
  {
   "cell_type": "code",
   "execution_count": 45,
   "id": "5a15eb39",
   "metadata": {},
   "outputs": [
    {
     "data": {
      "text/plain": [
       "'2022-11-30'"
      ]
     },
     "execution_count": 45,
     "metadata": {},
     "output_type": "execute_result"
    }
   ],
   "source": [
    "last_month_ob"
   ]
  },
  {
   "cell_type": "code",
   "execution_count": 46,
   "id": "ba935a37",
   "metadata": {},
   "outputs": [],
   "source": [
    "filelist = glob.glob(input_loc_OB+\"**/*.csv\", recursive = True)"
   ]
  },
  {
   "cell_type": "code",
   "execution_count": 47,
   "id": "ebe2504b",
   "metadata": {},
   "outputs": [
    {
     "data": {
      "text/plain": [
       "['/home/dhrubakumardolai/Desktop/Python Test/Rahul/Is in OB?/Target/latest ob/Nov/19-Nov-2022.csv',\n",
       " '/home/dhrubakumardolai/Desktop/Python Test/Rahul/Is in OB?/Target/latest ob/Nov/05-Nov-2022.csv',\n",
       " '/home/dhrubakumardolai/Desktop/Python Test/Rahul/Is in OB?/Target/latest ob/Nov/15-Nov-2022.csv',\n",
       " '/home/dhrubakumardolai/Desktop/Python Test/Rahul/Is in OB?/Target/latest ob/Nov/24-Nov-2022.csv',\n",
       " '/home/dhrubakumardolai/Desktop/Python Test/Rahul/Is in OB?/Target/latest ob/Nov/07-Nov-2022.csv',\n",
       " '/home/dhrubakumardolai/Desktop/Python Test/Rahul/Is in OB?/Target/latest ob/Nov/25-Nov-2022.csv',\n",
       " '/home/dhrubakumardolai/Desktop/Python Test/Rahul/Is in OB?/Target/latest ob/Nov/11-Nov-2022.csv',\n",
       " '/home/dhrubakumardolai/Desktop/Python Test/Rahul/Is in OB?/Target/latest ob/Nov/27-Nov-2022.csv',\n",
       " '/home/dhrubakumardolai/Desktop/Python Test/Rahul/Is in OB?/Target/latest ob/Nov/13-Nov-2022.csv',\n",
       " '/home/dhrubakumardolai/Desktop/Python Test/Rahul/Is in OB?/Target/latest ob/Nov/22-Nov-2022.csv',\n",
       " '/home/dhrubakumardolai/Desktop/Python Test/Rahul/Is in OB?/Target/latest ob/Nov/08-Nov-2022.csv',\n",
       " '/home/dhrubakumardolai/Desktop/Python Test/Rahul/Is in OB?/Target/latest ob/Nov/06-Nov-2022.csv',\n",
       " '/home/dhrubakumardolai/Desktop/Python Test/Rahul/Is in OB?/Target/latest ob/Nov/02-Nov-2022.csv',\n",
       " '/home/dhrubakumardolai/Desktop/Python Test/Rahul/Is in OB?/Target/latest ob/Nov/01-Nov-2022.csv',\n",
       " '/home/dhrubakumardolai/Desktop/Python Test/Rahul/Is in OB?/Target/latest ob/Nov/26-Nov-2022.csv',\n",
       " '/home/dhrubakumardolai/Desktop/Python Test/Rahul/Is in OB?/Target/latest ob/Nov/20-Nov-2022.csv',\n",
       " '/home/dhrubakumardolai/Desktop/Python Test/Rahul/Is in OB?/Target/latest ob/Nov/14-Nov-2022.csv',\n",
       " '/home/dhrubakumardolai/Desktop/Python Test/Rahul/Is in OB?/Target/latest ob/Nov/10-Nov-2022.csv',\n",
       " '/home/dhrubakumardolai/Desktop/Python Test/Rahul/Is in OB?/Target/latest ob/Nov/18-Nov-2022.csv',\n",
       " '/home/dhrubakumardolai/Desktop/Python Test/Rahul/Is in OB?/Target/latest ob/Nov/23-Nov-2022.csv',\n",
       " '/home/dhrubakumardolai/Desktop/Python Test/Rahul/Is in OB?/Target/latest ob/Nov/16-Nov-2022.csv',\n",
       " '/home/dhrubakumardolai/Desktop/Python Test/Rahul/Is in OB?/Target/latest ob/Nov/17-Nov-2022.csv',\n",
       " '/home/dhrubakumardolai/Desktop/Python Test/Rahul/Is in OB?/Target/latest ob/Nov/09-Nov-2022.csv',\n",
       " '/home/dhrubakumardolai/Desktop/Python Test/Rahul/Is in OB?/Target/latest ob/Nov/29-Nov-2022.csv',\n",
       " '/home/dhrubakumardolai/Desktop/Python Test/Rahul/Is in OB?/Target/latest ob/Nov/03-Nov-2022.csv',\n",
       " '/home/dhrubakumardolai/Desktop/Python Test/Rahul/Is in OB?/Target/latest ob/Nov/12-Nov-2022.csv',\n",
       " '/home/dhrubakumardolai/Desktop/Python Test/Rahul/Is in OB?/Target/latest ob/Nov/28-Nov-2022.csv',\n",
       " '/home/dhrubakumardolai/Desktop/Python Test/Rahul/Is in OB?/Target/latest ob/Nov/21-Nov-2022.csv',\n",
       " '/home/dhrubakumardolai/Desktop/Python Test/Rahul/Is in OB?/Target/latest ob/Nov/04-Nov-2022.csv']"
      ]
     },
     "execution_count": 47,
     "metadata": {},
     "output_type": "execute_result"
    }
   ],
   "source": []
  },
  {
   "cell_type": "code",
   "execution_count": 48,
   "id": "24502a65",
   "metadata": {},
   "outputs": [],
   "source": [
    "google_ob = pd.DataFrame()\n",
    "\n",
    "for file in filelist:\n",
    "    if file.endswith(\".csv\"):\n",
    "        df = pd.read_csv(file)\n",
    "        google_ob = google_ob.append(df)"
   ]
  },
  {
   "cell_type": "code",
   "execution_count": 49,
   "id": "ce880412",
   "metadata": {
    "scrolled": true
   },
   "outputs": [
    {
     "data": {
      "text/html": [
       "<div>\n",
       "<style scoped>\n",
       "    .dataframe tbody tr th:only-of-type {\n",
       "        vertical-align: middle;\n",
       "    }\n",
       "\n",
       "    .dataframe tbody tr th {\n",
       "        vertical-align: top;\n",
       "    }\n",
       "\n",
       "    .dataframe thead th {\n",
       "        text-align: right;\n",
       "    }\n",
       "</style>\n",
       "<table border=\"1\" class=\"dataframe\">\n",
       "  <thead>\n",
       "    <tr style=\"text-align: right;\">\n",
       "      <th></th>\n",
       "      <th>StoreName</th>\n",
       "      <th>City</th>\n",
       "      <th>Pincode</th>\n",
       "      <th>StorePhoneNumber</th>\n",
       "      <th>OnboardingTimestamp</th>\n",
       "      <th>VerificationTimestamp</th>\n",
       "      <th>AgentEmail</th>\n",
       "      <th>MerchantExternalId</th>\n",
       "      <th>Validity</th>\n",
       "      <th>InvalidReason</th>\n",
       "      <th>QRCount</th>\n",
       "      <th>StickerQRCount</th>\n",
       "      <th>StandeeQRCount</th>\n",
       "    </tr>\n",
       "  </thead>\n",
       "  <tbody>\n",
       "    <tr>\n",
       "      <th>0</th>\n",
       "      <td>SUBHAM</td>\n",
       "      <td>Gurugram</td>\n",
       "      <td>122017</td>\n",
       "      <td>9760006551</td>\n",
       "      <td>19-Nov-2022 11:03:01</td>\n",
       "      <td>19-Nov-2022 11:12:32</td>\n",
       "      <td>del.64457.vbs@gpayfos.com</td>\n",
       "      <td>BCR2DN4TWTCZNAYZ</td>\n",
       "      <td>INVALID</td>\n",
       "      <td>DUPLICATE_VERIFICATION</td>\n",
       "      <td>1</td>\n",
       "      <td>0</td>\n",
       "      <td>1</td>\n",
       "    </tr>\n",
       "  </tbody>\n",
       "</table>\n",
       "</div>"
      ],
      "text/plain": [
       "  StoreName      City  Pincode  StorePhoneNumber   OnboardingTimestamp  \\\n",
       "0    SUBHAM  Gurugram   122017        9760006551  19-Nov-2022 11:03:01   \n",
       "\n",
       "  VerificationTimestamp                 AgentEmail MerchantExternalId  \\\n",
       "0  19-Nov-2022 11:12:32  del.64457.vbs@gpayfos.com   BCR2DN4TWTCZNAYZ   \n",
       "\n",
       "  Validity           InvalidReason  QRCount  StickerQRCount  StandeeQRCount  \n",
       "0  INVALID  DUPLICATE_VERIFICATION        1               0               1  "
      ]
     },
     "execution_count": 49,
     "metadata": {},
     "output_type": "execute_result"
    }
   ],
   "source": [
    "google_ob.head(1)"
   ]
  },
  {
   "cell_type": "code",
   "execution_count": 50,
   "id": "7e86592d",
   "metadata": {},
   "outputs": [],
   "source": [
    "google_ob.drop_duplicates(subset=['MerchantExternalId'], keep='last' ,inplace=True)"
   ]
  },
  {
   "cell_type": "code",
   "execution_count": 51,
   "id": "c8598eaa",
   "metadata": {
    "scrolled": false
   },
   "outputs": [],
   "source": [
    "google_ob['VerificationTimestamp'] = pd.to_datetime(google_ob['VerificationTimestamp'])"
   ]
  },
  {
   "cell_type": "code",
   "execution_count": 52,
   "id": "ebff572e",
   "metadata": {},
   "outputs": [],
   "source": [
    "google_ob['VerificationTimestamp'] = google_ob['VerificationTimestamp'].dt.strftime(\"%b-%d-%Y\")"
   ]
  },
  {
   "cell_type": "code",
   "execution_count": 53,
   "id": "14a33365",
   "metadata": {},
   "outputs": [],
   "source": [
    "google_ob['VerificationTimestamp'].fillna(method='bfill', inplace=True)\n",
    "google_ob['VerificationTimestamp'].fillna(method='ffill', inplace=True)"
   ]
  },
  {
   "cell_type": "code",
   "execution_count": 54,
   "id": "63e02376",
   "metadata": {},
   "outputs": [],
   "source": [
    "google_ob = google_ob[google_ob['VerificationTimestamp'].str.contains(current_month)]"
   ]
  },
  {
   "cell_type": "code",
   "execution_count": 55,
   "id": "af5b7f73",
   "metadata": {
    "scrolled": true
   },
   "outputs": [
    {
     "data": {
      "text/html": [
       "<div>\n",
       "<style scoped>\n",
       "    .dataframe tbody tr th:only-of-type {\n",
       "        vertical-align: middle;\n",
       "    }\n",
       "\n",
       "    .dataframe tbody tr th {\n",
       "        vertical-align: top;\n",
       "    }\n",
       "\n",
       "    .dataframe thead th {\n",
       "        text-align: right;\n",
       "    }\n",
       "</style>\n",
       "<table border=\"1\" class=\"dataframe\">\n",
       "  <thead>\n",
       "    <tr style=\"text-align: right;\">\n",
       "      <th></th>\n",
       "      <th>StoreName</th>\n",
       "      <th>City</th>\n",
       "      <th>Pincode</th>\n",
       "      <th>StorePhoneNumber</th>\n",
       "      <th>OnboardingTimestamp</th>\n",
       "      <th>VerificationTimestamp</th>\n",
       "      <th>AgentEmail</th>\n",
       "      <th>MerchantExternalId</th>\n",
       "      <th>Validity</th>\n",
       "      <th>InvalidReason</th>\n",
       "      <th>QRCount</th>\n",
       "      <th>StickerQRCount</th>\n",
       "      <th>StandeeQRCount</th>\n",
       "    </tr>\n",
       "  </thead>\n",
       "  <tbody>\n",
       "    <tr>\n",
       "      <th>0</th>\n",
       "      <td>SUBHAM</td>\n",
       "      <td>Gurugram</td>\n",
       "      <td>122017</td>\n",
       "      <td>9760006551</td>\n",
       "      <td>19-Nov-2022 11:03:01</td>\n",
       "      <td>Nov-19-2022</td>\n",
       "      <td>del.64457.vbs@gpayfos.com</td>\n",
       "      <td>BCR2DN4TWTCZNAYZ</td>\n",
       "      <td>INVALID</td>\n",
       "      <td>DUPLICATE_VERIFICATION</td>\n",
       "      <td>1</td>\n",
       "      <td>0</td>\n",
       "      <td>1</td>\n",
       "    </tr>\n",
       "  </tbody>\n",
       "</table>\n",
       "</div>"
      ],
      "text/plain": [
       "  StoreName      City  Pincode  StorePhoneNumber   OnboardingTimestamp  \\\n",
       "0    SUBHAM  Gurugram   122017        9760006551  19-Nov-2022 11:03:01   \n",
       "\n",
       "  VerificationTimestamp                 AgentEmail MerchantExternalId  \\\n",
       "0           Nov-19-2022  del.64457.vbs@gpayfos.com   BCR2DN4TWTCZNAYZ   \n",
       "\n",
       "  Validity           InvalidReason  QRCount  StickerQRCount  StandeeQRCount  \n",
       "0  INVALID  DUPLICATE_VERIFICATION        1               0               1  "
      ]
     },
     "execution_count": 55,
     "metadata": {},
     "output_type": "execute_result"
    }
   ],
   "source": [
    "google_ob.head(1)"
   ]
  },
  {
   "cell_type": "code",
   "execution_count": 56,
   "id": "a53ec430",
   "metadata": {},
   "outputs": [],
   "source": [
    "google_ob_f = google_ob[['MerchantExternalId', 'VerificationTimestamp', 'Validity']]"
   ]
  },
  {
   "cell_type": "code",
   "execution_count": 57,
   "id": "0e910426",
   "metadata": {},
   "outputs": [],
   "source": [
    "google_ob_f['VerificationTimestamp'] = pd.to_datetime(google_ob_f['VerificationTimestamp'])"
   ]
  },
  {
   "cell_type": "code",
   "execution_count": 58,
   "id": "efd82bc0",
   "metadata": {},
   "outputs": [],
   "source": [
    "google_ob_f['VerificationTimestamp'] = google_ob_f['VerificationTimestamp'].dt.strftime(\"%b-%d-%Y\")"
   ]
  },
  {
   "cell_type": "code",
   "execution_count": 59,
   "id": "e3643942",
   "metadata": {},
   "outputs": [
    {
     "data": {
      "text/html": [
       "<div>\n",
       "<style scoped>\n",
       "    .dataframe tbody tr th:only-of-type {\n",
       "        vertical-align: middle;\n",
       "    }\n",
       "\n",
       "    .dataframe tbody tr th {\n",
       "        vertical-align: top;\n",
       "    }\n",
       "\n",
       "    .dataframe thead th {\n",
       "        text-align: right;\n",
       "    }\n",
       "</style>\n",
       "<table border=\"1\" class=\"dataframe\">\n",
       "  <thead>\n",
       "    <tr style=\"text-align: right;\">\n",
       "      <th></th>\n",
       "      <th>MerchantExternalId</th>\n",
       "      <th>VerificationTimestamp</th>\n",
       "      <th>Validity</th>\n",
       "    </tr>\n",
       "  </thead>\n",
       "  <tbody>\n",
       "    <tr>\n",
       "      <th>0</th>\n",
       "      <td>BCR2DN4TWTCZNAYZ</td>\n",
       "      <td>Nov-19-2022</td>\n",
       "      <td>INVALID</td>\n",
       "    </tr>\n",
       "  </tbody>\n",
       "</table>\n",
       "</div>"
      ],
      "text/plain": [
       "  MerchantExternalId VerificationTimestamp Validity\n",
       "0   BCR2DN4TWTCZNAYZ           Nov-19-2022  INVALID"
      ]
     },
     "execution_count": 59,
     "metadata": {},
     "output_type": "execute_result"
    }
   ],
   "source": [
    "google_ob_f.head(1)"
   ]
  },
  {
   "cell_type": "code",
   "execution_count": 60,
   "id": "fb31b818",
   "metadata": {},
   "outputs": [],
   "source": [
    "google_ob_f_mn = google_ob[['StorePhoneNumber', 'VerificationTimestamp', 'Validity']].rename(\n",
    "    columns={\"VerificationTimestamp\":'VerificationTimestamp_mn', 'Validity':'Validity_mn'})"
   ]
  },
  {
   "cell_type": "markdown",
   "id": "989112f3",
   "metadata": {},
   "source": [
    "# Google csv OB File"
   ]
  },
  {
   "cell_type": "code",
   "execution_count": 61,
   "id": "cad546fa",
   "metadata": {},
   "outputs": [],
   "source": [
    "filelist = glob.glob(input_loc_OB_Google+\"**/*/onboardings/data.csv\",recursive = True)"
   ]
  },
  {
   "cell_type": "code",
   "execution_count": 62,
   "id": "36cfa727",
   "metadata": {
    "scrolled": true
   },
   "outputs": [
    {
     "data": {
      "text/plain": [
       "['/home/dhrubakumardolai/Desktop/Python Test/Revisit File/Google Revisit/2022/11/06/onboardings/data.csv',\n",
       " '/home/dhrubakumardolai/Desktop/Python Test/Revisit File/Google Revisit/2022/11/28/onboardings/data.csv',\n",
       " '/home/dhrubakumardolai/Desktop/Python Test/Revisit File/Google Revisit/2022/11/26/onboardings/data.csv',\n",
       " '/home/dhrubakumardolai/Desktop/Python Test/Revisit File/Google Revisit/2022/11/01/onboardings/data.csv',\n",
       " '/home/dhrubakumardolai/Desktop/Python Test/Revisit File/Google Revisit/2022/11/22/onboardings/data.csv',\n",
       " '/home/dhrubakumardolai/Desktop/Python Test/Revisit File/Google Revisit/2022/11/10/onboardings/data.csv',\n",
       " '/home/dhrubakumardolai/Desktop/Python Test/Revisit File/Google Revisit/2022/11/12/onboardings/data.csv',\n",
       " '/home/dhrubakumardolai/Desktop/Python Test/Revisit File/Google Revisit/2022/11/18/onboardings/data.csv',\n",
       " '/home/dhrubakumardolai/Desktop/Python Test/Revisit File/Google Revisit/2022/11/19/onboardings/data.csv',\n",
       " '/home/dhrubakumardolai/Desktop/Python Test/Revisit File/Google Revisit/2022/11/24/onboardings/data.csv',\n",
       " '/home/dhrubakumardolai/Desktop/Python Test/Revisit File/Google Revisit/2022/11/11/onboardings/data.csv',\n",
       " '/home/dhrubakumardolai/Desktop/Python Test/Revisit File/Google Revisit/2022/11/25/onboardings/data.csv',\n",
       " '/home/dhrubakumardolai/Desktop/Python Test/Revisit File/Google Revisit/2022/11/21/onboardings/data.csv',\n",
       " '/home/dhrubakumardolai/Desktop/Python Test/Revisit File/Google Revisit/2022/11/05/onboardings/data.csv',\n",
       " '/home/dhrubakumardolai/Desktop/Python Test/Revisit File/Google Revisit/2022/11/17/onboardings/data.csv',\n",
       " '/home/dhrubakumardolai/Desktop/Python Test/Revisit File/Google Revisit/2022/11/09/onboardings/data.csv',\n",
       " '/home/dhrubakumardolai/Desktop/Python Test/Revisit File/Google Revisit/2022/11/02/onboardings/data.csv',\n",
       " '/home/dhrubakumardolai/Desktop/Python Test/Revisit File/Google Revisit/2022/11/16/onboardings/data.csv',\n",
       " '/home/dhrubakumardolai/Desktop/Python Test/Revisit File/Google Revisit/2022/11/08/onboardings/data.csv',\n",
       " '/home/dhrubakumardolai/Desktop/Python Test/Revisit File/Google Revisit/2022/11/27/onboardings/data.csv',\n",
       " '/home/dhrubakumardolai/Desktop/Python Test/Revisit File/Google Revisit/2022/11/15/onboardings/data.csv',\n",
       " '/home/dhrubakumardolai/Desktop/Python Test/Revisit File/Google Revisit/2022/11/23/onboardings/data.csv',\n",
       " '/home/dhrubakumardolai/Desktop/Python Test/Revisit File/Google Revisit/2022/11/20/onboardings/data.csv',\n",
       " '/home/dhrubakumardolai/Desktop/Python Test/Revisit File/Google Revisit/2022/11/03/onboardings/data.csv',\n",
       " '/home/dhrubakumardolai/Desktop/Python Test/Revisit File/Google Revisit/2022/11/13/onboardings/data.csv',\n",
       " '/home/dhrubakumardolai/Desktop/Python Test/Revisit File/Google Revisit/2022/11/04/onboardings/data.csv',\n",
       " '/home/dhrubakumardolai/Desktop/Python Test/Revisit File/Google Revisit/2022/11/14/onboardings/data.csv',\n",
       " '/home/dhrubakumardolai/Desktop/Python Test/Revisit File/Google Revisit/2022/11/07/onboardings/data.csv']"
      ]
     },
     "execution_count": 62,
     "metadata": {},
     "output_type": "execute_result"
    }
   ],
   "source": [
    "filelist"
   ]
  },
  {
   "cell_type": "code",
   "execution_count": 63,
   "id": "41b480f6",
   "metadata": {},
   "outputs": [],
   "source": [
    "google_csv_ob = pd.DataFrame()\n",
    "\n",
    "for file in filelist:\n",
    "    if file.endswith(\".csv\"):\n",
    "        df = pd.read_csv(file)\n",
    "        google_csv_ob = google_csv_ob.append(df)"
   ]
  },
  {
   "cell_type": "code",
   "execution_count": 64,
   "id": "366e9755",
   "metadata": {
    "scrolled": true
   },
   "outputs": [
    {
     "data": {
      "text/html": [
       "<div>\n",
       "<style scoped>\n",
       "    .dataframe tbody tr th:only-of-type {\n",
       "        vertical-align: middle;\n",
       "    }\n",
       "\n",
       "    .dataframe tbody tr th {\n",
       "        vertical-align: top;\n",
       "    }\n",
       "\n",
       "    .dataframe thead th {\n",
       "        text-align: right;\n",
       "    }\n",
       "</style>\n",
       "<table border=\"1\" class=\"dataframe\">\n",
       "  <thead>\n",
       "    <tr style=\"text-align: right;\">\n",
       "      <th></th>\n",
       "      <th>StoreName</th>\n",
       "      <th>City</th>\n",
       "      <th>Pincode</th>\n",
       "      <th>StorePhoneNumber</th>\n",
       "      <th>OnboardingTimestamp</th>\n",
       "      <th>VerificationTimestamp</th>\n",
       "      <th>AgentEmail</th>\n",
       "      <th>MerchantEmail</th>\n",
       "      <th>MerchantExternalId</th>\n",
       "      <th>Validity</th>\n",
       "      <th>InvalidReason</th>\n",
       "      <th>QRCount</th>\n",
       "      <th>StickerQRCount</th>\n",
       "      <th>StandeeQRCount</th>\n",
       "      <th>OnboardingsFromSamePhoneNumber</th>\n",
       "      <th>GmbOptIn</th>\n",
       "      <th>GmbVerification</th>\n",
       "    </tr>\n",
       "  </thead>\n",
       "  <tbody>\n",
       "    <tr>\n",
       "      <th>0</th>\n",
       "      <td>Papan Cosmetic Gift House</td>\n",
       "      <td>Kolkata</td>\n",
       "      <td>700128.0</td>\n",
       "      <td>9.674532e+09</td>\n",
       "      <td>06-Nov-2022 11:08:02</td>\n",
       "      <td>06-Nov-2022 11:10:53</td>\n",
       "      <td>klk.69253.vbs@gpayfos.com</td>\n",
       "      <td>krishnaghosh576@gmail.com</td>\n",
       "      <td>BCR2DN4T2SUPZ7Y3</td>\n",
       "      <td>VALID</td>\n",
       "      <td>INVALID_REASON_UNSPECIFIED</td>\n",
       "      <td>3.0</td>\n",
       "      <td>2.0</td>\n",
       "      <td>1.0</td>\n",
       "      <td>NaN</td>\n",
       "      <td>True</td>\n",
       "      <td>True</td>\n",
       "    </tr>\n",
       "  </tbody>\n",
       "</table>\n",
       "</div>"
      ],
      "text/plain": [
       "                   StoreName     City   Pincode  StorePhoneNumber  \\\n",
       "0  Papan Cosmetic Gift House  Kolkata  700128.0      9.674532e+09   \n",
       "\n",
       "    OnboardingTimestamp VerificationTimestamp                 AgentEmail  \\\n",
       "0  06-Nov-2022 11:08:02  06-Nov-2022 11:10:53  klk.69253.vbs@gpayfos.com   \n",
       "\n",
       "               MerchantEmail MerchantExternalId Validity  \\\n",
       "0  krishnaghosh576@gmail.com   BCR2DN4T2SUPZ7Y3    VALID   \n",
       "\n",
       "                InvalidReason  QRCount  StickerQRCount  StandeeQRCount  \\\n",
       "0  INVALID_REASON_UNSPECIFIED      3.0             2.0             1.0   \n",
       "\n",
       "   OnboardingsFromSamePhoneNumber GmbOptIn GmbVerification  \n",
       "0                             NaN     True            True  "
      ]
     },
     "execution_count": 64,
     "metadata": {},
     "output_type": "execute_result"
    }
   ],
   "source": [
    "google_csv_ob.head(1)"
   ]
  },
  {
   "cell_type": "code",
   "execution_count": 65,
   "id": "df6d30ea",
   "metadata": {},
   "outputs": [],
   "source": [
    "google_csv_ob_f = google_csv_ob[['MerchantExternalId', 'StorePhoneNumber', 'VerificationTimestamp']]"
   ]
  },
  {
   "cell_type": "code",
   "execution_count": 66,
   "id": "c3e31060",
   "metadata": {},
   "outputs": [],
   "source": [
    "google_csv_ob_f.sort_values(by='VerificationTimestamp', inplace=True)"
   ]
  },
  {
   "cell_type": "code",
   "execution_count": 67,
   "id": "1e423fa7",
   "metadata": {},
   "outputs": [],
   "source": [
    "google_csv_ob_f['VerificationTimestamp'].fillna(method='bfill', inplace=True)\n",
    "google_csv_ob_f['VerificationTimestamp'].fillna(method='ffill', inplace=True)"
   ]
  },
  {
   "cell_type": "code",
   "execution_count": 68,
   "id": "0dccfb2e",
   "metadata": {},
   "outputs": [],
   "source": [
    "google_csv_ob_f = google_csv_ob_f[google_csv_ob_f['VerificationTimestamp'].str.contains(current_month)]"
   ]
  },
  {
   "cell_type": "code",
   "execution_count": 69,
   "id": "9814a79a",
   "metadata": {},
   "outputs": [],
   "source": [
    "google_csv_ob_f.drop_duplicates(subset=['MerchantExternalId'], keep = 'last', inplace=True)"
   ]
  },
  {
   "cell_type": "code",
   "execution_count": 70,
   "id": "8fae5d3e",
   "metadata": {},
   "outputs": [
    {
     "data": {
      "text/html": [
       "<div>\n",
       "<style scoped>\n",
       "    .dataframe tbody tr th:only-of-type {\n",
       "        vertical-align: middle;\n",
       "    }\n",
       "\n",
       "    .dataframe tbody tr th {\n",
       "        vertical-align: top;\n",
       "    }\n",
       "\n",
       "    .dataframe thead th {\n",
       "        text-align: right;\n",
       "    }\n",
       "</style>\n",
       "<table border=\"1\" class=\"dataframe\">\n",
       "  <thead>\n",
       "    <tr style=\"text-align: right;\">\n",
       "      <th></th>\n",
       "      <th>MerchantExternalId</th>\n",
       "      <th>StorePhoneNumber</th>\n",
       "      <th>VerificationTimestamp</th>\n",
       "    </tr>\n",
       "  </thead>\n",
       "  <tbody>\n",
       "    <tr>\n",
       "      <th>4258</th>\n",
       "      <td>BCR2DN4TSSS2NFYL</td>\n",
       "      <td>9.635289e+09</td>\n",
       "      <td>01-Nov-2022 07:19:59</td>\n",
       "    </tr>\n",
       "  </tbody>\n",
       "</table>\n",
       "</div>"
      ],
      "text/plain": [
       "     MerchantExternalId  StorePhoneNumber VerificationTimestamp\n",
       "4258   BCR2DN4TSSS2NFYL      9.635289e+09  01-Nov-2022 07:19:59"
      ]
     },
     "execution_count": 70,
     "metadata": {},
     "output_type": "execute_result"
    }
   ],
   "source": [
    "google_csv_ob_f.head(1)"
   ]
  },
  {
   "cell_type": "markdown",
   "id": "c7c26468",
   "metadata": {},
   "source": [
    "# Changing date format"
   ]
  },
  {
   "cell_type": "code",
   "execution_count": 71,
   "id": "2f327eed",
   "metadata": {},
   "outputs": [
    {
     "data": {
      "text/html": [
       "<div>\n",
       "<style scoped>\n",
       "    .dataframe tbody tr th:only-of-type {\n",
       "        vertical-align: middle;\n",
       "    }\n",
       "\n",
       "    .dataframe tbody tr th {\n",
       "        vertical-align: top;\n",
       "    }\n",
       "\n",
       "    .dataframe thead th {\n",
       "        text-align: right;\n",
       "    }\n",
       "</style>\n",
       "<table border=\"1\" class=\"dataframe\">\n",
       "  <thead>\n",
       "    <tr style=\"text-align: right;\">\n",
       "      <th></th>\n",
       "      <th>sno</th>\n",
       "      <th>StoreName</th>\n",
       "      <th>City</th>\n",
       "      <th>Pincode</th>\n",
       "      <th>StorePhoneNumber</th>\n",
       "      <th>OnboardingTimestamp</th>\n",
       "      <th>TaskSubmissionTimestamp</th>\n",
       "      <th>MerchantExternalId</th>\n",
       "      <th>CompletedSubTaskTypes</th>\n",
       "      <th>AdditionalQRs</th>\n",
       "      <th>...</th>\n",
       "      <th>NewtoGMB</th>\n",
       "      <th>Is in Old Source?</th>\n",
       "      <th>OLD Valid</th>\n",
       "      <th>Segments</th>\n",
       "      <th>Is in Dynamic Source?</th>\n",
       "      <th>Is in Dynamic Source Visit Date Valid?</th>\n",
       "      <th>Revisit Expire Date</th>\n",
       "      <th>Dynamic IngestionStatus</th>\n",
       "      <th>Dynamic Ingestion Date</th>\n",
       "      <th>Primary_key</th>\n",
       "    </tr>\n",
       "  </thead>\n",
       "  <tbody>\n",
       "    <tr>\n",
       "      <th>0</th>\n",
       "      <td>1</td>\n",
       "      <td>R S Paints And Hardware</td>\n",
       "      <td>Akola</td>\n",
       "      <td>444101</td>\n",
       "      <td>8381097116</td>\n",
       "      <td>5/19/2022 19:42:7</td>\n",
       "      <td>11/1/2022 15:59:58</td>\n",
       "      <td>BCR2DN4T2C2KVQ2C</td>\n",
       "      <td>PROVISION_VPA, CAPTURE_ADDITIONAL_PICTURES, CA...</td>\n",
       "      <td>1.0</td>\n",
       "      <td>...</td>\n",
       "      <td>0.0</td>\n",
       "      <td>No</td>\n",
       "      <td>NaN</td>\n",
       "      <td>inactive - inr 40 extra pay on txn</td>\n",
       "      <td>Match</td>\n",
       "      <td>VALID</td>\n",
       "      <td>NaN</td>\n",
       "      <td>ADD</td>\n",
       "      <td>21-Oct-2022</td>\n",
       "      <td>5407</td>\n",
       "    </tr>\n",
       "  </tbody>\n",
       "</table>\n",
       "<p>1 rows × 44 columns</p>\n",
       "</div>"
      ],
      "text/plain": [
       "   sno                StoreName   City  Pincode  StorePhoneNumber  \\\n",
       "0    1  R S Paints And Hardware  Akola   444101        8381097116   \n",
       "\n",
       "  OnboardingTimestamp TaskSubmissionTimestamp MerchantExternalId  \\\n",
       "0   5/19/2022 19:42:7      11/1/2022 15:59:58   BCR2DN4T2C2KVQ2C   \n",
       "\n",
       "                               CompletedSubTaskTypes  AdditionalQRs  ...  \\\n",
       "0  PROVISION_VPA, CAPTURE_ADDITIONAL_PICTURES, CA...            1.0  ...   \n",
       "\n",
       "   NewtoGMB  Is in Old Source?  OLD Valid                            Segments  \\\n",
       "0       0.0                 No        NaN  inactive - inr 40 extra pay on txn   \n",
       "\n",
       "  Is in Dynamic Source? Is in Dynamic Source Visit Date Valid?  \\\n",
       "0                 Match                                  VALID   \n",
       "\n",
       "  Revisit Expire Date Dynamic IngestionStatus Dynamic Ingestion Date  \\\n",
       "0                 NaN                     ADD            21-Oct-2022   \n",
       "\n",
       "  Primary_key  \n",
       "0        5407  \n",
       "\n",
       "[1 rows x 44 columns]"
      ]
     },
     "execution_count": 71,
     "metadata": {},
     "output_type": "execute_result"
    }
   ],
   "source": [
    "Google_re.head(1)"
   ]
  },
  {
   "cell_type": "code",
   "execution_count": 72,
   "id": "df3dbdcf",
   "metadata": {
    "scrolled": true
   },
   "outputs": [
    {
     "data": {
      "text/html": [
       "<div>\n",
       "<style scoped>\n",
       "    .dataframe tbody tr th:only-of-type {\n",
       "        vertical-align: middle;\n",
       "    }\n",
       "\n",
       "    .dataframe tbody tr th {\n",
       "        vertical-align: top;\n",
       "    }\n",
       "\n",
       "    .dataframe thead th {\n",
       "        text-align: right;\n",
       "    }\n",
       "</style>\n",
       "<table border=\"1\" class=\"dataframe\">\n",
       "  <thead>\n",
       "    <tr style=\"text-align: right;\">\n",
       "      <th></th>\n",
       "      <th>sno</th>\n",
       "      <th>City Name</th>\n",
       "      <th>Merchant ID</th>\n",
       "      <th>Merchant Name</th>\n",
       "      <th>Visit Count</th>\n",
       "      <th>Business Category</th>\n",
       "      <th>Owner Mobile No.</th>\n",
       "      <th>Follow Up Date</th>\n",
       "      <th>PIN Code</th>\n",
       "      <th>On Boarding Date</th>\n",
       "      <th>...</th>\n",
       "      <th>OLD DataSoruce?</th>\n",
       "      <th>Google Pincode</th>\n",
       "      <th>Is in Dynamic Source?</th>\n",
       "      <th>Is in Dynamic Source Visit Date Valid?</th>\n",
       "      <th>Report Date</th>\n",
       "      <th>IngestionStatus</th>\n",
       "      <th>Report Date.1</th>\n",
       "      <th>Ingestion Date</th>\n",
       "      <th>Revisit Expire Date</th>\n",
       "      <th>Primary_key</th>\n",
       "    </tr>\n",
       "  </thead>\n",
       "  <tbody>\n",
       "    <tr>\n",
       "      <th>0</th>\n",
       "      <td>1</td>\n",
       "      <td>Pune</td>\n",
       "      <td>8252706</td>\n",
       "      <td>Ranjangaon road Sai Shop</td>\n",
       "      <td>2.0</td>\n",
       "      <td>Attractions &amp; entertainment</td>\n",
       "      <td>9579920335</td>\n",
       "      <td>NaN</td>\n",
       "      <td>412209.0</td>\n",
       "      <td>Oct-23-2022</td>\n",
       "      <td>...</td>\n",
       "      <td>No</td>\n",
       "      <td>412209.0</td>\n",
       "      <td>Match</td>\n",
       "      <td>VALID</td>\n",
       "      <td>28-Oct-2022</td>\n",
       "      <td>ADD</td>\n",
       "      <td>28-Oct-2022</td>\n",
       "      <td>28-Oct-2022</td>\n",
       "      <td>NaN</td>\n",
       "      <td>173721</td>\n",
       "    </tr>\n",
       "  </tbody>\n",
       "</table>\n",
       "<p>1 rows × 58 columns</p>\n",
       "</div>"
      ],
      "text/plain": [
       "   sno City Name  Merchant ID             Merchant Name  Visit Count  \\\n",
       "0    1      Pune      8252706  Ranjangaon road Sai Shop          2.0   \n",
       "\n",
       "             Business Category  Owner Mobile No.  Follow Up Date  PIN Code  \\\n",
       "0  Attractions & entertainment        9579920335             NaN  412209.0   \n",
       "\n",
       "  On Boarding Date  ... OLD DataSoruce?  Google Pincode Is in Dynamic Source?  \\\n",
       "0      Oct-23-2022  ...              No        412209.0                 Match   \n",
       "\n",
       "   Is in Dynamic Source Visit Date Valid?  Report Date IngestionStatus  \\\n",
       "0                                   VALID  28-Oct-2022             ADD   \n",
       "\n",
       "   Report Date.1 Ingestion Date Revisit Expire Date Primary_key  \n",
       "0    28-Oct-2022    28-Oct-2022                 NaN      173721  \n",
       "\n",
       "[1 rows x 58 columns]"
      ]
     },
     "execution_count": 72,
     "metadata": {},
     "output_type": "execute_result"
    }
   ],
   "source": [
    "RWM_re.head(1)"
   ]
  },
  {
   "cell_type": "code",
   "execution_count": 73,
   "id": "4279bc65",
   "metadata": {},
   "outputs": [
    {
     "data": {
      "text/html": [
       "<div>\n",
       "<style scoped>\n",
       "    .dataframe tbody tr th:only-of-type {\n",
       "        vertical-align: middle;\n",
       "    }\n",
       "\n",
       "    .dataframe tbody tr th {\n",
       "        vertical-align: top;\n",
       "    }\n",
       "\n",
       "    .dataframe thead th {\n",
       "        text-align: right;\n",
       "    }\n",
       "</style>\n",
       "<table border=\"1\" class=\"dataframe\">\n",
       "  <thead>\n",
       "    <tr style=\"text-align: right;\">\n",
       "      <th></th>\n",
       "      <th>MerchantExternalId</th>\n",
       "      <th>StorePhoneNumber</th>\n",
       "      <th>VerificationTimestamp</th>\n",
       "    </tr>\n",
       "  </thead>\n",
       "  <tbody>\n",
       "    <tr>\n",
       "      <th>4258</th>\n",
       "      <td>BCR2DN4TSSS2NFYL</td>\n",
       "      <td>9.635289e+09</td>\n",
       "      <td>01-Nov-2022 07:19:59</td>\n",
       "    </tr>\n",
       "  </tbody>\n",
       "</table>\n",
       "</div>"
      ],
      "text/plain": [
       "     MerchantExternalId  StorePhoneNumber VerificationTimestamp\n",
       "4258   BCR2DN4TSSS2NFYL      9.635289e+09  01-Nov-2022 07:19:59"
      ]
     },
     "execution_count": 73,
     "metadata": {},
     "output_type": "execute_result"
    }
   ],
   "source": [
    "google_csv_ob_f.head(1)"
   ]
  },
  {
   "cell_type": "code",
   "execution_count": 74,
   "id": "2becea35",
   "metadata": {},
   "outputs": [],
   "source": [
    "RWM_re[\"Revisit Date\"] = pd.to_datetime(RWM_re[\"Revisit Date\"])"
   ]
  },
  {
   "cell_type": "code",
   "execution_count": 75,
   "id": "6dc4de4a",
   "metadata": {},
   "outputs": [],
   "source": [
    "RWM_re[\"Revisit Date\"] = RWM_re[\"Revisit Date\"].dt.strftime(\"%b-%d-%Y\")"
   ]
  },
  {
   "cell_type": "code",
   "execution_count": 76,
   "id": "3b29915e",
   "metadata": {},
   "outputs": [],
   "source": [
    "Google_re['TaskSubmissionTimestamp'] = pd.to_datetime(Google_re[\"TaskSubmissionTimestamp\"])"
   ]
  },
  {
   "cell_type": "code",
   "execution_count": 77,
   "id": "7e42da35",
   "metadata": {},
   "outputs": [],
   "source": [
    "Google_re['TaskSubmissionTimestamp'] = Google_re[\"TaskSubmissionTimestamp\"].dt.strftime(\"%b-%d-%Y\")"
   ]
  },
  {
   "cell_type": "code",
   "execution_count": 78,
   "id": "ed0f6df7",
   "metadata": {},
   "outputs": [],
   "source": [
    "google_csv_ob_f['VerificationTimestamp'] = pd.to_datetime(google_csv_ob_f['VerificationTimestamp'])"
   ]
  },
  {
   "cell_type": "code",
   "execution_count": 79,
   "id": "cffe8797",
   "metadata": {},
   "outputs": [],
   "source": [
    "google_csv_ob_f['VerificationTimestamp'] = google_csv_ob_f['VerificationTimestamp'].dt.strftime(\"%b-%d-%Y\")"
   ]
  },
  {
   "cell_type": "markdown",
   "id": "4d72f628",
   "metadata": {},
   "source": [
    "# Preparation for the RWM File"
   ]
  },
  {
   "cell_type": "code",
   "execution_count": 80,
   "id": "766a267a",
   "metadata": {},
   "outputs": [],
   "source": [
    "RWM_re['TV City'] = np.nan\n",
    "RWM_re['Payout Status'] = np.nan\n",
    "RWM_re['Payout Invalid Reason'] = np.nan\n",
    "RWM_re['OB Date Check'] = np.nan\n",
    "RWM_re['Outcome Status'] = np.nan\n",
    "RWM_re['Is in Previous Month Payout'] = np.nan\n",
    "RWM_re['Source MID'] = np.nan\n",
    "RWM_re['Source MID Match Check'] = np.nan\n",
    "RWM_re['Ext_ID Dup?'] = np.nan\n",
    "RWM_re['Merchant_ID_Dup'] = np.nan\n",
    "RWM_re['Is in OB CSV file? MID'] = np.nan\n",
    "RWM_re['Is in OB CSV file? MN'] = np.nan\n",
    "RWM_re['OB Date'] = np.nan\n",
    "RWM_re['Phone_Dup?'] = np.nan\n",
    "RWM_re['Data Tag'] = \"RWM\"\n",
    "RWM_re['Is in Previous Month Payout Date'] = np.nan\n",
    "RWM_re['Final Payout'] = np.nan"
   ]
  },
  {
   "cell_type": "markdown",
   "id": "0619f0a4",
   "metadata": {},
   "source": [
    "# Matching the with Team View City and Fill the blank Team View City"
   ]
  },
  {
   "cell_type": "code",
   "execution_count": 81,
   "id": "d35fdc13",
   "metadata": {},
   "outputs": [],
   "source": [
    "RWM_re_tv = RWM_re[['sno', 'Employee Code']]"
   ]
  },
  {
   "cell_type": "code",
   "execution_count": 82,
   "id": "7e582b7b",
   "metadata": {},
   "outputs": [],
   "source": [
    "RWM_re_tv_merge = RWM_re_tv.merge(TV_city_f, on='Employee Code')"
   ]
  },
  {
   "cell_type": "code",
   "execution_count": 83,
   "id": "84a06fe5",
   "metadata": {},
   "outputs": [],
   "source": [
    "RWM_re_tv_merge.drop_duplicates(subset=['sno'], inplace=True)"
   ]
  },
  {
   "cell_type": "code",
   "execution_count": 84,
   "id": "78e4c5b8",
   "metadata": {},
   "outputs": [],
   "source": [
    "RWM_re_tv_merge_f = RWM_re_tv_merge[['sno', 'City']]"
   ]
  },
  {
   "cell_type": "code",
   "execution_count": 85,
   "id": "b0369043",
   "metadata": {},
   "outputs": [],
   "source": [
    "RWM_re_merge = RWM_re.merge(RWM_re_tv_merge_f, on='sno', how='left')"
   ]
  },
  {
   "cell_type": "code",
   "execution_count": 86,
   "id": "bfd94720",
   "metadata": {},
   "outputs": [],
   "source": [
    "RWM_re_merge.drop_duplicates(subset=['sno'], inplace=True)"
   ]
  },
  {
   "cell_type": "code",
   "execution_count": 87,
   "id": "07d8acd0",
   "metadata": {},
   "outputs": [],
   "source": [
    "RWM_re_merge['TV City'].fillna(RWM_re_merge['City'], inplace=True)"
   ]
  },
  {
   "cell_type": "markdown",
   "id": "21e6294d",
   "metadata": {},
   "source": [
    "# Is in OB csv file? and fill the blank Is in OB csv file? MID and fill the blank Is in OB csv file? MN"
   ]
  },
  {
   "cell_type": "code",
   "execution_count": 88,
   "id": "d0b272dc",
   "metadata": {
    "scrolled": true
   },
   "outputs": [
    {
     "data": {
      "text/html": [
       "<div>\n",
       "<style scoped>\n",
       "    .dataframe tbody tr th:only-of-type {\n",
       "        vertical-align: middle;\n",
       "    }\n",
       "\n",
       "    .dataframe tbody tr th {\n",
       "        vertical-align: top;\n",
       "    }\n",
       "\n",
       "    .dataframe thead th {\n",
       "        text-align: right;\n",
       "    }\n",
       "</style>\n",
       "<table border=\"1\" class=\"dataframe\">\n",
       "  <thead>\n",
       "    <tr style=\"text-align: right;\">\n",
       "      <th></th>\n",
       "      <th>MerchantExternalId</th>\n",
       "      <th>VerificationTimestamp</th>\n",
       "      <th>Validity</th>\n",
       "    </tr>\n",
       "  </thead>\n",
       "  <tbody>\n",
       "    <tr>\n",
       "      <th>0</th>\n",
       "      <td>BCR2DN4TWTCZNAYZ</td>\n",
       "      <td>Nov-19-2022</td>\n",
       "      <td>INVALID</td>\n",
       "    </tr>\n",
       "  </tbody>\n",
       "</table>\n",
       "</div>"
      ],
      "text/plain": [
       "  MerchantExternalId VerificationTimestamp Validity\n",
       "0   BCR2DN4TWTCZNAYZ           Nov-19-2022  INVALID"
      ]
     },
     "execution_count": 88,
     "metadata": {},
     "output_type": "execute_result"
    }
   ],
   "source": [
    "google_ob_f.head(1)"
   ]
  },
  {
   "cell_type": "code",
   "execution_count": 89,
   "id": "bf1015eb",
   "metadata": {},
   "outputs": [],
   "source": [
    "google_ob_f.rename(columns={'MerchantExternalId':\"Merchant Ext ID\"}, inplace=True)"
   ]
  },
  {
   "cell_type": "code",
   "execution_count": 90,
   "id": "7cba11fd",
   "metadata": {
    "scrolled": true
   },
   "outputs": [
    {
     "data": {
      "text/html": [
       "<div>\n",
       "<style scoped>\n",
       "    .dataframe tbody tr th:only-of-type {\n",
       "        vertical-align: middle;\n",
       "    }\n",
       "\n",
       "    .dataframe tbody tr th {\n",
       "        vertical-align: top;\n",
       "    }\n",
       "\n",
       "    .dataframe thead th {\n",
       "        text-align: right;\n",
       "    }\n",
       "</style>\n",
       "<table border=\"1\" class=\"dataframe\">\n",
       "  <thead>\n",
       "    <tr style=\"text-align: right;\">\n",
       "      <th></th>\n",
       "      <th>StorePhoneNumber</th>\n",
       "      <th>VerificationTimestamp_mn</th>\n",
       "      <th>Validity_mn</th>\n",
       "    </tr>\n",
       "  </thead>\n",
       "  <tbody>\n",
       "    <tr>\n",
       "      <th>0</th>\n",
       "      <td>9760006551</td>\n",
       "      <td>Nov-19-2022</td>\n",
       "      <td>INVALID</td>\n",
       "    </tr>\n",
       "  </tbody>\n",
       "</table>\n",
       "</div>"
      ],
      "text/plain": [
       "   StorePhoneNumber VerificationTimestamp_mn Validity_mn\n",
       "0        9760006551              Nov-19-2022     INVALID"
      ]
     },
     "execution_count": 90,
     "metadata": {},
     "output_type": "execute_result"
    }
   ],
   "source": [
    "google_ob_f_mn.head(1)"
   ]
  },
  {
   "cell_type": "code",
   "execution_count": 91,
   "id": "e641e621",
   "metadata": {},
   "outputs": [],
   "source": [
    "google_ob_f_mn.rename(columns={'StorePhoneNumber':\"Owner Mobile No.\"}, inplace=True)"
   ]
  },
  {
   "cell_type": "code",
   "execution_count": 92,
   "id": "38d72f33",
   "metadata": {},
   "outputs": [
    {
     "data": {
      "text/html": [
       "<div>\n",
       "<style scoped>\n",
       "    .dataframe tbody tr th:only-of-type {\n",
       "        vertical-align: middle;\n",
       "    }\n",
       "\n",
       "    .dataframe tbody tr th {\n",
       "        vertical-align: top;\n",
       "    }\n",
       "\n",
       "    .dataframe thead th {\n",
       "        text-align: right;\n",
       "    }\n",
       "</style>\n",
       "<table border=\"1\" class=\"dataframe\">\n",
       "  <thead>\n",
       "    <tr style=\"text-align: right;\">\n",
       "      <th></th>\n",
       "      <th>sno</th>\n",
       "      <th>City Name</th>\n",
       "      <th>Merchant ID</th>\n",
       "      <th>Merchant Name</th>\n",
       "      <th>Visit Count</th>\n",
       "      <th>Business Category</th>\n",
       "      <th>Owner Mobile No.</th>\n",
       "      <th>Follow Up Date</th>\n",
       "      <th>PIN Code</th>\n",
       "      <th>On Boarding Date</th>\n",
       "      <th>...</th>\n",
       "      <th>Source MID Match Check</th>\n",
       "      <th>Ext_ID Dup?</th>\n",
       "      <th>Merchant_ID_Dup</th>\n",
       "      <th>Is in OB CSV file? MID</th>\n",
       "      <th>Is in OB CSV file? MN</th>\n",
       "      <th>OB Date</th>\n",
       "      <th>Phone_Dup?</th>\n",
       "      <th>Data Tag</th>\n",
       "      <th>Is in Previous Month Payout Date</th>\n",
       "      <th>City</th>\n",
       "    </tr>\n",
       "  </thead>\n",
       "  <tbody>\n",
       "    <tr>\n",
       "      <th>0</th>\n",
       "      <td>1</td>\n",
       "      <td>Pune</td>\n",
       "      <td>8252706</td>\n",
       "      <td>Ranjangaon road Sai Shop</td>\n",
       "      <td>2.0</td>\n",
       "      <td>Attractions &amp; entertainment</td>\n",
       "      <td>9579920335</td>\n",
       "      <td>NaN</td>\n",
       "      <td>412209.0</td>\n",
       "      <td>Oct-23-2022</td>\n",
       "      <td>...</td>\n",
       "      <td>NaN</td>\n",
       "      <td>NaN</td>\n",
       "      <td>NaN</td>\n",
       "      <td>NaN</td>\n",
       "      <td>NaN</td>\n",
       "      <td>NaN</td>\n",
       "      <td>NaN</td>\n",
       "      <td>RWM</td>\n",
       "      <td>NaN</td>\n",
       "      <td>Pune</td>\n",
       "    </tr>\n",
       "  </tbody>\n",
       "</table>\n",
       "<p>1 rows × 75 columns</p>\n",
       "</div>"
      ],
      "text/plain": [
       "   sno City Name  Merchant ID             Merchant Name  Visit Count  \\\n",
       "0    1      Pune      8252706  Ranjangaon road Sai Shop          2.0   \n",
       "\n",
       "             Business Category  Owner Mobile No.  Follow Up Date  PIN Code  \\\n",
       "0  Attractions & entertainment        9579920335             NaN  412209.0   \n",
       "\n",
       "  On Boarding Date  ... Source MID Match Check  Ext_ID Dup? Merchant_ID_Dup  \\\n",
       "0      Oct-23-2022  ...                    NaN          NaN             NaN   \n",
       "\n",
       "   Is in OB CSV file? MID Is in OB CSV file? MN OB Date  Phone_Dup? Data Tag  \\\n",
       "0                     NaN                   NaN     NaN         NaN      RWM   \n",
       "\n",
       "  Is in Previous Month Payout Date  City  \n",
       "0                              NaN  Pune  \n",
       "\n",
       "[1 rows x 75 columns]"
      ]
     },
     "execution_count": 92,
     "metadata": {},
     "output_type": "execute_result"
    }
   ],
   "source": [
    "RWM_re_merge.head(1)"
   ]
  },
  {
   "cell_type": "code",
   "execution_count": 93,
   "id": "7a0e45f3",
   "metadata": {},
   "outputs": [],
   "source": [
    "RWM_re_merge_f = RWM_re_merge[['Merchant Ext ID', \"Owner Mobile No.\", \"Is in OB CSV file? MID\", \n",
    "'Is in OB CSV file? MN', 'OB Date', 'sno']].rename(columns={\"Is in OB CSV file? MID\":\"Is in OB CSV file? MID_New\",\n",
    "'Is in OB CSV file? MN':'Is in OB CSV file? MN_new'})"
   ]
  },
  {
   "cell_type": "code",
   "execution_count": 94,
   "id": "015865ab",
   "metadata": {},
   "outputs": [],
   "source": [
    "RWM_re_merge_f['Merchant Ext ID'].replace(np.nan, \"Empty\", inplace=True)"
   ]
  },
  {
   "cell_type": "code",
   "execution_count": 95,
   "id": "24c11e80",
   "metadata": {},
   "outputs": [],
   "source": [
    "RWM_re_merge_f_merge_mid = RWM_re_merge_f.merge(google_ob_f, on='Merchant Ext ID', how='left', indicator=True)"
   ]
  },
  {
   "cell_type": "code",
   "execution_count": 96,
   "id": "ad097377",
   "metadata": {},
   "outputs": [],
   "source": [
    "RWM_re_merge_f_merge_mid.rename(columns={'_merge':\"mid_ob_check\"}, inplace=True)"
   ]
  },
  {
   "cell_type": "code",
   "execution_count": 97,
   "id": "bc53425e",
   "metadata": {},
   "outputs": [
    {
     "data": {
      "text/plain": [
       "['left_only', 'both']\n",
       "Categories (3, object): ['left_only', 'right_only', 'both']"
      ]
     },
     "execution_count": 97,
     "metadata": {},
     "output_type": "execute_result"
    }
   ],
   "source": [
    "RWM_re_merge_f_merge_mid[\"mid_ob_check\"].unique()"
   ]
  },
  {
   "cell_type": "code",
   "execution_count": 98,
   "id": "78fe3b57",
   "metadata": {},
   "outputs": [],
   "source": [
    "RWM_re_merge_f_merge_mid[\"mid_ob_check\"] = RWM_re_merge_f_merge_mid[\"mid_ob_check\"].map({'left_only':\"No\",\n",
    " 'right_only':\"No\", 'both':\"Yes\"})"
   ]
  },
  {
   "cell_type": "code",
   "execution_count": 99,
   "id": "49a1cb51",
   "metadata": {},
   "outputs": [],
   "source": [
    "RWM_re_merge_f_merge_mid.drop_duplicates(subset=['sno'], inplace=True)"
   ]
  },
  {
   "cell_type": "code",
   "execution_count": 100,
   "id": "e56a2a31",
   "metadata": {},
   "outputs": [],
   "source": [
    "RWM_re_merge_f_merge_mid_mn = RWM_re_merge_f_merge_mid.merge(\n",
    "    google_ob_f_mn, on='Owner Mobile No.', how='left', indicator=True)"
   ]
  },
  {
   "cell_type": "code",
   "execution_count": 101,
   "id": "220d43a6",
   "metadata": {},
   "outputs": [],
   "source": [
    "RWM_re_merge_f_merge_mid_mn.drop_duplicates(subset=['sno'], inplace=True)"
   ]
  },
  {
   "cell_type": "code",
   "execution_count": 102,
   "id": "c4da6584",
   "metadata": {},
   "outputs": [],
   "source": [
    "RWM_re_merge_f_merge_mid_mn['_merge'] = RWM_re_merge_f_merge_mid_mn['_merge'].map({'left_only':\"No\",\n",
    " 'right_only':\"No\", 'both':\"Yes\"})"
   ]
  },
  {
   "cell_type": "code",
   "execution_count": 103,
   "id": "5260b9ef",
   "metadata": {},
   "outputs": [],
   "source": [
    "RWM_re_merge_f_merge_mid_mn['Is in OB CSV file? MID_New'].fillna(RWM_re_merge_f_merge_mid_mn[\n",
    "    'mid_ob_check'], inplace=True)\n",
    "RWM_re_merge_f_merge_mid_mn['Is in OB CSV file? MN_new'].fillna(RWM_re_merge_f_merge_mid_mn[\n",
    "    '_merge'], inplace=True)\n",
    "RWM_re_merge_f_merge_mid_mn['VerificationTimestamp'].fillna(RWM_re_merge_f_merge_mid_mn[\n",
    "    'VerificationTimestamp_mn'], inplace=True)\n",
    "RWM_re_merge_f_merge_mid_mn['OB Date'].fillna(RWM_re_merge_f_merge_mid_mn[\n",
    "    'VerificationTimestamp'], inplace=True)"
   ]
  },
  {
   "cell_type": "code",
   "execution_count": 104,
   "id": "30eba841",
   "metadata": {},
   "outputs": [],
   "source": [
    "RWM_re_merge_f_merge_mid_mn_f = RWM_re_merge_f_merge_mid_mn[['sno', 'Is in OB CSV file? MID_New', \n",
    "'Is in OB CSV file? MN_new', 'OB Date']].rename(columns={'OB Date':\"OB Date_New\"})"
   ]
  },
  {
   "cell_type": "code",
   "execution_count": 105,
   "id": "9f1770e3",
   "metadata": {
    "scrolled": true
   },
   "outputs": [],
   "source": [
    "RWM_re_merge_2 = RWM_re_merge.merge(RWM_re_merge_f_merge_mid_mn_f, on='sno', how='left')"
   ]
  },
  {
   "cell_type": "code",
   "execution_count": 106,
   "id": "d6c3d519",
   "metadata": {},
   "outputs": [],
   "source": [
    "RWM_re_merge_2['Is in OB CSV file? MID'].replace(\"No\", np.nan, inplace=True)\n",
    "RWM_re_merge_2['Is in OB CSV file? MN'].replace(\"No\", np.nan, inplace=True)"
   ]
  },
  {
   "cell_type": "code",
   "execution_count": 107,
   "id": "ca9d898a",
   "metadata": {},
   "outputs": [],
   "source": [
    "RWM_re_merge_2['Is in OB CSV file? MID'].fillna(RWM_re_merge_2['Is in OB CSV file? MID_New'], inplace=True)\n",
    "RWM_re_merge_2['Is in OB CSV file? MN'].fillna(RWM_re_merge_2['Is in OB CSV file? MN_new'], inplace=True)\n",
    "RWM_re_merge_2['OB Date'].fillna(RWM_re_merge_2['OB Date_New'], inplace=True)"
   ]
  },
  {
   "cell_type": "code",
   "execution_count": 108,
   "id": "0ae09441",
   "metadata": {},
   "outputs": [],
   "source": [
    "RWM_re_merge_2['Is in OB CSV file? MID'].replace(np.nan, \"No\", inplace=True)\n",
    "RWM_re_merge_2['Is in OB CSV file? MN'].replace(np.nan, \"No\" ,inplace=True)"
   ]
  },
  {
   "cell_type": "markdown",
   "id": "0f065b8d",
   "metadata": {},
   "source": [
    "# Matching the MID and Phone Number from the Google OB File "
   ]
  },
  {
   "cell_type": "code",
   "execution_count": 109,
   "id": "ba25cb12",
   "metadata": {
    "scrolled": false
   },
   "outputs": [
    {
     "data": {
      "text/html": [
       "<div>\n",
       "<style scoped>\n",
       "    .dataframe tbody tr th:only-of-type {\n",
       "        vertical-align: middle;\n",
       "    }\n",
       "\n",
       "    .dataframe tbody tr th {\n",
       "        vertical-align: top;\n",
       "    }\n",
       "\n",
       "    .dataframe thead th {\n",
       "        text-align: right;\n",
       "    }\n",
       "</style>\n",
       "<table border=\"1\" class=\"dataframe\">\n",
       "  <thead>\n",
       "    <tr style=\"text-align: right;\">\n",
       "      <th></th>\n",
       "      <th>MerchantExternalId</th>\n",
       "      <th>StorePhoneNumber</th>\n",
       "      <th>VerificationTimestamp</th>\n",
       "    </tr>\n",
       "  </thead>\n",
       "  <tbody>\n",
       "    <tr>\n",
       "      <th>4258</th>\n",
       "      <td>BCR2DN4TSSS2NFYL</td>\n",
       "      <td>9.635289e+09</td>\n",
       "      <td>Nov-01-2022</td>\n",
       "    </tr>\n",
       "  </tbody>\n",
       "</table>\n",
       "</div>"
      ],
      "text/plain": [
       "     MerchantExternalId  StorePhoneNumber VerificationTimestamp\n",
       "4258   BCR2DN4TSSS2NFYL      9.635289e+09           Nov-01-2022"
      ]
     },
     "execution_count": 109,
     "metadata": {},
     "output_type": "execute_result"
    }
   ],
   "source": [
    "google_csv_ob_f.head(1)"
   ]
  },
  {
   "cell_type": "code",
   "execution_count": 110,
   "id": "be273126",
   "metadata": {},
   "outputs": [],
   "source": [
    "google_csv_ob_f_mid = google_csv_ob_f[['MerchantExternalId', 'VerificationTimestamp']].rename(\n",
    "    columns={'MerchantExternalId':'Merchant Ext ID', \"VerificationTimestamp\":'OB_Date_mid'})\n",
    "google_csv_ob_f_mn = google_csv_ob_f[['StorePhoneNumber', 'VerificationTimestamp']].rename(\n",
    "    columns={'StorePhoneNumber':'Owner Mobile No.', \"VerificationTimestamp\":'OB_Date_mn'})"
   ]
  },
  {
   "cell_type": "code",
   "execution_count": 111,
   "id": "3976b01a",
   "metadata": {},
   "outputs": [],
   "source": [
    "RWM_re_merge_2_f = RWM_re_merge_2[['sno','Merchant Ext ID', 'Owner Mobile No.', 'Is in OB CSV file? MID', \n",
    "                                   'Is in OB CSV file? MN', 'OB Date']]"
   ]
  },
  {
   "cell_type": "code",
   "execution_count": 112,
   "id": "ffbf9e31",
   "metadata": {},
   "outputs": [],
   "source": [
    "RWM_re_merge_2_f.replace(\"Empty\", \"Empty_2\", inplace=True)"
   ]
  },
  {
   "cell_type": "code",
   "execution_count": 113,
   "id": "72d78b41",
   "metadata": {},
   "outputs": [],
   "source": [
    "RWM_re_merge_2_f['Is in OB CSV file? MID'].replace('No', np.nan, inplace=True)\n",
    "RWM_re_merge_2_f['Is in OB CSV file? MN'].replace('No', np.nan, inplace=True)"
   ]
  },
  {
   "cell_type": "code",
   "execution_count": 114,
   "id": "ead9e4bc",
   "metadata": {},
   "outputs": [
    {
     "data": {
      "text/html": [
       "<div>\n",
       "<style scoped>\n",
       "    .dataframe tbody tr th:only-of-type {\n",
       "        vertical-align: middle;\n",
       "    }\n",
       "\n",
       "    .dataframe tbody tr th {\n",
       "        vertical-align: top;\n",
       "    }\n",
       "\n",
       "    .dataframe thead th {\n",
       "        text-align: right;\n",
       "    }\n",
       "</style>\n",
       "<table border=\"1\" class=\"dataframe\">\n",
       "  <thead>\n",
       "    <tr style=\"text-align: right;\">\n",
       "      <th></th>\n",
       "      <th>sno</th>\n",
       "      <th>Merchant Ext ID</th>\n",
       "      <th>Owner Mobile No.</th>\n",
       "      <th>Is in OB CSV file? MID</th>\n",
       "      <th>Is in OB CSV file? MN</th>\n",
       "      <th>OB Date</th>\n",
       "    </tr>\n",
       "  </thead>\n",
       "  <tbody>\n",
       "    <tr>\n",
       "      <th>0</th>\n",
       "      <td>1</td>\n",
       "      <td>BCR2DN4TQD2OZ3BF</td>\n",
       "      <td>9579920335</td>\n",
       "      <td>NaN</td>\n",
       "      <td>NaN</td>\n",
       "      <td>NaN</td>\n",
       "    </tr>\n",
       "  </tbody>\n",
       "</table>\n",
       "</div>"
      ],
      "text/plain": [
       "   sno   Merchant Ext ID  Owner Mobile No. Is in OB CSV file? MID  \\\n",
       "0    1  BCR2DN4TQD2OZ3BF        9579920335                    NaN   \n",
       "\n",
       "  Is in OB CSV file? MN OB Date  \n",
       "0                   NaN     NaN  "
      ]
     },
     "execution_count": 114,
     "metadata": {},
     "output_type": "execute_result"
    }
   ],
   "source": [
    "RWM_re_merge_2_f.head(1)"
   ]
  },
  {
   "cell_type": "code",
   "execution_count": 115,
   "id": "2138f7ed",
   "metadata": {},
   "outputs": [],
   "source": [
    "RWM_re_merge_2_f_mid = RWM_re_merge_2_f.merge(\n",
    "    google_csv_ob_f_mid, on='Merchant Ext ID', how='left', indicator=True)"
   ]
  },
  {
   "cell_type": "code",
   "execution_count": 116,
   "id": "ecc9e416",
   "metadata": {},
   "outputs": [],
   "source": [
    "RWM_re_merge_2_f_mid.drop_duplicates(subset=['sno'], inplace=True)"
   ]
  },
  {
   "cell_type": "code",
   "execution_count": 117,
   "id": "1755227e",
   "metadata": {},
   "outputs": [],
   "source": [
    "RWM_re_merge_2_f_mid.rename(columns={'_merge':\"MID_match\"}, inplace=True)"
   ]
  },
  {
   "cell_type": "code",
   "execution_count": 118,
   "id": "7eeb8ec3",
   "metadata": {},
   "outputs": [],
   "source": [
    "RWM_re_merge_2_f_mid['MID_match'] = RWM_re_merge_2_f_mid['MID_match'].map({'left_only':np.nan, \n",
    "'right_only':np.nan, 'both':'Yes'})"
   ]
  },
  {
   "cell_type": "code",
   "execution_count": 119,
   "id": "0a5a65d1",
   "metadata": {},
   "outputs": [
    {
     "data": {
      "text/html": [
       "<div>\n",
       "<style scoped>\n",
       "    .dataframe tbody tr th:only-of-type {\n",
       "        vertical-align: middle;\n",
       "    }\n",
       "\n",
       "    .dataframe tbody tr th {\n",
       "        vertical-align: top;\n",
       "    }\n",
       "\n",
       "    .dataframe thead th {\n",
       "        text-align: right;\n",
       "    }\n",
       "</style>\n",
       "<table border=\"1\" class=\"dataframe\">\n",
       "  <thead>\n",
       "    <tr style=\"text-align: right;\">\n",
       "      <th></th>\n",
       "      <th>sno</th>\n",
       "      <th>Merchant Ext ID</th>\n",
       "      <th>Owner Mobile No.</th>\n",
       "      <th>Is in OB CSV file? MID</th>\n",
       "      <th>Is in OB CSV file? MN</th>\n",
       "      <th>OB Date</th>\n",
       "      <th>OB_Date_mid</th>\n",
       "      <th>MID_match</th>\n",
       "    </tr>\n",
       "  </thead>\n",
       "  <tbody>\n",
       "    <tr>\n",
       "      <th>0</th>\n",
       "      <td>1</td>\n",
       "      <td>BCR2DN4TQD2OZ3BF</td>\n",
       "      <td>9579920335</td>\n",
       "      <td>NaN</td>\n",
       "      <td>NaN</td>\n",
       "      <td>NaN</td>\n",
       "      <td>NaN</td>\n",
       "      <td>NaN</td>\n",
       "    </tr>\n",
       "  </tbody>\n",
       "</table>\n",
       "</div>"
      ],
      "text/plain": [
       "   sno   Merchant Ext ID  Owner Mobile No. Is in OB CSV file? MID  \\\n",
       "0    1  BCR2DN4TQD2OZ3BF        9579920335                    NaN   \n",
       "\n",
       "  Is in OB CSV file? MN OB Date OB_Date_mid MID_match  \n",
       "0                   NaN     NaN         NaN       NaN  "
      ]
     },
     "execution_count": 119,
     "metadata": {},
     "output_type": "execute_result"
    }
   ],
   "source": [
    "RWM_re_merge_2_f_mid.head(1)"
   ]
  },
  {
   "cell_type": "code",
   "execution_count": 120,
   "id": "fc892cb7",
   "metadata": {},
   "outputs": [],
   "source": [
    "RWM_re_merge_2_f_mid_mn = RWM_re_merge_2_f_mid.merge(\n",
    "    google_csv_ob_f_mn, on='Owner Mobile No.', how='left', indicator=True)"
   ]
  },
  {
   "cell_type": "code",
   "execution_count": 121,
   "id": "fc1db232",
   "metadata": {},
   "outputs": [],
   "source": [
    "RWM_re_merge_2_f_mid_mn.drop_duplicates(subset=['sno'], inplace=True)"
   ]
  },
  {
   "cell_type": "code",
   "execution_count": 122,
   "id": "aa480f52",
   "metadata": {},
   "outputs": [],
   "source": [
    "RWM_re_merge_2_f_mid_mn.rename(columns={'_merge':\"MN_match\"}, inplace=True)"
   ]
  },
  {
   "cell_type": "code",
   "execution_count": 123,
   "id": "88f1dbd4",
   "metadata": {},
   "outputs": [],
   "source": [
    "RWM_re_merge_2_f_mid_mn['MN_match'] = RWM_re_merge_2_f_mid_mn['MN_match'].map({'left_only':np.nan, \n",
    "'right_only':np.nan, 'both':'Yes'})"
   ]
  },
  {
   "cell_type": "code",
   "execution_count": 124,
   "id": "8471c265",
   "metadata": {},
   "outputs": [],
   "source": [
    "RWM_re_merge_2_f_mid_mn['OB Date'].fillna(RWM_re_merge_2_f_mid_mn['OB_Date_mid'], inplace=True)\n",
    "RWM_re_merge_2_f_mid_mn['OB Date'].fillna(RWM_re_merge_2_f_mid_mn['OB_Date_mn'], inplace=True)\n",
    "RWM_re_merge_2_f_mid_mn['Is in OB CSV file? MID'].fillna(RWM_re_merge_2_f_mid_mn['MID_match'], inplace=True)\n",
    "RWM_re_merge_2_f_mid_mn['Is in OB CSV file? MN'].fillna(RWM_re_merge_2_f_mid_mn['MN_match'], inplace=True)"
   ]
  },
  {
   "cell_type": "code",
   "execution_count": 125,
   "id": "a1e30905",
   "metadata": {},
   "outputs": [],
   "source": [
    "RWM_re_merge_2_f_mid_mn_f = RWM_re_merge_2_f_mid_mn[['sno', 'Is in OB CSV file? MID', 'Is in OB CSV file? MN',\n",
    "                                                    'OB Date']]"
   ]
  },
  {
   "cell_type": "code",
   "execution_count": 126,
   "id": "133e9bcc",
   "metadata": {},
   "outputs": [],
   "source": [
    "RWM_re_merge_2_f_mid_mn_f['Is in OB CSV file? MID'] = RWM_re_merge_2_f_mid_mn_f[\n",
    "    'Is in OB CSV file? MID'].replace(np.nan, \"No\")\n",
    "RWM_re_merge_2_f_mid_mn_f['Is in OB CSV file? MN'] = RWM_re_merge_2_f_mid_mn_f[\n",
    "    'Is in OB CSV file? MN'].replace(np.nan, \"No\")"
   ]
  },
  {
   "cell_type": "code",
   "execution_count": 127,
   "id": "94805499",
   "metadata": {},
   "outputs": [],
   "source": [
    "RWM_re_merge_2_f_mid_mn_f.rename(columns={'Is in OB CSV file? MID':'Is in OB CSV file? MID_New_2', \n",
    "\"Is in OB CSV file? MN\":'Is in OB CSV file? MN_New_2', \"OB Date\":'OB Date_New_2'}, inplace=True)"
   ]
  },
  {
   "cell_type": "code",
   "execution_count": 128,
   "id": "a5b7f06a",
   "metadata": {},
   "outputs": [],
   "source": [
    "RWM_re_merge_2_merge = RWM_re_merge_2.merge(RWM_re_merge_2_f_mid_mn_f, on='sno', how='left')"
   ]
  },
  {
   "cell_type": "code",
   "execution_count": 129,
   "id": "57f28f26",
   "metadata": {},
   "outputs": [],
   "source": [
    "RWM_re_merge_2_merge.drop_duplicates(subset=['sno'], inplace=True)"
   ]
  },
  {
   "cell_type": "code",
   "execution_count": 130,
   "id": "661cc8d8",
   "metadata": {},
   "outputs": [],
   "source": [
    "RWM_re_merge_2_merge['Is in OB CSV file? MID'].replace('No', np.nan, inplace=True)\n",
    "RWM_re_merge_2_merge['Is in OB CSV file? MN'].replace('No', np.nan, inplace=True)"
   ]
  },
  {
   "cell_type": "code",
   "execution_count": 131,
   "id": "41d563bc",
   "metadata": {},
   "outputs": [],
   "source": [
    "RWM_re_merge_2_merge['Is in OB CSV file? MID'].fillna(RWM_re_merge_2_merge[\n",
    "    'Is in OB CSV file? MID_New_2'], inplace=True)\n",
    "RWM_re_merge_2_merge['Is in OB CSV file? MN'].fillna(RWM_re_merge_2_merge[\n",
    "    'Is in OB CSV file? MN_New_2'], inplace=True)\n",
    "RWM_re_merge_2_merge['OB Date'].fillna(RWM_re_merge_2_merge[\n",
    "    'OB Date_New_2'], inplace=True)"
   ]
  },
  {
   "cell_type": "code",
   "execution_count": 132,
   "id": "48b39af1",
   "metadata": {},
   "outputs": [],
   "source": [
    "RWM_re_merge_2_merge['Is in OB CSV file? MID'].replace(np.nan, 'No', inplace=True)\n",
    "RWM_re_merge_2_merge['Is in OB CSV file? MN'].replace(np.nan,'No', inplace=True)"
   ]
  },
  {
   "cell_type": "code",
   "execution_count": 133,
   "id": "796f10c4",
   "metadata": {},
   "outputs": [],
   "source": [
    "RWM_re_merge_2 = RWM_re_merge_2_merge"
   ]
  },
  {
   "cell_type": "code",
   "execution_count": null,
   "id": "13ab928e",
   "metadata": {},
   "outputs": [],
   "source": []
  },
  {
   "cell_type": "markdown",
   "id": "0ba3c561",
   "metadata": {},
   "source": [
    "# Is in Previous Month Payout"
   ]
  },
  {
   "cell_type": "code",
   "execution_count": 134,
   "id": "95bdc1b2",
   "metadata": {},
   "outputs": [
    {
     "data": {
      "text/html": [
       "<div>\n",
       "<style scoped>\n",
       "    .dataframe tbody tr th:only-of-type {\n",
       "        vertical-align: middle;\n",
       "    }\n",
       "\n",
       "    .dataframe tbody tr th {\n",
       "        vertical-align: top;\n",
       "    }\n",
       "\n",
       "    .dataframe thead th {\n",
       "        text-align: right;\n",
       "    }\n",
       "</style>\n",
       "<table border=\"1\" class=\"dataframe\">\n",
       "  <thead>\n",
       "    <tr style=\"text-align: right;\">\n",
       "      <th></th>\n",
       "      <th>MerchantExternalId</th>\n",
       "      <th>Date</th>\n",
       "    </tr>\n",
       "  </thead>\n",
       "  <tbody>\n",
       "    <tr>\n",
       "      <th>0</th>\n",
       "      <td>BCR2DN4T2C32B6QM</td>\n",
       "      <td>Aug-01-2022</td>\n",
       "    </tr>\n",
       "  </tbody>\n",
       "</table>\n",
       "</div>"
      ],
      "text/plain": [
       "  MerchantExternalId         Date\n",
       "0   BCR2DN4T2C32B6QM  Aug-01-2022"
      ]
     },
     "execution_count": 134,
     "metadata": {},
     "output_type": "execute_result"
    }
   ],
   "source": [
    "google_revisit_f2.head(1)"
   ]
  },
  {
   "cell_type": "code",
   "execution_count": 135,
   "id": "a5aa1128",
   "metadata": {
    "scrolled": false
   },
   "outputs": [
    {
     "data": {
      "text/html": [
       "<div>\n",
       "<style scoped>\n",
       "    .dataframe tbody tr th:only-of-type {\n",
       "        vertical-align: middle;\n",
       "    }\n",
       "\n",
       "    .dataframe tbody tr th {\n",
       "        vertical-align: top;\n",
       "    }\n",
       "\n",
       "    .dataframe thead th {\n",
       "        text-align: right;\n",
       "    }\n",
       "</style>\n",
       "<table border=\"1\" class=\"dataframe\">\n",
       "  <thead>\n",
       "    <tr style=\"text-align: right;\">\n",
       "      <th></th>\n",
       "      <th>MerchantExternalId</th>\n",
       "      <th>Revisit Date</th>\n",
       "    </tr>\n",
       "  </thead>\n",
       "  <tbody>\n",
       "    <tr>\n",
       "      <th>7</th>\n",
       "      <td>BCR2DN6TY7F7LGDZ</td>\n",
       "      <td>Aug-01-2022</td>\n",
       "    </tr>\n",
       "  </tbody>\n",
       "</table>\n",
       "</div>"
      ],
      "text/plain": [
       "  MerchantExternalId Revisit Date\n",
       "7   BCR2DN6TY7F7LGDZ  Aug-01-2022"
      ]
     },
     "execution_count": 135,
     "metadata": {},
     "output_type": "execute_result"
    }
   ],
   "source": [
    "rwm_revisit_f.head(1)"
   ]
  },
  {
   "cell_type": "code",
   "execution_count": 136,
   "id": "bf480eea",
   "metadata": {},
   "outputs": [],
   "source": [
    "RWM_re_merge_2_f = RWM_re_merge_2[['sno', \"Merchant Ext ID\", 'Is in Previous Month Payout',\n",
    "                                  'Is in Previous Month Payout Date']].rename(\n",
    "    columns={'Merchant Ext ID':'MerchantExternalId'})"
   ]
  },
  {
   "cell_type": "code",
   "execution_count": 137,
   "id": "3db30773",
   "metadata": {},
   "outputs": [],
   "source": [
    "RWM_re_merge_2_f_merge = RWM_re_merge_2_f.merge(\n",
    "    google_revisit_f2, on='MerchantExternalId', how='left', indicator=True)"
   ]
  },
  {
   "cell_type": "code",
   "execution_count": 138,
   "id": "2e052f4b",
   "metadata": {},
   "outputs": [],
   "source": [
    "RWM_re_merge_2_f_merge.drop_duplicates(subset=['sno'], inplace=True)\n",
    "RWM_re_merge_2_f_merge.rename(columns={\"_merge\":\"Is in previous Google?\"}, inplace=True)\n",
    "RWM_re_merge_2_f_merge.rename(columns={'Date':\"Previous_Google_Revisit_Date?\"}, inplace=True)"
   ]
  },
  {
   "cell_type": "code",
   "execution_count": 139,
   "id": "05267508",
   "metadata": {},
   "outputs": [],
   "source": [
    "RWM_re_merge_2_f_merge['Is in previous Google?'].replace('left_only', np.nan, inplace=True)\n",
    "RWM_re_merge_2_f_merge['Is in previous Google?'].replace('right_only', np.nan, inplace=True)\n",
    "RWM_re_merge_2_f_merge['Is in previous Google?'].replace('both', \"Yes\", inplace=True)"
   ]
  },
  {
   "cell_type": "code",
   "execution_count": 140,
   "id": "3b4f8aa5",
   "metadata": {},
   "outputs": [
    {
     "data": {
      "text/html": [
       "<div>\n",
       "<style scoped>\n",
       "    .dataframe tbody tr th:only-of-type {\n",
       "        vertical-align: middle;\n",
       "    }\n",
       "\n",
       "    .dataframe tbody tr th {\n",
       "        vertical-align: top;\n",
       "    }\n",
       "\n",
       "    .dataframe thead th {\n",
       "        text-align: right;\n",
       "    }\n",
       "</style>\n",
       "<table border=\"1\" class=\"dataframe\">\n",
       "  <thead>\n",
       "    <tr style=\"text-align: right;\">\n",
       "      <th></th>\n",
       "      <th>sno</th>\n",
       "      <th>MerchantExternalId</th>\n",
       "      <th>Is in Previous Month Payout</th>\n",
       "      <th>Is in Previous Month Payout Date</th>\n",
       "      <th>Previous_Google_Revisit_Date?</th>\n",
       "      <th>Is in previous Google?</th>\n",
       "    </tr>\n",
       "  </thead>\n",
       "  <tbody>\n",
       "    <tr>\n",
       "      <th>0</th>\n",
       "      <td>1</td>\n",
       "      <td>BCR2DN4TQD2OZ3BF</td>\n",
       "      <td>NaN</td>\n",
       "      <td>NaN</td>\n",
       "      <td>NaN</td>\n",
       "      <td>NaN</td>\n",
       "    </tr>\n",
       "  </tbody>\n",
       "</table>\n",
       "</div>"
      ],
      "text/plain": [
       "   sno MerchantExternalId  Is in Previous Month Payout  \\\n",
       "0    1   BCR2DN4TQD2OZ3BF                          NaN   \n",
       "\n",
       "   Is in Previous Month Payout Date Previous_Google_Revisit_Date?  \\\n",
       "0                               NaN                           NaN   \n",
       "\n",
       "  Is in previous Google?  \n",
       "0                    NaN  "
      ]
     },
     "execution_count": 140,
     "metadata": {},
     "output_type": "execute_result"
    }
   ],
   "source": [
    "RWM_re_merge_2_f_merge.head(1)"
   ]
  },
  {
   "cell_type": "code",
   "execution_count": 141,
   "id": "4ac0dd64",
   "metadata": {},
   "outputs": [],
   "source": [
    "RWM_re_merge_2_f_merge2 = RWM_re_merge_2_f_merge.merge(\n",
    "    rwm_revisit_f, on='MerchantExternalId', how='left', indicator=True)"
   ]
  },
  {
   "cell_type": "code",
   "execution_count": 142,
   "id": "9b5d07c1",
   "metadata": {},
   "outputs": [],
   "source": [
    "RWM_re_merge_2_f_merge2.drop_duplicates(subset=['sno'], inplace=True)\n",
    "RWM_re_merge_2_f_merge2.rename(columns={\"_merge\":\"Is in previous RWM?\"}, inplace=True)\n",
    "RWM_re_merge_2_f_merge2.rename(columns={\"Revisit Date\":\"Previous_RWM_Revisit_Date?\"}, inplace=True)"
   ]
  },
  {
   "cell_type": "code",
   "execution_count": 143,
   "id": "7fc896fd",
   "metadata": {},
   "outputs": [],
   "source": [
    "RWM_re_merge_2_f_merge2['Is in previous RWM?'].replace('left_only', np.nan, inplace=True)\n",
    "RWM_re_merge_2_f_merge2['Is in previous RWM?'].replace('right_only', np.nan, inplace=True)\n",
    "RWM_re_merge_2_f_merge2['Is in previous RWM?'].replace('both', \"Yes\", inplace=True)"
   ]
  },
  {
   "cell_type": "code",
   "execution_count": 144,
   "id": "1bd0de39",
   "metadata": {},
   "outputs": [
    {
     "data": {
      "text/html": [
       "<div>\n",
       "<style scoped>\n",
       "    .dataframe tbody tr th:only-of-type {\n",
       "        vertical-align: middle;\n",
       "    }\n",
       "\n",
       "    .dataframe tbody tr th {\n",
       "        vertical-align: top;\n",
       "    }\n",
       "\n",
       "    .dataframe thead th {\n",
       "        text-align: right;\n",
       "    }\n",
       "</style>\n",
       "<table border=\"1\" class=\"dataframe\">\n",
       "  <thead>\n",
       "    <tr style=\"text-align: right;\">\n",
       "      <th></th>\n",
       "      <th>sno</th>\n",
       "      <th>MerchantExternalId</th>\n",
       "      <th>Is in Previous Month Payout</th>\n",
       "      <th>Is in Previous Month Payout Date</th>\n",
       "      <th>Previous_Google_Revisit_Date?</th>\n",
       "      <th>Is in previous Google?</th>\n",
       "      <th>Previous_RWM_Revisit_Date?</th>\n",
       "      <th>Is in previous RWM?</th>\n",
       "    </tr>\n",
       "  </thead>\n",
       "  <tbody>\n",
       "    <tr>\n",
       "      <th>0</th>\n",
       "      <td>1</td>\n",
       "      <td>BCR2DN4TQD2OZ3BF</td>\n",
       "      <td>NaN</td>\n",
       "      <td>NaN</td>\n",
       "      <td>NaN</td>\n",
       "      <td>NaN</td>\n",
       "      <td>NaN</td>\n",
       "      <td>NaN</td>\n",
       "    </tr>\n",
       "  </tbody>\n",
       "</table>\n",
       "</div>"
      ],
      "text/plain": [
       "   sno MerchantExternalId  Is in Previous Month Payout  \\\n",
       "0    1   BCR2DN4TQD2OZ3BF                          NaN   \n",
       "\n",
       "   Is in Previous Month Payout Date Previous_Google_Revisit_Date?  \\\n",
       "0                               NaN                           NaN   \n",
       "\n",
       "  Is in previous Google? Previous_RWM_Revisit_Date? Is in previous RWM?  \n",
       "0                    NaN                        NaN                 NaN  "
      ]
     },
     "execution_count": 144,
     "metadata": {},
     "output_type": "execute_result"
    }
   ],
   "source": [
    "RWM_re_merge_2_f_merge2.head(1)"
   ]
  },
  {
   "cell_type": "code",
   "execution_count": 145,
   "id": "182aec63",
   "metadata": {},
   "outputs": [],
   "source": [
    "RWM_re_merge_2_f_merge2['Is in Previous Month Payout'].fillna(RWM_re_merge_2_f_merge2[\n",
    "    'Is in previous Google?'], inplace=True)\n",
    "RWM_re_merge_2_f_merge2['Is in Previous Month Payout'].fillna(RWM_re_merge_2_f_merge2[\n",
    "    'Is in previous RWM?'], inplace=True)\n",
    "RWM_re_merge_2_f_merge2['Is in Previous Month Payout'].replace(np.nan, \"No\", inplace=True)"
   ]
  },
  {
   "cell_type": "code",
   "execution_count": 146,
   "id": "f931e2a7",
   "metadata": {},
   "outputs": [],
   "source": [
    "RWM_re_merge_2_f_merge2['Is in Previous Month Payout Date'].fillna(RWM_re_merge_2_f_merge2[\n",
    "    'Previous_Google_Revisit_Date?'], inplace=True)\n",
    "RWM_re_merge_2_f_merge2['Is in Previous Month Payout Date'].fillna(RWM_re_merge_2_f_merge2[\n",
    "    'Previous_RWM_Revisit_Date?'], inplace=True)"
   ]
  },
  {
   "cell_type": "code",
   "execution_count": 147,
   "id": "2feaabe0",
   "metadata": {},
   "outputs": [],
   "source": [
    "RWM_re_merge_2_f_merge2['Is in Previous Month Payout'].replace(\"No\", \"No Match\", inplace=True)\n",
    "RWM_re_merge_2_f_merge2['Is in Previous Month Payout'].replace(\"Yes\", \"Match\", inplace=True)"
   ]
  },
  {
   "cell_type": "code",
   "execution_count": 148,
   "id": "7b36bc71",
   "metadata": {},
   "outputs": [],
   "source": [
    "RWM_re_merge_2_f_merge2_f = RWM_re_merge_2_f_merge2[['sno', 'Is in Previous Month Payout', \n",
    "'Is in Previous Month Payout Date']].rename(\n",
    "    columns={'Is in Previous Month Payout':'Is in Previous Month Payout_New', \n",
    "             'Is in Previous Month Payout Date':'Is in Previous Month Payout Date_New'})"
   ]
  },
  {
   "cell_type": "code",
   "execution_count": 149,
   "id": "bc74eb54",
   "metadata": {},
   "outputs": [],
   "source": [
    "RWM_re_merge_2_f_merge2_f.drop_duplicates(subset=['sno'], inplace=True)"
   ]
  },
  {
   "cell_type": "code",
   "execution_count": 150,
   "id": "a01508c8",
   "metadata": {},
   "outputs": [],
   "source": [
    "RWM_re_merge_3 = RWM_re_merge_2.merge(RWM_re_merge_2_f_merge2_f, on='sno', how='left')"
   ]
  },
  {
   "cell_type": "code",
   "execution_count": 151,
   "id": "39e60bd3",
   "metadata": {},
   "outputs": [],
   "source": [
    "RWM_re_merge_3.drop_duplicates(subset=['sno'], inplace=True)"
   ]
  },
  {
   "cell_type": "code",
   "execution_count": 152,
   "id": "1cf572e8",
   "metadata": {},
   "outputs": [],
   "source": [
    "RWM_re_merge_3['Is in Previous Month Payout'].fillna(RWM_re_merge_3[\n",
    "    'Is in Previous Month Payout_New'], inplace=True)\n",
    "RWM_re_merge_3['Is in Previous Month Payout Date'].fillna(RWM_re_merge_3[\n",
    "    'Is in Previous Month Payout Date_New'], inplace=True)"
   ]
  },
  {
   "cell_type": "markdown",
   "id": "f146a34c",
   "metadata": {},
   "source": [
    "# OB Date Check"
   ]
  },
  {
   "cell_type": "code",
   "execution_count": 153,
   "id": "a7b7c2e5",
   "metadata": {},
   "outputs": [],
   "source": [
    "RWM_re_merge_3_f = RWM_re_merge_3[['sno', 'Revisit Date', 'OB Date']]"
   ]
  },
  {
   "cell_type": "code",
   "execution_count": 154,
   "id": "368f6919",
   "metadata": {},
   "outputs": [],
   "source": [
    "RWM_re_merge_3_f['OB Date Blank'] = RWM_re_merge_3_f['OB Date'].isna()"
   ]
  },
  {
   "cell_type": "code",
   "execution_count": 155,
   "id": "93508082",
   "metadata": {},
   "outputs": [],
   "source": [
    "RWM_re_merge_3_f2 = RWM_re_merge_3_f[RWM_re_merge_3_f['OB Date Blank'].isin([False])]"
   ]
  },
  {
   "cell_type": "code",
   "execution_count": 156,
   "id": "45614334",
   "metadata": {},
   "outputs": [],
   "source": [
    "RWM_re_merge_3_f2['OB Date Check_New'] = RWM_re_merge_3_f2['Revisit Date'] == RWM_re_merge_3_f2['OB Date']"
   ]
  },
  {
   "cell_type": "code",
   "execution_count": 157,
   "id": "174708d8",
   "metadata": {},
   "outputs": [],
   "source": [
    "RWM_re_merge_3_f3 = RWM_re_merge_3_f2[['sno', 'OB Date Check_New']]"
   ]
  },
  {
   "cell_type": "code",
   "execution_count": 158,
   "id": "0bb8c9f8",
   "metadata": {},
   "outputs": [],
   "source": [
    "RWM_re_merge_4 = RWM_re_merge_3.merge(RWM_re_merge_3_f3, on='sno', how='left')"
   ]
  },
  {
   "cell_type": "code",
   "execution_count": 159,
   "id": "48f0bb9a",
   "metadata": {},
   "outputs": [],
   "source": [
    "RWM_re_merge_4.drop_duplicates(subset=['sno'], inplace=True)\n",
    "RWM_re_merge_4['OB Date Check'].fillna(RWM_re_merge_4['OB Date Check_New'], inplace=True)"
   ]
  },
  {
   "cell_type": "markdown",
   "id": "55d514d7",
   "metadata": {},
   "source": [
    "# Replace Empty in MID to Empty"
   ]
  },
  {
   "cell_type": "code",
   "execution_count": 160,
   "id": "4f4ef3d6",
   "metadata": {},
   "outputs": [],
   "source": [
    "RWM_re_merge_4['Merchant Ext ID'].replace(\"Empty\", np.nan, inplace=True)"
   ]
  },
  {
   "cell_type": "markdown",
   "id": "85d19643",
   "metadata": {},
   "source": [
    "# Outcome Report"
   ]
  },
  {
   "cell_type": "code",
   "execution_count": null,
   "id": "3a401b7b",
   "metadata": {},
   "outputs": [],
   "source": []
  },
  {
   "cell_type": "code",
   "execution_count": null,
   "id": "af88943d",
   "metadata": {},
   "outputs": [],
   "source": []
  },
  {
   "cell_type": "code",
   "execution_count": null,
   "id": "06655ea7",
   "metadata": {},
   "outputs": [],
   "source": []
  },
  {
   "cell_type": "code",
   "execution_count": null,
   "id": "364aeba8",
   "metadata": {},
   "outputs": [],
   "source": []
  },
  {
   "cell_type": "code",
   "execution_count": 161,
   "id": "feb2e6f9",
   "metadata": {},
   "outputs": [],
   "source": [
    "# Stop Here"
   ]
  },
  {
   "cell_type": "markdown",
   "id": "4d043152",
   "metadata": {},
   "source": [
    "# Print the RWM File"
   ]
  },
  {
   "cell_type": "code",
   "execution_count": 162,
   "id": "d6f36905",
   "metadata": {},
   "outputs": [],
   "source": [
    "RWM_re_f = RWM_re_merge_4[[\"City Name\", 'TV City',\"Merchant ID\", \"Owner Mobile No.\", 'Employee Code', 'POD ID',\n",
    "'Merchant Ext ID','Validity', 'Invalid Reason', 'Revisit Date', 'Is in Google Daily File?', 'Is in Source File?_x',\n",
    "'Payout Status','Payout Invalid Reason','OB Date Check','Task Count', 'CompletedSubTaskTypes', 'Segment', \n",
    "'Ingestion Date', 'IngestionStatus','Revisit Expire Date', 'Is in Dynamic Source Visit Date Valid?',\n",
    "'Outcome Status', 'Is in Previous Month Payout', \"Is in Previous Month Payout Date\" ,'Source MID',\n",
    "'Source MID Match Check', 'Ext_ID Dup?', 'Phone_Dup?','Merchant_ID_Dup', 'Is in OB CSV file? MID', \n",
    "'Is in OB CSV file? MN', 'OB Date', 'Data Tag', 'Final Payout']].rename(\n",
    "columns={\"Owner Mobile No.\":'StorePhoneNumber', \"Merchant Ext ID\":'MerchantExternalId','City Name':'City' ,\n",
    "         'Invalid Reason':\"InvalidReasons\", 'Revisit Date':'Date', \"Is in Source File?_x\":'Is In Source?'})"
   ]
  },
  {
   "cell_type": "code",
   "execution_count": 163,
   "id": "3e70263b",
   "metadata": {},
   "outputs": [],
   "source": [
    "RWM_re_f_1 = RWM_re_f[RWM_re_f[\"Date\"].isin(Date)]"
   ]
  },
  {
   "cell_type": "code",
   "execution_count": 164,
   "id": "a139a02b",
   "metadata": {},
   "outputs": [],
   "source": [
    "RWM_re_f_2 = RWM_re_f[~RWM_re_f[\"Date\"].isin(Date)]"
   ]
  },
  {
   "cell_type": "code",
   "execution_count": 165,
   "id": "00d3a662",
   "metadata": {},
   "outputs": [],
   "source": [
    "RWM_re_f_1.to_csv(output_loc+\"RWM_Revisit_1_to_16_Oct_2022.csv\", index=False)\n",
    "RWM_re_f_2.to_csv(output_loc+\"RWM_Revisit_17_to_30_Oct_2022.csv\", index=False)\n",
    "RWM_re_f[RWM_re_f['Date'].isin(current_date)].to_csv(output_loc+\"Current_RWM.csv\", index=False)\n",
    "RWM_re_f.to_csv(output_loc+\"Monthly_RWM_Payout_consolidation.csv\", index=False)"
   ]
  },
  {
   "cell_type": "markdown",
   "id": "8bd497fa",
   "metadata": {},
   "source": [
    "# Preparation for the Google File"
   ]
  },
  {
   "cell_type": "code",
   "execution_count": 166,
   "id": "2970354b",
   "metadata": {
    "scrolled": true
   },
   "outputs": [
    {
     "data": {
      "text/html": [
       "<div>\n",
       "<style scoped>\n",
       "    .dataframe tbody tr th:only-of-type {\n",
       "        vertical-align: middle;\n",
       "    }\n",
       "\n",
       "    .dataframe tbody tr th {\n",
       "        vertical-align: top;\n",
       "    }\n",
       "\n",
       "    .dataframe thead th {\n",
       "        text-align: right;\n",
       "    }\n",
       "</style>\n",
       "<table border=\"1\" class=\"dataframe\">\n",
       "  <thead>\n",
       "    <tr style=\"text-align: right;\">\n",
       "      <th></th>\n",
       "      <th>sno</th>\n",
       "      <th>StoreName</th>\n",
       "      <th>City</th>\n",
       "      <th>Pincode</th>\n",
       "      <th>StorePhoneNumber</th>\n",
       "      <th>OnboardingTimestamp</th>\n",
       "      <th>TaskSubmissionTimestamp</th>\n",
       "      <th>MerchantExternalId</th>\n",
       "      <th>CompletedSubTaskTypes</th>\n",
       "      <th>AdditionalQRs</th>\n",
       "      <th>...</th>\n",
       "      <th>NewtoGMB</th>\n",
       "      <th>Is in Old Source?</th>\n",
       "      <th>OLD Valid</th>\n",
       "      <th>Segments</th>\n",
       "      <th>Is in Dynamic Source?</th>\n",
       "      <th>Is in Dynamic Source Visit Date Valid?</th>\n",
       "      <th>Revisit Expire Date</th>\n",
       "      <th>Dynamic IngestionStatus</th>\n",
       "      <th>Dynamic Ingestion Date</th>\n",
       "      <th>Primary_key</th>\n",
       "    </tr>\n",
       "  </thead>\n",
       "  <tbody>\n",
       "    <tr>\n",
       "      <th>0</th>\n",
       "      <td>1</td>\n",
       "      <td>R S Paints And Hardware</td>\n",
       "      <td>Akola</td>\n",
       "      <td>444101</td>\n",
       "      <td>8381097116</td>\n",
       "      <td>5/19/2022 19:42:7</td>\n",
       "      <td>Nov-01-2022</td>\n",
       "      <td>BCR2DN4T2C2KVQ2C</td>\n",
       "      <td>PROVISION_VPA, CAPTURE_ADDITIONAL_PICTURES, CA...</td>\n",
       "      <td>1.0</td>\n",
       "      <td>...</td>\n",
       "      <td>0.0</td>\n",
       "      <td>No</td>\n",
       "      <td>NaN</td>\n",
       "      <td>inactive - inr 40 extra pay on txn</td>\n",
       "      <td>Match</td>\n",
       "      <td>VALID</td>\n",
       "      <td>NaN</td>\n",
       "      <td>ADD</td>\n",
       "      <td>21-Oct-2022</td>\n",
       "      <td>5407</td>\n",
       "    </tr>\n",
       "  </tbody>\n",
       "</table>\n",
       "<p>1 rows × 44 columns</p>\n",
       "</div>"
      ],
      "text/plain": [
       "   sno                StoreName   City  Pincode  StorePhoneNumber  \\\n",
       "0    1  R S Paints And Hardware  Akola   444101        8381097116   \n",
       "\n",
       "  OnboardingTimestamp TaskSubmissionTimestamp MerchantExternalId  \\\n",
       "0   5/19/2022 19:42:7             Nov-01-2022   BCR2DN4T2C2KVQ2C   \n",
       "\n",
       "                               CompletedSubTaskTypes  AdditionalQRs  ...  \\\n",
       "0  PROVISION_VPA, CAPTURE_ADDITIONAL_PICTURES, CA...            1.0  ...   \n",
       "\n",
       "   NewtoGMB  Is in Old Source?  OLD Valid                            Segments  \\\n",
       "0       0.0                 No        NaN  inactive - inr 40 extra pay on txn   \n",
       "\n",
       "  Is in Dynamic Source? Is in Dynamic Source Visit Date Valid?  \\\n",
       "0                 Match                                  VALID   \n",
       "\n",
       "  Revisit Expire Date Dynamic IngestionStatus Dynamic Ingestion Date  \\\n",
       "0                 NaN                     ADD            21-Oct-2022   \n",
       "\n",
       "  Primary_key  \n",
       "0        5407  \n",
       "\n",
       "[1 rows x 44 columns]"
      ]
     },
     "execution_count": 166,
     "metadata": {},
     "output_type": "execute_result"
    }
   ],
   "source": [
    "Google_re.head(1)"
   ]
  },
  {
   "cell_type": "code",
   "execution_count": 167,
   "id": "fbddf934",
   "metadata": {},
   "outputs": [],
   "source": [
    "Google_re['Merchant ID'] = np.nan\n",
    "Google_re['POD ID'] = np.nan\n",
    "Google_re['Payout Status'] = np.nan\n",
    "Google_re['Payout Invalid Reason'] = np.nan\n",
    "Google_re['OB Date Check'] = np.nan\n",
    "Google_re['Outcome Status'] = np.nan\n",
    "Google_re['Is in Previous Month Payout'] = np.nan\n",
    "Google_re['Source MID'] = np.nan\n",
    "Google_re['Source MID Match Check'] = np.nan\n",
    "Google_re['Ext_ID Dup?'] = np.nan\n",
    "Google_re['Phone_Dup?'] = np.nan\n",
    "Google_re['Is in OB CSV file? MID'] = np.nan\n",
    "Google_re['Is in OB CSV file? MN'] = np.nan\n",
    "Google_re['OB Date'] = np.nan\n",
    "Google_re['Data Tag'] = \"Google\"\n",
    "Google_re['Is in Previous Month Payout Date'] = np.nan\n",
    "Google_re['Final Payout'] = np.nan"
   ]
  },
  {
   "cell_type": "code",
   "execution_count": 168,
   "id": "4423f328",
   "metadata": {},
   "outputs": [],
   "source": [
    "RWM_re_f2 = RWM_re_merge[['Merchant Ext ID' ,'Merchant ID', 'POD ID']].rename(\n",
    "    columns={\"Merchant Ext ID\":'MerchantExternalId'})"
   ]
  },
  {
   "cell_type": "code",
   "execution_count": 169,
   "id": "e92561b0",
   "metadata": {},
   "outputs": [],
   "source": [
    "Google_re_f = Google_re[['sno', 'MerchantExternalId']]"
   ]
  },
  {
   "cell_type": "code",
   "execution_count": 170,
   "id": "5722c62b",
   "metadata": {},
   "outputs": [],
   "source": [
    "Google_re_f_merge = Google_re_f.merge(RWM_re_f2, on='MerchantExternalId', how='left')"
   ]
  },
  {
   "cell_type": "code",
   "execution_count": 171,
   "id": "318aa9ba",
   "metadata": {},
   "outputs": [],
   "source": [
    "Google_re_f_merge.drop_duplicates(subset=['sno'], inplace=True)"
   ]
  },
  {
   "cell_type": "code",
   "execution_count": 172,
   "id": "9e342bd0",
   "metadata": {},
   "outputs": [],
   "source": [
    "Google_re_f_merge.rename(columns={'Merchant ID':'Merchant ID_2', 'POD ID':'POD ID_2'}, inplace=True)"
   ]
  },
  {
   "cell_type": "code",
   "execution_count": 173,
   "id": "38331eab",
   "metadata": {},
   "outputs": [],
   "source": [
    "Google_re_f_merge_f = Google_re_f_merge[['sno', 'Merchant ID_2', 'POD ID_2']]"
   ]
  },
  {
   "cell_type": "code",
   "execution_count": 174,
   "id": "9f8fa07e",
   "metadata": {},
   "outputs": [],
   "source": [
    "Google_re_merge = Google_re.merge(Google_re_f_merge_f, on='sno', how='left')"
   ]
  },
  {
   "cell_type": "code",
   "execution_count": 175,
   "id": "c1c4ef1b",
   "metadata": {},
   "outputs": [],
   "source": [
    "Google_re_merge.drop_duplicates(subset=['sno'], inplace=True)"
   ]
  },
  {
   "cell_type": "code",
   "execution_count": 176,
   "id": "2cebd6e0",
   "metadata": {},
   "outputs": [],
   "source": [
    "Google_re_merge['Merchant ID'].fillna(Google_re_merge['Merchant ID_2'], inplace=True)\n",
    "Google_re_merge['POD ID'].fillna(Google_re_merge['POD ID_2'], inplace=True)"
   ]
  },
  {
   "cell_type": "markdown",
   "id": "38d7a8fe",
   "metadata": {},
   "source": [
    "# Filling POD ID from Team View City"
   ]
  },
  {
   "cell_type": "code",
   "execution_count": 177,
   "id": "044ca202",
   "metadata": {},
   "outputs": [],
   "source": [
    "TV_city_f2 = TV_city_f[['Employee Code', 'POD Code']].rename(columns={\n",
    "    'Employee Code':'IF R is Blank then RWM App Code'})"
   ]
  },
  {
   "cell_type": "code",
   "execution_count": 178,
   "id": "26930bf2",
   "metadata": {},
   "outputs": [],
   "source": [
    "Google_re_merge2 = Google_re_merge.merge(TV_city_f2, on='IF R is Blank then RWM App Code', how='left')"
   ]
  },
  {
   "cell_type": "code",
   "execution_count": 179,
   "id": "a4842c8c",
   "metadata": {},
   "outputs": [],
   "source": [
    "Google_re_merge2.drop_duplicates(subset=['sno'], inplace=True)"
   ]
  },
  {
   "cell_type": "code",
   "execution_count": 180,
   "id": "558f679f",
   "metadata": {},
   "outputs": [],
   "source": [
    "Google_re_merge2['POD ID'].fillna(Google_re_merge2['POD Code'], inplace=True)"
   ]
  },
  {
   "cell_type": "code",
   "execution_count": null,
   "id": "083a7c27",
   "metadata": {},
   "outputs": [],
   "source": []
  },
  {
   "cell_type": "code",
   "execution_count": null,
   "id": "b32a8fd5",
   "metadata": {},
   "outputs": [],
   "source": []
  },
  {
   "cell_type": "markdown",
   "id": "5c8ebbc9",
   "metadata": {},
   "source": [
    "# Is in OB csv file? and fill the blank Is in OB csv file? MID and fill the blank Is in OB csv file? MN"
   ]
  },
  {
   "cell_type": "code",
   "execution_count": 181,
   "id": "2999e6cb",
   "metadata": {
    "scrolled": true
   },
   "outputs": [
    {
     "data": {
      "text/html": [
       "<div>\n",
       "<style scoped>\n",
       "    .dataframe tbody tr th:only-of-type {\n",
       "        vertical-align: middle;\n",
       "    }\n",
       "\n",
       "    .dataframe tbody tr th {\n",
       "        vertical-align: top;\n",
       "    }\n",
       "\n",
       "    .dataframe thead th {\n",
       "        text-align: right;\n",
       "    }\n",
       "</style>\n",
       "<table border=\"1\" class=\"dataframe\">\n",
       "  <thead>\n",
       "    <tr style=\"text-align: right;\">\n",
       "      <th></th>\n",
       "      <th>Merchant Ext ID</th>\n",
       "      <th>VerificationTimestamp</th>\n",
       "      <th>Validity</th>\n",
       "    </tr>\n",
       "  </thead>\n",
       "  <tbody>\n",
       "    <tr>\n",
       "      <th>0</th>\n",
       "      <td>BCR2DN4TWTCZNAYZ</td>\n",
       "      <td>Nov-19-2022</td>\n",
       "      <td>INVALID</td>\n",
       "    </tr>\n",
       "  </tbody>\n",
       "</table>\n",
       "</div>"
      ],
      "text/plain": [
       "    Merchant Ext ID VerificationTimestamp Validity\n",
       "0  BCR2DN4TWTCZNAYZ           Nov-19-2022  INVALID"
      ]
     },
     "execution_count": 181,
     "metadata": {},
     "output_type": "execute_result"
    }
   ],
   "source": [
    "google_ob_f.head(1)"
   ]
  },
  {
   "cell_type": "code",
   "execution_count": 182,
   "id": "f7a10d54",
   "metadata": {},
   "outputs": [],
   "source": [
    "google_ob_f.rename(columns={'MerchantExternalId':\"Merchant Ext ID\"}, inplace=True)"
   ]
  },
  {
   "cell_type": "code",
   "execution_count": 183,
   "id": "e8623834",
   "metadata": {
    "scrolled": true
   },
   "outputs": [
    {
     "data": {
      "text/html": [
       "<div>\n",
       "<style scoped>\n",
       "    .dataframe tbody tr th:only-of-type {\n",
       "        vertical-align: middle;\n",
       "    }\n",
       "\n",
       "    .dataframe tbody tr th {\n",
       "        vertical-align: top;\n",
       "    }\n",
       "\n",
       "    .dataframe thead th {\n",
       "        text-align: right;\n",
       "    }\n",
       "</style>\n",
       "<table border=\"1\" class=\"dataframe\">\n",
       "  <thead>\n",
       "    <tr style=\"text-align: right;\">\n",
       "      <th></th>\n",
       "      <th>Owner Mobile No.</th>\n",
       "      <th>VerificationTimestamp_mn</th>\n",
       "      <th>Validity_mn</th>\n",
       "    </tr>\n",
       "  </thead>\n",
       "  <tbody>\n",
       "    <tr>\n",
       "      <th>0</th>\n",
       "      <td>9760006551</td>\n",
       "      <td>Nov-19-2022</td>\n",
       "      <td>INVALID</td>\n",
       "    </tr>\n",
       "  </tbody>\n",
       "</table>\n",
       "</div>"
      ],
      "text/plain": [
       "   Owner Mobile No. VerificationTimestamp_mn Validity_mn\n",
       "0        9760006551              Nov-19-2022     INVALID"
      ]
     },
     "execution_count": 183,
     "metadata": {},
     "output_type": "execute_result"
    }
   ],
   "source": [
    "google_ob_f_mn.head(1)"
   ]
  },
  {
   "cell_type": "code",
   "execution_count": 184,
   "id": "20d4ce36",
   "metadata": {},
   "outputs": [],
   "source": [
    "google_ob_f_mn.rename(columns={'StorePhoneNumber':\"Owner Mobile No.\"}, inplace=True)"
   ]
  },
  {
   "cell_type": "code",
   "execution_count": 185,
   "id": "54146bca",
   "metadata": {},
   "outputs": [
    {
     "data": {
      "text/html": [
       "<div>\n",
       "<style scoped>\n",
       "    .dataframe tbody tr th:only-of-type {\n",
       "        vertical-align: middle;\n",
       "    }\n",
       "\n",
       "    .dataframe tbody tr th {\n",
       "        vertical-align: top;\n",
       "    }\n",
       "\n",
       "    .dataframe thead th {\n",
       "        text-align: right;\n",
       "    }\n",
       "</style>\n",
       "<table border=\"1\" class=\"dataframe\">\n",
       "  <thead>\n",
       "    <tr style=\"text-align: right;\">\n",
       "      <th></th>\n",
       "      <th>sno</th>\n",
       "      <th>StoreName</th>\n",
       "      <th>City</th>\n",
       "      <th>Pincode</th>\n",
       "      <th>StorePhoneNumber</th>\n",
       "      <th>OnboardingTimestamp</th>\n",
       "      <th>TaskSubmissionTimestamp</th>\n",
       "      <th>MerchantExternalId</th>\n",
       "      <th>CompletedSubTaskTypes</th>\n",
       "      <th>AdditionalQRs</th>\n",
       "      <th>...</th>\n",
       "      <th>Ext_ID Dup?</th>\n",
       "      <th>Phone_Dup?</th>\n",
       "      <th>Is in OB CSV file? MID</th>\n",
       "      <th>Is in OB CSV file? MN</th>\n",
       "      <th>OB Date</th>\n",
       "      <th>Data Tag</th>\n",
       "      <th>Is in Previous Month Payout Date</th>\n",
       "      <th>Merchant ID_2</th>\n",
       "      <th>POD ID_2</th>\n",
       "      <th>POD Code</th>\n",
       "    </tr>\n",
       "  </thead>\n",
       "  <tbody>\n",
       "    <tr>\n",
       "      <th>0</th>\n",
       "      <td>1</td>\n",
       "      <td>R S Paints And Hardware</td>\n",
       "      <td>Akola</td>\n",
       "      <td>444101</td>\n",
       "      <td>8381097116</td>\n",
       "      <td>5/19/2022 19:42:7</td>\n",
       "      <td>Nov-01-2022</td>\n",
       "      <td>BCR2DN4T2C2KVQ2C</td>\n",
       "      <td>PROVISION_VPA, CAPTURE_ADDITIONAL_PICTURES, CA...</td>\n",
       "      <td>1.0</td>\n",
       "      <td>...</td>\n",
       "      <td>NaN</td>\n",
       "      <td>NaN</td>\n",
       "      <td>NaN</td>\n",
       "      <td>NaN</td>\n",
       "      <td>NaN</td>\n",
       "      <td>Google</td>\n",
       "      <td>NaN</td>\n",
       "      <td>7196591.0</td>\n",
       "      <td>14549.0</td>\n",
       "      <td>14549.0</td>\n",
       "    </tr>\n",
       "  </tbody>\n",
       "</table>\n",
       "<p>1 rows × 63 columns</p>\n",
       "</div>"
      ],
      "text/plain": [
       "   sno                StoreName   City  Pincode  StorePhoneNumber  \\\n",
       "0    1  R S Paints And Hardware  Akola   444101        8381097116   \n",
       "\n",
       "  OnboardingTimestamp TaskSubmissionTimestamp MerchantExternalId  \\\n",
       "0   5/19/2022 19:42:7             Nov-01-2022   BCR2DN4T2C2KVQ2C   \n",
       "\n",
       "                               CompletedSubTaskTypes  AdditionalQRs  ...  \\\n",
       "0  PROVISION_VPA, CAPTURE_ADDITIONAL_PICTURES, CA...            1.0  ...   \n",
       "\n",
       "   Ext_ID Dup?  Phone_Dup?  Is in OB CSV file? MID Is in OB CSV file? MN  \\\n",
       "0          NaN         NaN                     NaN                   NaN   \n",
       "\n",
       "  OB Date Data Tag Is in Previous Month Payout Date Merchant ID_2 POD ID_2  \\\n",
       "0     NaN   Google                              NaN     7196591.0  14549.0   \n",
       "\n",
       "  POD Code  \n",
       "0  14549.0  \n",
       "\n",
       "[1 rows x 63 columns]"
      ]
     },
     "execution_count": 185,
     "metadata": {},
     "output_type": "execute_result"
    }
   ],
   "source": [
    "Google_re_merge2.head(1)"
   ]
  },
  {
   "cell_type": "code",
   "execution_count": 186,
   "id": "f1138849",
   "metadata": {},
   "outputs": [],
   "source": [
    "RWM_re_merge_f = Google_re_merge2[['MerchantExternalId', \"StorePhoneNumber\", \"Is in OB CSV file? MID\", \n",
    "'Is in OB CSV file? MN', 'OB Date', 'sno']].rename(columns={\"Is in OB CSV file? MID\":\"Is in OB CSV file? MID_New\",\n",
    "'Is in OB CSV file? MN':'Is in OB CSV file? MN_new'})"
   ]
  },
  {
   "cell_type": "code",
   "execution_count": 187,
   "id": "65273024",
   "metadata": {
    "scrolled": true
   },
   "outputs": [],
   "source": [
    "google_ob_f.rename(columns={'Merchant Ext ID':'MerchantExternalId'}, inplace=True)\n",
    "google_ob_f_mn.rename(columns={'Owner Mobile No.':'StorePhoneNumber'}, inplace=True)"
   ]
  },
  {
   "cell_type": "code",
   "execution_count": 188,
   "id": "c08af7c2",
   "metadata": {},
   "outputs": [],
   "source": [
    "RWM_re_merge_f_merge_mid = RWM_re_merge_f.merge(google_ob_f, on='MerchantExternalId', how='left', indicator=True)"
   ]
  },
  {
   "cell_type": "code",
   "execution_count": 189,
   "id": "5fcda93a",
   "metadata": {},
   "outputs": [],
   "source": [
    "RWM_re_merge_f_merge_mid.rename(columns={'_merge':\"mid_ob_check\"}, inplace=True)"
   ]
  },
  {
   "cell_type": "code",
   "execution_count": 190,
   "id": "8a2b9eb4",
   "metadata": {},
   "outputs": [
    {
     "data": {
      "text/plain": [
       "['left_only', 'both']\n",
       "Categories (3, object): ['left_only', 'right_only', 'both']"
      ]
     },
     "execution_count": 190,
     "metadata": {},
     "output_type": "execute_result"
    }
   ],
   "source": [
    "RWM_re_merge_f_merge_mid[\"mid_ob_check\"].unique()"
   ]
  },
  {
   "cell_type": "code",
   "execution_count": 191,
   "id": "ad635d7b",
   "metadata": {},
   "outputs": [],
   "source": [
    "RWM_re_merge_f_merge_mid[\"mid_ob_check\"] = RWM_re_merge_f_merge_mid[\"mid_ob_check\"].map({'left_only':\"No\",\n",
    " 'right_only':\"No\", 'both':\"Yes\"})"
   ]
  },
  {
   "cell_type": "code",
   "execution_count": 192,
   "id": "4fdb7bff",
   "metadata": {},
   "outputs": [],
   "source": [
    "RWM_re_merge_f_merge_mid.drop_duplicates(subset=['sno'], inplace=True)"
   ]
  },
  {
   "cell_type": "code",
   "execution_count": 193,
   "id": "0cb04075",
   "metadata": {},
   "outputs": [],
   "source": [
    "RWM_re_merge_f_merge_mid_mn = RWM_re_merge_f_merge_mid.merge(\n",
    "    google_ob_f_mn, on='StorePhoneNumber', how='left', indicator=True)"
   ]
  },
  {
   "cell_type": "code",
   "execution_count": 194,
   "id": "337f1241",
   "metadata": {},
   "outputs": [],
   "source": [
    "RWM_re_merge_f_merge_mid_mn.drop_duplicates(subset=['sno'], inplace=True)"
   ]
  },
  {
   "cell_type": "code",
   "execution_count": 195,
   "id": "d1f9df04",
   "metadata": {},
   "outputs": [],
   "source": [
    "RWM_re_merge_f_merge_mid_mn['_merge'] = RWM_re_merge_f_merge_mid_mn['_merge'].map({'left_only':\"No\",\n",
    " 'right_only':\"No\", 'both':\"Yes\"})"
   ]
  },
  {
   "cell_type": "code",
   "execution_count": 196,
   "id": "0c17816b",
   "metadata": {},
   "outputs": [],
   "source": [
    "RWM_re_merge_f_merge_mid_mn['Is in OB CSV file? MID_New'].fillna(RWM_re_merge_f_merge_mid_mn[\n",
    "    'mid_ob_check'], inplace=True)\n",
    "RWM_re_merge_f_merge_mid_mn['Is in OB CSV file? MN_new'].fillna(RWM_re_merge_f_merge_mid_mn[\n",
    "    '_merge'], inplace=True)\n",
    "RWM_re_merge_f_merge_mid_mn['VerificationTimestamp'].fillna(RWM_re_merge_f_merge_mid_mn[\n",
    "    'VerificationTimestamp_mn'], inplace=True)\n",
    "RWM_re_merge_f_merge_mid_mn['OB Date'].fillna(RWM_re_merge_f_merge_mid_mn[\n",
    "    'VerificationTimestamp'], inplace=True)"
   ]
  },
  {
   "cell_type": "code",
   "execution_count": 197,
   "id": "3a12fc1b",
   "metadata": {},
   "outputs": [],
   "source": [
    "RWM_re_merge_f_merge_mid_mn_f = RWM_re_merge_f_merge_mid_mn[['sno', 'Is in OB CSV file? MID_New', \n",
    "'Is in OB CSV file? MN_new', 'OB Date']].rename(columns={'OB Date':\"OB Date_New\"})"
   ]
  },
  {
   "cell_type": "code",
   "execution_count": 198,
   "id": "077fdc62",
   "metadata": {
    "scrolled": true
   },
   "outputs": [],
   "source": [
    "Google_re_merge3 = Google_re_merge2.merge(RWM_re_merge_f_merge_mid_mn_f, on='sno', how='left')"
   ]
  },
  {
   "cell_type": "code",
   "execution_count": 199,
   "id": "e9ef96a7",
   "metadata": {},
   "outputs": [],
   "source": [
    "Google_re_merge3['Is in OB CSV file? MID'].fillna(Google_re_merge3['Is in OB CSV file? MID_New'], inplace=True)\n",
    "Google_re_merge3['Is in OB CSV file? MN'].fillna(Google_re_merge3['Is in OB CSV file? MN_new'], inplace=True)\n",
    "Google_re_merge3['OB Date'].fillna(Google_re_merge3['OB Date_New'], inplace=True)"
   ]
  },
  {
   "cell_type": "code",
   "execution_count": null,
   "id": "f5331223",
   "metadata": {},
   "outputs": [],
   "source": []
  },
  {
   "cell_type": "markdown",
   "id": "f5c148e3",
   "metadata": {},
   "source": [
    "# Matching the MID and Phone Number from the Google OB File "
   ]
  },
  {
   "cell_type": "code",
   "execution_count": 200,
   "id": "025c68b7",
   "metadata": {},
   "outputs": [],
   "source": [
    "# Start from Here"
   ]
  },
  {
   "cell_type": "code",
   "execution_count": 201,
   "id": "f46cb0ef",
   "metadata": {
    "scrolled": false
   },
   "outputs": [
    {
     "data": {
      "text/html": [
       "<div>\n",
       "<style scoped>\n",
       "    .dataframe tbody tr th:only-of-type {\n",
       "        vertical-align: middle;\n",
       "    }\n",
       "\n",
       "    .dataframe tbody tr th {\n",
       "        vertical-align: top;\n",
       "    }\n",
       "\n",
       "    .dataframe thead th {\n",
       "        text-align: right;\n",
       "    }\n",
       "</style>\n",
       "<table border=\"1\" class=\"dataframe\">\n",
       "  <thead>\n",
       "    <tr style=\"text-align: right;\">\n",
       "      <th></th>\n",
       "      <th>MerchantExternalId</th>\n",
       "      <th>StorePhoneNumber</th>\n",
       "      <th>VerificationTimestamp</th>\n",
       "    </tr>\n",
       "  </thead>\n",
       "  <tbody>\n",
       "    <tr>\n",
       "      <th>4258</th>\n",
       "      <td>BCR2DN4TSSS2NFYL</td>\n",
       "      <td>9.635289e+09</td>\n",
       "      <td>Nov-01-2022</td>\n",
       "    </tr>\n",
       "  </tbody>\n",
       "</table>\n",
       "</div>"
      ],
      "text/plain": [
       "     MerchantExternalId  StorePhoneNumber VerificationTimestamp\n",
       "4258   BCR2DN4TSSS2NFYL      9.635289e+09           Nov-01-2022"
      ]
     },
     "execution_count": 201,
     "metadata": {},
     "output_type": "execute_result"
    }
   ],
   "source": [
    "google_csv_ob_f.head(1)"
   ]
  },
  {
   "cell_type": "code",
   "execution_count": 202,
   "id": "f7f54b0d",
   "metadata": {},
   "outputs": [],
   "source": [
    "google_csv_ob_f_mid = google_csv_ob_f[['MerchantExternalId', 'VerificationTimestamp']].rename(\n",
    "    columns={'MerchantExternalId':'Merchant Ext ID', \"VerificationTimestamp\":'OB_Date_mid'})\n",
    "google_csv_ob_f_mn = google_csv_ob_f[['StorePhoneNumber', 'VerificationTimestamp']].rename(\n",
    "    columns={'StorePhoneNumber':'Owner Mobile No.', \"VerificationTimestamp\":'OB_Date_mn'})"
   ]
  },
  {
   "cell_type": "code",
   "execution_count": 203,
   "id": "4d463508",
   "metadata": {},
   "outputs": [],
   "source": [
    "RWM_re_merge_2_f = Google_re_merge3[['sno','MerchantExternalId', 'StorePhoneNumber', 'Is in OB CSV file? MID', \n",
    "                                   'Is in OB CSV file? MN', 'OB Date']].rename(\n",
    "    columns={'MerchantExternalId':'Merchant Ext ID', 'StorePhoneNumber':'Owner Mobile No.'})"
   ]
  },
  {
   "cell_type": "code",
   "execution_count": 204,
   "id": "ff4eaabc",
   "metadata": {},
   "outputs": [],
   "source": [
    "RWM_re_merge_2_f['Is in OB CSV file? MID'].replace('No', np.nan, inplace=True)\n",
    "RWM_re_merge_2_f['Is in OB CSV file? MN'].replace('No', np.nan, inplace=True)"
   ]
  },
  {
   "cell_type": "code",
   "execution_count": 205,
   "id": "bef884a2",
   "metadata": {},
   "outputs": [
    {
     "data": {
      "text/html": [
       "<div>\n",
       "<style scoped>\n",
       "    .dataframe tbody tr th:only-of-type {\n",
       "        vertical-align: middle;\n",
       "    }\n",
       "\n",
       "    .dataframe tbody tr th {\n",
       "        vertical-align: top;\n",
       "    }\n",
       "\n",
       "    .dataframe thead th {\n",
       "        text-align: right;\n",
       "    }\n",
       "</style>\n",
       "<table border=\"1\" class=\"dataframe\">\n",
       "  <thead>\n",
       "    <tr style=\"text-align: right;\">\n",
       "      <th></th>\n",
       "      <th>sno</th>\n",
       "      <th>Merchant Ext ID</th>\n",
       "      <th>Owner Mobile No.</th>\n",
       "      <th>Is in OB CSV file? MID</th>\n",
       "      <th>Is in OB CSV file? MN</th>\n",
       "      <th>OB Date</th>\n",
       "    </tr>\n",
       "  </thead>\n",
       "  <tbody>\n",
       "    <tr>\n",
       "      <th>0</th>\n",
       "      <td>1</td>\n",
       "      <td>BCR2DN4T2C2KVQ2C</td>\n",
       "      <td>8381097116</td>\n",
       "      <td>NaN</td>\n",
       "      <td>NaN</td>\n",
       "      <td>NaN</td>\n",
       "    </tr>\n",
       "  </tbody>\n",
       "</table>\n",
       "</div>"
      ],
      "text/plain": [
       "   sno   Merchant Ext ID  Owner Mobile No. Is in OB CSV file? MID  \\\n",
       "0    1  BCR2DN4T2C2KVQ2C        8381097116                    NaN   \n",
       "\n",
       "  Is in OB CSV file? MN OB Date  \n",
       "0                   NaN     NaN  "
      ]
     },
     "execution_count": 205,
     "metadata": {},
     "output_type": "execute_result"
    }
   ],
   "source": [
    "RWM_re_merge_2_f.head(1)"
   ]
  },
  {
   "cell_type": "code",
   "execution_count": 206,
   "id": "298e1b04",
   "metadata": {},
   "outputs": [],
   "source": [
    "RWM_re_merge_2_f_mid = RWM_re_merge_2_f.merge(\n",
    "    google_csv_ob_f_mid, on='Merchant Ext ID', how='left', indicator=True)"
   ]
  },
  {
   "cell_type": "code",
   "execution_count": 207,
   "id": "1fecbfb2",
   "metadata": {},
   "outputs": [],
   "source": [
    "RWM_re_merge_2_f_mid.drop_duplicates(subset=['sno'], inplace=True)"
   ]
  },
  {
   "cell_type": "code",
   "execution_count": 208,
   "id": "c9fa3585",
   "metadata": {},
   "outputs": [],
   "source": [
    "RWM_re_merge_2_f_mid.rename(columns={'_merge':\"MID_match\"}, inplace=True)"
   ]
  },
  {
   "cell_type": "code",
   "execution_count": 209,
   "id": "7af0b04b",
   "metadata": {},
   "outputs": [],
   "source": [
    "RWM_re_merge_2_f_mid['MID_match'] = RWM_re_merge_2_f_mid['MID_match'].map({'left_only':np.nan, \n",
    "'right_only':np.nan, 'both':'Yes'})"
   ]
  },
  {
   "cell_type": "code",
   "execution_count": 210,
   "id": "d76ce67b",
   "metadata": {},
   "outputs": [
    {
     "data": {
      "text/html": [
       "<div>\n",
       "<style scoped>\n",
       "    .dataframe tbody tr th:only-of-type {\n",
       "        vertical-align: middle;\n",
       "    }\n",
       "\n",
       "    .dataframe tbody tr th {\n",
       "        vertical-align: top;\n",
       "    }\n",
       "\n",
       "    .dataframe thead th {\n",
       "        text-align: right;\n",
       "    }\n",
       "</style>\n",
       "<table border=\"1\" class=\"dataframe\">\n",
       "  <thead>\n",
       "    <tr style=\"text-align: right;\">\n",
       "      <th></th>\n",
       "      <th>sno</th>\n",
       "      <th>Merchant Ext ID</th>\n",
       "      <th>Owner Mobile No.</th>\n",
       "      <th>Is in OB CSV file? MID</th>\n",
       "      <th>Is in OB CSV file? MN</th>\n",
       "      <th>OB Date</th>\n",
       "      <th>OB_Date_mid</th>\n",
       "      <th>MID_match</th>\n",
       "    </tr>\n",
       "  </thead>\n",
       "  <tbody>\n",
       "    <tr>\n",
       "      <th>0</th>\n",
       "      <td>1</td>\n",
       "      <td>BCR2DN4T2C2KVQ2C</td>\n",
       "      <td>8381097116</td>\n",
       "      <td>NaN</td>\n",
       "      <td>NaN</td>\n",
       "      <td>NaN</td>\n",
       "      <td>NaN</td>\n",
       "      <td>NaN</td>\n",
       "    </tr>\n",
       "  </tbody>\n",
       "</table>\n",
       "</div>"
      ],
      "text/plain": [
       "   sno   Merchant Ext ID  Owner Mobile No. Is in OB CSV file? MID  \\\n",
       "0    1  BCR2DN4T2C2KVQ2C        8381097116                    NaN   \n",
       "\n",
       "  Is in OB CSV file? MN OB Date OB_Date_mid MID_match  \n",
       "0                   NaN     NaN         NaN       NaN  "
      ]
     },
     "execution_count": 210,
     "metadata": {},
     "output_type": "execute_result"
    }
   ],
   "source": [
    "RWM_re_merge_2_f_mid.head(1)"
   ]
  },
  {
   "cell_type": "code",
   "execution_count": 211,
   "id": "fdfe7547",
   "metadata": {},
   "outputs": [],
   "source": [
    "RWM_re_merge_2_f_mid_mn = RWM_re_merge_2_f_mid.merge(\n",
    "    google_csv_ob_f_mn, on='Owner Mobile No.', how='left', indicator=True)"
   ]
  },
  {
   "cell_type": "code",
   "execution_count": 212,
   "id": "ce9962cf",
   "metadata": {},
   "outputs": [],
   "source": [
    "RWM_re_merge_2_f_mid_mn.drop_duplicates(subset=['sno'], inplace=True)"
   ]
  },
  {
   "cell_type": "code",
   "execution_count": 213,
   "id": "aa1e1f30",
   "metadata": {},
   "outputs": [],
   "source": [
    "RWM_re_merge_2_f_mid_mn.rename(columns={'_merge':\"MN_match\"}, inplace=True)"
   ]
  },
  {
   "cell_type": "code",
   "execution_count": 214,
   "id": "41bcddd7",
   "metadata": {},
   "outputs": [],
   "source": [
    "RWM_re_merge_2_f_mid_mn['MN_match'] = RWM_re_merge_2_f_mid_mn['MN_match'].map({'left_only':np.nan, \n",
    "'right_only':np.nan, 'both':'Yes'})"
   ]
  },
  {
   "cell_type": "code",
   "execution_count": 215,
   "id": "d62db6cc",
   "metadata": {},
   "outputs": [],
   "source": [
    "RWM_re_merge_2_f_mid_mn['OB Date'].fillna(RWM_re_merge_2_f_mid_mn['OB_Date_mid'], inplace=True)\n",
    "RWM_re_merge_2_f_mid_mn['OB Date'].fillna(RWM_re_merge_2_f_mid_mn['OB_Date_mn'], inplace=True)\n",
    "RWM_re_merge_2_f_mid_mn['Is in OB CSV file? MID'].fillna(RWM_re_merge_2_f_mid_mn['MID_match'], inplace=True)\n",
    "RWM_re_merge_2_f_mid_mn['Is in OB CSV file? MN'].fillna(RWM_re_merge_2_f_mid_mn['MN_match'], inplace=True)"
   ]
  },
  {
   "cell_type": "code",
   "execution_count": 216,
   "id": "2cc16286",
   "metadata": {},
   "outputs": [],
   "source": [
    "RWM_re_merge_2_f_mid_mn_f = RWM_re_merge_2_f_mid_mn[['sno', 'Is in OB CSV file? MID', 'Is in OB CSV file? MN',\n",
    "                                                    'OB Date']]"
   ]
  },
  {
   "cell_type": "code",
   "execution_count": 217,
   "id": "39c24791",
   "metadata": {},
   "outputs": [],
   "source": [
    "RWM_re_merge_2_f_mid_mn_f['Is in OB CSV file? MID'] = RWM_re_merge_2_f_mid_mn_f[\n",
    "    'Is in OB CSV file? MN'].replace(np.nan, \"No\")\n",
    "RWM_re_merge_2_f_mid_mn_f['Is in OB CSV file? MN'] = RWM_re_merge_2_f_mid_mn_f[\n",
    "    'Is in OB CSV file? MN'].replace(np.nan, \"No\")"
   ]
  },
  {
   "cell_type": "code",
   "execution_count": 218,
   "id": "464ee082",
   "metadata": {},
   "outputs": [],
   "source": [
    "RWM_re_merge_2_f_mid_mn_f.rename(columns={'Is in OB CSV file? MID':'Is in OB CSV file? MID_New_2', \n",
    "\"Is in OB CSV file? MN\":'Is in OB CSV file? MN_New_2', \"OB Date\":'OB Date_New_2'}, inplace=True)"
   ]
  },
  {
   "cell_type": "code",
   "execution_count": 219,
   "id": "c570d29a",
   "metadata": {},
   "outputs": [],
   "source": [
    "Google_re_merge3_merge = Google_re_merge3.merge(RWM_re_merge_2_f_mid_mn_f, on='sno', how='left')"
   ]
  },
  {
   "cell_type": "code",
   "execution_count": 220,
   "id": "b0f94f20",
   "metadata": {},
   "outputs": [],
   "source": [
    "Google_re_merge3_merge.drop_duplicates(subset=['sno'], inplace=True)"
   ]
  },
  {
   "cell_type": "code",
   "execution_count": 221,
   "id": "61ca0e20",
   "metadata": {},
   "outputs": [],
   "source": [
    "Google_re_merge3_merge['Is in OB CSV file? MID'].replace('No', np.nan, inplace=True)\n",
    "Google_re_merge3_merge['Is in OB CSV file? MN'].replace('No', np.nan, inplace=True)"
   ]
  },
  {
   "cell_type": "code",
   "execution_count": 222,
   "id": "1428a1da",
   "metadata": {},
   "outputs": [],
   "source": [
    "Google_re_merge3_merge['Is in OB CSV file? MID'].fillna(Google_re_merge3_merge[\n",
    "    'Is in OB CSV file? MID_New_2'], inplace=True)\n",
    "Google_re_merge3_merge['Is in OB CSV file? MN'].fillna(Google_re_merge3_merge[\n",
    "    'Is in OB CSV file? MN_New_2'], inplace=True)\n",
    "Google_re_merge3_merge['OB Date'].fillna(Google_re_merge3_merge[\n",
    "    'OB Date_New_2'], inplace=True)"
   ]
  },
  {
   "cell_type": "code",
   "execution_count": 223,
   "id": "3c42b930",
   "metadata": {},
   "outputs": [],
   "source": [
    "Google_re_merge3_merge['Is in OB CSV file? MID'].replace(np.nan, 'No', inplace=True)\n",
    "Google_re_merge3_merge['Is in OB CSV file? MN'].replace(np.nan,'No', inplace=True)"
   ]
  },
  {
   "cell_type": "code",
   "execution_count": 224,
   "id": "2a7ed6e9",
   "metadata": {},
   "outputs": [],
   "source": [
    "Google_re_merge3 = Google_re_merge3_merge"
   ]
  },
  {
   "cell_type": "markdown",
   "id": "f5ce73a0",
   "metadata": {},
   "source": [
    "# Is in Previous Month Payout"
   ]
  },
  {
   "cell_type": "code",
   "execution_count": 225,
   "id": "a5010099",
   "metadata": {
    "scrolled": false
   },
   "outputs": [
    {
     "data": {
      "text/html": [
       "<div>\n",
       "<style scoped>\n",
       "    .dataframe tbody tr th:only-of-type {\n",
       "        vertical-align: middle;\n",
       "    }\n",
       "\n",
       "    .dataframe tbody tr th {\n",
       "        vertical-align: top;\n",
       "    }\n",
       "\n",
       "    .dataframe thead th {\n",
       "        text-align: right;\n",
       "    }\n",
       "</style>\n",
       "<table border=\"1\" class=\"dataframe\">\n",
       "  <thead>\n",
       "    <tr style=\"text-align: right;\">\n",
       "      <th></th>\n",
       "      <th>MerchantExternalId</th>\n",
       "      <th>Date</th>\n",
       "    </tr>\n",
       "  </thead>\n",
       "  <tbody>\n",
       "    <tr>\n",
       "      <th>0</th>\n",
       "      <td>BCR2DN4T2C32B6QM</td>\n",
       "      <td>Aug-01-2022</td>\n",
       "    </tr>\n",
       "  </tbody>\n",
       "</table>\n",
       "</div>"
      ],
      "text/plain": [
       "  MerchantExternalId         Date\n",
       "0   BCR2DN4T2C32B6QM  Aug-01-2022"
      ]
     },
     "execution_count": 225,
     "metadata": {},
     "output_type": "execute_result"
    }
   ],
   "source": [
    "google_revisit_f2.head(1)"
   ]
  },
  {
   "cell_type": "code",
   "execution_count": 226,
   "id": "429a2822",
   "metadata": {
    "scrolled": true
   },
   "outputs": [
    {
     "data": {
      "text/html": [
       "<div>\n",
       "<style scoped>\n",
       "    .dataframe tbody tr th:only-of-type {\n",
       "        vertical-align: middle;\n",
       "    }\n",
       "\n",
       "    .dataframe tbody tr th {\n",
       "        vertical-align: top;\n",
       "    }\n",
       "\n",
       "    .dataframe thead th {\n",
       "        text-align: right;\n",
       "    }\n",
       "</style>\n",
       "<table border=\"1\" class=\"dataframe\">\n",
       "  <thead>\n",
       "    <tr style=\"text-align: right;\">\n",
       "      <th></th>\n",
       "      <th>MerchantExternalId</th>\n",
       "      <th>Revisit Date</th>\n",
       "    </tr>\n",
       "  </thead>\n",
       "  <tbody>\n",
       "    <tr>\n",
       "      <th>7</th>\n",
       "      <td>BCR2DN6TY7F7LGDZ</td>\n",
       "      <td>Aug-01-2022</td>\n",
       "    </tr>\n",
       "  </tbody>\n",
       "</table>\n",
       "</div>"
      ],
      "text/plain": [
       "  MerchantExternalId Revisit Date\n",
       "7   BCR2DN6TY7F7LGDZ  Aug-01-2022"
      ]
     },
     "execution_count": 226,
     "metadata": {},
     "output_type": "execute_result"
    }
   ],
   "source": [
    "rwm_revisit_f.head(1)"
   ]
  },
  {
   "cell_type": "code",
   "execution_count": 227,
   "id": "f18ca484",
   "metadata": {
    "scrolled": false
   },
   "outputs": [
    {
     "data": {
      "text/html": [
       "<div>\n",
       "<style scoped>\n",
       "    .dataframe tbody tr th:only-of-type {\n",
       "        vertical-align: middle;\n",
       "    }\n",
       "\n",
       "    .dataframe tbody tr th {\n",
       "        vertical-align: top;\n",
       "    }\n",
       "\n",
       "    .dataframe thead th {\n",
       "        text-align: right;\n",
       "    }\n",
       "</style>\n",
       "<table border=\"1\" class=\"dataframe\">\n",
       "  <thead>\n",
       "    <tr style=\"text-align: right;\">\n",
       "      <th></th>\n",
       "      <th>sno</th>\n",
       "      <th>StoreName</th>\n",
       "      <th>City</th>\n",
       "      <th>Pincode</th>\n",
       "      <th>StorePhoneNumber</th>\n",
       "      <th>OnboardingTimestamp</th>\n",
       "      <th>TaskSubmissionTimestamp</th>\n",
       "      <th>MerchantExternalId</th>\n",
       "      <th>CompletedSubTaskTypes</th>\n",
       "      <th>AdditionalQRs</th>\n",
       "      <th>...</th>\n",
       "      <th>Is in Previous Month Payout Date</th>\n",
       "      <th>Merchant ID_2</th>\n",
       "      <th>POD ID_2</th>\n",
       "      <th>POD Code</th>\n",
       "      <th>Is in OB CSV file? MID_New</th>\n",
       "      <th>Is in OB CSV file? MN_new</th>\n",
       "      <th>OB Date_New</th>\n",
       "      <th>Is in OB CSV file? MID_New_2</th>\n",
       "      <th>Is in OB CSV file? MN_New_2</th>\n",
       "      <th>OB Date_New_2</th>\n",
       "    </tr>\n",
       "  </thead>\n",
       "  <tbody>\n",
       "    <tr>\n",
       "      <th>0</th>\n",
       "      <td>1</td>\n",
       "      <td>R S Paints And Hardware</td>\n",
       "      <td>Akola</td>\n",
       "      <td>444101</td>\n",
       "      <td>8381097116</td>\n",
       "      <td>5/19/2022 19:42:7</td>\n",
       "      <td>Nov-01-2022</td>\n",
       "      <td>BCR2DN4T2C2KVQ2C</td>\n",
       "      <td>PROVISION_VPA, CAPTURE_ADDITIONAL_PICTURES, CA...</td>\n",
       "      <td>1.0</td>\n",
       "      <td>...</td>\n",
       "      <td>NaN</td>\n",
       "      <td>7196591.0</td>\n",
       "      <td>14549.0</td>\n",
       "      <td>14549.0</td>\n",
       "      <td>No</td>\n",
       "      <td>No</td>\n",
       "      <td>NaN</td>\n",
       "      <td>No</td>\n",
       "      <td>No</td>\n",
       "      <td>NaN</td>\n",
       "    </tr>\n",
       "  </tbody>\n",
       "</table>\n",
       "<p>1 rows × 69 columns</p>\n",
       "</div>"
      ],
      "text/plain": [
       "   sno                StoreName   City  Pincode  StorePhoneNumber  \\\n",
       "0    1  R S Paints And Hardware  Akola   444101        8381097116   \n",
       "\n",
       "  OnboardingTimestamp TaskSubmissionTimestamp MerchantExternalId  \\\n",
       "0   5/19/2022 19:42:7             Nov-01-2022   BCR2DN4T2C2KVQ2C   \n",
       "\n",
       "                               CompletedSubTaskTypes  AdditionalQRs  ...  \\\n",
       "0  PROVISION_VPA, CAPTURE_ADDITIONAL_PICTURES, CA...            1.0  ...   \n",
       "\n",
       "   Is in Previous Month Payout Date  Merchant ID_2  POD ID_2 POD Code  \\\n",
       "0                               NaN      7196591.0   14549.0  14549.0   \n",
       "\n",
       "  Is in OB CSV file? MID_New Is in OB CSV file? MN_new OB Date_New  \\\n",
       "0                         No                        No         NaN   \n",
       "\n",
       "  Is in OB CSV file? MID_New_2 Is in OB CSV file? MN_New_2 OB Date_New_2  \n",
       "0                           No                          No           NaN  \n",
       "\n",
       "[1 rows x 69 columns]"
      ]
     },
     "execution_count": 227,
     "metadata": {},
     "output_type": "execute_result"
    }
   ],
   "source": [
    "Google_re_merge3.head(1)"
   ]
  },
  {
   "cell_type": "code",
   "execution_count": 228,
   "id": "a9056114",
   "metadata": {},
   "outputs": [],
   "source": [
    "RWM_re_merge_2_f = Google_re_merge3[['sno', \"MerchantExternalId\", 'Is in Previous Month Payout', \n",
    "                                     'Is in Previous Month Payout Date']]"
   ]
  },
  {
   "cell_type": "code",
   "execution_count": 229,
   "id": "9597e6ef",
   "metadata": {},
   "outputs": [],
   "source": [
    "RWM_re_merge_2_f_merge = RWM_re_merge_2_f.merge(\n",
    "    google_revisit_f2, on='MerchantExternalId', how='left', indicator=True)"
   ]
  },
  {
   "cell_type": "code",
   "execution_count": 230,
   "id": "bb0d4d2e",
   "metadata": {},
   "outputs": [],
   "source": [
    "RWM_re_merge_2_f_merge.drop_duplicates(subset=['sno'], inplace=True)\n",
    "RWM_re_merge_2_f_merge.rename(columns={\"_merge\":\"Is in previous Google?\"}, inplace=True)\n",
    "RWM_re_merge_2_f_merge.rename(columns={'Date':'Previous_Google_Date'}, inplace=True)"
   ]
  },
  {
   "cell_type": "code",
   "execution_count": 231,
   "id": "a2ae49d3",
   "metadata": {},
   "outputs": [],
   "source": [
    "RWM_re_merge_2_f_merge['Is in previous Google?'].replace('left_only', np.nan, inplace=True)\n",
    "RWM_re_merge_2_f_merge['Is in previous Google?'].replace('right_only', np.nan, inplace=True)\n",
    "RWM_re_merge_2_f_merge['Is in previous Google?'].replace('both', \"Yes\", inplace=True)"
   ]
  },
  {
   "cell_type": "code",
   "execution_count": 232,
   "id": "2edbbde3",
   "metadata": {
    "scrolled": true
   },
   "outputs": [
    {
     "data": {
      "text/html": [
       "<div>\n",
       "<style scoped>\n",
       "    .dataframe tbody tr th:only-of-type {\n",
       "        vertical-align: middle;\n",
       "    }\n",
       "\n",
       "    .dataframe tbody tr th {\n",
       "        vertical-align: top;\n",
       "    }\n",
       "\n",
       "    .dataframe thead th {\n",
       "        text-align: right;\n",
       "    }\n",
       "</style>\n",
       "<table border=\"1\" class=\"dataframe\">\n",
       "  <thead>\n",
       "    <tr style=\"text-align: right;\">\n",
       "      <th></th>\n",
       "      <th>sno</th>\n",
       "      <th>MerchantExternalId</th>\n",
       "      <th>Is in Previous Month Payout</th>\n",
       "      <th>Is in Previous Month Payout Date</th>\n",
       "      <th>Previous_Google_Date</th>\n",
       "      <th>Is in previous Google?</th>\n",
       "    </tr>\n",
       "  </thead>\n",
       "  <tbody>\n",
       "    <tr>\n",
       "      <th>0</th>\n",
       "      <td>1</td>\n",
       "      <td>BCR2DN4T2C2KVQ2C</td>\n",
       "      <td>NaN</td>\n",
       "      <td>NaN</td>\n",
       "      <td>NaN</td>\n",
       "      <td>NaN</td>\n",
       "    </tr>\n",
       "  </tbody>\n",
       "</table>\n",
       "</div>"
      ],
      "text/plain": [
       "   sno MerchantExternalId  Is in Previous Month Payout  \\\n",
       "0    1   BCR2DN4T2C2KVQ2C                          NaN   \n",
       "\n",
       "   Is in Previous Month Payout Date Previous_Google_Date  \\\n",
       "0                               NaN                  NaN   \n",
       "\n",
       "  Is in previous Google?  \n",
       "0                    NaN  "
      ]
     },
     "execution_count": 232,
     "metadata": {},
     "output_type": "execute_result"
    }
   ],
   "source": [
    "RWM_re_merge_2_f_merge.head(1)"
   ]
  },
  {
   "cell_type": "code",
   "execution_count": 233,
   "id": "19ca1f14",
   "metadata": {},
   "outputs": [],
   "source": [
    "RWM_re_merge_2_f_merge2 = RWM_re_merge_2_f_merge.merge(\n",
    "    rwm_revisit_f, on='MerchantExternalId', how='left', indicator=True)"
   ]
  },
  {
   "cell_type": "code",
   "execution_count": 234,
   "id": "dce08aaa",
   "metadata": {},
   "outputs": [],
   "source": [
    "RWM_re_merge_2_f_merge2.drop_duplicates(subset=['sno'], inplace=True)\n",
    "RWM_re_merge_2_f_merge2.rename(columns={\"_merge\":\"Is in previous RWM?\"}, inplace=True)\n",
    "RWM_re_merge_2_f_merge2.rename(columns={\"Revisit Date\":\"Previous_RWM_Date\"}, inplace=True)"
   ]
  },
  {
   "cell_type": "code",
   "execution_count": 235,
   "id": "52d0f6f4",
   "metadata": {},
   "outputs": [],
   "source": [
    "RWM_re_merge_2_f_merge2['Is in previous RWM?'].replace('left_only', np.nan, inplace=True)\n",
    "RWM_re_merge_2_f_merge2['Is in previous RWM?'].replace('right_only', np.nan, inplace=True)\n",
    "RWM_re_merge_2_f_merge2['Is in previous RWM?'].replace('both', \"Yes\", inplace=True)"
   ]
  },
  {
   "cell_type": "code",
   "execution_count": 236,
   "id": "44c1227e",
   "metadata": {},
   "outputs": [
    {
     "data": {
      "text/html": [
       "<div>\n",
       "<style scoped>\n",
       "    .dataframe tbody tr th:only-of-type {\n",
       "        vertical-align: middle;\n",
       "    }\n",
       "\n",
       "    .dataframe tbody tr th {\n",
       "        vertical-align: top;\n",
       "    }\n",
       "\n",
       "    .dataframe thead th {\n",
       "        text-align: right;\n",
       "    }\n",
       "</style>\n",
       "<table border=\"1\" class=\"dataframe\">\n",
       "  <thead>\n",
       "    <tr style=\"text-align: right;\">\n",
       "      <th></th>\n",
       "      <th>sno</th>\n",
       "      <th>MerchantExternalId</th>\n",
       "      <th>Is in Previous Month Payout</th>\n",
       "      <th>Is in Previous Month Payout Date</th>\n",
       "      <th>Previous_Google_Date</th>\n",
       "      <th>Is in previous Google?</th>\n",
       "      <th>Previous_RWM_Date</th>\n",
       "      <th>Is in previous RWM?</th>\n",
       "    </tr>\n",
       "  </thead>\n",
       "  <tbody>\n",
       "    <tr>\n",
       "      <th>0</th>\n",
       "      <td>1</td>\n",
       "      <td>BCR2DN4T2C2KVQ2C</td>\n",
       "      <td>NaN</td>\n",
       "      <td>NaN</td>\n",
       "      <td>NaN</td>\n",
       "      <td>NaN</td>\n",
       "      <td>NaN</td>\n",
       "      <td>NaN</td>\n",
       "    </tr>\n",
       "  </tbody>\n",
       "</table>\n",
       "</div>"
      ],
      "text/plain": [
       "   sno MerchantExternalId  Is in Previous Month Payout  \\\n",
       "0    1   BCR2DN4T2C2KVQ2C                          NaN   \n",
       "\n",
       "   Is in Previous Month Payout Date Previous_Google_Date  \\\n",
       "0                               NaN                  NaN   \n",
       "\n",
       "  Is in previous Google? Previous_RWM_Date Is in previous RWM?  \n",
       "0                    NaN               NaN                 NaN  "
      ]
     },
     "execution_count": 236,
     "metadata": {},
     "output_type": "execute_result"
    }
   ],
   "source": [
    "RWM_re_merge_2_f_merge2.head(1)"
   ]
  },
  {
   "cell_type": "code",
   "execution_count": 237,
   "id": "608d226e",
   "metadata": {},
   "outputs": [],
   "source": [
    "RWM_re_merge_2_f_merge2['Is in Previous Month Payout'].fillna(RWM_re_merge_2_f_merge2[\n",
    "    'Is in previous Google?'], inplace=True)\n",
    "RWM_re_merge_2_f_merge2['Is in Previous Month Payout'].fillna(RWM_re_merge_2_f_merge2[\n",
    "    'Is in previous RWM?'], inplace=True)\n",
    "RWM_re_merge_2_f_merge2['Is in Previous Month Payout'].replace(np.nan, \"No\", inplace=True)"
   ]
  },
  {
   "cell_type": "code",
   "execution_count": 238,
   "id": "4ced1a72",
   "metadata": {},
   "outputs": [],
   "source": [
    "RWM_re_merge_2_f_merge2['Is in Previous Month Payout Date'].fillna(RWM_re_merge_2_f_merge2[\n",
    "    'Previous_Google_Date'], inplace=True)\n",
    "RWM_re_merge_2_f_merge2['Is in Previous Month Payout Date'].fillna(RWM_re_merge_2_f_merge2[\n",
    "    'Previous_RWM_Date'], inplace=True)"
   ]
  },
  {
   "cell_type": "code",
   "execution_count": null,
   "id": "29956204",
   "metadata": {},
   "outputs": [],
   "source": [
    "RWM_re_merge_2_f_merge2['Is in Previous Month Payout'].replace(\"No\", \"No Match\", inplace=True)\n",
    "RWM_re_merge_2_f_merge2['Is in Previous Month Payout'].replace(\"Yes\", \"Match\", inplace=True)"
   ]
  },
  {
   "cell_type": "code",
   "execution_count": null,
   "id": "73d60b99",
   "metadata": {},
   "outputs": [],
   "source": [
    "RWM_re_merge_2_f_merge2_f = RWM_re_merge_2_f_merge2[['sno', 'Is in Previous Month Payout', \n",
    "'Is in Previous Month Payout Date']].rename(\n",
    "    columns={'Is in Previous Month Payout':'Is in Previous Month Payout_New', \n",
    "             'Is in Previous Month Payout Date':'Is in Previous Month Payout Date_New'})"
   ]
  },
  {
   "cell_type": "code",
   "execution_count": null,
   "id": "a6c65ae1",
   "metadata": {},
   "outputs": [],
   "source": [
    "RWM_re_merge_2_f_merge2_f.drop_duplicates(subset=['sno'], inplace=True)"
   ]
  },
  {
   "cell_type": "code",
   "execution_count": null,
   "id": "0c03dc0d",
   "metadata": {},
   "outputs": [],
   "source": [
    "Google_re_merge4 = Google_re_merge3.merge(RWM_re_merge_2_f_merge2_f, on='sno', how='left')"
   ]
  },
  {
   "cell_type": "code",
   "execution_count": null,
   "id": "6fddcdd5",
   "metadata": {},
   "outputs": [],
   "source": [
    "Google_re_merge4.drop_duplicates(subset=['sno'], inplace=True)"
   ]
  },
  {
   "cell_type": "code",
   "execution_count": null,
   "id": "07e2d4f1",
   "metadata": {},
   "outputs": [],
   "source": [
    "Google_re_merge4['Is in Previous Month Payout'].fillna(Google_re_merge4[\n",
    "    'Is in Previous Month Payout_New'], inplace=True)\n",
    "Google_re_merge4['Is in Previous Month Payout Date'].fillna(Google_re_merge4[\n",
    "    'Is in Previous Month Payout Date_New'], inplace=True)"
   ]
  },
  {
   "cell_type": "code",
   "execution_count": null,
   "id": "a191aca4",
   "metadata": {},
   "outputs": [],
   "source": []
  },
  {
   "cell_type": "markdown",
   "id": "c5617cb5",
   "metadata": {},
   "source": [
    "# OB Date Check"
   ]
  },
  {
   "cell_type": "code",
   "execution_count": null,
   "id": "394ba9ad",
   "metadata": {},
   "outputs": [],
   "source": [
    "RWM_re_merge_3_f = Google_re_merge4[['sno', 'TaskSubmissionTimestamp', 'OB Date']]"
   ]
  },
  {
   "cell_type": "code",
   "execution_count": null,
   "id": "c416415e",
   "metadata": {},
   "outputs": [],
   "source": [
    "RWM_re_merge_3_f.rename(columns={'TaskSubmissionTimestamp':\"Revisit Date\"}, inplace=True)"
   ]
  },
  {
   "cell_type": "code",
   "execution_count": null,
   "id": "07ae96cf",
   "metadata": {},
   "outputs": [],
   "source": [
    "RWM_re_merge_3_f['OB Date Blank'] = RWM_re_merge_3_f['OB Date'].isna()"
   ]
  },
  {
   "cell_type": "code",
   "execution_count": null,
   "id": "dba3c36a",
   "metadata": {},
   "outputs": [],
   "source": [
    "RWM_re_merge_3_f2 = RWM_re_merge_3_f[RWM_re_merge_3_f['OB Date Blank'].isin([False])]"
   ]
  },
  {
   "cell_type": "code",
   "execution_count": null,
   "id": "08e97094",
   "metadata": {},
   "outputs": [],
   "source": [
    "RWM_re_merge_3_f2['OB Date Check_New'] = RWM_re_merge_3_f2['Revisit Date'] == RWM_re_merge_3_f2['OB Date']"
   ]
  },
  {
   "cell_type": "code",
   "execution_count": null,
   "id": "ad9655cb",
   "metadata": {},
   "outputs": [],
   "source": [
    "RWM_re_merge_3_f3 = RWM_re_merge_3_f2[['sno', 'OB Date Check_New']]"
   ]
  },
  {
   "cell_type": "code",
   "execution_count": null,
   "id": "8d44699e",
   "metadata": {},
   "outputs": [],
   "source": [
    "Google_re_merge5 = Google_re_merge4.merge(RWM_re_merge_3_f3, on='sno', how='left')"
   ]
  },
  {
   "cell_type": "code",
   "execution_count": null,
   "id": "ec2fb8d7",
   "metadata": {},
   "outputs": [],
   "source": [
    "Google_re_merge5.drop_duplicates(subset=['sno'], inplace=True)\n",
    "Google_re_merge5['OB Date Check'].fillna(Google_re_merge5['OB Date Check_New'], inplace=True)"
   ]
  },
  {
   "cell_type": "code",
   "execution_count": null,
   "id": "af0d3c9c",
   "metadata": {},
   "outputs": [],
   "source": []
  },
  {
   "cell_type": "markdown",
   "id": "86e27dc1",
   "metadata": {},
   "source": [
    "# Print the Google File"
   ]
  },
  {
   "cell_type": "code",
   "execution_count": null,
   "id": "f1c4c002",
   "metadata": {},
   "outputs": [],
   "source": [
    "Google_re_f = Google_re_merge5[['City', 'Team View City','Merchant ID' ,'StorePhoneNumber',\n",
    "'IF R is Blank then RWM App Code','POD ID','MerchantExternalId', 'Validity', 'InvalidReasons', \n",
    "'TaskSubmissionTimestamp', 'Is in RWM', 'Is in Source File?','Payout Status','Payout Invalid Reason',\n",
    "'OB Date Check','Task Count', 'CompletedSubTaskTypes', 'Segments', 'Dynamic Ingestion Date', \n",
    "'Dynamic IngestionStatus', 'Revisit Expire Date', 'Is in Dynamic Source Visit Date Valid?','Outcome Status', \n",
    "'Is in Previous Month Payout', \"Is in Previous Month Payout Date\",'Source MID', 'Source MID Match Check',\n",
    "'Ext_ID Dup?', 'Phone_Dup?', 'Is in OB CSV file? MID', 'Is in OB CSV file? MN', 'OB Date','Data Tag', 'Final Payout']].rename(\n",
    "    columns={'Team View City':'TV City', \n",
    "\"IF R is Blank then RWM App Code\":'Employee Code', 'TaskSubmissionTimestamp':'Date', \n",
    "'Dynamic Ingestion Date':'Ingestion Date', 'Dynamic IngestionStatus':'IngestionStatus'})"
   ]
  },
  {
   "cell_type": "code",
   "execution_count": null,
   "id": "ef8f43cf",
   "metadata": {},
   "outputs": [],
   "source": [
    "Google_re_f_1 = Google_re_f[Google_re_f[\"Date\"].isin(Date)]"
   ]
  },
  {
   "cell_type": "code",
   "execution_count": null,
   "id": "2c794c04",
   "metadata": {},
   "outputs": [],
   "source": [
    "Google_re_f_2 = Google_re_f[~Google_re_f[\"Date\"].isin(Date)]"
   ]
  },
  {
   "cell_type": "code",
   "execution_count": null,
   "id": "60c214f3",
   "metadata": {},
   "outputs": [],
   "source": [
    "Google_re_f_1.to_csv(output_loc+\"Google_Revisit_1_to_16_Oct_2022.csv\", index=False)\n",
    "Google_re_f_2.to_csv(output_loc+\"Google_Revisit_17_to_30_Oct_2022.csv\", index=False)\n",
    "Google_re_f[Google_re_f[\"Date\"].isin(current_date)].to_csv(output_loc+\"Current_Google.csv\", index=False)\n",
    "Google_re_f.to_clipboard(output_loc+\"Monthly_Google_Revisit_consolidation.csv\", index=False)"
   ]
  },
  {
   "cell_type": "markdown",
   "id": "7b5c5a98",
   "metadata": {},
   "source": [
    "# File for the Self-OB Match"
   ]
  },
  {
   "cell_type": "code",
   "execution_count": null,
   "id": "53a63b5c",
   "metadata": {},
   "outputs": [],
   "source": [
    "output_loc_self_ob = \"/home/dhrubakumardolai/Desktop/Python Test/Rahul/Payout/Result/Self-OB/\""
   ]
  },
  {
   "cell_type": "code",
   "execution_count": null,
   "id": "a06849c7",
   "metadata": {},
   "outputs": [],
   "source": [
    "Google_re_f2 = Google_re_f[['StorePhoneNumber', 'MerchantExternalId', 'Date', 'Validity', 'InvalidReasons', \n",
    "                            'Task Count', 'Is in Source File?']]"
   ]
  },
  {
   "cell_type": "code",
   "execution_count": null,
   "id": "81981951",
   "metadata": {},
   "outputs": [],
   "source": [
    "Google_re_mn = Google_re_f2[Google_re_f2['Is in Source File?'].isin(['MN Match'])]"
   ]
  },
  {
   "cell_type": "code",
   "execution_count": null,
   "id": "58350af3",
   "metadata": {},
   "outputs": [],
   "source": [
    "Google_re_mn[Google_re_mn[\n",
    "    'Date'].isin(current_date)].to_csv(output_loc_self_ob+\"google_target_file.csv\", index=False)"
   ]
  },
  {
   "cell_type": "code",
   "execution_count": null,
   "id": "c58995b5",
   "metadata": {},
   "outputs": [],
   "source": [
    "RWM_re_f2 = RWM_re_f[['StorePhoneNumber', 'MerchantExternalId', 'Date', 'Validity', 'InvalidReasons', \n",
    "                    'Task Count', 'Is In Source?']]"
   ]
  },
  {
   "cell_type": "code",
   "execution_count": null,
   "id": "f057dd9b",
   "metadata": {},
   "outputs": [],
   "source": [
    "RWM_re_mn = RWM_re_f2[RWM_re_f2['Is In Source?'].isin(['MN Match'])]"
   ]
  },
  {
   "cell_type": "code",
   "execution_count": null,
   "id": "ee92437c",
   "metadata": {},
   "outputs": [],
   "source": [
    "RWM_re_mn[RWM_re_mn['Date'].isin(current_date)].to_csv(output_loc_self_ob+\"rwm_target_file.csv\", index=False)"
   ]
  },
  {
   "cell_type": "markdown",
   "id": "af1f6f02",
   "metadata": {},
   "source": [
    "# Target file for revisit check"
   ]
  },
  {
   "cell_type": "code",
   "execution_count": null,
   "id": "ded417b8",
   "metadata": {},
   "outputs": [],
   "source": []
  },
  {
   "cell_type": "code",
   "execution_count": null,
   "id": "732be6fb",
   "metadata": {},
   "outputs": [],
   "source": []
  },
  {
   "cell_type": "code",
   "execution_count": null,
   "id": "acca1ff1",
   "metadata": {},
   "outputs": [],
   "source": []
  },
  {
   "cell_type": "code",
   "execution_count": null,
   "id": "5d87471b",
   "metadata": {},
   "outputs": [],
   "source": []
  }
 ],
 "metadata": {
  "kernelspec": {
   "display_name": "Python 3.10.6 64-bit",
   "language": "python",
   "name": "python3"
  },
  "language_info": {
   "codemirror_mode": {
    "name": "ipython",
    "version": 3
   },
   "file_extension": ".py",
   "mimetype": "text/x-python",
   "name": "python",
   "nbconvert_exporter": "python",
   "pygments_lexer": "ipython3",
   "version": "3.10.6"
  },
  "vscode": {
   "interpreter": {
    "hash": "916dbcbb3f70747c44a77c7bcd40155683ae19c65e1c03b4aa3499c5328201f1"
   }
  }
 },
 "nbformat": 4,
 "nbformat_minor": 5
}
