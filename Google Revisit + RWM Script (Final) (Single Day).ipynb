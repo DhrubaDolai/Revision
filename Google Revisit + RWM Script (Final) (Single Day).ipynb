{
 "cells": [
  {
   "cell_type": "code",
   "execution_count": 1,
   "id": "f861f6d5",
   "metadata": {},
   "outputs": [],
   "source": [
    "import pandas as pd"
   ]
  },
  {
   "cell_type": "code",
   "execution_count": 2,
   "id": "60f12a28",
   "metadata": {},
   "outputs": [],
   "source": [
    "import numpy as np"
   ]
  },
  {
   "cell_type": "code",
   "execution_count": 3,
   "id": "c9d1a874",
   "metadata": {},
   "outputs": [],
   "source": [
    "import xlsxwriter as xw"
   ]
  },
  {
   "cell_type": "code",
   "execution_count": 4,
   "id": "18a0c7f3",
   "metadata": {},
   "outputs": [],
   "source": [
    "import re\n",
    "import warnings\n",
    "warnings.filterwarnings('ignore')"
   ]
  },
  {
   "cell_type": "code",
   "execution_count": 5,
   "id": "42a545fa",
   "metadata": {},
   "outputs": [],
   "source": [
    "import openpyxl as op\n",
    "from openpyxl import Workbook, load_workbook\n",
    "from openpyxl.styles import PatternFill, Border, Side, Alignment, Protection, Font\n",
    "import os\n",
    "import glob"
   ]
  },
  {
   "cell_type": "markdown",
   "id": "34d6a06c",
   "metadata": {},
   "source": [
    "# File loaction"
   ]
  },
  {
   "cell_type": "code",
   "execution_count": 6,
   "id": "efa9d13c",
   "metadata": {},
   "outputs": [],
   "source": [
    "input_loc_source = '/home/dhrubakumardolai/Desktop/Python Test/Target/Mini/'\n",
    "input_loc = '/home/dhrubakumardolai/Desktop/Python Test/Target/Revisit File/'\n",
    "output_loc = '/home/dhrubakumardolai/Desktop/Python Test/Result/Revisit File/'"
   ]
  },
  {
   "cell_type": "markdown",
   "id": "931110a7",
   "metadata": {},
   "source": [
    "# Extract the data from the excel file and rearrange it"
   ]
  },
  {
   "cell_type": "code",
   "execution_count": 7,
   "id": "86474a3f",
   "metadata": {},
   "outputs": [],
   "source": [
    "Google_Revisit = pd.read_csv(\n",
    "    '/home/dhrubakumardolai/Desktop/Python Test/Revisit File/Google Revisit/2022/2022/11/10/visits/data-00000-of-00001.csv')\n",
    "RWM_Revisit_1 = pd.read_excel(\n",
    "    '/home/dhrubakumardolai/Desktop/Python Test/Revisit File/Revisit Merchant Master Records/2022/11/10/10-Nov-2022.xlsx')"
   ]
  },
  {
   "cell_type": "code",
   "execution_count": 8,
   "id": "6942d911",
   "metadata": {},
   "outputs": [],
   "source": [
    "#Consolidated\n",
    "#Google_Revisit = pd.read_csv(input_loc_source+'Consolidated/13 to 20-Oct-2022 Google Revisit - Data.csv')\n",
    "#RWM_Revisit_1 = pd.read_csv(input_loc_source+'Consolidated/13 to 20-Oct-2022 RWM Revisit Done - Data.csv')"
   ]
  },
  {
   "cell_type": "markdown",
   "id": "5b552571",
   "metadata": {},
   "source": [
    "# Extracting the data from the Google OB"
   ]
  },
  {
   "cell_type": "code",
   "execution_count": 9,
   "id": "2b28c428",
   "metadata": {},
   "outputs": [],
   "source": [
    "Google_OB = pd.read_csv(\n",
    "    '/home/dhrubakumardolai/Desktop/Python Test/Revisit File/Google Revisit/2022/2022/11/10/onboardings/data.csv')"
   ]
  },
  {
   "cell_type": "code",
   "execution_count": 10,
   "id": "9f22ff30",
   "metadata": {},
   "outputs": [],
   "source": [
    "#Google_OB = pd.read_csv(input_loc_source+'Consolidated/13 to 20-Oct-2022 Google OB - Data.csv')"
   ]
  },
  {
   "cell_type": "markdown",
   "id": "a1384807",
   "metadata": {},
   "source": [
    "# Extracting the data from the Previous"
   ]
  },
  {
   "cell_type": "code",
   "execution_count": 11,
   "id": "28fbd86c",
   "metadata": {},
   "outputs": [],
   "source": [
    "Previous_google_revisit = pd.read_excel(input_loc_source+'Previous Valid.xlsx')"
   ]
  },
  {
   "cell_type": "code",
   "execution_count": 12,
   "id": "43480721",
   "metadata": {},
   "outputs": [],
   "source": [
    "# Source Skip Start"
   ]
  },
  {
   "cell_type": "markdown",
   "id": "b4401c70",
   "metadata": {},
   "source": [
    "# Extract the data from the Team View BI Overall"
   ]
  },
  {
   "cell_type": "code",
   "execution_count": 13,
   "id": "a80d6cec",
   "metadata": {},
   "outputs": [],
   "source": [
    "team_view_bi_overall = pd.read_csv(input_loc_source+\"Team View BI Overall - Team View BI Overall.csv\")"
   ]
  },
  {
   "cell_type": "code",
   "execution_count": 14,
   "id": "71543348",
   "metadata": {},
   "outputs": [
    {
     "data": {
      "text/html": [
       "<div>\n",
       "<style scoped>\n",
       "    .dataframe tbody tr th:only-of-type {\n",
       "        vertical-align: middle;\n",
       "    }\n",
       "\n",
       "    .dataframe tbody tr th {\n",
       "        vertical-align: top;\n",
       "    }\n",
       "\n",
       "    .dataframe thead th {\n",
       "        text-align: right;\n",
       "    }\n",
       "</style>\n",
       "<table border=\"1\" class=\"dataframe\">\n",
       "  <thead>\n",
       "    <tr style=\"text-align: right;\">\n",
       "      <th></th>\n",
       "      <th>DOJ</th>\n",
       "      <th>Aadhar Number</th>\n",
       "      <th>Staffing Partner</th>\n",
       "      <th>Current Partner Name</th>\n",
       "      <th>EMP_Name</th>\n",
       "      <th>EMP_Code</th>\n",
       "      <th>Mobile_Number</th>\n",
       "      <th>City</th>\n",
       "      <th>RoleName</th>\n",
       "      <th>Pan_No</th>\n",
       "      <th>...</th>\n",
       "      <th>Created_By</th>\n",
       "      <th>Created_Date</th>\n",
       "      <th>LDAP</th>\n",
       "      <th>ReferredBy</th>\n",
       "      <th>FirstOnboardingDate</th>\n",
       "      <th>FirstRevisitDate</th>\n",
       "      <th>LastOnboardingDate</th>\n",
       "      <th>LastRevisitDate</th>\n",
       "      <th>Last_Working_Date</th>\n",
       "      <th>QRCode</th>\n",
       "    </tr>\n",
       "  </thead>\n",
       "  <tbody>\n",
       "    <tr>\n",
       "      <th>0</th>\n",
       "      <td>5-Feb-2021</td>\n",
       "      <td>201401299523</td>\n",
       "      <td>AccuraFind</td>\n",
       "      <td>AccuraFind</td>\n",
       "      <td>PRAKASH</td>\n",
       "      <td>33803</td>\n",
       "      <td>8800166939</td>\n",
       "      <td>Gmap Gurgaon</td>\n",
       "      <td>FSE</td>\n",
       "      <td>EQLPP5850A</td>\n",
       "      <td>...</td>\n",
       "      <td>Pankaj.Kumar</td>\n",
       "      <td>2021-02-05</td>\n",
       "      <td>NaN</td>\n",
       "      <td>NaN</td>\n",
       "      <td>NaN</td>\n",
       "      <td>NaN</td>\n",
       "      <td>NaN</td>\n",
       "      <td>NaN</td>\n",
       "      <td>05-Feb-21</td>\n",
       "      <td>NaN</td>\n",
       "    </tr>\n",
       "  </tbody>\n",
       "</table>\n",
       "<p>1 rows × 46 columns</p>\n",
       "</div>"
      ],
      "text/plain": [
       "          DOJ Aadhar Number Staffing Partner  Current Partner Name EMP_Name  \\\n",
       "0  5-Feb-2021  201401299523        AccuraFind           AccuraFind  PRAKASH   \n",
       "\n",
       "   EMP_Code  Mobile_Number          City RoleName      Pan_No  ...  \\\n",
       "0     33803     8800166939  Gmap Gurgaon      FSE  EQLPP5850A  ...   \n",
       "\n",
       "     Created_By Created_Date LDAP  ReferredBy FirstOnboardingDate  \\\n",
       "0  Pankaj.Kumar   2021-02-05  NaN         NaN                 NaN   \n",
       "\n",
       "   FirstRevisitDate LastOnboardingDate  LastRevisitDate Last_Working_Date  \\\n",
       "0               NaN                NaN              NaN         05-Feb-21   \n",
       "\n",
       "   QRCode  \n",
       "0     NaN  \n",
       "\n",
       "[1 rows x 46 columns]"
      ]
     },
     "execution_count": 14,
     "metadata": {},
     "output_type": "execute_result"
    }
   ],
   "source": [
    "team_view_bi_overall.head(1)"
   ]
  },
  {
   "cell_type": "code",
   "execution_count": 15,
   "id": "46b5ed6d",
   "metadata": {},
   "outputs": [],
   "source": [
    "latest_team_view_bi = pd.read_csv(input_loc_source+'Latest Team View File/Team View_09.09.2022_12.02.csv')"
   ]
  },
  {
   "cell_type": "code",
   "execution_count": 16,
   "id": "b2335bbb",
   "metadata": {},
   "outputs": [
    {
     "data": {
      "text/html": [
       "<div>\n",
       "<style scoped>\n",
       "    .dataframe tbody tr th:only-of-type {\n",
       "        vertical-align: middle;\n",
       "    }\n",
       "\n",
       "    .dataframe tbody tr th {\n",
       "        vertical-align: top;\n",
       "    }\n",
       "\n",
       "    .dataframe thead th {\n",
       "        text-align: right;\n",
       "    }\n",
       "</style>\n",
       "<table border=\"1\" class=\"dataframe\">\n",
       "  <thead>\n",
       "    <tr style=\"text-align: right;\">\n",
       "      <th></th>\n",
       "      <th>Sr. No.</th>\n",
       "      <th>Employee Name</th>\n",
       "      <th>Employee Code</th>\n",
       "      <th>Mobile Number</th>\n",
       "      <th>City</th>\n",
       "      <th>Role</th>\n",
       "      <th>Employee Level</th>\n",
       "      <th>POD Lead</th>\n",
       "      <th>POD Code</th>\n",
       "      <th>Team Lead</th>\n",
       "      <th>...</th>\n",
       "      <th>Reporting Person</th>\n",
       "      <th>LDAP</th>\n",
       "      <th>Referred By</th>\n",
       "      <th>First Onboarding</th>\n",
       "      <th>Last Onboarding</th>\n",
       "      <th>First Revisit</th>\n",
       "      <th>Last Revisit</th>\n",
       "      <th>Last Working Date</th>\n",
       "      <th>QR Code</th>\n",
       "      <th>HiredFor</th>\n",
       "    </tr>\n",
       "  </thead>\n",
       "  <tbody>\n",
       "    <tr>\n",
       "      <th>0</th>\n",
       "      <td>1</td>\n",
       "      <td>RAMEEZ</td>\n",
       "      <td>81924</td>\n",
       "      <td>7306166185</td>\n",
       "      <td>Kollam</td>\n",
       "      <td>FSE</td>\n",
       "      <td>0</td>\n",
       "      <td></td>\n",
       "      <td>NaN</td>\n",
       "      <td></td>\n",
       "      <td>...</td>\n",
       "      <td></td>\n",
       "      <td>NaN</td>\n",
       "      <td>0</td>\n",
       "      <td>NaN</td>\n",
       "      <td>NaN</td>\n",
       "      <td>NaN</td>\n",
       "      <td>NaN</td>\n",
       "      <td>NaN</td>\n",
       "      <td>NaN</td>\n",
       "      <td>ALL</td>\n",
       "    </tr>\n",
       "  </tbody>\n",
       "</table>\n",
       "<p>1 rows × 48 columns</p>\n",
       "</div>"
      ],
      "text/plain": [
       "   Sr. No. Employee Name  Employee Code  Mobile Number    City  Role  \\\n",
       "0        1       RAMEEZ           81924     7306166185  Kollam   FSE   \n",
       "\n",
       "   Employee Level POD Lead  POD Code Team Lead  ... Reporting Person LDAP  \\\n",
       "0               0                NaN            ...                   NaN   \n",
       "\n",
       "  Referred By First Onboarding Last Onboarding First Revisit Last Revisit  \\\n",
       "0           0              NaN             NaN           NaN          NaN   \n",
       "\n",
       "  Last Working Date QR Code HiredFor  \n",
       "0               NaN     NaN      ALL  \n",
       "\n",
       "[1 rows x 48 columns]"
      ]
     },
     "execution_count": 16,
     "metadata": {},
     "output_type": "execute_result"
    }
   ],
   "source": [
    "latest_team_view_bi.head(1)"
   ]
  },
  {
   "cell_type": "markdown",
   "id": "f1476be1",
   "metadata": {},
   "source": [
    "# Extract the data from the Revisit.xlsx for Pivot table"
   ]
  },
  {
   "cell_type": "code",
   "execution_count": 17,
   "id": "bf87bd22",
   "metadata": {},
   "outputs": [],
   "source": [
    "Pivot_table = pd.read_csv(input_loc_source+\"10th Sep'22 Revisit - Pivot Table 1.csv\")"
   ]
  },
  {
   "cell_type": "markdown",
   "id": "cc64ae25",
   "metadata": {},
   "source": [
    "# Extracting Data from sources"
   ]
  },
  {
   "cell_type": "markdown",
   "id": "8758ae1b",
   "metadata": {},
   "source": [
    "# Dynamic Source Aug'22"
   ]
  },
  {
   "cell_type": "code",
   "execution_count": 18,
   "id": "ee8af706",
   "metadata": {},
   "outputs": [],
   "source": [
    "Dynamic_source_aug = pd.read_csv(input_loc_source+\"Dynamic_for_matching.csv\")"
   ]
  },
  {
   "cell_type": "code",
   "execution_count": 19,
   "id": "a5271021",
   "metadata": {},
   "outputs": [
    {
     "data": {
      "text/html": [
       "<div>\n",
       "<style scoped>\n",
       "    .dataframe tbody tr th:only-of-type {\n",
       "        vertical-align: middle;\n",
       "    }\n",
       "\n",
       "    .dataframe tbody tr th {\n",
       "        vertical-align: top;\n",
       "    }\n",
       "\n",
       "    .dataframe thead th {\n",
       "        text-align: right;\n",
       "    }\n",
       "</style>\n",
       "<table border=\"1\" class=\"dataframe\">\n",
       "  <thead>\n",
       "    <tr style=\"text-align: right;\">\n",
       "      <th></th>\n",
       "      <th>MerchantId</th>\n",
       "      <th>Objectives</th>\n",
       "      <th>IngestionStatus</th>\n",
       "      <th>Report Date</th>\n",
       "      <th>RWM Remarks</th>\n",
       "      <th>Ingestion Date</th>\n",
       "      <th>Revisit Expire Date</th>\n",
       "      <th>s no</th>\n",
       "    </tr>\n",
       "  </thead>\n",
       "  <tbody>\n",
       "    <tr>\n",
       "      <th>0</th>\n",
       "      <td>BCR2DN4TSCO3DNDR</td>\n",
       "      <td>checkin-nob</td>\n",
       "      <td>ADD</td>\n",
       "      <td>5-Aug-2022</td>\n",
       "      <td>Success</td>\n",
       "      <td>5-Aug-2022</td>\n",
       "      <td>NaN</td>\n",
       "      <td>1</td>\n",
       "    </tr>\n",
       "  </tbody>\n",
       "</table>\n",
       "</div>"
      ],
      "text/plain": [
       "         MerchantId   Objectives IngestionStatus Report Date RWM Remarks  \\\n",
       "0  BCR2DN4TSCO3DNDR  checkin-nob             ADD  5-Aug-2022     Success   \n",
       "\n",
       "  Ingestion Date Revisit Expire Date  s no  \n",
       "0     5-Aug-2022                 NaN     1  "
      ]
     },
     "execution_count": 19,
     "metadata": {},
     "output_type": "execute_result"
    }
   ],
   "source": [
    "Dynamic_source_aug.head(1)"
   ]
  },
  {
   "cell_type": "code",
   "execution_count": 20,
   "id": "81222dc6",
   "metadata": {},
   "outputs": [
    {
     "data": {
      "text/plain": [
       "array(['5-Aug-2022', '12-Aug-2022', '19-Aug-2022', '26-Aug-2022',\n",
       "       '2-Sep-2022', '9-Sep-2022', '16-Sep-2022', '23-Sep-2022',\n",
       "       '28-Sep-2022', '30-Sep-2022', '6-Oct-2022', '7-Oct-2022',\n",
       "       '14-Oct-2022', '21-Oct-2022', '28-Oct-2022', '4-Nov-2022'],\n",
       "      dtype=object)"
      ]
     },
     "execution_count": 20,
     "metadata": {},
     "output_type": "execute_result"
    }
   ],
   "source": [
    "Dynamic_source_aug['Report Date'].unique()"
   ]
  },
  {
   "cell_type": "code",
   "execution_count": 21,
   "id": "519459da",
   "metadata": {},
   "outputs": [],
   "source": [
    "Dynamic_source_aug_f = Dynamic_source_aug[Dynamic_source_aug['RWM Remarks'].isin(['Success'])]"
   ]
  },
  {
   "cell_type": "code",
   "execution_count": 22,
   "id": "efb06aca",
   "metadata": {},
   "outputs": [],
   "source": [
    "Dynamic_source_aug = Dynamic_source_aug_f"
   ]
  },
  {
   "cell_type": "markdown",
   "id": "f97a494e",
   "metadata": {},
   "source": [
    "# Extract Source file from Q1 2022"
   ]
  },
  {
   "cell_type": "code",
   "execution_count": 23,
   "id": "02217def",
   "metadata": {},
   "outputs": [],
   "source": [
    "Source_data_Q1_2022_segment1 = pd.read_csv(input_loc_source+\"Segment1.csv\")"
   ]
  },
  {
   "cell_type": "code",
   "execution_count": 24,
   "id": "2bf00d48",
   "metadata": {},
   "outputs": [],
   "source": [
    "Source_data_Q1_2022_segment2 = pd.read_csv(input_loc_source+\"Segment2.csv\")"
   ]
  },
  {
   "cell_type": "code",
   "execution_count": 554,
   "id": "d6dd6faa",
   "metadata": {},
   "outputs": [
    {
     "data": {
      "text/plain": [
       "(118345, 14)"
      ]
     },
     "execution_count": 554,
     "metadata": {},
     "output_type": "execute_result"
    }
   ],
   "source": [
    "Source_data_Q1_2022_segment2.shape"
   ]
  },
  {
   "cell_type": "code",
   "execution_count": 25,
   "id": "052e8720",
   "metadata": {},
   "outputs": [],
   "source": [
    "Source_data_Q1_2022 = Source_data_Q1_2022_segment1.append(Source_data_Q1_2022_segment2)"
   ]
  },
  {
   "cell_type": "code",
   "execution_count": 26,
   "id": "a9df2dc0",
   "metadata": {},
   "outputs": [
    {
     "data": {
      "text/plain": [
       "2876280"
      ]
     },
     "execution_count": 26,
     "metadata": {},
     "output_type": "execute_result"
    }
   ],
   "source": [
    "len(Source_data_Q1_2022)"
   ]
  },
  {
   "cell_type": "code",
   "execution_count": 27,
   "id": "a6fe93d9",
   "metadata": {},
   "outputs": [
    {
     "data": {
      "text/html": [
       "<div>\n",
       "<style scoped>\n",
       "    .dataframe tbody tr th:only-of-type {\n",
       "        vertical-align: middle;\n",
       "    }\n",
       "\n",
       "    .dataframe tbody tr th {\n",
       "        vertical-align: top;\n",
       "    }\n",
       "\n",
       "    .dataframe thead th {\n",
       "        text-align: right;\n",
       "    }\n",
       "</style>\n",
       "<table border=\"1\" class=\"dataframe\">\n",
       "  <thead>\n",
       "    <tr style=\"text-align: right;\">\n",
       "      <th></th>\n",
       "      <th>Name</th>\n",
       "      <th>Phone Number</th>\n",
       "      <th>Address</th>\n",
       "      <th>Pincode</th>\n",
       "      <th>Latitude</th>\n",
       "      <th>Longitude</th>\n",
       "      <th>District</th>\n",
       "      <th>Polygon Name</th>\n",
       "      <th>Created By ID</th>\n",
       "      <th>Merchant Ext.ID</th>\n",
       "      <th>Last Transaction date</th>\n",
       "      <th>Gpay OB E-mail</th>\n",
       "      <th>segments</th>\n",
       "      <th>_merge</th>\n",
       "    </tr>\n",
       "  </thead>\n",
       "  <tbody>\n",
       "    <tr>\n",
       "      <th>0</th>\n",
       "      <td>Nilkanth Enterprises</td>\n",
       "      <td>7.579170e+09</td>\n",
       "      <td>Bareilly Road ,Motahaldu</td>\n",
       "      <td>263139.0</td>\n",
       "      <td>29.145969</td>\n",
       "      <td>79.522095</td>\n",
       "      <td>Nainital</td>\n",
       "      <td>244715</td>\n",
       "      <td>58515.0</td>\n",
       "      <td>BCR2DN6T57H7THC2</td>\n",
       "      <td>28-12-2021</td>\n",
       "      <td>sjoshi375@gmail.com</td>\n",
       "      <td>active</td>\n",
       "      <td>both</td>\n",
       "    </tr>\n",
       "  </tbody>\n",
       "</table>\n",
       "</div>"
      ],
      "text/plain": [
       "                   Name  Phone Number                    Address   Pincode  \\\n",
       "0  Nilkanth Enterprises  7.579170e+09  Bareilly Road ,Motahaldu   263139.0   \n",
       "\n",
       "    Latitude  Longitude  District Polygon Name  Created By ID  \\\n",
       "0  29.145969  79.522095  Nainital       244715        58515.0   \n",
       "\n",
       "    Merchant Ext.ID Last Transaction date       Gpay OB E-mail segments _merge  \n",
       "0  BCR2DN6T57H7THC2            28-12-2021  sjoshi375@gmail.com   active   both  "
      ]
     },
     "execution_count": 27,
     "metadata": {},
     "output_type": "execute_result"
    }
   ],
   "source": [
    "Source_data_Q1_2022.head(1)"
   ]
  },
  {
   "cell_type": "markdown",
   "id": "dbfc4dc5",
   "metadata": {},
   "source": [
    "# Extracting Source file from Q2 2022"
   ]
  },
  {
   "cell_type": "code",
   "execution_count": 28,
   "id": "84190448",
   "metadata": {},
   "outputs": [],
   "source": [
    "Source_data_Q2_2022_cs = pd.read_csv(input_loc_source+\"Correct_Segment.csv\", index_col = 'Unnamed: 0')"
   ]
  },
  {
   "cell_type": "code",
   "execution_count": 29,
   "id": "37669025",
   "metadata": {},
   "outputs": [],
   "source": [
    "Source_data_Q2_2022_cs.rename(columns={'Merchant_External_ID':'Merchant Ext ID'}, inplace=True)"
   ]
  },
  {
   "cell_type": "code",
   "execution_count": 30,
   "id": "c6e848e9",
   "metadata": {},
   "outputs": [],
   "source": [
    "Source_data_Q2_2022 = Source_data_Q2_2022_cs"
   ]
  },
  {
   "cell_type": "code",
   "execution_count": 31,
   "id": "ec1924af",
   "metadata": {},
   "outputs": [
    {
     "data": {
      "text/plain": [
       "1719422"
      ]
     },
     "execution_count": 31,
     "metadata": {},
     "output_type": "execute_result"
    }
   ],
   "source": [
    "len(Source_data_Q2_2022)"
   ]
  },
  {
   "cell_type": "code",
   "execution_count": 32,
   "id": "dd29e439",
   "metadata": {},
   "outputs": [
    {
     "data": {
      "text/plain": [
       "1719422"
      ]
     },
     "execution_count": 32,
     "metadata": {},
     "output_type": "execute_result"
    }
   ],
   "source": [
    "len(Source_data_Q2_2022_cs)"
   ]
  },
  {
   "cell_type": "code",
   "execution_count": 33,
   "id": "dd5da942",
   "metadata": {},
   "outputs": [
    {
     "data": {
      "text/html": [
       "<div>\n",
       "<style scoped>\n",
       "    .dataframe tbody tr th:only-of-type {\n",
       "        vertical-align: middle;\n",
       "    }\n",
       "\n",
       "    .dataframe tbody tr th {\n",
       "        vertical-align: top;\n",
       "    }\n",
       "\n",
       "    .dataframe thead th {\n",
       "        text-align: right;\n",
       "    }\n",
       "</style>\n",
       "<table border=\"1\" class=\"dataframe\">\n",
       "  <thead>\n",
       "    <tr style=\"text-align: right;\">\n",
       "      <th></th>\n",
       "      <th>Merchant Ext ID</th>\n",
       "      <th>Phone Number</th>\n",
       "      <th>segments</th>\n",
       "    </tr>\n",
       "  </thead>\n",
       "  <tbody>\n",
       "    <tr>\n",
       "      <th>0</th>\n",
       "      <td>BCR2DN4T3C22BC37</td>\n",
       "      <td>9930944765</td>\n",
       "      <td>active</td>\n",
       "    </tr>\n",
       "  </tbody>\n",
       "</table>\n",
       "</div>"
      ],
      "text/plain": [
       "    Merchant Ext ID Phone Number segments\n",
       "0  BCR2DN4T3C22BC37   9930944765   active"
      ]
     },
     "execution_count": 33,
     "metadata": {},
     "output_type": "execute_result"
    }
   ],
   "source": [
    "Source_data_Q2_2022_cs.head(1)"
   ]
  },
  {
   "cell_type": "code",
   "execution_count": 34,
   "id": "499a8f36",
   "metadata": {},
   "outputs": [],
   "source": [
    "Source_data_Q2_2022_cs_mid = Source_data_Q2_2022_cs[['Merchant Ext ID', 'segments']].rename(\n",
    "    columns={'segments':'segments_mid'})\n",
    "Source_data_Q2_2022_cs_mn = Source_data_Q2_2022_cs[['Phone Number', 'segments']].rename(\n",
    "    columns={'segments':'segments_mn'})"
   ]
  },
  {
   "cell_type": "code",
   "execution_count": 35,
   "id": "f8fd26eb",
   "metadata": {},
   "outputs": [],
   "source": [
    "Source_data_Q2_2022_merge_mid = Source_data_Q2_2022.merge(Source_data_Q2_2022_cs_mid, how='left', on='Merchant Ext ID')"
   ]
  },
  {
   "cell_type": "code",
   "execution_count": 36,
   "id": "35c7e882",
   "metadata": {},
   "outputs": [],
   "source": [
    "Source_data_Q2_2022_merge_mid.drop_duplicates(subset=['Merchant Ext ID'], inplace=True)"
   ]
  },
  {
   "cell_type": "code",
   "execution_count": 37,
   "id": "f2aeba44",
   "metadata": {},
   "outputs": [],
   "source": [
    "Source_data_Q2_2022_merge_mid_mn = Source_data_Q2_2022_merge_mid.merge(Source_data_Q2_2022_cs_mn, how='left', on='Phone Number')"
   ]
  },
  {
   "cell_type": "code",
   "execution_count": 38,
   "id": "1bddf847",
   "metadata": {},
   "outputs": [],
   "source": [
    "Source_data_Q2_2022_merge_mid_mn.drop_duplicates(subset=['Merchant Ext ID'], inplace=True)"
   ]
  },
  {
   "cell_type": "code",
   "execution_count": 39,
   "id": "15559b38",
   "metadata": {},
   "outputs": [],
   "source": [
    "Source_data_Q2_2022_merge_mid_mn['segments'] = np.nan\n",
    "Source_data_Q2_2022_merge_mid_mn['segments'].fillna(Source_data_Q2_2022_merge_mid_mn['segments_mn'], inplace=True)\n",
    "Source_data_Q2_2022_merge_mid_mn['segments'].fillna(Source_data_Q2_2022_merge_mid_mn['segments_mid'], inplace=True)"
   ]
  },
  {
   "cell_type": "code",
   "execution_count": 40,
   "id": "86ffa361",
   "metadata": {},
   "outputs": [
    {
     "data": {
      "text/html": [
       "<div>\n",
       "<style scoped>\n",
       "    .dataframe tbody tr th:only-of-type {\n",
       "        vertical-align: middle;\n",
       "    }\n",
       "\n",
       "    .dataframe tbody tr th {\n",
       "        vertical-align: top;\n",
       "    }\n",
       "\n",
       "    .dataframe thead th {\n",
       "        text-align: right;\n",
       "    }\n",
       "</style>\n",
       "<table border=\"1\" class=\"dataframe\">\n",
       "  <thead>\n",
       "    <tr style=\"text-align: right;\">\n",
       "      <th></th>\n",
       "      <th>Merchant Ext ID</th>\n",
       "      <th>Phone Number</th>\n",
       "      <th>segments</th>\n",
       "      <th>segments_mid</th>\n",
       "      <th>segments_mn</th>\n",
       "    </tr>\n",
       "  </thead>\n",
       "  <tbody>\n",
       "    <tr>\n",
       "      <th>0</th>\n",
       "      <td>BCR2DN4T3C22BC37</td>\n",
       "      <td>9930944765</td>\n",
       "      <td>active</td>\n",
       "      <td>active</td>\n",
       "      <td>active</td>\n",
       "    </tr>\n",
       "    <tr>\n",
       "      <th>1</th>\n",
       "      <td>BCR2DN4T3C22FA2F</td>\n",
       "      <td>9730823332</td>\n",
       "      <td>active</td>\n",
       "      <td>active</td>\n",
       "      <td>active</td>\n",
       "    </tr>\n",
       "    <tr>\n",
       "      <th>2</th>\n",
       "      <td>BCR2DN4T3C23DC22</td>\n",
       "      <td>9157945503</td>\n",
       "      <td>active</td>\n",
       "      <td>active</td>\n",
       "      <td>active</td>\n",
       "    </tr>\n",
       "    <tr>\n",
       "      <th>3</th>\n",
       "      <td>BCR2DN4T3C24V5DZ</td>\n",
       "      <td>7058377741</td>\n",
       "      <td>active</td>\n",
       "      <td>active</td>\n",
       "      <td>active</td>\n",
       "    </tr>\n",
       "    <tr>\n",
       "      <th>4</th>\n",
       "      <td>BCR2DN4T3C25LUKN</td>\n",
       "      <td>8156063403</td>\n",
       "      <td>active</td>\n",
       "      <td>active</td>\n",
       "      <td>active</td>\n",
       "    </tr>\n",
       "    <tr>\n",
       "      <th>...</th>\n",
       "      <td>...</td>\n",
       "      <td>...</td>\n",
       "      <td>...</td>\n",
       "      <td>...</td>\n",
       "      <td>...</td>\n",
       "    </tr>\n",
       "    <tr>\n",
       "      <th>1723243</th>\n",
       "      <td>BCR2DN6TW7PO7UJ3</td>\n",
       "      <td>7069858582.0</td>\n",
       "      <td>active|P0</td>\n",
       "      <td>active|P0</td>\n",
       "      <td>active|P0</td>\n",
       "    </tr>\n",
       "    <tr>\n",
       "      <th>1723244</th>\n",
       "      <td>BCR2DN6T4XFITIS7</td>\n",
       "      <td>7383045687.0</td>\n",
       "      <td>active|P0</td>\n",
       "      <td>active|P0</td>\n",
       "      <td>active|P0</td>\n",
       "    </tr>\n",
       "    <tr>\n",
       "      <th>1723245</th>\n",
       "      <td>BCR2DN6TSPWKJWT5</td>\n",
       "      <td>8160176875.0</td>\n",
       "      <td>active|P0</td>\n",
       "      <td>active|P0</td>\n",
       "      <td>active|P0</td>\n",
       "    </tr>\n",
       "    <tr>\n",
       "      <th>1723246</th>\n",
       "      <td>BCR2DN6TQ63IT6QH</td>\n",
       "      <td>9601897325.0</td>\n",
       "      <td>active|P0</td>\n",
       "      <td>active|P0</td>\n",
       "      <td>active|P0</td>\n",
       "    </tr>\n",
       "    <tr>\n",
       "      <th>1723247</th>\n",
       "      <td>\u001a</td>\n",
       "      <td>NaN</td>\n",
       "      <td>NaN</td>\n",
       "      <td>NaN</td>\n",
       "      <td>NaN</td>\n",
       "    </tr>\n",
       "  </tbody>\n",
       "</table>\n",
       "<p>1719422 rows × 5 columns</p>\n",
       "</div>"
      ],
      "text/plain": [
       "          Merchant Ext ID  Phone Number   segments segments_mid segments_mn\n",
       "0        BCR2DN4T3C22BC37    9930944765     active       active      active\n",
       "1        BCR2DN4T3C22FA2F    9730823332     active       active      active\n",
       "2        BCR2DN4T3C23DC22    9157945503     active       active      active\n",
       "3        BCR2DN4T3C24V5DZ    7058377741     active       active      active\n",
       "4        BCR2DN4T3C25LUKN    8156063403     active       active      active\n",
       "...                   ...           ...        ...          ...         ...\n",
       "1723243  BCR2DN6TW7PO7UJ3  7069858582.0  active|P0    active|P0   active|P0\n",
       "1723244  BCR2DN6T4XFITIS7  7383045687.0  active|P0    active|P0   active|P0\n",
       "1723245  BCR2DN6TSPWKJWT5  8160176875.0  active|P0    active|P0   active|P0\n",
       "1723246  BCR2DN6TQ63IT6QH  9601897325.0  active|P0    active|P0   active|P0\n",
       "1723247                 \u001a           NaN        NaN          NaN         NaN\n",
       "\n",
       "[1719422 rows x 5 columns]"
      ]
     },
     "execution_count": 40,
     "metadata": {},
     "output_type": "execute_result"
    }
   ],
   "source": [
    "Source_data_Q2_2022_merge_mid_mn"
   ]
  },
  {
   "cell_type": "code",
   "execution_count": 41,
   "id": "914fffba",
   "metadata": {},
   "outputs": [],
   "source": [
    "Source_data_Q2_2022 = Source_data_Q2_2022_merge_mid_mn[['Merchant Ext ID', 'Phone Number', 'segments']]"
   ]
  },
  {
   "cell_type": "code",
   "execution_count": 42,
   "id": "6102d353",
   "metadata": {},
   "outputs": [
    {
     "data": {
      "text/html": [
       "<div>\n",
       "<style scoped>\n",
       "    .dataframe tbody tr th:only-of-type {\n",
       "        vertical-align: middle;\n",
       "    }\n",
       "\n",
       "    .dataframe tbody tr th {\n",
       "        vertical-align: top;\n",
       "    }\n",
       "\n",
       "    .dataframe thead th {\n",
       "        text-align: right;\n",
       "    }\n",
       "</style>\n",
       "<table border=\"1\" class=\"dataframe\">\n",
       "  <thead>\n",
       "    <tr style=\"text-align: right;\">\n",
       "      <th></th>\n",
       "      <th>Merchant Ext ID</th>\n",
       "      <th>Phone Number</th>\n",
       "      <th>segments</th>\n",
       "    </tr>\n",
       "  </thead>\n",
       "  <tbody>\n",
       "    <tr>\n",
       "      <th>0</th>\n",
       "      <td>BCR2DN4T3C22BC37</td>\n",
       "      <td>9930944765</td>\n",
       "      <td>active</td>\n",
       "    </tr>\n",
       "  </tbody>\n",
       "</table>\n",
       "</div>"
      ],
      "text/plain": [
       "    Merchant Ext ID Phone Number segments\n",
       "0  BCR2DN4T3C22BC37   9930944765   active"
      ]
     },
     "execution_count": 42,
     "metadata": {},
     "output_type": "execute_result"
    }
   ],
   "source": [
    "Source_data_Q2_2022.head(1)"
   ]
  },
  {
   "cell_type": "markdown",
   "id": "bcc500ba",
   "metadata": {},
   "source": [
    "# Extracting the old Q1 revisit ingestion"
   ]
  },
  {
   "cell_type": "code",
   "execution_count": 43,
   "id": "844b5f3f",
   "metadata": {},
   "outputs": [],
   "source": [
    "Source_data_Q1_2022_ingestion = pd.read_excel(input_loc_source+'Old Revisit Data Ingestion 22 Apr_22 (1).xlsx')"
   ]
  },
  {
   "cell_type": "code",
   "execution_count": 44,
   "id": "1fda0a85",
   "metadata": {
    "scrolled": true
   },
   "outputs": [
    {
     "data": {
      "text/html": [
       "<div>\n",
       "<style scoped>\n",
       "    .dataframe tbody tr th:only-of-type {\n",
       "        vertical-align: middle;\n",
       "    }\n",
       "\n",
       "    .dataframe tbody tr th {\n",
       "        vertical-align: top;\n",
       "    }\n",
       "\n",
       "    .dataframe thead th {\n",
       "        text-align: right;\n",
       "    }\n",
       "</style>\n",
       "<table border=\"1\" class=\"dataframe\">\n",
       "  <thead>\n",
       "    <tr style=\"text-align: right;\">\n",
       "      <th></th>\n",
       "      <th>Merchant Ext.ID</th>\n",
       "      <th>Name</th>\n",
       "      <th>Phone Number</th>\n",
       "      <th>Address</th>\n",
       "      <th>Pincode</th>\n",
       "      <th>Latitude</th>\n",
       "      <th>Longitude</th>\n",
       "      <th>District</th>\n",
       "      <th>Polygon Name</th>\n",
       "      <th>Created By ID</th>\n",
       "      <th>Last Transaction date</th>\n",
       "      <th>Gpay OB E-mail</th>\n",
       "      <th>Merchant Health</th>\n",
       "      <th>Unnamed: 13</th>\n",
       "      <th>Unnamed: 14</th>\n",
       "      <th>BCR2DN6TU7X4FGKW</th>\n",
       "      <th>No</th>\n",
       "      <th>8307739195</th>\n",
       "      <th>No.1</th>\n",
       "      <th>No.2</th>\n",
       "    </tr>\n",
       "  </thead>\n",
       "  <tbody>\n",
       "    <tr>\n",
       "      <th>0</th>\n",
       "      <td>BCR2DN6T2WNZN22I</td>\n",
       "      <td>Ajay Sehgal</td>\n",
       "      <td>9811094371</td>\n",
       "      <td>1582,Rajiv Chowk, Connaught Palace</td>\n",
       "      <td>110001</td>\n",
       "      <td>28.629828</td>\n",
       "      <td>77.219109</td>\n",
       "      <td>Delhi</td>\n",
       "      <td>Google Delhi Polygon</td>\n",
       "      <td>22595.0</td>\n",
       "      <td>2021-06-24 00:00:00</td>\n",
       "      <td>na@abc.com</td>\n",
       "      <td>NaN</td>\n",
       "      <td>NaN</td>\n",
       "      <td>NaN</td>\n",
       "      <td>NaN</td>\n",
       "      <td>NaN</td>\n",
       "      <td>NaN</td>\n",
       "      <td>NaN</td>\n",
       "      <td>NaN</td>\n",
       "    </tr>\n",
       "  </tbody>\n",
       "</table>\n",
       "</div>"
      ],
      "text/plain": [
       "    Merchant Ext.ID         Name  Phone Number  \\\n",
       "0  BCR2DN6T2WNZN22I  Ajay Sehgal    9811094371   \n",
       "\n",
       "                              Address  Pincode   Latitude  Longitude District  \\\n",
       "0  1582,Rajiv Chowk, Connaught Palace   110001  28.629828  77.219109    Delhi   \n",
       "\n",
       "           Polygon Name  Created By ID Last Transaction date Gpay OB E-mail  \\\n",
       "0  Google Delhi Polygon        22595.0   2021-06-24 00:00:00     na@abc.com   \n",
       "\n",
       "   Merchant Health  Unnamed: 13  Unnamed: 14  BCR2DN6TU7X4FGKW  No  \\\n",
       "0              NaN          NaN          NaN               NaN NaN   \n",
       "\n",
       "   8307739195  No.1  No.2  \n",
       "0         NaN   NaN   NaN  "
      ]
     },
     "execution_count": 44,
     "metadata": {},
     "output_type": "execute_result"
    }
   ],
   "source": [
    "Source_data_Q1_2022_ingestion.head(1)"
   ]
  },
  {
   "cell_type": "markdown",
   "id": "ee8f8178",
   "metadata": {},
   "source": [
    "# Extra code to remove Active Old"
   ]
  },
  {
   "cell_type": "code",
   "execution_count": 45,
   "id": "d07b417c",
   "metadata": {},
   "outputs": [],
   "source": [
    "Source_data_Q1_2022_ingestion['MID2'] = \"Empty\""
   ]
  },
  {
   "cell_type": "code",
   "execution_count": 46,
   "id": "3a33e4e5",
   "metadata": {},
   "outputs": [],
   "source": [
    "Source_data_Q1_2022_ingestion.drop(['Merchant Ext.ID'], axis=1, inplace=True)"
   ]
  },
  {
   "cell_type": "code",
   "execution_count": 47,
   "id": "b7280bbb",
   "metadata": {},
   "outputs": [],
   "source": [
    "Source_data_Q1_2022_ingestion.rename(columns={'MID2':'Merchant Ext.ID'}, inplace=True)"
   ]
  },
  {
   "cell_type": "code",
   "execution_count": 48,
   "id": "f41bfb7c",
   "metadata": {},
   "outputs": [],
   "source": [
    "Source_data_Q1_2022_ingestion['MN2'] = 0"
   ]
  },
  {
   "cell_type": "code",
   "execution_count": 49,
   "id": "a4823968",
   "metadata": {},
   "outputs": [],
   "source": [
    "Source_data_Q1_2022_ingestion.drop(['Phone Number'], axis=1, inplace=True)"
   ]
  },
  {
   "cell_type": "code",
   "execution_count": 50,
   "id": "aa91e7f3",
   "metadata": {},
   "outputs": [],
   "source": [
    "Source_data_Q1_2022_ingestion.rename(columns={'MN2':'Phone Number'}, inplace=True)"
   ]
  },
  {
   "cell_type": "markdown",
   "id": "6f139bf1",
   "metadata": {},
   "source": [
    "# Data Extraction from the For Matching(Q1 2022 Revisit 28 Feb)"
   ]
  },
  {
   "cell_type": "code",
   "execution_count": 51,
   "id": "9e587375",
   "metadata": {},
   "outputs": [],
   "source": [
    "For_matching = pd.read_csv(input_loc_source + 'Source_data_Q1_2022_For_Match.csv',  index_col = 0)"
   ]
  },
  {
   "cell_type": "code",
   "execution_count": 52,
   "id": "2411ea64",
   "metadata": {},
   "outputs": [
    {
     "data": {
      "text/html": [
       "<div>\n",
       "<style scoped>\n",
       "    .dataframe tbody tr th:only-of-type {\n",
       "        vertical-align: middle;\n",
       "    }\n",
       "\n",
       "    .dataframe tbody tr th {\n",
       "        vertical-align: top;\n",
       "    }\n",
       "\n",
       "    .dataframe thead th {\n",
       "        text-align: right;\n",
       "    }\n",
       "</style>\n",
       "<table border=\"1\" class=\"dataframe\">\n",
       "  <thead>\n",
       "    <tr style=\"text-align: right;\">\n",
       "      <th></th>\n",
       "      <th>Phone Number</th>\n",
       "      <th>Merchant Ext.ID</th>\n",
       "    </tr>\n",
       "  </thead>\n",
       "  <tbody>\n",
       "    <tr>\n",
       "      <th>0</th>\n",
       "      <td>7579170207</td>\n",
       "      <td>BCR2DN6T57H7THC2</td>\n",
       "    </tr>\n",
       "  </tbody>\n",
       "</table>\n",
       "</div>"
      ],
      "text/plain": [
       "  Phone Number   Merchant Ext.ID\n",
       "0   7579170207  BCR2DN6T57H7THC2"
      ]
     },
     "execution_count": 52,
     "metadata": {},
     "output_type": "execute_result"
    }
   ],
   "source": [
    "For_matching.head(1)"
   ]
  },
  {
   "cell_type": "code",
   "execution_count": 53,
   "id": "9c652005",
   "metadata": {},
   "outputs": [
    {
     "data": {
      "text/plain": [
       "2697665"
      ]
     },
     "execution_count": 53,
     "metadata": {},
     "output_type": "execute_result"
    }
   ],
   "source": [
    "len(For_matching)"
   ]
  },
  {
   "cell_type": "markdown",
   "id": "0d7eab5f",
   "metadata": {},
   "source": [
    "# Vaco_RV_Q2_2022.csv"
   ]
  },
  {
   "cell_type": "code",
   "execution_count": 54,
   "id": "18681208",
   "metadata": {},
   "outputs": [],
   "source": [
    "Vaco_RV_Q2_2022 = pd.read_csv(input_loc_source+'Vaco_RV_Q2_2022.csv')"
   ]
  },
  {
   "cell_type": "code",
   "execution_count": 55,
   "id": "a9696b6d",
   "metadata": {},
   "outputs": [
    {
     "data": {
      "text/html": [
       "<div>\n",
       "<style scoped>\n",
       "    .dataframe tbody tr th:only-of-type {\n",
       "        vertical-align: middle;\n",
       "    }\n",
       "\n",
       "    .dataframe tbody tr th {\n",
       "        vertical-align: top;\n",
       "    }\n",
       "\n",
       "    .dataframe thead th {\n",
       "        text-align: right;\n",
       "    }\n",
       "</style>\n",
       "<table border=\"1\" class=\"dataframe\">\n",
       "  <thead>\n",
       "    <tr style=\"text-align: right;\">\n",
       "      <th></th>\n",
       "      <th>Merchant_External_ID</th>\n",
       "      <th>Name</th>\n",
       "      <th>Phone_Numbers</th>\n",
       "      <th>address</th>\n",
       "      <th>postal_code</th>\n",
       "      <th>District</th>\n",
       "      <th>State</th>\n",
       "      <th>Region</th>\n",
       "      <th>Latitude</th>\n",
       "      <th>Longitude</th>\n",
       "      <th>Transaction_Latitude</th>\n",
       "      <th>Transaction_Longitude</th>\n",
       "      <th>Vendor</th>\n",
       "      <th>last_txn_dt</th>\n",
       "      <th>segments</th>\n",
       "    </tr>\n",
       "  </thead>\n",
       "  <tbody>\n",
       "    <tr>\n",
       "      <th>0</th>\n",
       "      <td>BCR2DN4TWDK5HYSY</td>\n",
       "      <td>SHIVAKUMAR                                    ...</td>\n",
       "      <td>9606168166</td>\n",
       "      <td>Metro Station Road,24</td>\n",
       "      <td>560053</td>\n",
       "      <td>Bengaluru Urban</td>\n",
       "      <td>karnataka</td>\n",
       "      <td>South</td>\n",
       "      <td>12.652025</td>\n",
       "      <td>77.202193</td>\n",
       "      <td>NaN</td>\n",
       "      <td>NaN</td>\n",
       "      <td>Vaco</td>\n",
       "      <td>2022-03-26</td>\n",
       "      <td>active</td>\n",
       "    </tr>\n",
       "  </tbody>\n",
       "</table>\n",
       "</div>"
      ],
      "text/plain": [
       "  Merchant_External_ID                                               Name  \\\n",
       "0     BCR2DN4TWDK5HYSY  SHIVAKUMAR                                    ...   \n",
       "\n",
       "  Phone_Numbers                address  postal_code         District  \\\n",
       "0    9606168166  Metro Station Road,24       560053  Bengaluru Urban   \n",
       "\n",
       "       State Region   Latitude  Longitude  Transaction_Latitude  \\\n",
       "0  karnataka  South  12.652025  77.202193                   NaN   \n",
       "\n",
       "   Transaction_Longitude Vendor last_txn_dt segments  \n",
       "0                    NaN   Vaco  2022-03-26   active  "
      ]
     },
     "execution_count": 55,
     "metadata": {},
     "output_type": "execute_result"
    }
   ],
   "source": [
    "Vaco_RV_Q2_2022.head(1)"
   ]
  },
  {
   "cell_type": "code",
   "execution_count": 56,
   "id": "db91be5c",
   "metadata": {},
   "outputs": [
    {
     "data": {
      "text/plain": [
       "(1839381, 15)"
      ]
     },
     "execution_count": 56,
     "metadata": {},
     "output_type": "execute_result"
    }
   ],
   "source": [
    "Vaco_RV_Q2_2022.shape"
   ]
  },
  {
   "cell_type": "code",
   "execution_count": 57,
   "id": "fd972443",
   "metadata": {},
   "outputs": [],
   "source": [
    "Vaco_RV_Q2_2022_mn = Vaco_RV_Q2_2022[['Phone_Numbers', 'segments']].rename(\n",
    "    columns={'Phone_Numbers':'Owner Mobile No.', 'segments':'segments_vaco_mn'})"
   ]
  },
  {
   "cell_type": "code",
   "execution_count": 58,
   "id": "3f744734",
   "metadata": {},
   "outputs": [],
   "source": [
    "Vaco_RV_Q2_2022_split = Vaco_RV_Q2_2022_mn['Owner Mobile No.'].str.split(\",\", expand=True)"
   ]
  },
  {
   "cell_type": "code",
   "execution_count": 59,
   "id": "9bb02076",
   "metadata": {},
   "outputs": [
    {
     "data": {
      "text/html": [
       "<div>\n",
       "<style scoped>\n",
       "    .dataframe tbody tr th:only-of-type {\n",
       "        vertical-align: middle;\n",
       "    }\n",
       "\n",
       "    .dataframe tbody tr th {\n",
       "        vertical-align: top;\n",
       "    }\n",
       "\n",
       "    .dataframe thead th {\n",
       "        text-align: right;\n",
       "    }\n",
       "</style>\n",
       "<table border=\"1\" class=\"dataframe\">\n",
       "  <thead>\n",
       "    <tr style=\"text-align: right;\">\n",
       "      <th></th>\n",
       "      <th>0</th>\n",
       "      <th>1</th>\n",
       "      <th>2</th>\n",
       "      <th>3</th>\n",
       "      <th>4</th>\n",
       "      <th>5</th>\n",
       "      <th>6</th>\n",
       "      <th>7</th>\n",
       "      <th>8</th>\n",
       "      <th>9</th>\n",
       "    </tr>\n",
       "  </thead>\n",
       "  <tbody>\n",
       "    <tr>\n",
       "      <th>0</th>\n",
       "      <td>9606168166</td>\n",
       "      <td>None</td>\n",
       "      <td>None</td>\n",
       "      <td>None</td>\n",
       "      <td>None</td>\n",
       "      <td>None</td>\n",
       "      <td>None</td>\n",
       "      <td>None</td>\n",
       "      <td>None</td>\n",
       "      <td>None</td>\n",
       "    </tr>\n",
       "  </tbody>\n",
       "</table>\n",
       "</div>"
      ],
      "text/plain": [
       "            0     1     2     3     4     5     6     7     8     9\n",
       "0  9606168166  None  None  None  None  None  None  None  None  None"
      ]
     },
     "execution_count": 59,
     "metadata": {},
     "output_type": "execute_result"
    }
   ],
   "source": [
    "Vaco_RV_Q2_2022_split.head(1)"
   ]
  },
  {
   "cell_type": "code",
   "execution_count": 60,
   "id": "2ff5a445",
   "metadata": {},
   "outputs": [],
   "source": [
    "split_col = Vaco_RV_Q2_2022_split.columns"
   ]
  },
  {
   "cell_type": "code",
   "execution_count": 61,
   "id": "589d5ef9",
   "metadata": {},
   "outputs": [],
   "source": [
    "for i in range(0,len(split_col)):\n",
    "    Vaco_RV_Q2_2022_mn['Owner Mobile No._'+str(i)] = Vaco_RV_Q2_2022_split[i]"
   ]
  },
  {
   "cell_type": "code",
   "execution_count": 62,
   "id": "08b51328",
   "metadata": {},
   "outputs": [],
   "source": [
    "OM_0 = Vaco_RV_Q2_2022_mn[['Owner Mobile No._0', 'segments_vaco_mn']].rename(\n",
    "    columns={'Owner Mobile No._0':'Owner Mobile No.'})\n",
    "OM_1 = Vaco_RV_Q2_2022_mn[['Owner Mobile No._1', 'segments_vaco_mn']].rename(\n",
    "    columns={'Owner Mobile No._1':'Owner Mobile No.'})\n",
    "OM_2 = Vaco_RV_Q2_2022_mn[['Owner Mobile No._2', 'segments_vaco_mn']].rename(\n",
    "    columns={'Owner Mobile No._2':'Owner Mobile No.'})\n",
    "OM_3 = Vaco_RV_Q2_2022_mn[['Owner Mobile No._3', 'segments_vaco_mn']].rename(\n",
    "    columns={'Owner Mobile No._3':'Owner Mobile No.'})\n",
    "OM_4 = Vaco_RV_Q2_2022_mn[['Owner Mobile No._4', 'segments_vaco_mn']].rename(\n",
    "    columns={'Owner Mobile No._4':'Owner Mobile No.'})\n",
    "OM_5 = Vaco_RV_Q2_2022_mn[['Owner Mobile No._5', 'segments_vaco_mn']].rename(\n",
    "    columns={'Owner Mobile No._5':'Owner Mobile No.'})\n",
    "OM_6 = Vaco_RV_Q2_2022_mn[['Owner Mobile No._6', 'segments_vaco_mn']].rename(\n",
    "    columns={'Owner Mobile No._6':'Owner Mobile No.'})\n",
    "OM_7 = Vaco_RV_Q2_2022_mn[['Owner Mobile No._7', 'segments_vaco_mn']].rename(\n",
    "    columns={'Owner Mobile No._7':'Owner Mobile No.'})\n",
    "OM_8 = Vaco_RV_Q2_2022_mn[['Owner Mobile No._8', 'segments_vaco_mn']].rename(\n",
    "    columns={'Owner Mobile No._8':'Owner Mobile No.'})\n",
    "OM_9 = Vaco_RV_Q2_2022_mn[['Owner Mobile No._9', 'segments_vaco_mn']].rename(\n",
    "    columns={'Owner Mobile No._9':'Owner Mobile No.'})"
   ]
  },
  {
   "cell_type": "code",
   "execution_count": 63,
   "id": "289c4fb1",
   "metadata": {},
   "outputs": [],
   "source": [
    "OM_0.dropna(subset=['Owner Mobile No.'], inplace=True)\n",
    "OM_1.dropna(subset=['Owner Mobile No.'], inplace=True)\n",
    "OM_2.dropna(subset=['Owner Mobile No.'], inplace=True)\n",
    "OM_3.dropna(subset=['Owner Mobile No.'], inplace=True)\n",
    "OM_4.dropna(subset=['Owner Mobile No.'], inplace=True)\n",
    "OM_5.dropna(subset=['Owner Mobile No.'], inplace=True)\n",
    "OM_6.dropna(subset=['Owner Mobile No.'], inplace=True)\n",
    "OM_7.dropna(subset=['Owner Mobile No.'], inplace=True)\n",
    "OM_8.dropna(subset=['Owner Mobile No.'], inplace=True)\n",
    "OM_9.dropna(subset=['Owner Mobile No.'], inplace=True)"
   ]
  },
  {
   "cell_type": "code",
   "execution_count": 64,
   "id": "4d21056a",
   "metadata": {},
   "outputs": [],
   "source": [
    "OM_10 = OM_0.append(OM_1)\n",
    "OM_11 = OM_10.append(OM_2)\n",
    "OM_12 = OM_11.append(OM_3)\n",
    "OM_13 = OM_12.append(OM_4)\n",
    "OM_14 = OM_13.append(OM_5)\n",
    "OM_15 = OM_14.append(OM_6)\n",
    "OM_16 = OM_15.append(OM_7)\n",
    "OM_17 = OM_16.append(OM_8)\n",
    "OM_18 = OM_17.append(OM_9)"
   ]
  },
  {
   "cell_type": "code",
   "execution_count": 65,
   "id": "fe66f063",
   "metadata": {},
   "outputs": [],
   "source": [
    "OM_18.drop_duplicates(subset=['Owner Mobile No.'], inplace=True)"
   ]
  },
  {
   "cell_type": "code",
   "execution_count": 66,
   "id": "24dd039b",
   "metadata": {},
   "outputs": [
    {
     "data": {
      "text/html": [
       "<div>\n",
       "<style scoped>\n",
       "    .dataframe tbody tr th:only-of-type {\n",
       "        vertical-align: middle;\n",
       "    }\n",
       "\n",
       "    .dataframe tbody tr th {\n",
       "        vertical-align: top;\n",
       "    }\n",
       "\n",
       "    .dataframe thead th {\n",
       "        text-align: right;\n",
       "    }\n",
       "</style>\n",
       "<table border=\"1\" class=\"dataframe\">\n",
       "  <thead>\n",
       "    <tr style=\"text-align: right;\">\n",
       "      <th></th>\n",
       "      <th>Owner Mobile No.</th>\n",
       "      <th>segments_vaco_mn</th>\n",
       "    </tr>\n",
       "  </thead>\n",
       "  <tbody>\n",
       "    <tr>\n",
       "      <th>0</th>\n",
       "      <td>9606168166</td>\n",
       "      <td>active</td>\n",
       "    </tr>\n",
       "  </tbody>\n",
       "</table>\n",
       "</div>"
      ],
      "text/plain": [
       "  Owner Mobile No. segments_vaco_mn\n",
       "0       9606168166           active"
      ]
     },
     "execution_count": 66,
     "metadata": {},
     "output_type": "execute_result"
    }
   ],
   "source": [
    "OM_18.head(1)"
   ]
  },
  {
   "cell_type": "code",
   "execution_count": 67,
   "id": "3bac2a80",
   "metadata": {},
   "outputs": [],
   "source": [
    "Vaco_RV_Q2_2022 = OM_18"
   ]
  },
  {
   "cell_type": "code",
   "execution_count": 68,
   "id": "72b92f2e",
   "metadata": {
    "scrolled": true
   },
   "outputs": [
    {
     "data": {
      "text/plain": [
       "(1892985, 2)"
      ]
     },
     "execution_count": 68,
     "metadata": {},
     "output_type": "execute_result"
    }
   ],
   "source": [
    "Vaco_RV_Q2_2022.shape"
   ]
  },
  {
   "cell_type": "code",
   "execution_count": null,
   "id": "6af2c69d",
   "metadata": {},
   "outputs": [],
   "source": []
  },
  {
   "cell_type": "code",
   "execution_count": 69,
   "id": "503b5c1f",
   "metadata": {},
   "outputs": [],
   "source": [
    "# Source Skip Stop"
   ]
  },
  {
   "cell_type": "markdown",
   "id": "a88bc7f6",
   "metadata": {},
   "source": [
    "#### Filter and rearrangment of column "
   ]
  },
  {
   "cell_type": "code",
   "execution_count": 70,
   "id": "4d469ecd",
   "metadata": {},
   "outputs": [
    {
     "data": {
      "text/plain": [
       "6297"
      ]
     },
     "execution_count": 70,
     "metadata": {},
     "output_type": "execute_result"
    }
   ],
   "source": [
    "Google_Revisit_f = Google_Revisit.filter(['StoreName','City','Pincode','StorePhoneNumber','OnboardingTimestamp',\n",
    "'TaskSubmissionTimestamp','MerchantExternalId','CompletedSubTaskTypes','AdditionalQRs','PreProvisionedQRCount',\n",
    "'StickerQRCount','StandeeQRCount','MerchantVerified','MerchantEditStatus','RejectedEditFields','Validity',\n",
    "                                   'InvalidReasons','AgentEmail', 'GmbOptIn', 'GmbListingStatus','NewtoGMB'])\n",
    "len(Google_Revisit_f)"
   ]
  },
  {
   "cell_type": "markdown",
   "id": "6bee83ce",
   "metadata": {},
   "source": [
    "# Sorting Data and Duplicate "
   ]
  },
  {
   "cell_type": "code",
   "execution_count": 71,
   "id": "16ad1db6",
   "metadata": {},
   "outputs": [
    {
     "data": {
      "text/plain": [
       "6297"
      ]
     },
     "execution_count": 71,
     "metadata": {},
     "output_type": "execute_result"
    }
   ],
   "source": [
    "Google_Revisit_f_2 = Google_Revisit_f.sort_values(by=['Validity', 'MerchantExternalId'], ascending = [False, True])\n",
    "len(Google_Revisit_f_2)"
   ]
  },
  {
   "cell_type": "code",
   "execution_count": 72,
   "id": "ff326c81",
   "metadata": {
    "scrolled": true
   },
   "outputs": [
    {
     "data": {
      "text/plain": [
       "5307"
      ]
     },
     "execution_count": 72,
     "metadata": {},
     "output_type": "execute_result"
    }
   ],
   "source": [
    "Google_Revisit_f_3 = Google_Revisit_f_2.drop_duplicates(subset = ['MerchantExternalId'])\n",
    "len(Google_Revisit_f_3)"
   ]
  },
  {
   "cell_type": "markdown",
   "id": "97c23ca5",
   "metadata": {},
   "source": [
    "# Extract the Merchant Ext ID from RWN_Revisit\n",
    "# Duplicate the Column\n",
    "# Left join with the google\n",
    "# Extract the Merchant Ext ID from Google_Revisit_f"
   ]
  },
  {
   "cell_type": "code",
   "execution_count": 73,
   "id": "aa52c90b",
   "metadata": {},
   "outputs": [],
   "source": [
    "RWM_Revisit_2 = RWM_Revisit_1.filter(['Merchant ID','Merchant Name','Visit Count','Business Category',\n",
    "                                    'Owner Mobile No.','Follow Up Date','PIN Code','On Boarding Date',\n",
    "                                    'On Boarding Time','On-Boarded Employee Code','Visit By','Employee Code',\n",
    "                                    'Role Name','POD Name','POD ID','Employment Type','Revisit Date',\n",
    "                                    'Revisit Time','Team Lead Name','Remarks','Visit Status','Approved By',\n",
    "                                    'Approved Date','Approved Time','Approved Remarks',\n",
    "                                    'Reason for not Accepting Payments using G-Pay',\n",
    "                                    'New Collateral Given : QR Code label',\n",
    "                                    'New Collateral Given : G-Pay Accepted Sticker',\n",
    "                                    'New Collateral Given : Dangler','QR Code String',\n",
    "                                    'Not Interested in Gpay Reasons','Created By','Created Name','Created Date'])"
   ]
  },
  {
   "cell_type": "markdown",
   "id": "85d16354",
   "metadata": {},
   "source": [
    "#### Extracting MID from QR Code by spliting"
   ]
  },
  {
   "cell_type": "code",
   "execution_count": 74,
   "id": "13a2e3d2",
   "metadata": {},
   "outputs": [],
   "source": [
    "RWN_Revisit_3 = RWM_Revisit_2['QR Code String'].str.split('=', expand = True).rename(\n",
    "    columns={5:'Merchant Ext ID'}).filter(['Merchant Ext ID'])"
   ]
  },
  {
   "cell_type": "code",
   "execution_count": 75,
   "id": "4cb16f34",
   "metadata": {},
   "outputs": [],
   "source": [
    "RWM_Revisit = RWN_Revisit_3"
   ]
  },
  {
   "cell_type": "code",
   "execution_count": 76,
   "id": "b53966d2",
   "metadata": {},
   "outputs": [],
   "source": [
    "RWM_Revisit_Concat = pd.concat([RWM_Revisit_2, RWM_Revisit], axis = 1, join = 'inner')"
   ]
  },
  {
   "cell_type": "markdown",
   "id": "12573349",
   "metadata": {},
   "source": [
    "# RWM Files"
   ]
  },
  {
   "cell_type": "code",
   "execution_count": 77,
   "id": "6bb2ec8d",
   "metadata": {},
   "outputs": [
    {
     "data": {
      "text/plain": [
       "(5844, 35)"
      ]
     },
     "execution_count": 77,
     "metadata": {},
     "output_type": "execute_result"
    }
   ],
   "source": [
    "RWM_Revisit_Concat.shape"
   ]
  },
  {
   "cell_type": "code",
   "execution_count": 78,
   "id": "9e653eec",
   "metadata": {},
   "outputs": [
    {
     "data": {
      "text/plain": [
       "(5844, 34)"
      ]
     },
     "execution_count": 78,
     "metadata": {},
     "output_type": "execute_result"
    }
   ],
   "source": [
    "RWM_Revisit_2.shape"
   ]
  },
  {
   "cell_type": "markdown",
   "id": "8cf9c313",
   "metadata": {},
   "source": [
    "#### Extracting MID from RWM Revisit"
   ]
  },
  {
   "cell_type": "code",
   "execution_count": 79,
   "id": "8229cd4d",
   "metadata": {},
   "outputs": [
    {
     "data": {
      "text/plain": [
       "5844"
      ]
     },
     "execution_count": 79,
     "metadata": {},
     "output_type": "execute_result"
    }
   ],
   "source": [
    "RWM_Revisit_f = RWM_Revisit.filter(['Merchant Ext ID'])\n",
    "RWM_Revisit_f_2 = RWM_Revisit.filter(['Merchant Ext ID'])\n",
    "len(RWM_Revisit_f_2)"
   ]
  },
  {
   "cell_type": "code",
   "execution_count": 80,
   "id": "68cdb57c",
   "metadata": {},
   "outputs": [],
   "source": [
    "RWM_Revisit_Mer_MID = pd.concat([RWM_Revisit_f.rename(columns = {\n",
    "    'Merchant Ext ID': 'MerchantExternalId'}), RWM_Revisit_f_2.rename(columns = {\n",
    "    'Merchant Ext ID': 'MerchantExternalId_2'})], axis = 1, join = 'inner')"
   ]
  },
  {
   "cell_type": "code",
   "execution_count": 81,
   "id": "144cbf23",
   "metadata": {},
   "outputs": [
    {
     "data": {
      "text/plain": [
       "5844"
      ]
     },
     "execution_count": 81,
     "metadata": {},
     "output_type": "execute_result"
    }
   ],
   "source": [
    "len(RWM_Revisit_Mer_MID)"
   ]
  },
  {
   "cell_type": "markdown",
   "id": "78353385",
   "metadata": {},
   "source": [
    "#### Extract MID from google revisit"
   ]
  },
  {
   "cell_type": "code",
   "execution_count": 82,
   "id": "9dcbba2d",
   "metadata": {},
   "outputs": [
    {
     "data": {
      "text/html": [
       "<div>\n",
       "<style scoped>\n",
       "    .dataframe tbody tr th:only-of-type {\n",
       "        vertical-align: middle;\n",
       "    }\n",
       "\n",
       "    .dataframe tbody tr th {\n",
       "        vertical-align: top;\n",
       "    }\n",
       "\n",
       "    .dataframe thead th {\n",
       "        text-align: right;\n",
       "    }\n",
       "</style>\n",
       "<table border=\"1\" class=\"dataframe\">\n",
       "  <thead>\n",
       "    <tr style=\"text-align: right;\">\n",
       "      <th></th>\n",
       "    </tr>\n",
       "    <tr>\n",
       "      <th>MerchantExternalId</th>\n",
       "    </tr>\n",
       "  </thead>\n",
       "  <tbody>\n",
       "    <tr>\n",
       "      <th>BCR2DN4T2C5JLEID</th>\n",
       "    </tr>\n",
       "    <tr>\n",
       "      <th>BCR2DN4T2C5MHWQN</th>\n",
       "    </tr>\n",
       "    <tr>\n",
       "      <th>BCR2DN4T2C7LJ3J7</th>\n",
       "    </tr>\n",
       "    <tr>\n",
       "      <th>BCR2DN4T2CFLNMZH</th>\n",
       "    </tr>\n",
       "    <tr>\n",
       "      <th>BCR2DN4T2CRL35QP</th>\n",
       "    </tr>\n",
       "    <tr>\n",
       "      <th>...</th>\n",
       "    </tr>\n",
       "    <tr>\n",
       "      <th>BCR2DN6TZOC2NRQP</th>\n",
       "    </tr>\n",
       "    <tr>\n",
       "      <th>BCR2DN6TZPE3XKZU</th>\n",
       "    </tr>\n",
       "    <tr>\n",
       "      <th>BCR2DN6TZPEL5UIR</th>\n",
       "    </tr>\n",
       "    <tr>\n",
       "      <th>BCR2DN6TZPKMJQ3L</th>\n",
       "    </tr>\n",
       "    <tr>\n",
       "      <th>BCR2DN6TZPTIDCQM</th>\n",
       "    </tr>\n",
       "  </tbody>\n",
       "</table>\n",
       "<p>5307 rows × 0 columns</p>\n",
       "</div>"
      ],
      "text/plain": [
       "Empty DataFrame\n",
       "Columns: []\n",
       "Index: [BCR2DN4T2C5JLEID, BCR2DN4T2C5MHWQN, BCR2DN4T2C7LJ3J7, BCR2DN4T2CFLNMZH, BCR2DN4T2CRL35QP, BCR2DN4T2CWIJSBH, BCR2DN4T2CXPRSBO, BCR2DN4T2D3LFMDS, BCR2DN4T2D6LXL2W, BCR2DN4T2D77LRTM, BCR2DN4T2DAJZUTT, BCR2DN4T2DAPVEA7, BCR2DN4T2DD6XYRC, BCR2DN4T2DDLDPKZ, BCR2DN4T2DE6XETM, BCR2DN4T2DEZDMLO, BCR2DN4T2DFN3HKB, BCR2DN4T2DFPXWYQ, BCR2DN4T2DHJ5JIO, BCR2DN4T2DL37A3G, BCR2DN4T2DLY3F3S, BCR2DN4T2DN3L4IJ, BCR2DN4T2DNN3EQE, BCR2DN4T2DPJNJJ6, BCR2DN4T2DQOZSDC, BCR2DN4T2DROZIBR, BCR2DN4T2DRZ75JN, BCR2DN4T2DSMJH2I, BCR2DN4T2DUOZ5RL, BCR2DN4T2DUY3DSE, BCR2DN4T2DV33TTC, BCR2DN4T2DZKJFJ4, BCR2DN4T2DZLN5SE, BCR2DN4T2DZLZYSG, BCR2DN4T2S7INJQJ, BCR2DN4T2T6J3BYQ, BCR2DN4T2TBMRMRM, BCR2DN4T2TDLXMYR, BCR2DN4T3C2PPML4, BCR2DN4T3C35NJR4, BCR2DN4T3C45BW3W, BCR2DN4T3C4KDKSH, BCR2DN4T3C5LJ7YP, BCR2DN4T3C5LTGR3, BCR2DN4T3C5NXPYR, BCR2DN4T3C5ZJQRK, BCR2DN4T3C73HQQP, BCR2DN4T3C7LBGKG, BCR2DN4T3C7OHA3T, BCR2DN4T3CANJEQI, BCR2DN4T3CBL7SLI, BCR2DN4T3CBMXFIG, BCR2DN4T3CC6RUKT, BCR2DN4T3CCKNQQN, BCR2DN4T3CD4D3KK, BCR2DN4T3CD7ZBLZ, BCR2DN4T3CE7HBAT, BCR2DN4T3CGJ5U2C, BCR2DN4T3CGJJ73N, BCR2DN4T3CGKN7BL, BCR2DN4T3CGMBPQJ, BCR2DN4T3CGPBDYV, BCR2DN4T3CGPZYLK, BCR2DN4T3CI5XDSH, BCR2DN4T3CI6J6R7, BCR2DN4T3CILN5SG, BCR2DN4T3CILURA, BCR2DN4T3CINHKIU, BCR2DN4T3CKPZBYZ, BCR2DN4T3CLZRNTS, BCR2DN4T3CN6HZBX, BCR2DN4T3CN7PTSV, BCR2DN4T3CNLD2IZ, BCR2DN4T3CO7VIIL, BCR2DN4T3COIFCAC, BCR2DN4T3COKTXAJ, BCR2DN4T3CQ27XRD, BCR2DN4T3CQ4ZUDA, BCR2DN4T3CQLR5KG, BCR2DN4T3CQZVMAV, BCR2DN4T3CSKVC2G, BCR2DN4T3CSNTKD2, BCR2DN4T3CT2LOSF, BCR2DN4T3CT43HRA, BCR2DN4T3CU4DWS6, BCR2DN4T3CUP76TH, BCR2DN4T3CUYFLRX, BCR2DN4T3CVYJJYO, BCR2DN4T3CWKPZT7, BCR2DN4T3CWNPAQH, BCR2DN4T3CXJJZT3, BCR2DN4T3CXLJCAP, BCR2DN4T3CXMZXQ6, BCR2DN4T3CXPNPBK, BCR2DN4T3CYI3MB5, BCR2DN4T3CZ6VG27, BCR2DN4T3CZLV6BW, BCR2DN4T3CZNBCK4, BCR2DN4T3D2NF6KS, BCR2DN4T3D2ONWCE, ...]\n",
       "\n",
       "[5307 rows x 0 columns]"
      ]
     },
     "execution_count": 82,
     "metadata": {},
     "output_type": "execute_result"
    }
   ],
   "source": [
    "google_revisit_mid = Google_Revisit_f_3.filter(['MerchantExternalId'])\n",
    "google_revisit_mid.set_index('MerchantExternalId')"
   ]
  },
  {
   "cell_type": "code",
   "execution_count": 83,
   "id": "0d2666ca",
   "metadata": {},
   "outputs": [
    {
     "data": {
      "text/html": [
       "<div>\n",
       "<style scoped>\n",
       "    .dataframe tbody tr th:only-of-type {\n",
       "        vertical-align: middle;\n",
       "    }\n",
       "\n",
       "    .dataframe tbody tr th {\n",
       "        vertical-align: top;\n",
       "    }\n",
       "\n",
       "    .dataframe thead th {\n",
       "        text-align: right;\n",
       "    }\n",
       "</style>\n",
       "<table border=\"1\" class=\"dataframe\">\n",
       "  <thead>\n",
       "    <tr style=\"text-align: right;\">\n",
       "      <th></th>\n",
       "      <th>MerchantExternalId</th>\n",
       "      <th>MerchantExternalId_2</th>\n",
       "    </tr>\n",
       "  </thead>\n",
       "  <tbody>\n",
       "    <tr>\n",
       "      <th>0</th>\n",
       "      <td>BCR2DN4T2C5JLEID</td>\n",
       "      <td>BCR2DN4T2C5JLEID</td>\n",
       "    </tr>\n",
       "    <tr>\n",
       "      <th>1</th>\n",
       "      <td>BCR2DN4T2C5MHWQN</td>\n",
       "      <td>BCR2DN4T2C5MHWQN</td>\n",
       "    </tr>\n",
       "    <tr>\n",
       "      <th>2</th>\n",
       "      <td>BCR2DN4T2C7LJ3J7</td>\n",
       "      <td>BCR2DN4T2C7LJ3J7</td>\n",
       "    </tr>\n",
       "    <tr>\n",
       "      <th>3</th>\n",
       "      <td>BCR2DN4T2CFLNMZH</td>\n",
       "      <td>BCR2DN4T2CFLNMZH</td>\n",
       "    </tr>\n",
       "    <tr>\n",
       "      <th>4</th>\n",
       "      <td>BCR2DN4T2CRL35QP</td>\n",
       "      <td>BCR2DN4T2CRL35QP</td>\n",
       "    </tr>\n",
       "    <tr>\n",
       "      <th>...</th>\n",
       "      <td>...</td>\n",
       "      <td>...</td>\n",
       "    </tr>\n",
       "    <tr>\n",
       "      <th>5303</th>\n",
       "      <td>BCR2DN6TZOC2NRQP</td>\n",
       "      <td>BCR2DN6TZOC2NRQP</td>\n",
       "    </tr>\n",
       "    <tr>\n",
       "      <th>5304</th>\n",
       "      <td>BCR2DN6TZPE3XKZU</td>\n",
       "      <td>NaN</td>\n",
       "    </tr>\n",
       "    <tr>\n",
       "      <th>5305</th>\n",
       "      <td>BCR2DN6TZPEL5UIR</td>\n",
       "      <td>NaN</td>\n",
       "    </tr>\n",
       "    <tr>\n",
       "      <th>5306</th>\n",
       "      <td>BCR2DN6TZPKMJQ3L</td>\n",
       "      <td>NaN</td>\n",
       "    </tr>\n",
       "    <tr>\n",
       "      <th>5307</th>\n",
       "      <td>BCR2DN6TZPTIDCQM</td>\n",
       "      <td>BCR2DN6TZPTIDCQM</td>\n",
       "    </tr>\n",
       "  </tbody>\n",
       "</table>\n",
       "<p>5308 rows × 2 columns</p>\n",
       "</div>"
      ],
      "text/plain": [
       "     MerchantExternalId MerchantExternalId_2\n",
       "0      BCR2DN4T2C5JLEID     BCR2DN4T2C5JLEID\n",
       "1      BCR2DN4T2C5MHWQN     BCR2DN4T2C5MHWQN\n",
       "2      BCR2DN4T2C7LJ3J7     BCR2DN4T2C7LJ3J7\n",
       "3      BCR2DN4T2CFLNMZH     BCR2DN4T2CFLNMZH\n",
       "4      BCR2DN4T2CRL35QP     BCR2DN4T2CRL35QP\n",
       "...                 ...                  ...\n",
       "5303   BCR2DN6TZOC2NRQP     BCR2DN6TZOC2NRQP\n",
       "5304   BCR2DN6TZPE3XKZU                  NaN\n",
       "5305   BCR2DN6TZPEL5UIR                  NaN\n",
       "5306   BCR2DN6TZPKMJQ3L                  NaN\n",
       "5307   BCR2DN6TZPTIDCQM     BCR2DN6TZPTIDCQM\n",
       "\n",
       "[5308 rows x 2 columns]"
      ]
     },
     "execution_count": 83,
     "metadata": {},
     "output_type": "execute_result"
    }
   ],
   "source": [
    "merge_mid = google_revisit_mid.merge(RWM_Revisit_Mer_MID, how = 'left', on = 'MerchantExternalId')\n",
    "merge_mid"
   ]
  },
  {
   "cell_type": "code",
   "execution_count": 84,
   "id": "a77e9a53",
   "metadata": {},
   "outputs": [
    {
     "data": {
      "text/plain": [
       "(5307, 2)"
      ]
     },
     "execution_count": 84,
     "metadata": {},
     "output_type": "execute_result"
    }
   ],
   "source": [
    "merge_mid_u = merge_mid.drop_duplicates(subset = ['MerchantExternalId'])\n",
    "merge_mid_u.shape"
   ]
  },
  {
   "cell_type": "code",
   "execution_count": 85,
   "id": "b5e620e6",
   "metadata": {
    "scrolled": true
   },
   "outputs": [
    {
     "data": {
      "text/html": [
       "<div>\n",
       "<style scoped>\n",
       "    .dataframe tbody tr th:only-of-type {\n",
       "        vertical-align: middle;\n",
       "    }\n",
       "\n",
       "    .dataframe tbody tr th {\n",
       "        vertical-align: top;\n",
       "    }\n",
       "\n",
       "    .dataframe thead th {\n",
       "        text-align: right;\n",
       "    }\n",
       "</style>\n",
       "<table border=\"1\" class=\"dataframe\">\n",
       "  <thead>\n",
       "    <tr style=\"text-align: right;\">\n",
       "      <th></th>\n",
       "      <th>MerchantExternalId</th>\n",
       "      <th>MerchantExternalId_2</th>\n",
       "    </tr>\n",
       "  </thead>\n",
       "  <tbody>\n",
       "    <tr>\n",
       "      <th>0</th>\n",
       "      <td>BCR2DN4T2C5JLEID</td>\n",
       "      <td>BCR2DN4T2C5JLEID</td>\n",
       "    </tr>\n",
       "  </tbody>\n",
       "</table>\n",
       "</div>"
      ],
      "text/plain": [
       "  MerchantExternalId MerchantExternalId_2\n",
       "0   BCR2DN4T2C5JLEID     BCR2DN4T2C5JLEID"
      ]
     },
     "execution_count": 85,
     "metadata": {},
     "output_type": "execute_result"
    }
   ],
   "source": [
    "merge_mid_u.head(1)"
   ]
  },
  {
   "cell_type": "markdown",
   "id": "1ba06d97",
   "metadata": {},
   "source": [
    "# Is in RWM"
   ]
  },
  {
   "cell_type": "markdown",
   "id": "2116a32a",
   "metadata": {},
   "source": [
    "## Compare both the columns\n",
    "## Update the Result in the \"Is in RWM\" column"
   ]
  },
  {
   "cell_type": "code",
   "execution_count": 86,
   "id": "62f5615e",
   "metadata": {
    "scrolled": false
   },
   "outputs": [
    {
     "data": {
      "text/html": [
       "<div>\n",
       "<style scoped>\n",
       "    .dataframe tbody tr th:only-of-type {\n",
       "        vertical-align: middle;\n",
       "    }\n",
       "\n",
       "    .dataframe tbody tr th {\n",
       "        vertical-align: top;\n",
       "    }\n",
       "\n",
       "    .dataframe thead th {\n",
       "        text-align: right;\n",
       "    }\n",
       "</style>\n",
       "<table border=\"1\" class=\"dataframe\">\n",
       "  <thead>\n",
       "    <tr style=\"text-align: right;\">\n",
       "      <th></th>\n",
       "      <th>StoreName</th>\n",
       "      <th>City</th>\n",
       "      <th>Pincode</th>\n",
       "      <th>StorePhoneNumber</th>\n",
       "      <th>OnboardingTimestamp</th>\n",
       "      <th>TaskSubmissionTimestamp</th>\n",
       "      <th>MerchantExternalId</th>\n",
       "      <th>CompletedSubTaskTypes</th>\n",
       "      <th>AdditionalQRs</th>\n",
       "      <th>PreProvisionedQRCount</th>\n",
       "      <th>...</th>\n",
       "      <th>StandeeQRCount</th>\n",
       "      <th>MerchantVerified</th>\n",
       "      <th>MerchantEditStatus</th>\n",
       "      <th>RejectedEditFields</th>\n",
       "      <th>Validity</th>\n",
       "      <th>InvalidReasons</th>\n",
       "      <th>AgentEmail</th>\n",
       "      <th>GmbOptIn</th>\n",
       "      <th>GmbListingStatus</th>\n",
       "      <th>NewtoGMB</th>\n",
       "    </tr>\n",
       "  </thead>\n",
       "  <tbody>\n",
       "    <tr>\n",
       "      <th>5975</th>\n",
       "      <td>Mangal Jewellers</td>\n",
       "      <td>Solapur</td>\n",
       "      <td>413216</td>\n",
       "      <td>9822959713</td>\n",
       "      <td>09-May-2022 17:41:48</td>\n",
       "      <td>10-Nov-2022 18:33:47</td>\n",
       "      <td>BCR2DN4T2C5JLEID</td>\n",
       "      <td>PROVISION_VPA, CAPTURE_ADDITIONAL_PICTURES, TA...</td>\n",
       "      <td>NaN</td>\n",
       "      <td>3.0</td>\n",
       "      <td>...</td>\n",
       "      <td>2.0</td>\n",
       "      <td>NaN</td>\n",
       "      <td>NaN</td>\n",
       "      <td>NaN</td>\n",
       "      <td>VALID</td>\n",
       "      <td>NaN</td>\n",
       "      <td>sol.20378.vbs@gpayfos.com</td>\n",
       "      <td>True</td>\n",
       "      <td>COMPLETE</td>\n",
       "      <td>False</td>\n",
       "    </tr>\n",
       "  </tbody>\n",
       "</table>\n",
       "<p>1 rows × 21 columns</p>\n",
       "</div>"
      ],
      "text/plain": [
       "             StoreName     City  Pincode  StorePhoneNumber  \\\n",
       "5975  Mangal Jewellers  Solapur   413216        9822959713   \n",
       "\n",
       "       OnboardingTimestamp TaskSubmissionTimestamp MerchantExternalId  \\\n",
       "5975  09-May-2022 17:41:48    10-Nov-2022 18:33:47   BCR2DN4T2C5JLEID   \n",
       "\n",
       "                                  CompletedSubTaskTypes  AdditionalQRs  \\\n",
       "5975  PROVISION_VPA, CAPTURE_ADDITIONAL_PICTURES, TA...            NaN   \n",
       "\n",
       "      PreProvisionedQRCount  ...  StandeeQRCount  MerchantVerified  \\\n",
       "5975                    3.0  ...             2.0               NaN   \n",
       "\n",
       "     MerchantEditStatus RejectedEditFields Validity InvalidReasons  \\\n",
       "5975                NaN                NaN    VALID            NaN   \n",
       "\n",
       "                     AgentEmail GmbOptIn  GmbListingStatus NewtoGMB  \n",
       "5975  sol.20378.vbs@gpayfos.com     True          COMPLETE    False  \n",
       "\n",
       "[1 rows x 21 columns]"
      ]
     },
     "execution_count": 86,
     "metadata": {},
     "output_type": "execute_result"
    }
   ],
   "source": [
    "Google_Revisit_f_3.head(1)"
   ]
  },
  {
   "cell_type": "code",
   "execution_count": 87,
   "id": "b97b2046",
   "metadata": {},
   "outputs": [
    {
     "data": {
      "text/plain": [
       "(5307, 21)"
      ]
     },
     "execution_count": 87,
     "metadata": {},
     "output_type": "execute_result"
    }
   ],
   "source": [
    "Google_Revisit_f_3.shape"
   ]
  },
  {
   "cell_type": "code",
   "execution_count": 88,
   "id": "9f1b4e39",
   "metadata": {},
   "outputs": [
    {
     "data": {
      "text/plain": [
       "(5844, 35)"
      ]
     },
     "execution_count": 88,
     "metadata": {},
     "output_type": "execute_result"
    }
   ],
   "source": [
    "RWM_Revisit_Concat.shape"
   ]
  },
  {
   "cell_type": "code",
   "execution_count": 89,
   "id": "0144397a",
   "metadata": {},
   "outputs": [
    {
     "data": {
      "text/html": [
       "<div>\n",
       "<style scoped>\n",
       "    .dataframe tbody tr th:only-of-type {\n",
       "        vertical-align: middle;\n",
       "    }\n",
       "\n",
       "    .dataframe tbody tr th {\n",
       "        vertical-align: top;\n",
       "    }\n",
       "\n",
       "    .dataframe thead th {\n",
       "        text-align: right;\n",
       "    }\n",
       "</style>\n",
       "<table border=\"1\" class=\"dataframe\">\n",
       "  <thead>\n",
       "    <tr style=\"text-align: right;\">\n",
       "      <th></th>\n",
       "      <th>Merchant ID</th>\n",
       "      <th>Merchant Name</th>\n",
       "      <th>Visit Count</th>\n",
       "      <th>Business Category</th>\n",
       "      <th>Owner Mobile No.</th>\n",
       "      <th>Follow Up Date</th>\n",
       "      <th>PIN Code</th>\n",
       "      <th>On Boarding Date</th>\n",
       "      <th>On Boarding Time</th>\n",
       "      <th>On-Boarded Employee Code</th>\n",
       "      <th>...</th>\n",
       "      <th>Reason for not Accepting Payments using G-Pay</th>\n",
       "      <th>New Collateral Given : QR Code label</th>\n",
       "      <th>New Collateral Given : G-Pay Accepted Sticker</th>\n",
       "      <th>New Collateral Given : Dangler</th>\n",
       "      <th>QR Code String</th>\n",
       "      <th>Not Interested in Gpay Reasons</th>\n",
       "      <th>Created By</th>\n",
       "      <th>Created Name</th>\n",
       "      <th>Created Date</th>\n",
       "      <th>Merchant Ext ID</th>\n",
       "    </tr>\n",
       "  </thead>\n",
       "  <tbody>\n",
       "    <tr>\n",
       "      <th>0</th>\n",
       "      <td>8356409</td>\n",
       "      <td>sri sanvi hair style's</td>\n",
       "      <td>1</td>\n",
       "      <td>Service</td>\n",
       "      <td>9177126322</td>\n",
       "      <td>NaN</td>\n",
       "      <td>504231</td>\n",
       "      <td>Nov-10-2022</td>\n",
       "      <td>20:51:55</td>\n",
       "      <td>81037</td>\n",
       "      <td>...</td>\n",
       "      <td>NaN</td>\n",
       "      <td>NaN</td>\n",
       "      <td>NaN</td>\n",
       "      <td>NaN</td>\n",
       "      <td>upi://pay?pa=9177126322@okbizaxis&amp;pn=sri%20san...</td>\n",
       "      <td>NaN</td>\n",
       "      <td>81037</td>\n",
       "      <td>Kuntala shiva</td>\n",
       "      <td>Nov-10-2022 20:47:42</td>\n",
       "      <td>BCR2DN4T2SV25CSU</td>\n",
       "    </tr>\n",
       "  </tbody>\n",
       "</table>\n",
       "<p>1 rows × 35 columns</p>\n",
       "</div>"
      ],
      "text/plain": [
       "   Merchant ID           Merchant Name  Visit Count Business Category  \\\n",
       "0      8356409  sri sanvi hair style's            1           Service   \n",
       "\n",
       "   Owner Mobile No. Follow Up Date PIN Code On Boarding Date On Boarding Time  \\\n",
       "0        9177126322            NaN   504231      Nov-10-2022         20:51:55   \n",
       "\n",
       "   On-Boarded Employee Code  ...  \\\n",
       "0                     81037  ...   \n",
       "\n",
       "  Reason for not Accepting Payments using G-Pay  \\\n",
       "0                                           NaN   \n",
       "\n",
       "   New Collateral Given : QR Code label  \\\n",
       "0                                   NaN   \n",
       "\n",
       "  New Collateral Given : G-Pay Accepted Sticker  \\\n",
       "0                                           NaN   \n",
       "\n",
       "  New Collateral Given : Dangler  \\\n",
       "0                            NaN   \n",
       "\n",
       "                                      QR Code String  \\\n",
       "0  upi://pay?pa=9177126322@okbizaxis&pn=sri%20san...   \n",
       "\n",
       "  Not Interested in Gpay Reasons Created By   Created Name  \\\n",
       "0                            NaN      81037  Kuntala shiva   \n",
       "\n",
       "           Created Date   Merchant Ext ID  \n",
       "0  Nov-10-2022 20:47:42  BCR2DN4T2SV25CSU  \n",
       "\n",
       "[1 rows x 35 columns]"
      ]
     },
     "execution_count": 89,
     "metadata": {},
     "output_type": "execute_result"
    }
   ],
   "source": [
    "RWM_Revisit_Concat.head(1)"
   ]
  },
  {
   "cell_type": "code",
   "execution_count": 90,
   "id": "fedc60a4",
   "metadata": {},
   "outputs": [],
   "source": [
    "merge_mid_u_f = RWM_Revisit_Concat[['Merchant Ext ID']]"
   ]
  },
  {
   "cell_type": "code",
   "execution_count": 91,
   "id": "4dd3badb",
   "metadata": {
    "scrolled": true
   },
   "outputs": [
    {
     "data": {
      "text/plain": [
       "(5844, 1)"
      ]
     },
     "execution_count": 91,
     "metadata": {},
     "output_type": "execute_result"
    }
   ],
   "source": [
    "merge_mid_u_f.shape"
   ]
  },
  {
   "cell_type": "code",
   "execution_count": 92,
   "id": "253d22b6",
   "metadata": {},
   "outputs": [],
   "source": [
    "merge_mid_u_f.rename(columns={'Merchant Ext ID':'MerchantExternalId'}, inplace=True)"
   ]
  },
  {
   "cell_type": "code",
   "execution_count": 93,
   "id": "5a23094e",
   "metadata": {},
   "outputs": [],
   "source": [
    "Google_Revisit_f_3_merge = Google_Revisit_f_3.merge(merge_mid_u_f, on='MerchantExternalId', how='left', \n",
    "                                                    indicator=True)"
   ]
  },
  {
   "cell_type": "code",
   "execution_count": 94,
   "id": "0aab77f5",
   "metadata": {},
   "outputs": [],
   "source": [
    "Google_Revisit_f_3_merge.drop_duplicates(subset = ['MerchantExternalId'], inplace = True)"
   ]
  },
  {
   "cell_type": "code",
   "execution_count": 95,
   "id": "e18ffd33",
   "metadata": {},
   "outputs": [],
   "source": [
    "Google_Revisit_f_3_merge.rename(columns={'_merge':\"Is in RWM\"}, inplace=True)"
   ]
  },
  {
   "cell_type": "code",
   "execution_count": 96,
   "id": "f538fc13",
   "metadata": {},
   "outputs": [],
   "source": [
    "Google_Revisit_f_3_merge['Is in RWM'] = Google_Revisit_f_3_merge['Is in RWM'].map({'both':\"Yes\", \n",
    "                                                                'left_only':\"No\",'right_only':\"No\"})"
   ]
  },
  {
   "cell_type": "code",
   "execution_count": 97,
   "id": "5e9ead1e",
   "metadata": {},
   "outputs": [],
   "source": [
    "Google_Revisit_f_4 = Google_Revisit_f_3_merge"
   ]
  },
  {
   "cell_type": "code",
   "execution_count": 98,
   "id": "93acda5a",
   "metadata": {
    "scrolled": true
   },
   "outputs": [
    {
     "data": {
      "text/html": [
       "<div>\n",
       "<style scoped>\n",
       "    .dataframe tbody tr th:only-of-type {\n",
       "        vertical-align: middle;\n",
       "    }\n",
       "\n",
       "    .dataframe tbody tr th {\n",
       "        vertical-align: top;\n",
       "    }\n",
       "\n",
       "    .dataframe thead th {\n",
       "        text-align: right;\n",
       "    }\n",
       "</style>\n",
       "<table border=\"1\" class=\"dataframe\">\n",
       "  <thead>\n",
       "    <tr style=\"text-align: right;\">\n",
       "      <th></th>\n",
       "      <th>StoreName</th>\n",
       "      <th>City</th>\n",
       "      <th>Pincode</th>\n",
       "      <th>StorePhoneNumber</th>\n",
       "      <th>OnboardingTimestamp</th>\n",
       "      <th>TaskSubmissionTimestamp</th>\n",
       "      <th>MerchantExternalId</th>\n",
       "      <th>CompletedSubTaskTypes</th>\n",
       "      <th>AdditionalQRs</th>\n",
       "      <th>PreProvisionedQRCount</th>\n",
       "      <th>...</th>\n",
       "      <th>MerchantVerified</th>\n",
       "      <th>MerchantEditStatus</th>\n",
       "      <th>RejectedEditFields</th>\n",
       "      <th>Validity</th>\n",
       "      <th>InvalidReasons</th>\n",
       "      <th>AgentEmail</th>\n",
       "      <th>GmbOptIn</th>\n",
       "      <th>GmbListingStatus</th>\n",
       "      <th>NewtoGMB</th>\n",
       "      <th>Is in RWM</th>\n",
       "    </tr>\n",
       "  </thead>\n",
       "  <tbody>\n",
       "    <tr>\n",
       "      <th>0</th>\n",
       "      <td>Mangal Jewellers</td>\n",
       "      <td>Solapur</td>\n",
       "      <td>413216</td>\n",
       "      <td>9822959713</td>\n",
       "      <td>09-May-2022 17:41:48</td>\n",
       "      <td>10-Nov-2022 18:33:47</td>\n",
       "      <td>BCR2DN4T2C5JLEID</td>\n",
       "      <td>PROVISION_VPA, CAPTURE_ADDITIONAL_PICTURES, TA...</td>\n",
       "      <td>NaN</td>\n",
       "      <td>3.0</td>\n",
       "      <td>...</td>\n",
       "      <td>NaN</td>\n",
       "      <td>NaN</td>\n",
       "      <td>NaN</td>\n",
       "      <td>VALID</td>\n",
       "      <td>NaN</td>\n",
       "      <td>sol.20378.vbs@gpayfos.com</td>\n",
       "      <td>True</td>\n",
       "      <td>COMPLETE</td>\n",
       "      <td>False</td>\n",
       "      <td>Yes</td>\n",
       "    </tr>\n",
       "  </tbody>\n",
       "</table>\n",
       "<p>1 rows × 22 columns</p>\n",
       "</div>"
      ],
      "text/plain": [
       "          StoreName     City  Pincode  StorePhoneNumber   OnboardingTimestamp  \\\n",
       "0  Mangal Jewellers  Solapur   413216        9822959713  09-May-2022 17:41:48   \n",
       "\n",
       "  TaskSubmissionTimestamp MerchantExternalId  \\\n",
       "0    10-Nov-2022 18:33:47   BCR2DN4T2C5JLEID   \n",
       "\n",
       "                               CompletedSubTaskTypes  AdditionalQRs  \\\n",
       "0  PROVISION_VPA, CAPTURE_ADDITIONAL_PICTURES, TA...            NaN   \n",
       "\n",
       "   PreProvisionedQRCount  ...  MerchantVerified  MerchantEditStatus  \\\n",
       "0                    3.0  ...               NaN                 NaN   \n",
       "\n",
       "  RejectedEditFields Validity InvalidReasons                 AgentEmail  \\\n",
       "0                NaN    VALID            NaN  sol.20378.vbs@gpayfos.com   \n",
       "\n",
       "  GmbOptIn GmbListingStatus  NewtoGMB Is in RWM  \n",
       "0     True         COMPLETE     False       Yes  \n",
       "\n",
       "[1 rows x 22 columns]"
      ]
     },
     "execution_count": 98,
     "metadata": {},
     "output_type": "execute_result"
    }
   ],
   "source": [
    "Google_Revisit_f_4.head(1)"
   ]
  },
  {
   "cell_type": "markdown",
   "id": "43187002",
   "metadata": {},
   "source": [
    "# Matching mobile number"
   ]
  },
  {
   "cell_type": "code",
   "execution_count": 99,
   "id": "8af04081",
   "metadata": {},
   "outputs": [
    {
     "data": {
      "text/plain": [
       "array(['Yes', 'No'], dtype=object)"
      ]
     },
     "execution_count": 99,
     "metadata": {},
     "output_type": "execute_result"
    }
   ],
   "source": [
    "Google_Revisit_f_4['Is in RWM'].unique()"
   ]
  },
  {
   "cell_type": "code",
   "execution_count": 100,
   "id": "3df466e1",
   "metadata": {},
   "outputs": [
    {
     "data": {
      "text/html": [
       "<div>\n",
       "<style scoped>\n",
       "    .dataframe tbody tr th:only-of-type {\n",
       "        vertical-align: middle;\n",
       "    }\n",
       "\n",
       "    .dataframe tbody tr th {\n",
       "        vertical-align: top;\n",
       "    }\n",
       "\n",
       "    .dataframe thead th {\n",
       "        text-align: right;\n",
       "    }\n",
       "</style>\n",
       "<table border=\"1\" class=\"dataframe\">\n",
       "  <thead>\n",
       "    <tr style=\"text-align: right;\">\n",
       "      <th></th>\n",
       "      <th>Merchant ID</th>\n",
       "      <th>Merchant Name</th>\n",
       "      <th>Visit Count</th>\n",
       "      <th>Business Category</th>\n",
       "      <th>Owner Mobile No.</th>\n",
       "      <th>Follow Up Date</th>\n",
       "      <th>PIN Code</th>\n",
       "      <th>On Boarding Date</th>\n",
       "      <th>On Boarding Time</th>\n",
       "      <th>On-Boarded Employee Code</th>\n",
       "      <th>...</th>\n",
       "      <th>Approved Remarks</th>\n",
       "      <th>Reason for not Accepting Payments using G-Pay</th>\n",
       "      <th>New Collateral Given : QR Code label</th>\n",
       "      <th>New Collateral Given : G-Pay Accepted Sticker</th>\n",
       "      <th>New Collateral Given : Dangler</th>\n",
       "      <th>QR Code String</th>\n",
       "      <th>Not Interested in Gpay Reasons</th>\n",
       "      <th>Created By</th>\n",
       "      <th>Created Name</th>\n",
       "      <th>Created Date</th>\n",
       "    </tr>\n",
       "  </thead>\n",
       "  <tbody>\n",
       "    <tr>\n",
       "      <th>0</th>\n",
       "      <td>8356409</td>\n",
       "      <td>sri sanvi hair style's</td>\n",
       "      <td>1</td>\n",
       "      <td>Service</td>\n",
       "      <td>9177126322</td>\n",
       "      <td>NaN</td>\n",
       "      <td>504231</td>\n",
       "      <td>Nov-10-2022</td>\n",
       "      <td>20:51:55</td>\n",
       "      <td>81037</td>\n",
       "      <td>...</td>\n",
       "      <td>NaN</td>\n",
       "      <td>NaN</td>\n",
       "      <td>NaN</td>\n",
       "      <td>NaN</td>\n",
       "      <td>NaN</td>\n",
       "      <td>upi://pay?pa=9177126322@okbizaxis&amp;pn=sri%20san...</td>\n",
       "      <td>NaN</td>\n",
       "      <td>81037</td>\n",
       "      <td>Kuntala shiva</td>\n",
       "      <td>Nov-10-2022 20:47:42</td>\n",
       "    </tr>\n",
       "  </tbody>\n",
       "</table>\n",
       "<p>1 rows × 34 columns</p>\n",
       "</div>"
      ],
      "text/plain": [
       "   Merchant ID           Merchant Name  Visit Count Business Category  \\\n",
       "0      8356409  sri sanvi hair style's            1           Service   \n",
       "\n",
       "   Owner Mobile No. Follow Up Date PIN Code On Boarding Date On Boarding Time  \\\n",
       "0        9177126322            NaN   504231      Nov-10-2022         20:51:55   \n",
       "\n",
       "   On-Boarded Employee Code  ... Approved Remarks  \\\n",
       "0                     81037  ...              NaN   \n",
       "\n",
       "   Reason for not Accepting Payments using G-Pay  \\\n",
       "0                                            NaN   \n",
       "\n",
       "  New Collateral Given : QR Code label  \\\n",
       "0                                  NaN   \n",
       "\n",
       "  New Collateral Given : G-Pay Accepted Sticker  \\\n",
       "0                                           NaN   \n",
       "\n",
       "   New Collateral Given : Dangler  \\\n",
       "0                             NaN   \n",
       "\n",
       "                                      QR Code String  \\\n",
       "0  upi://pay?pa=9177126322@okbizaxis&pn=sri%20san...   \n",
       "\n",
       "  Not Interested in Gpay Reasons Created By   Created Name  \\\n",
       "0                            NaN      81037  Kuntala shiva   \n",
       "\n",
       "           Created Date  \n",
       "0  Nov-10-2022 20:47:42  \n",
       "\n",
       "[1 rows x 34 columns]"
      ]
     },
     "execution_count": 100,
     "metadata": {},
     "output_type": "execute_result"
    }
   ],
   "source": [
    "RWM_Revisit_2.head(1)"
   ]
  },
  {
   "cell_type": "code",
   "execution_count": 101,
   "id": "451e0646",
   "metadata": {},
   "outputs": [],
   "source": [
    "RWM_Revisit_2_f = RWM_Revisit_2[['Owner Mobile No.']].rename(columns={'Owner Mobile No.':'StorePhoneNumber'})"
   ]
  },
  {
   "cell_type": "code",
   "execution_count": 102,
   "id": "01028560",
   "metadata": {
    "scrolled": true
   },
   "outputs": [
    {
     "data": {
      "text/html": [
       "<div>\n",
       "<style scoped>\n",
       "    .dataframe tbody tr th:only-of-type {\n",
       "        vertical-align: middle;\n",
       "    }\n",
       "\n",
       "    .dataframe tbody tr th {\n",
       "        vertical-align: top;\n",
       "    }\n",
       "\n",
       "    .dataframe thead th {\n",
       "        text-align: right;\n",
       "    }\n",
       "</style>\n",
       "<table border=\"1\" class=\"dataframe\">\n",
       "  <thead>\n",
       "    <tr style=\"text-align: right;\">\n",
       "      <th></th>\n",
       "      <th>StorePhoneNumber</th>\n",
       "    </tr>\n",
       "  </thead>\n",
       "  <tbody>\n",
       "    <tr>\n",
       "      <th>0</th>\n",
       "      <td>9177126322</td>\n",
       "    </tr>\n",
       "  </tbody>\n",
       "</table>\n",
       "</div>"
      ],
      "text/plain": [
       "   StorePhoneNumber\n",
       "0        9177126322"
      ]
     },
     "execution_count": 102,
     "metadata": {},
     "output_type": "execute_result"
    }
   ],
   "source": [
    "RWM_Revisit_2_f.head(1)"
   ]
  },
  {
   "cell_type": "code",
   "execution_count": 103,
   "id": "e915621f",
   "metadata": {},
   "outputs": [
    {
     "data": {
      "text/html": [
       "<div>\n",
       "<style scoped>\n",
       "    .dataframe tbody tr th:only-of-type {\n",
       "        vertical-align: middle;\n",
       "    }\n",
       "\n",
       "    .dataframe tbody tr th {\n",
       "        vertical-align: top;\n",
       "    }\n",
       "\n",
       "    .dataframe thead th {\n",
       "        text-align: right;\n",
       "    }\n",
       "</style>\n",
       "<table border=\"1\" class=\"dataframe\">\n",
       "  <thead>\n",
       "    <tr style=\"text-align: right;\">\n",
       "      <th></th>\n",
       "      <th>StoreName</th>\n",
       "      <th>City</th>\n",
       "      <th>Pincode</th>\n",
       "      <th>StorePhoneNumber</th>\n",
       "      <th>OnboardingTimestamp</th>\n",
       "      <th>TaskSubmissionTimestamp</th>\n",
       "      <th>MerchantExternalId</th>\n",
       "      <th>CompletedSubTaskTypes</th>\n",
       "      <th>AdditionalQRs</th>\n",
       "      <th>PreProvisionedQRCount</th>\n",
       "      <th>...</th>\n",
       "      <th>MerchantVerified</th>\n",
       "      <th>MerchantEditStatus</th>\n",
       "      <th>RejectedEditFields</th>\n",
       "      <th>Validity</th>\n",
       "      <th>InvalidReasons</th>\n",
       "      <th>AgentEmail</th>\n",
       "      <th>GmbOptIn</th>\n",
       "      <th>GmbListingStatus</th>\n",
       "      <th>NewtoGMB</th>\n",
       "      <th>Is in RWM</th>\n",
       "    </tr>\n",
       "  </thead>\n",
       "  <tbody>\n",
       "    <tr>\n",
       "      <th>0</th>\n",
       "      <td>Mangal Jewellers</td>\n",
       "      <td>Solapur</td>\n",
       "      <td>413216</td>\n",
       "      <td>9822959713</td>\n",
       "      <td>09-May-2022 17:41:48</td>\n",
       "      <td>10-Nov-2022 18:33:47</td>\n",
       "      <td>BCR2DN4T2C5JLEID</td>\n",
       "      <td>PROVISION_VPA, CAPTURE_ADDITIONAL_PICTURES, TA...</td>\n",
       "      <td>NaN</td>\n",
       "      <td>3.0</td>\n",
       "      <td>...</td>\n",
       "      <td>NaN</td>\n",
       "      <td>NaN</td>\n",
       "      <td>NaN</td>\n",
       "      <td>VALID</td>\n",
       "      <td>NaN</td>\n",
       "      <td>sol.20378.vbs@gpayfos.com</td>\n",
       "      <td>True</td>\n",
       "      <td>COMPLETE</td>\n",
       "      <td>False</td>\n",
       "      <td>Yes</td>\n",
       "    </tr>\n",
       "  </tbody>\n",
       "</table>\n",
       "<p>1 rows × 22 columns</p>\n",
       "</div>"
      ],
      "text/plain": [
       "          StoreName     City  Pincode  StorePhoneNumber   OnboardingTimestamp  \\\n",
       "0  Mangal Jewellers  Solapur   413216        9822959713  09-May-2022 17:41:48   \n",
       "\n",
       "  TaskSubmissionTimestamp MerchantExternalId  \\\n",
       "0    10-Nov-2022 18:33:47   BCR2DN4T2C5JLEID   \n",
       "\n",
       "                               CompletedSubTaskTypes  AdditionalQRs  \\\n",
       "0  PROVISION_VPA, CAPTURE_ADDITIONAL_PICTURES, TA...            NaN   \n",
       "\n",
       "   PreProvisionedQRCount  ...  MerchantVerified  MerchantEditStatus  \\\n",
       "0                    3.0  ...               NaN                 NaN   \n",
       "\n",
       "  RejectedEditFields Validity InvalidReasons                 AgentEmail  \\\n",
       "0                NaN    VALID            NaN  sol.20378.vbs@gpayfos.com   \n",
       "\n",
       "  GmbOptIn GmbListingStatus  NewtoGMB Is in RWM  \n",
       "0     True         COMPLETE     False       Yes  \n",
       "\n",
       "[1 rows x 22 columns]"
      ]
     },
     "execution_count": 103,
     "metadata": {},
     "output_type": "execute_result"
    }
   ],
   "source": [
    "Google_Revisit_f_4.head(1)"
   ]
  },
  {
   "cell_type": "code",
   "execution_count": 104,
   "id": "f6842cd3",
   "metadata": {
    "scrolled": true
   },
   "outputs": [
    {
     "data": {
      "text/plain": [
       "(5307, 22)"
      ]
     },
     "execution_count": 104,
     "metadata": {},
     "output_type": "execute_result"
    }
   ],
   "source": [
    "Google_Revisit_f_4.shape"
   ]
  },
  {
   "cell_type": "markdown",
   "id": "b2e939ea",
   "metadata": {},
   "source": [
    "# Changing DateTime Format in OnboardingTimestamp & TaskSubmissionTimestamp\n"
   ]
  },
  {
   "cell_type": "code",
   "execution_count": 112,
   "id": "3f54d2be",
   "metadata": {},
   "outputs": [],
   "source": [
    "Google_Revisit_f_4['OnboardingTimestamp'] = pd.to_datetime(Google_Revisit_f_4['OnboardingTimestamp'])\n",
    "Google_Revisit_f_4['TaskSubmissionTimestamp'] = pd.to_datetime(Google_Revisit_f_4['TaskSubmissionTimestamp'])"
   ]
  },
  {
   "cell_type": "code",
   "execution_count": 113,
   "id": "46f1825f",
   "metadata": {},
   "outputs": [],
   "source": [
    "Google_Revisit_f_4['OnboardingTimestamp'] = Google_Revisit_f_4['OnboardingTimestamp'].dt.strftime('%-m/%-d/%Y %-H:%-M:%-S')\n",
    "Google_Revisit_f_4['TaskSubmissionTimestamp'] = Google_Revisit_f_4['TaskSubmissionTimestamp'].dt.strftime('%-m/%-d/%Y %-H:%-M:%-S')"
   ]
  },
  {
   "cell_type": "code",
   "execution_count": 114,
   "id": "3950483f",
   "metadata": {},
   "outputs": [],
   "source": [
    "Google_Revisit_f_4['TaskSubmissionTimestamp'].fillna(method='bfill', inplace=True)\n",
    "Google_Revisit_f_4['TaskSubmissionTimestamp'].fillna(method='ffill', inplace=True)"
   ]
  },
  {
   "cell_type": "markdown",
   "id": "f7f205cc",
   "metadata": {},
   "source": [
    "# Is in Source File based on Merchant Ext ID? \n",
    "# Is in Source File based on Merchant Mobile Number?"
   ]
  },
  {
   "cell_type": "markdown",
   "id": "88151e7e",
   "metadata": {},
   "source": [
    "# Source file match \n",
    "# Is in Dynamic Source Match?"
   ]
  },
  {
   "cell_type": "code",
   "execution_count": 115,
   "id": "eeab55ac",
   "metadata": {},
   "outputs": [],
   "source": [
    "target_file = Google_Revisit_f_4[['MerchantExternalId', 'StorePhoneNumber', 'TaskSubmissionTimestamp']].rename(\n",
    "    columns={'TaskSubmissionTimestamp':'Revisit Date'})"
   ]
  },
  {
   "cell_type": "code",
   "execution_count": 116,
   "id": "e61ebdca",
   "metadata": {
    "scrolled": false
   },
   "outputs": [
    {
     "data": {
      "text/html": [
       "<div>\n",
       "<style scoped>\n",
       "    .dataframe tbody tr th:only-of-type {\n",
       "        vertical-align: middle;\n",
       "    }\n",
       "\n",
       "    .dataframe tbody tr th {\n",
       "        vertical-align: top;\n",
       "    }\n",
       "\n",
       "    .dataframe thead th {\n",
       "        text-align: right;\n",
       "    }\n",
       "</style>\n",
       "<table border=\"1\" class=\"dataframe\">\n",
       "  <thead>\n",
       "    <tr style=\"text-align: right;\">\n",
       "      <th></th>\n",
       "      <th>MerchantExternalId</th>\n",
       "      <th>StorePhoneNumber</th>\n",
       "      <th>Revisit Date</th>\n",
       "    </tr>\n",
       "  </thead>\n",
       "  <tbody>\n",
       "    <tr>\n",
       "      <th>0</th>\n",
       "      <td>BCR2DN4T2C5JLEID</td>\n",
       "      <td>9822959713</td>\n",
       "      <td>11/10/2022 18:33:47</td>\n",
       "    </tr>\n",
       "  </tbody>\n",
       "</table>\n",
       "</div>"
      ],
      "text/plain": [
       "  MerchantExternalId  StorePhoneNumber         Revisit Date\n",
       "0   BCR2DN4T2C5JLEID        9822959713  11/10/2022 18:33:47"
      ]
     },
     "execution_count": 116,
     "metadata": {},
     "output_type": "execute_result"
    }
   ],
   "source": [
    "target_file.head(1)"
   ]
  },
  {
   "cell_type": "code",
   "execution_count": 117,
   "id": "c6ad9b46",
   "metadata": {},
   "outputs": [],
   "source": [
    "target_file['Primary_key'] = range(1,(1+len(target_file)))"
   ]
  },
  {
   "cell_type": "code",
   "execution_count": 118,
   "id": "f05fd467",
   "metadata": {},
   "outputs": [
    {
     "data": {
      "text/html": [
       "<div>\n",
       "<style scoped>\n",
       "    .dataframe tbody tr th:only-of-type {\n",
       "        vertical-align: middle;\n",
       "    }\n",
       "\n",
       "    .dataframe tbody tr th {\n",
       "        vertical-align: top;\n",
       "    }\n",
       "\n",
       "    .dataframe thead th {\n",
       "        text-align: right;\n",
       "    }\n",
       "</style>\n",
       "<table border=\"1\" class=\"dataframe\">\n",
       "  <thead>\n",
       "    <tr style=\"text-align: right;\">\n",
       "      <th></th>\n",
       "      <th>MerchantId</th>\n",
       "      <th>Objectives</th>\n",
       "      <th>IngestionStatus</th>\n",
       "      <th>Report Date</th>\n",
       "      <th>RWM Remarks</th>\n",
       "      <th>Ingestion Date</th>\n",
       "      <th>Revisit Expire Date</th>\n",
       "      <th>s no</th>\n",
       "    </tr>\n",
       "  </thead>\n",
       "  <tbody>\n",
       "    <tr>\n",
       "      <th>0</th>\n",
       "      <td>BCR2DN4TSCO3DNDR</td>\n",
       "      <td>checkin-nob</td>\n",
       "      <td>ADD</td>\n",
       "      <td>5-Aug-2022</td>\n",
       "      <td>Success</td>\n",
       "      <td>5-Aug-2022</td>\n",
       "      <td>NaN</td>\n",
       "      <td>1</td>\n",
       "    </tr>\n",
       "  </tbody>\n",
       "</table>\n",
       "</div>"
      ],
      "text/plain": [
       "         MerchantId   Objectives IngestionStatus Report Date RWM Remarks  \\\n",
       "0  BCR2DN4TSCO3DNDR  checkin-nob             ADD  5-Aug-2022     Success   \n",
       "\n",
       "  Ingestion Date Revisit Expire Date  s no  \n",
       "0     5-Aug-2022                 NaN     1  "
      ]
     },
     "execution_count": 118,
     "metadata": {},
     "output_type": "execute_result"
    }
   ],
   "source": [
    "Dynamic_source_aug.head(1)"
   ]
  },
  {
   "cell_type": "code",
   "execution_count": 119,
   "id": "3058b054",
   "metadata": {
    "scrolled": false
   },
   "outputs": [
    {
     "data": {
      "text/html": [
       "<div>\n",
       "<style scoped>\n",
       "    .dataframe tbody tr th:only-of-type {\n",
       "        vertical-align: middle;\n",
       "    }\n",
       "\n",
       "    .dataframe tbody tr th {\n",
       "        vertical-align: top;\n",
       "    }\n",
       "\n",
       "    .dataframe thead th {\n",
       "        text-align: right;\n",
       "    }\n",
       "</style>\n",
       "<table border=\"1\" class=\"dataframe\">\n",
       "  <thead>\n",
       "    <tr style=\"text-align: right;\">\n",
       "      <th></th>\n",
       "      <th>Name</th>\n",
       "      <th>Phone Number</th>\n",
       "      <th>Address</th>\n",
       "      <th>Pincode</th>\n",
       "      <th>Latitude</th>\n",
       "      <th>Longitude</th>\n",
       "      <th>District</th>\n",
       "      <th>Polygon Name</th>\n",
       "      <th>Created By ID</th>\n",
       "      <th>Merchant Ext.ID</th>\n",
       "      <th>Last Transaction date</th>\n",
       "      <th>Gpay OB E-mail</th>\n",
       "      <th>segments</th>\n",
       "      <th>_merge</th>\n",
       "    </tr>\n",
       "  </thead>\n",
       "  <tbody>\n",
       "    <tr>\n",
       "      <th>0</th>\n",
       "      <td>Nilkanth Enterprises</td>\n",
       "      <td>7.579170e+09</td>\n",
       "      <td>Bareilly Road ,Motahaldu</td>\n",
       "      <td>263139.0</td>\n",
       "      <td>29.145969</td>\n",
       "      <td>79.522095</td>\n",
       "      <td>Nainital</td>\n",
       "      <td>244715</td>\n",
       "      <td>58515.0</td>\n",
       "      <td>BCR2DN6T57H7THC2</td>\n",
       "      <td>28-12-2021</td>\n",
       "      <td>sjoshi375@gmail.com</td>\n",
       "      <td>active</td>\n",
       "      <td>both</td>\n",
       "    </tr>\n",
       "  </tbody>\n",
       "</table>\n",
       "</div>"
      ],
      "text/plain": [
       "                   Name  Phone Number                    Address   Pincode  \\\n",
       "0  Nilkanth Enterprises  7.579170e+09  Bareilly Road ,Motahaldu   263139.0   \n",
       "\n",
       "    Latitude  Longitude  District Polygon Name  Created By ID  \\\n",
       "0  29.145969  79.522095  Nainital       244715        58515.0   \n",
       "\n",
       "    Merchant Ext.ID Last Transaction date       Gpay OB E-mail segments _merge  \n",
       "0  BCR2DN6T57H7THC2            28-12-2021  sjoshi375@gmail.com   active   both  "
      ]
     },
     "execution_count": 119,
     "metadata": {},
     "output_type": "execute_result"
    }
   ],
   "source": [
    "Source_data_Q1_2022.head(1)"
   ]
  },
  {
   "cell_type": "code",
   "execution_count": 120,
   "id": "0ed0b861",
   "metadata": {},
   "outputs": [
    {
     "data": {
      "text/html": [
       "<div>\n",
       "<style scoped>\n",
       "    .dataframe tbody tr th:only-of-type {\n",
       "        vertical-align: middle;\n",
       "    }\n",
       "\n",
       "    .dataframe tbody tr th {\n",
       "        vertical-align: top;\n",
       "    }\n",
       "\n",
       "    .dataframe thead th {\n",
       "        text-align: right;\n",
       "    }\n",
       "</style>\n",
       "<table border=\"1\" class=\"dataframe\">\n",
       "  <thead>\n",
       "    <tr style=\"text-align: right;\">\n",
       "      <th></th>\n",
       "      <th>Merchant Ext ID</th>\n",
       "      <th>Phone Number</th>\n",
       "      <th>segments</th>\n",
       "    </tr>\n",
       "  </thead>\n",
       "  <tbody>\n",
       "    <tr>\n",
       "      <th>0</th>\n",
       "      <td>BCR2DN4T3C22BC37</td>\n",
       "      <td>9930944765</td>\n",
       "      <td>active</td>\n",
       "    </tr>\n",
       "  </tbody>\n",
       "</table>\n",
       "</div>"
      ],
      "text/plain": [
       "    Merchant Ext ID Phone Number segments\n",
       "0  BCR2DN4T3C22BC37   9930944765   active"
      ]
     },
     "execution_count": 120,
     "metadata": {},
     "output_type": "execute_result"
    }
   ],
   "source": [
    "Source_data_Q2_2022.head(1)"
   ]
  },
  {
   "cell_type": "code",
   "execution_count": 121,
   "id": "b35fa1f4",
   "metadata": {
    "scrolled": true
   },
   "outputs": [
    {
     "data": {
      "text/html": [
       "<div>\n",
       "<style scoped>\n",
       "    .dataframe tbody tr th:only-of-type {\n",
       "        vertical-align: middle;\n",
       "    }\n",
       "\n",
       "    .dataframe tbody tr th {\n",
       "        vertical-align: top;\n",
       "    }\n",
       "\n",
       "    .dataframe thead th {\n",
       "        text-align: right;\n",
       "    }\n",
       "</style>\n",
       "<table border=\"1\" class=\"dataframe\">\n",
       "  <thead>\n",
       "    <tr style=\"text-align: right;\">\n",
       "      <th></th>\n",
       "      <th>Name</th>\n",
       "      <th>Address</th>\n",
       "      <th>Pincode</th>\n",
       "      <th>Latitude</th>\n",
       "      <th>Longitude</th>\n",
       "      <th>District</th>\n",
       "      <th>Polygon Name</th>\n",
       "      <th>Created By ID</th>\n",
       "      <th>Last Transaction date</th>\n",
       "      <th>Gpay OB E-mail</th>\n",
       "      <th>Merchant Health</th>\n",
       "      <th>Unnamed: 13</th>\n",
       "      <th>Unnamed: 14</th>\n",
       "      <th>BCR2DN6TU7X4FGKW</th>\n",
       "      <th>No</th>\n",
       "      <th>8307739195</th>\n",
       "      <th>No.1</th>\n",
       "      <th>No.2</th>\n",
       "      <th>Merchant Ext.ID</th>\n",
       "      <th>Phone Number</th>\n",
       "    </tr>\n",
       "  </thead>\n",
       "  <tbody>\n",
       "    <tr>\n",
       "      <th>0</th>\n",
       "      <td>Ajay Sehgal</td>\n",
       "      <td>1582,Rajiv Chowk, Connaught Palace</td>\n",
       "      <td>110001</td>\n",
       "      <td>28.629828</td>\n",
       "      <td>77.219109</td>\n",
       "      <td>Delhi</td>\n",
       "      <td>Google Delhi Polygon</td>\n",
       "      <td>22595.0</td>\n",
       "      <td>2021-06-24 00:00:00</td>\n",
       "      <td>na@abc.com</td>\n",
       "      <td>NaN</td>\n",
       "      <td>NaN</td>\n",
       "      <td>NaN</td>\n",
       "      <td>NaN</td>\n",
       "      <td>NaN</td>\n",
       "      <td>NaN</td>\n",
       "      <td>NaN</td>\n",
       "      <td>NaN</td>\n",
       "      <td>Empty</td>\n",
       "      <td>0</td>\n",
       "    </tr>\n",
       "  </tbody>\n",
       "</table>\n",
       "</div>"
      ],
      "text/plain": [
       "          Name                             Address  Pincode   Latitude  \\\n",
       "0  Ajay Sehgal  1582,Rajiv Chowk, Connaught Palace   110001  28.629828   \n",
       "\n",
       "   Longitude District          Polygon Name  Created By ID  \\\n",
       "0  77.219109    Delhi  Google Delhi Polygon        22595.0   \n",
       "\n",
       "  Last Transaction date Gpay OB E-mail  Merchant Health  Unnamed: 13  \\\n",
       "0   2021-06-24 00:00:00     na@abc.com              NaN          NaN   \n",
       "\n",
       "   Unnamed: 14  BCR2DN6TU7X4FGKW  No  8307739195  No.1  No.2 Merchant Ext.ID  \\\n",
       "0          NaN               NaN NaN         NaN   NaN   NaN           Empty   \n",
       "\n",
       "   Phone Number  \n",
       "0             0  "
      ]
     },
     "execution_count": 121,
     "metadata": {},
     "output_type": "execute_result"
    }
   ],
   "source": [
    "Source_data_Q1_2022_ingestion.head(1)"
   ]
  },
  {
   "cell_type": "code",
   "execution_count": 122,
   "id": "9d731bb7",
   "metadata": {
    "scrolled": false
   },
   "outputs": [
    {
     "data": {
      "text/html": [
       "<div>\n",
       "<style scoped>\n",
       "    .dataframe tbody tr th:only-of-type {\n",
       "        vertical-align: middle;\n",
       "    }\n",
       "\n",
       "    .dataframe tbody tr th {\n",
       "        vertical-align: top;\n",
       "    }\n",
       "\n",
       "    .dataframe thead th {\n",
       "        text-align: right;\n",
       "    }\n",
       "</style>\n",
       "<table border=\"1\" class=\"dataframe\">\n",
       "  <thead>\n",
       "    <tr style=\"text-align: right;\">\n",
       "      <th></th>\n",
       "      <th>Phone Number</th>\n",
       "      <th>Merchant Ext.ID</th>\n",
       "    </tr>\n",
       "  </thead>\n",
       "  <tbody>\n",
       "    <tr>\n",
       "      <th>0</th>\n",
       "      <td>7579170207</td>\n",
       "      <td>BCR2DN6T57H7THC2</td>\n",
       "    </tr>\n",
       "  </tbody>\n",
       "</table>\n",
       "</div>"
      ],
      "text/plain": [
       "  Phone Number   Merchant Ext.ID\n",
       "0   7579170207  BCR2DN6T57H7THC2"
      ]
     },
     "execution_count": 122,
     "metadata": {},
     "output_type": "execute_result"
    }
   ],
   "source": [
    "For_matching.head(1)"
   ]
  },
  {
   "cell_type": "code",
   "execution_count": 123,
   "id": "8171ce74",
   "metadata": {},
   "outputs": [
    {
     "data": {
      "text/html": [
       "<div>\n",
       "<style scoped>\n",
       "    .dataframe tbody tr th:only-of-type {\n",
       "        vertical-align: middle;\n",
       "    }\n",
       "\n",
       "    .dataframe tbody tr th {\n",
       "        vertical-align: top;\n",
       "    }\n",
       "\n",
       "    .dataframe thead th {\n",
       "        text-align: right;\n",
       "    }\n",
       "</style>\n",
       "<table border=\"1\" class=\"dataframe\">\n",
       "  <thead>\n",
       "    <tr style=\"text-align: right;\">\n",
       "      <th></th>\n",
       "      <th>Owner Mobile No.</th>\n",
       "      <th>segments_vaco_mn</th>\n",
       "    </tr>\n",
       "  </thead>\n",
       "  <tbody>\n",
       "    <tr>\n",
       "      <th>0</th>\n",
       "      <td>9606168166</td>\n",
       "      <td>active</td>\n",
       "    </tr>\n",
       "  </tbody>\n",
       "</table>\n",
       "</div>"
      ],
      "text/plain": [
       "  Owner Mobile No. segments_vaco_mn\n",
       "0       9606168166           active"
      ]
     },
     "execution_count": 123,
     "metadata": {},
     "output_type": "execute_result"
    }
   ],
   "source": [
    "Vaco_RV_Q2_2022.head(1)"
   ]
  },
  {
   "cell_type": "code",
   "execution_count": 124,
   "id": "998178a4",
   "metadata": {},
   "outputs": [
    {
     "data": {
      "text/plain": [
       "(1892985, 2)"
      ]
     },
     "execution_count": 124,
     "metadata": {},
     "output_type": "execute_result"
    }
   ],
   "source": [
    "Vaco_RV_Q2_2022.shape"
   ]
  },
  {
   "cell_type": "markdown",
   "id": "e95b897c",
   "metadata": {},
   "source": [
    "### Dynamic Source Match"
   ]
  },
  {
   "cell_type": "code",
   "execution_count": 125,
   "id": "5f152375",
   "metadata": {
    "scrolled": true
   },
   "outputs": [],
   "source": [
    "Dynamic_source_aug_f = Dynamic_source_aug[['MerchantId', 'Objectives', 'IngestionStatus', 'Report Date', \n",
    "                                           'Ingestion Date', 'Revisit Expire Date']]"
   ]
  },
  {
   "cell_type": "code",
   "execution_count": 126,
   "id": "e80d1616",
   "metadata": {},
   "outputs": [],
   "source": [
    "Dynamic_source_aug_f.drop_duplicates(subset=['MerchantId'], keep='last', inplace=True)"
   ]
  },
  {
   "cell_type": "code",
   "execution_count": 127,
   "id": "7c944457",
   "metadata": {},
   "outputs": [],
   "source": [
    "Dynamic_source_aug_f.rename(columns={'MerchantId':'MerchantExternalId'}, inplace=True)"
   ]
  },
  {
   "cell_type": "code",
   "execution_count": 128,
   "id": "de46f969",
   "metadata": {},
   "outputs": [],
   "source": [
    "Dynamic_source_aug_f['Objectives'].replace('checkin-nob', \"Active\", inplace=True)\n",
    "Dynamic_source_aug_f['Objectives'].replace('inactive | stuck_settlements', 'inactive', inplace=True)\n",
    "Dynamic_source_aug_f['Objectives'].replace('support | stuck_settlements', 'support', inplace=True)\n",
    "Dynamic_source_aug_f['Objectives'].replace('stuck_settlements | inactive', 'inactive', inplace=True)\n",
    "Dynamic_source_aug_f['Objectives'].replace('stuck_settlements | active', 'active', inplace=True)\n",
    "Dynamic_source_aug_f['Objectives'].replace('stuck_settlements | support', 'support', inplace=True)\n",
    "Dynamic_source_aug_f['Objectives'].replace('P0 | active | checkin-nob', 'PO| active', inplace=True)\n",
    "Dynamic_source_aug_f['Objectives'].replace('active | stuck_settlements | P0', 'active|P0', inplace=True)\n",
    "Dynamic_source_aug_f['Objectives'].replace('active | P0 | checkin-nob', 'active|P0', inplace=True)\n",
    "Dynamic_source_aug_f['Objectives'].replace('active | stuck_settlements', 'active', inplace=True)\n",
    "Dynamic_source_aug_f['Objectives'].replace('checkin-nob | active | P0', 'active|P0', inplace=True)"
   ]
  },
  {
   "cell_type": "code",
   "execution_count": 129,
   "id": "fb71f316",
   "metadata": {},
   "outputs": [],
   "source": [
    "Dynamic_source_aug_f['Objectives'].replace('checkin-nob | P0 | active', 'PO| active', inplace=True)\n",
    "Dynamic_source_aug_f['Objectives'].replace('active | REVIEW_MERCHANT_EDIT', 'active', inplace=True)\n",
    "Dynamic_source_aug_f['Objectives'].replace('NULL', np.nan, inplace=True)\n",
    "Dynamic_source_aug_f['Objectives'].replace('REVIEW_MERCHANT_EDIT | inactive', 'inactive', inplace=True)\n",
    "Dynamic_source_aug_f['Objectives'].replace('P0 | checkin-nob | active', 'PO| active', inplace=True)\n",
    "Dynamic_source_aug_f['Objectives'].replace('REVIEW_MERCHANT_EDIT | active', 'active', inplace=True)\n",
    "Dynamic_source_aug_f['Objectives'].replace('stuck_settlements | active | P0', 'active|P0', inplace=True)\n",
    "Dynamic_source_aug_f['Objectives'].replace('checkin-nob | REVIEW_MERCHANT_EDIT', 'Revisit_Merchant_Edit', inplace=True)\n",
    "Dynamic_source_aug_f['Objectives'].replace('active | checkin-nob | P0', 'active|P0', inplace=True)\n",
    "Dynamic_source_aug_f['Objectives'].replace('inactive | REVIEW_MERCHANT_EDIT', 'inactive', inplace=True)\n",
    "Dynamic_source_aug_f['Objectives'].replace('P0 | REVIEW_MERCHANT_EDIT | active', 'PO| active', inplace=True)\n",
    "Dynamic_source_aug_f['Objectives'].replace('stuck_settlements | inactive | REVIEW_MERCHANT_EDIT', 'inactive', inplace=True)\n",
    "Dynamic_source_aug_f['Objectives'].replace('stuck_settlements | checkin-nob', 'stuck_settlements', inplace=True)"
   ]
  },
  {
   "cell_type": "code",
   "execution_count": 130,
   "id": "7c2f644e",
   "metadata": {},
   "outputs": [],
   "source": [
    "Dynamic_source_aug_f['Objectives'].replace('active | P0 | stuck_settlements', 'active|P0', inplace=True)\n",
    "Dynamic_source_aug_f['Objectives'].replace('active | P0 | REVIEW_MERCHANT_EDIT', 'active|P0', inplace=True)\n",
    "Dynamic_source_aug_f['Objectives'].replace('P0 | active | REVIEW_MERCHANT_EDIT', 'PO| active', inplace=True)\n",
    "Dynamic_source_aug_f['Objectives'].replace('stuck_settlements | P0 | active', 'PO| active', inplace=True)\n",
    "Dynamic_source_aug_f['Objectives'].replace('active | REVIEW_MERCHANT_EDIT | P0', 'active|P0', inplace=True)\n",
    "Dynamic_source_aug_f['Objectives'].replace('REVIEW_MERCHANT_EDIT | checkin-nob | active | P0', 'active|P0', inplace=True)\n",
    "Dynamic_source_aug_f['Objectives'].replace('stuck_settlements | credit', 'credit', inplace=True)\n",
    "Dynamic_source_aug_f['Objectives'].replace('credit | stuck_settlements', 'credit', inplace=True)\n",
    "Dynamic_source_aug_f['Objectives'].replace('REVIEW_MERCHANT_EDIT | P0 | active', 'active|P0', inplace=True)\n",
    "Dynamic_source_aug_f['Objectives'].replace('P0 | stuck_settlements | active', 'active|P0', inplace=True)\n",
    "Dynamic_source_aug_f['Objectives'].replace('REVIEW_MERCHANT_EDIT | stuck_settlements | support', 'Support', inplace=True)\n",
    "Dynamic_source_aug_f['Objectives'].replace('checkin-nob | P0 | active | REVIEW_MERCHANT_EDIT', 'active|P0', inplace=True)\n",
    "Dynamic_source_aug_f['Objectives'].replace('active | checkin-nob | stuck_settlements | P0', 'active|P0', inplace=True)\n",
    "Dynamic_source_aug_f['Objectives'].replace('P0 | REVIEW_MERCHANT_EDIT', 'Revisit_Merchant_Edit', inplace=True)"
   ]
  },
  {
   "cell_type": "code",
   "execution_count": 131,
   "id": "32da2715",
   "metadata": {},
   "outputs": [],
   "source": [
    "Dynamic_source_aug_f['Objectives'].replace('P0 | active | stuck_settlements', 'active|P0', inplace=True)\n",
    "Dynamic_source_aug_f['Objectives'].replace('REVIEW_MERCHANT_EDIT | stuck_settlements', 'Revisit_Merchant_Edit', inplace=True)\n",
    "Dynamic_source_aug_f['Objectives'].replace('stuck_settlements | REVIEW_MERCHANT_EDIT', 'Revisit_Merchant_Edit', inplace=True)\n",
    "Dynamic_source_aug_f['Objectives'].replace('REVIEW_MERCHANT_EDIT | P0', 'Revisit_Merchant_Edit', inplace=True)\n",
    "Dynamic_source_aug_f['Objectives'].replace('REVIEW_MERCHANT_EDIT | active | P0', 'active|P0', inplace=True)\n",
    "Dynamic_source_aug_f['Objectives'].replace('REVIEW_MERCHANT_EDIT | credit', 'credit', inplace=True)\n",
    "Dynamic_source_aug_f['Objectives'].replace('REVIEW_MERCHANT_EDIT | checkin-nob', 'Revisit_Merchant_Edit', inplace=True)\n",
    "Dynamic_source_aug_f['Objectives'].replace('active | credit | stuck_settlements', 'active|credit ', inplace=True)\n",
    "Dynamic_source_aug_f['Objectives'].replace('credit | active', 'credit | active', inplace=True)\n",
    "Dynamic_source_aug_f['Objectives'].replace('REVIEW_MERCHANT_EDIT | support | stuck_settlements', 'support', inplace=True)\n",
    "Dynamic_source_aug_f['Objectives'].replace('checkin-nob | stuck_settlements', 'stuck_settlements', inplace=True)\n",
    "Dynamic_source_aug_f['Objectives'].replace('active | stuck_settlements | credit', 'active|credit', inplace=True)"
   ]
  },
  {
   "cell_type": "code",
   "execution_count": 132,
   "id": "c3b8426d",
   "metadata": {},
   "outputs": [],
   "source": [
    "Dynamic_source_aug_f['Objectives'].replace('credit | REVIEW_MERCHANT_EDIT', 'credit', inplace=True)\n",
    "Dynamic_source_aug_f['Objectives'].replace('active | credit | REVIEW_MERCHANT_EDIT', 'active | credit', inplace=True)\n",
    "Dynamic_source_aug_f['Objectives'].replace('stuck_settlements | active | REVIEW_MERCHANT_EDIT', 'active', inplace=True)\n",
    "Dynamic_source_aug_f['Objectives'].replace('checkin-nob | active | REVIEW_MERCHANT_EDIT | P0', 'active|P0', inplace=True)\n",
    "Dynamic_source_aug_f['Objectives'].replace('active | REVIEW_MERCHANT_EDIT | credit', 'active|credit', inplace=True)\n",
    "Dynamic_source_aug_f['Objectives'].replace('stuck_settlements | REVIEW_MERCHANT_EDIT | active', 'active', inplace=True)\n",
    "Dynamic_source_aug_f['Objectives'].replace('REVIEW_MERCHANT_EDIT | checkin-nob | P0 | active', 'active|P0', inplace=True)\n",
    "Dynamic_source_aug_f['Objectives'].replace('REVIEW_MERCHANT_EDIT | active | credit', 'active|credit', inplace=True)\n",
    "Dynamic_source_aug_f['Objectives'].replace('active | stuck_settlements | REVIEW_MERCHANT_EDIT', 'active', inplace=True)\n",
    "Dynamic_source_aug_f['Objectives'].replace('inactive | stuck_settlements | REVIEW_MERCHANT_EDIT', 'inactive', inplace=True)\n",
    "Dynamic_source_aug_f['Objectives'].replace('REVIEW_MERCHANT_EDIT | active | stuck_settlements', 'active', inplace=True)\n",
    "Dynamic_source_aug_f['Objectives'].replace('stuck_settlements | active | REVIEW_MERCHANT_EDIT | P0', 'active|P0', inplace=True)\n",
    "Dynamic_source_aug_f['Objectives'].replace('REVIEW_MERCHANT_EDIT | P0 | active | checkin-nob', 'active|P0', inplace=True)\n",
    "Dynamic_source_aug_f['Objectives'].replace('credit | REVIEW_MERCHANT_EDIT | active', 'credit|active', inplace=True)"
   ]
  },
  {
   "cell_type": "code",
   "execution_count": 133,
   "id": "e098ea06",
   "metadata": {},
   "outputs": [],
   "source": [
    "Dynamic_source_aug_f['Objectives'].replace('stuck_settlements | support | REVIEW_MERCHANT_EDIT', 'support', inplace=True)\n",
    "Dynamic_source_aug_f['Objectives'].replace('REVIEW_MERCHANT_EDIT | active | checkin-nob | P0', 'active|P0', inplace=True)\n",
    "Dynamic_source_aug_f['Objectives'].replace('support | stuck_settlements | REVIEW_MERCHANT_EDIT', 'support', inplace=True)\n",
    "Dynamic_source_aug_f['Objectives'].replace('REVIEW_MERCHANT_EDIT | P0 | checkin-nob | active', 'active|P0', inplace=True)\n",
    "Dynamic_source_aug_f['Objectives'].replace('P0 | checkin-nob | REVIEW_MERCHANT_EDIT | active', 'active|P0', inplace=True)\n",
    "Dynamic_source_aug_f['Objectives'].replace('credit | active | REVIEW_MERCHANT_EDIT', 'credit|active', inplace=True)\n",
    "Dynamic_source_aug_f['Objectives'].replace('checkin-nob | P0 | REVIEW_MERCHANT_EDIT | active', 'active|P0', inplace=True)\n",
    "Dynamic_source_aug_f['Objectives'].replace('checkin-nob | active | P0 | stuck_settlements', 'active|P0', inplace=True)\n",
    "Dynamic_source_aug_f['Objectives'].replace('P0 | REVIEW_MERCHANT_EDIT | active | checkin-nob', 'active|P0', inplace=True)\n",
    "Dynamic_source_aug_f['Objectives'].replace('active | P0 | REVIEW_MERCHANT_EDIT | checkin-nob', 'active|P0', inplace=True)\n",
    "Dynamic_source_aug_f['Objectives'].replace('REVIEW_MERCHANT_EDIT | inactive | stuck_settlements', 'inactive', inplace=True)\n",
    "Dynamic_source_aug_f['Objectives'].replace('P0 | active | checkin-nob | REVIEW_MERCHANT_EDIT', 'active|P0', inplace=True)\n",
    "Dynamic_source_aug_f['Objectives'].replace('credit | checkin-nob', 'credit', inplace=True)"
   ]
  },
  {
   "cell_type": "code",
   "execution_count": 134,
   "id": "5dc88f84",
   "metadata": {},
   "outputs": [],
   "source": [
    "Dynamic_source_aug_f['Objectives'].replace('support | REVIEW_MERCHANT_EDIT', 'support', inplace=True)\n",
    "Dynamic_source_aug_f['Objectives'].replace('stuck_settlements | REVIEW_MERCHANT_EDIT | inactive', 'inactive', inplace=True)\n",
    "Dynamic_source_aug_f['Objectives'].replace('active | REVIEW_MERCHANT_EDIT | checkin-nob | P0', 'active|P0', inplace=True)\n",
    "Dynamic_source_aug_f['Objectives'].replace('active | REVIEW_MERCHANT_EDIT | stuck_settlements', 'active|P0', inplace=True)\n",
    "Dynamic_source_aug_f['Objectives'].replace('REVIEW_MERCHANT_EDIT | credit | active', 'credit|active', inplace=True)\n",
    "Dynamic_source_aug_f['Objectives'].replace('inactive | REVIEW_MERCHANT_EDIT | stuck_settlements', 'inactive', inplace=True)\n",
    "Dynamic_source_aug_f['Objectives'].replace('REVIEW_MERCHANT_EDIT | stuck_settlements | inactive', 'inactive', inplace=True)\n",
    "Dynamic_source_aug_f['Objectives'].replace('REVIEW_MERCHANT_EDIT | support', 'support', inplace=True)\n",
    "Dynamic_source_aug_f['Objectives'].replace('checkin-nob | REVIEW_MERCHANT_EDIT | P0 | active', 'active|P0', inplace=True)\n",
    "Dynamic_source_aug_f['Objectives'].replace('P0 | REVIEW_MERCHANT_EDIT | stuck_settlements', 'P0|stuck_settlements', inplace=True)\n",
    "Dynamic_source_aug_f['Objectives'].replace('REVIEW_MERCHANT_EDIT | stuck_settlements | active', 'active', inplace=True)\n",
    "Dynamic_source_aug_f['Objectives'].replace('stuck_settlements | REVIEW_MERCHANT_EDIT | support', 'support', inplace=True)"
   ]
  },
  {
   "cell_type": "code",
   "execution_count": 135,
   "id": "d61744f4",
   "metadata": {},
   "outputs": [
    {
     "data": {
      "text/plain": [
       "array(['Active', 'inactive', 'support', 'active', 'REVIEW_MERCHANT_EDIT',\n",
       "       'PO| active', 'active|P0', 'stuck_settlements', nan,\n",
       "       'stuck_settlements | P0', 'P0 | stuck_settlements', 'P0 | active',\n",
       "       'credit', 'Support', 'Revisit_Merchant_Edit', 'active | P0',\n",
       "       'credit | active', 'active|credit', 'active | credit', 'P0',\n",
       "       'active|credit ', 'credit|active',\n",
       "       'P0 | stuck_settlements | checkin-nob | active', 'P0|Inactive',\n",
       "       'P0 | inactive | REVIEW_MERCHANT_EDIT', 'inactive | P0',\n",
       "       'P0 | inactive', 'REVIEW_MERCHANT_EDIT | P0 | inactive',\n",
       "       'P0 | REVIEW_MERCHANT_EDIT | inactive', 'inactive | checkin-nob',\n",
       "       'checkin-nob | inactive', 'credit | inactive',\n",
       "       'inactive | support', 'P0 | inactive | checkin-nob', 'credit | P0',\n",
       "       'inactive | credit', 'inactive | P0 | checkin-nob',\n",
       "       'support | inactive', 'P0 | checkin-nob | inactive',\n",
       "       'stuck_settlements | P0 | inactive', 'inactive | checkin-nob | P0',\n",
       "       'inactive | credit | REVIEW_MERCHANT_EDIT',\n",
       "       'REVIEW_MERCHANT_EDIT | inactive | P0', 'P0 | credit',\n",
       "       'checkin-nob | P0 | inactive', 'checkin-nob | inactive | P0',\n",
       "       'inactive | P0 | REVIEW_MERCHANT_EDIT',\n",
       "       'inactive | REVIEW_MERCHANT_EDIT | checkin-nob',\n",
       "       'inactive | stuck_settlements | P0',\n",
       "       'stuck_settlements | inactive | P0', 'inactive | credit | P0',\n",
       "       'P0 | credit | inactive',\n",
       "       'REVIEW_MERCHANT_EDIT | P0 | inactive | checkin-nob',\n",
       "       'P0 | inactive | credit', 'checkin-nob | P0',\n",
       "       'inactive | P0 | stuck_settlements',\n",
       "       'support | inactive | stuck_settlements', 'inactive | P0 | credit',\n",
       "       'REVIEW_MERCHANT_EDIT | inactive | support',\n",
       "       'inactive | REVIEW_MERCHANT_EDIT | P0',\n",
       "       'P0 | stuck_settlements | inactive',\n",
       "       'P0 | inactive | REVIEW_MERCHANT_EDIT | checkin-nob',\n",
       "       'credit | P0 | inactive',\n",
       "       'REVIEW_MERCHANT_EDIT | credit | inactive',\n",
       "       'credit | inactive | REVIEW_MERCHANT_EDIT',\n",
       "       'credit | REVIEW_MERCHANT_EDIT | inactive',\n",
       "       'checkin-nob | REVIEW_MERCHANT_EDIT | inactive',\n",
       "       'support | REVIEW_MERCHANT_EDIT | stuck_settlements',\n",
       "       'checkin-nob | inactive | REVIEW_MERCHANT_EDIT',\n",
       "       'P0 | inactive | stuck_settlements',\n",
       "       'REVIEW_MERCHANT_EDIT | checkin-nob | inactive',\n",
       "       'inactive | REVIEW_MERCHANT_EDIT | P0 | credit',\n",
       "       'inactive | REVIEW_MERCHANT_EDIT | credit',\n",
       "       'REVIEW_MERCHANT_EDIT | inactive | checkin-nob | P0',\n",
       "       'inactive | stuck_settlements | P0 | support', 'P0 | checkin-nob',\n",
       "       'checkin-nob | inactive | stuck_settlements',\n",
       "       'P0 | REVIEW_MERCHANT_EDIT | checkin-nob | inactive',\n",
       "       'stuck_settlements | inactive | support', 'support | P0',\n",
       "       'inactive | checkin-nob | REVIEW_MERCHANT_EDIT',\n",
       "       'inactive | stuck_settlements | support',\n",
       "       'REVIEW_MERCHANT_EDIT | inactive | credit',\n",
       "       'REVIEW_MERCHANT_EDIT | active | P0 | checkin-nob',\n",
       "       'Inactive - INR 40 Extra Pay on Txn', 'P0 | support',\n",
       "       'checkin-nob | active | P0 | REVIEW_MERCHANT_EDIT',\n",
       "       'P0 | checkin-nob | REVIEW_MERCHANT_EDIT',\n",
       "       'checkin-nob | P0 | REVIEW_MERCHANT_EDIT', 'Null',\n",
       "       'Review_Merchant_Edit', 'Review_Merchant_Edit | P0 | Active',\n",
       "       'P0 | Active', 'Review_Merchant_Edit | Active',\n",
       "       'Stuck_Settlements', 'Stuck_Settlements | Active',\n",
       "       'Active | Review_Merchant_Edit', 'Stuck_Settlements | Credit',\n",
       "       'P0 | Credit', 'P0 | Active | Review_Merchant_Edit',\n",
       "       'P0 | Checkin-Nob', 'Checkin-Nob', 'P0 | Review_Merchant_Edit',\n",
       "       'Review_Merchant_Edit | P0', 'Credit | P0', 'Active | P0',\n",
       "       'Checkin-Nob | P0', 'P0 | Stuck_Settlements',\n",
       "       'Active | Review_Merchant_Edit | P0',\n",
       "       'Review_Merchant_Edit | Checkin-Nob',\n",
       "       'P0 | Stuck_Settlements | Active', 'Active | Stuck_Settlements',\n",
       "       'Stuck_Settlements | P0', 'Stuck_Settlements | P0 | Active',\n",
       "       'Credit', 'Active | P0 | Review_Merchant_Edit',\n",
       "       'Review_Merchant_Edit | Active | Stuck_Settlements',\n",
       "       'Review_Merchant_Edit | Active | P0',\n",
       "       'P0 | Review_Merchant_Edit | Active',\n",
       "       'Review_Merchant_Edit | Stuck_Settlements',\n",
       "       'Review_Merchant_Edit | Support',\n",
       "       'Active | Review_Merchant_Edit | Credit',\n",
       "       'Checkin-Nob | Review_Merchant_Edit',\n",
       "       'Active | Credit | Review_Merchant_Edit',\n",
       "       'Support | Stuck_Settlements', 'Active | P0 | Stuck_Settlements',\n",
       "       'Stuck_Settlements | Support', 'Active | Checkin-Nob | P0',\n",
       "       'Review_Merchant_Edit | Credit',\n",
       "       'Review_Merchant_Edit | Support | Stuck_Settlements',\n",
       "       'Active | Stuck_Settlements | P0', 'Credit | Review_Merchant_Edit',\n",
       "       'Active | Stuck_Settlements | Review_Merchant_Edit',\n",
       "       'Active | Review_Merchant_Edit | Checkin-Nob | P0',\n",
       "       'Stuck_Settlements | Active | P0',\n",
       "       'Credit | Review_Merchant_Edit | Active',\n",
       "       'P0 | Active | Review_Merchant_Edit | Checkin-Nob',\n",
       "       'Stuck_Settlements | Support | Review_Merchant_Edit',\n",
       "       'Review_Merchant_Edit | Stuck_Settlements | Active'], dtype=object)"
      ]
     },
     "execution_count": 135,
     "metadata": {},
     "output_type": "execute_result"
    }
   ],
   "source": [
    "Dynamic_source_aug_f['Objectives'].unique()"
   ]
  },
  {
   "cell_type": "code",
   "execution_count": 136,
   "id": "46d5b8b0",
   "metadata": {},
   "outputs": [],
   "source": [
    "Dynamic_source_aug_f['Objectives'] = Dynamic_source_aug_f['Objectives'].str.lower()"
   ]
  },
  {
   "cell_type": "code",
   "execution_count": 137,
   "id": "aff80aba",
   "metadata": {},
   "outputs": [],
   "source": [
    "Dynamic_source_aug_f.to_csv('test.csv', index=False)"
   ]
  },
  {
   "cell_type": "code",
   "execution_count": 138,
   "id": "34ae8746",
   "metadata": {},
   "outputs": [],
   "source": [
    "Dynamic_source_aug_f.rename(columns={'Objectives':'Segments'}, inplace=True)"
   ]
  },
  {
   "cell_type": "code",
   "execution_count": 139,
   "id": "df3754ca",
   "metadata": {},
   "outputs": [],
   "source": [
    "target_file_dynamic_match = target_file.merge(\n",
    "    Dynamic_source_aug_f, on='MerchantExternalId', how='left', indicator=True)"
   ]
  },
  {
   "cell_type": "code",
   "execution_count": 140,
   "id": "d9b4a738",
   "metadata": {},
   "outputs": [],
   "source": [
    "target_file_dynamic_match.drop_duplicates(subset=['Primary_key'], inplace=True)"
   ]
  },
  {
   "cell_type": "code",
   "execution_count": 141,
   "id": "be1edc64",
   "metadata": {},
   "outputs": [],
   "source": [
    "target_file_dynamic_match.rename(columns={'_merge':'Is in Dynamic Source?'}, inplace=True)"
   ]
  },
  {
   "cell_type": "code",
   "execution_count": 142,
   "id": "8a685116",
   "metadata": {},
   "outputs": [],
   "source": [
    "target_file_dynamic_match['Is in Dynamic Source?'] = target_file_dynamic_match[\n",
    "    'Is in Dynamic Source?'].map({\"left_only\":\"No Match\", \"right_only\":'No Match', 'both':'Match'})"
   ]
  },
  {
   "cell_type": "code",
   "execution_count": 143,
   "id": "c8063dc5",
   "metadata": {},
   "outputs": [],
   "source": [
    "target_file_dynamic_match[\"Dynamic Validity\"] = target_file_dynamic_match[\n",
    "    'Is in Dynamic Source?'].map({'Match':\"VALID\", \"No Match\":np.nan})"
   ]
  },
  {
   "cell_type": "code",
   "execution_count": 144,
   "id": "08bb0456",
   "metadata": {},
   "outputs": [],
   "source": [
    "target_file_dynamic_match['Is in Dynamic Source?_Final'] = target_file_dynamic_match['Is in Dynamic Source?']"
   ]
  },
  {
   "cell_type": "markdown",
   "id": "7a1e5ae0",
   "metadata": {},
   "source": [
    "# Is in Dynamic Source Visit Date Valid?"
   ]
  },
  {
   "cell_type": "code",
   "execution_count": 145,
   "id": "6d09e242",
   "metadata": {
    "scrolled": true
   },
   "outputs": [
    {
     "data": {
      "text/html": [
       "<div>\n",
       "<style scoped>\n",
       "    .dataframe tbody tr th:only-of-type {\n",
       "        vertical-align: middle;\n",
       "    }\n",
       "\n",
       "    .dataframe tbody tr th {\n",
       "        vertical-align: top;\n",
       "    }\n",
       "\n",
       "    .dataframe thead th {\n",
       "        text-align: right;\n",
       "    }\n",
       "</style>\n",
       "<table border=\"1\" class=\"dataframe\">\n",
       "  <thead>\n",
       "    <tr style=\"text-align: right;\">\n",
       "      <th></th>\n",
       "      <th>MerchantExternalId</th>\n",
       "      <th>StorePhoneNumber</th>\n",
       "      <th>Revisit Date</th>\n",
       "      <th>Primary_key</th>\n",
       "      <th>Segments</th>\n",
       "      <th>IngestionStatus</th>\n",
       "      <th>Report Date</th>\n",
       "      <th>Ingestion Date</th>\n",
       "      <th>Revisit Expire Date</th>\n",
       "      <th>Is in Dynamic Source?</th>\n",
       "      <th>Dynamic Validity</th>\n",
       "      <th>Is in Dynamic Source?_Final</th>\n",
       "    </tr>\n",
       "  </thead>\n",
       "  <tbody>\n",
       "    <tr>\n",
       "      <th>0</th>\n",
       "      <td>BCR2DN4T2C5JLEID</td>\n",
       "      <td>9822959713</td>\n",
       "      <td>11/10/2022 18:33:47</td>\n",
       "      <td>1</td>\n",
       "      <td>inactive - inr 40 extra pay on txn</td>\n",
       "      <td>ADD</td>\n",
       "      <td>4-Nov-2022</td>\n",
       "      <td>4-Nov-2022</td>\n",
       "      <td>NaN</td>\n",
       "      <td>Match</td>\n",
       "      <td>VALID</td>\n",
       "      <td>Match</td>\n",
       "    </tr>\n",
       "  </tbody>\n",
       "</table>\n",
       "</div>"
      ],
      "text/plain": [
       "  MerchantExternalId  StorePhoneNumber         Revisit Date  Primary_key  \\\n",
       "0   BCR2DN4T2C5JLEID        9822959713  11/10/2022 18:33:47            1   \n",
       "\n",
       "                             Segments IngestionStatus Report Date  \\\n",
       "0  inactive - inr 40 extra pay on txn             ADD  4-Nov-2022   \n",
       "\n",
       "  Ingestion Date Revisit Expire Date Is in Dynamic Source? Dynamic Validity  \\\n",
       "0     4-Nov-2022                 NaN                 Match            VALID   \n",
       "\n",
       "  Is in Dynamic Source?_Final  \n",
       "0                       Match  "
      ]
     },
     "execution_count": 145,
     "metadata": {},
     "output_type": "execute_result"
    }
   ],
   "source": [
    "target_file_dynamic_match.head(1)"
   ]
  },
  {
   "cell_type": "code",
   "execution_count": 146,
   "id": "fe1d2947",
   "metadata": {},
   "outputs": [],
   "source": [
    "target_file_dynamic_match_f = target_file_dynamic_match[['Primary_key', 'IngestionStatus' ,'Revisit Date', \n",
    "                                                         'Revisit Expire Date']]"
   ]
  },
  {
   "cell_type": "code",
   "execution_count": 147,
   "id": "a12daec7",
   "metadata": {},
   "outputs": [],
   "source": [
    "target_file_dynamic_match_f['Revisit Expire Date'] = pd.to_datetime(target_file_dynamic_match_f[\n",
    "    'Revisit Expire Date'])\n",
    "target_file_dynamic_match_f['Revisit Date'] = pd.to_datetime(target_file_dynamic_match_f[\n",
    "    'Revisit Date'])"
   ]
  },
  {
   "cell_type": "code",
   "execution_count": 148,
   "id": "2deaaa71",
   "metadata": {},
   "outputs": [],
   "source": [
    "target_file_dynamic_match_f['Revisit Expire Date'] = target_file_dynamic_match_f[\n",
    "    'Revisit Expire Date'].dt.strftime('%Y/%m/%d')\n",
    "target_file_dynamic_match_f['Revisit Date'] = target_file_dynamic_match_f[\n",
    "    'Revisit Date'].dt.strftime('%Y/%m/%d')"
   ]
  },
  {
   "cell_type": "code",
   "execution_count": 149,
   "id": "4eacae9f",
   "metadata": {},
   "outputs": [],
   "source": [
    "target_file_dynamic_match_f_del = target_file_dynamic_match_f[target_file_dynamic_match_f[\n",
    "    'IngestionStatus'].isin([\"DELETE\"])]"
   ]
  },
  {
   "cell_type": "code",
   "execution_count": 150,
   "id": "74fabf64",
   "metadata": {
    "scrolled": false
   },
   "outputs": [
    {
     "data": {
      "text/html": [
       "<div>\n",
       "<style scoped>\n",
       "    .dataframe tbody tr th:only-of-type {\n",
       "        vertical-align: middle;\n",
       "    }\n",
       "\n",
       "    .dataframe tbody tr th {\n",
       "        vertical-align: top;\n",
       "    }\n",
       "\n",
       "    .dataframe thead th {\n",
       "        text-align: right;\n",
       "    }\n",
       "</style>\n",
       "<table border=\"1\" class=\"dataframe\">\n",
       "  <thead>\n",
       "    <tr style=\"text-align: right;\">\n",
       "      <th></th>\n",
       "      <th>Primary_key</th>\n",
       "      <th>IngestionStatus</th>\n",
       "      <th>Revisit Date</th>\n",
       "      <th>Revisit Expire Date</th>\n",
       "    </tr>\n",
       "  </thead>\n",
       "  <tbody>\n",
       "    <tr>\n",
       "      <th>4788</th>\n",
       "      <td>4789</td>\n",
       "      <td>DELETE</td>\n",
       "      <td>2022/11/10</td>\n",
       "      <td>2022/10/07</td>\n",
       "    </tr>\n",
       "  </tbody>\n",
       "</table>\n",
       "</div>"
      ],
      "text/plain": [
       "      Primary_key IngestionStatus Revisit Date Revisit Expire Date\n",
       "4788         4789          DELETE   2022/11/10          2022/10/07"
      ]
     },
     "execution_count": 150,
     "metadata": {},
     "output_type": "execute_result"
    }
   ],
   "source": [
    "target_file_dynamic_match_f_del.head(1)"
   ]
  },
  {
   "cell_type": "code",
   "execution_count": 151,
   "id": "d2639497",
   "metadata": {
    "scrolled": false
   },
   "outputs": [
    {
     "data": {
      "text/plain": [
       "(13, 4)"
      ]
     },
     "execution_count": 151,
     "metadata": {},
     "output_type": "execute_result"
    }
   ],
   "source": [
    "target_file_dynamic_match_f_del.shape"
   ]
  },
  {
   "cell_type": "markdown",
   "id": "337ef30f",
   "metadata": {},
   "source": [
    "# Check wheather the TaskSubmissionTimestamp > Revisit Expire Date"
   ]
  },
  {
   "cell_type": "code",
   "execution_count": 152,
   "id": "08ffddf5",
   "metadata": {},
   "outputs": [],
   "source": [
    "target_file_dynamic_match_f_del['Match_if_ED<RD'] = target_file_dynamic_match_f_del[\n",
    "    'Revisit Expire Date'] >= target_file_dynamic_match_f_del['Revisit Date']"
   ]
  },
  {
   "cell_type": "code",
   "execution_count": 153,
   "id": "0b4a727c",
   "metadata": {
    "scrolled": true
   },
   "outputs": [],
   "source": [
    "target_file_dynamic_match_f_del['Match_if_ED<RD'].replace(True,\"VALID\", inplace=True)"
   ]
  },
  {
   "cell_type": "code",
   "execution_count": 154,
   "id": "eba4239e",
   "metadata": {},
   "outputs": [],
   "source": [
    "target_file_dynamic_match_f_del['Match_if_ED<RD'].replace(False,\"INVALID\", inplace=True)"
   ]
  },
  {
   "cell_type": "code",
   "execution_count": 155,
   "id": "526723ed",
   "metadata": {},
   "outputs": [],
   "source": [
    "target_file_dynamic_match_f_del['Match_Dynamic_Validity'] = target_file_dynamic_match_f_del['Match_if_ED<RD']"
   ]
  },
  {
   "cell_type": "code",
   "execution_count": 156,
   "id": "dedb9d8b",
   "metadata": {},
   "outputs": [],
   "source": [
    "target_file_dynamic_match_f_del2 = target_file_dynamic_match_f_del[['Primary_key', 'Match_Dynamic_Validity']]"
   ]
  },
  {
   "cell_type": "code",
   "execution_count": 157,
   "id": "95c76032",
   "metadata": {},
   "outputs": [],
   "source": [
    "target_file_dynamic_match_merge = target_file_dynamic_match.merge(\n",
    "    target_file_dynamic_match_f_del2, on='Primary_key', how='left')"
   ]
  },
  {
   "cell_type": "code",
   "execution_count": 158,
   "id": "528cb260",
   "metadata": {},
   "outputs": [],
   "source": [
    "target_file_dynamic_match_merge.drop_duplicates(subset=['Primary_key'], inplace=True)"
   ]
  },
  {
   "cell_type": "code",
   "execution_count": 159,
   "id": "3a4b02d7",
   "metadata": {
    "scrolled": false
   },
   "outputs": [
    {
     "data": {
      "text/html": [
       "<div>\n",
       "<style scoped>\n",
       "    .dataframe tbody tr th:only-of-type {\n",
       "        vertical-align: middle;\n",
       "    }\n",
       "\n",
       "    .dataframe tbody tr th {\n",
       "        vertical-align: top;\n",
       "    }\n",
       "\n",
       "    .dataframe thead th {\n",
       "        text-align: right;\n",
       "    }\n",
       "</style>\n",
       "<table border=\"1\" class=\"dataframe\">\n",
       "  <thead>\n",
       "    <tr style=\"text-align: right;\">\n",
       "      <th></th>\n",
       "      <th>MerchantExternalId</th>\n",
       "      <th>StorePhoneNumber</th>\n",
       "      <th>Revisit Date</th>\n",
       "      <th>Primary_key</th>\n",
       "      <th>Segments</th>\n",
       "      <th>IngestionStatus</th>\n",
       "      <th>Report Date</th>\n",
       "      <th>Ingestion Date</th>\n",
       "      <th>Revisit Expire Date</th>\n",
       "      <th>Is in Dynamic Source?</th>\n",
       "      <th>Dynamic Validity</th>\n",
       "      <th>Is in Dynamic Source?_Final</th>\n",
       "      <th>Match_Dynamic_Validity</th>\n",
       "    </tr>\n",
       "  </thead>\n",
       "  <tbody>\n",
       "    <tr>\n",
       "      <th>0</th>\n",
       "      <td>BCR2DN4T2C5JLEID</td>\n",
       "      <td>9822959713</td>\n",
       "      <td>11/10/2022 18:33:47</td>\n",
       "      <td>1</td>\n",
       "      <td>inactive - inr 40 extra pay on txn</td>\n",
       "      <td>ADD</td>\n",
       "      <td>4-Nov-2022</td>\n",
       "      <td>4-Nov-2022</td>\n",
       "      <td>NaN</td>\n",
       "      <td>Match</td>\n",
       "      <td>VALID</td>\n",
       "      <td>Match</td>\n",
       "      <td>NaN</td>\n",
       "    </tr>\n",
       "  </tbody>\n",
       "</table>\n",
       "</div>"
      ],
      "text/plain": [
       "  MerchantExternalId  StorePhoneNumber         Revisit Date  Primary_key  \\\n",
       "0   BCR2DN4T2C5JLEID        9822959713  11/10/2022 18:33:47            1   \n",
       "\n",
       "                             Segments IngestionStatus Report Date  \\\n",
       "0  inactive - inr 40 extra pay on txn             ADD  4-Nov-2022   \n",
       "\n",
       "  Ingestion Date Revisit Expire Date Is in Dynamic Source? Dynamic Validity  \\\n",
       "0     4-Nov-2022                 NaN                 Match            VALID   \n",
       "\n",
       "  Is in Dynamic Source?_Final Match_Dynamic_Validity  \n",
       "0                       Match                    NaN  "
      ]
     },
     "execution_count": 159,
     "metadata": {},
     "output_type": "execute_result"
    }
   ],
   "source": [
    "target_file_dynamic_match_merge.head(1)"
   ]
  },
  {
   "cell_type": "code",
   "execution_count": 160,
   "id": "930cd3e5",
   "metadata": {},
   "outputs": [],
   "source": [
    "target_file_dynamic_match_merge['Check_Delete_validity'] = target_file_dynamic_match_merge[\n",
    "    'Match_Dynamic_Validity'].str.contains(pat='INVALID')"
   ]
  },
  {
   "cell_type": "code",
   "execution_count": 161,
   "id": "3d827cda",
   "metadata": {},
   "outputs": [],
   "source": [
    "target_file_dynamic_match_merge['Check_Delete_validity'].replace(True, \"No Match Dynamic\", inplace=True)\n",
    "target_file_dynamic_match_merge['Check_Delete_validity'].replace(False, \"Match\", inplace=True)"
   ]
  },
  {
   "cell_type": "code",
   "execution_count": 162,
   "id": "5f430b62",
   "metadata": {},
   "outputs": [],
   "source": [
    "target_file_dynamic_match_merge['Match_Dynamic_Validity'].fillna(target_file_dynamic_match_merge[\n",
    "    'Dynamic Validity'], inplace=True)"
   ]
  },
  {
   "cell_type": "code",
   "execution_count": 163,
   "id": "0992d0e0",
   "metadata": {},
   "outputs": [],
   "source": [
    "target_file_dynamic_match_merge.drop(['Dynamic Validity'], axis=1, inplace=True)"
   ]
  },
  {
   "cell_type": "code",
   "execution_count": 164,
   "id": "5f7f27a9",
   "metadata": {},
   "outputs": [],
   "source": [
    "target_file_dynamic_match_merge['Check_Delete_validity'].fillna(target_file_dynamic_match_merge[\n",
    "    'Is in Dynamic Source?'], inplace=True)"
   ]
  },
  {
   "cell_type": "code",
   "execution_count": 165,
   "id": "893740c9",
   "metadata": {},
   "outputs": [],
   "source": [
    "target_file_dynamic_match_merge.drop(['Is in Dynamic Source?'], axis=1, inplace=True)"
   ]
  },
  {
   "cell_type": "code",
   "execution_count": 166,
   "id": "136a885c",
   "metadata": {},
   "outputs": [],
   "source": [
    "target_file_dynamic_match_merge.rename(columns={\"Match_Dynamic_Validity\":\"Is the Dynamic Match Valid?\", \n",
    "                                               \"Check_Delete_validity\":\"Is in Dynamic Source?\"}, inplace=True)"
   ]
  },
  {
   "cell_type": "code",
   "execution_count": 167,
   "id": "4e187ae9",
   "metadata": {},
   "outputs": [],
   "source": [
    "target_file_dynamic_match_merge.drop(['Is in Dynamic Source?_Final'], axis = 1, inplace=True)"
   ]
  },
  {
   "cell_type": "code",
   "execution_count": 168,
   "id": "10371ab3",
   "metadata": {},
   "outputs": [],
   "source": [
    "target_file_dynamic_match_merge['Is in Dynamic Source?_Final'] = target_file_dynamic_match_merge[\n",
    "    'Is in Dynamic Source?']"
   ]
  },
  {
   "cell_type": "markdown",
   "id": "bccb071c",
   "metadata": {},
   "source": [
    "# Update the empty segment with the q2 Segment"
   ]
  },
  {
   "cell_type": "code",
   "execution_count": 169,
   "id": "096526cd",
   "metadata": {
    "scrolled": false
   },
   "outputs": [
    {
     "data": {
      "text/html": [
       "<div>\n",
       "<style scoped>\n",
       "    .dataframe tbody tr th:only-of-type {\n",
       "        vertical-align: middle;\n",
       "    }\n",
       "\n",
       "    .dataframe tbody tr th {\n",
       "        vertical-align: top;\n",
       "    }\n",
       "\n",
       "    .dataframe thead th {\n",
       "        text-align: right;\n",
       "    }\n",
       "</style>\n",
       "<table border=\"1\" class=\"dataframe\">\n",
       "  <thead>\n",
       "    <tr style=\"text-align: right;\">\n",
       "      <th></th>\n",
       "      <th>MerchantExternalId</th>\n",
       "      <th>StorePhoneNumber</th>\n",
       "      <th>Revisit Date</th>\n",
       "      <th>Primary_key</th>\n",
       "      <th>Segments</th>\n",
       "      <th>IngestionStatus</th>\n",
       "      <th>Report Date</th>\n",
       "      <th>Ingestion Date</th>\n",
       "      <th>Revisit Expire Date</th>\n",
       "      <th>Is the Dynamic Match Valid?</th>\n",
       "      <th>Is in Dynamic Source?</th>\n",
       "      <th>Is in Dynamic Source?_Final</th>\n",
       "    </tr>\n",
       "  </thead>\n",
       "  <tbody>\n",
       "    <tr>\n",
       "      <th>0</th>\n",
       "      <td>BCR2DN4T2C5JLEID</td>\n",
       "      <td>9822959713</td>\n",
       "      <td>11/10/2022 18:33:47</td>\n",
       "      <td>1</td>\n",
       "      <td>inactive - inr 40 extra pay on txn</td>\n",
       "      <td>ADD</td>\n",
       "      <td>4-Nov-2022</td>\n",
       "      <td>4-Nov-2022</td>\n",
       "      <td>NaN</td>\n",
       "      <td>VALID</td>\n",
       "      <td>Match</td>\n",
       "      <td>Match</td>\n",
       "    </tr>\n",
       "  </tbody>\n",
       "</table>\n",
       "</div>"
      ],
      "text/plain": [
       "  MerchantExternalId  StorePhoneNumber         Revisit Date  Primary_key  \\\n",
       "0   BCR2DN4T2C5JLEID        9822959713  11/10/2022 18:33:47            1   \n",
       "\n",
       "                             Segments IngestionStatus Report Date  \\\n",
       "0  inactive - inr 40 extra pay on txn             ADD  4-Nov-2022   \n",
       "\n",
       "  Ingestion Date Revisit Expire Date Is the Dynamic Match Valid?  \\\n",
       "0     4-Nov-2022                 NaN                       VALID   \n",
       "\n",
       "  Is in Dynamic Source? Is in Dynamic Source?_Final  \n",
       "0                 Match                       Match  "
      ]
     },
     "execution_count": 169,
     "metadata": {},
     "output_type": "execute_result"
    }
   ],
   "source": [
    "target_file_dynamic_match_merge.head(1)"
   ]
  },
  {
   "cell_type": "code",
   "execution_count": 170,
   "id": "b92e4bda",
   "metadata": {},
   "outputs": [
    {
     "data": {
      "text/html": [
       "<div>\n",
       "<style scoped>\n",
       "    .dataframe tbody tr th:only-of-type {\n",
       "        vertical-align: middle;\n",
       "    }\n",
       "\n",
       "    .dataframe tbody tr th {\n",
       "        vertical-align: top;\n",
       "    }\n",
       "\n",
       "    .dataframe thead th {\n",
       "        text-align: right;\n",
       "    }\n",
       "</style>\n",
       "<table border=\"1\" class=\"dataframe\">\n",
       "  <thead>\n",
       "    <tr style=\"text-align: right;\">\n",
       "      <th></th>\n",
       "      <th>Merchant Ext ID</th>\n",
       "      <th>Phone Number</th>\n",
       "      <th>segments</th>\n",
       "    </tr>\n",
       "  </thead>\n",
       "  <tbody>\n",
       "    <tr>\n",
       "      <th>0</th>\n",
       "      <td>BCR2DN4T3C22BC37</td>\n",
       "      <td>9930944765</td>\n",
       "      <td>active</td>\n",
       "    </tr>\n",
       "  </tbody>\n",
       "</table>\n",
       "</div>"
      ],
      "text/plain": [
       "    Merchant Ext ID Phone Number segments\n",
       "0  BCR2DN4T3C22BC37   9930944765   active"
      ]
     },
     "execution_count": 170,
     "metadata": {},
     "output_type": "execute_result"
    }
   ],
   "source": [
    "Source_data_Q2_2022.head(1)"
   ]
  },
  {
   "cell_type": "code",
   "execution_count": 171,
   "id": "8e302344",
   "metadata": {},
   "outputs": [],
   "source": [
    "target_file_dynamic_match_merge_f = target_file_dynamic_match_merge[['StorePhoneNumber', 'MerchantExternalId', \n",
    "                                                                     'IngestionStatus', 'Is in Dynamic Source?',\n",
    "                                                                    'Segments', 'Primary_key']]"
   ]
  },
  {
   "cell_type": "code",
   "execution_count": 172,
   "id": "65ff7f22",
   "metadata": {},
   "outputs": [
    {
     "data": {
      "text/html": [
       "<div>\n",
       "<style scoped>\n",
       "    .dataframe tbody tr th:only-of-type {\n",
       "        vertical-align: middle;\n",
       "    }\n",
       "\n",
       "    .dataframe tbody tr th {\n",
       "        vertical-align: top;\n",
       "    }\n",
       "\n",
       "    .dataframe thead th {\n",
       "        text-align: right;\n",
       "    }\n",
       "</style>\n",
       "<table border=\"1\" class=\"dataframe\">\n",
       "  <thead>\n",
       "    <tr style=\"text-align: right;\">\n",
       "      <th></th>\n",
       "      <th>StorePhoneNumber</th>\n",
       "      <th>MerchantExternalId</th>\n",
       "      <th>IngestionStatus</th>\n",
       "      <th>Is in Dynamic Source?</th>\n",
       "      <th>Segments</th>\n",
       "      <th>Primary_key</th>\n",
       "    </tr>\n",
       "  </thead>\n",
       "  <tbody>\n",
       "    <tr>\n",
       "      <th>0</th>\n",
       "      <td>9822959713</td>\n",
       "      <td>BCR2DN4T2C5JLEID</td>\n",
       "      <td>ADD</td>\n",
       "      <td>Match</td>\n",
       "      <td>inactive - inr 40 extra pay on txn</td>\n",
       "      <td>1</td>\n",
       "    </tr>\n",
       "  </tbody>\n",
       "</table>\n",
       "</div>"
      ],
      "text/plain": [
       "   StorePhoneNumber MerchantExternalId IngestionStatus Is in Dynamic Source?  \\\n",
       "0        9822959713   BCR2DN4T2C5JLEID             ADD                 Match   \n",
       "\n",
       "                             Segments  Primary_key  \n",
       "0  inactive - inr 40 extra pay on txn            1  "
      ]
     },
     "execution_count": 172,
     "metadata": {},
     "output_type": "execute_result"
    }
   ],
   "source": [
    "target_file_dynamic_match_merge_f.head(1)"
   ]
  },
  {
   "cell_type": "code",
   "execution_count": 173,
   "id": "60c85b55",
   "metadata": {},
   "outputs": [],
   "source": [
    "target_file_dynamic_match_merge_f2 = target_file_dynamic_match_merge_f[~target_file_dynamic_match_merge_f[\n",
    "    \"IngestionStatus\"].isin([np.nan])]"
   ]
  },
  {
   "cell_type": "code",
   "execution_count": 174,
   "id": "eb4be901",
   "metadata": {},
   "outputs": [
    {
     "data": {
      "text/html": [
       "<div>\n",
       "<style scoped>\n",
       "    .dataframe tbody tr th:only-of-type {\n",
       "        vertical-align: middle;\n",
       "    }\n",
       "\n",
       "    .dataframe tbody tr th {\n",
       "        vertical-align: top;\n",
       "    }\n",
       "\n",
       "    .dataframe thead th {\n",
       "        text-align: right;\n",
       "    }\n",
       "</style>\n",
       "<table border=\"1\" class=\"dataframe\">\n",
       "  <thead>\n",
       "    <tr style=\"text-align: right;\">\n",
       "      <th></th>\n",
       "      <th>StorePhoneNumber</th>\n",
       "      <th>MerchantExternalId</th>\n",
       "      <th>IngestionStatus</th>\n",
       "      <th>Is in Dynamic Source?</th>\n",
       "      <th>Segments</th>\n",
       "      <th>Primary_key</th>\n",
       "    </tr>\n",
       "  </thead>\n",
       "  <tbody>\n",
       "    <tr>\n",
       "      <th>0</th>\n",
       "      <td>9822959713</td>\n",
       "      <td>BCR2DN4T2C5JLEID</td>\n",
       "      <td>ADD</td>\n",
       "      <td>Match</td>\n",
       "      <td>inactive - inr 40 extra pay on txn</td>\n",
       "      <td>1</td>\n",
       "    </tr>\n",
       "  </tbody>\n",
       "</table>\n",
       "</div>"
      ],
      "text/plain": [
       "   StorePhoneNumber MerchantExternalId IngestionStatus Is in Dynamic Source?  \\\n",
       "0        9822959713   BCR2DN4T2C5JLEID             ADD                 Match   \n",
       "\n",
       "                             Segments  Primary_key  \n",
       "0  inactive - inr 40 extra pay on txn            1  "
      ]
     },
     "execution_count": 174,
     "metadata": {},
     "output_type": "execute_result"
    }
   ],
   "source": [
    "target_file_dynamic_match_merge_f2.head(1)"
   ]
  },
  {
   "cell_type": "code",
   "execution_count": 175,
   "id": "4f593712",
   "metadata": {},
   "outputs": [],
   "source": [
    "Source_data_Q2_2022_mid = Source_data_Q2_2022[[\n",
    "    'Merchant Ext ID', 'segments']].rename(columns={'Merchant Ext ID':\"MerchantExternalId\"})"
   ]
  },
  {
   "cell_type": "code",
   "execution_count": 176,
   "id": "0d33407c",
   "metadata": {},
   "outputs": [],
   "source": [
    "Source_data_Q2_2022_mn = Source_data_Q2_2022[[\n",
    "    'Phone Number', 'segments']].rename(columns={'Phone Number':\"StorePhoneNumber\"})"
   ]
  },
  {
   "cell_type": "code",
   "execution_count": 177,
   "id": "a14842b4",
   "metadata": {},
   "outputs": [],
   "source": [
    "target_file_dynamic_match_merge_f2_q2_mid = target_file_dynamic_match_merge_f2.merge(\n",
    "    Source_data_Q2_2022_mid, on=\"MerchantExternalId\", how='left', indicator = True)"
   ]
  },
  {
   "cell_type": "code",
   "execution_count": 178,
   "id": "dae86643",
   "metadata": {},
   "outputs": [],
   "source": [
    "target_file_dynamic_match_merge_f2_q2_mid.rename(columns={'_merge':\"Dynamic MID in Source?\"}, inplace=True)"
   ]
  },
  {
   "cell_type": "code",
   "execution_count": 179,
   "id": "9682af8b",
   "metadata": {},
   "outputs": [],
   "source": [
    "target_file_dynamic_match_merge_f2_q2_mid_mn = target_file_dynamic_match_merge_f2_q2_mid.merge(\n",
    "    Source_data_Q2_2022_mn, on=\"StorePhoneNumber\", how='left', indicator = True)"
   ]
  },
  {
   "cell_type": "code",
   "execution_count": 180,
   "id": "8c742a02",
   "metadata": {},
   "outputs": [],
   "source": [
    "target_file_dynamic_match_merge_f2_q2_mid_mn.rename(columns={'_merge':'Dynamic MN in Source?'}, inplace=True)"
   ]
  },
  {
   "cell_type": "code",
   "execution_count": 181,
   "id": "5d67a99c",
   "metadata": {},
   "outputs": [],
   "source": [
    "target_file_dynamic_match_merge_f2_q2_mid_mn['Segments'].fillna(target_file_dynamic_match_merge_f2_q2_mid_mn[\n",
    "    'segments_x'], inplace=True)"
   ]
  },
  {
   "cell_type": "code",
   "execution_count": 182,
   "id": "5c9db3f5",
   "metadata": {},
   "outputs": [],
   "source": [
    "target_file_dynamic_match_merge_f2_q2_mid_mn['Segments'].fillna(target_file_dynamic_match_merge_f2_q2_mid_mn[\n",
    "    'segments_y'], inplace=True)"
   ]
  },
  {
   "cell_type": "code",
   "execution_count": 183,
   "id": "74ac1392",
   "metadata": {
    "scrolled": true
   },
   "outputs": [
    {
     "data": {
      "text/html": [
       "<div>\n",
       "<style scoped>\n",
       "    .dataframe tbody tr th:only-of-type {\n",
       "        vertical-align: middle;\n",
       "    }\n",
       "\n",
       "    .dataframe tbody tr th {\n",
       "        vertical-align: top;\n",
       "    }\n",
       "\n",
       "    .dataframe thead th {\n",
       "        text-align: right;\n",
       "    }\n",
       "</style>\n",
       "<table border=\"1\" class=\"dataframe\">\n",
       "  <thead>\n",
       "    <tr style=\"text-align: right;\">\n",
       "      <th></th>\n",
       "      <th>StorePhoneNumber</th>\n",
       "      <th>MerchantExternalId</th>\n",
       "      <th>IngestionStatus</th>\n",
       "      <th>Is in Dynamic Source?</th>\n",
       "      <th>Segments</th>\n",
       "      <th>Primary_key</th>\n",
       "      <th>segments_x</th>\n",
       "      <th>Dynamic MID in Source?</th>\n",
       "      <th>segments_y</th>\n",
       "      <th>Dynamic MN in Source?</th>\n",
       "    </tr>\n",
       "  </thead>\n",
       "  <tbody>\n",
       "    <tr>\n",
       "      <th>0</th>\n",
       "      <td>9822959713</td>\n",
       "      <td>BCR2DN4T2C5JLEID</td>\n",
       "      <td>ADD</td>\n",
       "      <td>Match</td>\n",
       "      <td>inactive - inr 40 extra pay on txn</td>\n",
       "      <td>1</td>\n",
       "      <td>active|P0</td>\n",
       "      <td>both</td>\n",
       "      <td>active|P0</td>\n",
       "      <td>both</td>\n",
       "    </tr>\n",
       "  </tbody>\n",
       "</table>\n",
       "</div>"
      ],
      "text/plain": [
       "  StorePhoneNumber MerchantExternalId IngestionStatus Is in Dynamic Source?  \\\n",
       "0       9822959713   BCR2DN4T2C5JLEID             ADD                 Match   \n",
       "\n",
       "                             Segments  Primary_key segments_x  \\\n",
       "0  inactive - inr 40 extra pay on txn            1  active|P0   \n",
       "\n",
       "  Dynamic MID in Source? segments_y Dynamic MN in Source?  \n",
       "0                   both  active|P0                  both  "
      ]
     },
     "execution_count": 183,
     "metadata": {},
     "output_type": "execute_result"
    }
   ],
   "source": [
    "target_file_dynamic_match_merge_f2_q2_mid_mn.head(1)"
   ]
  },
  {
   "cell_type": "code",
   "execution_count": 184,
   "id": "f158096b",
   "metadata": {},
   "outputs": [],
   "source": [
    "target_file_dynamic_match_merge_f2_q2_mid_mn_f = target_file_dynamic_match_merge_f2_q2_mid_mn[[\n",
    "    'Primary_key', 'Segments']].rename(columns={'Segments':\"New_Segments\"})"
   ]
  },
  {
   "cell_type": "code",
   "execution_count": 185,
   "id": "b152a76a",
   "metadata": {},
   "outputs": [
    {
     "data": {
      "text/html": [
       "<div>\n",
       "<style scoped>\n",
       "    .dataframe tbody tr th:only-of-type {\n",
       "        vertical-align: middle;\n",
       "    }\n",
       "\n",
       "    .dataframe tbody tr th {\n",
       "        vertical-align: top;\n",
       "    }\n",
       "\n",
       "    .dataframe thead th {\n",
       "        text-align: right;\n",
       "    }\n",
       "</style>\n",
       "<table border=\"1\" class=\"dataframe\">\n",
       "  <thead>\n",
       "    <tr style=\"text-align: right;\">\n",
       "      <th></th>\n",
       "      <th>Primary_key</th>\n",
       "      <th>New_Segments</th>\n",
       "    </tr>\n",
       "  </thead>\n",
       "  <tbody>\n",
       "    <tr>\n",
       "      <th>0</th>\n",
       "      <td>1</td>\n",
       "      <td>inactive - inr 40 extra pay on txn</td>\n",
       "    </tr>\n",
       "  </tbody>\n",
       "</table>\n",
       "</div>"
      ],
      "text/plain": [
       "   Primary_key                        New_Segments\n",
       "0            1  inactive - inr 40 extra pay on txn"
      ]
     },
     "execution_count": 185,
     "metadata": {},
     "output_type": "execute_result"
    }
   ],
   "source": [
    "target_file_dynamic_match_merge_f2_q2_mid_mn_f.head(1)"
   ]
  },
  {
   "cell_type": "code",
   "execution_count": 186,
   "id": "04207715",
   "metadata": {},
   "outputs": [],
   "source": [
    "target_file_dynamic_match_merge2 = target_file_dynamic_match_merge.merge(\n",
    "    target_file_dynamic_match_merge_f2_q2_mid_mn_f, on='Primary_key', how='left')"
   ]
  },
  {
   "cell_type": "code",
   "execution_count": 187,
   "id": "5af555a8",
   "metadata": {},
   "outputs": [],
   "source": [
    "target_file_dynamic_match_merge2.drop_duplicates(subset=['Primary_key'], inplace=True)"
   ]
  },
  {
   "cell_type": "code",
   "execution_count": 188,
   "id": "448baa70",
   "metadata": {},
   "outputs": [],
   "source": [
    "target_file_dynamic_match_merge2['Segments'].fillna(target_file_dynamic_match_merge2['New_Segments'], inplace=True)"
   ]
  },
  {
   "cell_type": "code",
   "execution_count": 189,
   "id": "c7dc7590",
   "metadata": {},
   "outputs": [],
   "source": [
    "target_file_dynamic_match_merge2.drop(['New_Segments'], axis=1, inplace=True)"
   ]
  },
  {
   "cell_type": "markdown",
   "id": "e361c400",
   "metadata": {},
   "source": [
    "# Update the empty segment with the q1 Segment"
   ]
  },
  {
   "cell_type": "code",
   "execution_count": 190,
   "id": "d634d2a1",
   "metadata": {},
   "outputs": [
    {
     "data": {
      "text/html": [
       "<div>\n",
       "<style scoped>\n",
       "    .dataframe tbody tr th:only-of-type {\n",
       "        vertical-align: middle;\n",
       "    }\n",
       "\n",
       "    .dataframe tbody tr th {\n",
       "        vertical-align: top;\n",
       "    }\n",
       "\n",
       "    .dataframe thead th {\n",
       "        text-align: right;\n",
       "    }\n",
       "</style>\n",
       "<table border=\"1\" class=\"dataframe\">\n",
       "  <thead>\n",
       "    <tr style=\"text-align: right;\">\n",
       "      <th></th>\n",
       "      <th>MerchantExternalId</th>\n",
       "      <th>StorePhoneNumber</th>\n",
       "      <th>Revisit Date</th>\n",
       "      <th>Primary_key</th>\n",
       "      <th>Segments</th>\n",
       "      <th>IngestionStatus</th>\n",
       "      <th>Report Date</th>\n",
       "      <th>Ingestion Date</th>\n",
       "      <th>Revisit Expire Date</th>\n",
       "      <th>Is the Dynamic Match Valid?</th>\n",
       "      <th>Is in Dynamic Source?</th>\n",
       "      <th>Is in Dynamic Source?_Final</th>\n",
       "    </tr>\n",
       "  </thead>\n",
       "  <tbody>\n",
       "    <tr>\n",
       "      <th>0</th>\n",
       "      <td>BCR2DN4T2C5JLEID</td>\n",
       "      <td>9822959713</td>\n",
       "      <td>11/10/2022 18:33:47</td>\n",
       "      <td>1</td>\n",
       "      <td>inactive - inr 40 extra pay on txn</td>\n",
       "      <td>ADD</td>\n",
       "      <td>4-Nov-2022</td>\n",
       "      <td>4-Nov-2022</td>\n",
       "      <td>NaN</td>\n",
       "      <td>VALID</td>\n",
       "      <td>Match</td>\n",
       "      <td>Match</td>\n",
       "    </tr>\n",
       "  </tbody>\n",
       "</table>\n",
       "</div>"
      ],
      "text/plain": [
       "  MerchantExternalId  StorePhoneNumber         Revisit Date  Primary_key  \\\n",
       "0   BCR2DN4T2C5JLEID        9822959713  11/10/2022 18:33:47            1   \n",
       "\n",
       "                             Segments IngestionStatus Report Date  \\\n",
       "0  inactive - inr 40 extra pay on txn             ADD  4-Nov-2022   \n",
       "\n",
       "  Ingestion Date Revisit Expire Date Is the Dynamic Match Valid?  \\\n",
       "0     4-Nov-2022                 NaN                       VALID   \n",
       "\n",
       "  Is in Dynamic Source? Is in Dynamic Source?_Final  \n",
       "0                 Match                       Match  "
      ]
     },
     "execution_count": 190,
     "metadata": {},
     "output_type": "execute_result"
    }
   ],
   "source": [
    "target_file_dynamic_match_merge2.head(1)"
   ]
  },
  {
   "cell_type": "code",
   "execution_count": 191,
   "id": "d17e6255",
   "metadata": {},
   "outputs": [
    {
     "data": {
      "text/html": [
       "<div>\n",
       "<style scoped>\n",
       "    .dataframe tbody tr th:only-of-type {\n",
       "        vertical-align: middle;\n",
       "    }\n",
       "\n",
       "    .dataframe tbody tr th {\n",
       "        vertical-align: top;\n",
       "    }\n",
       "\n",
       "    .dataframe thead th {\n",
       "        text-align: right;\n",
       "    }\n",
       "</style>\n",
       "<table border=\"1\" class=\"dataframe\">\n",
       "  <thead>\n",
       "    <tr style=\"text-align: right;\">\n",
       "      <th></th>\n",
       "      <th>Name</th>\n",
       "      <th>Phone Number</th>\n",
       "      <th>Address</th>\n",
       "      <th>Pincode</th>\n",
       "      <th>Latitude</th>\n",
       "      <th>Longitude</th>\n",
       "      <th>District</th>\n",
       "      <th>Polygon Name</th>\n",
       "      <th>Created By ID</th>\n",
       "      <th>Merchant Ext.ID</th>\n",
       "      <th>Last Transaction date</th>\n",
       "      <th>Gpay OB E-mail</th>\n",
       "      <th>segments</th>\n",
       "      <th>_merge</th>\n",
       "    </tr>\n",
       "  </thead>\n",
       "  <tbody>\n",
       "    <tr>\n",
       "      <th>0</th>\n",
       "      <td>Nilkanth Enterprises</td>\n",
       "      <td>7.579170e+09</td>\n",
       "      <td>Bareilly Road ,Motahaldu</td>\n",
       "      <td>263139.0</td>\n",
       "      <td>29.145969</td>\n",
       "      <td>79.522095</td>\n",
       "      <td>Nainital</td>\n",
       "      <td>244715</td>\n",
       "      <td>58515.0</td>\n",
       "      <td>BCR2DN6T57H7THC2</td>\n",
       "      <td>28-12-2021</td>\n",
       "      <td>sjoshi375@gmail.com</td>\n",
       "      <td>active</td>\n",
       "      <td>both</td>\n",
       "    </tr>\n",
       "  </tbody>\n",
       "</table>\n",
       "</div>"
      ],
      "text/plain": [
       "                   Name  Phone Number                    Address   Pincode  \\\n",
       "0  Nilkanth Enterprises  7.579170e+09  Bareilly Road ,Motahaldu   263139.0   \n",
       "\n",
       "    Latitude  Longitude  District Polygon Name  Created By ID  \\\n",
       "0  29.145969  79.522095  Nainital       244715        58515.0   \n",
       "\n",
       "    Merchant Ext.ID Last Transaction date       Gpay OB E-mail segments _merge  \n",
       "0  BCR2DN6T57H7THC2            28-12-2021  sjoshi375@gmail.com   active   both  "
      ]
     },
     "execution_count": 191,
     "metadata": {},
     "output_type": "execute_result"
    }
   ],
   "source": [
    "Source_data_Q1_2022.head(1)"
   ]
  },
  {
   "cell_type": "code",
   "execution_count": 192,
   "id": "21a8b52e",
   "metadata": {},
   "outputs": [],
   "source": [
    "Source_data_Q1_2022_mid = Source_data_Q1_2022[[\n",
    "    'Merchant Ext.ID', 'segments']].rename(columns={\"Merchant Ext.ID\":'MerchantExternalId'})"
   ]
  },
  {
   "cell_type": "code",
   "execution_count": 193,
   "id": "7648acdb",
   "metadata": {},
   "outputs": [],
   "source": [
    "Source_data_Q1_2022_mn = Source_data_Q1_2022[[\n",
    "    'Phone Number', 'segments']].rename(columns={\"Phone Number\":'StorePhoneNumber'})"
   ]
  },
  {
   "cell_type": "code",
   "execution_count": 194,
   "id": "135c3709",
   "metadata": {},
   "outputs": [],
   "source": [
    "target_file_dynamic_match_merge2_f = target_file_dynamic_match_merge2[['StorePhoneNumber', 'MerchantExternalId', \n",
    "                                                                     'IngestionStatus', 'Is in Dynamic Source?',\n",
    "                                                                    'Segments', 'Primary_key']]"
   ]
  },
  {
   "cell_type": "code",
   "execution_count": 195,
   "id": "2b660f58",
   "metadata": {},
   "outputs": [],
   "source": [
    "target_file_dynamic_match_merge2_f2 = target_file_dynamic_match_merge2_f[~target_file_dynamic_match_merge2_f[\n",
    "    \"IngestionStatus\"].isin([np.nan])]"
   ]
  },
  {
   "cell_type": "code",
   "execution_count": 196,
   "id": "f4db80fe",
   "metadata": {},
   "outputs": [],
   "source": [
    "target_file_dynamic_match_merge_f2_q1_mid = target_file_dynamic_match_merge2_f2.merge(\n",
    "    Source_data_Q1_2022_mid, on=\"MerchantExternalId\", how='left', indicator = True)"
   ]
  },
  {
   "cell_type": "code",
   "execution_count": 197,
   "id": "ad45a23a",
   "metadata": {},
   "outputs": [],
   "source": [
    "target_file_dynamic_match_merge_f2_q1_mid.rename(columns={'_merge':\"Dynamic MID in Source?\"}, inplace=True)"
   ]
  },
  {
   "cell_type": "code",
   "execution_count": 198,
   "id": "e1228ad0",
   "metadata": {},
   "outputs": [],
   "source": [
    "target_file_dynamic_match_merge_f2_q1_mid_mn = target_file_dynamic_match_merge_f2_q1_mid.merge(\n",
    "    Source_data_Q1_2022_mn, on=\"StorePhoneNumber\", how='left', indicator = True)"
   ]
  },
  {
   "cell_type": "code",
   "execution_count": 199,
   "id": "605b6c00",
   "metadata": {},
   "outputs": [],
   "source": [
    "target_file_dynamic_match_merge_f2_q1_mid_mn.rename(columns={'_merge':'Dynamic MN in Source?'}, inplace=True)"
   ]
  },
  {
   "cell_type": "code",
   "execution_count": 200,
   "id": "377cfbf6",
   "metadata": {},
   "outputs": [],
   "source": [
    "target_file_dynamic_match_merge_f2_q1_mid_mn['Segments'].fillna(target_file_dynamic_match_merge_f2_q1_mid_mn[\n",
    "    'segments_x'], inplace=True)"
   ]
  },
  {
   "cell_type": "code",
   "execution_count": 201,
   "id": "e240d137",
   "metadata": {},
   "outputs": [],
   "source": [
    "target_file_dynamic_match_merge_f2_q1_mid_mn['Segments'].fillna(target_file_dynamic_match_merge_f2_q1_mid_mn[\n",
    "    'segments_y'], inplace=True)"
   ]
  },
  {
   "cell_type": "code",
   "execution_count": 202,
   "id": "f1035a2d",
   "metadata": {
    "scrolled": false
   },
   "outputs": [
    {
     "data": {
      "text/html": [
       "<div>\n",
       "<style scoped>\n",
       "    .dataframe tbody tr th:only-of-type {\n",
       "        vertical-align: middle;\n",
       "    }\n",
       "\n",
       "    .dataframe tbody tr th {\n",
       "        vertical-align: top;\n",
       "    }\n",
       "\n",
       "    .dataframe thead th {\n",
       "        text-align: right;\n",
       "    }\n",
       "</style>\n",
       "<table border=\"1\" class=\"dataframe\">\n",
       "  <thead>\n",
       "    <tr style=\"text-align: right;\">\n",
       "      <th></th>\n",
       "      <th>StorePhoneNumber</th>\n",
       "      <th>MerchantExternalId</th>\n",
       "      <th>IngestionStatus</th>\n",
       "      <th>Is in Dynamic Source?</th>\n",
       "      <th>Segments</th>\n",
       "      <th>Primary_key</th>\n",
       "      <th>segments_x</th>\n",
       "      <th>Dynamic MID in Source?</th>\n",
       "      <th>segments_y</th>\n",
       "      <th>Dynamic MN in Source?</th>\n",
       "    </tr>\n",
       "  </thead>\n",
       "  <tbody>\n",
       "    <tr>\n",
       "      <th>0</th>\n",
       "      <td>9822959713</td>\n",
       "      <td>BCR2DN4T2C5JLEID</td>\n",
       "      <td>ADD</td>\n",
       "      <td>Match</td>\n",
       "      <td>inactive - inr 40 extra pay on txn</td>\n",
       "      <td>1</td>\n",
       "      <td>NaN</td>\n",
       "      <td>left_only</td>\n",
       "      <td>NaN</td>\n",
       "      <td>left_only</td>\n",
       "    </tr>\n",
       "  </tbody>\n",
       "</table>\n",
       "</div>"
      ],
      "text/plain": [
       "   StorePhoneNumber MerchantExternalId IngestionStatus Is in Dynamic Source?  \\\n",
       "0        9822959713   BCR2DN4T2C5JLEID             ADD                 Match   \n",
       "\n",
       "                             Segments  Primary_key segments_x  \\\n",
       "0  inactive - inr 40 extra pay on txn            1        NaN   \n",
       "\n",
       "  Dynamic MID in Source? segments_y Dynamic MN in Source?  \n",
       "0              left_only        NaN             left_only  "
      ]
     },
     "execution_count": 202,
     "metadata": {},
     "output_type": "execute_result"
    }
   ],
   "source": [
    "target_file_dynamic_match_merge_f2_q1_mid_mn.head(1)"
   ]
  },
  {
   "cell_type": "code",
   "execution_count": 203,
   "id": "7ffa21c8",
   "metadata": {},
   "outputs": [],
   "source": [
    "target_file_dynamic_match_merge_f2_q1_mid_mn_f = target_file_dynamic_match_merge_f2_q1_mid_mn[[\n",
    "    'Primary_key', 'Segments']].rename(columns={'Segments':\"New_Segments\"})"
   ]
  },
  {
   "cell_type": "code",
   "execution_count": 204,
   "id": "3b7cb252",
   "metadata": {},
   "outputs": [
    {
     "data": {
      "text/html": [
       "<div>\n",
       "<style scoped>\n",
       "    .dataframe tbody tr th:only-of-type {\n",
       "        vertical-align: middle;\n",
       "    }\n",
       "\n",
       "    .dataframe tbody tr th {\n",
       "        vertical-align: top;\n",
       "    }\n",
       "\n",
       "    .dataframe thead th {\n",
       "        text-align: right;\n",
       "    }\n",
       "</style>\n",
       "<table border=\"1\" class=\"dataframe\">\n",
       "  <thead>\n",
       "    <tr style=\"text-align: right;\">\n",
       "      <th></th>\n",
       "      <th>Primary_key</th>\n",
       "      <th>New_Segments</th>\n",
       "    </tr>\n",
       "  </thead>\n",
       "  <tbody>\n",
       "    <tr>\n",
       "      <th>0</th>\n",
       "      <td>1</td>\n",
       "      <td>inactive - inr 40 extra pay on txn</td>\n",
       "    </tr>\n",
       "  </tbody>\n",
       "</table>\n",
       "</div>"
      ],
      "text/plain": [
       "   Primary_key                        New_Segments\n",
       "0            1  inactive - inr 40 extra pay on txn"
      ]
     },
     "execution_count": 204,
     "metadata": {},
     "output_type": "execute_result"
    }
   ],
   "source": [
    "target_file_dynamic_match_merge_f2_q1_mid_mn_f.head(1)"
   ]
  },
  {
   "cell_type": "code",
   "execution_count": 205,
   "id": "548bf7c9",
   "metadata": {},
   "outputs": [],
   "source": [
    "target_file_dynamic_match_merge3 = target_file_dynamic_match_merge2.merge(\n",
    "    target_file_dynamic_match_merge_f2_q1_mid_mn_f, on='Primary_key', how='left')"
   ]
  },
  {
   "cell_type": "code",
   "execution_count": 206,
   "id": "24bd3e4f",
   "metadata": {},
   "outputs": [],
   "source": [
    "target_file_dynamic_match_merge3.drop_duplicates(subset=['Primary_key'], inplace=True)"
   ]
  },
  {
   "cell_type": "code",
   "execution_count": 207,
   "id": "6a562b95",
   "metadata": {},
   "outputs": [],
   "source": [
    "target_file_dynamic_match_merge3['Segments'].fillna(target_file_dynamic_match_merge3['New_Segments'], inplace=True)"
   ]
  },
  {
   "cell_type": "code",
   "execution_count": 208,
   "id": "1fcc08ad",
   "metadata": {},
   "outputs": [],
   "source": [
    "target_file_dynamic_match_merge3.drop(['New_Segments'], axis=1, inplace=True)"
   ]
  },
  {
   "cell_type": "markdown",
   "id": "262c03a9",
   "metadata": {},
   "source": [
    "# No Match from Dynamic to Q2 Data"
   ]
  },
  {
   "cell_type": "markdown",
   "id": "017c9de0",
   "metadata": {},
   "source": [
    "### Q2 MID DATA match"
   ]
  },
  {
   "cell_type": "code",
   "execution_count": 209,
   "id": "1359ee4a",
   "metadata": {
    "scrolled": true
   },
   "outputs": [
    {
     "data": {
      "text/html": [
       "<div>\n",
       "<style scoped>\n",
       "    .dataframe tbody tr th:only-of-type {\n",
       "        vertical-align: middle;\n",
       "    }\n",
       "\n",
       "    .dataframe tbody tr th {\n",
       "        vertical-align: top;\n",
       "    }\n",
       "\n",
       "    .dataframe thead th {\n",
       "        text-align: right;\n",
       "    }\n",
       "</style>\n",
       "<table border=\"1\" class=\"dataframe\">\n",
       "  <thead>\n",
       "    <tr style=\"text-align: right;\">\n",
       "      <th></th>\n",
       "      <th>MerchantExternalId</th>\n",
       "      <th>StorePhoneNumber</th>\n",
       "      <th>Revisit Date</th>\n",
       "      <th>Primary_key</th>\n",
       "      <th>Segments</th>\n",
       "      <th>IngestionStatus</th>\n",
       "      <th>Report Date</th>\n",
       "      <th>Ingestion Date</th>\n",
       "      <th>Revisit Expire Date</th>\n",
       "      <th>Is the Dynamic Match Valid?</th>\n",
       "      <th>Is in Dynamic Source?</th>\n",
       "      <th>Is in Dynamic Source?_Final</th>\n",
       "    </tr>\n",
       "  </thead>\n",
       "  <tbody>\n",
       "    <tr>\n",
       "      <th>0</th>\n",
       "      <td>BCR2DN4T2C5JLEID</td>\n",
       "      <td>9822959713</td>\n",
       "      <td>11/10/2022 18:33:47</td>\n",
       "      <td>1</td>\n",
       "      <td>inactive - inr 40 extra pay on txn</td>\n",
       "      <td>ADD</td>\n",
       "      <td>4-Nov-2022</td>\n",
       "      <td>4-Nov-2022</td>\n",
       "      <td>NaN</td>\n",
       "      <td>VALID</td>\n",
       "      <td>Match</td>\n",
       "      <td>Match</td>\n",
       "    </tr>\n",
       "  </tbody>\n",
       "</table>\n",
       "</div>"
      ],
      "text/plain": [
       "  MerchantExternalId  StorePhoneNumber         Revisit Date  Primary_key  \\\n",
       "0   BCR2DN4T2C5JLEID        9822959713  11/10/2022 18:33:47            1   \n",
       "\n",
       "                             Segments IngestionStatus Report Date  \\\n",
       "0  inactive - inr 40 extra pay on txn             ADD  4-Nov-2022   \n",
       "\n",
       "  Ingestion Date Revisit Expire Date Is the Dynamic Match Valid?  \\\n",
       "0     4-Nov-2022                 NaN                       VALID   \n",
       "\n",
       "  Is in Dynamic Source? Is in Dynamic Source?_Final  \n",
       "0                 Match                       Match  "
      ]
     },
     "execution_count": 209,
     "metadata": {},
     "output_type": "execute_result"
    }
   ],
   "source": [
    "target_file_dynamic_match_merge3.head(1)"
   ]
  },
  {
   "cell_type": "code",
   "execution_count": 210,
   "id": "cfb1a2d2",
   "metadata": {},
   "outputs": [],
   "source": [
    "target_file_dynamic_match_merge3_f = target_file_dynamic_match_merge3[['StorePhoneNumber', 'MerchantExternalId',\n",
    "                                                                       'Is in Dynamic Source?']]"
   ]
  },
  {
   "cell_type": "code",
   "execution_count": 211,
   "id": "cde71654",
   "metadata": {},
   "outputs": [],
   "source": [
    "target_file_dynamic_match_merge3_f = target_file_dynamic_match_merge3_f[target_file_dynamic_match_merge3_f[\n",
    "    'Is in Dynamic Source?'].isin(['No Match'])]"
   ]
  },
  {
   "cell_type": "code",
   "execution_count": 212,
   "id": "efb4ec6c",
   "metadata": {
    "scrolled": false
   },
   "outputs": [
    {
     "data": {
      "text/html": [
       "<div>\n",
       "<style scoped>\n",
       "    .dataframe tbody tr th:only-of-type {\n",
       "        vertical-align: middle;\n",
       "    }\n",
       "\n",
       "    .dataframe tbody tr th {\n",
       "        vertical-align: top;\n",
       "    }\n",
       "\n",
       "    .dataframe thead th {\n",
       "        text-align: right;\n",
       "    }\n",
       "</style>\n",
       "<table border=\"1\" class=\"dataframe\">\n",
       "  <thead>\n",
       "    <tr style=\"text-align: right;\">\n",
       "      <th></th>\n",
       "      <th>MerchantExternalId</th>\n",
       "      <th>segments</th>\n",
       "    </tr>\n",
       "  </thead>\n",
       "  <tbody>\n",
       "    <tr>\n",
       "      <th>0</th>\n",
       "      <td>BCR2DN4T3C22BC37</td>\n",
       "      <td>active</td>\n",
       "    </tr>\n",
       "  </tbody>\n",
       "</table>\n",
       "</div>"
      ],
      "text/plain": [
       "  MerchantExternalId segments\n",
       "0   BCR2DN4T3C22BC37   active"
      ]
     },
     "execution_count": 212,
     "metadata": {},
     "output_type": "execute_result"
    }
   ],
   "source": [
    "Source_data_Q2_2022_mid.head(1)"
   ]
  },
  {
   "cell_type": "code",
   "execution_count": 213,
   "id": "1cf72f65",
   "metadata": {},
   "outputs": [],
   "source": [
    "target_file_dynamic_match_merge3_f = target_file_dynamic_match_merge3.merge(\n",
    "    Source_data_Q2_2022_mid, on=\"MerchantExternalId\", how=\"left\", indicator = True)"
   ]
  },
  {
   "cell_type": "code",
   "execution_count": 214,
   "id": "67a302ee",
   "metadata": {},
   "outputs": [],
   "source": [
    "target_file_dynamic_match_merge3_f.drop_duplicates(subset=['Primary_key'], inplace=True)"
   ]
  },
  {
   "cell_type": "code",
   "execution_count": 215,
   "id": "780ae54f",
   "metadata": {},
   "outputs": [],
   "source": [
    "target_file_dynamic_match_merge3_f.rename(columns={'_merge':'Is the mid q2 source?'}, inplace=True)"
   ]
  },
  {
   "cell_type": "code",
   "execution_count": 216,
   "id": "5fc053d8",
   "metadata": {},
   "outputs": [],
   "source": [
    "target_file_dynamic_match_merge3_f.rename(columns={'segments':'Q2 Segments'}, inplace=True)"
   ]
  },
  {
   "cell_type": "code",
   "execution_count": 217,
   "id": "438b264a",
   "metadata": {},
   "outputs": [
    {
     "data": {
      "text/plain": [
       "['both', 'left_only']\n",
       "Categories (3, object): ['left_only', 'right_only', 'both']"
      ]
     },
     "execution_count": 217,
     "metadata": {},
     "output_type": "execute_result"
    }
   ],
   "source": [
    "target_file_dynamic_match_merge3_f['Is the mid q2 source?'].unique()"
   ]
  },
  {
   "cell_type": "code",
   "execution_count": 218,
   "id": "24f5be0a",
   "metadata": {},
   "outputs": [],
   "source": [
    "target_file_dynamic_match_merge3_f['Is the mid q2 source?'] = target_file_dynamic_match_merge3_f[\n",
    "    'Is the mid q2 source?'].map({'left_only':\"No Match\",'right_only':\"No Match\",'both':\"Match\"})"
   ]
  },
  {
   "cell_type": "markdown",
   "id": "990f6864",
   "metadata": {},
   "source": [
    "### Filling the No Match from Dynamic with the Is the mid q2 source?"
   ]
  },
  {
   "cell_type": "code",
   "execution_count": 219,
   "id": "4f2ea402",
   "metadata": {},
   "outputs": [],
   "source": [
    "target_file_dynamic_match_merge3_f[\"Is in Dynamic Source?\"].replace(\"No Match\", np.nan, inplace=True)"
   ]
  },
  {
   "cell_type": "code",
   "execution_count": 220,
   "id": "69a2a1f5",
   "metadata": {},
   "outputs": [],
   "source": [
    "target_file_dynamic_match_merge3_f['Is in Dynamic Source?'].fillna(target_file_dynamic_match_merge3_f[\n",
    "    \"Is the mid q2 source?\"], inplace=True)"
   ]
  },
  {
   "cell_type": "code",
   "execution_count": 221,
   "id": "cf6c8137",
   "metadata": {},
   "outputs": [],
   "source": [
    "target_file_dynamic_match_merge3_f['Segments'].fillna(target_file_dynamic_match_merge3_f[\n",
    "    \"Q2 Segments\"], inplace=True)"
   ]
  },
  {
   "cell_type": "markdown",
   "id": "ab35e50e",
   "metadata": {},
   "source": [
    "### Q2 MN DATA match"
   ]
  },
  {
   "cell_type": "code",
   "execution_count": 222,
   "id": "7ba0d6f9",
   "metadata": {},
   "outputs": [
    {
     "data": {
      "text/html": [
       "<div>\n",
       "<style scoped>\n",
       "    .dataframe tbody tr th:only-of-type {\n",
       "        vertical-align: middle;\n",
       "    }\n",
       "\n",
       "    .dataframe tbody tr th {\n",
       "        vertical-align: top;\n",
       "    }\n",
       "\n",
       "    .dataframe thead th {\n",
       "        text-align: right;\n",
       "    }\n",
       "</style>\n",
       "<table border=\"1\" class=\"dataframe\">\n",
       "  <thead>\n",
       "    <tr style=\"text-align: right;\">\n",
       "      <th></th>\n",
       "      <th>StorePhoneNumber</th>\n",
       "      <th>segments</th>\n",
       "    </tr>\n",
       "  </thead>\n",
       "  <tbody>\n",
       "    <tr>\n",
       "      <th>0</th>\n",
       "      <td>9930944765</td>\n",
       "      <td>active</td>\n",
       "    </tr>\n",
       "  </tbody>\n",
       "</table>\n",
       "</div>"
      ],
      "text/plain": [
       "  StorePhoneNumber segments\n",
       "0       9930944765   active"
      ]
     },
     "execution_count": 222,
     "metadata": {},
     "output_type": "execute_result"
    }
   ],
   "source": [
    "Source_data_Q2_2022_mn.head(1)"
   ]
  },
  {
   "cell_type": "code",
   "execution_count": 223,
   "id": "afda0425",
   "metadata": {},
   "outputs": [
    {
     "data": {
      "text/html": [
       "<div>\n",
       "<style scoped>\n",
       "    .dataframe tbody tr th:only-of-type {\n",
       "        vertical-align: middle;\n",
       "    }\n",
       "\n",
       "    .dataframe tbody tr th {\n",
       "        vertical-align: top;\n",
       "    }\n",
       "\n",
       "    .dataframe thead th {\n",
       "        text-align: right;\n",
       "    }\n",
       "</style>\n",
       "<table border=\"1\" class=\"dataframe\">\n",
       "  <thead>\n",
       "    <tr style=\"text-align: right;\">\n",
       "      <th></th>\n",
       "      <th>MerchantExternalId</th>\n",
       "      <th>StorePhoneNumber</th>\n",
       "      <th>Revisit Date</th>\n",
       "      <th>Primary_key</th>\n",
       "      <th>Segments</th>\n",
       "      <th>IngestionStatus</th>\n",
       "      <th>Report Date</th>\n",
       "      <th>Ingestion Date</th>\n",
       "      <th>Revisit Expire Date</th>\n",
       "      <th>Is the Dynamic Match Valid?</th>\n",
       "      <th>Is in Dynamic Source?</th>\n",
       "      <th>Is in Dynamic Source?_Final</th>\n",
       "      <th>Q2 Segments</th>\n",
       "      <th>Is the mid q2 source?</th>\n",
       "    </tr>\n",
       "  </thead>\n",
       "  <tbody>\n",
       "    <tr>\n",
       "      <th>0</th>\n",
       "      <td>BCR2DN4T2C5JLEID</td>\n",
       "      <td>9822959713</td>\n",
       "      <td>11/10/2022 18:33:47</td>\n",
       "      <td>1</td>\n",
       "      <td>inactive - inr 40 extra pay on txn</td>\n",
       "      <td>ADD</td>\n",
       "      <td>4-Nov-2022</td>\n",
       "      <td>4-Nov-2022</td>\n",
       "      <td>NaN</td>\n",
       "      <td>VALID</td>\n",
       "      <td>Match</td>\n",
       "      <td>Match</td>\n",
       "      <td>active|P0</td>\n",
       "      <td>Match</td>\n",
       "    </tr>\n",
       "  </tbody>\n",
       "</table>\n",
       "</div>"
      ],
      "text/plain": [
       "  MerchantExternalId  StorePhoneNumber         Revisit Date  Primary_key  \\\n",
       "0   BCR2DN4T2C5JLEID        9822959713  11/10/2022 18:33:47            1   \n",
       "\n",
       "                             Segments IngestionStatus Report Date  \\\n",
       "0  inactive - inr 40 extra pay on txn             ADD  4-Nov-2022   \n",
       "\n",
       "  Ingestion Date Revisit Expire Date Is the Dynamic Match Valid?  \\\n",
       "0     4-Nov-2022                 NaN                       VALID   \n",
       "\n",
       "  Is in Dynamic Source? Is in Dynamic Source?_Final Q2 Segments  \\\n",
       "0                 Match                       Match   active|P0   \n",
       "\n",
       "  Is the mid q2 source?  \n",
       "0                 Match  "
      ]
     },
     "execution_count": 223,
     "metadata": {},
     "output_type": "execute_result"
    }
   ],
   "source": [
    "target_file_dynamic_match_merge3_f.head(1)"
   ]
  },
  {
   "cell_type": "code",
   "execution_count": 224,
   "id": "a3f198c6",
   "metadata": {},
   "outputs": [],
   "source": [
    "target_file_dynamic_match_merge3_f2 = target_file_dynamic_match_merge3_f[['StorePhoneNumber', 'MerchantExternalId',\n",
    "                                                                       'Is in Dynamic Source?', 'Primary_key']]"
   ]
  },
  {
   "cell_type": "code",
   "execution_count": 225,
   "id": "60579abf",
   "metadata": {},
   "outputs": [],
   "source": [
    "target_file_dynamic_match_merge3_f3 = target_file_dynamic_match_merge3_f2[target_file_dynamic_match_merge3_f2[\n",
    "    'Is in Dynamic Source?'].isin(['No Match'])]"
   ]
  },
  {
   "cell_type": "code",
   "execution_count": 226,
   "id": "a8f7a383",
   "metadata": {
    "scrolled": false
   },
   "outputs": [
    {
     "data": {
      "text/html": [
       "<div>\n",
       "<style scoped>\n",
       "    .dataframe tbody tr th:only-of-type {\n",
       "        vertical-align: middle;\n",
       "    }\n",
       "\n",
       "    .dataframe tbody tr th {\n",
       "        vertical-align: top;\n",
       "    }\n",
       "\n",
       "    .dataframe thead th {\n",
       "        text-align: right;\n",
       "    }\n",
       "</style>\n",
       "<table border=\"1\" class=\"dataframe\">\n",
       "  <thead>\n",
       "    <tr style=\"text-align: right;\">\n",
       "      <th></th>\n",
       "      <th>StorePhoneNumber</th>\n",
       "      <th>segments</th>\n",
       "    </tr>\n",
       "  </thead>\n",
       "  <tbody>\n",
       "    <tr>\n",
       "      <th>0</th>\n",
       "      <td>9930944765</td>\n",
       "      <td>active</td>\n",
       "    </tr>\n",
       "  </tbody>\n",
       "</table>\n",
       "</div>"
      ],
      "text/plain": [
       "  StorePhoneNumber segments\n",
       "0       9930944765   active"
      ]
     },
     "execution_count": 226,
     "metadata": {},
     "output_type": "execute_result"
    }
   ],
   "source": [
    "Source_data_Q2_2022_mn.head(1)"
   ]
  },
  {
   "cell_type": "code",
   "execution_count": 227,
   "id": "973ffbd7",
   "metadata": {},
   "outputs": [],
   "source": [
    "target_file_dynamic_match_merge4_f = target_file_dynamic_match_merge3_f3.merge(\n",
    "    Source_data_Q2_2022_mn, on=\"StorePhoneNumber\", how=\"left\", indicator = True)"
   ]
  },
  {
   "cell_type": "code",
   "execution_count": 228,
   "id": "9c9c0471",
   "metadata": {},
   "outputs": [],
   "source": [
    "target_file_dynamic_match_merge4_f.drop_duplicates(subset=['Primary_key'], inplace=True)"
   ]
  },
  {
   "cell_type": "code",
   "execution_count": 229,
   "id": "6f5118d2",
   "metadata": {},
   "outputs": [],
   "source": [
    "target_file_dynamic_match_merge4_f.rename(columns={'_merge':'Is the mn q2 source?'}, inplace=True)"
   ]
  },
  {
   "cell_type": "code",
   "execution_count": 230,
   "id": "e04994e3",
   "metadata": {},
   "outputs": [],
   "source": [
    "target_file_dynamic_match_merge4_f.rename(columns={'segments':'Q2 MN Segments'}, inplace=True)"
   ]
  },
  {
   "cell_type": "code",
   "execution_count": 231,
   "id": "05531856",
   "metadata": {},
   "outputs": [
    {
     "data": {
      "text/plain": [
       "['left_only', 'both']\n",
       "Categories (3, object): ['left_only', 'right_only', 'both']"
      ]
     },
     "execution_count": 231,
     "metadata": {},
     "output_type": "execute_result"
    }
   ],
   "source": [
    "target_file_dynamic_match_merge4_f['Is the mn q2 source?'].unique()"
   ]
  },
  {
   "cell_type": "code",
   "execution_count": 232,
   "id": "f9f80158",
   "metadata": {},
   "outputs": [],
   "source": [
    "target_file_dynamic_match_merge4_f['Is the mn q2 source?'] = target_file_dynamic_match_merge4_f[\n",
    "    'Is the mn q2 source?'].map({'left_only':\"No Match\",'right_only':\"No Match\",'both':\"MN Match\"})"
   ]
  },
  {
   "cell_type": "code",
   "execution_count": 233,
   "id": "fa191d8b",
   "metadata": {},
   "outputs": [],
   "source": [
    "target_file_dynamic_match_merge4_f2 = target_file_dynamic_match_merge4_f[[\"Primary_key\", 'Q2 MN Segments',\n",
    "                                                                          'Is the mn q2 source?']]"
   ]
  },
  {
   "cell_type": "code",
   "execution_count": 234,
   "id": "ee42223a",
   "metadata": {},
   "outputs": [],
   "source": [
    "target_file_dynamic_match_merge5_f2 = target_file_dynamic_match_merge3_f.merge(\n",
    "    target_file_dynamic_match_merge4_f2, on='Primary_key', how='left')"
   ]
  },
  {
   "cell_type": "code",
   "execution_count": 235,
   "id": "cd645f34",
   "metadata": {},
   "outputs": [],
   "source": [
    "target_file_dynamic_match_merge5_f2.drop_duplicates(subset=['Primary_key'], inplace=True)"
   ]
  },
  {
   "cell_type": "markdown",
   "id": "81068e9a",
   "metadata": {},
   "source": [
    "### Filling the No Match from Dynamic with the Is the mid q2 source?"
   ]
  },
  {
   "cell_type": "code",
   "execution_count": 236,
   "id": "752a5c3a",
   "metadata": {},
   "outputs": [],
   "source": [
    "target_file_dynamic_match_merge5_f2[\"Is in Dynamic Source?\"].replace(\"No Match\", np.nan, inplace=True)"
   ]
  },
  {
   "cell_type": "code",
   "execution_count": 237,
   "id": "8e790a6d",
   "metadata": {},
   "outputs": [],
   "source": [
    "target_file_dynamic_match_merge5_f2['Is in Dynamic Source?'].fillna(target_file_dynamic_match_merge5_f2[\n",
    "    \"Is the mn q2 source?\"], inplace=True)"
   ]
  },
  {
   "cell_type": "code",
   "execution_count": 238,
   "id": "f7dd5cbb",
   "metadata": {},
   "outputs": [],
   "source": [
    "target_file_dynamic_match_merge5_f2['Segments'].fillna(target_file_dynamic_match_merge5_f2[\n",
    "    \"Q2 MN Segments\"], inplace=True)"
   ]
  },
  {
   "cell_type": "code",
   "execution_count": 239,
   "id": "26ecd315",
   "metadata": {},
   "outputs": [
    {
     "data": {
      "text/html": [
       "<div>\n",
       "<style scoped>\n",
       "    .dataframe tbody tr th:only-of-type {\n",
       "        vertical-align: middle;\n",
       "    }\n",
       "\n",
       "    .dataframe tbody tr th {\n",
       "        vertical-align: top;\n",
       "    }\n",
       "\n",
       "    .dataframe thead th {\n",
       "        text-align: right;\n",
       "    }\n",
       "</style>\n",
       "<table border=\"1\" class=\"dataframe\">\n",
       "  <thead>\n",
       "    <tr style=\"text-align: right;\">\n",
       "      <th></th>\n",
       "      <th>MerchantExternalId</th>\n",
       "      <th>StorePhoneNumber</th>\n",
       "      <th>Revisit Date</th>\n",
       "      <th>Primary_key</th>\n",
       "      <th>Segments</th>\n",
       "      <th>IngestionStatus</th>\n",
       "      <th>Report Date</th>\n",
       "      <th>Ingestion Date</th>\n",
       "      <th>Revisit Expire Date</th>\n",
       "      <th>Is the Dynamic Match Valid?</th>\n",
       "      <th>Is in Dynamic Source?</th>\n",
       "      <th>Is in Dynamic Source?_Final</th>\n",
       "      <th>Q2 Segments</th>\n",
       "      <th>Is the mid q2 source?</th>\n",
       "      <th>Q2 MN Segments</th>\n",
       "      <th>Is the mn q2 source?</th>\n",
       "    </tr>\n",
       "  </thead>\n",
       "  <tbody>\n",
       "    <tr>\n",
       "      <th>0</th>\n",
       "      <td>BCR2DN4T2C5JLEID</td>\n",
       "      <td>9822959713</td>\n",
       "      <td>11/10/2022 18:33:47</td>\n",
       "      <td>1</td>\n",
       "      <td>inactive - inr 40 extra pay on txn</td>\n",
       "      <td>ADD</td>\n",
       "      <td>4-Nov-2022</td>\n",
       "      <td>4-Nov-2022</td>\n",
       "      <td>NaN</td>\n",
       "      <td>VALID</td>\n",
       "      <td>Match</td>\n",
       "      <td>Match</td>\n",
       "      <td>active|P0</td>\n",
       "      <td>Match</td>\n",
       "      <td>NaN</td>\n",
       "      <td>NaN</td>\n",
       "    </tr>\n",
       "  </tbody>\n",
       "</table>\n",
       "</div>"
      ],
      "text/plain": [
       "  MerchantExternalId  StorePhoneNumber         Revisit Date  Primary_key  \\\n",
       "0   BCR2DN4T2C5JLEID        9822959713  11/10/2022 18:33:47            1   \n",
       "\n",
       "                             Segments IngestionStatus Report Date  \\\n",
       "0  inactive - inr 40 extra pay on txn             ADD  4-Nov-2022   \n",
       "\n",
       "  Ingestion Date Revisit Expire Date Is the Dynamic Match Valid?  \\\n",
       "0     4-Nov-2022                 NaN                       VALID   \n",
       "\n",
       "  Is in Dynamic Source? Is in Dynamic Source?_Final Q2 Segments  \\\n",
       "0                 Match                       Match   active|P0   \n",
       "\n",
       "  Is the mid q2 source? Q2 MN Segments Is the mn q2 source?  \n",
       "0                 Match            NaN                  NaN  "
      ]
     },
     "execution_count": 239,
     "metadata": {},
     "output_type": "execute_result"
    }
   ],
   "source": [
    "target_file_dynamic_match_merge5_f2.head(1)"
   ]
  },
  {
   "cell_type": "code",
   "execution_count": 240,
   "id": "9a063e04",
   "metadata": {},
   "outputs": [
    {
     "data": {
      "text/html": [
       "<div>\n",
       "<style scoped>\n",
       "    .dataframe tbody tr th:only-of-type {\n",
       "        vertical-align: middle;\n",
       "    }\n",
       "\n",
       "    .dataframe tbody tr th {\n",
       "        vertical-align: top;\n",
       "    }\n",
       "\n",
       "    .dataframe thead th {\n",
       "        text-align: right;\n",
       "    }\n",
       "</style>\n",
       "<table border=\"1\" class=\"dataframe\">\n",
       "  <thead>\n",
       "    <tr style=\"text-align: right;\">\n",
       "      <th></th>\n",
       "      <th>Name</th>\n",
       "      <th>Phone Number</th>\n",
       "      <th>Address</th>\n",
       "      <th>Pincode</th>\n",
       "      <th>Latitude</th>\n",
       "      <th>Longitude</th>\n",
       "      <th>District</th>\n",
       "      <th>Polygon Name</th>\n",
       "      <th>Created By ID</th>\n",
       "      <th>Merchant Ext.ID</th>\n",
       "      <th>Last Transaction date</th>\n",
       "      <th>Gpay OB E-mail</th>\n",
       "      <th>segments</th>\n",
       "      <th>_merge</th>\n",
       "    </tr>\n",
       "  </thead>\n",
       "  <tbody>\n",
       "    <tr>\n",
       "      <th>0</th>\n",
       "      <td>Nilkanth Enterprises</td>\n",
       "      <td>7.579170e+09</td>\n",
       "      <td>Bareilly Road ,Motahaldu</td>\n",
       "      <td>263139.0</td>\n",
       "      <td>29.145969</td>\n",
       "      <td>79.522095</td>\n",
       "      <td>Nainital</td>\n",
       "      <td>244715</td>\n",
       "      <td>58515.0</td>\n",
       "      <td>BCR2DN6T57H7THC2</td>\n",
       "      <td>28-12-2021</td>\n",
       "      <td>sjoshi375@gmail.com</td>\n",
       "      <td>active</td>\n",
       "      <td>both</td>\n",
       "    </tr>\n",
       "  </tbody>\n",
       "</table>\n",
       "</div>"
      ],
      "text/plain": [
       "                   Name  Phone Number                    Address   Pincode  \\\n",
       "0  Nilkanth Enterprises  7.579170e+09  Bareilly Road ,Motahaldu   263139.0   \n",
       "\n",
       "    Latitude  Longitude  District Polygon Name  Created By ID  \\\n",
       "0  29.145969  79.522095  Nainital       244715        58515.0   \n",
       "\n",
       "    Merchant Ext.ID Last Transaction date       Gpay OB E-mail segments _merge  \n",
       "0  BCR2DN6T57H7THC2            28-12-2021  sjoshi375@gmail.com   active   both  "
      ]
     },
     "execution_count": 240,
     "metadata": {},
     "output_type": "execute_result"
    }
   ],
   "source": [
    "Source_data_Q1_2022.head(1)"
   ]
  },
  {
   "cell_type": "markdown",
   "id": "ee7f5047",
   "metadata": {},
   "source": [
    "# No Match from Dynamic to Q1 Data"
   ]
  },
  {
   "cell_type": "markdown",
   "id": "e13a2cba",
   "metadata": {},
   "source": [
    "### Q1 MID Data Match"
   ]
  },
  {
   "cell_type": "code",
   "execution_count": 241,
   "id": "270c50db",
   "metadata": {},
   "outputs": [],
   "source": [
    "target_file_dynamic_match_merge5_f3 = target_file_dynamic_match_merge5_f2[['StorePhoneNumber',\n",
    "                                'MerchantExternalId', 'Is in Dynamic Source?', 'Primary_key']]"
   ]
  },
  {
   "cell_type": "code",
   "execution_count": 242,
   "id": "e359bd5e",
   "metadata": {
    "scrolled": true
   },
   "outputs": [
    {
     "data": {
      "text/html": [
       "<div>\n",
       "<style scoped>\n",
       "    .dataframe tbody tr th:only-of-type {\n",
       "        vertical-align: middle;\n",
       "    }\n",
       "\n",
       "    .dataframe tbody tr th {\n",
       "        vertical-align: top;\n",
       "    }\n",
       "\n",
       "    .dataframe thead th {\n",
       "        text-align: right;\n",
       "    }\n",
       "</style>\n",
       "<table border=\"1\" class=\"dataframe\">\n",
       "  <thead>\n",
       "    <tr style=\"text-align: right;\">\n",
       "      <th></th>\n",
       "      <th>MerchantExternalId</th>\n",
       "      <th>segments</th>\n",
       "    </tr>\n",
       "  </thead>\n",
       "  <tbody>\n",
       "    <tr>\n",
       "      <th>0</th>\n",
       "      <td>BCR2DN6T57H7THC2</td>\n",
       "      <td>active</td>\n",
       "    </tr>\n",
       "  </tbody>\n",
       "</table>\n",
       "</div>"
      ],
      "text/plain": [
       "  MerchantExternalId segments\n",
       "0   BCR2DN6T57H7THC2   active"
      ]
     },
     "execution_count": 242,
     "metadata": {},
     "output_type": "execute_result"
    }
   ],
   "source": [
    "Source_data_Q1_2022_mid.head(1)"
   ]
  },
  {
   "cell_type": "code",
   "execution_count": 243,
   "id": "7dd2f689",
   "metadata": {},
   "outputs": [],
   "source": [
    "target_file_dynamic_match_merge5_f4 = target_file_dynamic_match_merge5_f3[target_file_dynamic_match_merge5_f3[\n",
    "    \"Is in Dynamic Source?\"].isin(['No Match'])]"
   ]
  },
  {
   "cell_type": "code",
   "execution_count": 244,
   "id": "f2a8f6c2",
   "metadata": {},
   "outputs": [
    {
     "data": {
      "text/html": [
       "<div>\n",
       "<style scoped>\n",
       "    .dataframe tbody tr th:only-of-type {\n",
       "        vertical-align: middle;\n",
       "    }\n",
       "\n",
       "    .dataframe tbody tr th {\n",
       "        vertical-align: top;\n",
       "    }\n",
       "\n",
       "    .dataframe thead th {\n",
       "        text-align: right;\n",
       "    }\n",
       "</style>\n",
       "<table border=\"1\" class=\"dataframe\">\n",
       "  <thead>\n",
       "    <tr style=\"text-align: right;\">\n",
       "      <th></th>\n",
       "      <th>StorePhoneNumber</th>\n",
       "      <th>MerchantExternalId</th>\n",
       "      <th>Is in Dynamic Source?</th>\n",
       "      <th>Primary_key</th>\n",
       "    </tr>\n",
       "  </thead>\n",
       "  <tbody>\n",
       "    <tr>\n",
       "      <th>34</th>\n",
       "      <td>8121577228</td>\n",
       "      <td>BCR2DN4T2S7INJQJ</td>\n",
       "      <td>No Match</td>\n",
       "      <td>35</td>\n",
       "    </tr>\n",
       "  </tbody>\n",
       "</table>\n",
       "</div>"
      ],
      "text/plain": [
       "    StorePhoneNumber MerchantExternalId Is in Dynamic Source?  Primary_key\n",
       "34        8121577228   BCR2DN4T2S7INJQJ              No Match           35"
      ]
     },
     "execution_count": 244,
     "metadata": {},
     "output_type": "execute_result"
    }
   ],
   "source": [
    "target_file_dynamic_match_merge5_f4.head(1)"
   ]
  },
  {
   "cell_type": "code",
   "execution_count": 245,
   "id": "55d203cb",
   "metadata": {},
   "outputs": [],
   "source": [
    "target_file_dynamic_match_merge6_q1_mid_merge = target_file_dynamic_match_merge5_f4.merge(\n",
    "    Source_data_Q1_2022_mid, on='MerchantExternalId', how='left', indicator=True)"
   ]
  },
  {
   "cell_type": "code",
   "execution_count": 246,
   "id": "6f97218d",
   "metadata": {
    "scrolled": true
   },
   "outputs": [],
   "source": [
    "target_file_dynamic_match_merge6_q1_mid_merge.drop_duplicates(subset=['Primary_key'], inplace=True)"
   ]
  },
  {
   "cell_type": "code",
   "execution_count": 247,
   "id": "15e37ca6",
   "metadata": {},
   "outputs": [],
   "source": [
    "target_file_dynamic_match_merge6_q1_mid_merge.rename(columns={'_merge':\"Is MID in Q1 Source?\"}, inplace=True)"
   ]
  },
  {
   "cell_type": "code",
   "execution_count": 248,
   "id": "8896cedb",
   "metadata": {},
   "outputs": [
    {
     "data": {
      "text/plain": [
       "['left_only', 'both']\n",
       "Categories (3, object): ['left_only', 'right_only', 'both']"
      ]
     },
     "execution_count": 248,
     "metadata": {},
     "output_type": "execute_result"
    }
   ],
   "source": [
    "target_file_dynamic_match_merge6_q1_mid_merge['Is MID in Q1 Source?'].unique()"
   ]
  },
  {
   "cell_type": "code",
   "execution_count": 249,
   "id": "268436d2",
   "metadata": {},
   "outputs": [],
   "source": [
    "target_file_dynamic_match_merge6_q1_mid_merge['Is MID in Q1 Source?'] = target_file_dynamic_match_merge6_q1_mid_merge[\n",
    "    'Is MID in Q1 Source?'].map({'left_only':\"No Match\",'right_only':\"No Match\", 'both':'Match'})"
   ]
  },
  {
   "cell_type": "code",
   "execution_count": 250,
   "id": "c499ee99",
   "metadata": {},
   "outputs": [],
   "source": [
    "target_file_dynamic_match_merge6_q1_mid_merge.rename(columns={\"segments\":\"q1 segments\"}, inplace=True)"
   ]
  },
  {
   "cell_type": "code",
   "execution_count": 251,
   "id": "3e9ec4de",
   "metadata": {},
   "outputs": [
    {
     "data": {
      "text/html": [
       "<div>\n",
       "<style scoped>\n",
       "    .dataframe tbody tr th:only-of-type {\n",
       "        vertical-align: middle;\n",
       "    }\n",
       "\n",
       "    .dataframe tbody tr th {\n",
       "        vertical-align: top;\n",
       "    }\n",
       "\n",
       "    .dataframe thead th {\n",
       "        text-align: right;\n",
       "    }\n",
       "</style>\n",
       "<table border=\"1\" class=\"dataframe\">\n",
       "  <thead>\n",
       "    <tr style=\"text-align: right;\">\n",
       "      <th></th>\n",
       "      <th>StorePhoneNumber</th>\n",
       "      <th>MerchantExternalId</th>\n",
       "      <th>Is in Dynamic Source?</th>\n",
       "      <th>Primary_key</th>\n",
       "      <th>q1 segments</th>\n",
       "      <th>Is MID in Q1 Source?</th>\n",
       "    </tr>\n",
       "  </thead>\n",
       "  <tbody>\n",
       "    <tr>\n",
       "      <th>0</th>\n",
       "      <td>8121577228</td>\n",
       "      <td>BCR2DN4T2S7INJQJ</td>\n",
       "      <td>No Match</td>\n",
       "      <td>35</td>\n",
       "      <td>NaN</td>\n",
       "      <td>No Match</td>\n",
       "    </tr>\n",
       "  </tbody>\n",
       "</table>\n",
       "</div>"
      ],
      "text/plain": [
       "   StorePhoneNumber MerchantExternalId Is in Dynamic Source?  Primary_key  \\\n",
       "0        8121577228   BCR2DN4T2S7INJQJ              No Match           35   \n",
       "\n",
       "  q1 segments Is MID in Q1 Source?  \n",
       "0         NaN             No Match  "
      ]
     },
     "execution_count": 251,
     "metadata": {},
     "output_type": "execute_result"
    }
   ],
   "source": [
    "target_file_dynamic_match_merge6_q1_mid_merge.head(1)"
   ]
  },
  {
   "cell_type": "markdown",
   "id": "3db63d99",
   "metadata": {},
   "source": [
    "### Q1 MN Data Match"
   ]
  },
  {
   "cell_type": "code",
   "execution_count": 252,
   "id": "5092f858",
   "metadata": {
    "scrolled": true
   },
   "outputs": [
    {
     "data": {
      "text/html": [
       "<div>\n",
       "<style scoped>\n",
       "    .dataframe tbody tr th:only-of-type {\n",
       "        vertical-align: middle;\n",
       "    }\n",
       "\n",
       "    .dataframe tbody tr th {\n",
       "        vertical-align: top;\n",
       "    }\n",
       "\n",
       "    .dataframe thead th {\n",
       "        text-align: right;\n",
       "    }\n",
       "</style>\n",
       "<table border=\"1\" class=\"dataframe\">\n",
       "  <thead>\n",
       "    <tr style=\"text-align: right;\">\n",
       "      <th></th>\n",
       "      <th>StorePhoneNumber</th>\n",
       "      <th>segments</th>\n",
       "    </tr>\n",
       "  </thead>\n",
       "  <tbody>\n",
       "    <tr>\n",
       "      <th>0</th>\n",
       "      <td>7.579170e+09</td>\n",
       "      <td>active</td>\n",
       "    </tr>\n",
       "  </tbody>\n",
       "</table>\n",
       "</div>"
      ],
      "text/plain": [
       "   StorePhoneNumber segments\n",
       "0      7.579170e+09   active"
      ]
     },
     "execution_count": 252,
     "metadata": {},
     "output_type": "execute_result"
    }
   ],
   "source": [
    "Source_data_Q1_2022_mn.head(1)"
   ]
  },
  {
   "cell_type": "code",
   "execution_count": 253,
   "id": "7b4fe7e4",
   "metadata": {},
   "outputs": [],
   "source": [
    "target_file_dynamic_match_merge6_q1_mid_mn_merge = target_file_dynamic_match_merge6_q1_mid_merge.merge(\n",
    "Source_data_Q1_2022_mn, on='StorePhoneNumber', how='left', indicator=True)"
   ]
  },
  {
   "cell_type": "code",
   "execution_count": 254,
   "id": "39922516",
   "metadata": {},
   "outputs": [],
   "source": [
    "target_file_dynamic_match_merge6_q1_mid_mn_merge.rename(columns={\"_merge\":\"Is MN in Q1 Source?\", \n",
    "                                                                 \"segments\":\"q1 mn segments\"}, inplace=True)"
   ]
  },
  {
   "cell_type": "code",
   "execution_count": 255,
   "id": "b80b3d4c",
   "metadata": {},
   "outputs": [],
   "source": [
    "target_file_dynamic_match_merge6_q1_mid_mn_merge.drop_duplicates(subset=['Primary_key'], inplace=True)"
   ]
  },
  {
   "cell_type": "code",
   "execution_count": 256,
   "id": "2fff4560",
   "metadata": {},
   "outputs": [],
   "source": [
    "target_file_dynamic_match_merge6_q1_mid_mn_merge[\n",
    "    'Is MN in Q1 Source?'] = target_file_dynamic_match_merge6_q1_mid_mn_merge[\n",
    "    'Is MN in Q1 Source?'].map({\"left_only\":\"No Match\",'right_only':\"No Match\", 'both':'MN Match'})"
   ]
  },
  {
   "cell_type": "code",
   "execution_count": 257,
   "id": "c82d9f6e",
   "metadata": {},
   "outputs": [],
   "source": [
    "target_file_dynamic_match_merge6_q1_mid_mn_merge_f = target_file_dynamic_match_merge6_q1_mid_mn_merge[[\n",
    "    \"Primary_key\", \"q1 segments\", \"Is MID in Q1 Source?\", \"q1 mn segments\", \"Is MN in Q1 Source?\"]]"
   ]
  },
  {
   "cell_type": "code",
   "execution_count": 258,
   "id": "1e4135e0",
   "metadata": {},
   "outputs": [],
   "source": [
    "target_file_dynamic_match_merge6 = target_file_dynamic_match_merge5_f2.merge(\n",
    "    target_file_dynamic_match_merge6_q1_mid_mn_merge_f, on='Primary_key', how='left')"
   ]
  },
  {
   "cell_type": "code",
   "execution_count": 259,
   "id": "4cb86de3",
   "metadata": {},
   "outputs": [],
   "source": [
    "target_file_dynamic_match_merge6.drop_duplicates(subset=['Primary_key'], inplace=True)"
   ]
  },
  {
   "cell_type": "code",
   "execution_count": 260,
   "id": "83077b07",
   "metadata": {},
   "outputs": [],
   "source": [
    "target_file_dynamic_match_merge6['Is in Dynamic Source?'].replace(\"No Match\", np.nan, inplace=True)\n",
    "target_file_dynamic_match_merge6['Is MID in Q1 Source?'].replace(\"No Match\", np.nan, inplace=True)"
   ]
  },
  {
   "cell_type": "code",
   "execution_count": 261,
   "id": "722d5204",
   "metadata": {},
   "outputs": [],
   "source": [
    "target_file_dynamic_match_merge6['Is in Dynamic Source?'].fillna(target_file_dynamic_match_merge6[\n",
    "    'Is MID in Q1 Source?'], inplace=True)"
   ]
  },
  {
   "cell_type": "code",
   "execution_count": 262,
   "id": "1fd01bca",
   "metadata": {},
   "outputs": [],
   "source": [
    "target_file_dynamic_match_merge6['Is in Dynamic Source?'].fillna(target_file_dynamic_match_merge6[\n",
    "    'Is MN in Q1 Source?'], inplace=True)"
   ]
  },
  {
   "cell_type": "code",
   "execution_count": 263,
   "id": "cba1e80c",
   "metadata": {},
   "outputs": [],
   "source": [
    "target_file_dynamic_match_merge6['Segments'].fillna(target_file_dynamic_match_merge6[\n",
    "    'q1 segments'], inplace=True)"
   ]
  },
  {
   "cell_type": "code",
   "execution_count": 264,
   "id": "1aedea4b",
   "metadata": {},
   "outputs": [],
   "source": [
    "target_file_dynamic_match_merge6['Segments'].fillna(target_file_dynamic_match_merge6[\n",
    "    'q1 mn segments'], inplace=True)"
   ]
  },
  {
   "cell_type": "markdown",
   "id": "786dc14c",
   "metadata": {},
   "source": [
    "# Matching the no match with the for matching file"
   ]
  },
  {
   "cell_type": "code",
   "execution_count": 265,
   "id": "01d08e93",
   "metadata": {},
   "outputs": [],
   "source": [
    "For_matching2 = For_matching.rename(columns={\"Phone Number\":\"StorePhoneNumber\", \n",
    "                             \"Merchant Ext.ID\":\"MerchantExternalId\"})"
   ]
  },
  {
   "cell_type": "code",
   "execution_count": 266,
   "id": "189c5883",
   "metadata": {
    "scrolled": true
   },
   "outputs": [
    {
     "data": {
      "text/html": [
       "<div>\n",
       "<style scoped>\n",
       "    .dataframe tbody tr th:only-of-type {\n",
       "        vertical-align: middle;\n",
       "    }\n",
       "\n",
       "    .dataframe tbody tr th {\n",
       "        vertical-align: top;\n",
       "    }\n",
       "\n",
       "    .dataframe thead th {\n",
       "        text-align: right;\n",
       "    }\n",
       "</style>\n",
       "<table border=\"1\" class=\"dataframe\">\n",
       "  <thead>\n",
       "    <tr style=\"text-align: right;\">\n",
       "      <th></th>\n",
       "      <th>StorePhoneNumber</th>\n",
       "      <th>MerchantExternalId</th>\n",
       "    </tr>\n",
       "  </thead>\n",
       "  <tbody>\n",
       "    <tr>\n",
       "      <th>0</th>\n",
       "      <td>7579170207</td>\n",
       "      <td>BCR2DN6T57H7THC2</td>\n",
       "    </tr>\n",
       "  </tbody>\n",
       "</table>\n",
       "</div>"
      ],
      "text/plain": [
       "  StorePhoneNumber MerchantExternalId\n",
       "0       7579170207   BCR2DN6T57H7THC2"
      ]
     },
     "execution_count": 266,
     "metadata": {},
     "output_type": "execute_result"
    }
   ],
   "source": [
    "For_matching2.head(1)"
   ]
  },
  {
   "cell_type": "code",
   "execution_count": 267,
   "id": "4a9df671",
   "metadata": {},
   "outputs": [],
   "source": [
    "For_matching2_mid = For_matching2[['MerchantExternalId']]\n",
    "For_matching2_mn = For_matching2[['StorePhoneNumber']]"
   ]
  },
  {
   "cell_type": "code",
   "execution_count": 268,
   "id": "947243a1",
   "metadata": {},
   "outputs": [],
   "source": [
    "target_file_dynamic_match_merge6_f = target_file_dynamic_match_merge6[target_file_dynamic_match_merge6[\n",
    "    \"Is in Dynamic Source?\"].isin(['No Match'])]"
   ]
  },
  {
   "cell_type": "code",
   "execution_count": 269,
   "id": "26151d40",
   "metadata": {},
   "outputs": [],
   "source": [
    "target_file_dynamic_match_merge6_f2 = target_file_dynamic_match_merge6_f[[\"StorePhoneNumber\", \"MerchantExternalId\",\n",
    "                            \"Revisit Date\", 'Primary_key','Is in Dynamic Source?']]"
   ]
  },
  {
   "cell_type": "code",
   "execution_count": 270,
   "id": "701f1d78",
   "metadata": {},
   "outputs": [],
   "source": [
    "target_file_dynamic_match_merge6_f2_mid_merge = target_file_dynamic_match_merge6_f2.merge(For_matching2_mid,\n",
    "                                    on='MerchantExternalId', how='left', indicator=True)"
   ]
  },
  {
   "cell_type": "code",
   "execution_count": 271,
   "id": "f12ff852",
   "metadata": {},
   "outputs": [],
   "source": [
    "target_file_dynamic_match_merge6_f2_mid_merge.rename(columns={'_merge':\"Is the MID in For Matching\"}, inplace=True)"
   ]
  },
  {
   "cell_type": "code",
   "execution_count": 272,
   "id": "39b95ad8",
   "metadata": {},
   "outputs": [],
   "source": [
    "target_file_dynamic_match_merge6_f2_mid_merge.drop_duplicates(subset=['Primary_key'], inplace=True)"
   ]
  },
  {
   "cell_type": "code",
   "execution_count": 273,
   "id": "997ab636",
   "metadata": {},
   "outputs": [],
   "source": [
    "target_file_dynamic_match_merge6_f2_mid_mn_merge = target_file_dynamic_match_merge6_f2_mid_merge.merge(\n",
    "    For_matching2_mn, on='StorePhoneNumber', how='left', indicator=True)"
   ]
  },
  {
   "cell_type": "code",
   "execution_count": 274,
   "id": "4a393174",
   "metadata": {},
   "outputs": [],
   "source": [
    "target_file_dynamic_match_merge6_f2_mid_mn_merge.drop_duplicates(subset=['Primary_key'], inplace=True)"
   ]
  },
  {
   "cell_type": "code",
   "execution_count": 275,
   "id": "392bd20f",
   "metadata": {},
   "outputs": [],
   "source": [
    "target_file_dynamic_match_merge6_f2_mid_mn_merge.rename(\n",
    "    columns={'_merge':\"Is the MN in For Matching\"}, inplace=True)"
   ]
  },
  {
   "cell_type": "code",
   "execution_count": 276,
   "id": "430d2b1c",
   "metadata": {},
   "outputs": [],
   "source": [
    "target_file_dynamic_match_merge6_f2_mid_mn_merge[\n",
    "    'Is the MID in For Matching'] = target_file_dynamic_match_merge6_f2_mid_mn_merge[\n",
    "    'Is the MID in For Matching'].map({\"left_only\":\"No Match\", \"right_only\":\"No Match\", \"both\":\"Match\"})\n",
    "target_file_dynamic_match_merge6_f2_mid_mn_merge[\n",
    "    'Is the MN in For Matching'] = target_file_dynamic_match_merge6_f2_mid_mn_merge[\n",
    "    'Is the MN in For Matching'].map({\"left_only\":\"No Match\", \"right_only\":\"No Match\", \"both\":\"MN Match\"})"
   ]
  },
  {
   "cell_type": "code",
   "execution_count": 277,
   "id": "487d35d5",
   "metadata": {},
   "outputs": [],
   "source": [
    "target_file_dynamic_match_merge6_f2_mid_mn_merge_f = target_file_dynamic_match_merge6_f2_mid_mn_merge[[\n",
    "    \"Primary_key\", 'Is the MID in For Matching', \"Is the MN in For Matching\"]]"
   ]
  },
  {
   "cell_type": "code",
   "execution_count": 278,
   "id": "1cdaa075",
   "metadata": {},
   "outputs": [],
   "source": [
    "target_file_dynamic_match_merge7 = target_file_dynamic_match_merge6.merge(\n",
    "    target_file_dynamic_match_merge6_f2_mid_mn_merge_f, on=\"Primary_key\", how='left')"
   ]
  },
  {
   "cell_type": "code",
   "execution_count": 279,
   "id": "79c9afc3",
   "metadata": {},
   "outputs": [],
   "source": [
    "target_file_dynamic_match_merge7.drop_duplicates(subset=['Primary_key'], inplace=True)"
   ]
  },
  {
   "cell_type": "markdown",
   "id": "26d96932",
   "metadata": {},
   "source": [
    "# Cheating Columns Is in Source File based on Merchant Ext ID? & Is in Source File based on Merchant Mobile Number?"
   ]
  },
  {
   "cell_type": "code",
   "execution_count": 280,
   "id": "018581bd",
   "metadata": {},
   "outputs": [],
   "source": [
    "target_file_dynamic_match_merge7[\"Is the mid q2 source?\"].replace(\"No Match\", np.nan, inplace=True)\n",
    "target_file_dynamic_match_merge7[\"Is the mn q2 source?\"].replace(\"No Match\", np.nan, inplace=True)"
   ]
  },
  {
   "cell_type": "code",
   "execution_count": 281,
   "id": "3dc09b02",
   "metadata": {},
   "outputs": [],
   "source": [
    "target_file_dynamic_match_merge7['Is in Source File based on Merchant Ext ID?'] = np.nan\n",
    "target_file_dynamic_match_merge7['Is in Source File based on Merchant Mobile Number?'] = np.nan"
   ]
  },
  {
   "cell_type": "code",
   "execution_count": 282,
   "id": "124c46a4",
   "metadata": {},
   "outputs": [],
   "source": [
    "target_file_dynamic_match_merge7['Is in Source File based on Merchant Ext ID?'].fillna(\n",
    "    target_file_dynamic_match_merge7['Is the mid q2 source?'], inplace=True)\n",
    "target_file_dynamic_match_merge7['Is in Source File based on Merchant Ext ID?'].fillna(\n",
    "    target_file_dynamic_match_merge7['Is MID in Q1 Source?'], inplace=True)\n",
    "target_file_dynamic_match_merge7['Is in Source File based on Merchant Ext ID?'].fillna(\n",
    "    target_file_dynamic_match_merge7['Is the MID in For Matching'], inplace=True)"
   ]
  },
  {
   "cell_type": "code",
   "execution_count": 283,
   "id": "fdd431bf",
   "metadata": {},
   "outputs": [],
   "source": [
    "target_file_dynamic_match_merge7['Is in Source File based on Merchant Mobile Number?'].fillna(\n",
    "    target_file_dynamic_match_merge7['Is the mn q2 source?'], inplace=True)\n",
    "target_file_dynamic_match_merge7['Is in Source File based on Merchant Mobile Number?'].fillna(\n",
    "    target_file_dynamic_match_merge7['Is MN in Q1 Source?'], inplace=True)\n",
    "target_file_dynamic_match_merge7['Is in Source File based on Merchant Mobile Number?'].fillna(\n",
    "    target_file_dynamic_match_merge7['Is the MN in For Matching'], inplace=True)"
   ]
  },
  {
   "cell_type": "code",
   "execution_count": 284,
   "id": "7379d745",
   "metadata": {},
   "outputs": [],
   "source": [
    "target_file_dynamic_match_merge7[\n",
    "    'Is in Source File based on Merchant Ext ID?'].replace(np.nan, \"No Match\", inplace=True)\n",
    "target_file_dynamic_match_merge7[\n",
    "    'Is in Source File based on Merchant Mobile Number?'].replace(np.nan, \"No Match\", inplace=True)"
   ]
  },
  {
   "cell_type": "markdown",
   "id": "0ea74f34",
   "metadata": {},
   "source": [
    "# Filling the empty segment with Vaco_RV_Q2_2022"
   ]
  },
  {
   "cell_type": "code",
   "execution_count": 285,
   "id": "96e47a70",
   "metadata": {},
   "outputs": [
    {
     "data": {
      "text/html": [
       "<div>\n",
       "<style scoped>\n",
       "    .dataframe tbody tr th:only-of-type {\n",
       "        vertical-align: middle;\n",
       "    }\n",
       "\n",
       "    .dataframe tbody tr th {\n",
       "        vertical-align: top;\n",
       "    }\n",
       "\n",
       "    .dataframe thead th {\n",
       "        text-align: right;\n",
       "    }\n",
       "</style>\n",
       "<table border=\"1\" class=\"dataframe\">\n",
       "  <thead>\n",
       "    <tr style=\"text-align: right;\">\n",
       "      <th></th>\n",
       "      <th>Owner Mobile No.</th>\n",
       "      <th>segments_vaco_mn</th>\n",
       "    </tr>\n",
       "  </thead>\n",
       "  <tbody>\n",
       "    <tr>\n",
       "      <th>0</th>\n",
       "      <td>9606168166</td>\n",
       "      <td>active</td>\n",
       "    </tr>\n",
       "  </tbody>\n",
       "</table>\n",
       "</div>"
      ],
      "text/plain": [
       "  Owner Mobile No. segments_vaco_mn\n",
       "0       9606168166           active"
      ]
     },
     "execution_count": 285,
     "metadata": {},
     "output_type": "execute_result"
    }
   ],
   "source": [
    "Vaco_RV_Q2_2022.head(1)"
   ]
  },
  {
   "cell_type": "code",
   "execution_count": 286,
   "id": "8fbf5483",
   "metadata": {},
   "outputs": [],
   "source": [
    "target_file_dynamic_match_merge7_f = target_file_dynamic_match_merge7[['StorePhoneNumber', 'Primary_key', \n",
    "                                                                       \"Is in Dynamic Source?\"]]"
   ]
  },
  {
   "cell_type": "code",
   "execution_count": 287,
   "id": "d6d05046",
   "metadata": {
    "scrolled": true
   },
   "outputs": [],
   "source": [
    "target_file_dynamic_match_merge7_1 = target_file_dynamic_match_merge7_f[target_file_dynamic_match_merge7_f[\n",
    "    \"Is in Dynamic Source?\"].isin(['Match', \"MN Match\"])]"
   ]
  },
  {
   "cell_type": "code",
   "execution_count": 288,
   "id": "a0a784bd",
   "metadata": {},
   "outputs": [
    {
     "data": {
      "text/html": [
       "<div>\n",
       "<style scoped>\n",
       "    .dataframe tbody tr th:only-of-type {\n",
       "        vertical-align: middle;\n",
       "    }\n",
       "\n",
       "    .dataframe tbody tr th {\n",
       "        vertical-align: top;\n",
       "    }\n",
       "\n",
       "    .dataframe thead th {\n",
       "        text-align: right;\n",
       "    }\n",
       "</style>\n",
       "<table border=\"1\" class=\"dataframe\">\n",
       "  <thead>\n",
       "    <tr style=\"text-align: right;\">\n",
       "      <th></th>\n",
       "      <th>StorePhoneNumber</th>\n",
       "      <th>Primary_key</th>\n",
       "      <th>Is in Dynamic Source?</th>\n",
       "    </tr>\n",
       "  </thead>\n",
       "  <tbody>\n",
       "    <tr>\n",
       "      <th>0</th>\n",
       "      <td>9822959713</td>\n",
       "      <td>1</td>\n",
       "      <td>Match</td>\n",
       "    </tr>\n",
       "  </tbody>\n",
       "</table>\n",
       "</div>"
      ],
      "text/plain": [
       "   StorePhoneNumber  Primary_key Is in Dynamic Source?\n",
       "0        9822959713            1                 Match"
      ]
     },
     "execution_count": 288,
     "metadata": {},
     "output_type": "execute_result"
    }
   ],
   "source": [
    "target_file_dynamic_match_merge7_1.head(1)"
   ]
  },
  {
   "cell_type": "code",
   "execution_count": 289,
   "id": "9908a8a7",
   "metadata": {},
   "outputs": [
    {
     "data": {
      "text/plain": [
       "array(['Match', 'MN Match'], dtype=object)"
      ]
     },
     "execution_count": 289,
     "metadata": {},
     "output_type": "execute_result"
    }
   ],
   "source": [
    "target_file_dynamic_match_merge7_1['Is in Dynamic Source?'].unique()"
   ]
  },
  {
   "cell_type": "code",
   "execution_count": 290,
   "id": "8dfe203c",
   "metadata": {},
   "outputs": [],
   "source": [
    "Vaco_RV_Q2_2022.rename(columns={'Owner Mobile No.':'StorePhoneNumber'}, inplace=True)"
   ]
  },
  {
   "cell_type": "code",
   "execution_count": 291,
   "id": "ea1c60de",
   "metadata": {},
   "outputs": [],
   "source": [
    "Vaco_RV_Q2_2022['StorePhoneNumber'] = pd.to_numeric(Vaco_RV_Q2_2022['StorePhoneNumber'])"
   ]
  },
  {
   "cell_type": "code",
   "execution_count": 292,
   "id": "f49fcc4e",
   "metadata": {
    "scrolled": true
   },
   "outputs": [],
   "source": [
    "target_file_dynamic_match_merge7_2 = target_file_dynamic_match_merge7_1.merge(\n",
    "    Vaco_RV_Q2_2022, on=\"StorePhoneNumber\", how=\"left\")"
   ]
  },
  {
   "cell_type": "code",
   "execution_count": 293,
   "id": "d6b7559c",
   "metadata": {},
   "outputs": [],
   "source": [
    "target_file_dynamic_match_merge7_2_f = target_file_dynamic_match_merge7_2[['Primary_key', 'segments_vaco_mn']]"
   ]
  },
  {
   "cell_type": "code",
   "execution_count": 294,
   "id": "d363c4ae",
   "metadata": {},
   "outputs": [],
   "source": [
    "target_file_dynamic_match_merge8 = target_file_dynamic_match_merge7.merge(\n",
    "    target_file_dynamic_match_merge7_2_f, on='Primary_key', how='left')"
   ]
  },
  {
   "cell_type": "code",
   "execution_count": 295,
   "id": "feed5249",
   "metadata": {},
   "outputs": [],
   "source": [
    "target_file_dynamic_match_merge8.drop_duplicates(subset=['Primary_key'], inplace=True)"
   ]
  },
  {
   "cell_type": "code",
   "execution_count": 296,
   "id": "0b1a7baa",
   "metadata": {},
   "outputs": [],
   "source": [
    "target_file_dynamic_match_merge8['Segments'].fillna(target_file_dynamic_match_merge8[\n",
    "    'segments_vaco_mn'], inplace=True)"
   ]
  },
  {
   "cell_type": "code",
   "execution_count": 297,
   "id": "fd941bd5",
   "metadata": {},
   "outputs": [],
   "source": [
    "Is_in_source = target_file_dynamic_match_merge8[['MerchantExternalId', 'Segments', \n",
    "                                   'IngestionStatus', 'Report Date','Ingestion Date', 'Revisit Expire Date',\n",
    "                             'Is in Dynamic Source?_Final', 'Is the Dynamic Match Valid?','Is in Dynamic Source?', \n",
    "'Is in Source File based on Merchant Ext ID?', 'Is in Source File based on Merchant Mobile Number?']].rename(\n",
    "    columns={\"Is in Dynamic Source?\": \"Is in Source File?\", 'Is in Dynamic Source?_Final':\"Is in Dynamic Source?\",\n",
    "            \"Report Date\":\"Dynamic Report Date\", \"Ingestion Date\":\"Dynamic Ingestion Date\", \n",
    "             'IngestionStatus':\"Dynamic IngestionStatus\"})"
   ]
  },
  {
   "cell_type": "code",
   "execution_count": 298,
   "id": "883f9827",
   "metadata": {
    "scrolled": true
   },
   "outputs": [
    {
     "data": {
      "text/html": [
       "<div>\n",
       "<style scoped>\n",
       "    .dataframe tbody tr th:only-of-type {\n",
       "        vertical-align: middle;\n",
       "    }\n",
       "\n",
       "    .dataframe tbody tr th {\n",
       "        vertical-align: top;\n",
       "    }\n",
       "\n",
       "    .dataframe thead th {\n",
       "        text-align: right;\n",
       "    }\n",
       "</style>\n",
       "<table border=\"1\" class=\"dataframe\">\n",
       "  <thead>\n",
       "    <tr style=\"text-align: right;\">\n",
       "      <th></th>\n",
       "      <th>MerchantExternalId</th>\n",
       "      <th>Segments</th>\n",
       "      <th>Dynamic IngestionStatus</th>\n",
       "      <th>Dynamic Report Date</th>\n",
       "      <th>Dynamic Ingestion Date</th>\n",
       "      <th>Revisit Expire Date</th>\n",
       "      <th>Is in Dynamic Source?</th>\n",
       "      <th>Is the Dynamic Match Valid?</th>\n",
       "      <th>Is in Source File?</th>\n",
       "      <th>Is in Source File based on Merchant Ext ID?</th>\n",
       "      <th>Is in Source File based on Merchant Mobile Number?</th>\n",
       "    </tr>\n",
       "  </thead>\n",
       "  <tbody>\n",
       "    <tr>\n",
       "      <th>0</th>\n",
       "      <td>BCR2DN4T2C5JLEID</td>\n",
       "      <td>inactive - inr 40 extra pay on txn</td>\n",
       "      <td>ADD</td>\n",
       "      <td>4-Nov-2022</td>\n",
       "      <td>4-Nov-2022</td>\n",
       "      <td>NaN</td>\n",
       "      <td>Match</td>\n",
       "      <td>VALID</td>\n",
       "      <td>Match</td>\n",
       "      <td>Match</td>\n",
       "      <td>No Match</td>\n",
       "    </tr>\n",
       "  </tbody>\n",
       "</table>\n",
       "</div>"
      ],
      "text/plain": [
       "  MerchantExternalId                            Segments  \\\n",
       "0   BCR2DN4T2C5JLEID  inactive - inr 40 extra pay on txn   \n",
       "\n",
       "  Dynamic IngestionStatus Dynamic Report Date Dynamic Ingestion Date  \\\n",
       "0                     ADD          4-Nov-2022             4-Nov-2022   \n",
       "\n",
       "  Revisit Expire Date Is in Dynamic Source? Is the Dynamic Match Valid?  \\\n",
       "0                 NaN                 Match                       VALID   \n",
       "\n",
       "  Is in Source File? Is in Source File based on Merchant Ext ID?  \\\n",
       "0              Match                                       Match   \n",
       "\n",
       "  Is in Source File based on Merchant Mobile Number?  \n",
       "0                                           No Match  "
      ]
     },
     "execution_count": 298,
     "metadata": {},
     "output_type": "execute_result"
    }
   ],
   "source": [
    "Is_in_source.head(1)"
   ]
  },
  {
   "cell_type": "code",
   "execution_count": 299,
   "id": "f271610b",
   "metadata": {},
   "outputs": [],
   "source": [
    "Google_Revisit_f_4_merge = Google_Revisit_f_4.merge(Is_in_source, on='MerchantExternalId', how='left')"
   ]
  },
  {
   "cell_type": "code",
   "execution_count": 300,
   "id": "82466c92",
   "metadata": {},
   "outputs": [],
   "source": [
    "Google_Revisit_f_4_merge.drop_duplicates(subset = ['MerchantExternalId'], inplace = True)"
   ]
  },
  {
   "cell_type": "code",
   "execution_count": 301,
   "id": "b2ebd331",
   "metadata": {},
   "outputs": [],
   "source": [
    "Google_Revisit_f_6 = Google_Revisit_f_4_merge"
   ]
  },
  {
   "cell_type": "code",
   "execution_count": 302,
   "id": "f3fb45cd",
   "metadata": {
    "scrolled": true
   },
   "outputs": [
    {
     "data": {
      "text/plain": [
       "(5307, 32)"
      ]
     },
     "execution_count": 302,
     "metadata": {},
     "output_type": "execute_result"
    }
   ],
   "source": [
    "Google_Revisit_f_6.shape"
   ]
  },
  {
   "cell_type": "code",
   "execution_count": 303,
   "id": "e1c4e754",
   "metadata": {},
   "outputs": [],
   "source": [
    "# Stop Here"
   ]
  },
  {
   "cell_type": "markdown",
   "id": "a4285eb1",
   "metadata": {},
   "source": [
    "# IF R is Blank then RWM App Code\n",
    "### =IF( R2=\"\",IF(T2=\"Yes\",FILTER(RWM!M:M,RWM!AJ:AJ=G2),\"\"),REGEXEXTRACT(R2,\"[0-9]+\"))"
   ]
  },
  {
   "cell_type": "code",
   "execution_count": 304,
   "id": "3ad3190d",
   "metadata": {},
   "outputs": [
    {
     "data": {
      "text/plain": [
       "(5844, 1)"
      ]
     },
     "execution_count": 304,
     "metadata": {},
     "output_type": "execute_result"
    }
   ],
   "source": [
    "RWM_Revisit.shape"
   ]
  },
  {
   "cell_type": "code",
   "execution_count": 305,
   "id": "eeeec8e3",
   "metadata": {},
   "outputs": [
    {
     "data": {
      "text/plain": [
       "(5844, 34)"
      ]
     },
     "execution_count": 305,
     "metadata": {},
     "output_type": "execute_result"
    }
   ],
   "source": [
    "RWM_Revisit_2.shape"
   ]
  },
  {
   "cell_type": "code",
   "execution_count": 306,
   "id": "cad3ee45",
   "metadata": {},
   "outputs": [
    {
     "data": {
      "text/plain": [
       "(5844, 35)"
      ]
     },
     "execution_count": 306,
     "metadata": {},
     "output_type": "execute_result"
    }
   ],
   "source": [
    "RWM_Revisit_Concat.shape"
   ]
  },
  {
   "cell_type": "code",
   "execution_count": 307,
   "id": "d1b8a082",
   "metadata": {},
   "outputs": [
    {
     "data": {
      "text/html": [
       "<div>\n",
       "<style scoped>\n",
       "    .dataframe tbody tr th:only-of-type {\n",
       "        vertical-align: middle;\n",
       "    }\n",
       "\n",
       "    .dataframe tbody tr th {\n",
       "        vertical-align: top;\n",
       "    }\n",
       "\n",
       "    .dataframe thead th {\n",
       "        text-align: right;\n",
       "    }\n",
       "</style>\n",
       "<table border=\"1\" class=\"dataframe\">\n",
       "  <thead>\n",
       "    <tr style=\"text-align: right;\">\n",
       "      <th></th>\n",
       "      <th>Merchant ID</th>\n",
       "      <th>Merchant Name</th>\n",
       "      <th>Visit Count</th>\n",
       "      <th>Business Category</th>\n",
       "      <th>Owner Mobile No.</th>\n",
       "      <th>Follow Up Date</th>\n",
       "      <th>PIN Code</th>\n",
       "      <th>On Boarding Date</th>\n",
       "      <th>On Boarding Time</th>\n",
       "      <th>On-Boarded Employee Code</th>\n",
       "      <th>...</th>\n",
       "      <th>Reason for not Accepting Payments using G-Pay</th>\n",
       "      <th>New Collateral Given : QR Code label</th>\n",
       "      <th>New Collateral Given : G-Pay Accepted Sticker</th>\n",
       "      <th>New Collateral Given : Dangler</th>\n",
       "      <th>QR Code String</th>\n",
       "      <th>Not Interested in Gpay Reasons</th>\n",
       "      <th>Created By</th>\n",
       "      <th>Created Name</th>\n",
       "      <th>Created Date</th>\n",
       "      <th>Merchant Ext ID</th>\n",
       "    </tr>\n",
       "  </thead>\n",
       "  <tbody>\n",
       "    <tr>\n",
       "      <th>0</th>\n",
       "      <td>8356409</td>\n",
       "      <td>sri sanvi hair style's</td>\n",
       "      <td>1</td>\n",
       "      <td>Service</td>\n",
       "      <td>9177126322</td>\n",
       "      <td>NaN</td>\n",
       "      <td>504231</td>\n",
       "      <td>Nov-10-2022</td>\n",
       "      <td>20:51:55</td>\n",
       "      <td>81037</td>\n",
       "      <td>...</td>\n",
       "      <td>NaN</td>\n",
       "      <td>NaN</td>\n",
       "      <td>NaN</td>\n",
       "      <td>NaN</td>\n",
       "      <td>upi://pay?pa=9177126322@okbizaxis&amp;pn=sri%20san...</td>\n",
       "      <td>NaN</td>\n",
       "      <td>81037</td>\n",
       "      <td>Kuntala shiva</td>\n",
       "      <td>Nov-10-2022 20:47:42</td>\n",
       "      <td>BCR2DN4T2SV25CSU</td>\n",
       "    </tr>\n",
       "  </tbody>\n",
       "</table>\n",
       "<p>1 rows × 35 columns</p>\n",
       "</div>"
      ],
      "text/plain": [
       "   Merchant ID           Merchant Name  Visit Count Business Category  \\\n",
       "0      8356409  sri sanvi hair style's            1           Service   \n",
       "\n",
       "   Owner Mobile No. Follow Up Date PIN Code On Boarding Date On Boarding Time  \\\n",
       "0        9177126322            NaN   504231      Nov-10-2022         20:51:55   \n",
       "\n",
       "   On-Boarded Employee Code  ...  \\\n",
       "0                     81037  ...   \n",
       "\n",
       "  Reason for not Accepting Payments using G-Pay  \\\n",
       "0                                           NaN   \n",
       "\n",
       "   New Collateral Given : QR Code label  \\\n",
       "0                                   NaN   \n",
       "\n",
       "  New Collateral Given : G-Pay Accepted Sticker  \\\n",
       "0                                           NaN   \n",
       "\n",
       "  New Collateral Given : Dangler  \\\n",
       "0                            NaN   \n",
       "\n",
       "                                      QR Code String  \\\n",
       "0  upi://pay?pa=9177126322@okbizaxis&pn=sri%20san...   \n",
       "\n",
       "  Not Interested in Gpay Reasons Created By   Created Name  \\\n",
       "0                            NaN      81037  Kuntala shiva   \n",
       "\n",
       "           Created Date   Merchant Ext ID  \n",
       "0  Nov-10-2022 20:47:42  BCR2DN4T2SV25CSU  \n",
       "\n",
       "[1 rows x 35 columns]"
      ]
     },
     "execution_count": 307,
     "metadata": {},
     "output_type": "execute_result"
    }
   ],
   "source": [
    "RWM_Revisit_Concat.head(1)"
   ]
  },
  {
   "cell_type": "code",
   "execution_count": 308,
   "id": "3dd249d6",
   "metadata": {},
   "outputs": [],
   "source": [
    "RWM_mid_ec = RWM_Revisit_Concat.filter(['Merchant Ext ID', 'Employee Code']).rename(\n",
    "    columns={'Merchant Ext ID':'MerchantExternalId'})"
   ]
  },
  {
   "cell_type": "code",
   "execution_count": 309,
   "id": "f9a66a78",
   "metadata": {},
   "outputs": [
    {
     "data": {
      "text/plain": [
       "(5844, 2)"
      ]
     },
     "execution_count": 309,
     "metadata": {},
     "output_type": "execute_result"
    }
   ],
   "source": [
    "RWM_mid_ec.shape"
   ]
  },
  {
   "cell_type": "code",
   "execution_count": 310,
   "id": "8ae7863b",
   "metadata": {},
   "outputs": [],
   "source": [
    "Google_mid_email = Google_Revisit_f_6.filter(['MerchantExternalId', 'AgentEmail'])"
   ]
  },
  {
   "cell_type": "code",
   "execution_count": 311,
   "id": "a5a7a1b3",
   "metadata": {},
   "outputs": [
    {
     "data": {
      "text/plain": [
       "(5307, 2)"
      ]
     },
     "execution_count": 311,
     "metadata": {},
     "output_type": "execute_result"
    }
   ],
   "source": [
    "Google_mid_email.shape"
   ]
  },
  {
   "cell_type": "code",
   "execution_count": 312,
   "id": "7c5f0cf0",
   "metadata": {},
   "outputs": [
    {
     "data": {
      "text/html": [
       "<div>\n",
       "<style scoped>\n",
       "    .dataframe tbody tr th:only-of-type {\n",
       "        vertical-align: middle;\n",
       "    }\n",
       "\n",
       "    .dataframe tbody tr th {\n",
       "        vertical-align: top;\n",
       "    }\n",
       "\n",
       "    .dataframe thead th {\n",
       "        text-align: right;\n",
       "    }\n",
       "</style>\n",
       "<table border=\"1\" class=\"dataframe\">\n",
       "  <thead>\n",
       "    <tr style=\"text-align: right;\">\n",
       "      <th></th>\n",
       "      <th>MerchantExternalId</th>\n",
       "      <th>AgentEmail</th>\n",
       "      <th>Employee Code</th>\n",
       "    </tr>\n",
       "  </thead>\n",
       "  <tbody>\n",
       "    <tr>\n",
       "      <th>0</th>\n",
       "      <td>BCR2DN4T2C5JLEID</td>\n",
       "      <td>sol.20378.vbs@gpayfos.com</td>\n",
       "      <td>20378.0</td>\n",
       "    </tr>\n",
       "    <tr>\n",
       "      <th>1</th>\n",
       "      <td>BCR2DN4T2C5MHWQN</td>\n",
       "      <td>del.30129.vbs@gpayfos.com</td>\n",
       "      <td>30129.0</td>\n",
       "    </tr>\n",
       "    <tr>\n",
       "      <th>2</th>\n",
       "      <td>BCR2DN4T2C7LJ3J7</td>\n",
       "      <td>san.80396.vbs@gpayfos.com</td>\n",
       "      <td>80396.0</td>\n",
       "    </tr>\n",
       "    <tr>\n",
       "      <th>3</th>\n",
       "      <td>BCR2DN4T2CFLNMZH</td>\n",
       "      <td>lat.51071.vbs@gpayfos.com</td>\n",
       "      <td>51071.0</td>\n",
       "    </tr>\n",
       "    <tr>\n",
       "      <th>4</th>\n",
       "      <td>BCR2DN4T2CRL35QP</td>\n",
       "      <td>ind.60813.vbs@gpayfos.com</td>\n",
       "      <td>60813.0</td>\n",
       "    </tr>\n",
       "  </tbody>\n",
       "</table>\n",
       "</div>"
      ],
      "text/plain": [
       "  MerchantExternalId                 AgentEmail  Employee Code\n",
       "0   BCR2DN4T2C5JLEID  sol.20378.vbs@gpayfos.com        20378.0\n",
       "1   BCR2DN4T2C5MHWQN  del.30129.vbs@gpayfos.com        30129.0\n",
       "2   BCR2DN4T2C7LJ3J7  san.80396.vbs@gpayfos.com        80396.0\n",
       "3   BCR2DN4T2CFLNMZH  lat.51071.vbs@gpayfos.com        51071.0\n",
       "4   BCR2DN4T2CRL35QP  ind.60813.vbs@gpayfos.com        60813.0"
      ]
     },
     "execution_count": 312,
     "metadata": {},
     "output_type": "execute_result"
    }
   ],
   "source": [
    "Google_mid_email_merge = Google_mid_email.merge(RWM_mid_ec, how='left', on='MerchantExternalId')\n",
    "Google_mid_email_merge.head(5)"
   ]
  },
  {
   "cell_type": "code",
   "execution_count": 313,
   "id": "5ba6a013",
   "metadata": {},
   "outputs": [
    {
     "data": {
      "text/plain": [
       "(5308, 3)"
      ]
     },
     "execution_count": 313,
     "metadata": {},
     "output_type": "execute_result"
    }
   ],
   "source": [
    "Google_mid_email_merge.shape"
   ]
  },
  {
   "cell_type": "markdown",
   "id": "2a39cbe1",
   "metadata": {},
   "source": [
    "## Extracting the number from test using RegEx"
   ]
  },
  {
   "cell_type": "code",
   "execution_count": 314,
   "id": "2bbc248a",
   "metadata": {},
   "outputs": [],
   "source": [
    "Google_mid_email_merge['IF R is Blank then RWM App Code'] = Google_mid_email_merge[\n",
    "    'AgentEmail'].str.extract('(\\d+)')"
   ]
  },
  {
   "cell_type": "code",
   "execution_count": 315,
   "id": "08e25b29",
   "metadata": {
    "scrolled": true
   },
   "outputs": [
    {
     "data": {
      "text/html": [
       "<div>\n",
       "<style scoped>\n",
       "    .dataframe tbody tr th:only-of-type {\n",
       "        vertical-align: middle;\n",
       "    }\n",
       "\n",
       "    .dataframe tbody tr th {\n",
       "        vertical-align: top;\n",
       "    }\n",
       "\n",
       "    .dataframe thead th {\n",
       "        text-align: right;\n",
       "    }\n",
       "</style>\n",
       "<table border=\"1\" class=\"dataframe\">\n",
       "  <thead>\n",
       "    <tr style=\"text-align: right;\">\n",
       "      <th></th>\n",
       "      <th>MerchantExternalId</th>\n",
       "      <th>AgentEmail</th>\n",
       "      <th>Employee Code</th>\n",
       "      <th>IF R is Blank then RWM App Code</th>\n",
       "    </tr>\n",
       "  </thead>\n",
       "  <tbody>\n",
       "    <tr>\n",
       "      <th>0</th>\n",
       "      <td>BCR2DN4T2C5JLEID</td>\n",
       "      <td>sol.20378.vbs@gpayfos.com</td>\n",
       "      <td>20378.0</td>\n",
       "      <td>20378</td>\n",
       "    </tr>\n",
       "  </tbody>\n",
       "</table>\n",
       "</div>"
      ],
      "text/plain": [
       "  MerchantExternalId                 AgentEmail  Employee Code  \\\n",
       "0   BCR2DN4T2C5JLEID  sol.20378.vbs@gpayfos.com        20378.0   \n",
       "\n",
       "  IF R is Blank then RWM App Code  \n",
       "0                           20378  "
      ]
     },
     "execution_count": 315,
     "metadata": {},
     "output_type": "execute_result"
    }
   ],
   "source": [
    "Google_mid_email_merge.head(1)"
   ]
  },
  {
   "cell_type": "code",
   "execution_count": 316,
   "id": "2a03fc54",
   "metadata": {},
   "outputs": [],
   "source": [
    "Google_mid_email_merge.drop_duplicates(subset = ['MerchantExternalId'], inplace = True)"
   ]
  },
  {
   "cell_type": "code",
   "execution_count": 317,
   "id": "6e4e5f84",
   "metadata": {},
   "outputs": [
    {
     "data": {
      "text/plain": [
       "(5307, 4)"
      ]
     },
     "execution_count": 317,
     "metadata": {},
     "output_type": "execute_result"
    }
   ],
   "source": [
    "Google_mid_email_merge.shape"
   ]
  },
  {
   "cell_type": "markdown",
   "id": "c7c18fbd",
   "metadata": {},
   "source": [
    "### Fill the na (Blank) of one column with another columns"
   ]
  },
  {
   "cell_type": "code",
   "execution_count": 318,
   "id": "69693026",
   "metadata": {},
   "outputs": [],
   "source": [
    "Google_mid_email_merge['IF R is Blank then RWM App Code'].fillna(Google_mid_email_merge[\n",
    "    'Employee Code'], inplace = True)"
   ]
  },
  {
   "cell_type": "markdown",
   "id": "ba633b74",
   "metadata": {},
   "source": [
    "### Filtering and Merging column with the main dataframe "
   ]
  },
  {
   "cell_type": "code",
   "execution_count": 319,
   "id": "f5bf7ec9",
   "metadata": {},
   "outputs": [
    {
     "data": {
      "text/html": [
       "<div>\n",
       "<style scoped>\n",
       "    .dataframe tbody tr th:only-of-type {\n",
       "        vertical-align: middle;\n",
       "    }\n",
       "\n",
       "    .dataframe tbody tr th {\n",
       "        vertical-align: top;\n",
       "    }\n",
       "\n",
       "    .dataframe thead th {\n",
       "        text-align: right;\n",
       "    }\n",
       "</style>\n",
       "<table border=\"1\" class=\"dataframe\">\n",
       "  <thead>\n",
       "    <tr style=\"text-align: right;\">\n",
       "      <th></th>\n",
       "      <th>MerchantExternalId</th>\n",
       "      <th>AgentEmail</th>\n",
       "      <th>Employee Code</th>\n",
       "      <th>IF R is Blank then RWM App Code</th>\n",
       "    </tr>\n",
       "  </thead>\n",
       "  <tbody>\n",
       "    <tr>\n",
       "      <th>0</th>\n",
       "      <td>BCR2DN4T2C5JLEID</td>\n",
       "      <td>sol.20378.vbs@gpayfos.com</td>\n",
       "      <td>20378.0</td>\n",
       "      <td>20378</td>\n",
       "    </tr>\n",
       "  </tbody>\n",
       "</table>\n",
       "</div>"
      ],
      "text/plain": [
       "  MerchantExternalId                 AgentEmail  Employee Code  \\\n",
       "0   BCR2DN4T2C5JLEID  sol.20378.vbs@gpayfos.com        20378.0   \n",
       "\n",
       "  IF R is Blank then RWM App Code  \n",
       "0                           20378  "
      ]
     },
     "execution_count": 319,
     "metadata": {},
     "output_type": "execute_result"
    }
   ],
   "source": [
    "Google_mid_email_merge.head(1)"
   ]
  },
  {
   "cell_type": "code",
   "execution_count": 320,
   "id": "0b6e7fc7",
   "metadata": {},
   "outputs": [],
   "source": [
    "Google_mid_email_f = Google_mid_email_merge.filter(['MerchantExternalId', 'IF R is Blank then RWM App Code'])"
   ]
  },
  {
   "cell_type": "code",
   "execution_count": 321,
   "id": "6b7c6991",
   "metadata": {},
   "outputs": [],
   "source": [
    "Google_Revisit_f_7 = Google_Revisit_f_6.merge(Google_mid_email_f, how = 'left', on = 'MerchantExternalId')"
   ]
  },
  {
   "cell_type": "code",
   "execution_count": 322,
   "id": "4702310e",
   "metadata": {
    "scrolled": true
   },
   "outputs": [
    {
     "data": {
      "text/html": [
       "<div>\n",
       "<style scoped>\n",
       "    .dataframe tbody tr th:only-of-type {\n",
       "        vertical-align: middle;\n",
       "    }\n",
       "\n",
       "    .dataframe tbody tr th {\n",
       "        vertical-align: top;\n",
       "    }\n",
       "\n",
       "    .dataframe thead th {\n",
       "        text-align: right;\n",
       "    }\n",
       "</style>\n",
       "<table border=\"1\" class=\"dataframe\">\n",
       "  <thead>\n",
       "    <tr style=\"text-align: right;\">\n",
       "      <th></th>\n",
       "      <th>StoreName</th>\n",
       "      <th>City</th>\n",
       "      <th>Pincode</th>\n",
       "      <th>StorePhoneNumber</th>\n",
       "      <th>OnboardingTimestamp</th>\n",
       "      <th>TaskSubmissionTimestamp</th>\n",
       "      <th>MerchantExternalId</th>\n",
       "      <th>CompletedSubTaskTypes</th>\n",
       "      <th>AdditionalQRs</th>\n",
       "      <th>PreProvisionedQRCount</th>\n",
       "      <th>...</th>\n",
       "      <th>Dynamic IngestionStatus</th>\n",
       "      <th>Dynamic Report Date</th>\n",
       "      <th>Dynamic Ingestion Date</th>\n",
       "      <th>Revisit Expire Date</th>\n",
       "      <th>Is in Dynamic Source?</th>\n",
       "      <th>Is the Dynamic Match Valid?</th>\n",
       "      <th>Is in Source File?</th>\n",
       "      <th>Is in Source File based on Merchant Ext ID?</th>\n",
       "      <th>Is in Source File based on Merchant Mobile Number?</th>\n",
       "      <th>IF R is Blank then RWM App Code</th>\n",
       "    </tr>\n",
       "  </thead>\n",
       "  <tbody>\n",
       "    <tr>\n",
       "      <th>0</th>\n",
       "      <td>Mangal Jewellers</td>\n",
       "      <td>Solapur</td>\n",
       "      <td>413216</td>\n",
       "      <td>9822959713</td>\n",
       "      <td>5/9/2022 17:41:48</td>\n",
       "      <td>11/10/2022 18:33:47</td>\n",
       "      <td>BCR2DN4T2C5JLEID</td>\n",
       "      <td>PROVISION_VPA, CAPTURE_ADDITIONAL_PICTURES, TA...</td>\n",
       "      <td>NaN</td>\n",
       "      <td>3.0</td>\n",
       "      <td>...</td>\n",
       "      <td>ADD</td>\n",
       "      <td>4-Nov-2022</td>\n",
       "      <td>4-Nov-2022</td>\n",
       "      <td>NaN</td>\n",
       "      <td>Match</td>\n",
       "      <td>VALID</td>\n",
       "      <td>Match</td>\n",
       "      <td>Match</td>\n",
       "      <td>No Match</td>\n",
       "      <td>20378</td>\n",
       "    </tr>\n",
       "  </tbody>\n",
       "</table>\n",
       "<p>1 rows × 33 columns</p>\n",
       "</div>"
      ],
      "text/plain": [
       "          StoreName     City  Pincode  StorePhoneNumber OnboardingTimestamp  \\\n",
       "0  Mangal Jewellers  Solapur   413216        9822959713   5/9/2022 17:41:48   \n",
       "\n",
       "  TaskSubmissionTimestamp MerchantExternalId  \\\n",
       "0     11/10/2022 18:33:47   BCR2DN4T2C5JLEID   \n",
       "\n",
       "                               CompletedSubTaskTypes  AdditionalQRs  \\\n",
       "0  PROVISION_VPA, CAPTURE_ADDITIONAL_PICTURES, TA...            NaN   \n",
       "\n",
       "   PreProvisionedQRCount  ...  Dynamic IngestionStatus  Dynamic Report Date  \\\n",
       "0                    3.0  ...                      ADD           4-Nov-2022   \n",
       "\n",
       "  Dynamic Ingestion Date Revisit Expire Date Is in Dynamic Source?  \\\n",
       "0             4-Nov-2022                 NaN                 Match   \n",
       "\n",
       "  Is the Dynamic Match Valid? Is in Source File?  \\\n",
       "0                       VALID              Match   \n",
       "\n",
       "  Is in Source File based on Merchant Ext ID?  \\\n",
       "0                                       Match   \n",
       "\n",
       "   Is in Source File based on Merchant Mobile Number?  \\\n",
       "0                                           No Match    \n",
       "\n",
       "  IF R is Blank then RWM App Code  \n",
       "0                           20378  \n",
       "\n",
       "[1 rows x 33 columns]"
      ]
     },
     "execution_count": 322,
     "metadata": {},
     "output_type": "execute_result"
    }
   ],
   "source": [
    "Google_Revisit_f_7.head(1)"
   ]
  },
  {
   "cell_type": "markdown",
   "id": "d736af03",
   "metadata": {},
   "source": [
    "# Team View City"
   ]
  },
  {
   "cell_type": "code",
   "execution_count": 323,
   "id": "8dd95b3c",
   "metadata": {
    "scrolled": true
   },
   "outputs": [
    {
     "data": {
      "text/html": [
       "<div>\n",
       "<style scoped>\n",
       "    .dataframe tbody tr th:only-of-type {\n",
       "        vertical-align: middle;\n",
       "    }\n",
       "\n",
       "    .dataframe tbody tr th {\n",
       "        vertical-align: top;\n",
       "    }\n",
       "\n",
       "    .dataframe thead th {\n",
       "        text-align: right;\n",
       "    }\n",
       "</style>\n",
       "<table border=\"1\" class=\"dataframe\">\n",
       "  <thead>\n",
       "    <tr style=\"text-align: right;\">\n",
       "      <th></th>\n",
       "      <th>DOJ</th>\n",
       "      <th>Aadhar Number</th>\n",
       "      <th>Staffing Partner</th>\n",
       "      <th>Current Partner Name</th>\n",
       "      <th>EMP_Name</th>\n",
       "      <th>EMP_Code</th>\n",
       "      <th>Mobile_Number</th>\n",
       "      <th>City</th>\n",
       "      <th>RoleName</th>\n",
       "      <th>Pan_No</th>\n",
       "      <th>...</th>\n",
       "      <th>Created_By</th>\n",
       "      <th>Created_Date</th>\n",
       "      <th>LDAP</th>\n",
       "      <th>ReferredBy</th>\n",
       "      <th>FirstOnboardingDate</th>\n",
       "      <th>FirstRevisitDate</th>\n",
       "      <th>LastOnboardingDate</th>\n",
       "      <th>LastRevisitDate</th>\n",
       "      <th>Last_Working_Date</th>\n",
       "      <th>QRCode</th>\n",
       "    </tr>\n",
       "  </thead>\n",
       "  <tbody>\n",
       "    <tr>\n",
       "      <th>0</th>\n",
       "      <td>5-Feb-2021</td>\n",
       "      <td>201401299523</td>\n",
       "      <td>AccuraFind</td>\n",
       "      <td>AccuraFind</td>\n",
       "      <td>PRAKASH</td>\n",
       "      <td>33803</td>\n",
       "      <td>8800166939</td>\n",
       "      <td>Gmap Gurgaon</td>\n",
       "      <td>FSE</td>\n",
       "      <td>EQLPP5850A</td>\n",
       "      <td>...</td>\n",
       "      <td>Pankaj.Kumar</td>\n",
       "      <td>2021-02-05</td>\n",
       "      <td>NaN</td>\n",
       "      <td>NaN</td>\n",
       "      <td>NaN</td>\n",
       "      <td>NaN</td>\n",
       "      <td>NaN</td>\n",
       "      <td>NaN</td>\n",
       "      <td>05-Feb-21</td>\n",
       "      <td>NaN</td>\n",
       "    </tr>\n",
       "  </tbody>\n",
       "</table>\n",
       "<p>1 rows × 46 columns</p>\n",
       "</div>"
      ],
      "text/plain": [
       "          DOJ Aadhar Number Staffing Partner  Current Partner Name EMP_Name  \\\n",
       "0  5-Feb-2021  201401299523        AccuraFind           AccuraFind  PRAKASH   \n",
       "\n",
       "   EMP_Code  Mobile_Number          City RoleName      Pan_No  ...  \\\n",
       "0     33803     8800166939  Gmap Gurgaon      FSE  EQLPP5850A  ...   \n",
       "\n",
       "     Created_By Created_Date LDAP  ReferredBy FirstOnboardingDate  \\\n",
       "0  Pankaj.Kumar   2021-02-05  NaN         NaN                 NaN   \n",
       "\n",
       "   FirstRevisitDate LastOnboardingDate  LastRevisitDate Last_Working_Date  \\\n",
       "0               NaN                NaN              NaN         05-Feb-21   \n",
       "\n",
       "   QRCode  \n",
       "0     NaN  \n",
       "\n",
       "[1 rows x 46 columns]"
      ]
     },
     "execution_count": 323,
     "metadata": {},
     "output_type": "execute_result"
    }
   ],
   "source": [
    "team_view_bi_overall.head(1)"
   ]
  },
  {
   "cell_type": "code",
   "execution_count": 324,
   "id": "c6e1fb4b",
   "metadata": {},
   "outputs": [],
   "source": [
    "team_view_bi_overall_f = team_view_bi_overall.filter([\n",
    "    'EMP_Code', 'City']).rename(columns={'EMP_Code':'IF R is Blank then RWM App Code'})"
   ]
  },
  {
   "cell_type": "code",
   "execution_count": 325,
   "id": "af5ee819",
   "metadata": {},
   "outputs": [
    {
     "data": {
      "text/html": [
       "<div>\n",
       "<style scoped>\n",
       "    .dataframe tbody tr th:only-of-type {\n",
       "        vertical-align: middle;\n",
       "    }\n",
       "\n",
       "    .dataframe tbody tr th {\n",
       "        vertical-align: top;\n",
       "    }\n",
       "\n",
       "    .dataframe thead th {\n",
       "        text-align: right;\n",
       "    }\n",
       "</style>\n",
       "<table border=\"1\" class=\"dataframe\">\n",
       "  <thead>\n",
       "    <tr style=\"text-align: right;\">\n",
       "      <th></th>\n",
       "      <th>IF R is Blank then RWM App Code</th>\n",
       "      <th>City</th>\n",
       "    </tr>\n",
       "  </thead>\n",
       "  <tbody>\n",
       "    <tr>\n",
       "      <th>0</th>\n",
       "      <td>33803</td>\n",
       "      <td>Gmap Gurgaon</td>\n",
       "    </tr>\n",
       "  </tbody>\n",
       "</table>\n",
       "</div>"
      ],
      "text/plain": [
       "   IF R is Blank then RWM App Code          City\n",
       "0                            33803  Gmap Gurgaon"
      ]
     },
     "execution_count": 325,
     "metadata": {},
     "output_type": "execute_result"
    }
   ],
   "source": [
    "team_view_bi_overall_f.head(1)"
   ]
  },
  {
   "cell_type": "code",
   "execution_count": 326,
   "id": "bd22a61e",
   "metadata": {},
   "outputs": [],
   "source": [
    "Google_Revisit_f_7_bi_f = Google_Revisit_f_7.filter(['IF R is Blank then RWM App Code'])"
   ]
  },
  {
   "cell_type": "code",
   "execution_count": 327,
   "id": "1e59052a",
   "metadata": {},
   "outputs": [
    {
     "data": {
      "text/plain": [
       "IF R is Blank then RWM App Code    object\n",
       "dtype: object"
      ]
     },
     "execution_count": 327,
     "metadata": {},
     "output_type": "execute_result"
    }
   ],
   "source": [
    "Google_Revisit_f_7_bi_f.dtypes"
   ]
  },
  {
   "cell_type": "code",
   "execution_count": 328,
   "id": "e9f0baca",
   "metadata": {},
   "outputs": [],
   "source": [
    "Google_Revisit_f_7_bi_f['IF R is Blank then RWM App Code'] = pd.to_numeric(Google_Revisit_f_7_bi_f[\n",
    "    'IF R is Blank then RWM App Code'], downcast='integer')"
   ]
  },
  {
   "cell_type": "code",
   "execution_count": 329,
   "id": "288d43f3",
   "metadata": {},
   "outputs": [],
   "source": [
    "Google_Revisit_f_7_bi_merge = Google_Revisit_f_7_bi_f.merge(team_view_bi_overall_f, how = 'left', on = 'IF R is Blank then RWM App Code')"
   ]
  },
  {
   "cell_type": "code",
   "execution_count": 330,
   "id": "5890d0b3",
   "metadata": {},
   "outputs": [
    {
     "data": {
      "text/plain": [
       "(5307, 2)"
      ]
     },
     "execution_count": 330,
     "metadata": {},
     "output_type": "execute_result"
    }
   ],
   "source": [
    "Google_Revisit_f_7_bi_merge.shape"
   ]
  },
  {
   "cell_type": "code",
   "execution_count": 331,
   "id": "1efed76b",
   "metadata": {},
   "outputs": [
    {
     "data": {
      "text/html": [
       "<div>\n",
       "<style scoped>\n",
       "    .dataframe tbody tr th:only-of-type {\n",
       "        vertical-align: middle;\n",
       "    }\n",
       "\n",
       "    .dataframe tbody tr th {\n",
       "        vertical-align: top;\n",
       "    }\n",
       "\n",
       "    .dataframe thead th {\n",
       "        text-align: right;\n",
       "    }\n",
       "</style>\n",
       "<table border=\"1\" class=\"dataframe\">\n",
       "  <thead>\n",
       "    <tr style=\"text-align: right;\">\n",
       "      <th></th>\n",
       "      <th>IF R is Blank then RWM App Code</th>\n",
       "      <th>City</th>\n",
       "    </tr>\n",
       "  </thead>\n",
       "  <tbody>\n",
       "    <tr>\n",
       "      <th>0</th>\n",
       "      <td>20378</td>\n",
       "      <td>Solapur</td>\n",
       "    </tr>\n",
       "  </tbody>\n",
       "</table>\n",
       "</div>"
      ],
      "text/plain": [
       "   IF R is Blank then RWM App Code     City\n",
       "0                            20378  Solapur"
      ]
     },
     "execution_count": 331,
     "metadata": {},
     "output_type": "execute_result"
    }
   ],
   "source": [
    "Google_Revisit_f_7_bi_merge.head(1)"
   ]
  },
  {
   "cell_type": "code",
   "execution_count": 332,
   "id": "e381d860",
   "metadata": {},
   "outputs": [],
   "source": [
    "Google_Revisit_f_7_bi_merge.rename(columns = {'City': 'Team View City'}, inplace = True)"
   ]
  },
  {
   "cell_type": "code",
   "execution_count": 333,
   "id": "e4b4a2e7",
   "metadata": {
    "scrolled": true
   },
   "outputs": [
    {
     "data": {
      "text/html": [
       "<div>\n",
       "<style scoped>\n",
       "    .dataframe tbody tr th:only-of-type {\n",
       "        vertical-align: middle;\n",
       "    }\n",
       "\n",
       "    .dataframe tbody tr th {\n",
       "        vertical-align: top;\n",
       "    }\n",
       "\n",
       "    .dataframe thead th {\n",
       "        text-align: right;\n",
       "    }\n",
       "</style>\n",
       "<table border=\"1\" class=\"dataframe\">\n",
       "  <thead>\n",
       "    <tr style=\"text-align: right;\">\n",
       "      <th></th>\n",
       "      <th>IF R is Blank then RWM App Code</th>\n",
       "      <th>Team View City</th>\n",
       "    </tr>\n",
       "  </thead>\n",
       "  <tbody>\n",
       "    <tr>\n",
       "      <th>0</th>\n",
       "      <td>20378</td>\n",
       "      <td>Solapur</td>\n",
       "    </tr>\n",
       "  </tbody>\n",
       "</table>\n",
       "</div>"
      ],
      "text/plain": [
       "   IF R is Blank then RWM App Code Team View City\n",
       "0                            20378        Solapur"
      ]
     },
     "execution_count": 333,
     "metadata": {},
     "output_type": "execute_result"
    }
   ],
   "source": [
    "Google_Revisit_f_7_bi_merge.head(1)"
   ]
  },
  {
   "cell_type": "markdown",
   "id": "337e9b86",
   "metadata": {},
   "source": [
    "### Adding the team view city with the Google_Revisit_f_7"
   ]
  },
  {
   "cell_type": "code",
   "execution_count": 334,
   "id": "ac8cda09",
   "metadata": {},
   "outputs": [],
   "source": [
    "Google_Revisit_f_8 = pd.concat([Google_Revisit_f_7,Google_Revisit_f_7_bi_merge['Team View City']], axis=1, join='inner')"
   ]
  },
  {
   "cell_type": "code",
   "execution_count": 335,
   "id": "a92c3c8b",
   "metadata": {
    "scrolled": true
   },
   "outputs": [
    {
     "data": {
      "text/html": [
       "<div>\n",
       "<style scoped>\n",
       "    .dataframe tbody tr th:only-of-type {\n",
       "        vertical-align: middle;\n",
       "    }\n",
       "\n",
       "    .dataframe tbody tr th {\n",
       "        vertical-align: top;\n",
       "    }\n",
       "\n",
       "    .dataframe thead th {\n",
       "        text-align: right;\n",
       "    }\n",
       "</style>\n",
       "<table border=\"1\" class=\"dataframe\">\n",
       "  <thead>\n",
       "    <tr style=\"text-align: right;\">\n",
       "      <th></th>\n",
       "      <th>StoreName</th>\n",
       "      <th>City</th>\n",
       "      <th>Pincode</th>\n",
       "      <th>StorePhoneNumber</th>\n",
       "      <th>OnboardingTimestamp</th>\n",
       "      <th>TaskSubmissionTimestamp</th>\n",
       "      <th>MerchantExternalId</th>\n",
       "      <th>CompletedSubTaskTypes</th>\n",
       "      <th>AdditionalQRs</th>\n",
       "      <th>PreProvisionedQRCount</th>\n",
       "      <th>...</th>\n",
       "      <th>Dynamic Report Date</th>\n",
       "      <th>Dynamic Ingestion Date</th>\n",
       "      <th>Revisit Expire Date</th>\n",
       "      <th>Is in Dynamic Source?</th>\n",
       "      <th>Is the Dynamic Match Valid?</th>\n",
       "      <th>Is in Source File?</th>\n",
       "      <th>Is in Source File based on Merchant Ext ID?</th>\n",
       "      <th>Is in Source File based on Merchant Mobile Number?</th>\n",
       "      <th>IF R is Blank then RWM App Code</th>\n",
       "      <th>Team View City</th>\n",
       "    </tr>\n",
       "  </thead>\n",
       "  <tbody>\n",
       "    <tr>\n",
       "      <th>0</th>\n",
       "      <td>Mangal Jewellers</td>\n",
       "      <td>Solapur</td>\n",
       "      <td>413216</td>\n",
       "      <td>9822959713</td>\n",
       "      <td>5/9/2022 17:41:48</td>\n",
       "      <td>11/10/2022 18:33:47</td>\n",
       "      <td>BCR2DN4T2C5JLEID</td>\n",
       "      <td>PROVISION_VPA, CAPTURE_ADDITIONAL_PICTURES, TA...</td>\n",
       "      <td>NaN</td>\n",
       "      <td>3.0</td>\n",
       "      <td>...</td>\n",
       "      <td>4-Nov-2022</td>\n",
       "      <td>4-Nov-2022</td>\n",
       "      <td>NaN</td>\n",
       "      <td>Match</td>\n",
       "      <td>VALID</td>\n",
       "      <td>Match</td>\n",
       "      <td>Match</td>\n",
       "      <td>No Match</td>\n",
       "      <td>20378</td>\n",
       "      <td>Solapur</td>\n",
       "    </tr>\n",
       "  </tbody>\n",
       "</table>\n",
       "<p>1 rows × 34 columns</p>\n",
       "</div>"
      ],
      "text/plain": [
       "          StoreName     City  Pincode  StorePhoneNumber OnboardingTimestamp  \\\n",
       "0  Mangal Jewellers  Solapur   413216        9822959713   5/9/2022 17:41:48   \n",
       "\n",
       "  TaskSubmissionTimestamp MerchantExternalId  \\\n",
       "0     11/10/2022 18:33:47   BCR2DN4T2C5JLEID   \n",
       "\n",
       "                               CompletedSubTaskTypes  AdditionalQRs  \\\n",
       "0  PROVISION_VPA, CAPTURE_ADDITIONAL_PICTURES, TA...            NaN   \n",
       "\n",
       "   PreProvisionedQRCount  ...  Dynamic Report Date  Dynamic Ingestion Date  \\\n",
       "0                    3.0  ...           4-Nov-2022              4-Nov-2022   \n",
       "\n",
       "  Revisit Expire Date Is in Dynamic Source? Is the Dynamic Match Valid?  \\\n",
       "0                 NaN                 Match                       VALID   \n",
       "\n",
       "  Is in Source File? Is in Source File based on Merchant Ext ID?  \\\n",
       "0              Match                                       Match   \n",
       "\n",
       "  Is in Source File based on Merchant Mobile Number?  \\\n",
       "0                                           No Match   \n",
       "\n",
       "   IF R is Blank then RWM App Code Team View City  \n",
       "0                            20378        Solapur  \n",
       "\n",
       "[1 rows x 34 columns]"
      ]
     },
     "execution_count": 335,
     "metadata": {},
     "output_type": "execute_result"
    }
   ],
   "source": [
    "Google_Revisit_f_8.head(1)"
   ]
  },
  {
   "cell_type": "code",
   "execution_count": 336,
   "id": "9622a726",
   "metadata": {},
   "outputs": [],
   "source": [
    "latest_team_view_bi_f = latest_team_view_bi[['Employee Code', 'City']].rename(\n",
    "    columns={'Employee Code':'IF R is Blank then RWM App Code', 'City':'latest city'})"
   ]
  },
  {
   "cell_type": "code",
   "execution_count": 337,
   "id": "7d159c4d",
   "metadata": {
    "scrolled": true
   },
   "outputs": [],
   "source": [
    "Google_Revisit_f_8['IF R is Blank then RWM App Code'] = pd.to_numeric(Google_Revisit_f_8[\n",
    "    'IF R is Blank then RWM App Code'])"
   ]
  },
  {
   "cell_type": "code",
   "execution_count": 338,
   "id": "b7c22b36",
   "metadata": {},
   "outputs": [],
   "source": [
    "Google_Revisit_f_8['IF R is Blank then RWM App Code'].replace(np.nan, 00000, inplace=True)"
   ]
  },
  {
   "cell_type": "code",
   "execution_count": 339,
   "id": "cfe7806c",
   "metadata": {
    "scrolled": true
   },
   "outputs": [],
   "source": [
    "Google_Revisit_f_8_merge = Google_Revisit_f_8.merge(\n",
    "    latest_team_view_bi_f, on='IF R is Blank then RWM App Code', how='left')"
   ]
  },
  {
   "cell_type": "code",
   "execution_count": 340,
   "id": "3b91de34",
   "metadata": {},
   "outputs": [
    {
     "data": {
      "text/plain": [
       "(5307, 35)"
      ]
     },
     "execution_count": 340,
     "metadata": {},
     "output_type": "execute_result"
    }
   ],
   "source": [
    "Google_Revisit_f_8_merge.shape"
   ]
  },
  {
   "cell_type": "code",
   "execution_count": null,
   "id": "4ab33939",
   "metadata": {},
   "outputs": [],
   "source": []
  },
  {
   "cell_type": "code",
   "execution_count": null,
   "id": "17a68541",
   "metadata": {},
   "outputs": [],
   "source": []
  },
  {
   "cell_type": "code",
   "execution_count": 341,
   "id": "6ebaa449",
   "metadata": {},
   "outputs": [],
   "source": [
    "Google_Revisit_f_8_merge.drop_duplicates(subset = ['MerchantExternalId'], inplace = True)"
   ]
  },
  {
   "cell_type": "code",
   "execution_count": 342,
   "id": "f892817a",
   "metadata": {},
   "outputs": [],
   "source": [
    "Google_Revisit_f_8_merge['latest city'].fillna(Google_Revisit_f_8_merge['Team View City'], inplace=True)"
   ]
  },
  {
   "cell_type": "code",
   "execution_count": 343,
   "id": "d01eda67",
   "metadata": {},
   "outputs": [],
   "source": [
    "Google_Revisit_f_8['IF R is Blank then RWM App Code'].replace( 00000, np.nan, inplace=True)"
   ]
  },
  {
   "cell_type": "code",
   "execution_count": 344,
   "id": "f6711622",
   "metadata": {},
   "outputs": [],
   "source": [
    "Google_Revisit_f_8 = Google_Revisit_f_8_merge"
   ]
  },
  {
   "cell_type": "code",
   "execution_count": 345,
   "id": "6eae3059",
   "metadata": {},
   "outputs": [],
   "source": [
    "Google_Revisit_f_8.rename(columns={'Team View City':'latest city_2'}, inplace=True)"
   ]
  },
  {
   "cell_type": "code",
   "execution_count": 346,
   "id": "672afd55",
   "metadata": {},
   "outputs": [],
   "source": [
    "Google_Revisit_f_8.rename(columns={'latest city':'Team View City'}, inplace=True)"
   ]
  },
  {
   "cell_type": "code",
   "execution_count": null,
   "id": "07f82754",
   "metadata": {},
   "outputs": [],
   "source": []
  },
  {
   "cell_type": "markdown",
   "id": "8de07852",
   "metadata": {},
   "source": [
    "# Task Count \n",
    "## Counting the lenght of the string in dataframe and substracting it"
   ]
  },
  {
   "cell_type": "code",
   "execution_count": 347,
   "id": "ac307b77",
   "metadata": {},
   "outputs": [],
   "source": [
    "Google_Revisit_mid_cstt = Google_Revisit_f_8.filter(['MerchantExternalId', 'CompletedSubTaskTypes'])"
   ]
  },
  {
   "cell_type": "code",
   "execution_count": 348,
   "id": "49bf1599",
   "metadata": {},
   "outputs": [],
   "source": [
    "Google_Revisit_mid_cstt['Total Len'] = Google_Revisit_mid_cstt['CompletedSubTaskTypes'].str.len()"
   ]
  },
  {
   "cell_type": "code",
   "execution_count": 349,
   "id": "c58d6251",
   "metadata": {},
   "outputs": [
    {
     "data": {
      "text/html": [
       "<div>\n",
       "<style scoped>\n",
       "    .dataframe tbody tr th:only-of-type {\n",
       "        vertical-align: middle;\n",
       "    }\n",
       "\n",
       "    .dataframe tbody tr th {\n",
       "        vertical-align: top;\n",
       "    }\n",
       "\n",
       "    .dataframe thead th {\n",
       "        text-align: right;\n",
       "    }\n",
       "</style>\n",
       "<table border=\"1\" class=\"dataframe\">\n",
       "  <thead>\n",
       "    <tr style=\"text-align: right;\">\n",
       "      <th></th>\n",
       "      <th>MerchantExternalId</th>\n",
       "      <th>CompletedSubTaskTypes</th>\n",
       "      <th>Total Len</th>\n",
       "    </tr>\n",
       "  </thead>\n",
       "  <tbody>\n",
       "    <tr>\n",
       "      <th>0</th>\n",
       "      <td>BCR2DN4T2C5JLEID</td>\n",
       "      <td>PROVISION_VPA, CAPTURE_ADDITIONAL_PICTURES, TA...</td>\n",
       "      <td>66.0</td>\n",
       "    </tr>\n",
       "  </tbody>\n",
       "</table>\n",
       "</div>"
      ],
      "text/plain": [
       "  MerchantExternalId                              CompletedSubTaskTypes  \\\n",
       "0   BCR2DN4T2C5JLEID  PROVISION_VPA, CAPTURE_ADDITIONAL_PICTURES, TA...   \n",
       "\n",
       "   Total Len  \n",
       "0       66.0  "
      ]
     },
     "execution_count": 349,
     "metadata": {},
     "output_type": "execute_result"
    }
   ],
   "source": [
    "Google_Revisit_mid_cstt.head(1)"
   ]
  },
  {
   "cell_type": "code",
   "execution_count": 350,
   "id": "40d3141c",
   "metadata": {},
   "outputs": [],
   "source": [
    "Google_Revisit_mid_cstt['CompletedSubTaskTypes with no space'] = Google_Revisit_mid_cstt['CompletedSubTaskTypes'].str.replace(\" \", '')"
   ]
  },
  {
   "cell_type": "code",
   "execution_count": 351,
   "id": "6f5f29a6",
   "metadata": {},
   "outputs": [
    {
     "data": {
      "text/html": [
       "<div>\n",
       "<style scoped>\n",
       "    .dataframe tbody tr th:only-of-type {\n",
       "        vertical-align: middle;\n",
       "    }\n",
       "\n",
       "    .dataframe tbody tr th {\n",
       "        vertical-align: top;\n",
       "    }\n",
       "\n",
       "    .dataframe thead th {\n",
       "        text-align: right;\n",
       "    }\n",
       "</style>\n",
       "<table border=\"1\" class=\"dataframe\">\n",
       "  <thead>\n",
       "    <tr style=\"text-align: right;\">\n",
       "      <th></th>\n",
       "      <th>MerchantExternalId</th>\n",
       "      <th>CompletedSubTaskTypes</th>\n",
       "      <th>Total Len</th>\n",
       "      <th>CompletedSubTaskTypes with no space</th>\n",
       "    </tr>\n",
       "  </thead>\n",
       "  <tbody>\n",
       "    <tr>\n",
       "      <th>0</th>\n",
       "      <td>BCR2DN4T2C5JLEID</td>\n",
       "      <td>PROVISION_VPA, CAPTURE_ADDITIONAL_PICTURES, TA...</td>\n",
       "      <td>66.0</td>\n",
       "      <td>PROVISION_VPA,CAPTURE_ADDITIONAL_PICTURES,TAKE...</td>\n",
       "    </tr>\n",
       "  </tbody>\n",
       "</table>\n",
       "</div>"
      ],
      "text/plain": [
       "  MerchantExternalId                              CompletedSubTaskTypes  \\\n",
       "0   BCR2DN4T2C5JLEID  PROVISION_VPA, CAPTURE_ADDITIONAL_PICTURES, TA...   \n",
       "\n",
       "   Total Len                CompletedSubTaskTypes with no space  \n",
       "0       66.0  PROVISION_VPA,CAPTURE_ADDITIONAL_PICTURES,TAKE...  "
      ]
     },
     "execution_count": 351,
     "metadata": {},
     "output_type": "execute_result"
    }
   ],
   "source": [
    "Google_Revisit_mid_cstt.head(1)"
   ]
  },
  {
   "cell_type": "code",
   "execution_count": 352,
   "id": "d1de8c99",
   "metadata": {},
   "outputs": [],
   "source": [
    "Google_Revisit_mid_cstt['Total Len with no space'] = Google_Revisit_mid_cstt[\n",
    "    'CompletedSubTaskTypes with no space'].str.len()"
   ]
  },
  {
   "cell_type": "code",
   "execution_count": 353,
   "id": "8bafb358",
   "metadata": {},
   "outputs": [
    {
     "data": {
      "text/html": [
       "<div>\n",
       "<style scoped>\n",
       "    .dataframe tbody tr th:only-of-type {\n",
       "        vertical-align: middle;\n",
       "    }\n",
       "\n",
       "    .dataframe tbody tr th {\n",
       "        vertical-align: top;\n",
       "    }\n",
       "\n",
       "    .dataframe thead th {\n",
       "        text-align: right;\n",
       "    }\n",
       "</style>\n",
       "<table border=\"1\" class=\"dataframe\">\n",
       "  <thead>\n",
       "    <tr style=\"text-align: right;\">\n",
       "      <th></th>\n",
       "      <th>MerchantExternalId</th>\n",
       "      <th>CompletedSubTaskTypes</th>\n",
       "      <th>Total Len</th>\n",
       "      <th>CompletedSubTaskTypes with no space</th>\n",
       "      <th>Total Len with no space</th>\n",
       "    </tr>\n",
       "  </thead>\n",
       "  <tbody>\n",
       "    <tr>\n",
       "      <th>0</th>\n",
       "      <td>BCR2DN4T2C5JLEID</td>\n",
       "      <td>PROVISION_VPA, CAPTURE_ADDITIONAL_PICTURES, TA...</td>\n",
       "      <td>66.0</td>\n",
       "      <td>PROVISION_VPA,CAPTURE_ADDITIONAL_PICTURES,TAKE...</td>\n",
       "      <td>64.0</td>\n",
       "    </tr>\n",
       "  </tbody>\n",
       "</table>\n",
       "</div>"
      ],
      "text/plain": [
       "  MerchantExternalId                              CompletedSubTaskTypes  \\\n",
       "0   BCR2DN4T2C5JLEID  PROVISION_VPA, CAPTURE_ADDITIONAL_PICTURES, TA...   \n",
       "\n",
       "   Total Len                CompletedSubTaskTypes with no space  \\\n",
       "0       66.0  PROVISION_VPA,CAPTURE_ADDITIONAL_PICTURES,TAKE...   \n",
       "\n",
       "   Total Len with no space  \n",
       "0                     64.0  "
      ]
     },
     "execution_count": 353,
     "metadata": {},
     "output_type": "execute_result"
    }
   ],
   "source": [
    "Google_Revisit_mid_cstt.head(1)"
   ]
  },
  {
   "cell_type": "code",
   "execution_count": 354,
   "id": "0aa7d1b8",
   "metadata": {},
   "outputs": [],
   "source": [
    "Google_Revisit_mid_cstt['Task Count'] = Google_Revisit_mid_cstt['Total Len'] - Google_Revisit_mid_cstt[\n",
    "    'Total Len with no space']"
   ]
  },
  {
   "cell_type": "code",
   "execution_count": 355,
   "id": "dad67b9a",
   "metadata": {},
   "outputs": [
    {
     "data": {
      "text/html": [
       "<div>\n",
       "<style scoped>\n",
       "    .dataframe tbody tr th:only-of-type {\n",
       "        vertical-align: middle;\n",
       "    }\n",
       "\n",
       "    .dataframe tbody tr th {\n",
       "        vertical-align: top;\n",
       "    }\n",
       "\n",
       "    .dataframe thead th {\n",
       "        text-align: right;\n",
       "    }\n",
       "</style>\n",
       "<table border=\"1\" class=\"dataframe\">\n",
       "  <thead>\n",
       "    <tr style=\"text-align: right;\">\n",
       "      <th></th>\n",
       "      <th>MerchantExternalId</th>\n",
       "      <th>CompletedSubTaskTypes</th>\n",
       "      <th>Total Len</th>\n",
       "      <th>CompletedSubTaskTypes with no space</th>\n",
       "      <th>Total Len with no space</th>\n",
       "      <th>Task Count</th>\n",
       "    </tr>\n",
       "  </thead>\n",
       "  <tbody>\n",
       "    <tr>\n",
       "      <th>0</th>\n",
       "      <td>BCR2DN4T2C5JLEID</td>\n",
       "      <td>PROVISION_VPA, CAPTURE_ADDITIONAL_PICTURES, TA...</td>\n",
       "      <td>66.0</td>\n",
       "      <td>PROVISION_VPA,CAPTURE_ADDITIONAL_PICTURES,TAKE...</td>\n",
       "      <td>64.0</td>\n",
       "      <td>2.0</td>\n",
       "    </tr>\n",
       "  </tbody>\n",
       "</table>\n",
       "</div>"
      ],
      "text/plain": [
       "  MerchantExternalId                              CompletedSubTaskTypes  \\\n",
       "0   BCR2DN4T2C5JLEID  PROVISION_VPA, CAPTURE_ADDITIONAL_PICTURES, TA...   \n",
       "\n",
       "   Total Len                CompletedSubTaskTypes with no space  \\\n",
       "0       66.0  PROVISION_VPA,CAPTURE_ADDITIONAL_PICTURES,TAKE...   \n",
       "\n",
       "   Total Len with no space  Task Count  \n",
       "0                     64.0         2.0  "
      ]
     },
     "execution_count": 355,
     "metadata": {},
     "output_type": "execute_result"
    }
   ],
   "source": [
    "Google_Revisit_mid_cstt.head(1)"
   ]
  },
  {
   "cell_type": "markdown",
   "id": "0cfb1a15",
   "metadata": {},
   "source": [
    "### Filling the na (blank) with -1"
   ]
  },
  {
   "cell_type": "code",
   "execution_count": 356,
   "id": "e232ed04",
   "metadata": {},
   "outputs": [],
   "source": [
    "Google_Revisit_mid_cstt['Task Count'].fillna(-1, inplace = True)"
   ]
  },
  {
   "cell_type": "code",
   "execution_count": 357,
   "id": "4faa28be",
   "metadata": {},
   "outputs": [],
   "source": [
    "Google_Revisit_mid_cstt['Task Count'] = Google_Revisit_mid_cstt['Task Count'] + 1"
   ]
  },
  {
   "cell_type": "code",
   "execution_count": 358,
   "id": "06e934fb",
   "metadata": {},
   "outputs": [],
   "source": [
    "Google_Revisit_mid_cstt_f = Google_Revisit_mid_cstt.filter(['MerchantExternalId', 'Task Count'])"
   ]
  },
  {
   "cell_type": "markdown",
   "id": "a4e3e49a",
   "metadata": {},
   "source": [
    "## Combining the above dataframe with the main dataframe"
   ]
  },
  {
   "cell_type": "code",
   "execution_count": 359,
   "id": "0a50ee97",
   "metadata": {},
   "outputs": [
    {
     "data": {
      "text/html": [
       "<div>\n",
       "<style scoped>\n",
       "    .dataframe tbody tr th:only-of-type {\n",
       "        vertical-align: middle;\n",
       "    }\n",
       "\n",
       "    .dataframe tbody tr th {\n",
       "        vertical-align: top;\n",
       "    }\n",
       "\n",
       "    .dataframe thead th {\n",
       "        text-align: right;\n",
       "    }\n",
       "</style>\n",
       "<table border=\"1\" class=\"dataframe\">\n",
       "  <thead>\n",
       "    <tr style=\"text-align: right;\">\n",
       "      <th></th>\n",
       "      <th>MerchantExternalId</th>\n",
       "      <th>Task Count</th>\n",
       "    </tr>\n",
       "  </thead>\n",
       "  <tbody>\n",
       "    <tr>\n",
       "      <th>0</th>\n",
       "      <td>BCR2DN4T2C5JLEID</td>\n",
       "      <td>3.0</td>\n",
       "    </tr>\n",
       "  </tbody>\n",
       "</table>\n",
       "</div>"
      ],
      "text/plain": [
       "  MerchantExternalId  Task Count\n",
       "0   BCR2DN4T2C5JLEID         3.0"
      ]
     },
     "execution_count": 359,
     "metadata": {},
     "output_type": "execute_result"
    }
   ],
   "source": [
    "Google_Revisit_mid_cstt_f.head(1)"
   ]
  },
  {
   "cell_type": "code",
   "execution_count": 360,
   "id": "ad51f45b",
   "metadata": {},
   "outputs": [],
   "source": [
    "Google_Revisit_f_9 = pd.concat([Google_Revisit_f_8, Google_Revisit_mid_cstt_f[\n",
    "    'Task Count']], axis = 1, join = 'inner')"
   ]
  },
  {
   "cell_type": "code",
   "execution_count": 361,
   "id": "8077f203",
   "metadata": {},
   "outputs": [
    {
     "data": {
      "text/html": [
       "<div>\n",
       "<style scoped>\n",
       "    .dataframe tbody tr th:only-of-type {\n",
       "        vertical-align: middle;\n",
       "    }\n",
       "\n",
       "    .dataframe tbody tr th {\n",
       "        vertical-align: top;\n",
       "    }\n",
       "\n",
       "    .dataframe thead th {\n",
       "        text-align: right;\n",
       "    }\n",
       "</style>\n",
       "<table border=\"1\" class=\"dataframe\">\n",
       "  <thead>\n",
       "    <tr style=\"text-align: right;\">\n",
       "      <th></th>\n",
       "      <th>StoreName</th>\n",
       "      <th>City</th>\n",
       "      <th>Pincode</th>\n",
       "      <th>StorePhoneNumber</th>\n",
       "      <th>OnboardingTimestamp</th>\n",
       "      <th>TaskSubmissionTimestamp</th>\n",
       "      <th>MerchantExternalId</th>\n",
       "      <th>CompletedSubTaskTypes</th>\n",
       "      <th>AdditionalQRs</th>\n",
       "      <th>PreProvisionedQRCount</th>\n",
       "      <th>...</th>\n",
       "      <th>Revisit Expire Date</th>\n",
       "      <th>Is in Dynamic Source?</th>\n",
       "      <th>Is the Dynamic Match Valid?</th>\n",
       "      <th>Is in Source File?</th>\n",
       "      <th>Is in Source File based on Merchant Ext ID?</th>\n",
       "      <th>Is in Source File based on Merchant Mobile Number?</th>\n",
       "      <th>IF R is Blank then RWM App Code</th>\n",
       "      <th>latest city_2</th>\n",
       "      <th>Team View City</th>\n",
       "      <th>Task Count</th>\n",
       "    </tr>\n",
       "  </thead>\n",
       "  <tbody>\n",
       "    <tr>\n",
       "      <th>0</th>\n",
       "      <td>Mangal Jewellers</td>\n",
       "      <td>Solapur</td>\n",
       "      <td>413216</td>\n",
       "      <td>9822959713</td>\n",
       "      <td>5/9/2022 17:41:48</td>\n",
       "      <td>11/10/2022 18:33:47</td>\n",
       "      <td>BCR2DN4T2C5JLEID</td>\n",
       "      <td>PROVISION_VPA, CAPTURE_ADDITIONAL_PICTURES, TA...</td>\n",
       "      <td>NaN</td>\n",
       "      <td>3.0</td>\n",
       "      <td>...</td>\n",
       "      <td>NaN</td>\n",
       "      <td>Match</td>\n",
       "      <td>VALID</td>\n",
       "      <td>Match</td>\n",
       "      <td>Match</td>\n",
       "      <td>No Match</td>\n",
       "      <td>20378</td>\n",
       "      <td>Solapur</td>\n",
       "      <td>Solapur</td>\n",
       "      <td>3.0</td>\n",
       "    </tr>\n",
       "  </tbody>\n",
       "</table>\n",
       "<p>1 rows × 36 columns</p>\n",
       "</div>"
      ],
      "text/plain": [
       "          StoreName     City  Pincode  StorePhoneNumber OnboardingTimestamp  \\\n",
       "0  Mangal Jewellers  Solapur   413216        9822959713   5/9/2022 17:41:48   \n",
       "\n",
       "  TaskSubmissionTimestamp MerchantExternalId  \\\n",
       "0     11/10/2022 18:33:47   BCR2DN4T2C5JLEID   \n",
       "\n",
       "                               CompletedSubTaskTypes  AdditionalQRs  \\\n",
       "0  PROVISION_VPA, CAPTURE_ADDITIONAL_PICTURES, TA...            NaN   \n",
       "\n",
       "   PreProvisionedQRCount  ...  Revisit Expire Date  Is in Dynamic Source?  \\\n",
       "0                    3.0  ...                  NaN                  Match   \n",
       "\n",
       "  Is the Dynamic Match Valid? Is in Source File?  \\\n",
       "0                       VALID              Match   \n",
       "\n",
       "  Is in Source File based on Merchant Ext ID?  \\\n",
       "0                                       Match   \n",
       "\n",
       "  Is in Source File based on Merchant Mobile Number?  \\\n",
       "0                                           No Match   \n",
       "\n",
       "  IF R is Blank then RWM App Code latest city_2  Team View City Task Count  \n",
       "0                           20378       Solapur         Solapur        3.0  \n",
       "\n",
       "[1 rows x 36 columns]"
      ]
     },
     "execution_count": 361,
     "metadata": {},
     "output_type": "execute_result"
    }
   ],
   "source": [
    "Google_Revisit_f_9.head(1)"
   ]
  },
  {
   "cell_type": "code",
   "execution_count": 362,
   "id": "d144e7c6",
   "metadata": {
    "scrolled": true
   },
   "outputs": [
    {
     "data": {
      "text/plain": [
       "(5307, 36)"
      ]
     },
     "execution_count": 362,
     "metadata": {},
     "output_type": "execute_result"
    }
   ],
   "source": [
    "Google_Revisit_f_9.shape"
   ]
  },
  {
   "cell_type": "markdown",
   "id": "de5ddb06",
   "metadata": {},
   "source": [
    "# Is in Google Daily OB File?"
   ]
  },
  {
   "cell_type": "code",
   "execution_count": 363,
   "id": "b442b45c",
   "metadata": {},
   "outputs": [
    {
     "data": {
      "text/html": [
       "<div>\n",
       "<style scoped>\n",
       "    .dataframe tbody tr th:only-of-type {\n",
       "        vertical-align: middle;\n",
       "    }\n",
       "\n",
       "    .dataframe tbody tr th {\n",
       "        vertical-align: top;\n",
       "    }\n",
       "\n",
       "    .dataframe thead th {\n",
       "        text-align: right;\n",
       "    }\n",
       "</style>\n",
       "<table border=\"1\" class=\"dataframe\">\n",
       "  <thead>\n",
       "    <tr style=\"text-align: right;\">\n",
       "      <th></th>\n",
       "      <th>StoreName</th>\n",
       "      <th>City</th>\n",
       "      <th>Pincode</th>\n",
       "      <th>StorePhoneNumber</th>\n",
       "      <th>OnboardingTimestamp</th>\n",
       "      <th>VerificationTimestamp</th>\n",
       "      <th>AgentEmail</th>\n",
       "      <th>MerchantEmail</th>\n",
       "      <th>MerchantExternalId</th>\n",
       "      <th>Validity</th>\n",
       "      <th>InvalidReason</th>\n",
       "      <th>QRCount</th>\n",
       "      <th>StickerQRCount</th>\n",
       "      <th>StandeeQRCount</th>\n",
       "      <th>OnboardingsFromSamePhoneNumber</th>\n",
       "      <th>GmbOptIn</th>\n",
       "      <th>GmbVerification</th>\n",
       "    </tr>\n",
       "  </thead>\n",
       "  <tbody>\n",
       "    <tr>\n",
       "      <th>0</th>\n",
       "      <td>Ganesh Sai Vegetable Market</td>\n",
       "      <td>Karimnagar</td>\n",
       "      <td>505001</td>\n",
       "      <td>7306427572</td>\n",
       "      <td>10-Nov-2022 13:26:18</td>\n",
       "      <td>10-Nov-2022 13:27:49</td>\n",
       "      <td>kar.49029.vbs@gpayfos.com</td>\n",
       "      <td>prasadchinni01@gmail.com</td>\n",
       "      <td>BCR2DN4T2TVZ3LAW</td>\n",
       "      <td>VALID</td>\n",
       "      <td>INVALID_REASON_UNSPECIFIED</td>\n",
       "      <td>3</td>\n",
       "      <td>2</td>\n",
       "      <td>1</td>\n",
       "      <td>NaN</td>\n",
       "      <td>True</td>\n",
       "      <td>True</td>\n",
       "    </tr>\n",
       "  </tbody>\n",
       "</table>\n",
       "</div>"
      ],
      "text/plain": [
       "                     StoreName        City  Pincode  StorePhoneNumber  \\\n",
       "0  Ganesh Sai Vegetable Market  Karimnagar   505001        7306427572   \n",
       "\n",
       "    OnboardingTimestamp VerificationTimestamp                 AgentEmail  \\\n",
       "0  10-Nov-2022 13:26:18  10-Nov-2022 13:27:49  kar.49029.vbs@gpayfos.com   \n",
       "\n",
       "              MerchantEmail MerchantExternalId Validity  \\\n",
       "0  prasadchinni01@gmail.com   BCR2DN4T2TVZ3LAW    VALID   \n",
       "\n",
       "                InvalidReason  QRCount  StickerQRCount  StandeeQRCount  \\\n",
       "0  INVALID_REASON_UNSPECIFIED        3               2               1   \n",
       "\n",
       "   OnboardingsFromSamePhoneNumber  GmbOptIn GmbVerification  \n",
       "0                             NaN      True            True  "
      ]
     },
     "execution_count": 363,
     "metadata": {},
     "output_type": "execute_result"
    }
   ],
   "source": [
    "Google_OB.head(1)"
   ]
  },
  {
   "cell_type": "code",
   "execution_count": 364,
   "id": "ff6f8405",
   "metadata": {},
   "outputs": [
    {
     "data": {
      "text/plain": [
       "(5307, 36)"
      ]
     },
     "execution_count": 364,
     "metadata": {},
     "output_type": "execute_result"
    }
   ],
   "source": [
    "Google_Revisit_f_9.shape"
   ]
  },
  {
   "cell_type": "code",
   "execution_count": 365,
   "id": "af7a6f09",
   "metadata": {},
   "outputs": [],
   "source": [
    "Google_OB_mid_1 = Google_OB.filter(['MerchantExternalId'])\n",
    "Google_OB_mid_2 = Google_OB.filter(['MerchantExternalId']).rename(columns={'MerchantExternalId':'MerchantExternalId_2'})"
   ]
  },
  {
   "cell_type": "code",
   "execution_count": 366,
   "id": "25dd341e",
   "metadata": {},
   "outputs": [
    {
     "data": {
      "text/plain": [
       "(7640, 2)"
      ]
     },
     "execution_count": 366,
     "metadata": {},
     "output_type": "execute_result"
    }
   ],
   "source": [
    "Google_OB_mid_concat = pd.concat([Google_OB_mid_1, Google_OB_mid_2], axis = 1, join = 'inner')\n",
    "Google_OB_mid_concat.shape"
   ]
  },
  {
   "cell_type": "code",
   "execution_count": 367,
   "id": "caf83def",
   "metadata": {},
   "outputs": [
    {
     "data": {
      "text/plain": [
       "(5307, 2)"
      ]
     },
     "execution_count": 367,
     "metadata": {},
     "output_type": "execute_result"
    }
   ],
   "source": [
    "Google_Revisit_f_9_f = Google_Revisit_f_9.filter(['StorePhoneNumber', 'MerchantExternalId'])\n",
    "Google_Revisit_f_9_f.shape"
   ]
  },
  {
   "cell_type": "code",
   "execution_count": 368,
   "id": "13e6b3fa",
   "metadata": {},
   "outputs": [],
   "source": [
    "Google_Revisit_f_9_mid_merge = Google_Revisit_f_9_f.merge(Google_OB_mid_concat, how='left', on='MerchantExternalId')"
   ]
  },
  {
   "cell_type": "code",
   "execution_count": 369,
   "id": "2f05c163",
   "metadata": {},
   "outputs": [],
   "source": [
    "Google_Revisit_f_9_mid_merge['Unique MID'] = Google_Revisit_f_9_mid_merge[\n",
    "    'MerchantExternalId'] == Google_Revisit_f_9_mid_merge['MerchantExternalId_2']"
   ]
  },
  {
   "cell_type": "code",
   "execution_count": 370,
   "id": "3a4023c1",
   "metadata": {},
   "outputs": [
    {
     "data": {
      "text/html": [
       "<div>\n",
       "<style scoped>\n",
       "    .dataframe tbody tr th:only-of-type {\n",
       "        vertical-align: middle;\n",
       "    }\n",
       "\n",
       "    .dataframe tbody tr th {\n",
       "        vertical-align: top;\n",
       "    }\n",
       "\n",
       "    .dataframe thead th {\n",
       "        text-align: right;\n",
       "    }\n",
       "</style>\n",
       "<table border=\"1\" class=\"dataframe\">\n",
       "  <thead>\n",
       "    <tr style=\"text-align: right;\">\n",
       "      <th></th>\n",
       "      <th>StorePhoneNumber</th>\n",
       "      <th>MerchantExternalId</th>\n",
       "      <th>MerchantExternalId_2</th>\n",
       "      <th>Unique MID</th>\n",
       "    </tr>\n",
       "  </thead>\n",
       "  <tbody>\n",
       "    <tr>\n",
       "      <th>0</th>\n",
       "      <td>9822959713</td>\n",
       "      <td>BCR2DN4T2C5JLEID</td>\n",
       "      <td>NaN</td>\n",
       "      <td>False</td>\n",
       "    </tr>\n",
       "  </tbody>\n",
       "</table>\n",
       "</div>"
      ],
      "text/plain": [
       "   StorePhoneNumber MerchantExternalId MerchantExternalId_2  Unique MID\n",
       "0        9822959713   BCR2DN4T2C5JLEID                  NaN       False"
      ]
     },
     "execution_count": 370,
     "metadata": {},
     "output_type": "execute_result"
    }
   ],
   "source": [
    "Google_Revisit_f_9_mid_merge.head(1)"
   ]
  },
  {
   "cell_type": "code",
   "execution_count": 371,
   "id": "f9bb0c66",
   "metadata": {},
   "outputs": [
    {
     "data": {
      "text/html": [
       "<div>\n",
       "<style scoped>\n",
       "    .dataframe tbody tr th:only-of-type {\n",
       "        vertical-align: middle;\n",
       "    }\n",
       "\n",
       "    .dataframe tbody tr th {\n",
       "        vertical-align: top;\n",
       "    }\n",
       "\n",
       "    .dataframe thead th {\n",
       "        text-align: right;\n",
       "    }\n",
       "</style>\n",
       "<table border=\"1\" class=\"dataframe\">\n",
       "  <thead>\n",
       "    <tr style=\"text-align: right;\">\n",
       "      <th></th>\n",
       "      <th>StorePhoneNumber</th>\n",
       "      <th>MerchantExternalId</th>\n",
       "      <th>MerchantExternalId_2</th>\n",
       "      <th>Unique MID</th>\n",
       "    </tr>\n",
       "  </thead>\n",
       "  <tbody>\n",
       "    <tr>\n",
       "      <th>0</th>\n",
       "      <td>9822959713</td>\n",
       "      <td>BCR2DN4T2C5JLEID</td>\n",
       "      <td>NaN</td>\n",
       "      <td>False</td>\n",
       "    </tr>\n",
       "  </tbody>\n",
       "</table>\n",
       "</div>"
      ],
      "text/plain": [
       "   StorePhoneNumber MerchantExternalId MerchantExternalId_2  Unique MID\n",
       "0        9822959713   BCR2DN4T2C5JLEID                  NaN       False"
      ]
     },
     "execution_count": 371,
     "metadata": {},
     "output_type": "execute_result"
    }
   ],
   "source": [
    "Google_Revisit_f_9_mid_merge.head(1)"
   ]
  },
  {
   "cell_type": "code",
   "execution_count": 372,
   "id": "2d72b1af",
   "metadata": {},
   "outputs": [],
   "source": [
    "Google_Revisit_f_9_mid_merge['Is in Google Daily OB File?'] = Google_Revisit_f_9_mid_merge[\n",
    "    'Unique MID'] "
   ]
  },
  {
   "cell_type": "code",
   "execution_count": 373,
   "id": "939b23bc",
   "metadata": {},
   "outputs": [
    {
     "data": {
      "text/plain": [
       "0       No\n",
       "1       No\n",
       "2       No\n",
       "3       No\n",
       "4       No\n",
       "        ..\n",
       "5302    No\n",
       "5303    No\n",
       "5304    No\n",
       "5305    No\n",
       "5306    No\n",
       "Name: Is in Google Daily OB File?, Length: 5307, dtype: object"
      ]
     },
     "execution_count": 373,
     "metadata": {},
     "output_type": "execute_result"
    }
   ],
   "source": [
    "Google_Revisit_f_9_OB = Google_Revisit_f_9_mid_merge['Is in Google Daily OB File?'].map({True:'Yes', False:'No'})\n",
    "Google_Revisit_f_9_OB"
   ]
  },
  {
   "cell_type": "code",
   "execution_count": 374,
   "id": "bf99f9e7",
   "metadata": {},
   "outputs": [],
   "source": [
    "Google_Revisit_f_10 = pd.concat([Google_Revisit_f_9, Google_Revisit_f_9_OB], axis = 1, join = 'inner')"
   ]
  },
  {
   "cell_type": "code",
   "execution_count": 375,
   "id": "69d600aa",
   "metadata": {
    "scrolled": true
   },
   "outputs": [
    {
     "data": {
      "text/html": [
       "<div>\n",
       "<style scoped>\n",
       "    .dataframe tbody tr th:only-of-type {\n",
       "        vertical-align: middle;\n",
       "    }\n",
       "\n",
       "    .dataframe tbody tr th {\n",
       "        vertical-align: top;\n",
       "    }\n",
       "\n",
       "    .dataframe thead th {\n",
       "        text-align: right;\n",
       "    }\n",
       "</style>\n",
       "<table border=\"1\" class=\"dataframe\">\n",
       "  <thead>\n",
       "    <tr style=\"text-align: right;\">\n",
       "      <th></th>\n",
       "      <th>StoreName</th>\n",
       "      <th>City</th>\n",
       "      <th>Pincode</th>\n",
       "      <th>StorePhoneNumber</th>\n",
       "      <th>OnboardingTimestamp</th>\n",
       "      <th>TaskSubmissionTimestamp</th>\n",
       "      <th>MerchantExternalId</th>\n",
       "      <th>CompletedSubTaskTypes</th>\n",
       "      <th>AdditionalQRs</th>\n",
       "      <th>PreProvisionedQRCount</th>\n",
       "      <th>...</th>\n",
       "      <th>Is in Dynamic Source?</th>\n",
       "      <th>Is the Dynamic Match Valid?</th>\n",
       "      <th>Is in Source File?</th>\n",
       "      <th>Is in Source File based on Merchant Ext ID?</th>\n",
       "      <th>Is in Source File based on Merchant Mobile Number?</th>\n",
       "      <th>IF R is Blank then RWM App Code</th>\n",
       "      <th>latest city_2</th>\n",
       "      <th>Team View City</th>\n",
       "      <th>Task Count</th>\n",
       "      <th>Is in Google Daily OB File?</th>\n",
       "    </tr>\n",
       "  </thead>\n",
       "  <tbody>\n",
       "    <tr>\n",
       "      <th>0</th>\n",
       "      <td>Mangal Jewellers</td>\n",
       "      <td>Solapur</td>\n",
       "      <td>413216</td>\n",
       "      <td>9822959713</td>\n",
       "      <td>5/9/2022 17:41:48</td>\n",
       "      <td>11/10/2022 18:33:47</td>\n",
       "      <td>BCR2DN4T2C5JLEID</td>\n",
       "      <td>PROVISION_VPA, CAPTURE_ADDITIONAL_PICTURES, TA...</td>\n",
       "      <td>NaN</td>\n",
       "      <td>3.0</td>\n",
       "      <td>...</td>\n",
       "      <td>Match</td>\n",
       "      <td>VALID</td>\n",
       "      <td>Match</td>\n",
       "      <td>Match</td>\n",
       "      <td>No Match</td>\n",
       "      <td>20378</td>\n",
       "      <td>Solapur</td>\n",
       "      <td>Solapur</td>\n",
       "      <td>3.0</td>\n",
       "      <td>No</td>\n",
       "    </tr>\n",
       "  </tbody>\n",
       "</table>\n",
       "<p>1 rows × 37 columns</p>\n",
       "</div>"
      ],
      "text/plain": [
       "          StoreName     City  Pincode  StorePhoneNumber OnboardingTimestamp  \\\n",
       "0  Mangal Jewellers  Solapur   413216        9822959713   5/9/2022 17:41:48   \n",
       "\n",
       "  TaskSubmissionTimestamp MerchantExternalId  \\\n",
       "0     11/10/2022 18:33:47   BCR2DN4T2C5JLEID   \n",
       "\n",
       "                               CompletedSubTaskTypes  AdditionalQRs  \\\n",
       "0  PROVISION_VPA, CAPTURE_ADDITIONAL_PICTURES, TA...            NaN   \n",
       "\n",
       "   PreProvisionedQRCount  ...  Is in Dynamic Source?  \\\n",
       "0                    3.0  ...                  Match   \n",
       "\n",
       "   Is the Dynamic Match Valid? Is in Source File?  \\\n",
       "0                        VALID              Match   \n",
       "\n",
       "  Is in Source File based on Merchant Ext ID?  \\\n",
       "0                                       Match   \n",
       "\n",
       "  Is in Source File based on Merchant Mobile Number?  \\\n",
       "0                                           No Match   \n",
       "\n",
       "  IF R is Blank then RWM App Code latest city_2 Team View City  Task Count  \\\n",
       "0                           20378       Solapur        Solapur         3.0   \n",
       "\n",
       "  Is in Google Daily OB File?  \n",
       "0                          No  \n",
       "\n",
       "[1 rows x 37 columns]"
      ]
     },
     "execution_count": 375,
     "metadata": {},
     "output_type": "execute_result"
    }
   ],
   "source": [
    "Google_Revisit_f_10.head(1)"
   ]
  },
  {
   "cell_type": "markdown",
   "id": "8fdd27d6",
   "metadata": {},
   "source": [
    "# Is Previous Revisit same month? and Previous Revisit Date"
   ]
  },
  {
   "cell_type": "code",
   "execution_count": 376,
   "id": "55aa24dd",
   "metadata": {},
   "outputs": [],
   "source": [
    "Previous_google_revisit_mid = Previous_google_revisit.filter([\n",
    "    'TaskSubmissionTimestamp', 'MerchantExternalId', 'Date'])"
   ]
  },
  {
   "cell_type": "code",
   "execution_count": 377,
   "id": "7e98433f",
   "metadata": {},
   "outputs": [
    {
     "data": {
      "text/html": [
       "<div>\n",
       "<style scoped>\n",
       "    .dataframe tbody tr th:only-of-type {\n",
       "        vertical-align: middle;\n",
       "    }\n",
       "\n",
       "    .dataframe tbody tr th {\n",
       "        vertical-align: top;\n",
       "    }\n",
       "\n",
       "    .dataframe thead th {\n",
       "        text-align: right;\n",
       "    }\n",
       "</style>\n",
       "<table border=\"1\" class=\"dataframe\">\n",
       "  <thead>\n",
       "    <tr style=\"text-align: right;\">\n",
       "      <th></th>\n",
       "      <th>TaskSubmissionTimestamp</th>\n",
       "      <th>MerchantExternalId</th>\n",
       "      <th>Date</th>\n",
       "    </tr>\n",
       "  </thead>\n",
       "  <tbody>\n",
       "    <tr>\n",
       "      <th>0</th>\n",
       "      <td>2022-06-07 11:26:54</td>\n",
       "      <td>BCR2DN4T2CA2D3JX</td>\n",
       "      <td>2022-06-07</td>\n",
       "    </tr>\n",
       "  </tbody>\n",
       "</table>\n",
       "</div>"
      ],
      "text/plain": [
       "  TaskSubmissionTimestamp MerchantExternalId       Date\n",
       "0     2022-06-07 11:26:54   BCR2DN4T2CA2D3JX 2022-06-07"
      ]
     },
     "execution_count": 377,
     "metadata": {},
     "output_type": "execute_result"
    }
   ],
   "source": [
    "Previous_google_revisit_mid.head(1)"
   ]
  },
  {
   "cell_type": "code",
   "execution_count": 378,
   "id": "64e4ef8e",
   "metadata": {},
   "outputs": [],
   "source": [
    "Previous_google_revisit_mid_2 = Previous_google_revisit_mid.filter([\n",
    "    'MerchantExternalId']).rename(columns={'MerchantExternalId':'MerchantExternalId_2'})"
   ]
  },
  {
   "cell_type": "code",
   "execution_count": 379,
   "id": "0336eeff",
   "metadata": {},
   "outputs": [],
   "source": [
    "Previous_google_revisit_mid_concat = pd.concat([\n",
    "    Previous_google_revisit_mid ,Previous_google_revisit_mid_2], axis = 1, join = 'inner')"
   ]
  },
  {
   "cell_type": "code",
   "execution_count": 380,
   "id": "54074c04",
   "metadata": {},
   "outputs": [
    {
     "data": {
      "text/plain": [
       "(5307, 1)"
      ]
     },
     "execution_count": 380,
     "metadata": {},
     "output_type": "execute_result"
    }
   ],
   "source": [
    "Google_Revisit_f_10_f = Google_Revisit_f_10.filter(['MerchantExternalId'])\n",
    "Google_Revisit_f_10_f.shape"
   ]
  },
  {
   "cell_type": "code",
   "execution_count": 381,
   "id": "00cbcbe6",
   "metadata": {},
   "outputs": [
    {
     "data": {
      "text/html": [
       "<div>\n",
       "<style scoped>\n",
       "    .dataframe tbody tr th:only-of-type {\n",
       "        vertical-align: middle;\n",
       "    }\n",
       "\n",
       "    .dataframe tbody tr th {\n",
       "        vertical-align: top;\n",
       "    }\n",
       "\n",
       "    .dataframe thead th {\n",
       "        text-align: right;\n",
       "    }\n",
       "</style>\n",
       "<table border=\"1\" class=\"dataframe\">\n",
       "  <thead>\n",
       "    <tr style=\"text-align: right;\">\n",
       "      <th></th>\n",
       "      <th>MerchantExternalId</th>\n",
       "      <th>TaskSubmissionTimestamp</th>\n",
       "      <th>Date</th>\n",
       "      <th>MerchantExternalId_2</th>\n",
       "    </tr>\n",
       "  </thead>\n",
       "  <tbody>\n",
       "    <tr>\n",
       "      <th>0</th>\n",
       "      <td>BCR2DN4T2C5JLEID</td>\n",
       "      <td>2022-06-27 14:00:49</td>\n",
       "      <td>2022-06-27</td>\n",
       "      <td>BCR2DN4T2C5JLEID</td>\n",
       "    </tr>\n",
       "    <tr>\n",
       "      <th>1</th>\n",
       "      <td>BCR2DN4T2C5MHWQN</td>\n",
       "      <td>NaN</td>\n",
       "      <td>NaT</td>\n",
       "      <td>NaN</td>\n",
       "    </tr>\n",
       "    <tr>\n",
       "      <th>2</th>\n",
       "      <td>BCR2DN4T2C7LJ3J7</td>\n",
       "      <td>2022-06-17 17:38:49</td>\n",
       "      <td>2022-06-17</td>\n",
       "      <td>BCR2DN4T2C7LJ3J7</td>\n",
       "    </tr>\n",
       "    <tr>\n",
       "      <th>3</th>\n",
       "      <td>BCR2DN4T2CFLNMZH</td>\n",
       "      <td>8/20/2022 9:21:28</td>\n",
       "      <td>2022-08-20</td>\n",
       "      <td>BCR2DN4T2CFLNMZH</td>\n",
       "    </tr>\n",
       "    <tr>\n",
       "      <th>4</th>\n",
       "      <td>BCR2DN4T2CRL35QP</td>\n",
       "      <td>NaN</td>\n",
       "      <td>NaT</td>\n",
       "      <td>NaN</td>\n",
       "    </tr>\n",
       "    <tr>\n",
       "      <th>...</th>\n",
       "      <td>...</td>\n",
       "      <td>...</td>\n",
       "      <td>...</td>\n",
       "      <td>...</td>\n",
       "    </tr>\n",
       "    <tr>\n",
       "      <th>5411</th>\n",
       "      <td>BCR2DN6TZOC2NRQP</td>\n",
       "      <td>NaN</td>\n",
       "      <td>NaT</td>\n",
       "      <td>NaN</td>\n",
       "    </tr>\n",
       "    <tr>\n",
       "      <th>5412</th>\n",
       "      <td>BCR2DN6TZPE3XKZU</td>\n",
       "      <td>NaN</td>\n",
       "      <td>NaT</td>\n",
       "      <td>NaN</td>\n",
       "    </tr>\n",
       "    <tr>\n",
       "      <th>5413</th>\n",
       "      <td>BCR2DN6TZPEL5UIR</td>\n",
       "      <td>NaN</td>\n",
       "      <td>NaT</td>\n",
       "      <td>NaN</td>\n",
       "    </tr>\n",
       "    <tr>\n",
       "      <th>5414</th>\n",
       "      <td>BCR2DN6TZPKMJQ3L</td>\n",
       "      <td>10/11/2022 11:31:12</td>\n",
       "      <td>2022-10-11</td>\n",
       "      <td>BCR2DN6TZPKMJQ3L</td>\n",
       "    </tr>\n",
       "    <tr>\n",
       "      <th>5415</th>\n",
       "      <td>BCR2DN6TZPTIDCQM</td>\n",
       "      <td>NaN</td>\n",
       "      <td>NaT</td>\n",
       "      <td>NaN</td>\n",
       "    </tr>\n",
       "  </tbody>\n",
       "</table>\n",
       "<p>5416 rows × 4 columns</p>\n",
       "</div>"
      ],
      "text/plain": [
       "     MerchantExternalId TaskSubmissionTimestamp       Date  \\\n",
       "0      BCR2DN4T2C5JLEID     2022-06-27 14:00:49 2022-06-27   \n",
       "1      BCR2DN4T2C5MHWQN                     NaN        NaT   \n",
       "2      BCR2DN4T2C7LJ3J7     2022-06-17 17:38:49 2022-06-17   \n",
       "3      BCR2DN4T2CFLNMZH       8/20/2022 9:21:28 2022-08-20   \n",
       "4      BCR2DN4T2CRL35QP                     NaN        NaT   \n",
       "...                 ...                     ...        ...   \n",
       "5411   BCR2DN6TZOC2NRQP                     NaN        NaT   \n",
       "5412   BCR2DN6TZPE3XKZU                     NaN        NaT   \n",
       "5413   BCR2DN6TZPEL5UIR                     NaN        NaT   \n",
       "5414   BCR2DN6TZPKMJQ3L     10/11/2022 11:31:12 2022-10-11   \n",
       "5415   BCR2DN6TZPTIDCQM                     NaN        NaT   \n",
       "\n",
       "     MerchantExternalId_2  \n",
       "0        BCR2DN4T2C5JLEID  \n",
       "1                     NaN  \n",
       "2        BCR2DN4T2C7LJ3J7  \n",
       "3        BCR2DN4T2CFLNMZH  \n",
       "4                     NaN  \n",
       "...                   ...  \n",
       "5411                  NaN  \n",
       "5412                  NaN  \n",
       "5413                  NaN  \n",
       "5414     BCR2DN6TZPKMJQ3L  \n",
       "5415                  NaN  \n",
       "\n",
       "[5416 rows x 4 columns]"
      ]
     },
     "execution_count": 381,
     "metadata": {},
     "output_type": "execute_result"
    }
   ],
   "source": [
    "Google_Revisit_f_10_merge = Google_Revisit_f_10_f.merge(\n",
    "    Previous_google_revisit_mid_concat, how = 'left', on = 'MerchantExternalId')\n",
    "Google_Revisit_f_10_merge"
   ]
  },
  {
   "cell_type": "code",
   "execution_count": 382,
   "id": "1d78232d",
   "metadata": {},
   "outputs": [],
   "source": [
    "Google_Revisit_f_10_merge.drop_duplicates(subset = ['MerchantExternalId'], inplace = True)"
   ]
  },
  {
   "cell_type": "code",
   "execution_count": 383,
   "id": "7a3f4600",
   "metadata": {},
   "outputs": [
    {
     "data": {
      "text/plain": [
       "(5307, 4)"
      ]
     },
     "execution_count": 383,
     "metadata": {},
     "output_type": "execute_result"
    }
   ],
   "source": [
    "Google_Revisit_f_10_merge.shape"
   ]
  },
  {
   "cell_type": "code",
   "execution_count": 384,
   "id": "a80e5b0c",
   "metadata": {},
   "outputs": [
    {
     "data": {
      "text/html": [
       "<div>\n",
       "<style scoped>\n",
       "    .dataframe tbody tr th:only-of-type {\n",
       "        vertical-align: middle;\n",
       "    }\n",
       "\n",
       "    .dataframe tbody tr th {\n",
       "        vertical-align: top;\n",
       "    }\n",
       "\n",
       "    .dataframe thead th {\n",
       "        text-align: right;\n",
       "    }\n",
       "</style>\n",
       "<table border=\"1\" class=\"dataframe\">\n",
       "  <thead>\n",
       "    <tr style=\"text-align: right;\">\n",
       "      <th></th>\n",
       "      <th>MerchantExternalId</th>\n",
       "      <th>TaskSubmissionTimestamp</th>\n",
       "      <th>Date</th>\n",
       "      <th>MerchantExternalId_2</th>\n",
       "    </tr>\n",
       "  </thead>\n",
       "  <tbody>\n",
       "    <tr>\n",
       "      <th>0</th>\n",
       "      <td>BCR2DN4T2C5JLEID</td>\n",
       "      <td>2022-06-27 14:00:49</td>\n",
       "      <td>2022-06-27</td>\n",
       "      <td>BCR2DN4T2C5JLEID</td>\n",
       "    </tr>\n",
       "  </tbody>\n",
       "</table>\n",
       "</div>"
      ],
      "text/plain": [
       "  MerchantExternalId TaskSubmissionTimestamp       Date MerchantExternalId_2\n",
       "0   BCR2DN4T2C5JLEID     2022-06-27 14:00:49 2022-06-27     BCR2DN4T2C5JLEID"
      ]
     },
     "execution_count": 384,
     "metadata": {},
     "output_type": "execute_result"
    }
   ],
   "source": [
    "Google_Revisit_f_10_merge.head(1)"
   ]
  },
  {
   "cell_type": "code",
   "execution_count": 385,
   "id": "d550f4a0",
   "metadata": {},
   "outputs": [],
   "source": [
    "Google_Revisit_f_10_merge['Is Previous Revisit same month?'] = (Google_Revisit_f_10_merge[\n",
    "    'MerchantExternalId'] == Google_Revisit_f_10_merge['MerchantExternalId_2']).map({True: 'Yes', False: 'No'})"
   ]
  },
  {
   "cell_type": "code",
   "execution_count": 386,
   "id": "0f4f0ff3",
   "metadata": {},
   "outputs": [],
   "source": [
    "Google_Revisit_f_10_f = Google_Revisit_f_10_merge.filter([\n",
    "'MerchantExternalId','Is Previous Revisit same month?','Date']).rename(columns={'Date':'Previous Revisit Date'})"
   ]
  },
  {
   "cell_type": "code",
   "execution_count": 387,
   "id": "db2a128b",
   "metadata": {},
   "outputs": [
    {
     "data": {
      "text/html": [
       "<div>\n",
       "<style scoped>\n",
       "    .dataframe tbody tr th:only-of-type {\n",
       "        vertical-align: middle;\n",
       "    }\n",
       "\n",
       "    .dataframe tbody tr th {\n",
       "        vertical-align: top;\n",
       "    }\n",
       "\n",
       "    .dataframe thead th {\n",
       "        text-align: right;\n",
       "    }\n",
       "</style>\n",
       "<table border=\"1\" class=\"dataframe\">\n",
       "  <thead>\n",
       "    <tr style=\"text-align: right;\">\n",
       "      <th></th>\n",
       "      <th>MerchantExternalId</th>\n",
       "      <th>Is Previous Revisit same month?</th>\n",
       "      <th>Previous Revisit Date</th>\n",
       "    </tr>\n",
       "  </thead>\n",
       "  <tbody>\n",
       "    <tr>\n",
       "      <th>0</th>\n",
       "      <td>BCR2DN4T2C5JLEID</td>\n",
       "      <td>Yes</td>\n",
       "      <td>2022-06-27</td>\n",
       "    </tr>\n",
       "  </tbody>\n",
       "</table>\n",
       "</div>"
      ],
      "text/plain": [
       "  MerchantExternalId Is Previous Revisit same month? Previous Revisit Date\n",
       "0   BCR2DN4T2C5JLEID                             Yes            2022-06-27"
      ]
     },
     "execution_count": 387,
     "metadata": {},
     "output_type": "execute_result"
    }
   ],
   "source": [
    "Google_Revisit_f_10_f.head(1)"
   ]
  },
  {
   "cell_type": "code",
   "execution_count": 388,
   "id": "bd047cc4",
   "metadata": {
    "scrolled": true
   },
   "outputs": [
    {
     "data": {
      "text/plain": [
       "MerchantExternalId                         object\n",
       "Is Previous Revisit same month?            object\n",
       "Previous Revisit Date              datetime64[ns]\n",
       "dtype: object"
      ]
     },
     "execution_count": 388,
     "metadata": {},
     "output_type": "execute_result"
    }
   ],
   "source": [
    "Google_Revisit_f_10_f.dtypes"
   ]
  },
  {
   "cell_type": "markdown",
   "id": "b9cbee47",
   "metadata": {},
   "source": [
    "### Change the Date format to M/DD/YYYY"
   ]
  },
  {
   "cell_type": "code",
   "execution_count": 389,
   "id": "df2ceb44",
   "metadata": {},
   "outputs": [],
   "source": [
    "Google_Revisit_f_10_f['Previous Revisit Date'] = Google_Revisit_f_10_f['Previous Revisit Date'].dt.strftime('%-m/%-d/%Y')"
   ]
  },
  {
   "cell_type": "code",
   "execution_count": 390,
   "id": "cbdf3ced",
   "metadata": {},
   "outputs": [
    {
     "data": {
      "text/html": [
       "<div>\n",
       "<style scoped>\n",
       "    .dataframe tbody tr th:only-of-type {\n",
       "        vertical-align: middle;\n",
       "    }\n",
       "\n",
       "    .dataframe tbody tr th {\n",
       "        vertical-align: top;\n",
       "    }\n",
       "\n",
       "    .dataframe thead th {\n",
       "        text-align: right;\n",
       "    }\n",
       "</style>\n",
       "<table border=\"1\" class=\"dataframe\">\n",
       "  <thead>\n",
       "    <tr style=\"text-align: right;\">\n",
       "      <th></th>\n",
       "      <th>MerchantExternalId</th>\n",
       "      <th>Is Previous Revisit same month?</th>\n",
       "      <th>Previous Revisit Date</th>\n",
       "    </tr>\n",
       "  </thead>\n",
       "  <tbody>\n",
       "    <tr>\n",
       "      <th>0</th>\n",
       "      <td>BCR2DN4T2C5JLEID</td>\n",
       "      <td>Yes</td>\n",
       "      <td>6/27/2022</td>\n",
       "    </tr>\n",
       "    <tr>\n",
       "      <th>1</th>\n",
       "      <td>BCR2DN4T2C5MHWQN</td>\n",
       "      <td>No</td>\n",
       "      <td>NaN</td>\n",
       "    </tr>\n",
       "    <tr>\n",
       "      <th>2</th>\n",
       "      <td>BCR2DN4T2C7LJ3J7</td>\n",
       "      <td>Yes</td>\n",
       "      <td>6/17/2022</td>\n",
       "    </tr>\n",
       "    <tr>\n",
       "      <th>3</th>\n",
       "      <td>BCR2DN4T2CFLNMZH</td>\n",
       "      <td>Yes</td>\n",
       "      <td>8/20/2022</td>\n",
       "    </tr>\n",
       "    <tr>\n",
       "      <th>4</th>\n",
       "      <td>BCR2DN4T2CRL35QP</td>\n",
       "      <td>No</td>\n",
       "      <td>NaN</td>\n",
       "    </tr>\n",
       "  </tbody>\n",
       "</table>\n",
       "</div>"
      ],
      "text/plain": [
       "  MerchantExternalId Is Previous Revisit same month? Previous Revisit Date\n",
       "0   BCR2DN4T2C5JLEID                             Yes             6/27/2022\n",
       "1   BCR2DN4T2C5MHWQN                              No                   NaN\n",
       "2   BCR2DN4T2C7LJ3J7                             Yes             6/17/2022\n",
       "3   BCR2DN4T2CFLNMZH                             Yes             8/20/2022\n",
       "4   BCR2DN4T2CRL35QP                              No                   NaN"
      ]
     },
     "execution_count": 390,
     "metadata": {},
     "output_type": "execute_result"
    }
   ],
   "source": [
    "Google_Revisit_f_10_f.head(5)"
   ]
  },
  {
   "cell_type": "code",
   "execution_count": 391,
   "id": "1262030e",
   "metadata": {},
   "outputs": [
    {
     "data": {
      "text/plain": [
       "(5307, 3)"
      ]
     },
     "execution_count": 391,
     "metadata": {},
     "output_type": "execute_result"
    }
   ],
   "source": [
    "Google_Revisit_f_10_f.shape"
   ]
  },
  {
   "cell_type": "code",
   "execution_count": 392,
   "id": "02140bf3",
   "metadata": {},
   "outputs": [
    {
     "data": {
      "text/plain": [
       "(5307, 37)"
      ]
     },
     "execution_count": 392,
     "metadata": {},
     "output_type": "execute_result"
    }
   ],
   "source": [
    "Google_Revisit_f_10.shape"
   ]
  },
  {
   "cell_type": "code",
   "execution_count": 393,
   "id": "6203cbfc",
   "metadata": {},
   "outputs": [],
   "source": [
    "Google_Revisit_f_10_merge = Google_Revisit_f_10.merge(Google_Revisit_f_10_f, how = 'left', on = 'MerchantExternalId')"
   ]
  },
  {
   "cell_type": "code",
   "execution_count": 394,
   "id": "d6767a6b",
   "metadata": {},
   "outputs": [
    {
     "data": {
      "text/html": [
       "<div>\n",
       "<style scoped>\n",
       "    .dataframe tbody tr th:only-of-type {\n",
       "        vertical-align: middle;\n",
       "    }\n",
       "\n",
       "    .dataframe tbody tr th {\n",
       "        vertical-align: top;\n",
       "    }\n",
       "\n",
       "    .dataframe thead th {\n",
       "        text-align: right;\n",
       "    }\n",
       "</style>\n",
       "<table border=\"1\" class=\"dataframe\">\n",
       "  <thead>\n",
       "    <tr style=\"text-align: right;\">\n",
       "      <th></th>\n",
       "      <th>StoreName</th>\n",
       "      <th>City</th>\n",
       "      <th>Pincode</th>\n",
       "      <th>StorePhoneNumber</th>\n",
       "      <th>OnboardingTimestamp</th>\n",
       "      <th>TaskSubmissionTimestamp</th>\n",
       "      <th>MerchantExternalId</th>\n",
       "      <th>CompletedSubTaskTypes</th>\n",
       "      <th>AdditionalQRs</th>\n",
       "      <th>PreProvisionedQRCount</th>\n",
       "      <th>...</th>\n",
       "      <th>Is in Source File?</th>\n",
       "      <th>Is in Source File based on Merchant Ext ID?</th>\n",
       "      <th>Is in Source File based on Merchant Mobile Number?</th>\n",
       "      <th>IF R is Blank then RWM App Code</th>\n",
       "      <th>latest city_2</th>\n",
       "      <th>Team View City</th>\n",
       "      <th>Task Count</th>\n",
       "      <th>Is in Google Daily OB File?</th>\n",
       "      <th>Is Previous Revisit same month?</th>\n",
       "      <th>Previous Revisit Date</th>\n",
       "    </tr>\n",
       "  </thead>\n",
       "  <tbody>\n",
       "    <tr>\n",
       "      <th>0</th>\n",
       "      <td>Mangal Jewellers</td>\n",
       "      <td>Solapur</td>\n",
       "      <td>413216</td>\n",
       "      <td>9822959713</td>\n",
       "      <td>5/9/2022 17:41:48</td>\n",
       "      <td>11/10/2022 18:33:47</td>\n",
       "      <td>BCR2DN4T2C5JLEID</td>\n",
       "      <td>PROVISION_VPA, CAPTURE_ADDITIONAL_PICTURES, TA...</td>\n",
       "      <td>NaN</td>\n",
       "      <td>3.0</td>\n",
       "      <td>...</td>\n",
       "      <td>Match</td>\n",
       "      <td>Match</td>\n",
       "      <td>No Match</td>\n",
       "      <td>20378</td>\n",
       "      <td>Solapur</td>\n",
       "      <td>Solapur</td>\n",
       "      <td>3.0</td>\n",
       "      <td>No</td>\n",
       "      <td>Yes</td>\n",
       "      <td>6/27/2022</td>\n",
       "    </tr>\n",
       "  </tbody>\n",
       "</table>\n",
       "<p>1 rows × 39 columns</p>\n",
       "</div>"
      ],
      "text/plain": [
       "          StoreName     City  Pincode  StorePhoneNumber OnboardingTimestamp  \\\n",
       "0  Mangal Jewellers  Solapur   413216        9822959713   5/9/2022 17:41:48   \n",
       "\n",
       "  TaskSubmissionTimestamp MerchantExternalId  \\\n",
       "0     11/10/2022 18:33:47   BCR2DN4T2C5JLEID   \n",
       "\n",
       "                               CompletedSubTaskTypes  AdditionalQRs  \\\n",
       "0  PROVISION_VPA, CAPTURE_ADDITIONAL_PICTURES, TA...            NaN   \n",
       "\n",
       "   PreProvisionedQRCount  ...  Is in Source File?  \\\n",
       "0                    3.0  ...               Match   \n",
       "\n",
       "   Is in Source File based on Merchant Ext ID?  \\\n",
       "0                                        Match   \n",
       "\n",
       "  Is in Source File based on Merchant Mobile Number?  \\\n",
       "0                                           No Match   \n",
       "\n",
       "  IF R is Blank then RWM App Code latest city_2 Team View City Task Count  \\\n",
       "0                           20378       Solapur        Solapur        3.0   \n",
       "\n",
       "  Is in Google Daily OB File?  Is Previous Revisit same month?  \\\n",
       "0                          No                              Yes   \n",
       "\n",
       "  Previous Revisit Date  \n",
       "0             6/27/2022  \n",
       "\n",
       "[1 rows x 39 columns]"
      ]
     },
     "execution_count": 394,
     "metadata": {},
     "output_type": "execute_result"
    }
   ],
   "source": [
    "Google_Revisit_f_10_merge.head(1)"
   ]
  },
  {
   "cell_type": "code",
   "execution_count": 395,
   "id": "3b4a0168",
   "metadata": {},
   "outputs": [
    {
     "data": {
      "text/plain": [
       "(5307, 39)"
      ]
     },
     "execution_count": 395,
     "metadata": {},
     "output_type": "execute_result"
    }
   ],
   "source": [
    "Google_Revisit_f_10_merge.shape"
   ]
  },
  {
   "cell_type": "code",
   "execution_count": 396,
   "id": "5b8b5516",
   "metadata": {},
   "outputs": [],
   "source": [
    "Google_Revisit_f_11 = Google_Revisit_f_10_merge"
   ]
  },
  {
   "cell_type": "markdown",
   "id": "fc349a11",
   "metadata": {},
   "source": [
    "# Remarks (Only Duplicate Revisit) and (Self OB)"
   ]
  },
  {
   "cell_type": "code",
   "execution_count": 397,
   "id": "3aee646c",
   "metadata": {},
   "outputs": [
    {
     "data": {
      "text/plain": [
       "(5307, 39)"
      ]
     },
     "execution_count": 397,
     "metadata": {},
     "output_type": "execute_result"
    }
   ],
   "source": [
    "Google_Revisit_f_11.shape"
   ]
  },
  {
   "cell_type": "code",
   "execution_count": 398,
   "id": "d48961c8",
   "metadata": {},
   "outputs": [
    {
     "data": {
      "text/html": [
       "<div>\n",
       "<style scoped>\n",
       "    .dataframe tbody tr th:only-of-type {\n",
       "        vertical-align: middle;\n",
       "    }\n",
       "\n",
       "    .dataframe tbody tr th {\n",
       "        vertical-align: top;\n",
       "    }\n",
       "\n",
       "    .dataframe thead th {\n",
       "        text-align: right;\n",
       "    }\n",
       "</style>\n",
       "<table border=\"1\" class=\"dataframe\">\n",
       "  <thead>\n",
       "    <tr style=\"text-align: right;\">\n",
       "      <th></th>\n",
       "      <th>StoreName</th>\n",
       "      <th>City</th>\n",
       "      <th>Pincode</th>\n",
       "      <th>StorePhoneNumber</th>\n",
       "      <th>OnboardingTimestamp</th>\n",
       "      <th>TaskSubmissionTimestamp</th>\n",
       "      <th>MerchantExternalId</th>\n",
       "      <th>CompletedSubTaskTypes</th>\n",
       "      <th>AdditionalQRs</th>\n",
       "      <th>PreProvisionedQRCount</th>\n",
       "      <th>...</th>\n",
       "      <th>Is in Source File?</th>\n",
       "      <th>Is in Source File based on Merchant Ext ID?</th>\n",
       "      <th>Is in Source File based on Merchant Mobile Number?</th>\n",
       "      <th>IF R is Blank then RWM App Code</th>\n",
       "      <th>latest city_2</th>\n",
       "      <th>Team View City</th>\n",
       "      <th>Task Count</th>\n",
       "      <th>Is in Google Daily OB File?</th>\n",
       "      <th>Is Previous Revisit same month?</th>\n",
       "      <th>Previous Revisit Date</th>\n",
       "    </tr>\n",
       "  </thead>\n",
       "  <tbody>\n",
       "    <tr>\n",
       "      <th>0</th>\n",
       "      <td>Mangal Jewellers</td>\n",
       "      <td>Solapur</td>\n",
       "      <td>413216</td>\n",
       "      <td>9822959713</td>\n",
       "      <td>5/9/2022 17:41:48</td>\n",
       "      <td>11/10/2022 18:33:47</td>\n",
       "      <td>BCR2DN4T2C5JLEID</td>\n",
       "      <td>PROVISION_VPA, CAPTURE_ADDITIONAL_PICTURES, TA...</td>\n",
       "      <td>NaN</td>\n",
       "      <td>3.0</td>\n",
       "      <td>...</td>\n",
       "      <td>Match</td>\n",
       "      <td>Match</td>\n",
       "      <td>No Match</td>\n",
       "      <td>20378</td>\n",
       "      <td>Solapur</td>\n",
       "      <td>Solapur</td>\n",
       "      <td>3.0</td>\n",
       "      <td>No</td>\n",
       "      <td>Yes</td>\n",
       "      <td>6/27/2022</td>\n",
       "    </tr>\n",
       "  </tbody>\n",
       "</table>\n",
       "<p>1 rows × 39 columns</p>\n",
       "</div>"
      ],
      "text/plain": [
       "          StoreName     City  Pincode  StorePhoneNumber OnboardingTimestamp  \\\n",
       "0  Mangal Jewellers  Solapur   413216        9822959713   5/9/2022 17:41:48   \n",
       "\n",
       "  TaskSubmissionTimestamp MerchantExternalId  \\\n",
       "0     11/10/2022 18:33:47   BCR2DN4T2C5JLEID   \n",
       "\n",
       "                               CompletedSubTaskTypes  AdditionalQRs  \\\n",
       "0  PROVISION_VPA, CAPTURE_ADDITIONAL_PICTURES, TA...            NaN   \n",
       "\n",
       "   PreProvisionedQRCount  ...  Is in Source File?  \\\n",
       "0                    3.0  ...               Match   \n",
       "\n",
       "   Is in Source File based on Merchant Ext ID?  \\\n",
       "0                                        Match   \n",
       "\n",
       "  Is in Source File based on Merchant Mobile Number?  \\\n",
       "0                                           No Match   \n",
       "\n",
       "  IF R is Blank then RWM App Code latest city_2 Team View City Task Count  \\\n",
       "0                           20378       Solapur        Solapur        3.0   \n",
       "\n",
       "  Is in Google Daily OB File?  Is Previous Revisit same month?  \\\n",
       "0                          No                              Yes   \n",
       "\n",
       "  Previous Revisit Date  \n",
       "0             6/27/2022  \n",
       "\n",
       "[1 rows x 39 columns]"
      ]
     },
     "execution_count": 398,
     "metadata": {},
     "output_type": "execute_result"
    }
   ],
   "source": [
    "Google_Revisit_f_11.head(1)"
   ]
  },
  {
   "cell_type": "code",
   "execution_count": 399,
   "id": "dc2df803",
   "metadata": {},
   "outputs": [
    {
     "data": {
      "text/plain": [
       "(5307, 2)"
      ]
     },
     "execution_count": 399,
     "metadata": {},
     "output_type": "execute_result"
    }
   ],
   "source": [
    "Google_Revisit_f_11_f = Google_Revisit_f_11.filter(['MerchantExternalId', 'Previous Revisit Date'])\n",
    "Google_Revisit_f_11_f.shape"
   ]
  },
  {
   "cell_type": "markdown",
   "id": "aacc8749",
   "metadata": {},
   "source": [
    "### Find wheather the cell is blank"
   ]
  },
  {
   "cell_type": "code",
   "execution_count": 400,
   "id": "7407a17b",
   "metadata": {},
   "outputs": [],
   "source": [
    "Google_Revisit_f_11_f['Is the cell empty'] = Google_Revisit_f_11_f['Previous Revisit Date'].isna()"
   ]
  },
  {
   "cell_type": "code",
   "execution_count": 401,
   "id": "44352022",
   "metadata": {},
   "outputs": [],
   "source": [
    "Google_Revisit_f_11_f['Is the cell empty'] = Google_Revisit_f_11_f['Is the cell empty'].map({\n",
    "    True: np.nan, False: 'Duplicate Revisit'})"
   ]
  },
  {
   "cell_type": "code",
   "execution_count": 402,
   "id": "90f9702c",
   "metadata": {},
   "outputs": [
    {
     "data": {
      "text/plain": [
       "(5307, 3)"
      ]
     },
     "execution_count": 402,
     "metadata": {},
     "output_type": "execute_result"
    }
   ],
   "source": [
    "Google_Revisit_f_11_f.shape"
   ]
  },
  {
   "cell_type": "code",
   "execution_count": 403,
   "id": "32a6654b",
   "metadata": {},
   "outputs": [],
   "source": [
    "Google_Revisit_f_11_f2 = Google_Revisit_f_11_f.filter([\n",
    "    'MerchantExternalId', 'Is the cell empty']).rename(columns={'Is the cell empty':'Remarks'})"
   ]
  },
  {
   "cell_type": "code",
   "execution_count": 404,
   "id": "b627d4bd",
   "metadata": {},
   "outputs": [
    {
     "data": {
      "text/html": [
       "<div>\n",
       "<style scoped>\n",
       "    .dataframe tbody tr th:only-of-type {\n",
       "        vertical-align: middle;\n",
       "    }\n",
       "\n",
       "    .dataframe tbody tr th {\n",
       "        vertical-align: top;\n",
       "    }\n",
       "\n",
       "    .dataframe thead th {\n",
       "        text-align: right;\n",
       "    }\n",
       "</style>\n",
       "<table border=\"1\" class=\"dataframe\">\n",
       "  <thead>\n",
       "    <tr style=\"text-align: right;\">\n",
       "      <th></th>\n",
       "      <th>MerchantExternalId</th>\n",
       "      <th>Remarks</th>\n",
       "    </tr>\n",
       "  </thead>\n",
       "  <tbody>\n",
       "    <tr>\n",
       "      <th>0</th>\n",
       "      <td>BCR2DN4T2C5JLEID</td>\n",
       "      <td>Duplicate Revisit</td>\n",
       "    </tr>\n",
       "  </tbody>\n",
       "</table>\n",
       "</div>"
      ],
      "text/plain": [
       "  MerchantExternalId            Remarks\n",
       "0   BCR2DN4T2C5JLEID  Duplicate Revisit"
      ]
     },
     "execution_count": 404,
     "metadata": {},
     "output_type": "execute_result"
    }
   ],
   "source": [
    "Google_Revisit_f_11_f2.head(1)"
   ]
  },
  {
   "cell_type": "code",
   "execution_count": 405,
   "id": "6c2e4ce5",
   "metadata": {},
   "outputs": [
    {
     "data": {
      "text/plain": [
       "(5307, 2)"
      ]
     },
     "execution_count": 405,
     "metadata": {},
     "output_type": "execute_result"
    }
   ],
   "source": [
    "Google_Revisit_f_11_f2.shape"
   ]
  },
  {
   "cell_type": "markdown",
   "id": "12d99bee",
   "metadata": {},
   "source": [
    "### Add Self OB code"
   ]
  },
  {
   "cell_type": "markdown",
   "id": "e222694e",
   "metadata": {},
   "source": [
    "### Filter out the verfied merchant from the CompletedSubTaskTypes \n",
    "#### By filtering string"
   ]
  },
  {
   "cell_type": "code",
   "execution_count": 406,
   "id": "ec105d1b",
   "metadata": {
    "scrolled": true
   },
   "outputs": [
    {
     "data": {
      "text/html": [
       "<div>\n",
       "<style scoped>\n",
       "    .dataframe tbody tr th:only-of-type {\n",
       "        vertical-align: middle;\n",
       "    }\n",
       "\n",
       "    .dataframe tbody tr th {\n",
       "        vertical-align: top;\n",
       "    }\n",
       "\n",
       "    .dataframe thead th {\n",
       "        text-align: right;\n",
       "    }\n",
       "</style>\n",
       "<table border=\"1\" class=\"dataframe\">\n",
       "  <thead>\n",
       "    <tr style=\"text-align: right;\">\n",
       "      <th></th>\n",
       "      <th>StoreName</th>\n",
       "      <th>City</th>\n",
       "      <th>Pincode</th>\n",
       "      <th>StorePhoneNumber</th>\n",
       "      <th>OnboardingTimestamp</th>\n",
       "      <th>TaskSubmissionTimestamp</th>\n",
       "      <th>MerchantExternalId</th>\n",
       "      <th>CompletedSubTaskTypes</th>\n",
       "      <th>AdditionalQRs</th>\n",
       "      <th>PreProvisionedQRCount</th>\n",
       "      <th>...</th>\n",
       "      <th>Is in Source File?</th>\n",
       "      <th>Is in Source File based on Merchant Ext ID?</th>\n",
       "      <th>Is in Source File based on Merchant Mobile Number?</th>\n",
       "      <th>IF R is Blank then RWM App Code</th>\n",
       "      <th>latest city_2</th>\n",
       "      <th>Team View City</th>\n",
       "      <th>Task Count</th>\n",
       "      <th>Is in Google Daily OB File?</th>\n",
       "      <th>Is Previous Revisit same month?</th>\n",
       "      <th>Previous Revisit Date</th>\n",
       "    </tr>\n",
       "  </thead>\n",
       "  <tbody>\n",
       "    <tr>\n",
       "      <th>0</th>\n",
       "      <td>Mangal Jewellers</td>\n",
       "      <td>Solapur</td>\n",
       "      <td>413216</td>\n",
       "      <td>9822959713</td>\n",
       "      <td>5/9/2022 17:41:48</td>\n",
       "      <td>11/10/2022 18:33:47</td>\n",
       "      <td>BCR2DN4T2C5JLEID</td>\n",
       "      <td>PROVISION_VPA, CAPTURE_ADDITIONAL_PICTURES, TA...</td>\n",
       "      <td>NaN</td>\n",
       "      <td>3.0</td>\n",
       "      <td>...</td>\n",
       "      <td>Match</td>\n",
       "      <td>Match</td>\n",
       "      <td>No Match</td>\n",
       "      <td>20378</td>\n",
       "      <td>Solapur</td>\n",
       "      <td>Solapur</td>\n",
       "      <td>3.0</td>\n",
       "      <td>No</td>\n",
       "      <td>Yes</td>\n",
       "      <td>6/27/2022</td>\n",
       "    </tr>\n",
       "  </tbody>\n",
       "</table>\n",
       "<p>1 rows × 39 columns</p>\n",
       "</div>"
      ],
      "text/plain": [
       "          StoreName     City  Pincode  StorePhoneNumber OnboardingTimestamp  \\\n",
       "0  Mangal Jewellers  Solapur   413216        9822959713   5/9/2022 17:41:48   \n",
       "\n",
       "  TaskSubmissionTimestamp MerchantExternalId  \\\n",
       "0     11/10/2022 18:33:47   BCR2DN4T2C5JLEID   \n",
       "\n",
       "                               CompletedSubTaskTypes  AdditionalQRs  \\\n",
       "0  PROVISION_VPA, CAPTURE_ADDITIONAL_PICTURES, TA...            NaN   \n",
       "\n",
       "   PreProvisionedQRCount  ...  Is in Source File?  \\\n",
       "0                    3.0  ...               Match   \n",
       "\n",
       "   Is in Source File based on Merchant Ext ID?  \\\n",
       "0                                        Match   \n",
       "\n",
       "  Is in Source File based on Merchant Mobile Number?  \\\n",
       "0                                           No Match   \n",
       "\n",
       "  IF R is Blank then RWM App Code latest city_2 Team View City Task Count  \\\n",
       "0                           20378       Solapur        Solapur        3.0   \n",
       "\n",
       "  Is in Google Daily OB File?  Is Previous Revisit same month?  \\\n",
       "0                          No                              Yes   \n",
       "\n",
       "  Previous Revisit Date  \n",
       "0             6/27/2022  \n",
       "\n",
       "[1 rows x 39 columns]"
      ]
     },
     "execution_count": 406,
     "metadata": {},
     "output_type": "execute_result"
    }
   ],
   "source": [
    "Google_Revisit_f_11.head(1)"
   ]
  },
  {
   "cell_type": "code",
   "execution_count": 407,
   "id": "73840b8f",
   "metadata": {},
   "outputs": [],
   "source": [
    "Google_Revisit_f_11_f_2 = Google_Revisit_f_11[['MerchantExternalId', 'CompletedSubTaskTypes']]"
   ]
  },
  {
   "cell_type": "code",
   "execution_count": 408,
   "id": "8c268585",
   "metadata": {},
   "outputs": [],
   "source": [
    "Google_Revisit_f_11_f_2['Remarks Self OB'] = Google_Revisit_f_11_f_2[\n",
    "    'CompletedSubTaskTypes'].str.contains(\"VERIFY_MERCHANT\")"
   ]
  },
  {
   "cell_type": "code",
   "execution_count": 409,
   "id": "f84c9d0e",
   "metadata": {},
   "outputs": [
    {
     "data": {
      "text/html": [
       "<div>\n",
       "<style scoped>\n",
       "    .dataframe tbody tr th:only-of-type {\n",
       "        vertical-align: middle;\n",
       "    }\n",
       "\n",
       "    .dataframe tbody tr th {\n",
       "        vertical-align: top;\n",
       "    }\n",
       "\n",
       "    .dataframe thead th {\n",
       "        text-align: right;\n",
       "    }\n",
       "</style>\n",
       "<table border=\"1\" class=\"dataframe\">\n",
       "  <thead>\n",
       "    <tr style=\"text-align: right;\">\n",
       "      <th></th>\n",
       "      <th>MerchantExternalId</th>\n",
       "      <th>CompletedSubTaskTypes</th>\n",
       "      <th>Remarks Self OB</th>\n",
       "    </tr>\n",
       "  </thead>\n",
       "  <tbody>\n",
       "    <tr>\n",
       "      <th>0</th>\n",
       "      <td>BCR2DN4T2C5JLEID</td>\n",
       "      <td>PROVISION_VPA, CAPTURE_ADDITIONAL_PICTURES, TA...</td>\n",
       "      <td>False</td>\n",
       "    </tr>\n",
       "    <tr>\n",
       "      <th>1</th>\n",
       "      <td>BCR2DN4T2C5MHWQN</td>\n",
       "      <td>PROVISION_VPA, CAPTURE_ADDITIONAL_PICTURES, CA...</td>\n",
       "      <td>False</td>\n",
       "    </tr>\n",
       "    <tr>\n",
       "      <th>2</th>\n",
       "      <td>BCR2DN4T2C7LJ3J7</td>\n",
       "      <td>PROVISION_VPA, CAPTURE_ADDITIONAL_PICTURES, TA...</td>\n",
       "      <td>False</td>\n",
       "    </tr>\n",
       "    <tr>\n",
       "      <th>3</th>\n",
       "      <td>BCR2DN4T2CFLNMZH</td>\n",
       "      <td>PROVISION_VPA, CAPTURE_ADDITIONAL_PICTURES, TA...</td>\n",
       "      <td>False</td>\n",
       "    </tr>\n",
       "    <tr>\n",
       "      <th>4</th>\n",
       "      <td>BCR2DN4T2CRL35QP</td>\n",
       "      <td>PROVISION_VPA, CAPTURE_ADDITIONAL_PICTURES, TA...</td>\n",
       "      <td>False</td>\n",
       "    </tr>\n",
       "  </tbody>\n",
       "</table>\n",
       "</div>"
      ],
      "text/plain": [
       "  MerchantExternalId                              CompletedSubTaskTypes  \\\n",
       "0   BCR2DN4T2C5JLEID  PROVISION_VPA, CAPTURE_ADDITIONAL_PICTURES, TA...   \n",
       "1   BCR2DN4T2C5MHWQN  PROVISION_VPA, CAPTURE_ADDITIONAL_PICTURES, CA...   \n",
       "2   BCR2DN4T2C7LJ3J7  PROVISION_VPA, CAPTURE_ADDITIONAL_PICTURES, TA...   \n",
       "3   BCR2DN4T2CFLNMZH  PROVISION_VPA, CAPTURE_ADDITIONAL_PICTURES, TA...   \n",
       "4   BCR2DN4T2CRL35QP  PROVISION_VPA, CAPTURE_ADDITIONAL_PICTURES, TA...   \n",
       "\n",
       "  Remarks Self OB  \n",
       "0           False  \n",
       "1           False  \n",
       "2           False  \n",
       "3           False  \n",
       "4           False  "
      ]
     },
     "execution_count": 409,
     "metadata": {},
     "output_type": "execute_result"
    }
   ],
   "source": [
    "Google_Revisit_f_11_f_2.head()"
   ]
  },
  {
   "cell_type": "code",
   "execution_count": 410,
   "id": "7674a45b",
   "metadata": {},
   "outputs": [],
   "source": [
    "Google_Revisit_f_11_f_2['Remarks Self OB'] = Google_Revisit_f_11_f_2[\n",
    "    'Remarks Self OB'].map({True: 'Self OB', False: np.nan})"
   ]
  },
  {
   "cell_type": "code",
   "execution_count": 411,
   "id": "388d0d74",
   "metadata": {},
   "outputs": [
    {
     "data": {
      "text/plain": [
       "(5307, 3)"
      ]
     },
     "execution_count": 411,
     "metadata": {},
     "output_type": "execute_result"
    }
   ],
   "source": [
    "Google_Revisit_f_11_f_2.shape"
   ]
  },
  {
   "cell_type": "code",
   "execution_count": 412,
   "id": "f86dccec",
   "metadata": {},
   "outputs": [
    {
     "data": {
      "text/html": [
       "<div>\n",
       "<style scoped>\n",
       "    .dataframe tbody tr th:only-of-type {\n",
       "        vertical-align: middle;\n",
       "    }\n",
       "\n",
       "    .dataframe tbody tr th {\n",
       "        vertical-align: top;\n",
       "    }\n",
       "\n",
       "    .dataframe thead th {\n",
       "        text-align: right;\n",
       "    }\n",
       "</style>\n",
       "<table border=\"1\" class=\"dataframe\">\n",
       "  <thead>\n",
       "    <tr style=\"text-align: right;\">\n",
       "      <th></th>\n",
       "      <th>MerchantExternalId</th>\n",
       "      <th>CompletedSubTaskTypes</th>\n",
       "      <th>Remarks Self OB</th>\n",
       "    </tr>\n",
       "  </thead>\n",
       "  <tbody>\n",
       "    <tr>\n",
       "      <th>0</th>\n",
       "      <td>BCR2DN4T2C5JLEID</td>\n",
       "      <td>PROVISION_VPA, CAPTURE_ADDITIONAL_PICTURES, TA...</td>\n",
       "      <td>NaN</td>\n",
       "    </tr>\n",
       "  </tbody>\n",
       "</table>\n",
       "</div>"
      ],
      "text/plain": [
       "  MerchantExternalId                              CompletedSubTaskTypes  \\\n",
       "0   BCR2DN4T2C5JLEID  PROVISION_VPA, CAPTURE_ADDITIONAL_PICTURES, TA...   \n",
       "\n",
       "  Remarks Self OB  \n",
       "0             NaN  "
      ]
     },
     "execution_count": 412,
     "metadata": {},
     "output_type": "execute_result"
    }
   ],
   "source": [
    "Google_Revisit_f_11_f_2.head(1)"
   ]
  },
  {
   "cell_type": "code",
   "execution_count": 413,
   "id": "b28dd918",
   "metadata": {},
   "outputs": [],
   "source": [
    "Google_Revisit_f_11_f_3 = Google_Revisit_f_11_f_2[['MerchantExternalId', 'Remarks Self OB']]"
   ]
  },
  {
   "cell_type": "code",
   "execution_count": 414,
   "id": "e957b67b",
   "metadata": {
    "scrolled": false
   },
   "outputs": [
    {
     "data": {
      "text/html": [
       "<div>\n",
       "<style scoped>\n",
       "    .dataframe tbody tr th:only-of-type {\n",
       "        vertical-align: middle;\n",
       "    }\n",
       "\n",
       "    .dataframe tbody tr th {\n",
       "        vertical-align: top;\n",
       "    }\n",
       "\n",
       "    .dataframe thead th {\n",
       "        text-align: right;\n",
       "    }\n",
       "</style>\n",
       "<table border=\"1\" class=\"dataframe\">\n",
       "  <thead>\n",
       "    <tr style=\"text-align: right;\">\n",
       "      <th></th>\n",
       "      <th>MerchantExternalId</th>\n",
       "      <th>Remarks</th>\n",
       "    </tr>\n",
       "  </thead>\n",
       "  <tbody>\n",
       "    <tr>\n",
       "      <th>0</th>\n",
       "      <td>BCR2DN4T2C5JLEID</td>\n",
       "      <td>Duplicate Revisit</td>\n",
       "    </tr>\n",
       "    <tr>\n",
       "      <th>1</th>\n",
       "      <td>BCR2DN4T2C5MHWQN</td>\n",
       "      <td>NaN</td>\n",
       "    </tr>\n",
       "    <tr>\n",
       "      <th>2</th>\n",
       "      <td>BCR2DN4T2C7LJ3J7</td>\n",
       "      <td>Duplicate Revisit</td>\n",
       "    </tr>\n",
       "    <tr>\n",
       "      <th>3</th>\n",
       "      <td>BCR2DN4T2CFLNMZH</td>\n",
       "      <td>Duplicate Revisit</td>\n",
       "    </tr>\n",
       "    <tr>\n",
       "      <th>4</th>\n",
       "      <td>BCR2DN4T2CRL35QP</td>\n",
       "      <td>NaN</td>\n",
       "    </tr>\n",
       "  </tbody>\n",
       "</table>\n",
       "</div>"
      ],
      "text/plain": [
       "  MerchantExternalId            Remarks\n",
       "0   BCR2DN4T2C5JLEID  Duplicate Revisit\n",
       "1   BCR2DN4T2C5MHWQN                NaN\n",
       "2   BCR2DN4T2C7LJ3J7  Duplicate Revisit\n",
       "3   BCR2DN4T2CFLNMZH  Duplicate Revisit\n",
       "4   BCR2DN4T2CRL35QP                NaN"
      ]
     },
     "execution_count": 414,
     "metadata": {},
     "output_type": "execute_result"
    }
   ],
   "source": [
    "Google_Revisit_f_11_f2.head()"
   ]
  },
  {
   "cell_type": "code",
   "execution_count": 415,
   "id": "7e83732f",
   "metadata": {},
   "outputs": [],
   "source": [
    "Google_Revisit_f_11_f_merge = Google_Revisit_f_11_f2.merge(Google_Revisit_f_11_f_3, how = 'left', on = 'MerchantExternalId')"
   ]
  },
  {
   "cell_type": "code",
   "execution_count": 416,
   "id": "d0996302",
   "metadata": {},
   "outputs": [
    {
     "data": {
      "text/plain": [
       "(5307, 3)"
      ]
     },
     "execution_count": 416,
     "metadata": {},
     "output_type": "execute_result"
    }
   ],
   "source": [
    "Google_Revisit_f_11_f_merge.shape"
   ]
  },
  {
   "cell_type": "code",
   "execution_count": 417,
   "id": "fae5f35e",
   "metadata": {},
   "outputs": [
    {
     "data": {
      "text/html": [
       "<div>\n",
       "<style scoped>\n",
       "    .dataframe tbody tr th:only-of-type {\n",
       "        vertical-align: middle;\n",
       "    }\n",
       "\n",
       "    .dataframe tbody tr th {\n",
       "        vertical-align: top;\n",
       "    }\n",
       "\n",
       "    .dataframe thead th {\n",
       "        text-align: right;\n",
       "    }\n",
       "</style>\n",
       "<table border=\"1\" class=\"dataframe\">\n",
       "  <thead>\n",
       "    <tr style=\"text-align: right;\">\n",
       "      <th></th>\n",
       "      <th>MerchantExternalId</th>\n",
       "      <th>Remarks</th>\n",
       "      <th>Remarks Self OB</th>\n",
       "    </tr>\n",
       "  </thead>\n",
       "  <tbody>\n",
       "    <tr>\n",
       "      <th>0</th>\n",
       "      <td>BCR2DN4T2C5JLEID</td>\n",
       "      <td>Duplicate Revisit</td>\n",
       "      <td>NaN</td>\n",
       "    </tr>\n",
       "  </tbody>\n",
       "</table>\n",
       "</div>"
      ],
      "text/plain": [
       "  MerchantExternalId            Remarks Remarks Self OB\n",
       "0   BCR2DN4T2C5JLEID  Duplicate Revisit             NaN"
      ]
     },
     "execution_count": 417,
     "metadata": {},
     "output_type": "execute_result"
    }
   ],
   "source": [
    "Google_Revisit_f_11_f_merge.head(1)"
   ]
  },
  {
   "cell_type": "code",
   "execution_count": 418,
   "id": "75bb2143",
   "metadata": {},
   "outputs": [],
   "source": [
    "Google_Revisit_f_11_f_merge['Remarks Self OB'].fillna(Google_Revisit_f_11_f_merge[\n",
    "    'Remarks'], inplace = True)"
   ]
  },
  {
   "cell_type": "code",
   "execution_count": 419,
   "id": "39c04264",
   "metadata": {},
   "outputs": [],
   "source": [
    "Google_Revisit_f_11_f2 = Google_Revisit_f_11_f_merge[[\n",
    "    'Remarks Self OB']].rename(columns={'Remarks Self OB':'Remarks'})"
   ]
  },
  {
   "cell_type": "code",
   "execution_count": 420,
   "id": "60bca078",
   "metadata": {},
   "outputs": [
    {
     "data": {
      "text/html": [
       "<div>\n",
       "<style scoped>\n",
       "    .dataframe tbody tr th:only-of-type {\n",
       "        vertical-align: middle;\n",
       "    }\n",
       "\n",
       "    .dataframe tbody tr th {\n",
       "        vertical-align: top;\n",
       "    }\n",
       "\n",
       "    .dataframe thead th {\n",
       "        text-align: right;\n",
       "    }\n",
       "</style>\n",
       "<table border=\"1\" class=\"dataframe\">\n",
       "  <thead>\n",
       "    <tr style=\"text-align: right;\">\n",
       "      <th></th>\n",
       "      <th>StoreName</th>\n",
       "      <th>City</th>\n",
       "      <th>Pincode</th>\n",
       "      <th>StorePhoneNumber</th>\n",
       "      <th>OnboardingTimestamp</th>\n",
       "      <th>TaskSubmissionTimestamp</th>\n",
       "      <th>MerchantExternalId</th>\n",
       "      <th>CompletedSubTaskTypes</th>\n",
       "      <th>AdditionalQRs</th>\n",
       "      <th>PreProvisionedQRCount</th>\n",
       "      <th>...</th>\n",
       "      <th>Is in Source File?</th>\n",
       "      <th>Is in Source File based on Merchant Ext ID?</th>\n",
       "      <th>Is in Source File based on Merchant Mobile Number?</th>\n",
       "      <th>IF R is Blank then RWM App Code</th>\n",
       "      <th>latest city_2</th>\n",
       "      <th>Team View City</th>\n",
       "      <th>Task Count</th>\n",
       "      <th>Is in Google Daily OB File?</th>\n",
       "      <th>Is Previous Revisit same month?</th>\n",
       "      <th>Previous Revisit Date</th>\n",
       "    </tr>\n",
       "  </thead>\n",
       "  <tbody>\n",
       "    <tr>\n",
       "      <th>0</th>\n",
       "      <td>Mangal Jewellers</td>\n",
       "      <td>Solapur</td>\n",
       "      <td>413216</td>\n",
       "      <td>9822959713</td>\n",
       "      <td>5/9/2022 17:41:48</td>\n",
       "      <td>11/10/2022 18:33:47</td>\n",
       "      <td>BCR2DN4T2C5JLEID</td>\n",
       "      <td>PROVISION_VPA, CAPTURE_ADDITIONAL_PICTURES, TA...</td>\n",
       "      <td>NaN</td>\n",
       "      <td>3.0</td>\n",
       "      <td>...</td>\n",
       "      <td>Match</td>\n",
       "      <td>Match</td>\n",
       "      <td>No Match</td>\n",
       "      <td>20378</td>\n",
       "      <td>Solapur</td>\n",
       "      <td>Solapur</td>\n",
       "      <td>3.0</td>\n",
       "      <td>No</td>\n",
       "      <td>Yes</td>\n",
       "      <td>6/27/2022</td>\n",
       "    </tr>\n",
       "  </tbody>\n",
       "</table>\n",
       "<p>1 rows × 39 columns</p>\n",
       "</div>"
      ],
      "text/plain": [
       "          StoreName     City  Pincode  StorePhoneNumber OnboardingTimestamp  \\\n",
       "0  Mangal Jewellers  Solapur   413216        9822959713   5/9/2022 17:41:48   \n",
       "\n",
       "  TaskSubmissionTimestamp MerchantExternalId  \\\n",
       "0     11/10/2022 18:33:47   BCR2DN4T2C5JLEID   \n",
       "\n",
       "                               CompletedSubTaskTypes  AdditionalQRs  \\\n",
       "0  PROVISION_VPA, CAPTURE_ADDITIONAL_PICTURES, TA...            NaN   \n",
       "\n",
       "   PreProvisionedQRCount  ...  Is in Source File?  \\\n",
       "0                    3.0  ...               Match   \n",
       "\n",
       "   Is in Source File based on Merchant Ext ID?  \\\n",
       "0                                        Match   \n",
       "\n",
       "  Is in Source File based on Merchant Mobile Number?  \\\n",
       "0                                           No Match   \n",
       "\n",
       "  IF R is Blank then RWM App Code latest city_2 Team View City Task Count  \\\n",
       "0                           20378       Solapur        Solapur        3.0   \n",
       "\n",
       "  Is in Google Daily OB File?  Is Previous Revisit same month?  \\\n",
       "0                          No                              Yes   \n",
       "\n",
       "  Previous Revisit Date  \n",
       "0             6/27/2022  \n",
       "\n",
       "[1 rows x 39 columns]"
      ]
     },
     "execution_count": 420,
     "metadata": {},
     "output_type": "execute_result"
    }
   ],
   "source": [
    "Google_Revisit_f_11.head(1)"
   ]
  },
  {
   "cell_type": "code",
   "execution_count": 421,
   "id": "d3c800f5",
   "metadata": {},
   "outputs": [
    {
     "data": {
      "text/plain": [
       "(5307, 39)"
      ]
     },
     "execution_count": 421,
     "metadata": {},
     "output_type": "execute_result"
    }
   ],
   "source": [
    "Google_Revisit_f_11.shape"
   ]
  },
  {
   "cell_type": "code",
   "execution_count": 422,
   "id": "4d1fd062",
   "metadata": {},
   "outputs": [],
   "source": [
    "Google_Revisit_f_11_concat = pd.concat([Google_Revisit_f_11, Google_Revisit_f_11_f2], axis = 1, join = 'inner')"
   ]
  },
  {
   "cell_type": "code",
   "execution_count": 423,
   "id": "c07d01f5",
   "metadata": {},
   "outputs": [
    {
     "data": {
      "text/plain": [
       "(5307, 40)"
      ]
     },
     "execution_count": 423,
     "metadata": {},
     "output_type": "execute_result"
    }
   ],
   "source": [
    "Google_Revisit_f_11_concat.shape"
   ]
  },
  {
   "cell_type": "code",
   "execution_count": 424,
   "id": "e5cfd772",
   "metadata": {},
   "outputs": [
    {
     "data": {
      "text/html": [
       "<div>\n",
       "<style scoped>\n",
       "    .dataframe tbody tr th:only-of-type {\n",
       "        vertical-align: middle;\n",
       "    }\n",
       "\n",
       "    .dataframe tbody tr th {\n",
       "        vertical-align: top;\n",
       "    }\n",
       "\n",
       "    .dataframe thead th {\n",
       "        text-align: right;\n",
       "    }\n",
       "</style>\n",
       "<table border=\"1\" class=\"dataframe\">\n",
       "  <thead>\n",
       "    <tr style=\"text-align: right;\">\n",
       "      <th></th>\n",
       "      <th>StoreName</th>\n",
       "      <th>City</th>\n",
       "      <th>Pincode</th>\n",
       "      <th>StorePhoneNumber</th>\n",
       "      <th>OnboardingTimestamp</th>\n",
       "      <th>TaskSubmissionTimestamp</th>\n",
       "      <th>MerchantExternalId</th>\n",
       "      <th>CompletedSubTaskTypes</th>\n",
       "      <th>AdditionalQRs</th>\n",
       "      <th>PreProvisionedQRCount</th>\n",
       "      <th>...</th>\n",
       "      <th>Is in Source File based on Merchant Ext ID?</th>\n",
       "      <th>Is in Source File based on Merchant Mobile Number?</th>\n",
       "      <th>IF R is Blank then RWM App Code</th>\n",
       "      <th>latest city_2</th>\n",
       "      <th>Team View City</th>\n",
       "      <th>Task Count</th>\n",
       "      <th>Is in Google Daily OB File?</th>\n",
       "      <th>Is Previous Revisit same month?</th>\n",
       "      <th>Previous Revisit Date</th>\n",
       "      <th>Remarks</th>\n",
       "    </tr>\n",
       "  </thead>\n",
       "  <tbody>\n",
       "    <tr>\n",
       "      <th>0</th>\n",
       "      <td>Mangal Jewellers</td>\n",
       "      <td>Solapur</td>\n",
       "      <td>413216</td>\n",
       "      <td>9822959713</td>\n",
       "      <td>5/9/2022 17:41:48</td>\n",
       "      <td>11/10/2022 18:33:47</td>\n",
       "      <td>BCR2DN4T2C5JLEID</td>\n",
       "      <td>PROVISION_VPA, CAPTURE_ADDITIONAL_PICTURES, TA...</td>\n",
       "      <td>NaN</td>\n",
       "      <td>3.0</td>\n",
       "      <td>...</td>\n",
       "      <td>Match</td>\n",
       "      <td>No Match</td>\n",
       "      <td>20378</td>\n",
       "      <td>Solapur</td>\n",
       "      <td>Solapur</td>\n",
       "      <td>3.0</td>\n",
       "      <td>No</td>\n",
       "      <td>Yes</td>\n",
       "      <td>6/27/2022</td>\n",
       "      <td>Duplicate Revisit</td>\n",
       "    </tr>\n",
       "  </tbody>\n",
       "</table>\n",
       "<p>1 rows × 40 columns</p>\n",
       "</div>"
      ],
      "text/plain": [
       "          StoreName     City  Pincode  StorePhoneNumber OnboardingTimestamp  \\\n",
       "0  Mangal Jewellers  Solapur   413216        9822959713   5/9/2022 17:41:48   \n",
       "\n",
       "  TaskSubmissionTimestamp MerchantExternalId  \\\n",
       "0     11/10/2022 18:33:47   BCR2DN4T2C5JLEID   \n",
       "\n",
       "                               CompletedSubTaskTypes  AdditionalQRs  \\\n",
       "0  PROVISION_VPA, CAPTURE_ADDITIONAL_PICTURES, TA...            NaN   \n",
       "\n",
       "   PreProvisionedQRCount  ...  Is in Source File based on Merchant Ext ID?  \\\n",
       "0                    3.0  ...                                        Match   \n",
       "\n",
       "   Is in Source File based on Merchant Mobile Number?  \\\n",
       "0                                           No Match    \n",
       "\n",
       "  IF R is Blank then RWM App Code latest city_2 Team View City Task Count  \\\n",
       "0                           20378       Solapur        Solapur        3.0   \n",
       "\n",
       "  Is in Google Daily OB File? Is Previous Revisit same month?  \\\n",
       "0                          No                             Yes   \n",
       "\n",
       "   Previous Revisit Date            Remarks  \n",
       "0              6/27/2022  Duplicate Revisit  \n",
       "\n",
       "[1 rows x 40 columns]"
      ]
     },
     "execution_count": 424,
     "metadata": {},
     "output_type": "execute_result"
    }
   ],
   "source": [
    "Google_Revisit_f_11_concat.head(1)"
   ]
  },
  {
   "cell_type": "code",
   "execution_count": 425,
   "id": "f274b02e",
   "metadata": {},
   "outputs": [],
   "source": [
    "Google_Revisit_f_12 = Google_Revisit_f_11_concat"
   ]
  },
  {
   "cell_type": "markdown",
   "id": "b042a4ec",
   "metadata": {},
   "source": [
    "# Off City?"
   ]
  },
  {
   "cell_type": "code",
   "execution_count": 426,
   "id": "7bee659c",
   "metadata": {},
   "outputs": [],
   "source": [
    "Pivot_table_f_1 = Pivot_table.filter(['Unnamed: 5']).rename(columns={'Unnamed: 5': 'Team View City'})\n",
    "Pivot_table_f_2 = Pivot_table.filter(['Unnamed: 5']).rename(columns={'Unnamed: 5': 'City_2'})\n",
    "Pivot_table_f_concat = pd.concat([Pivot_table_f_1, Pivot_table_f_2], axis = 1, join = 'inner')"
   ]
  },
  {
   "cell_type": "code",
   "execution_count": 427,
   "id": "a844fa99",
   "metadata": {},
   "outputs": [],
   "source": [
    "Pivot_table_f_concat.dropna(inplace = True)"
   ]
  },
  {
   "cell_type": "code",
   "execution_count": 428,
   "id": "4b9d411a",
   "metadata": {},
   "outputs": [
    {
     "data": {
      "text/html": [
       "<div>\n",
       "<style scoped>\n",
       "    .dataframe tbody tr th:only-of-type {\n",
       "        vertical-align: middle;\n",
       "    }\n",
       "\n",
       "    .dataframe tbody tr th {\n",
       "        vertical-align: top;\n",
       "    }\n",
       "\n",
       "    .dataframe thead th {\n",
       "        text-align: right;\n",
       "    }\n",
       "</style>\n",
       "<table border=\"1\" class=\"dataframe\">\n",
       "  <thead>\n",
       "    <tr style=\"text-align: right;\">\n",
       "      <th></th>\n",
       "      <th>Team View City</th>\n",
       "      <th>City_2</th>\n",
       "    </tr>\n",
       "  </thead>\n",
       "  <tbody>\n",
       "    <tr>\n",
       "      <th>0</th>\n",
       "      <td>Agra</td>\n",
       "      <td>Agra</td>\n",
       "    </tr>\n",
       "  </tbody>\n",
       "</table>\n",
       "</div>"
      ],
      "text/plain": [
       "  Team View City City_2\n",
       "0           Agra   Agra"
      ]
     },
     "execution_count": 428,
     "metadata": {},
     "output_type": "execute_result"
    }
   ],
   "source": [
    "Pivot_table_f_concat.head(1)"
   ]
  },
  {
   "cell_type": "code",
   "execution_count": 429,
   "id": "e5e24516",
   "metadata": {},
   "outputs": [
    {
     "data": {
      "text/html": [
       "<div>\n",
       "<style scoped>\n",
       "    .dataframe tbody tr th:only-of-type {\n",
       "        vertical-align: middle;\n",
       "    }\n",
       "\n",
       "    .dataframe tbody tr th {\n",
       "        vertical-align: top;\n",
       "    }\n",
       "\n",
       "    .dataframe thead th {\n",
       "        text-align: right;\n",
       "    }\n",
       "</style>\n",
       "<table border=\"1\" class=\"dataframe\">\n",
       "  <thead>\n",
       "    <tr style=\"text-align: right;\">\n",
       "      <th></th>\n",
       "      <th>StoreName</th>\n",
       "      <th>City</th>\n",
       "      <th>Pincode</th>\n",
       "      <th>StorePhoneNumber</th>\n",
       "      <th>OnboardingTimestamp</th>\n",
       "      <th>TaskSubmissionTimestamp</th>\n",
       "      <th>MerchantExternalId</th>\n",
       "      <th>CompletedSubTaskTypes</th>\n",
       "      <th>AdditionalQRs</th>\n",
       "      <th>PreProvisionedQRCount</th>\n",
       "      <th>...</th>\n",
       "      <th>Is in Source File based on Merchant Ext ID?</th>\n",
       "      <th>Is in Source File based on Merchant Mobile Number?</th>\n",
       "      <th>IF R is Blank then RWM App Code</th>\n",
       "      <th>latest city_2</th>\n",
       "      <th>Team View City</th>\n",
       "      <th>Task Count</th>\n",
       "      <th>Is in Google Daily OB File?</th>\n",
       "      <th>Is Previous Revisit same month?</th>\n",
       "      <th>Previous Revisit Date</th>\n",
       "      <th>Remarks</th>\n",
       "    </tr>\n",
       "  </thead>\n",
       "  <tbody>\n",
       "    <tr>\n",
       "      <th>0</th>\n",
       "      <td>Mangal Jewellers</td>\n",
       "      <td>Solapur</td>\n",
       "      <td>413216</td>\n",
       "      <td>9822959713</td>\n",
       "      <td>5/9/2022 17:41:48</td>\n",
       "      <td>11/10/2022 18:33:47</td>\n",
       "      <td>BCR2DN4T2C5JLEID</td>\n",
       "      <td>PROVISION_VPA, CAPTURE_ADDITIONAL_PICTURES, TA...</td>\n",
       "      <td>NaN</td>\n",
       "      <td>3.0</td>\n",
       "      <td>...</td>\n",
       "      <td>Match</td>\n",
       "      <td>No Match</td>\n",
       "      <td>20378</td>\n",
       "      <td>Solapur</td>\n",
       "      <td>Solapur</td>\n",
       "      <td>3.0</td>\n",
       "      <td>No</td>\n",
       "      <td>Yes</td>\n",
       "      <td>6/27/2022</td>\n",
       "      <td>Duplicate Revisit</td>\n",
       "    </tr>\n",
       "  </tbody>\n",
       "</table>\n",
       "<p>1 rows × 40 columns</p>\n",
       "</div>"
      ],
      "text/plain": [
       "          StoreName     City  Pincode  StorePhoneNumber OnboardingTimestamp  \\\n",
       "0  Mangal Jewellers  Solapur   413216        9822959713   5/9/2022 17:41:48   \n",
       "\n",
       "  TaskSubmissionTimestamp MerchantExternalId  \\\n",
       "0     11/10/2022 18:33:47   BCR2DN4T2C5JLEID   \n",
       "\n",
       "                               CompletedSubTaskTypes  AdditionalQRs  \\\n",
       "0  PROVISION_VPA, CAPTURE_ADDITIONAL_PICTURES, TA...            NaN   \n",
       "\n",
       "   PreProvisionedQRCount  ...  Is in Source File based on Merchant Ext ID?  \\\n",
       "0                    3.0  ...                                        Match   \n",
       "\n",
       "   Is in Source File based on Merchant Mobile Number?  \\\n",
       "0                                           No Match    \n",
       "\n",
       "  IF R is Blank then RWM App Code latest city_2 Team View City Task Count  \\\n",
       "0                           20378       Solapur        Solapur        3.0   \n",
       "\n",
       "  Is in Google Daily OB File? Is Previous Revisit same month?  \\\n",
       "0                          No                             Yes   \n",
       "\n",
       "   Previous Revisit Date            Remarks  \n",
       "0              6/27/2022  Duplicate Revisit  \n",
       "\n",
       "[1 rows x 40 columns]"
      ]
     },
     "execution_count": 429,
     "metadata": {},
     "output_type": "execute_result"
    }
   ],
   "source": [
    "Google_Revisit_f_12.head(1)"
   ]
  },
  {
   "cell_type": "code",
   "execution_count": 430,
   "id": "be68f3cc",
   "metadata": {},
   "outputs": [
    {
     "data": {
      "text/plain": [
       "(5307, 40)"
      ]
     },
     "execution_count": 430,
     "metadata": {},
     "output_type": "execute_result"
    }
   ],
   "source": [
    "Google_Revisit_f_12.shape"
   ]
  },
  {
   "cell_type": "code",
   "execution_count": 431,
   "id": "6c8b7336",
   "metadata": {},
   "outputs": [],
   "source": [
    "Google_Revisit_f_12_f = Google_Revisit_f_12.filter(['MerchantExternalId','Team View City'])"
   ]
  },
  {
   "cell_type": "code",
   "execution_count": 432,
   "id": "d36985d3",
   "metadata": {},
   "outputs": [
    {
     "data": {
      "text/html": [
       "<div>\n",
       "<style scoped>\n",
       "    .dataframe tbody tr th:only-of-type {\n",
       "        vertical-align: middle;\n",
       "    }\n",
       "\n",
       "    .dataframe tbody tr th {\n",
       "        vertical-align: top;\n",
       "    }\n",
       "\n",
       "    .dataframe thead th {\n",
       "        text-align: right;\n",
       "    }\n",
       "</style>\n",
       "<table border=\"1\" class=\"dataframe\">\n",
       "  <thead>\n",
       "    <tr style=\"text-align: right;\">\n",
       "      <th></th>\n",
       "      <th>MerchantExternalId</th>\n",
       "      <th>Team View City</th>\n",
       "    </tr>\n",
       "  </thead>\n",
       "  <tbody>\n",
       "    <tr>\n",
       "      <th>0</th>\n",
       "      <td>BCR2DN4T2C5JLEID</td>\n",
       "      <td>Solapur</td>\n",
       "    </tr>\n",
       "    <tr>\n",
       "      <th>1</th>\n",
       "      <td>BCR2DN4T2C5MHWQN</td>\n",
       "      <td>Delhi</td>\n",
       "    </tr>\n",
       "    <tr>\n",
       "      <th>2</th>\n",
       "      <td>BCR2DN4T2C7LJ3J7</td>\n",
       "      <td>Sangli</td>\n",
       "    </tr>\n",
       "    <tr>\n",
       "      <th>3</th>\n",
       "      <td>BCR2DN4T2CFLNMZH</td>\n",
       "      <td>Latur</td>\n",
       "    </tr>\n",
       "    <tr>\n",
       "      <th>4</th>\n",
       "      <td>BCR2DN4T2CRL35QP</td>\n",
       "      <td>Indore</td>\n",
       "    </tr>\n",
       "    <tr>\n",
       "      <th>...</th>\n",
       "      <td>...</td>\n",
       "      <td>...</td>\n",
       "    </tr>\n",
       "    <tr>\n",
       "      <th>5302</th>\n",
       "      <td>BCR2DN6TZOC2NRQP</td>\n",
       "      <td>Madurai</td>\n",
       "    </tr>\n",
       "    <tr>\n",
       "      <th>5303</th>\n",
       "      <td>BCR2DN6TZPE3XKZU</td>\n",
       "      <td>AHMEDABAD</td>\n",
       "    </tr>\n",
       "    <tr>\n",
       "      <th>5304</th>\n",
       "      <td>BCR2DN6TZPEL5UIR</td>\n",
       "      <td>Davanagere</td>\n",
       "    </tr>\n",
       "    <tr>\n",
       "      <th>5305</th>\n",
       "      <td>BCR2DN6TZPKMJQ3L</td>\n",
       "      <td>Delhi</td>\n",
       "    </tr>\n",
       "    <tr>\n",
       "      <th>5306</th>\n",
       "      <td>BCR2DN6TZPTIDCQM</td>\n",
       "      <td>Delhi</td>\n",
       "    </tr>\n",
       "  </tbody>\n",
       "</table>\n",
       "<p>5307 rows × 2 columns</p>\n",
       "</div>"
      ],
      "text/plain": [
       "     MerchantExternalId Team View City\n",
       "0      BCR2DN4T2C5JLEID        Solapur\n",
       "1      BCR2DN4T2C5MHWQN          Delhi\n",
       "2      BCR2DN4T2C7LJ3J7         Sangli\n",
       "3      BCR2DN4T2CFLNMZH          Latur\n",
       "4      BCR2DN4T2CRL35QP         Indore\n",
       "...                 ...            ...\n",
       "5302   BCR2DN6TZOC2NRQP        Madurai\n",
       "5303   BCR2DN6TZPE3XKZU      AHMEDABAD\n",
       "5304   BCR2DN6TZPEL5UIR     Davanagere\n",
       "5305   BCR2DN6TZPKMJQ3L          Delhi\n",
       "5306   BCR2DN6TZPTIDCQM          Delhi\n",
       "\n",
       "[5307 rows x 2 columns]"
      ]
     },
     "execution_count": 432,
     "metadata": {},
     "output_type": "execute_result"
    }
   ],
   "source": [
    "Google_Revisit_f_12_f"
   ]
  },
  {
   "cell_type": "code",
   "execution_count": 433,
   "id": "ae26024c",
   "metadata": {},
   "outputs": [],
   "source": [
    "Google_Revisit_f_12_merge = Google_Revisit_f_12_f.merge(Pivot_table_f_concat, how = 'left', on = 'Team View City')"
   ]
  },
  {
   "cell_type": "code",
   "execution_count": 434,
   "id": "fb053b7a",
   "metadata": {},
   "outputs": [
    {
     "data": {
      "text/html": [
       "<div>\n",
       "<style scoped>\n",
       "    .dataframe tbody tr th:only-of-type {\n",
       "        vertical-align: middle;\n",
       "    }\n",
       "\n",
       "    .dataframe tbody tr th {\n",
       "        vertical-align: top;\n",
       "    }\n",
       "\n",
       "    .dataframe thead th {\n",
       "        text-align: right;\n",
       "    }\n",
       "</style>\n",
       "<table border=\"1\" class=\"dataframe\">\n",
       "  <thead>\n",
       "    <tr style=\"text-align: right;\">\n",
       "      <th></th>\n",
       "      <th>MerchantExternalId</th>\n",
       "      <th>Team View City</th>\n",
       "      <th>City_2</th>\n",
       "    </tr>\n",
       "  </thead>\n",
       "  <tbody>\n",
       "    <tr>\n",
       "      <th>0</th>\n",
       "      <td>BCR2DN4T2C5JLEID</td>\n",
       "      <td>Solapur</td>\n",
       "      <td>Solapur</td>\n",
       "    </tr>\n",
       "  </tbody>\n",
       "</table>\n",
       "</div>"
      ],
      "text/plain": [
       "  MerchantExternalId Team View City   City_2\n",
       "0   BCR2DN4T2C5JLEID        Solapur  Solapur"
      ]
     },
     "execution_count": 434,
     "metadata": {},
     "output_type": "execute_result"
    }
   ],
   "source": [
    "Google_Revisit_f_12_merge.head(1)"
   ]
  },
  {
   "cell_type": "code",
   "execution_count": 435,
   "id": "c65e43c7",
   "metadata": {},
   "outputs": [],
   "source": [
    "Google_Revisit_f_12_merge['Off City?'] = Google_Revisit_f_12_merge[\n",
    "    'Team View City'] == Google_Revisit_f_12_merge['City_2']\n",
    "Google_Revisit_f_12_merge['Off City?'] = Google_Revisit_f_12_merge['Off City?'].map({True: 'No', False: 'Yes'})"
   ]
  },
  {
   "cell_type": "code",
   "execution_count": 436,
   "id": "1e45f529",
   "metadata": {},
   "outputs": [
    {
     "data": {
      "text/html": [
       "<div>\n",
       "<style scoped>\n",
       "    .dataframe tbody tr th:only-of-type {\n",
       "        vertical-align: middle;\n",
       "    }\n",
       "\n",
       "    .dataframe tbody tr th {\n",
       "        vertical-align: top;\n",
       "    }\n",
       "\n",
       "    .dataframe thead th {\n",
       "        text-align: right;\n",
       "    }\n",
       "</style>\n",
       "<table border=\"1\" class=\"dataframe\">\n",
       "  <thead>\n",
       "    <tr style=\"text-align: right;\">\n",
       "      <th></th>\n",
       "      <th>MerchantExternalId</th>\n",
       "      <th>Team View City</th>\n",
       "      <th>City_2</th>\n",
       "      <th>Off City?</th>\n",
       "    </tr>\n",
       "  </thead>\n",
       "  <tbody>\n",
       "    <tr>\n",
       "      <th>0</th>\n",
       "      <td>BCR2DN4T2C5JLEID</td>\n",
       "      <td>Solapur</td>\n",
       "      <td>Solapur</td>\n",
       "      <td>No</td>\n",
       "    </tr>\n",
       "  </tbody>\n",
       "</table>\n",
       "</div>"
      ],
      "text/plain": [
       "  MerchantExternalId Team View City   City_2 Off City?\n",
       "0   BCR2DN4T2C5JLEID        Solapur  Solapur        No"
      ]
     },
     "execution_count": 436,
     "metadata": {},
     "output_type": "execute_result"
    }
   ],
   "source": [
    "Google_Revisit_f_12_merge.head(1)"
   ]
  },
  {
   "cell_type": "code",
   "execution_count": 437,
   "id": "6fa8c7df",
   "metadata": {},
   "outputs": [],
   "source": [
    "Google_Revisit_f_12_f = Google_Revisit_f_12_merge.filter(['MerchantExternalId', 'Off City?'])"
   ]
  },
  {
   "cell_type": "code",
   "execution_count": 438,
   "id": "cb809b69",
   "metadata": {},
   "outputs": [
    {
     "data": {
      "text/plain": [
       "(5307, 2)"
      ]
     },
     "execution_count": 438,
     "metadata": {},
     "output_type": "execute_result"
    }
   ],
   "source": [
    "Google_Revisit_f_12_f.shape"
   ]
  },
  {
   "cell_type": "code",
   "execution_count": 439,
   "id": "22b8343c",
   "metadata": {},
   "outputs": [],
   "source": [
    "Google_Revisit_f_12_merge_2 = Google_Revisit_f_12.merge(Google_Revisit_f_12_f, how = 'left', on = 'MerchantExternalId')"
   ]
  },
  {
   "cell_type": "code",
   "execution_count": 440,
   "id": "8fe03ddd",
   "metadata": {},
   "outputs": [
    {
     "data": {
      "text/html": [
       "<div>\n",
       "<style scoped>\n",
       "    .dataframe tbody tr th:only-of-type {\n",
       "        vertical-align: middle;\n",
       "    }\n",
       "\n",
       "    .dataframe tbody tr th {\n",
       "        vertical-align: top;\n",
       "    }\n",
       "\n",
       "    .dataframe thead th {\n",
       "        text-align: right;\n",
       "    }\n",
       "</style>\n",
       "<table border=\"1\" class=\"dataframe\">\n",
       "  <thead>\n",
       "    <tr style=\"text-align: right;\">\n",
       "      <th></th>\n",
       "      <th>StoreName</th>\n",
       "      <th>City</th>\n",
       "      <th>Pincode</th>\n",
       "      <th>StorePhoneNumber</th>\n",
       "      <th>OnboardingTimestamp</th>\n",
       "      <th>TaskSubmissionTimestamp</th>\n",
       "      <th>MerchantExternalId</th>\n",
       "      <th>CompletedSubTaskTypes</th>\n",
       "      <th>AdditionalQRs</th>\n",
       "      <th>PreProvisionedQRCount</th>\n",
       "      <th>...</th>\n",
       "      <th>Is in Source File based on Merchant Mobile Number?</th>\n",
       "      <th>IF R is Blank then RWM App Code</th>\n",
       "      <th>latest city_2</th>\n",
       "      <th>Team View City</th>\n",
       "      <th>Task Count</th>\n",
       "      <th>Is in Google Daily OB File?</th>\n",
       "      <th>Is Previous Revisit same month?</th>\n",
       "      <th>Previous Revisit Date</th>\n",
       "      <th>Remarks</th>\n",
       "      <th>Off City?</th>\n",
       "    </tr>\n",
       "  </thead>\n",
       "  <tbody>\n",
       "    <tr>\n",
       "      <th>0</th>\n",
       "      <td>Mangal Jewellers</td>\n",
       "      <td>Solapur</td>\n",
       "      <td>413216</td>\n",
       "      <td>9822959713</td>\n",
       "      <td>5/9/2022 17:41:48</td>\n",
       "      <td>11/10/2022 18:33:47</td>\n",
       "      <td>BCR2DN4T2C5JLEID</td>\n",
       "      <td>PROVISION_VPA, CAPTURE_ADDITIONAL_PICTURES, TA...</td>\n",
       "      <td>NaN</td>\n",
       "      <td>3.0</td>\n",
       "      <td>...</td>\n",
       "      <td>No Match</td>\n",
       "      <td>20378</td>\n",
       "      <td>Solapur</td>\n",
       "      <td>Solapur</td>\n",
       "      <td>3.0</td>\n",
       "      <td>No</td>\n",
       "      <td>Yes</td>\n",
       "      <td>6/27/2022</td>\n",
       "      <td>Duplicate Revisit</td>\n",
       "      <td>No</td>\n",
       "    </tr>\n",
       "  </tbody>\n",
       "</table>\n",
       "<p>1 rows × 41 columns</p>\n",
       "</div>"
      ],
      "text/plain": [
       "          StoreName     City  Pincode  StorePhoneNumber OnboardingTimestamp  \\\n",
       "0  Mangal Jewellers  Solapur   413216        9822959713   5/9/2022 17:41:48   \n",
       "\n",
       "  TaskSubmissionTimestamp MerchantExternalId  \\\n",
       "0     11/10/2022 18:33:47   BCR2DN4T2C5JLEID   \n",
       "\n",
       "                               CompletedSubTaskTypes  AdditionalQRs  \\\n",
       "0  PROVISION_VPA, CAPTURE_ADDITIONAL_PICTURES, TA...            NaN   \n",
       "\n",
       "   PreProvisionedQRCount  ...  \\\n",
       "0                    3.0  ...   \n",
       "\n",
       "   Is in Source File based on Merchant Mobile Number?  \\\n",
       "0                                           No Match    \n",
       "\n",
       "   IF R is Blank then RWM App Code latest city_2 Team View City Task Count  \\\n",
       "0                            20378       Solapur        Solapur        3.0   \n",
       "\n",
       "  Is in Google Daily OB File? Is Previous Revisit same month?  \\\n",
       "0                          No                             Yes   \n",
       "\n",
       "  Previous Revisit Date            Remarks Off City?  \n",
       "0             6/27/2022  Duplicate Revisit        No  \n",
       "\n",
       "[1 rows x 41 columns]"
      ]
     },
     "execution_count": 440,
     "metadata": {},
     "output_type": "execute_result"
    }
   ],
   "source": [
    "Google_Revisit_f_12_merge_2.head(1)"
   ]
  },
  {
   "cell_type": "code",
   "execution_count": 441,
   "id": "f2c5fcc6",
   "metadata": {},
   "outputs": [],
   "source": [
    "Google_Revisit_f_13 = Google_Revisit_f_12_merge_2"
   ]
  },
  {
   "cell_type": "markdown",
   "id": "10e02f6c",
   "metadata": {},
   "source": [
    "# Replacable column name"
   ]
  },
  {
   "cell_type": "code",
   "execution_count": 442,
   "id": "116030f5",
   "metadata": {},
   "outputs": [
    {
     "data": {
      "text/html": [
       "<div>\n",
       "<style scoped>\n",
       "    .dataframe tbody tr th:only-of-type {\n",
       "        vertical-align: middle;\n",
       "    }\n",
       "\n",
       "    .dataframe tbody tr th {\n",
       "        vertical-align: top;\n",
       "    }\n",
       "\n",
       "    .dataframe thead th {\n",
       "        text-align: right;\n",
       "    }\n",
       "</style>\n",
       "<table border=\"1\" class=\"dataframe\">\n",
       "  <thead>\n",
       "    <tr style=\"text-align: right;\">\n",
       "      <th></th>\n",
       "      <th>OLD</th>\n",
       "      <th>Unnamed: 1</th>\n",
       "      <th>Unnamed: 2</th>\n",
       "      <th>Unnamed: 3</th>\n",
       "      <th>Unnamed: 4</th>\n",
       "      <th>Unnamed: 5</th>\n",
       "      <th>Unnamed: 6</th>\n",
       "      <th>active</th>\n",
       "      <th>active|credit</th>\n",
       "      <th>active|P0</th>\n",
       "      <th>...</th>\n",
       "      <th>Final</th>\n",
       "      <th>Unnamed: 16</th>\n",
       "      <th>Unnamed: 17</th>\n",
       "      <th>Unnamed: 18</th>\n",
       "      <th>Unnamed: 19</th>\n",
       "      <th>Unnamed: 20</th>\n",
       "      <th>Unnamed: 21</th>\n",
       "      <th>Unnamed: 22</th>\n",
       "      <th>Unnamed: 23</th>\n",
       "      <th>Unnamed: 24</th>\n",
       "    </tr>\n",
       "  </thead>\n",
       "  <tbody>\n",
       "    <tr>\n",
       "      <th>0</th>\n",
       "      <td>110001.0</td>\n",
       "      <td>0.0</td>\n",
       "      <td>181.0</td>\n",
       "      <td>181.0</td>\n",
       "      <td>NaN</td>\n",
       "      <td>Agra</td>\n",
       "      <td>587101</td>\n",
       "      <td>1</td>\n",
       "      <td>0</td>\n",
       "      <td>0</td>\n",
       "      <td>...</td>\n",
       "      <td>61</td>\n",
       "      <td>0</td>\n",
       "      <td>5</td>\n",
       "      <td>0</td>\n",
       "      <td>NaN</td>\n",
       "      <td>postal_code</td>\n",
       "      <td>City Name</td>\n",
       "      <td>NaN</td>\n",
       "      <td>BCR2DN4T3C5LL7A3</td>\n",
       "      <td>NaN</td>\n",
       "    </tr>\n",
       "    <tr>\n",
       "      <th>1</th>\n",
       "      <td>110002.0</td>\n",
       "      <td>1.0</td>\n",
       "      <td>215.0</td>\n",
       "      <td>216.0</td>\n",
       "      <td>NaN</td>\n",
       "      <td>AHMEDABAD</td>\n",
       "      <td>587102</td>\n",
       "      <td>1</td>\n",
       "      <td>0</td>\n",
       "      <td>0</td>\n",
       "      <td>...</td>\n",
       "      <td>19</td>\n",
       "      <td>0</td>\n",
       "      <td>2</td>\n",
       "      <td>0</td>\n",
       "      <td>NaN</td>\n",
       "      <td>387001</td>\n",
       "      <td>Anand</td>\n",
       "      <td>NaN</td>\n",
       "      <td>BCR2DN4T3CHMDNBV</td>\n",
       "      <td>NaN</td>\n",
       "    </tr>\n",
       "    <tr>\n",
       "      <th>2</th>\n",
       "      <td>110003.0</td>\n",
       "      <td>2.0</td>\n",
       "      <td>355.0</td>\n",
       "      <td>357.0</td>\n",
       "      <td>NaN</td>\n",
       "      <td>Ahmednagar</td>\n",
       "      <td>587103</td>\n",
       "      <td>3</td>\n",
       "      <td>0</td>\n",
       "      <td>1</td>\n",
       "      <td>...</td>\n",
       "      <td>63</td>\n",
       "      <td>0</td>\n",
       "      <td>3</td>\n",
       "      <td>0</td>\n",
       "      <td>NaN</td>\n",
       "      <td>387002</td>\n",
       "      <td>Anand</td>\n",
       "      <td>NaN</td>\n",
       "      <td>BCR2DN4T3CHOHKKX</td>\n",
       "      <td>NaN</td>\n",
       "    </tr>\n",
       "    <tr>\n",
       "      <th>3</th>\n",
       "      <td>110005.0</td>\n",
       "      <td>3.0</td>\n",
       "      <td>2029.0</td>\n",
       "      <td>2032.0</td>\n",
       "      <td>NaN</td>\n",
       "      <td>Aligarh</td>\n",
       "      <td>587112</td>\n",
       "      <td>0</td>\n",
       "      <td>0</td>\n",
       "      <td>0</td>\n",
       "      <td>...</td>\n",
       "      <td>12</td>\n",
       "      <td>0</td>\n",
       "      <td>0</td>\n",
       "      <td>0</td>\n",
       "      <td>NaN</td>\n",
       "      <td>387110</td>\n",
       "      <td>Anand</td>\n",
       "      <td>NaN</td>\n",
       "      <td>BCR2DN4T3CHP3LIR</td>\n",
       "      <td>NaN</td>\n",
       "    </tr>\n",
       "    <tr>\n",
       "      <th>4</th>\n",
       "      <td>110006.0</td>\n",
       "      <td>17.0</td>\n",
       "      <td>3274.0</td>\n",
       "      <td>3291.0</td>\n",
       "      <td>NaN</td>\n",
       "      <td>Amravati</td>\n",
       "      <td>587116</td>\n",
       "      <td>0</td>\n",
       "      <td>0</td>\n",
       "      <td>0</td>\n",
       "      <td>...</td>\n",
       "      <td>5</td>\n",
       "      <td>0</td>\n",
       "      <td>0</td>\n",
       "      <td>0</td>\n",
       "      <td>NaN</td>\n",
       "      <td>387115</td>\n",
       "      <td>Anand</td>\n",
       "      <td>NaN</td>\n",
       "      <td>BCR2DN4T3CTI7JYL</td>\n",
       "      <td>NaN</td>\n",
       "    </tr>\n",
       "  </tbody>\n",
       "</table>\n",
       "<p>5 rows × 25 columns</p>\n",
       "</div>"
      ],
      "text/plain": [
       "        OLD  Unnamed: 1  Unnamed: 2  Unnamed: 3  Unnamed: 4  Unnamed: 5  \\\n",
       "0  110001.0         0.0       181.0       181.0         NaN        Agra   \n",
       "1  110002.0         1.0       215.0       216.0         NaN   AHMEDABAD   \n",
       "2  110003.0         2.0       355.0       357.0         NaN  Ahmednagar   \n",
       "3  110005.0         3.0      2029.0      2032.0         NaN     Aligarh   \n",
       "4  110006.0        17.0      3274.0      3291.0         NaN    Amravati   \n",
       "\n",
       "   Unnamed: 6  active  active|credit  active|P0  ...  Final  Unnamed: 16  \\\n",
       "0      587101       1              0          0  ...     61            0   \n",
       "1      587102       1              0          0  ...     19            0   \n",
       "2      587103       3              0          1  ...     63            0   \n",
       "3      587112       0              0          0  ...     12            0   \n",
       "4      587116       0              0          0  ...      5            0   \n",
       "\n",
       "   Unnamed: 17  Unnamed: 18  Unnamed: 19  Unnamed: 20  Unnamed: 21  \\\n",
       "0            5            0          NaN  postal_code    City Name   \n",
       "1            2            0          NaN       387001        Anand   \n",
       "2            3            0          NaN       387002        Anand   \n",
       "3            0            0          NaN       387110        Anand   \n",
       "4            0            0          NaN       387115        Anand   \n",
       "\n",
       "   Unnamed: 22       Unnamed: 23  Unnamed: 24  \n",
       "0          NaN  BCR2DN4T3C5LL7A3          NaN  \n",
       "1          NaN  BCR2DN4T3CHMDNBV          NaN  \n",
       "2          NaN  BCR2DN4T3CHOHKKX          NaN  \n",
       "3          NaN  BCR2DN4T3CHP3LIR          NaN  \n",
       "4          NaN  BCR2DN4T3CTI7JYL          NaN  \n",
       "\n",
       "[5 rows x 25 columns]"
      ]
     },
     "execution_count": 442,
     "metadata": {},
     "output_type": "execute_result"
    }
   ],
   "source": [
    "Pivot_table.head()"
   ]
  },
  {
   "cell_type": "code",
   "execution_count": 443,
   "id": "5e1cff29",
   "metadata": {},
   "outputs": [
    {
     "data": {
      "text/html": [
       "<div>\n",
       "<style scoped>\n",
       "    .dataframe tbody tr th:only-of-type {\n",
       "        vertical-align: middle;\n",
       "    }\n",
       "\n",
       "    .dataframe tbody tr th {\n",
       "        vertical-align: top;\n",
       "    }\n",
       "\n",
       "    .dataframe thead th {\n",
       "        text-align: right;\n",
       "    }\n",
       "</style>\n",
       "<table border=\"1\" class=\"dataframe\">\n",
       "  <thead>\n",
       "    <tr style=\"text-align: right;\">\n",
       "      <th></th>\n",
       "      <th>Unnamed: 20</th>\n",
       "      <th>Unnamed: 21</th>\n",
       "    </tr>\n",
       "  </thead>\n",
       "  <tbody>\n",
       "    <tr>\n",
       "      <th>0</th>\n",
       "      <td>postal_code</td>\n",
       "      <td>City Name</td>\n",
       "    </tr>\n",
       "  </tbody>\n",
       "</table>\n",
       "</div>"
      ],
      "text/plain": [
       "   Unnamed: 20 Unnamed: 21\n",
       "0  postal_code   City Name"
      ]
     },
     "execution_count": 443,
     "metadata": {},
     "output_type": "execute_result"
    }
   ],
   "source": [
    "Pivot_table_f_2 = Pivot_table.filter(['Unnamed: 20', 'Unnamed: 21'])\n",
    "Pivot_table_f_2.head(1)"
   ]
  },
  {
   "cell_type": "markdown",
   "id": "0ee1c77f",
   "metadata": {},
   "source": [
    "### Changing the columns name with row 1"
   ]
  },
  {
   "cell_type": "code",
   "execution_count": 444,
   "id": "c02cf8da",
   "metadata": {},
   "outputs": [],
   "source": [
    "Pivot_table_f_2.columns = Pivot_table_f_2.iloc[0]"
   ]
  },
  {
   "cell_type": "code",
   "execution_count": 445,
   "id": "e4d0310e",
   "metadata": {},
   "outputs": [],
   "source": [
    "Pivot_table_f_3 = Pivot_table_f_2.drop(0)"
   ]
  },
  {
   "cell_type": "code",
   "execution_count": 446,
   "id": "8991ca10",
   "metadata": {},
   "outputs": [
    {
     "data": {
      "text/plain": [
       "(5439, 2)"
      ]
     },
     "execution_count": 446,
     "metadata": {},
     "output_type": "execute_result"
    }
   ],
   "source": [
    "Pivot_table_f_3_f_1 = Pivot_table_f_3.filter(['postal_code']).rename(columns={'postal_code':'Pincode'})\n",
    "Pivot_table_f_3_f_2 = Pivot_table_f_3.filter([\n",
    "    'postal_code', 'City Name']).rename(columns={'postal_code':'Pincode_2'})\n",
    "Pivot_table_f_3_f_2.shape"
   ]
  },
  {
   "cell_type": "code",
   "execution_count": 447,
   "id": "97ec63ca",
   "metadata": {},
   "outputs": [],
   "source": [
    "Pivot_table_f_3_f_concat = pd.concat([Pivot_table_f_3_f_1, Pivot_table_f_3_f_2], axis = 1, join = 'inner')"
   ]
  },
  {
   "cell_type": "code",
   "execution_count": 448,
   "id": "e7c88fd6",
   "metadata": {},
   "outputs": [
    {
     "data": {
      "text/html": [
       "<div>\n",
       "<style scoped>\n",
       "    .dataframe tbody tr th:only-of-type {\n",
       "        vertical-align: middle;\n",
       "    }\n",
       "\n",
       "    .dataframe tbody tr th {\n",
       "        vertical-align: top;\n",
       "    }\n",
       "\n",
       "    .dataframe thead th {\n",
       "        text-align: right;\n",
       "    }\n",
       "</style>\n",
       "<table border=\"1\" class=\"dataframe\">\n",
       "  <thead>\n",
       "    <tr style=\"text-align: right;\">\n",
       "      <th></th>\n",
       "      <th>Pincode</th>\n",
       "      <th>Pincode_2</th>\n",
       "      <th>City Name</th>\n",
       "    </tr>\n",
       "  </thead>\n",
       "  <tbody>\n",
       "    <tr>\n",
       "      <th>1</th>\n",
       "      <td>387001</td>\n",
       "      <td>387001</td>\n",
       "      <td>Anand</td>\n",
       "    </tr>\n",
       "  </tbody>\n",
       "</table>\n",
       "</div>"
      ],
      "text/plain": [
       "0 Pincode Pincode_2 City Name\n",
       "1  387001    387001     Anand"
      ]
     },
     "execution_count": 448,
     "metadata": {},
     "output_type": "execute_result"
    }
   ],
   "source": [
    "Pivot_table_f_3_f_concat.head(1)"
   ]
  },
  {
   "cell_type": "code",
   "execution_count": 449,
   "id": "eac5541e",
   "metadata": {},
   "outputs": [
    {
     "data": {
      "text/html": [
       "<div>\n",
       "<style scoped>\n",
       "    .dataframe tbody tr th:only-of-type {\n",
       "        vertical-align: middle;\n",
       "    }\n",
       "\n",
       "    .dataframe tbody tr th {\n",
       "        vertical-align: top;\n",
       "    }\n",
       "\n",
       "    .dataframe thead th {\n",
       "        text-align: right;\n",
       "    }\n",
       "</style>\n",
       "<table border=\"1\" class=\"dataframe\">\n",
       "  <thead>\n",
       "    <tr style=\"text-align: right;\">\n",
       "      <th></th>\n",
       "      <th>StoreName</th>\n",
       "      <th>City</th>\n",
       "      <th>Pincode</th>\n",
       "      <th>StorePhoneNumber</th>\n",
       "      <th>OnboardingTimestamp</th>\n",
       "      <th>TaskSubmissionTimestamp</th>\n",
       "      <th>MerchantExternalId</th>\n",
       "      <th>CompletedSubTaskTypes</th>\n",
       "      <th>AdditionalQRs</th>\n",
       "      <th>PreProvisionedQRCount</th>\n",
       "      <th>...</th>\n",
       "      <th>Is in Source File based on Merchant Mobile Number?</th>\n",
       "      <th>IF R is Blank then RWM App Code</th>\n",
       "      <th>latest city_2</th>\n",
       "      <th>Team View City</th>\n",
       "      <th>Task Count</th>\n",
       "      <th>Is in Google Daily OB File?</th>\n",
       "      <th>Is Previous Revisit same month?</th>\n",
       "      <th>Previous Revisit Date</th>\n",
       "      <th>Remarks</th>\n",
       "      <th>Off City?</th>\n",
       "    </tr>\n",
       "  </thead>\n",
       "  <tbody>\n",
       "    <tr>\n",
       "      <th>0</th>\n",
       "      <td>Mangal Jewellers</td>\n",
       "      <td>Solapur</td>\n",
       "      <td>413216</td>\n",
       "      <td>9822959713</td>\n",
       "      <td>5/9/2022 17:41:48</td>\n",
       "      <td>11/10/2022 18:33:47</td>\n",
       "      <td>BCR2DN4T2C5JLEID</td>\n",
       "      <td>PROVISION_VPA, CAPTURE_ADDITIONAL_PICTURES, TA...</td>\n",
       "      <td>NaN</td>\n",
       "      <td>3.0</td>\n",
       "      <td>...</td>\n",
       "      <td>No Match</td>\n",
       "      <td>20378</td>\n",
       "      <td>Solapur</td>\n",
       "      <td>Solapur</td>\n",
       "      <td>3.0</td>\n",
       "      <td>No</td>\n",
       "      <td>Yes</td>\n",
       "      <td>6/27/2022</td>\n",
       "      <td>Duplicate Revisit</td>\n",
       "      <td>No</td>\n",
       "    </tr>\n",
       "  </tbody>\n",
       "</table>\n",
       "<p>1 rows × 41 columns</p>\n",
       "</div>"
      ],
      "text/plain": [
       "          StoreName     City  Pincode  StorePhoneNumber OnboardingTimestamp  \\\n",
       "0  Mangal Jewellers  Solapur   413216        9822959713   5/9/2022 17:41:48   \n",
       "\n",
       "  TaskSubmissionTimestamp MerchantExternalId  \\\n",
       "0     11/10/2022 18:33:47   BCR2DN4T2C5JLEID   \n",
       "\n",
       "                               CompletedSubTaskTypes  AdditionalQRs  \\\n",
       "0  PROVISION_VPA, CAPTURE_ADDITIONAL_PICTURES, TA...            NaN   \n",
       "\n",
       "   PreProvisionedQRCount  ...  \\\n",
       "0                    3.0  ...   \n",
       "\n",
       "   Is in Source File based on Merchant Mobile Number?  \\\n",
       "0                                           No Match    \n",
       "\n",
       "   IF R is Blank then RWM App Code latest city_2 Team View City Task Count  \\\n",
       "0                            20378       Solapur        Solapur        3.0   \n",
       "\n",
       "  Is in Google Daily OB File? Is Previous Revisit same month?  \\\n",
       "0                          No                             Yes   \n",
       "\n",
       "  Previous Revisit Date            Remarks Off City?  \n",
       "0             6/27/2022  Duplicate Revisit        No  \n",
       "\n",
       "[1 rows x 41 columns]"
      ]
     },
     "execution_count": 449,
     "metadata": {},
     "output_type": "execute_result"
    }
   ],
   "source": [
    "Google_Revisit_f_13.head(1)"
   ]
  },
  {
   "cell_type": "code",
   "execution_count": 450,
   "id": "4c46e9e3",
   "metadata": {},
   "outputs": [
    {
     "data": {
      "text/plain": [
       "(5307, 2)"
      ]
     },
     "execution_count": 450,
     "metadata": {},
     "output_type": "execute_result"
    }
   ],
   "source": [
    "Google_Revisit_f_13_f = Google_Revisit_f_13.filter(['MerchantExternalId', 'Pincode'])\n",
    "Google_Revisit_f_13_f.shape"
   ]
  },
  {
   "cell_type": "code",
   "execution_count": 451,
   "id": "d44d7cf5",
   "metadata": {},
   "outputs": [
    {
     "data": {
      "text/plain": [
       "MerchantExternalId    object\n",
       "Pincode                int64\n",
       "dtype: object"
      ]
     },
     "execution_count": 451,
     "metadata": {},
     "output_type": "execute_result"
    }
   ],
   "source": [
    "Google_Revisit_f_13_f.dtypes"
   ]
  },
  {
   "cell_type": "code",
   "execution_count": 452,
   "id": "cc0b91eb",
   "metadata": {},
   "outputs": [],
   "source": [
    "Pivot_table_f_3_f_concat['Pincode'] = pd.to_numeric(Pivot_table_f_3_f_concat['Pincode'])"
   ]
  },
  {
   "cell_type": "code",
   "execution_count": 453,
   "id": "1f5f467b",
   "metadata": {},
   "outputs": [],
   "source": [
    "Google_Revisit_f_13_f_merge = Google_Revisit_f_13_f.merge(Pivot_table_f_3_f_concat, how = 'left', on = 'Pincode')"
   ]
  },
  {
   "cell_type": "code",
   "execution_count": 454,
   "id": "7978a30e",
   "metadata": {},
   "outputs": [],
   "source": [
    "Google_Revisit_f_13_f_dd = Google_Revisit_f_13_f_merge.drop_duplicates(subset = ['MerchantExternalId'])"
   ]
  },
  {
   "cell_type": "code",
   "execution_count": 455,
   "id": "1a344d0f",
   "metadata": {},
   "outputs": [
    {
     "data": {
      "text/plain": [
       "(5307, 4)"
      ]
     },
     "execution_count": 455,
     "metadata": {},
     "output_type": "execute_result"
    }
   ],
   "source": [
    "Google_Revisit_f_13_f_dd.shape"
   ]
  },
  {
   "cell_type": "code",
   "execution_count": 456,
   "id": "9556e9f5",
   "metadata": {},
   "outputs": [],
   "source": [
    "Google_Revisit_f_13_f_dd_2 = Google_Revisit_f_13_f_dd.rename(columns = {'City Name':'Remove the Name with nan'}) "
   ]
  },
  {
   "cell_type": "code",
   "execution_count": 457,
   "id": "74c61a26",
   "metadata": {},
   "outputs": [
    {
     "data": {
      "text/html": [
       "<div>\n",
       "<style scoped>\n",
       "    .dataframe tbody tr th:only-of-type {\n",
       "        vertical-align: middle;\n",
       "    }\n",
       "\n",
       "    .dataframe tbody tr th {\n",
       "        vertical-align: top;\n",
       "    }\n",
       "\n",
       "    .dataframe thead th {\n",
       "        text-align: right;\n",
       "    }\n",
       "</style>\n",
       "<table border=\"1\" class=\"dataframe\">\n",
       "  <thead>\n",
       "    <tr style=\"text-align: right;\">\n",
       "      <th></th>\n",
       "      <th>MerchantExternalId</th>\n",
       "      <th>Pincode</th>\n",
       "      <th>Pincode_2</th>\n",
       "      <th>Remove the Name with nan</th>\n",
       "    </tr>\n",
       "  </thead>\n",
       "  <tbody>\n",
       "    <tr>\n",
       "      <th>0</th>\n",
       "      <td>BCR2DN4T2C5JLEID</td>\n",
       "      <td>413216</td>\n",
       "      <td>NaN</td>\n",
       "      <td>NaN</td>\n",
       "    </tr>\n",
       "  </tbody>\n",
       "</table>\n",
       "</div>"
      ],
      "text/plain": [
       "  MerchantExternalId  Pincode Pincode_2 Remove the Name with nan\n",
       "0   BCR2DN4T2C5JLEID   413216       NaN                      NaN"
      ]
     },
     "execution_count": 457,
     "metadata": {},
     "output_type": "execute_result"
    }
   ],
   "source": [
    "Google_Revisit_f_13_f_dd_2.head(1)"
   ]
  },
  {
   "cell_type": "code",
   "execution_count": 458,
   "id": "bfc3c5e8",
   "metadata": {},
   "outputs": [],
   "source": [
    "Google_Revisit_f_13_f_3 = Google_Revisit_f_13_f_dd_2.filter(['MerchantExternalId', 'Remove the Name with nan'])"
   ]
  },
  {
   "cell_type": "code",
   "execution_count": 459,
   "id": "f858019e",
   "metadata": {},
   "outputs": [],
   "source": [
    "Google_Revisit_f_13_f_merge = Google_Revisit_f_13.merge(\n",
    "    Google_Revisit_f_13_f_3, how = 'left', on='MerchantExternalId')"
   ]
  },
  {
   "cell_type": "code",
   "execution_count": 460,
   "id": "b919e18a",
   "metadata": {},
   "outputs": [
    {
     "data": {
      "text/html": [
       "<div>\n",
       "<style scoped>\n",
       "    .dataframe tbody tr th:only-of-type {\n",
       "        vertical-align: middle;\n",
       "    }\n",
       "\n",
       "    .dataframe tbody tr th {\n",
       "        vertical-align: top;\n",
       "    }\n",
       "\n",
       "    .dataframe thead th {\n",
       "        text-align: right;\n",
       "    }\n",
       "</style>\n",
       "<table border=\"1\" class=\"dataframe\">\n",
       "  <thead>\n",
       "    <tr style=\"text-align: right;\">\n",
       "      <th></th>\n",
       "      <th>StoreName</th>\n",
       "      <th>City</th>\n",
       "      <th>Pincode</th>\n",
       "      <th>StorePhoneNumber</th>\n",
       "      <th>OnboardingTimestamp</th>\n",
       "      <th>TaskSubmissionTimestamp</th>\n",
       "      <th>MerchantExternalId</th>\n",
       "      <th>CompletedSubTaskTypes</th>\n",
       "      <th>AdditionalQRs</th>\n",
       "      <th>PreProvisionedQRCount</th>\n",
       "      <th>...</th>\n",
       "      <th>IF R is Blank then RWM App Code</th>\n",
       "      <th>latest city_2</th>\n",
       "      <th>Team View City</th>\n",
       "      <th>Task Count</th>\n",
       "      <th>Is in Google Daily OB File?</th>\n",
       "      <th>Is Previous Revisit same month?</th>\n",
       "      <th>Previous Revisit Date</th>\n",
       "      <th>Remarks</th>\n",
       "      <th>Off City?</th>\n",
       "      <th>Remove the Name with nan</th>\n",
       "    </tr>\n",
       "  </thead>\n",
       "  <tbody>\n",
       "    <tr>\n",
       "      <th>0</th>\n",
       "      <td>Mangal Jewellers</td>\n",
       "      <td>Solapur</td>\n",
       "      <td>413216</td>\n",
       "      <td>9822959713</td>\n",
       "      <td>5/9/2022 17:41:48</td>\n",
       "      <td>11/10/2022 18:33:47</td>\n",
       "      <td>BCR2DN4T2C5JLEID</td>\n",
       "      <td>PROVISION_VPA, CAPTURE_ADDITIONAL_PICTURES, TA...</td>\n",
       "      <td>NaN</td>\n",
       "      <td>3.0</td>\n",
       "      <td>...</td>\n",
       "      <td>20378</td>\n",
       "      <td>Solapur</td>\n",
       "      <td>Solapur</td>\n",
       "      <td>3.0</td>\n",
       "      <td>No</td>\n",
       "      <td>Yes</td>\n",
       "      <td>6/27/2022</td>\n",
       "      <td>Duplicate Revisit</td>\n",
       "      <td>No</td>\n",
       "      <td>NaN</td>\n",
       "    </tr>\n",
       "  </tbody>\n",
       "</table>\n",
       "<p>1 rows × 42 columns</p>\n",
       "</div>"
      ],
      "text/plain": [
       "          StoreName     City  Pincode  StorePhoneNumber OnboardingTimestamp  \\\n",
       "0  Mangal Jewellers  Solapur   413216        9822959713   5/9/2022 17:41:48   \n",
       "\n",
       "  TaskSubmissionTimestamp MerchantExternalId  \\\n",
       "0     11/10/2022 18:33:47   BCR2DN4T2C5JLEID   \n",
       "\n",
       "                               CompletedSubTaskTypes  AdditionalQRs  \\\n",
       "0  PROVISION_VPA, CAPTURE_ADDITIONAL_PICTURES, TA...            NaN   \n",
       "\n",
       "   PreProvisionedQRCount  ...  IF R is Blank then RWM App Code  latest city_2  \\\n",
       "0                    3.0  ...                            20378        Solapur   \n",
       "\n",
       "  Team View City Task Count Is in Google Daily OB File?  \\\n",
       "0        Solapur        3.0                          No   \n",
       "\n",
       "  Is Previous Revisit same month? Previous Revisit Date            Remarks  \\\n",
       "0                             Yes             6/27/2022  Duplicate Revisit   \n",
       "\n",
       "   Off City? Remove the Name with nan  \n",
       "0         No                      NaN  \n",
       "\n",
       "[1 rows x 42 columns]"
      ]
     },
     "execution_count": 460,
     "metadata": {},
     "output_type": "execute_result"
    }
   ],
   "source": [
    "Google_Revisit_f_13_f_merge.head(1)"
   ]
  },
  {
   "cell_type": "code",
   "execution_count": 461,
   "id": "ed014c6a",
   "metadata": {},
   "outputs": [],
   "source": [
    "Google_Revisit_f_15 = Google_Revisit_f_13_f_merge"
   ]
  },
  {
   "cell_type": "code",
   "execution_count": 462,
   "id": "4389ca5e",
   "metadata": {},
   "outputs": [
    {
     "data": {
      "text/html": [
       "<div>\n",
       "<style scoped>\n",
       "    .dataframe tbody tr th:only-of-type {\n",
       "        vertical-align: middle;\n",
       "    }\n",
       "\n",
       "    .dataframe tbody tr th {\n",
       "        vertical-align: top;\n",
       "    }\n",
       "\n",
       "    .dataframe thead th {\n",
       "        text-align: right;\n",
       "    }\n",
       "</style>\n",
       "<table border=\"1\" class=\"dataframe\">\n",
       "  <thead>\n",
       "    <tr style=\"text-align: right;\">\n",
       "      <th></th>\n",
       "      <th>StoreName</th>\n",
       "      <th>City</th>\n",
       "      <th>Pincode</th>\n",
       "      <th>StorePhoneNumber</th>\n",
       "      <th>OnboardingTimestamp</th>\n",
       "      <th>TaskSubmissionTimestamp</th>\n",
       "      <th>MerchantExternalId</th>\n",
       "      <th>CompletedSubTaskTypes</th>\n",
       "      <th>AdditionalQRs</th>\n",
       "      <th>PreProvisionedQRCount</th>\n",
       "      <th>...</th>\n",
       "      <th>IF R is Blank then RWM App Code</th>\n",
       "      <th>latest city_2</th>\n",
       "      <th>Team View City</th>\n",
       "      <th>Task Count</th>\n",
       "      <th>Is in Google Daily OB File?</th>\n",
       "      <th>Is Previous Revisit same month?</th>\n",
       "      <th>Previous Revisit Date</th>\n",
       "      <th>Remarks</th>\n",
       "      <th>Off City?</th>\n",
       "      <th>Remove the Name with nan</th>\n",
       "    </tr>\n",
       "  </thead>\n",
       "  <tbody>\n",
       "    <tr>\n",
       "      <th>0</th>\n",
       "      <td>Mangal Jewellers</td>\n",
       "      <td>Solapur</td>\n",
       "      <td>413216</td>\n",
       "      <td>9822959713</td>\n",
       "      <td>5/9/2022 17:41:48</td>\n",
       "      <td>11/10/2022 18:33:47</td>\n",
       "      <td>BCR2DN4T2C5JLEID</td>\n",
       "      <td>PROVISION_VPA, CAPTURE_ADDITIONAL_PICTURES, TA...</td>\n",
       "      <td>NaN</td>\n",
       "      <td>3.0</td>\n",
       "      <td>...</td>\n",
       "      <td>20378</td>\n",
       "      <td>Solapur</td>\n",
       "      <td>Solapur</td>\n",
       "      <td>3.0</td>\n",
       "      <td>No</td>\n",
       "      <td>Yes</td>\n",
       "      <td>6/27/2022</td>\n",
       "      <td>Duplicate Revisit</td>\n",
       "      <td>No</td>\n",
       "      <td>NaN</td>\n",
       "    </tr>\n",
       "  </tbody>\n",
       "</table>\n",
       "<p>1 rows × 42 columns</p>\n",
       "</div>"
      ],
      "text/plain": [
       "          StoreName     City  Pincode  StorePhoneNumber OnboardingTimestamp  \\\n",
       "0  Mangal Jewellers  Solapur   413216        9822959713   5/9/2022 17:41:48   \n",
       "\n",
       "  TaskSubmissionTimestamp MerchantExternalId  \\\n",
       "0     11/10/2022 18:33:47   BCR2DN4T2C5JLEID   \n",
       "\n",
       "                               CompletedSubTaskTypes  AdditionalQRs  \\\n",
       "0  PROVISION_VPA, CAPTURE_ADDITIONAL_PICTURES, TA...            NaN   \n",
       "\n",
       "   PreProvisionedQRCount  ...  IF R is Blank then RWM App Code  latest city_2  \\\n",
       "0                    3.0  ...                            20378        Solapur   \n",
       "\n",
       "  Team View City Task Count Is in Google Daily OB File?  \\\n",
       "0        Solapur        3.0                          No   \n",
       "\n",
       "  Is Previous Revisit same month? Previous Revisit Date            Remarks  \\\n",
       "0                             Yes             6/27/2022  Duplicate Revisit   \n",
       "\n",
       "   Off City? Remove the Name with nan  \n",
       "0         No                      NaN  \n",
       "\n",
       "[1 rows x 42 columns]"
      ]
     },
     "execution_count": 462,
     "metadata": {},
     "output_type": "execute_result"
    }
   ],
   "source": [
    "Google_Revisit_f_15.head(1)"
   ]
  },
  {
   "cell_type": "markdown",
   "id": "58919617",
   "metadata": {},
   "source": [
    "# Is in Old Source?"
   ]
  },
  {
   "cell_type": "code",
   "execution_count": 463,
   "id": "ac4cb388",
   "metadata": {},
   "outputs": [],
   "source": [
    "Source_data_Q1_2022_ingestion_f = Source_data_Q1_2022_ingestion[['Merchant Ext.ID', 'Phone Number']]"
   ]
  },
  {
   "cell_type": "code",
   "execution_count": 464,
   "id": "e2d846a0",
   "metadata": {},
   "outputs": [
    {
     "data": {
      "text/html": [
       "<div>\n",
       "<style scoped>\n",
       "    .dataframe tbody tr th:only-of-type {\n",
       "        vertical-align: middle;\n",
       "    }\n",
       "\n",
       "    .dataframe tbody tr th {\n",
       "        vertical-align: top;\n",
       "    }\n",
       "\n",
       "    .dataframe thead th {\n",
       "        text-align: right;\n",
       "    }\n",
       "</style>\n",
       "<table border=\"1\" class=\"dataframe\">\n",
       "  <thead>\n",
       "    <tr style=\"text-align: right;\">\n",
       "      <th></th>\n",
       "      <th>Merchant Ext.ID</th>\n",
       "      <th>Phone Number</th>\n",
       "    </tr>\n",
       "  </thead>\n",
       "  <tbody>\n",
       "    <tr>\n",
       "      <th>0</th>\n",
       "      <td>Empty</td>\n",
       "      <td>0</td>\n",
       "    </tr>\n",
       "  </tbody>\n",
       "</table>\n",
       "</div>"
      ],
      "text/plain": [
       "  Merchant Ext.ID  Phone Number\n",
       "0           Empty             0"
      ]
     },
     "execution_count": 464,
     "metadata": {},
     "output_type": "execute_result"
    }
   ],
   "source": [
    "Source_data_Q1_2022_ingestion_f.head(1)"
   ]
  },
  {
   "cell_type": "code",
   "execution_count": 465,
   "id": "86eb66c7",
   "metadata": {},
   "outputs": [
    {
     "data": {
      "text/plain": [
       "(404814, 2)"
      ]
     },
     "execution_count": 465,
     "metadata": {},
     "output_type": "execute_result"
    }
   ],
   "source": [
    "Source_data_Q1_2022_ingestion_f.shape"
   ]
  },
  {
   "cell_type": "code",
   "execution_count": 466,
   "id": "4d069c22",
   "metadata": {},
   "outputs": [
    {
     "data": {
      "text/html": [
       "<div>\n",
       "<style scoped>\n",
       "    .dataframe tbody tr th:only-of-type {\n",
       "        vertical-align: middle;\n",
       "    }\n",
       "\n",
       "    .dataframe tbody tr th {\n",
       "        vertical-align: top;\n",
       "    }\n",
       "\n",
       "    .dataframe thead th {\n",
       "        text-align: right;\n",
       "    }\n",
       "</style>\n",
       "<table border=\"1\" class=\"dataframe\">\n",
       "  <thead>\n",
       "    <tr style=\"text-align: right;\">\n",
       "      <th></th>\n",
       "      <th>StoreName</th>\n",
       "      <th>City</th>\n",
       "      <th>Pincode</th>\n",
       "      <th>StorePhoneNumber</th>\n",
       "      <th>OnboardingTimestamp</th>\n",
       "      <th>TaskSubmissionTimestamp</th>\n",
       "      <th>MerchantExternalId</th>\n",
       "      <th>CompletedSubTaskTypes</th>\n",
       "      <th>AdditionalQRs</th>\n",
       "      <th>PreProvisionedQRCount</th>\n",
       "      <th>...</th>\n",
       "      <th>IF R is Blank then RWM App Code</th>\n",
       "      <th>latest city_2</th>\n",
       "      <th>Team View City</th>\n",
       "      <th>Task Count</th>\n",
       "      <th>Is in Google Daily OB File?</th>\n",
       "      <th>Is Previous Revisit same month?</th>\n",
       "      <th>Previous Revisit Date</th>\n",
       "      <th>Remarks</th>\n",
       "      <th>Off City?</th>\n",
       "      <th>Remove the Name with nan</th>\n",
       "    </tr>\n",
       "  </thead>\n",
       "  <tbody>\n",
       "    <tr>\n",
       "      <th>0</th>\n",
       "      <td>Mangal Jewellers</td>\n",
       "      <td>Solapur</td>\n",
       "      <td>413216</td>\n",
       "      <td>9822959713</td>\n",
       "      <td>5/9/2022 17:41:48</td>\n",
       "      <td>11/10/2022 18:33:47</td>\n",
       "      <td>BCR2DN4T2C5JLEID</td>\n",
       "      <td>PROVISION_VPA, CAPTURE_ADDITIONAL_PICTURES, TA...</td>\n",
       "      <td>NaN</td>\n",
       "      <td>3.0</td>\n",
       "      <td>...</td>\n",
       "      <td>20378</td>\n",
       "      <td>Solapur</td>\n",
       "      <td>Solapur</td>\n",
       "      <td>3.0</td>\n",
       "      <td>No</td>\n",
       "      <td>Yes</td>\n",
       "      <td>6/27/2022</td>\n",
       "      <td>Duplicate Revisit</td>\n",
       "      <td>No</td>\n",
       "      <td>NaN</td>\n",
       "    </tr>\n",
       "  </tbody>\n",
       "</table>\n",
       "<p>1 rows × 42 columns</p>\n",
       "</div>"
      ],
      "text/plain": [
       "          StoreName     City  Pincode  StorePhoneNumber OnboardingTimestamp  \\\n",
       "0  Mangal Jewellers  Solapur   413216        9822959713   5/9/2022 17:41:48   \n",
       "\n",
       "  TaskSubmissionTimestamp MerchantExternalId  \\\n",
       "0     11/10/2022 18:33:47   BCR2DN4T2C5JLEID   \n",
       "\n",
       "                               CompletedSubTaskTypes  AdditionalQRs  \\\n",
       "0  PROVISION_VPA, CAPTURE_ADDITIONAL_PICTURES, TA...            NaN   \n",
       "\n",
       "   PreProvisionedQRCount  ...  IF R is Blank then RWM App Code  latest city_2  \\\n",
       "0                    3.0  ...                            20378        Solapur   \n",
       "\n",
       "  Team View City Task Count Is in Google Daily OB File?  \\\n",
       "0        Solapur        3.0                          No   \n",
       "\n",
       "  Is Previous Revisit same month? Previous Revisit Date            Remarks  \\\n",
       "0                             Yes             6/27/2022  Duplicate Revisit   \n",
       "\n",
       "   Off City? Remove the Name with nan  \n",
       "0         No                      NaN  \n",
       "\n",
       "[1 rows x 42 columns]"
      ]
     },
     "execution_count": 466,
     "metadata": {},
     "output_type": "execute_result"
    }
   ],
   "source": [
    "Google_Revisit_f_15.head(1)"
   ]
  },
  {
   "cell_type": "code",
   "execution_count": 467,
   "id": "fa70e34f",
   "metadata": {},
   "outputs": [
    {
     "data": {
      "text/plain": [
       "(5307, 42)"
      ]
     },
     "execution_count": 467,
     "metadata": {},
     "output_type": "execute_result"
    }
   ],
   "source": [
    "Google_Revisit_f_15.shape"
   ]
  },
  {
   "cell_type": "code",
   "execution_count": 468,
   "id": "dbfb4c93",
   "metadata": {},
   "outputs": [
    {
     "data": {
      "text/html": [
       "<div>\n",
       "<style scoped>\n",
       "    .dataframe tbody tr th:only-of-type {\n",
       "        vertical-align: middle;\n",
       "    }\n",
       "\n",
       "    .dataframe tbody tr th {\n",
       "        vertical-align: top;\n",
       "    }\n",
       "\n",
       "    .dataframe thead th {\n",
       "        text-align: right;\n",
       "    }\n",
       "</style>\n",
       "<table border=\"1\" class=\"dataframe\">\n",
       "  <thead>\n",
       "    <tr style=\"text-align: right;\">\n",
       "      <th></th>\n",
       "      <th>MerchantExternalId</th>\n",
       "      <th>StorePhoneNumber</th>\n",
       "      <th>Is in Source File?</th>\n",
       "    </tr>\n",
       "  </thead>\n",
       "  <tbody>\n",
       "    <tr>\n",
       "      <th>0</th>\n",
       "      <td>BCR2DN4T2C5JLEID</td>\n",
       "      <td>9822959713</td>\n",
       "      <td>Match</td>\n",
       "    </tr>\n",
       "  </tbody>\n",
       "</table>\n",
       "</div>"
      ],
      "text/plain": [
       "  MerchantExternalId  StorePhoneNumber Is in Source File?\n",
       "0   BCR2DN4T2C5JLEID        9822959713              Match"
      ]
     },
     "execution_count": 468,
     "metadata": {},
     "output_type": "execute_result"
    }
   ],
   "source": [
    "Google_Revisit_f_15_f = Google_Revisit_f_15[['MerchantExternalId', 'StorePhoneNumber', 'Is in Source File?']]\n",
    "Google_Revisit_f_15_f.head(1)"
   ]
  },
  {
   "cell_type": "code",
   "execution_count": 469,
   "id": "e77131ee",
   "metadata": {},
   "outputs": [],
   "source": [
    "Google_Revisit_f_15_f = Google_Revisit_f_15_f[Google_Revisit_f_15_f[\"Is in Source File?\"].isin(['No Match'])]"
   ]
  },
  {
   "cell_type": "markdown",
   "id": "fe26027c",
   "metadata": {},
   "source": [
    "## Matching Mobile number with the old database"
   ]
  },
  {
   "cell_type": "code",
   "execution_count": 470,
   "id": "07cc8c5a",
   "metadata": {},
   "outputs": [],
   "source": [
    "Google_Revisit_f_15_mn = Google_Revisit_f_15_f"
   ]
  },
  {
   "cell_type": "code",
   "execution_count": 471,
   "id": "e741591d",
   "metadata": {},
   "outputs": [],
   "source": [
    "Source_data_Q1_2022_ing_mn = Source_data_Q1_2022_ingestion_f.rename(\n",
    "    columns= {\"Merchant Ext.ID\":\"MerchantExternalId\"})"
   ]
  },
  {
   "cell_type": "code",
   "execution_count": 472,
   "id": "0226302d",
   "metadata": {},
   "outputs": [],
   "source": [
    "Google_Revisit_f_15_f_m1 = Google_Revisit_f_15_f.merge(\n",
    "    Source_data_Q1_2022_ing_mn, how = 'left', on = 'MerchantExternalId', indicator=True)"
   ]
  },
  {
   "cell_type": "code",
   "execution_count": 473,
   "id": "6cdf681f",
   "metadata": {
    "scrolled": true
   },
   "outputs": [
    {
     "data": {
      "text/plain": [
       "(197, 5)"
      ]
     },
     "execution_count": 473,
     "metadata": {},
     "output_type": "execute_result"
    }
   ],
   "source": [
    "Google_Revisit_f_15_f_m1.shape"
   ]
  },
  {
   "cell_type": "code",
   "execution_count": 474,
   "id": "f5204688",
   "metadata": {},
   "outputs": [],
   "source": [
    "Google_Revisit_f_15_f_m1.drop_duplicates(subset=['MerchantExternalId'], inplace=True)"
   ]
  },
  {
   "cell_type": "code",
   "execution_count": 475,
   "id": "0926e92b",
   "metadata": {},
   "outputs": [
    {
     "data": {
      "text/html": [
       "<div>\n",
       "<style scoped>\n",
       "    .dataframe tbody tr th:only-of-type {\n",
       "        vertical-align: middle;\n",
       "    }\n",
       "\n",
       "    .dataframe tbody tr th {\n",
       "        vertical-align: top;\n",
       "    }\n",
       "\n",
       "    .dataframe thead th {\n",
       "        text-align: right;\n",
       "    }\n",
       "</style>\n",
       "<table border=\"1\" class=\"dataframe\">\n",
       "  <thead>\n",
       "    <tr style=\"text-align: right;\">\n",
       "      <th></th>\n",
       "      <th>MerchantExternalId</th>\n",
       "      <th>StorePhoneNumber</th>\n",
       "      <th>Is in Source File?</th>\n",
       "      <th>Phone Number</th>\n",
       "      <th>_merge</th>\n",
       "    </tr>\n",
       "  </thead>\n",
       "  <tbody>\n",
       "    <tr>\n",
       "      <th>0</th>\n",
       "      <td>BCR2DN4T2S7INJQJ</td>\n",
       "      <td>8121577228</td>\n",
       "      <td>No Match</td>\n",
       "      <td>NaN</td>\n",
       "      <td>left_only</td>\n",
       "    </tr>\n",
       "  </tbody>\n",
       "</table>\n",
       "</div>"
      ],
      "text/plain": [
       "  MerchantExternalId  StorePhoneNumber Is in Source File?  Phone Number  \\\n",
       "0   BCR2DN4T2S7INJQJ        8121577228           No Match           NaN   \n",
       "\n",
       "      _merge  \n",
       "0  left_only  "
      ]
     },
     "execution_count": 475,
     "metadata": {},
     "output_type": "execute_result"
    }
   ],
   "source": [
    "Google_Revisit_f_15_f_m1.head(1)"
   ]
  },
  {
   "cell_type": "code",
   "execution_count": 476,
   "id": "00d79efa",
   "metadata": {},
   "outputs": [],
   "source": [
    "Google_Revisit_f_15_f_m1.rename(columns={'_merge':\"Is the MID in OLD Source?\"}, inplace=True)"
   ]
  },
  {
   "cell_type": "markdown",
   "id": "637a3f53",
   "metadata": {},
   "source": [
    "## Matching MID with the old database "
   ]
  },
  {
   "cell_type": "code",
   "execution_count": 477,
   "id": "b85241ae",
   "metadata": {},
   "outputs": [],
   "source": [
    "Source_data_Q1_2022_ing_mid = Source_data_Q1_2022_ingestion_f.rename(\n",
    "    columns = { \"Phone Number\":\"StorePhoneNumber\"})"
   ]
  },
  {
   "cell_type": "code",
   "execution_count": 478,
   "id": "4c99b522",
   "metadata": {},
   "outputs": [],
   "source": [
    "Source_data_Q1_2022_ing_mid_f = Source_data_Q1_2022_ing_mid[[\"StorePhoneNumber\"]]"
   ]
  },
  {
   "cell_type": "code",
   "execution_count": 479,
   "id": "c2b720c4",
   "metadata": {},
   "outputs": [],
   "source": [
    "Google_Revisit_f_15_f_m2 = Google_Revisit_f_15_f_m1.merge(\n",
    "    Source_data_Q1_2022_ing_mid_f, how = 'left', on='StorePhoneNumber', indicator=True)"
   ]
  },
  {
   "cell_type": "code",
   "execution_count": 480,
   "id": "7b6f1270",
   "metadata": {},
   "outputs": [
    {
     "data": {
      "text/plain": [
       "(197, 6)"
      ]
     },
     "execution_count": 480,
     "metadata": {},
     "output_type": "execute_result"
    }
   ],
   "source": [
    "Google_Revisit_f_15_f_m2.shape"
   ]
  },
  {
   "cell_type": "code",
   "execution_count": 481,
   "id": "723567e5",
   "metadata": {},
   "outputs": [],
   "source": [
    "Google_Revisit_f_15_f_m2.rename(columns={\"_merge\":'Is the MN in OLD Source?'}, inplace=True)"
   ]
  },
  {
   "cell_type": "code",
   "execution_count": 482,
   "id": "4e58f9db",
   "metadata": {},
   "outputs": [
    {
     "data": {
      "text/html": [
       "<div>\n",
       "<style scoped>\n",
       "    .dataframe tbody tr th:only-of-type {\n",
       "        vertical-align: middle;\n",
       "    }\n",
       "\n",
       "    .dataframe tbody tr th {\n",
       "        vertical-align: top;\n",
       "    }\n",
       "\n",
       "    .dataframe thead th {\n",
       "        text-align: right;\n",
       "    }\n",
       "</style>\n",
       "<table border=\"1\" class=\"dataframe\">\n",
       "  <thead>\n",
       "    <tr style=\"text-align: right;\">\n",
       "      <th></th>\n",
       "      <th>MerchantExternalId</th>\n",
       "      <th>StorePhoneNumber</th>\n",
       "      <th>Is in Source File?</th>\n",
       "      <th>Phone Number</th>\n",
       "      <th>Is the MID in OLD Source?</th>\n",
       "      <th>Is the MN in OLD Source?</th>\n",
       "    </tr>\n",
       "  </thead>\n",
       "  <tbody>\n",
       "    <tr>\n",
       "      <th>0</th>\n",
       "      <td>BCR2DN4T2S7INJQJ</td>\n",
       "      <td>8121577228</td>\n",
       "      <td>No Match</td>\n",
       "      <td>NaN</td>\n",
       "      <td>left_only</td>\n",
       "      <td>left_only</td>\n",
       "    </tr>\n",
       "  </tbody>\n",
       "</table>\n",
       "</div>"
      ],
      "text/plain": [
       "  MerchantExternalId  StorePhoneNumber Is in Source File?  Phone Number  \\\n",
       "0   BCR2DN4T2S7INJQJ        8121577228           No Match           NaN   \n",
       "\n",
       "  Is the MID in OLD Source? Is the MN in OLD Source?  \n",
       "0                 left_only                left_only  "
      ]
     },
     "execution_count": 482,
     "metadata": {},
     "output_type": "execute_result"
    }
   ],
   "source": [
    "Google_Revisit_f_15_f_m2.head(1)"
   ]
  },
  {
   "cell_type": "code",
   "execution_count": 483,
   "id": "66603ce2",
   "metadata": {},
   "outputs": [],
   "source": [
    "Google_Revisit_f_15_f_m2['Is the MID in OLD Source?'] = Google_Revisit_f_15_f_m2[\n",
    "    'Is the MID in OLD Source?'].map({'left_only':'No', 'right_only':'No', 'both':'Yes'})\n",
    "Google_Revisit_f_15_f_m2['Is the MN in OLD Source?'] = Google_Revisit_f_15_f_m2[\n",
    "    'Is the MN in OLD Source?'].map({'left_only':'No', 'right_only':'No', 'both':'Yes'})"
   ]
  },
  {
   "cell_type": "code",
   "execution_count": 484,
   "id": "2e57f56f",
   "metadata": {},
   "outputs": [],
   "source": [
    "Google_Revisit_f_15_f_m2['Is the MID in OLD Source?'].replace(\"No\", np.nan, inplace=True)"
   ]
  },
  {
   "cell_type": "code",
   "execution_count": 485,
   "id": "d0eb7030",
   "metadata": {},
   "outputs": [],
   "source": [
    "Google_Revisit_f_15_f_m2['Is the MID in OLD Source?'].fillna(Google_Revisit_f_15_f_m2[\n",
    "    'Is the MN in OLD Source?'], inplace=True)"
   ]
  },
  {
   "cell_type": "code",
   "execution_count": 486,
   "id": "71923b39",
   "metadata": {},
   "outputs": [],
   "source": [
    "Google_Revisit_f_15_f_m2.rename(columns={'Is the MID in OLD Source?':\"Is in Old Source?\"}, inplace=True)"
   ]
  },
  {
   "cell_type": "code",
   "execution_count": 487,
   "id": "5babc9ed",
   "metadata": {
    "scrolled": true
   },
   "outputs": [],
   "source": [
    "Google_Revisit_f_15_f_f = Google_Revisit_f_15_f_m2[['MerchantExternalId', 'Is in Old Source?']]"
   ]
  },
  {
   "cell_type": "code",
   "execution_count": 488,
   "id": "840ad4d4",
   "metadata": {},
   "outputs": [],
   "source": [
    "Google_Revisit_f_15_merge = Google_Revisit_f_15.merge(Google_Revisit_f_15_f_f, on='MerchantExternalId', how='left')"
   ]
  },
  {
   "cell_type": "code",
   "execution_count": 489,
   "id": "3b287c42",
   "metadata": {},
   "outputs": [],
   "source": [
    "Google_Revisit_f_15_merge[\"Is in Old Source?\"].replace(np.nan, \"No\", inplace=True)"
   ]
  },
  {
   "cell_type": "code",
   "execution_count": 490,
   "id": "749d201b",
   "metadata": {},
   "outputs": [],
   "source": [
    "Google_Revisit_f_16 = Google_Revisit_f_15_merge"
   ]
  },
  {
   "cell_type": "markdown",
   "id": "5b23d102",
   "metadata": {},
   "source": [
    "# OLD Valid"
   ]
  },
  {
   "cell_type": "markdown",
   "id": "0184b005",
   "metadata": {},
   "source": [
    "### Filter out the MID, InvalidReasons, segments and Is in Old Source?\n",
    "#### If (Is in Old Source?) = Yes, Then check the Invalidreasons = np.nan / Invalid_NotOnTargetlist, After which fill the segment column with active old"
   ]
  },
  {
   "cell_type": "code",
   "execution_count": 491,
   "id": "a2639036",
   "metadata": {
    "scrolled": false
   },
   "outputs": [
    {
     "data": {
      "text/html": [
       "<div>\n",
       "<style scoped>\n",
       "    .dataframe tbody tr th:only-of-type {\n",
       "        vertical-align: middle;\n",
       "    }\n",
       "\n",
       "    .dataframe tbody tr th {\n",
       "        vertical-align: top;\n",
       "    }\n",
       "\n",
       "    .dataframe thead th {\n",
       "        text-align: right;\n",
       "    }\n",
       "</style>\n",
       "<table border=\"1\" class=\"dataframe\">\n",
       "  <thead>\n",
       "    <tr style=\"text-align: right;\">\n",
       "      <th></th>\n",
       "      <th>StoreName</th>\n",
       "      <th>City</th>\n",
       "      <th>Pincode</th>\n",
       "      <th>StorePhoneNumber</th>\n",
       "      <th>OnboardingTimestamp</th>\n",
       "      <th>TaskSubmissionTimestamp</th>\n",
       "      <th>MerchantExternalId</th>\n",
       "      <th>CompletedSubTaskTypes</th>\n",
       "      <th>AdditionalQRs</th>\n",
       "      <th>PreProvisionedQRCount</th>\n",
       "      <th>...</th>\n",
       "      <th>latest city_2</th>\n",
       "      <th>Team View City</th>\n",
       "      <th>Task Count</th>\n",
       "      <th>Is in Google Daily OB File?</th>\n",
       "      <th>Is Previous Revisit same month?</th>\n",
       "      <th>Previous Revisit Date</th>\n",
       "      <th>Remarks</th>\n",
       "      <th>Off City?</th>\n",
       "      <th>Remove the Name with nan</th>\n",
       "      <th>Is in Old Source?</th>\n",
       "    </tr>\n",
       "  </thead>\n",
       "  <tbody>\n",
       "    <tr>\n",
       "      <th>0</th>\n",
       "      <td>Mangal Jewellers</td>\n",
       "      <td>Solapur</td>\n",
       "      <td>413216</td>\n",
       "      <td>9822959713</td>\n",
       "      <td>5/9/2022 17:41:48</td>\n",
       "      <td>11/10/2022 18:33:47</td>\n",
       "      <td>BCR2DN4T2C5JLEID</td>\n",
       "      <td>PROVISION_VPA, CAPTURE_ADDITIONAL_PICTURES, TA...</td>\n",
       "      <td>NaN</td>\n",
       "      <td>3.0</td>\n",
       "      <td>...</td>\n",
       "      <td>Solapur</td>\n",
       "      <td>Solapur</td>\n",
       "      <td>3.0</td>\n",
       "      <td>No</td>\n",
       "      <td>Yes</td>\n",
       "      <td>6/27/2022</td>\n",
       "      <td>Duplicate Revisit</td>\n",
       "      <td>No</td>\n",
       "      <td>NaN</td>\n",
       "      <td>No</td>\n",
       "    </tr>\n",
       "  </tbody>\n",
       "</table>\n",
       "<p>1 rows × 43 columns</p>\n",
       "</div>"
      ],
      "text/plain": [
       "          StoreName     City  Pincode  StorePhoneNumber OnboardingTimestamp  \\\n",
       "0  Mangal Jewellers  Solapur   413216        9822959713   5/9/2022 17:41:48   \n",
       "\n",
       "  TaskSubmissionTimestamp MerchantExternalId  \\\n",
       "0     11/10/2022 18:33:47   BCR2DN4T2C5JLEID   \n",
       "\n",
       "                               CompletedSubTaskTypes  AdditionalQRs  \\\n",
       "0  PROVISION_VPA, CAPTURE_ADDITIONAL_PICTURES, TA...            NaN   \n",
       "\n",
       "   PreProvisionedQRCount  ...  latest city_2  Team View City Task Count  \\\n",
       "0                    3.0  ...        Solapur         Solapur        3.0   \n",
       "\n",
       "  Is in Google Daily OB File? Is Previous Revisit same month?  \\\n",
       "0                          No                             Yes   \n",
       "\n",
       "  Previous Revisit Date            Remarks Off City?  \\\n",
       "0             6/27/2022  Duplicate Revisit        No   \n",
       "\n",
       "   Remove the Name with nan Is in Old Source?  \n",
       "0                       NaN                No  \n",
       "\n",
       "[1 rows x 43 columns]"
      ]
     },
     "execution_count": 491,
     "metadata": {},
     "output_type": "execute_result"
    }
   ],
   "source": [
    "Google_Revisit_f_16.head(1)"
   ]
  },
  {
   "cell_type": "code",
   "execution_count": 492,
   "id": "7880e4ec",
   "metadata": {},
   "outputs": [],
   "source": [
    "Google_Revisit_f_16_f = Google_Revisit_f_16[[\n",
    "    'MerchantExternalId', 'InvalidReasons',  'Is in Old Source?', 'Segments']]"
   ]
  },
  {
   "cell_type": "code",
   "execution_count": 493,
   "id": "fa358fe0",
   "metadata": {
    "scrolled": true
   },
   "outputs": [
    {
     "data": {
      "text/html": [
       "<div>\n",
       "<style scoped>\n",
       "    .dataframe tbody tr th:only-of-type {\n",
       "        vertical-align: middle;\n",
       "    }\n",
       "\n",
       "    .dataframe tbody tr th {\n",
       "        vertical-align: top;\n",
       "    }\n",
       "\n",
       "    .dataframe thead th {\n",
       "        text-align: right;\n",
       "    }\n",
       "</style>\n",
       "<table border=\"1\" class=\"dataframe\">\n",
       "  <thead>\n",
       "    <tr style=\"text-align: right;\">\n",
       "      <th></th>\n",
       "      <th>MerchantExternalId</th>\n",
       "      <th>InvalidReasons</th>\n",
       "      <th>Is in Old Source?</th>\n",
       "      <th>Segments</th>\n",
       "    </tr>\n",
       "  </thead>\n",
       "  <tbody>\n",
       "    <tr>\n",
       "      <th>0</th>\n",
       "      <td>BCR2DN4T2C5JLEID</td>\n",
       "      <td>NaN</td>\n",
       "      <td>No</td>\n",
       "      <td>inactive - inr 40 extra pay on txn</td>\n",
       "    </tr>\n",
       "  </tbody>\n",
       "</table>\n",
       "</div>"
      ],
      "text/plain": [
       "  MerchantExternalId InvalidReasons Is in Old Source?  \\\n",
       "0   BCR2DN4T2C5JLEID            NaN                No   \n",
       "\n",
       "                             Segments  \n",
       "0  inactive - inr 40 extra pay on txn  "
      ]
     },
     "execution_count": 493,
     "metadata": {},
     "output_type": "execute_result"
    }
   ],
   "source": [
    "Google_Revisit_f_16_f.head(1)"
   ]
  },
  {
   "cell_type": "code",
   "execution_count": 494,
   "id": "e82793be",
   "metadata": {},
   "outputs": [],
   "source": [
    "Filt_Yes = Google_Revisit_f_16_f['Is in Old Source?'] == 'Yes'"
   ]
  },
  {
   "cell_type": "code",
   "execution_count": 495,
   "id": "c4987507",
   "metadata": {},
   "outputs": [],
   "source": [
    "Google_Revisit_f_16_f2 = Google_Revisit_f_16_f[Filt_Yes]"
   ]
  },
  {
   "cell_type": "code",
   "execution_count": 496,
   "id": "90f5c213",
   "metadata": {},
   "outputs": [
    {
     "data": {
      "text/plain": [
       "(0, 4)"
      ]
     },
     "execution_count": 496,
     "metadata": {},
     "output_type": "execute_result"
    }
   ],
   "source": [
    "Google_Revisit_f_16_f2.shape"
   ]
  },
  {
   "cell_type": "code",
   "execution_count": 497,
   "id": "30646aa2",
   "metadata": {},
   "outputs": [
    {
     "data": {
      "text/html": [
       "<div>\n",
       "<style scoped>\n",
       "    .dataframe tbody tr th:only-of-type {\n",
       "        vertical-align: middle;\n",
       "    }\n",
       "\n",
       "    .dataframe tbody tr th {\n",
       "        vertical-align: top;\n",
       "    }\n",
       "\n",
       "    .dataframe thead th {\n",
       "        text-align: right;\n",
       "    }\n",
       "</style>\n",
       "<table border=\"1\" class=\"dataframe\">\n",
       "  <thead>\n",
       "    <tr style=\"text-align: right;\">\n",
       "      <th></th>\n",
       "      <th>MerchantExternalId</th>\n",
       "      <th>InvalidReasons</th>\n",
       "      <th>Is in Old Source?</th>\n",
       "      <th>Segments</th>\n",
       "    </tr>\n",
       "  </thead>\n",
       "  <tbody>\n",
       "  </tbody>\n",
       "</table>\n",
       "</div>"
      ],
      "text/plain": [
       "Empty DataFrame\n",
       "Columns: [MerchantExternalId, InvalidReasons, Is in Old Source?, Segments]\n",
       "Index: []"
      ]
     },
     "execution_count": 497,
     "metadata": {},
     "output_type": "execute_result"
    }
   ],
   "source": [
    "Google_Revisit_f_16_f2.head(1)"
   ]
  },
  {
   "cell_type": "code",
   "execution_count": 498,
   "id": "0d4a92fc",
   "metadata": {},
   "outputs": [],
   "source": [
    "Google_Revisit_f_16_f2['Invalid_NotOnTargetlist'] = Google_Revisit_f_16_f2[\n",
    "    'InvalidReasons'].isin(['Invalid_NotOnTargetlist'])"
   ]
  },
  {
   "cell_type": "code",
   "execution_count": 499,
   "id": "3b57e808",
   "metadata": {
    "scrolled": true
   },
   "outputs": [
    {
     "data": {
      "text/html": [
       "<div>\n",
       "<style scoped>\n",
       "    .dataframe tbody tr th:only-of-type {\n",
       "        vertical-align: middle;\n",
       "    }\n",
       "\n",
       "    .dataframe tbody tr th {\n",
       "        vertical-align: top;\n",
       "    }\n",
       "\n",
       "    .dataframe thead th {\n",
       "        text-align: right;\n",
       "    }\n",
       "</style>\n",
       "<table border=\"1\" class=\"dataframe\">\n",
       "  <thead>\n",
       "    <tr style=\"text-align: right;\">\n",
       "      <th></th>\n",
       "      <th>MerchantExternalId</th>\n",
       "      <th>InvalidReasons</th>\n",
       "      <th>Is in Old Source?</th>\n",
       "      <th>Segments</th>\n",
       "      <th>Invalid_NotOnTargetlist</th>\n",
       "    </tr>\n",
       "  </thead>\n",
       "  <tbody>\n",
       "  </tbody>\n",
       "</table>\n",
       "</div>"
      ],
      "text/plain": [
       "Empty DataFrame\n",
       "Columns: [MerchantExternalId, InvalidReasons, Is in Old Source?, Segments, Invalid_NotOnTargetlist]\n",
       "Index: []"
      ]
     },
     "execution_count": 499,
     "metadata": {},
     "output_type": "execute_result"
    }
   ],
   "source": [
    "Google_Revisit_f_16_f2.head(1)"
   ]
  },
  {
   "cell_type": "code",
   "execution_count": 500,
   "id": "f8908283",
   "metadata": {},
   "outputs": [
    {
     "data": {
      "text/plain": [
       "(0, 5)"
      ]
     },
     "execution_count": 500,
     "metadata": {},
     "output_type": "execute_result"
    }
   ],
   "source": [
    "Google_Revisit_f_16_f2.shape"
   ]
  },
  {
   "cell_type": "markdown",
   "id": "ca59ea05",
   "metadata": {},
   "source": [
    "### Is the InvalidReasons is blank "
   ]
  },
  {
   "cell_type": "code",
   "execution_count": 501,
   "id": "b5498198",
   "metadata": {},
   "outputs": [],
   "source": [
    "Google_Revisit_f_16_f2['Is the InvalidReasons is blank'] = False"
   ]
  },
  {
   "cell_type": "code",
   "execution_count": null,
   "id": "6025c642",
   "metadata": {},
   "outputs": [],
   "source": []
  },
  {
   "cell_type": "code",
   "execution_count": 502,
   "id": "c1140747",
   "metadata": {},
   "outputs": [],
   "source": [
    "Google_Revisit_f_16_f2['Invalid_NotOnTargetlist'].fillna(Google_Revisit_f_16_f2[\n",
    "    'Is the InvalidReasons is blank'], inplace = True)"
   ]
  },
  {
   "cell_type": "code",
   "execution_count": 503,
   "id": "cb6adafa",
   "metadata": {},
   "outputs": [
    {
     "data": {
      "text/html": [
       "<div>\n",
       "<style scoped>\n",
       "    .dataframe tbody tr th:only-of-type {\n",
       "        vertical-align: middle;\n",
       "    }\n",
       "\n",
       "    .dataframe tbody tr th {\n",
       "        vertical-align: top;\n",
       "    }\n",
       "\n",
       "    .dataframe thead th {\n",
       "        text-align: right;\n",
       "    }\n",
       "</style>\n",
       "<table border=\"1\" class=\"dataframe\">\n",
       "  <thead>\n",
       "    <tr style=\"text-align: right;\">\n",
       "      <th></th>\n",
       "      <th>MerchantExternalId</th>\n",
       "      <th>InvalidReasons</th>\n",
       "      <th>Is in Old Source?</th>\n",
       "      <th>Segments</th>\n",
       "      <th>Invalid_NotOnTargetlist</th>\n",
       "      <th>Is the InvalidReasons is blank</th>\n",
       "    </tr>\n",
       "  </thead>\n",
       "  <tbody>\n",
       "  </tbody>\n",
       "</table>\n",
       "</div>"
      ],
      "text/plain": [
       "Empty DataFrame\n",
       "Columns: [MerchantExternalId, InvalidReasons, Is in Old Source?, Segments, Invalid_NotOnTargetlist, Is the InvalidReasons is blank]\n",
       "Index: []"
      ]
     },
     "execution_count": 503,
     "metadata": {},
     "output_type": "execute_result"
    }
   ],
   "source": [
    "Google_Revisit_f_16_f2"
   ]
  },
  {
   "cell_type": "code",
   "execution_count": 504,
   "id": "6c9c47d5",
   "metadata": {},
   "outputs": [],
   "source": [
    "Google_Revisit_f_16_f2['Invalid_NotOnTargetlist'] = Google_Revisit_f_16_f2[\n",
    "    'Invalid_NotOnTargetlist'].map({True:\"active old\", False: np.nan})"
   ]
  },
  {
   "cell_type": "code",
   "execution_count": 505,
   "id": "55052d23",
   "metadata": {},
   "outputs": [
    {
     "data": {
      "text/html": [
       "<div>\n",
       "<style scoped>\n",
       "    .dataframe tbody tr th:only-of-type {\n",
       "        vertical-align: middle;\n",
       "    }\n",
       "\n",
       "    .dataframe tbody tr th {\n",
       "        vertical-align: top;\n",
       "    }\n",
       "\n",
       "    .dataframe thead th {\n",
       "        text-align: right;\n",
       "    }\n",
       "</style>\n",
       "<table border=\"1\" class=\"dataframe\">\n",
       "  <thead>\n",
       "    <tr style=\"text-align: right;\">\n",
       "      <th></th>\n",
       "      <th>MerchantExternalId</th>\n",
       "      <th>InvalidReasons</th>\n",
       "      <th>Is in Old Source?</th>\n",
       "      <th>Segments</th>\n",
       "      <th>Invalid_NotOnTargetlist</th>\n",
       "      <th>Is the InvalidReasons is blank</th>\n",
       "    </tr>\n",
       "  </thead>\n",
       "  <tbody>\n",
       "  </tbody>\n",
       "</table>\n",
       "</div>"
      ],
      "text/plain": [
       "Empty DataFrame\n",
       "Columns: [MerchantExternalId, InvalidReasons, Is in Old Source?, Segments, Invalid_NotOnTargetlist, Is the InvalidReasons is blank]\n",
       "Index: []"
      ]
     },
     "execution_count": 505,
     "metadata": {},
     "output_type": "execute_result"
    }
   ],
   "source": [
    "Google_Revisit_f_16_f2.head(1)"
   ]
  },
  {
   "cell_type": "code",
   "execution_count": 506,
   "id": "f6ee3dac",
   "metadata": {},
   "outputs": [],
   "source": [
    "Google_Revisit_f_16_f3 = Google_Revisit_f_16_f2[[\n",
    "    'MerchantExternalId', 'Invalid_NotOnTargetlist']].rename(columns={'Invalid_NotOnTargetlist': 'Active_Old'})"
   ]
  },
  {
   "cell_type": "code",
   "execution_count": 507,
   "id": "dc5918a8",
   "metadata": {},
   "outputs": [],
   "source": [
    "Google_Revisit_f_16_f3_1 = Google_Revisit_f_16_f3[['Active_Old']].rename(columns= {'Active_Old': 'OLD Valid'})"
   ]
  },
  {
   "cell_type": "code",
   "execution_count": 508,
   "id": "ccc63179",
   "metadata": {},
   "outputs": [],
   "source": [
    "Google_Revisit_f_16_f3_concat = pd.concat([\n",
    "    Google_Revisit_f_16_f3, Google_Revisit_f_16_f3_1], axis = 1, join = 'inner')"
   ]
  },
  {
   "cell_type": "code",
   "execution_count": 509,
   "id": "908d24ba",
   "metadata": {},
   "outputs": [],
   "source": [
    "Google_Revisit_f_16_f3_concat['OLD Valid'] = Google_Revisit_f_16_f3_concat[\n",
    "    'OLD Valid'].map({'active old':'VALID'})"
   ]
  },
  {
   "cell_type": "code",
   "execution_count": 510,
   "id": "10d94786",
   "metadata": {},
   "outputs": [
    {
     "data": {
      "text/html": [
       "<div>\n",
       "<style scoped>\n",
       "    .dataframe tbody tr th:only-of-type {\n",
       "        vertical-align: middle;\n",
       "    }\n",
       "\n",
       "    .dataframe tbody tr th {\n",
       "        vertical-align: top;\n",
       "    }\n",
       "\n",
       "    .dataframe thead th {\n",
       "        text-align: right;\n",
       "    }\n",
       "</style>\n",
       "<table border=\"1\" class=\"dataframe\">\n",
       "  <thead>\n",
       "    <tr style=\"text-align: right;\">\n",
       "      <th></th>\n",
       "      <th>MerchantExternalId</th>\n",
       "      <th>Active_Old</th>\n",
       "      <th>OLD Valid</th>\n",
       "    </tr>\n",
       "  </thead>\n",
       "  <tbody>\n",
       "  </tbody>\n",
       "</table>\n",
       "</div>"
      ],
      "text/plain": [
       "Empty DataFrame\n",
       "Columns: [MerchantExternalId, Active_Old, OLD Valid]\n",
       "Index: []"
      ]
     },
     "execution_count": 510,
     "metadata": {},
     "output_type": "execute_result"
    }
   ],
   "source": [
    "Google_Revisit_f_16_f3_concat.head(1)"
   ]
  },
  {
   "cell_type": "code",
   "execution_count": 511,
   "id": "94079c96",
   "metadata": {
    "scrolled": true
   },
   "outputs": [
    {
     "data": {
      "text/plain": [
       "(0, 3)"
      ]
     },
     "execution_count": 511,
     "metadata": {},
     "output_type": "execute_result"
    }
   ],
   "source": [
    "Google_Revisit_f_16_f3_concat.shape"
   ]
  },
  {
   "cell_type": "markdown",
   "id": "06c5fec5",
   "metadata": {},
   "source": [
    "#### Filter from the main dataframe following data for merging (MID and Segments)"
   ]
  },
  {
   "cell_type": "code",
   "execution_count": 512,
   "id": "261dd736",
   "metadata": {
    "scrolled": false
   },
   "outputs": [
    {
     "data": {
      "text/html": [
       "<div>\n",
       "<style scoped>\n",
       "    .dataframe tbody tr th:only-of-type {\n",
       "        vertical-align: middle;\n",
       "    }\n",
       "\n",
       "    .dataframe tbody tr th {\n",
       "        vertical-align: top;\n",
       "    }\n",
       "\n",
       "    .dataframe thead th {\n",
       "        text-align: right;\n",
       "    }\n",
       "</style>\n",
       "<table border=\"1\" class=\"dataframe\">\n",
       "  <thead>\n",
       "    <tr style=\"text-align: right;\">\n",
       "      <th></th>\n",
       "      <th>StoreName</th>\n",
       "      <th>City</th>\n",
       "      <th>Pincode</th>\n",
       "      <th>StorePhoneNumber</th>\n",
       "      <th>OnboardingTimestamp</th>\n",
       "      <th>TaskSubmissionTimestamp</th>\n",
       "      <th>MerchantExternalId</th>\n",
       "      <th>CompletedSubTaskTypes</th>\n",
       "      <th>AdditionalQRs</th>\n",
       "      <th>PreProvisionedQRCount</th>\n",
       "      <th>...</th>\n",
       "      <th>latest city_2</th>\n",
       "      <th>Team View City</th>\n",
       "      <th>Task Count</th>\n",
       "      <th>Is in Google Daily OB File?</th>\n",
       "      <th>Is Previous Revisit same month?</th>\n",
       "      <th>Previous Revisit Date</th>\n",
       "      <th>Remarks</th>\n",
       "      <th>Off City?</th>\n",
       "      <th>Remove the Name with nan</th>\n",
       "      <th>Is in Old Source?</th>\n",
       "    </tr>\n",
       "  </thead>\n",
       "  <tbody>\n",
       "    <tr>\n",
       "      <th>0</th>\n",
       "      <td>Mangal Jewellers</td>\n",
       "      <td>Solapur</td>\n",
       "      <td>413216</td>\n",
       "      <td>9822959713</td>\n",
       "      <td>5/9/2022 17:41:48</td>\n",
       "      <td>11/10/2022 18:33:47</td>\n",
       "      <td>BCR2DN4T2C5JLEID</td>\n",
       "      <td>PROVISION_VPA, CAPTURE_ADDITIONAL_PICTURES, TA...</td>\n",
       "      <td>NaN</td>\n",
       "      <td>3.0</td>\n",
       "      <td>...</td>\n",
       "      <td>Solapur</td>\n",
       "      <td>Solapur</td>\n",
       "      <td>3.0</td>\n",
       "      <td>No</td>\n",
       "      <td>Yes</td>\n",
       "      <td>6/27/2022</td>\n",
       "      <td>Duplicate Revisit</td>\n",
       "      <td>No</td>\n",
       "      <td>NaN</td>\n",
       "      <td>No</td>\n",
       "    </tr>\n",
       "  </tbody>\n",
       "</table>\n",
       "<p>1 rows × 43 columns</p>\n",
       "</div>"
      ],
      "text/plain": [
       "          StoreName     City  Pincode  StorePhoneNumber OnboardingTimestamp  \\\n",
       "0  Mangal Jewellers  Solapur   413216        9822959713   5/9/2022 17:41:48   \n",
       "\n",
       "  TaskSubmissionTimestamp MerchantExternalId  \\\n",
       "0     11/10/2022 18:33:47   BCR2DN4T2C5JLEID   \n",
       "\n",
       "                               CompletedSubTaskTypes  AdditionalQRs  \\\n",
       "0  PROVISION_VPA, CAPTURE_ADDITIONAL_PICTURES, TA...            NaN   \n",
       "\n",
       "   PreProvisionedQRCount  ...  latest city_2  Team View City Task Count  \\\n",
       "0                    3.0  ...        Solapur         Solapur        3.0   \n",
       "\n",
       "  Is in Google Daily OB File? Is Previous Revisit same month?  \\\n",
       "0                          No                             Yes   \n",
       "\n",
       "  Previous Revisit Date            Remarks Off City?  \\\n",
       "0             6/27/2022  Duplicate Revisit        No   \n",
       "\n",
       "   Remove the Name with nan Is in Old Source?  \n",
       "0                       NaN                No  \n",
       "\n",
       "[1 rows x 43 columns]"
      ]
     },
     "execution_count": 512,
     "metadata": {},
     "output_type": "execute_result"
    }
   ],
   "source": [
    "Google_Revisit_f_16.head(1)"
   ]
  },
  {
   "cell_type": "code",
   "execution_count": 513,
   "id": "a8b7d84e",
   "metadata": {},
   "outputs": [],
   "source": [
    "Google_Revisit_f_16.rename(columns={\"Segments\":'segments'}, inplace=True)"
   ]
  },
  {
   "cell_type": "code",
   "execution_count": 514,
   "id": "47ab1c26",
   "metadata": {},
   "outputs": [],
   "source": [
    "Google_Revisit_f_16_3 = Google_Revisit_f_16[['MerchantExternalId', 'segments']]"
   ]
  },
  {
   "cell_type": "code",
   "execution_count": 515,
   "id": "13dbd1c9",
   "metadata": {},
   "outputs": [],
   "source": [
    "Google_Revisit_f_16_3_merge = Google_Revisit_f_16_3.merge(\n",
    "    Google_Revisit_f_16_f3_concat, how='left', on='MerchantExternalId')"
   ]
  },
  {
   "cell_type": "code",
   "execution_count": 516,
   "id": "0f94f1a3",
   "metadata": {},
   "outputs": [
    {
     "data": {
      "text/html": [
       "<div>\n",
       "<style scoped>\n",
       "    .dataframe tbody tr th:only-of-type {\n",
       "        vertical-align: middle;\n",
       "    }\n",
       "\n",
       "    .dataframe tbody tr th {\n",
       "        vertical-align: top;\n",
       "    }\n",
       "\n",
       "    .dataframe thead th {\n",
       "        text-align: right;\n",
       "    }\n",
       "</style>\n",
       "<table border=\"1\" class=\"dataframe\">\n",
       "  <thead>\n",
       "    <tr style=\"text-align: right;\">\n",
       "      <th></th>\n",
       "      <th>MerchantExternalId</th>\n",
       "      <th>segments</th>\n",
       "      <th>Active_Old</th>\n",
       "      <th>OLD Valid</th>\n",
       "    </tr>\n",
       "  </thead>\n",
       "  <tbody>\n",
       "    <tr>\n",
       "      <th>0</th>\n",
       "      <td>BCR2DN4T2C5JLEID</td>\n",
       "      <td>inactive - inr 40 extra pay on txn</td>\n",
       "      <td>NaN</td>\n",
       "      <td>NaN</td>\n",
       "    </tr>\n",
       "    <tr>\n",
       "      <th>1</th>\n",
       "      <td>BCR2DN4T2C5MHWQN</td>\n",
       "      <td>inactive</td>\n",
       "      <td>NaN</td>\n",
       "      <td>NaN</td>\n",
       "    </tr>\n",
       "    <tr>\n",
       "      <th>2</th>\n",
       "      <td>BCR2DN4T2C7LJ3J7</td>\n",
       "      <td>inactive - inr 40 extra pay on txn</td>\n",
       "      <td>NaN</td>\n",
       "      <td>NaN</td>\n",
       "    </tr>\n",
       "    <tr>\n",
       "      <th>3</th>\n",
       "      <td>BCR2DN4T2CFLNMZH</td>\n",
       "      <td>inactive - inr 40 extra pay on txn</td>\n",
       "      <td>NaN</td>\n",
       "      <td>NaN</td>\n",
       "    </tr>\n",
       "    <tr>\n",
       "      <th>4</th>\n",
       "      <td>BCR2DN4T2CRL35QP</td>\n",
       "      <td>inactive - inr 40 extra pay on txn</td>\n",
       "      <td>NaN</td>\n",
       "      <td>NaN</td>\n",
       "    </tr>\n",
       "  </tbody>\n",
       "</table>\n",
       "</div>"
      ],
      "text/plain": [
       "  MerchantExternalId                            segments Active_Old OLD Valid\n",
       "0   BCR2DN4T2C5JLEID  inactive - inr 40 extra pay on txn        NaN       NaN\n",
       "1   BCR2DN4T2C5MHWQN                            inactive        NaN       NaN\n",
       "2   BCR2DN4T2C7LJ3J7  inactive - inr 40 extra pay on txn        NaN       NaN\n",
       "3   BCR2DN4T2CFLNMZH  inactive - inr 40 extra pay on txn        NaN       NaN\n",
       "4   BCR2DN4T2CRL35QP  inactive - inr 40 extra pay on txn        NaN       NaN"
      ]
     },
     "execution_count": 516,
     "metadata": {},
     "output_type": "execute_result"
    }
   ],
   "source": [
    "Google_Revisit_f_16_3_merge.head()"
   ]
  },
  {
   "cell_type": "code",
   "execution_count": 517,
   "id": "6fcb1e0e",
   "metadata": {},
   "outputs": [],
   "source": [
    "Google_Revisit_f_16_3_merge['segments'].fillna(Google_Revisit_f_16_3_merge[\n",
    "    'Active_Old'], inplace = True)"
   ]
  },
  {
   "cell_type": "code",
   "execution_count": 518,
   "id": "5f00c06f",
   "metadata": {},
   "outputs": [],
   "source": [
    "Google_Revisit_f_16_4 = Google_Revisit_f_16_3_merge[['segments', 'OLD Valid']].rename(\n",
    "    columns={'segments':'segments_2'})"
   ]
  },
  {
   "cell_type": "code",
   "execution_count": 519,
   "id": "21cc2c44",
   "metadata": {},
   "outputs": [
    {
     "data": {
      "text/plain": [
       "(5307, 2)"
      ]
     },
     "execution_count": 519,
     "metadata": {},
     "output_type": "execute_result"
    }
   ],
   "source": [
    "Google_Revisit_f_16_4.shape"
   ]
  },
  {
   "cell_type": "code",
   "execution_count": 520,
   "id": "b56e351c",
   "metadata": {},
   "outputs": [
    {
     "data": {
      "text/html": [
       "<div>\n",
       "<style scoped>\n",
       "    .dataframe tbody tr th:only-of-type {\n",
       "        vertical-align: middle;\n",
       "    }\n",
       "\n",
       "    .dataframe tbody tr th {\n",
       "        vertical-align: top;\n",
       "    }\n",
       "\n",
       "    .dataframe thead th {\n",
       "        text-align: right;\n",
       "    }\n",
       "</style>\n",
       "<table border=\"1\" class=\"dataframe\">\n",
       "  <thead>\n",
       "    <tr style=\"text-align: right;\">\n",
       "      <th></th>\n",
       "      <th>segments_2</th>\n",
       "      <th>OLD Valid</th>\n",
       "    </tr>\n",
       "  </thead>\n",
       "  <tbody>\n",
       "    <tr>\n",
       "      <th>0</th>\n",
       "      <td>inactive - inr 40 extra pay on txn</td>\n",
       "      <td>NaN</td>\n",
       "    </tr>\n",
       "  </tbody>\n",
       "</table>\n",
       "</div>"
      ],
      "text/plain": [
       "                           segments_2 OLD Valid\n",
       "0  inactive - inr 40 extra pay on txn       NaN"
      ]
     },
     "execution_count": 520,
     "metadata": {},
     "output_type": "execute_result"
    }
   ],
   "source": [
    "Google_Revisit_f_16_4.head(1)"
   ]
  },
  {
   "cell_type": "code",
   "execution_count": 521,
   "id": "f2ed4acf",
   "metadata": {},
   "outputs": [],
   "source": [
    "Google_Revisit_f_16_4_concat = pd.concat([Google_Revisit_f_16, Google_Revisit_f_16_4], axis = 1, join = 'inner')"
   ]
  },
  {
   "cell_type": "code",
   "execution_count": 522,
   "id": "5ef0434a",
   "metadata": {},
   "outputs": [
    {
     "data": {
      "text/html": [
       "<div>\n",
       "<style scoped>\n",
       "    .dataframe tbody tr th:only-of-type {\n",
       "        vertical-align: middle;\n",
       "    }\n",
       "\n",
       "    .dataframe tbody tr th {\n",
       "        vertical-align: top;\n",
       "    }\n",
       "\n",
       "    .dataframe thead th {\n",
       "        text-align: right;\n",
       "    }\n",
       "</style>\n",
       "<table border=\"1\" class=\"dataframe\">\n",
       "  <thead>\n",
       "    <tr style=\"text-align: right;\">\n",
       "      <th></th>\n",
       "      <th>StoreName</th>\n",
       "      <th>City</th>\n",
       "      <th>Pincode</th>\n",
       "      <th>StorePhoneNumber</th>\n",
       "      <th>OnboardingTimestamp</th>\n",
       "      <th>TaskSubmissionTimestamp</th>\n",
       "      <th>MerchantExternalId</th>\n",
       "      <th>CompletedSubTaskTypes</th>\n",
       "      <th>AdditionalQRs</th>\n",
       "      <th>PreProvisionedQRCount</th>\n",
       "      <th>...</th>\n",
       "      <th>Task Count</th>\n",
       "      <th>Is in Google Daily OB File?</th>\n",
       "      <th>Is Previous Revisit same month?</th>\n",
       "      <th>Previous Revisit Date</th>\n",
       "      <th>Remarks</th>\n",
       "      <th>Off City?</th>\n",
       "      <th>Remove the Name with nan</th>\n",
       "      <th>Is in Old Source?</th>\n",
       "      <th>segments_2</th>\n",
       "      <th>OLD Valid</th>\n",
       "    </tr>\n",
       "  </thead>\n",
       "  <tbody>\n",
       "    <tr>\n",
       "      <th>0</th>\n",
       "      <td>Mangal Jewellers</td>\n",
       "      <td>Solapur</td>\n",
       "      <td>413216</td>\n",
       "      <td>9822959713</td>\n",
       "      <td>5/9/2022 17:41:48</td>\n",
       "      <td>11/10/2022 18:33:47</td>\n",
       "      <td>BCR2DN4T2C5JLEID</td>\n",
       "      <td>PROVISION_VPA, CAPTURE_ADDITIONAL_PICTURES, TA...</td>\n",
       "      <td>NaN</td>\n",
       "      <td>3.0</td>\n",
       "      <td>...</td>\n",
       "      <td>3.0</td>\n",
       "      <td>No</td>\n",
       "      <td>Yes</td>\n",
       "      <td>6/27/2022</td>\n",
       "      <td>Duplicate Revisit</td>\n",
       "      <td>No</td>\n",
       "      <td>NaN</td>\n",
       "      <td>No</td>\n",
       "      <td>inactive - inr 40 extra pay on txn</td>\n",
       "      <td>NaN</td>\n",
       "    </tr>\n",
       "  </tbody>\n",
       "</table>\n",
       "<p>1 rows × 45 columns</p>\n",
       "</div>"
      ],
      "text/plain": [
       "          StoreName     City  Pincode  StorePhoneNumber OnboardingTimestamp  \\\n",
       "0  Mangal Jewellers  Solapur   413216        9822959713   5/9/2022 17:41:48   \n",
       "\n",
       "  TaskSubmissionTimestamp MerchantExternalId  \\\n",
       "0     11/10/2022 18:33:47   BCR2DN4T2C5JLEID   \n",
       "\n",
       "                               CompletedSubTaskTypes  AdditionalQRs  \\\n",
       "0  PROVISION_VPA, CAPTURE_ADDITIONAL_PICTURES, TA...            NaN   \n",
       "\n",
       "   PreProvisionedQRCount  ...  Task Count  Is in Google Daily OB File?  \\\n",
       "0                    3.0  ...         3.0                           No   \n",
       "\n",
       "  Is Previous Revisit same month? Previous Revisit Date            Remarks  \\\n",
       "0                             Yes             6/27/2022  Duplicate Revisit   \n",
       "\n",
       "  Off City? Remove the Name with nan Is in Old Source?  \\\n",
       "0        No                      NaN                No   \n",
       "\n",
       "                           segments_2 OLD Valid  \n",
       "0  inactive - inr 40 extra pay on txn       NaN  \n",
       "\n",
       "[1 rows x 45 columns]"
      ]
     },
     "execution_count": 522,
     "metadata": {},
     "output_type": "execute_result"
    }
   ],
   "source": [
    "Google_Revisit_f_16_4_concat.head(1)"
   ]
  },
  {
   "cell_type": "code",
   "execution_count": 523,
   "id": "014c6bf9",
   "metadata": {},
   "outputs": [],
   "source": [
    "Google_Revisit_f_16_4_concat['segments'].fillna(Google_Revisit_f_16_4_concat['segments_2'], inplace = True)"
   ]
  },
  {
   "cell_type": "code",
   "execution_count": null,
   "id": "13767870",
   "metadata": {},
   "outputs": [],
   "source": []
  },
  {
   "cell_type": "code",
   "execution_count": 524,
   "id": "82752858",
   "metadata": {},
   "outputs": [],
   "source": [
    "Google_Revisit_f_17 = Google_Revisit_f_16_4_concat"
   ]
  },
  {
   "cell_type": "code",
   "execution_count": 525,
   "id": "eb12fceb",
   "metadata": {},
   "outputs": [],
   "source": [
    "Google_Revisit_f_17['Is in Dynamic Source?_2'] = Google_Revisit_f_17['Is in Dynamic Source?']"
   ]
  },
  {
   "cell_type": "code",
   "execution_count": 526,
   "id": "acb92da2",
   "metadata": {},
   "outputs": [],
   "source": [
    "Google_Revisit_f_17['Is in Dynamic + Consolidated Source?'] = Google_Revisit_f_17['Is in Source File?']"
   ]
  },
  {
   "cell_type": "code",
   "execution_count": 527,
   "id": "d2e52448",
   "metadata": {},
   "outputs": [],
   "source": [
    "Google_Revisit_f_17.rename(\n",
    "    columns={'Is the Dynamic Match Valid?':'Is in Dynamic Source Visit Date Valid?'}, inplace=True)"
   ]
  },
  {
   "cell_type": "code",
   "execution_count": 528,
   "id": "d27b2799",
   "metadata": {},
   "outputs": [],
   "source": [
    "Google_Revisit_f_21 = Google_Revisit_f_17"
   ]
  },
  {
   "cell_type": "code",
   "execution_count": 529,
   "id": "6bead5c6",
   "metadata": {},
   "outputs": [
    {
     "data": {
      "text/html": [
       "<div>\n",
       "<style scoped>\n",
       "    .dataframe tbody tr th:only-of-type {\n",
       "        vertical-align: middle;\n",
       "    }\n",
       "\n",
       "    .dataframe tbody tr th {\n",
       "        vertical-align: top;\n",
       "    }\n",
       "\n",
       "    .dataframe thead th {\n",
       "        text-align: right;\n",
       "    }\n",
       "</style>\n",
       "<table border=\"1\" class=\"dataframe\">\n",
       "  <thead>\n",
       "    <tr style=\"text-align: right;\">\n",
       "      <th></th>\n",
       "      <th>StoreName</th>\n",
       "      <th>City</th>\n",
       "      <th>Pincode</th>\n",
       "      <th>StorePhoneNumber</th>\n",
       "      <th>OnboardingTimestamp</th>\n",
       "      <th>TaskSubmissionTimestamp</th>\n",
       "      <th>MerchantExternalId</th>\n",
       "      <th>CompletedSubTaskTypes</th>\n",
       "      <th>AdditionalQRs</th>\n",
       "      <th>PreProvisionedQRCount</th>\n",
       "      <th>...</th>\n",
       "      <th>Is Previous Revisit same month?</th>\n",
       "      <th>Previous Revisit Date</th>\n",
       "      <th>Remarks</th>\n",
       "      <th>Off City?</th>\n",
       "      <th>Remove the Name with nan</th>\n",
       "      <th>Is in Old Source?</th>\n",
       "      <th>segments_2</th>\n",
       "      <th>OLD Valid</th>\n",
       "      <th>Is in Dynamic Source?_2</th>\n",
       "      <th>Is in Dynamic + Consolidated Source?</th>\n",
       "    </tr>\n",
       "  </thead>\n",
       "  <tbody>\n",
       "    <tr>\n",
       "      <th>0</th>\n",
       "      <td>Mangal Jewellers</td>\n",
       "      <td>Solapur</td>\n",
       "      <td>413216</td>\n",
       "      <td>9822959713</td>\n",
       "      <td>5/9/2022 17:41:48</td>\n",
       "      <td>11/10/2022 18:33:47</td>\n",
       "      <td>BCR2DN4T2C5JLEID</td>\n",
       "      <td>PROVISION_VPA, CAPTURE_ADDITIONAL_PICTURES, TA...</td>\n",
       "      <td>NaN</td>\n",
       "      <td>3.0</td>\n",
       "      <td>...</td>\n",
       "      <td>Yes</td>\n",
       "      <td>6/27/2022</td>\n",
       "      <td>Duplicate Revisit</td>\n",
       "      <td>No</td>\n",
       "      <td>NaN</td>\n",
       "      <td>No</td>\n",
       "      <td>inactive - inr 40 extra pay on txn</td>\n",
       "      <td>NaN</td>\n",
       "      <td>Match</td>\n",
       "      <td>Match</td>\n",
       "    </tr>\n",
       "  </tbody>\n",
       "</table>\n",
       "<p>1 rows × 47 columns</p>\n",
       "</div>"
      ],
      "text/plain": [
       "          StoreName     City  Pincode  StorePhoneNumber OnboardingTimestamp  \\\n",
       "0  Mangal Jewellers  Solapur   413216        9822959713   5/9/2022 17:41:48   \n",
       "\n",
       "  TaskSubmissionTimestamp MerchantExternalId  \\\n",
       "0     11/10/2022 18:33:47   BCR2DN4T2C5JLEID   \n",
       "\n",
       "                               CompletedSubTaskTypes  AdditionalQRs  \\\n",
       "0  PROVISION_VPA, CAPTURE_ADDITIONAL_PICTURES, TA...            NaN   \n",
       "\n",
       "   PreProvisionedQRCount  ...  Is Previous Revisit same month?  \\\n",
       "0                    3.0  ...                              Yes   \n",
       "\n",
       "   Previous Revisit Date            Remarks Off City?  \\\n",
       "0              6/27/2022  Duplicate Revisit        No   \n",
       "\n",
       "  Remove the Name with nan Is in Old Source?  \\\n",
       "0                      NaN                No   \n",
       "\n",
       "                           segments_2 OLD Valid  Is in Dynamic Source?_2  \\\n",
       "0  inactive - inr 40 extra pay on txn       NaN                    Match   \n",
       "\n",
       "  Is in Dynamic + Consolidated Source?  \n",
       "0                                Match  \n",
       "\n",
       "[1 rows x 47 columns]"
      ]
     },
     "execution_count": 529,
     "metadata": {},
     "output_type": "execute_result"
    }
   ],
   "source": [
    "Google_Revisit_f_21.head(1)"
   ]
  },
  {
   "cell_type": "code",
   "execution_count": 530,
   "id": "a4fe1445",
   "metadata": {
    "scrolled": true
   },
   "outputs": [
    {
     "data": {
      "text/plain": [
       "(5307, 47)"
      ]
     },
     "execution_count": 530,
     "metadata": {},
     "output_type": "execute_result"
    }
   ],
   "source": [
    "Google_Revisit_f_21.shape"
   ]
  },
  {
   "cell_type": "markdown",
   "id": "068f1014",
   "metadata": {},
   "source": [
    "# Changing the Team View City Name"
   ]
  },
  {
   "cell_type": "code",
   "execution_count": 531,
   "id": "4bed2c63",
   "metadata": {},
   "outputs": [
    {
     "data": {
      "text/html": [
       "<div>\n",
       "<style scoped>\n",
       "    .dataframe tbody tr th:only-of-type {\n",
       "        vertical-align: middle;\n",
       "    }\n",
       "\n",
       "    .dataframe tbody tr th {\n",
       "        vertical-align: top;\n",
       "    }\n",
       "\n",
       "    .dataframe thead th {\n",
       "        text-align: right;\n",
       "    }\n",
       "</style>\n",
       "<table border=\"1\" class=\"dataframe\">\n",
       "  <thead>\n",
       "    <tr style=\"text-align: right;\">\n",
       "      <th></th>\n",
       "      <th>StoreName</th>\n",
       "      <th>City</th>\n",
       "      <th>Pincode</th>\n",
       "      <th>StorePhoneNumber</th>\n",
       "      <th>OnboardingTimestamp</th>\n",
       "      <th>TaskSubmissionTimestamp</th>\n",
       "      <th>MerchantExternalId</th>\n",
       "      <th>CompletedSubTaskTypes</th>\n",
       "      <th>AdditionalQRs</th>\n",
       "      <th>PreProvisionedQRCount</th>\n",
       "      <th>...</th>\n",
       "      <th>Is Previous Revisit same month?</th>\n",
       "      <th>Previous Revisit Date</th>\n",
       "      <th>Remarks</th>\n",
       "      <th>Off City?</th>\n",
       "      <th>Remove the Name with nan</th>\n",
       "      <th>Is in Old Source?</th>\n",
       "      <th>segments_2</th>\n",
       "      <th>OLD Valid</th>\n",
       "      <th>Is in Dynamic Source?_2</th>\n",
       "      <th>Is in Dynamic + Consolidated Source?</th>\n",
       "    </tr>\n",
       "  </thead>\n",
       "  <tbody>\n",
       "    <tr>\n",
       "      <th>0</th>\n",
       "      <td>Mangal Jewellers</td>\n",
       "      <td>Solapur</td>\n",
       "      <td>413216</td>\n",
       "      <td>9822959713</td>\n",
       "      <td>5/9/2022 17:41:48</td>\n",
       "      <td>11/10/2022 18:33:47</td>\n",
       "      <td>BCR2DN4T2C5JLEID</td>\n",
       "      <td>PROVISION_VPA, CAPTURE_ADDITIONAL_PICTURES, TA...</td>\n",
       "      <td>NaN</td>\n",
       "      <td>3.0</td>\n",
       "      <td>...</td>\n",
       "      <td>Yes</td>\n",
       "      <td>6/27/2022</td>\n",
       "      <td>Duplicate Revisit</td>\n",
       "      <td>No</td>\n",
       "      <td>NaN</td>\n",
       "      <td>No</td>\n",
       "      <td>inactive - inr 40 extra pay on txn</td>\n",
       "      <td>NaN</td>\n",
       "      <td>Match</td>\n",
       "      <td>Match</td>\n",
       "    </tr>\n",
       "  </tbody>\n",
       "</table>\n",
       "<p>1 rows × 47 columns</p>\n",
       "</div>"
      ],
      "text/plain": [
       "          StoreName     City  Pincode  StorePhoneNumber OnboardingTimestamp  \\\n",
       "0  Mangal Jewellers  Solapur   413216        9822959713   5/9/2022 17:41:48   \n",
       "\n",
       "  TaskSubmissionTimestamp MerchantExternalId  \\\n",
       "0     11/10/2022 18:33:47   BCR2DN4T2C5JLEID   \n",
       "\n",
       "                               CompletedSubTaskTypes  AdditionalQRs  \\\n",
       "0  PROVISION_VPA, CAPTURE_ADDITIONAL_PICTURES, TA...            NaN   \n",
       "\n",
       "   PreProvisionedQRCount  ...  Is Previous Revisit same month?  \\\n",
       "0                    3.0  ...                              Yes   \n",
       "\n",
       "   Previous Revisit Date            Remarks Off City?  \\\n",
       "0              6/27/2022  Duplicate Revisit        No   \n",
       "\n",
       "  Remove the Name with nan Is in Old Source?  \\\n",
       "0                      NaN                No   \n",
       "\n",
       "                           segments_2 OLD Valid  Is in Dynamic Source?_2  \\\n",
       "0  inactive - inr 40 extra pay on txn       NaN                    Match   \n",
       "\n",
       "  Is in Dynamic + Consolidated Source?  \n",
       "0                                Match  \n",
       "\n",
       "[1 rows x 47 columns]"
      ]
     },
     "execution_count": 531,
     "metadata": {},
     "output_type": "execute_result"
    }
   ],
   "source": [
    "Google_Revisit_f_21.head(1)"
   ]
  },
  {
   "cell_type": "code",
   "execution_count": 532,
   "id": "7fe20b50",
   "metadata": {},
   "outputs": [],
   "source": [
    "Google_Revisit_f_21['Team View City_2'] = np.nan"
   ]
  },
  {
   "cell_type": "code",
   "execution_count": 533,
   "id": "0797a0ce",
   "metadata": {},
   "outputs": [],
   "source": [
    "Google_Revisit_f_21['Team View City_2'].fillna(Google_Revisit_f_21['Remove the Name with nan'], inplace=True)"
   ]
  },
  {
   "cell_type": "code",
   "execution_count": 534,
   "id": "eb641cbc",
   "metadata": {},
   "outputs": [],
   "source": [
    "Google_Revisit_f_21['Team View City_2'].fillna(Google_Revisit_f_21['Team View City'], inplace=True)"
   ]
  },
  {
   "cell_type": "code",
   "execution_count": null,
   "id": "88213891",
   "metadata": {},
   "outputs": [],
   "source": []
  },
  {
   "cell_type": "code",
   "execution_count": null,
   "id": "4bc33c14",
   "metadata": {},
   "outputs": [],
   "source": []
  },
  {
   "cell_type": "code",
   "execution_count": null,
   "id": "7c2a712a",
   "metadata": {},
   "outputs": [],
   "source": []
  },
  {
   "cell_type": "code",
   "execution_count": null,
   "id": "16580510",
   "metadata": {},
   "outputs": [],
   "source": []
  },
  {
   "cell_type": "code",
   "execution_count": null,
   "id": "01cbbf50",
   "metadata": {},
   "outputs": [],
   "source": []
  },
  {
   "cell_type": "code",
   "execution_count": null,
   "id": "89ce01a3",
   "metadata": {},
   "outputs": [],
   "source": []
  },
  {
   "cell_type": "code",
   "execution_count": 535,
   "id": "70ca8df4",
   "metadata": {},
   "outputs": [],
   "source": [
    "Google_Revisit_f_15 = Google_Revisit_f_21"
   ]
  },
  {
   "cell_type": "markdown",
   "id": "e81efcd7",
   "metadata": {},
   "source": [
    "# Rerrange the column in the dataframe"
   ]
  },
  {
   "cell_type": "code",
   "execution_count": 536,
   "id": "8467e220",
   "metadata": {},
   "outputs": [],
   "source": [
    "Google_Revisit_f_o = Google_Revisit_f_15.filter(['StoreName','City','Pincode', 'StorePhoneNumber',\n",
    "'OnboardingTimestamp', 'TaskSubmissionTimestamp', 'MerchantExternalId', 'CompletedSubTaskTypes',\n",
    "'AdditionalQRs', 'PreProvisionedQRCount', 'StickerQRCount', 'StandeeQRCount', 'MerchantVerified',\n",
    "'MerchantEditStatus','RejectedEditFields','Validity', 'InvalidReasons', 'AgentEmail', \n",
    "                                                 'Is in Dynamic + Consolidated Source?',\n",
    "'Is in RWM', 'IF R is Blank then RWM App Code', 'Team View City_2', 'Task Count',\n",
    "'Is in Source File based on Merchant Ext ID?','Is in Source File based on Merchant Mobile Number?',\n",
    "'Is in Google Daily OB File?', 'Is Previous Revisit same month?', 'Previous Revisit Date', 'Remarks',\n",
    "'Off City?','Remove the Name with nan', 'GmbOptIn','GmbListingStatus', 'NewtoGMB', 'Is in Old Source?',\n",
    "'OLD Valid', 'segments_2','Is in Dynamic Source?_2', 'Is in Dynamic Source Visit Date Valid?',\n",
    "\"Revisit Expire Date\", 'Dynamic IngestionStatus', 'Dynamic Ingestion Date']).rename(\n",
    "    columns={'Is in Dynamic + Consolidated Source?':'Is in Source File?','Remove the Name with nan':'', \n",
    "'Team View City_2':'Team View City' , 'segments_2':'Segments', 'Is in Dynamic Source?_2':'Is in Dynamic Source?'})"
   ]
  },
  {
   "cell_type": "markdown",
   "id": "ef291e4b",
   "metadata": {},
   "source": [
    "# Index the  StoreName"
   ]
  },
  {
   "cell_type": "code",
   "execution_count": 537,
   "id": "050c69ff",
   "metadata": {},
   "outputs": [],
   "source": [
    "Google_Revisit_i = Google_Revisit_f_o.set_index('StoreName')"
   ]
  },
  {
   "cell_type": "code",
   "execution_count": 538,
   "id": "0768391a",
   "metadata": {},
   "outputs": [],
   "source": [
    "Google_Revisit_i.to_excel('Google_Revisit_i.xlsx')"
   ]
  },
  {
   "cell_type": "markdown",
   "id": "77f4f3f6",
   "metadata": {},
   "source": [
    "# Optimizing Output "
   ]
  },
  {
   "cell_type": "code",
   "execution_count": 539,
   "id": "0ee6b8a5",
   "metadata": {},
   "outputs": [],
   "source": [
    "wb = op.load_workbook('Google_Revisit_i.xlsx')\n",
    "ws = wb['Sheet1']"
   ]
  },
  {
   "cell_type": "markdown",
   "id": "fb234a7d",
   "metadata": {},
   "source": [
    "### Change Width"
   ]
  },
  {
   "cell_type": "code",
   "execution_count": 540,
   "id": "e647ff67",
   "metadata": {},
   "outputs": [],
   "source": [
    "ws.column_dimensions['A'].width = 12\n",
    "ws.column_dimensions['B'].width = 12\n",
    "ws.column_dimensions['C'].width = 12\n",
    "ws.column_dimensions['D'].width = 12\n",
    "ws.column_dimensions['E'].width = 20\n",
    "ws.column_dimensions['F'].width = 19\n",
    "ws.column_dimensions['G'].width = 19\n",
    "ws.column_dimensions['H'].width = 42\n",
    "ws.column_dimensions['I'].width = 12\n",
    "ws.column_dimensions['J'].width = 12\n",
    "ws.column_dimensions['K'].width = 12\n",
    "ws.column_dimensions['L'].width = 12\n",
    "ws.column_dimensions['M'].width = 12\n",
    "ws.column_dimensions['N'].width = 12\n",
    "ws.column_dimensions['O'].width = 12\n",
    "ws.column_dimensions['P'].width = 12\n",
    "ws.column_dimensions['Q'].width = 12\n",
    "ws.column_dimensions['R'].width = 12\n",
    "ws.column_dimensions['S'].width = 12\n",
    "ws.column_dimensions['T'].width = 12\n",
    "ws.column_dimensions['U'].width = 12\n",
    "ws.column_dimensions['V'].width = 12\n",
    "ws.column_dimensions['W'].width = 12\n",
    "ws.column_dimensions['X'].width = 12\n",
    "ws.column_dimensions['Y'].width = 12\n",
    "ws.column_dimensions['Z'].width = 12\n",
    "ws.column_dimensions['AA'].width = 12\n",
    "ws.column_dimensions['AB'].width = 12\n",
    "ws.column_dimensions['AC'].width = 12\n",
    "ws.column_dimensions['AD'].width = 12\n",
    "ws.column_dimensions['AE'].width = 12\n",
    "ws.column_dimensions['AF'].width = 12\n",
    "ws.column_dimensions['AG'].width = 12\n",
    "ws.column_dimensions['AH'].width = 12\n",
    "ws.column_dimensions['AI'].width = 12\n",
    "ws.column_dimensions['AJ'].width = 12\n",
    "ws.column_dimensions['AK'].width = 12\n",
    "ws.column_dimensions['AL'].width = 12\n",
    "ws.column_dimensions['AM'].width = 12\n",
    "ws.column_dimensions['AN'].width = 12\n",
    "ws.column_dimensions['AO'].width = 12\n",
    "ws.column_dimensions['AP'].width = 12\n",
    "ws.column_dimensions['AQ'].width = 12\n",
    "ws.column_dimensions['AR'].width = 12\n",
    "ws.column_dimensions['AS'].width = 12\n",
    "ws.column_dimensions['AT'].width = 12"
   ]
  },
  {
   "cell_type": "markdown",
   "id": "7aa8606e",
   "metadata": {},
   "source": [
    "### Change Height"
   ]
  },
  {
   "cell_type": "code",
   "execution_count": 541,
   "id": "98d6f55a",
   "metadata": {},
   "outputs": [],
   "source": [
    "ws.row_dimensions[1].height = 70"
   ]
  },
  {
   "cell_type": "markdown",
   "id": "25102d43",
   "metadata": {},
   "source": [
    "## Change Font"
   ]
  },
  {
   "cell_type": "code",
   "execution_count": 542,
   "id": "9e28821e",
   "metadata": {},
   "outputs": [],
   "source": [
    "Rows = Font(name='Arial', bold= False, size = \"10\")\n",
    "Heading_Rows = Font(name='Arial', bold= True, size = \"10\")"
   ]
  },
  {
   "cell_type": "code",
   "execution_count": 543,
   "id": "cab57c73",
   "metadata": {},
   "outputs": [],
   "source": [
    "col = Google_Revisit_i.columns"
   ]
  },
  {
   "cell_type": "markdown",
   "id": "de4e660f",
   "metadata": {},
   "source": [
    "#### Font change for Header"
   ]
  },
  {
   "cell_type": "code",
   "execution_count": 544,
   "id": "5b3c3f32",
   "metadata": {},
   "outputs": [],
   "source": [
    "for j in range(1, (len(col)+2)):\n",
    "        ws.cell(row=1, column=j).font = Heading_Rows"
   ]
  },
  {
   "cell_type": "markdown",
   "id": "3d4272f3",
   "metadata": {},
   "source": [
    "#### Font change for body "
   ]
  },
  {
   "cell_type": "code",
   "execution_count": 545,
   "id": "61667bae",
   "metadata": {},
   "outputs": [],
   "source": [
    "for i in range(2, (len(Google_Revisit_i)+2)):\n",
    "    for j in range(1, (len(col)+2)):\n",
    "        ws.cell(row=i, column=j).font = Rows"
   ]
  },
  {
   "cell_type": "markdown",
   "id": "33b66159",
   "metadata": {},
   "source": [
    "# No Border"
   ]
  },
  {
   "cell_type": "code",
   "execution_count": 546,
   "id": "564e5d4e",
   "metadata": {},
   "outputs": [],
   "source": [
    "border = Border(left=None, right=None, top=None, bottom=None)"
   ]
  },
  {
   "cell_type": "code",
   "execution_count": 547,
   "id": "cde47a8e",
   "metadata": {},
   "outputs": [],
   "source": [
    "for i in range(1, (len(Google_Revisit_i)+2)):\n",
    "    for j in range(1, (len(col)+2)):\n",
    "        ws.cell(row=i, column=j).border = border"
   ]
  },
  {
   "cell_type": "markdown",
   "id": "cccbf024",
   "metadata": {},
   "source": [
    "# Alignment"
   ]
  },
  {
   "cell_type": "code",
   "execution_count": 548,
   "id": "de8e7d8f",
   "metadata": {},
   "outputs": [],
   "source": [
    "body_ali = Alignment(wrap_text=False, horizontal=\"center\", vertical=\"center\")\n",
    "head_ali = Alignment(wrap_text=True, shrinkToFit=True, horizontal=\"center\", vertical=\"center\")"
   ]
  },
  {
   "cell_type": "code",
   "execution_count": 549,
   "id": "d2e37397",
   "metadata": {},
   "outputs": [],
   "source": [
    "for j in range(1, (len(col)+2)):\n",
    "        ws.cell(row=1, column=j).alignment = head_ali"
   ]
  },
  {
   "cell_type": "code",
   "execution_count": 550,
   "id": "17410d0e",
   "metadata": {},
   "outputs": [],
   "source": [
    "for i in range(2, (len(Google_Revisit_i)+2)):\n",
    "    for j in range(2, (len(col)+2)):\n",
    "        ws.cell(row=i, column=j).alignment = body_ali"
   ]
  },
  {
   "cell_type": "code",
   "execution_count": 551,
   "id": "6eea4135",
   "metadata": {},
   "outputs": [],
   "source": [
    "wb.save(output_loc+'Google_Revisit_Final.xlsx')"
   ]
  },
  {
   "cell_type": "code",
   "execution_count": null,
   "id": "ddb35157",
   "metadata": {},
   "outputs": [],
   "source": []
  },
  {
   "cell_type": "code",
   "execution_count": 552,
   "id": "109025ca",
   "metadata": {
    "scrolled": true
   },
   "outputs": [
    {
     "ename": "SyntaxError",
     "evalue": "invalid syntax (600381529.py, line 1)",
     "output_type": "error",
     "traceback": [
      "\u001b[0;36m  File \u001b[0;32m\"/tmp/ipykernel_8768/600381529.py\"\u001b[0;36m, line \u001b[0;32m1\u001b[0m\n\u001b[0;31m    Stop =\u001b[0m\n\u001b[0m          ^\u001b[0m\n\u001b[0;31mSyntaxError\u001b[0m\u001b[0;31m:\u001b[0m invalid syntax\n"
     ]
    }
   ],
   "source": [
    "Stop =\n",
    "RWM Start"
   ]
  },
  {
   "cell_type": "code",
   "execution_count": null,
   "id": "fcdb23a6",
   "metadata": {},
   "outputs": [],
   "source": []
  },
  {
   "cell_type": "markdown",
   "id": "d08d723c",
   "metadata": {},
   "source": [
    "# RWM Script"
   ]
  },
  {
   "cell_type": "code",
   "execution_count": null,
   "id": "26530731",
   "metadata": {},
   "outputs": [],
   "source": [
    "input_loc_source = '/home/dhrubakumardolai/Desktop/Python Test/Target/Mini/'\n",
    "input_loc = '/home/dhrubakumardolai/Desktop/Python Test/Target/Revisit File/'\n",
    "output_loc = '/home/dhrubakumardolai/Desktop/Python Test/Result/Revisit File/'"
   ]
  },
  {
   "cell_type": "code",
   "execution_count": null,
   "id": "8e685522",
   "metadata": {},
   "outputs": [],
   "source": [
    "RWN_Revisit = pd.read_excel(\n",
    "    '/home/dhrubakumardolai/Desktop/Python Test/Revisit File/Revisit Merchant Master Records/2022/11/10/10-Nov-2022.xlsx')"
   ]
  },
  {
   "cell_type": "code",
   "execution_count": null,
   "id": "26dfdc9c",
   "metadata": {},
   "outputs": [],
   "source": [
    "RWN_Revisit.shape "
   ]
  },
  {
   "cell_type": "code",
   "execution_count": null,
   "id": "8e4f134f",
   "metadata": {},
   "outputs": [],
   "source": [
    "df_G = pd.read_csv(\n",
    "    '/home/dhrubakumardolai/Desktop/Python Test/Revisit File/Google Revisit/2022/2022/11/10/visits/data-00000-of-00001.csv')"
   ]
  },
  {
   "cell_type": "code",
   "execution_count": null,
   "id": "733797a8",
   "metadata": {},
   "outputs": [],
   "source": [
    "RWM_visit_master = pd.read_excel(\n",
    "    '/home/dhrubakumardolai/Desktop/Python Test/Visit Master Records/2022/11/10/10-Nov-2022.xlsx')"
   ]
  },
  {
   "cell_type": "code",
   "execution_count": null,
   "id": "82740c70",
   "metadata": {},
   "outputs": [],
   "source": [
    "RWM_visit_master.shape"
   ]
  },
  {
   "cell_type": "markdown",
   "id": "51c2769d",
   "metadata": {},
   "source": [
    "# Google Validity"
   ]
  },
  {
   "cell_type": "code",
   "execution_count": null,
   "id": "0f465e05",
   "metadata": {},
   "outputs": [],
   "source": [
    "google_final = pd.read_excel(output_loc+'Google_Revisit_Final.xlsx')"
   ]
  },
  {
   "cell_type": "code",
   "execution_count": null,
   "id": "f8d03a6d",
   "metadata": {},
   "outputs": [],
   "source": [
    "google_final.shape"
   ]
  },
  {
   "cell_type": "markdown",
   "id": "aa02f7d7",
   "metadata": {},
   "source": [
    "# Extract the data from the Revisit.xlsx for Pivot table"
   ]
  },
  {
   "cell_type": "code",
   "execution_count": null,
   "id": "b08ff9b7",
   "metadata": {},
   "outputs": [],
   "source": [
    "Pivot_table = pd.read_csv(input_loc_source+\"10th Sep'22 Revisit - Pivot Table 1.csv\")"
   ]
  },
  {
   "cell_type": "markdown",
   "id": "bcab172f",
   "metadata": {},
   "source": [
    "# Dynamic Source Aug'22"
   ]
  },
  {
   "cell_type": "code",
   "execution_count": null,
   "id": "4426895d",
   "metadata": {},
   "outputs": [],
   "source": [
    "Dynamic_source_aug = Dynamic_source_aug"
   ]
  },
  {
   "cell_type": "markdown",
   "id": "7a39389e",
   "metadata": {},
   "source": [
    "# Extract Source file from Q1 2022"
   ]
  },
  {
   "cell_type": "code",
   "execution_count": null,
   "id": "12442143",
   "metadata": {},
   "outputs": [],
   "source": [
    "Source_data_Q1_2022.head(1)"
   ]
  },
  {
   "cell_type": "markdown",
   "id": "0967a848",
   "metadata": {},
   "source": [
    "# Extracting Source file from Q2 2022"
   ]
  },
  {
   "cell_type": "code",
   "execution_count": null,
   "id": "c2a289c5",
   "metadata": {},
   "outputs": [],
   "source": [
    "Source_data_Q2_2022.head(1)"
   ]
  },
  {
   "cell_type": "markdown",
   "id": "d3965c43",
   "metadata": {},
   "source": [
    "# Extracting the old Q1 revisit ingestion"
   ]
  },
  {
   "cell_type": "code",
   "execution_count": null,
   "id": "d2a60c80",
   "metadata": {},
   "outputs": [],
   "source": [
    "Source_data_Q1_2022_ingestion.head(1)"
   ]
  },
  {
   "cell_type": "markdown",
   "id": "a571fb49",
   "metadata": {},
   "source": [
    "### Rearranging files"
   ]
  },
  {
   "cell_type": "code",
   "execution_count": null,
   "id": "6b494d0d",
   "metadata": {},
   "outputs": [],
   "source": [
    "RWN_Revisit_f = RWN_Revisit[['City Name','Merchant ID','Merchant Name','Visit Count','Business Category',\n",
    "                                    'Owner Mobile No.','Follow Up Date','PIN Code','On Boarding Date',\n",
    "                                    'On Boarding Time','On-Boarded Employee Code','Visit By','Employee Code',\n",
    "                                    'Role Name','POD Name','POD ID','Employment Type','Revisit Date',\n",
    "                                    'Revisit Time','Team Lead Name','Remarks','Visit Status','Approved By',\n",
    "                                    'Approved Date','Approved Time','Approved Remarks',\n",
    "                                    'Reason for not Accepting Payments using G-Pay',\n",
    "                                    'New Collateral Given : QR Code label',\n",
    "                                    'New Collateral Given : G-Pay Accepted Sticker',\n",
    "                                    'New Collateral Given : Dangler','QR Code String',\n",
    "                                    'Not Interested in Gpay Reasons','Created By','Created Name','Created Date']]"
   ]
  },
  {
   "cell_type": "code",
   "execution_count": null,
   "id": "7b4eea4f",
   "metadata": {},
   "outputs": [],
   "source": [
    "RWN_Revisit_f.shape"
   ]
  },
  {
   "cell_type": "markdown",
   "id": "8a605c65",
   "metadata": {},
   "source": [
    "# Vaco_RV_Q2_2022.csv"
   ]
  },
  {
   "cell_type": "code",
   "execution_count": null,
   "id": "21cb2125",
   "metadata": {},
   "outputs": [],
   "source": [
    "Vaco_RV_Q2_2022.shape"
   ]
  },
  {
   "cell_type": "markdown",
   "id": "98850398",
   "metadata": {},
   "source": [
    "# Extracting Data from df_G\n",
    "# After which sort and remove duplicate from the data"
   ]
  },
  {
   "cell_type": "code",
   "execution_count": null,
   "id": "fe46b25a",
   "metadata": {},
   "outputs": [],
   "source": [
    "df_G.set_index('StoreName').head(1)"
   ]
  },
  {
   "cell_type": "code",
   "execution_count": null,
   "id": "4cf8ba82",
   "metadata": {},
   "outputs": [],
   "source": [
    "df_G2 = df_G[['StoreName','City','Pincode','StorePhoneNumber','OnboardingTimestamp',\n",
    "'TaskSubmissionTimestamp','MerchantExternalId','CompletedSubTaskTypes','AdditionalQRs','PreProvisionedQRCount',\n",
    "'StickerQRCount','StandeeQRCount','MerchantVerified','MerchantEditStatus','RejectedEditFields','Validity',\n",
    "                                   'InvalidReasons','AgentEmail']]\n",
    "len(df_G2)"
   ]
  },
  {
   "cell_type": "markdown",
   "id": "eff0650b",
   "metadata": {},
   "source": [
    "#### Sorting Data"
   ]
  },
  {
   "cell_type": "code",
   "execution_count": null,
   "id": "4719aba9",
   "metadata": {},
   "outputs": [],
   "source": [
    "df_G3 = df_G2.sort_values(by=['Validity', 'MerchantExternalId'], ascending = [False, True])\n",
    "len(df_G3)"
   ]
  },
  {
   "cell_type": "markdown",
   "id": "24fd4b13",
   "metadata": {},
   "source": [
    "#### Remove Duplicate from google revisit"
   ]
  },
  {
   "cell_type": "code",
   "execution_count": null,
   "id": "14f6a036",
   "metadata": {},
   "outputs": [],
   "source": [
    "df_G4 = df_G3.drop_duplicates(subset = ['MerchantExternalId'])"
   ]
  },
  {
   "cell_type": "code",
   "execution_count": null,
   "id": "2277d4eb",
   "metadata": {},
   "outputs": [],
   "source": [
    "len(df_G4)"
   ]
  },
  {
   "cell_type": "markdown",
   "id": "e9b4e34e",
   "metadata": {},
   "source": [
    "#### Filter"
   ]
  },
  {
   "cell_type": "code",
   "execution_count": null,
   "id": "d54007d7",
   "metadata": {},
   "outputs": [],
   "source": [
    "RWN_Revisit_f.head(1)"
   ]
  },
  {
   "cell_type": "code",
   "execution_count": null,
   "id": "69602985",
   "metadata": {},
   "outputs": [],
   "source": [
    "RWN_Revisit_f.shape"
   ]
  },
  {
   "cell_type": "code",
   "execution_count": null,
   "id": "2157b7d0",
   "metadata": {},
   "outputs": [],
   "source": [
    "RWN_Revisit_raw = RWN_Revisit_f[~RWN_Revisit_f['Remarks'].isin(['Revisit Done'])]"
   ]
  },
  {
   "cell_type": "code",
   "execution_count": null,
   "id": "713aba52",
   "metadata": {},
   "outputs": [],
   "source": [
    "RWN_Revisit_raw.shape"
   ]
  },
  {
   "cell_type": "code",
   "execution_count": null,
   "id": "889470ca",
   "metadata": {},
   "outputs": [],
   "source": [
    "RWN_Revisit_f = RWN_Revisit_f[RWN_Revisit_f['Remarks'].isin(['Revisit Done'])]"
   ]
  },
  {
   "cell_type": "code",
   "execution_count": null,
   "id": "cb68052b",
   "metadata": {},
   "outputs": [],
   "source": [
    "RWN_Revisit_f.head(1)"
   ]
  },
  {
   "cell_type": "code",
   "execution_count": null,
   "id": "4b62378f",
   "metadata": {},
   "outputs": [],
   "source": [
    "len(RWN_Revisit_f)"
   ]
  },
  {
   "cell_type": "markdown",
   "id": "73f2cc2b",
   "metadata": {},
   "source": [
    "# Counting the string in the Merchant Ext ID and replace the Merchant Ext ID with len less the 14 as Empty"
   ]
  },
  {
   "cell_type": "code",
   "execution_count": null,
   "id": "7dabb200",
   "metadata": {},
   "outputs": [],
   "source": []
  },
  {
   "cell_type": "code",
   "execution_count": null,
   "id": "1a701ff2",
   "metadata": {},
   "outputs": [],
   "source": []
  },
  {
   "cell_type": "markdown",
   "id": "76f36aec",
   "metadata": {},
   "source": [
    "# Take the Header \"QR Code String\" and Split the string and put it in the Column No. 31"
   ]
  },
  {
   "cell_type": "code",
   "execution_count": null,
   "id": "e4641efb",
   "metadata": {},
   "outputs": [],
   "source": [
    "RWN_Revisit_split = RWN_Revisit_f['QR Code String'].str.split('=', expand = True)"
   ]
  },
  {
   "cell_type": "code",
   "execution_count": null,
   "id": "358e3022",
   "metadata": {},
   "outputs": [],
   "source": [
    "RWN_Revisit_f['Merchant Ext ID'] = RWN_Revisit_split[5]"
   ]
  },
  {
   "cell_type": "code",
   "execution_count": null,
   "id": "8c0550ec",
   "metadata": {},
   "outputs": [],
   "source": [
    "RWN_Revisit_f.head(1)"
   ]
  },
  {
   "cell_type": "code",
   "execution_count": null,
   "id": "27e01e3b",
   "metadata": {},
   "outputs": [],
   "source": [
    "RWN_Revisit_f.shape"
   ]
  },
  {
   "cell_type": "code",
   "execution_count": null,
   "id": "85230836",
   "metadata": {},
   "outputs": [],
   "source": [
    "RWN_Revisit_f[RWN_Revisit_f['Merchant ID'].isin(['1913347'])]"
   ]
  },
  {
   "cell_type": "markdown",
   "id": "f85624f7",
   "metadata": {},
   "source": [
    "# Spliting for Raw Revisit"
   ]
  },
  {
   "cell_type": "code",
   "execution_count": null,
   "id": "51297988",
   "metadata": {},
   "outputs": [],
   "source": [
    "RWN_Revisit_raw_split = RWN_Revisit_raw['QR Code String'].str.split('=', expand = True)"
   ]
  },
  {
   "cell_type": "code",
   "execution_count": null,
   "id": "e009e8a5",
   "metadata": {},
   "outputs": [],
   "source": [
    "RWN_Revisit_raw.shape"
   ]
  },
  {
   "cell_type": "code",
   "execution_count": null,
   "id": "26374ae0",
   "metadata": {},
   "outputs": [],
   "source": [
    "RWN_Revisit_raw['Merchant Ext ID'] = RWN_Revisit_raw_split[5]"
   ]
  },
  {
   "cell_type": "code",
   "execution_count": null,
   "id": "504700ee",
   "metadata": {},
   "outputs": [],
   "source": [
    "RWN_Revisit_raw.head(1)"
   ]
  },
  {
   "cell_type": "markdown",
   "id": "0a270257",
   "metadata": {},
   "source": [
    "# Extracting MID From Google Revisit and filling the Merchant Ext ID in RWM Revisit"
   ]
  },
  {
   "cell_type": "code",
   "execution_count": null,
   "id": "436f917f",
   "metadata": {},
   "outputs": [],
   "source": [
    "df_G4_f = df_G4[['StorePhoneNumber', 'MerchantExternalId']]"
   ]
  },
  {
   "cell_type": "code",
   "execution_count": null,
   "id": "240db1ad",
   "metadata": {},
   "outputs": [],
   "source": [
    "RWN_Revisit_f2 = RWN_Revisit_f[['Merchant ID', 'Owner Mobile No.', 'Merchant Ext ID']]"
   ]
  },
  {
   "cell_type": "code",
   "execution_count": null,
   "id": "ee6d5f27",
   "metadata": {},
   "outputs": [],
   "source": [
    "RWN_Revisit_f2_mn = RWN_Revisit_f2.rename(columns={'Owner Mobile No.':'StorePhoneNumber'})"
   ]
  },
  {
   "cell_type": "code",
   "execution_count": null,
   "id": "1e0ce102",
   "metadata": {},
   "outputs": [],
   "source": [
    "RWN_Revisit_f2_mid = RWN_Revisit_f2.rename(columns={'Merchant Ext ID':'MerchantExternalId'})"
   ]
  },
  {
   "cell_type": "code",
   "execution_count": null,
   "id": "b6c5082f",
   "metadata": {},
   "outputs": [],
   "source": [
    "RWN_Revisit_f2_mn_merge = RWN_Revisit_f2_mn.merge(df_G4_f, on='StorePhoneNumber', how='left')"
   ]
  },
  {
   "cell_type": "code",
   "execution_count": null,
   "id": "d5bcbc42",
   "metadata": {},
   "outputs": [],
   "source": [
    "RWN_Revisit_f2_mn_merge.drop_duplicates(subset = ['Merchant ID'], inplace = True)"
   ]
  },
  {
   "cell_type": "code",
   "execution_count": null,
   "id": "633ebfc8",
   "metadata": {},
   "outputs": [],
   "source": [
    "RWN_Revisit_f2_mn_merge.shape"
   ]
  },
  {
   "cell_type": "code",
   "execution_count": null,
   "id": "c762e1f4",
   "metadata": {},
   "outputs": [],
   "source": [
    "RWN_Revisit_f2_mn_merge_f = RWN_Revisit_f2_mn_merge[['Merchant ID', 'MerchantExternalId']]"
   ]
  },
  {
   "cell_type": "code",
   "execution_count": null,
   "id": "006064b4",
   "metadata": {},
   "outputs": [],
   "source": [
    "RWN_Revisit_f2_mid_merge = RWN_Revisit_f2_mid.merge(df_G4_f, on='MerchantExternalId', how='left')"
   ]
  },
  {
   "cell_type": "code",
   "execution_count": null,
   "id": "de580a98",
   "metadata": {},
   "outputs": [],
   "source": [
    "RWN_Revisit_f2_mid_merge.drop_duplicates(subset = ['Merchant ID'], inplace = True)"
   ]
  },
  {
   "cell_type": "code",
   "execution_count": null,
   "id": "aac41779",
   "metadata": {},
   "outputs": [],
   "source": [
    "RWN_Revisit_f2_mid_merge.shape"
   ]
  },
  {
   "cell_type": "code",
   "execution_count": null,
   "id": "e2923a4d",
   "metadata": {},
   "outputs": [],
   "source": [
    "RWN_Revisit_f2_mid_merge_f = RWN_Revisit_f2_mid_merge[['Merchant ID', 'StorePhoneNumber']]"
   ]
  },
  {
   "cell_type": "code",
   "execution_count": null,
   "id": "2d4628ac",
   "metadata": {},
   "outputs": [],
   "source": [
    "RWN_Revisit_f_merge_mid = RWN_Revisit_f.merge(RWN_Revisit_f2_mn_merge_f, on='Merchant ID', how='left')"
   ]
  },
  {
   "cell_type": "code",
   "execution_count": null,
   "id": "d9ee6476",
   "metadata": {},
   "outputs": [],
   "source": [
    "RWN_Revisit_f_merge_mid.drop_duplicates(subset = ['Merchant ID'], inplace = True)"
   ]
  },
  {
   "cell_type": "code",
   "execution_count": null,
   "id": "f34f88ed",
   "metadata": {},
   "outputs": [],
   "source": [
    "RWN_Revisit_f_merge_mid_mn = RWN_Revisit_f_merge_mid.merge(\n",
    "    RWN_Revisit_f2_mid_merge_f, on='Merchant ID', how='left')"
   ]
  },
  {
   "cell_type": "code",
   "execution_count": null,
   "id": "6f5cd163",
   "metadata": {},
   "outputs": [],
   "source": [
    "RWN_Revisit_f_merge_mid_mn.drop_duplicates(subset = ['Merchant ID'], inplace = True)"
   ]
  },
  {
   "cell_type": "code",
   "execution_count": null,
   "id": "588c998d",
   "metadata": {},
   "outputs": [],
   "source": [
    "RWN_Revisit_f_merge_mid_mn['Merchant Ext ID'].fillna(RWN_Revisit_f_merge_mid_mn[\n",
    "    'MerchantExternalId'], inplace=True)"
   ]
  },
  {
   "cell_type": "code",
   "execution_count": null,
   "id": "ed131480",
   "metadata": {},
   "outputs": [],
   "source": [
    "RWN_Revisit_f_merge_mid_mn['Owner Mobile No.'].fillna(RWN_Revisit_f_merge_mid_mn[\n",
    "    'StorePhoneNumber'], inplace=True)"
   ]
  },
  {
   "cell_type": "code",
   "execution_count": null,
   "id": "aa4a9fd4",
   "metadata": {},
   "outputs": [],
   "source": [
    "RWN_Revisit_f = RWN_Revisit_f_merge_mid_mn"
   ]
  },
  {
   "cell_type": "markdown",
   "id": "6d63a3c2",
   "metadata": {},
   "source": [
    "# Filtering Visit Master"
   ]
  },
  {
   "cell_type": "code",
   "execution_count": null,
   "id": "7f4b08ca",
   "metadata": {},
   "outputs": [],
   "source": [
    "RWM_visit_master.head(1)"
   ]
  },
  {
   "cell_type": "code",
   "execution_count": null,
   "id": "710e0caa",
   "metadata": {},
   "outputs": [],
   "source": [
    "RWM_visit_master_rename = RWM_visit_master.rename(columns={'Visit Date':'Revisit Date', \n",
    "                                                           'Visit Time':'Revisit Time', \n",
    "                                                           'Revisit Remarks': 'Remarks'})"
   ]
  },
  {
   "cell_type": "code",
   "execution_count": null,
   "id": "e8fcb71b",
   "metadata": {},
   "outputs": [],
   "source": [
    "RWM_visit_master_rename_f = RWM_visit_master_rename[RWM_visit_master_rename['Remarks'].isin(['Revisit Done'])]"
   ]
  },
  {
   "cell_type": "code",
   "execution_count": null,
   "id": "236c5e36",
   "metadata": {},
   "outputs": [],
   "source": [
    "df_G_f = df_G[['StorePhoneNumber','MerchantExternalId']].rename(\n",
    "    columns={'MerchantExternalId':'Merchant Ext ID_google', 'StorePhoneNumber':'Owner Mobile No.'})"
   ]
  },
  {
   "cell_type": "code",
   "execution_count": null,
   "id": "ef4f662f",
   "metadata": {},
   "outputs": [],
   "source": [
    "RWN_visit_master_split = RWM_visit_master_rename_f['QR Code String'].str.split('=', expand = True)"
   ]
  },
  {
   "cell_type": "code",
   "execution_count": null,
   "id": "b680697a",
   "metadata": {},
   "outputs": [],
   "source": [
    "RWM_visit_master_rename_f['Merchant Ext ID'] = RWN_visit_master_split[5]"
   ]
  },
  {
   "cell_type": "code",
   "execution_count": null,
   "id": "5ad25005",
   "metadata": {},
   "outputs": [],
   "source": [
    "RWM_visit_master_rename_f_merge = RWM_visit_master_rename_f.merge(df_G_f, on='Owner Mobile No.', how='left')"
   ]
  },
  {
   "cell_type": "code",
   "execution_count": null,
   "id": "e660aa29",
   "metadata": {},
   "outputs": [],
   "source": [
    "RWM_visit_master_rename_f_merge.drop_duplicates(subset=['Merchant ID'], inplace=True)"
   ]
  },
  {
   "cell_type": "code",
   "execution_count": null,
   "id": "d6bc57b3",
   "metadata": {},
   "outputs": [],
   "source": [
    "RWM_visit_master_rename_f_merge['Merchant Ext ID'].fillna(\n",
    "    RWM_visit_master_rename_f_merge['Merchant Ext ID_google'], inplace=True)"
   ]
  },
  {
   "cell_type": "code",
   "execution_count": null,
   "id": "06ad013c",
   "metadata": {},
   "outputs": [],
   "source": [
    "RWM_visit_master_rename_f_merge.drop(['Merchant Ext ID_google'], axis=1, inplace=True)"
   ]
  },
  {
   "cell_type": "code",
   "execution_count": null,
   "id": "f6508462",
   "metadata": {},
   "outputs": [],
   "source": [
    "RWM_visit_master_rename_f = RWM_visit_master_rename_f_merge"
   ]
  },
  {
   "cell_type": "code",
   "execution_count": null,
   "id": "eb8a3898",
   "metadata": {},
   "outputs": [],
   "source": [
    "len(RWM_visit_master_rename_f)"
   ]
  },
  {
   "cell_type": "code",
   "execution_count": null,
   "id": "b5248c8b",
   "metadata": {},
   "outputs": [],
   "source": [
    "RWN_Revisit_f_merid = RWN_Revisit_f[['Merchant ID']]"
   ]
  },
  {
   "cell_type": "code",
   "execution_count": null,
   "id": "b3280b35",
   "metadata": {},
   "outputs": [],
   "source": [
    "RWM_visit_master_rename_f_merge = RWM_visit_master_rename_f.merge(\n",
    "    RWN_Revisit_f_merid, on='Merchant ID', how='left', indicator=True)"
   ]
  },
  {
   "cell_type": "code",
   "execution_count": null,
   "id": "571889a1",
   "metadata": {},
   "outputs": [],
   "source": [
    "RWM_visit_master_rename_f_merge_f = RWM_visit_master_rename_f_merge[RWM_visit_master_rename_f_merge[\n",
    "    '_merge'].isin(['left_only'])]"
   ]
  },
  {
   "cell_type": "code",
   "execution_count": null,
   "id": "95b5889d",
   "metadata": {},
   "outputs": [],
   "source": [
    "RWM_visit_master_rename_f_merge_f.shape"
   ]
  },
  {
   "cell_type": "code",
   "execution_count": null,
   "id": "a10432ab",
   "metadata": {},
   "outputs": [],
   "source": [
    "RWM_visit_master_rename_f_merge_f.drop(['_merge'], axis=1, inplace=True)"
   ]
  },
  {
   "cell_type": "code",
   "execution_count": null,
   "id": "963dcec7",
   "metadata": {},
   "outputs": [],
   "source": [
    "RWN_Revisit_f2 = RWN_Revisit_f.append(RWM_visit_master_rename_f_merge_f, ignore_index=True)"
   ]
  },
  {
   "cell_type": "code",
   "execution_count": null,
   "id": "2d9119bc",
   "metadata": {},
   "outputs": [],
   "source": [
    "RWN_Revisit_f2.shape"
   ]
  },
  {
   "cell_type": "code",
   "execution_count": null,
   "id": "74574280",
   "metadata": {},
   "outputs": [],
   "source": [
    "len(RWN_Revisit_f)+len(RWM_visit_master_rename_f_merge_f) == len(RWN_Revisit_f2)"
   ]
  },
  {
   "cell_type": "code",
   "execution_count": null,
   "id": "dfd09d55",
   "metadata": {},
   "outputs": [],
   "source": [
    "RWN_Revisit_f = RWN_Revisit_f2"
   ]
  },
  {
   "cell_type": "markdown",
   "id": "fb694f62",
   "metadata": {},
   "source": [
    "# Filter Merchant Ext ID only"
   ]
  },
  {
   "cell_type": "code",
   "execution_count": null,
   "id": "aca0806c",
   "metadata": {},
   "outputs": [],
   "source": [
    "RWN_Revisit_f['Len Merchant Ext ID'] = RWN_Revisit_f['Merchant Ext ID'].str.len()"
   ]
  },
  {
   "cell_type": "code",
   "execution_count": null,
   "id": "ec474d37",
   "metadata": {},
   "outputs": [],
   "source": [
    "RWN_Revisit_f['Len Merchant Ext ID>14'] = RWN_Revisit_f['Len Merchant Ext ID']>14"
   ]
  },
  {
   "cell_type": "code",
   "execution_count": null,
   "id": "8677b816",
   "metadata": {},
   "outputs": [],
   "source": [
    "RWN_Revisit_f['Len Merchant Ext ID>14'].replace(False, 'Empty', inplace=True)\n",
    "RWN_Revisit_f['Len Merchant Ext ID>14'].replace(True, np.nan, inplace=True)"
   ]
  },
  {
   "cell_type": "code",
   "execution_count": null,
   "id": "274b310f",
   "metadata": {},
   "outputs": [],
   "source": [
    "RWN_Revisit_f['Len Merchant Ext ID>14'].fillna(RWN_Revisit_f['Merchant Ext ID'],  inplace=True)"
   ]
  },
  {
   "cell_type": "code",
   "execution_count": null,
   "id": "ca52f678",
   "metadata": {},
   "outputs": [],
   "source": [
    "RWN_Revisit_f.drop(['Len Merchant Ext ID', 'Merchant Ext ID'], axis= 1, inplace=True)"
   ]
  },
  {
   "cell_type": "code",
   "execution_count": null,
   "id": "65d6016d",
   "metadata": {},
   "outputs": [],
   "source": [
    "RWN_Revisit_f.rename(columns={'Len Merchant Ext ID>14':'Merchant Ext ID'}, inplace=True)"
   ]
  },
  {
   "cell_type": "code",
   "execution_count": null,
   "id": "a2c9706e",
   "metadata": {},
   "outputs": [],
   "source": [
    "RWN_Revisit_f['Merchant Ext ID'].replace('Empty', np.nan, inplace=True)"
   ]
  },
  {
   "cell_type": "code",
   "execution_count": null,
   "id": "8a785912",
   "metadata": {},
   "outputs": [],
   "source": [
    "df_G_f.head()"
   ]
  },
  {
   "cell_type": "code",
   "execution_count": null,
   "id": "f8bf9b30",
   "metadata": {},
   "outputs": [],
   "source": [
    "RWN_Revisit_f_merge = RWN_Revisit_f.merge(df_G_f, on='Owner Mobile No.', how='left')"
   ]
  },
  {
   "cell_type": "code",
   "execution_count": null,
   "id": "ae9ab4f5",
   "metadata": {},
   "outputs": [],
   "source": [
    "RWN_Revisit_f_merge['Merchant Ext ID'].fillna(RWN_Revisit_f_merge['Merchant Ext ID_google'], inplace=True)"
   ]
  },
  {
   "cell_type": "code",
   "execution_count": null,
   "id": "739c4d7b",
   "metadata": {},
   "outputs": [],
   "source": [
    "RWN_Revisit_f_merge['Merchant Ext ID'].replace(np.nan, 'Empty', inplace=True)"
   ]
  },
  {
   "cell_type": "code",
   "execution_count": null,
   "id": "60a0ddfe",
   "metadata": {},
   "outputs": [],
   "source": [
    "RWN_Revisit_f = RWN_Revisit_f_merge"
   ]
  },
  {
   "cell_type": "markdown",
   "id": "c8a444d2",
   "metadata": {},
   "source": [
    "# Is in Google Daily File?"
   ]
  },
  {
   "cell_type": "code",
   "execution_count": null,
   "id": "d1b04f1f",
   "metadata": {},
   "outputs": [],
   "source": [
    "df_G_MID = df_G4[['MerchantExternalId']]"
   ]
  },
  {
   "cell_type": "code",
   "execution_count": null,
   "id": "9e1cf47f",
   "metadata": {},
   "outputs": [],
   "source": [
    "df_G_MID.shape"
   ]
  },
  {
   "cell_type": "code",
   "execution_count": null,
   "id": "990acb4b",
   "metadata": {},
   "outputs": [],
   "source": [
    "RWN_Revisit_f.head(1)"
   ]
  },
  {
   "cell_type": "code",
   "execution_count": null,
   "id": "732b9583",
   "metadata": {},
   "outputs": [],
   "source": [
    "RWN_Revisit_MID = RWN_Revisit_f[['Merchant ID','Merchant Ext ID']].rename(\n",
    "    columns = {'Merchant Ext ID': 'MerchantExternalId'})"
   ]
  },
  {
   "cell_type": "code",
   "execution_count": null,
   "id": "baed2ea7",
   "metadata": {},
   "outputs": [],
   "source": [
    "RWN_Revisit_MID.head(1)"
   ]
  },
  {
   "cell_type": "code",
   "execution_count": null,
   "id": "1c6d8681",
   "metadata": {},
   "outputs": [],
   "source": [
    "RWN_Revisit_MID_merge = RWN_Revisit_MID.merge(df_G_MID, how = 'left' ,on = 'MerchantExternalId', indicator=True)"
   ]
  },
  {
   "cell_type": "code",
   "execution_count": null,
   "id": "4c378686",
   "metadata": {},
   "outputs": [],
   "source": [
    "RWN_Revisit_MID_merge.drop_duplicates(subset = ['Merchant ID'], inplace = True)"
   ]
  },
  {
   "cell_type": "code",
   "execution_count": null,
   "id": "7801d14a",
   "metadata": {},
   "outputs": [],
   "source": [
    "RWN_Revisit_MID_merge.shape"
   ]
  },
  {
   "cell_type": "code",
   "execution_count": null,
   "id": "7ababc6a",
   "metadata": {},
   "outputs": [],
   "source": [
    "RWN_Revisit_MID_merge.head(1)"
   ]
  },
  {
   "cell_type": "code",
   "execution_count": null,
   "id": "0891268c",
   "metadata": {},
   "outputs": [],
   "source": [
    "RWN_Revisit_MID_merge['_merge'].unique()"
   ]
  },
  {
   "cell_type": "code",
   "execution_count": null,
   "id": "42cd4baa",
   "metadata": {},
   "outputs": [],
   "source": [
    "RWN_Revisit_MID_merge.rename(columns={'_merge':'Is in Google Daily File?'}, inplace=True)"
   ]
  },
  {
   "cell_type": "code",
   "execution_count": null,
   "id": "e3c1c460",
   "metadata": {},
   "outputs": [],
   "source": [
    "RWN_Revisit_MID_merge['Is in Google Daily File?'] = RWN_Revisit_MID_merge[\n",
    "    'Is in Google Daily File?'].map({'both': 'Yes', 'left_only': 'No'})"
   ]
  },
  {
   "cell_type": "code",
   "execution_count": null,
   "id": "1376b1de",
   "metadata": {},
   "outputs": [],
   "source": [
    "RWN_Revisit_MID_merge.head(1)"
   ]
  },
  {
   "cell_type": "code",
   "execution_count": null,
   "id": "4de37f3b",
   "metadata": {},
   "outputs": [],
   "source": [
    "RWN_Revisit_MID_f = RWN_Revisit_MID_merge[['Merchant ID','Is in Google Daily File?']]"
   ]
  },
  {
   "cell_type": "code",
   "execution_count": null,
   "id": "ac79e8ec",
   "metadata": {},
   "outputs": [],
   "source": [
    "RWN_Revisit_f_merge = RWN_Revisit_f.merge(RWN_Revisit_MID_f, on='Merchant ID', how='left')"
   ]
  },
  {
   "cell_type": "code",
   "execution_count": null,
   "id": "829c64c5",
   "metadata": {},
   "outputs": [],
   "source": [
    "RWN_Revisit_f_merge.drop_duplicates(subset = ['Merchant ID'], inplace = True)"
   ]
  },
  {
   "cell_type": "code",
   "execution_count": null,
   "id": "f0591ffb",
   "metadata": {},
   "outputs": [],
   "source": [
    "RWN_Revisit_f_merge.head(1)"
   ]
  },
  {
   "cell_type": "code",
   "execution_count": null,
   "id": "d55c1ca2",
   "metadata": {},
   "outputs": [],
   "source": [
    "RWN_Revisit_f_merge.rename(columns={'Is in Google Daily File?':'google_daily_file'}, inplace=True)"
   ]
  },
  {
   "cell_type": "code",
   "execution_count": null,
   "id": "4df02ccc",
   "metadata": {},
   "outputs": [],
   "source": [
    "RWN_Revisit_f_merge.shape"
   ]
  },
  {
   "cell_type": "code",
   "execution_count": null,
   "id": "dc7e495a",
   "metadata": {},
   "outputs": [],
   "source": [
    "RWN_Revisit_f = RWN_Revisit_f_merge"
   ]
  },
  {
   "cell_type": "code",
   "execution_count": null,
   "id": "2f13fbee",
   "metadata": {},
   "outputs": [],
   "source": [
    "RWN_Revisit_f.head(1)"
   ]
  },
  {
   "cell_type": "code",
   "execution_count": null,
   "id": "395be0f9",
   "metadata": {},
   "outputs": [],
   "source": [
    "df_G4.head(1)"
   ]
  },
  {
   "cell_type": "code",
   "execution_count": null,
   "id": "9d778e23",
   "metadata": {},
   "outputs": [],
   "source": [
    "df_G5 = df_G4[['MerchantExternalId', 'CompletedSubTaskTypes']]"
   ]
  },
  {
   "cell_type": "code",
   "execution_count": null,
   "id": "9bcd76a0",
   "metadata": {},
   "outputs": [],
   "source": [
    "RWN_Revisit_c = RWN_Revisit_f[[\n",
    "    'Merchant ID', 'Merchant Ext ID']].rename(columns={'Merchant Ext ID':'MerchantExternalId'})"
   ]
  },
  {
   "cell_type": "code",
   "execution_count": null,
   "id": "3d345a8c",
   "metadata": {},
   "outputs": [],
   "source": [
    "RWN_Revisit_c.head(1)"
   ]
  },
  {
   "cell_type": "code",
   "execution_count": null,
   "id": "61b7e0e0",
   "metadata": {},
   "outputs": [],
   "source": [
    "RWN_Revisit_c_merge = RWN_Revisit_c.merge(df_G5, how='left', on='MerchantExternalId')\n",
    "RWN_Revisit_c_merge.head(1)"
   ]
  },
  {
   "cell_type": "code",
   "execution_count": null,
   "id": "653270d2",
   "metadata": {},
   "outputs": [],
   "source": [
    "RWN_Revisit_c_merge.drop_duplicates(subset = ['Merchant ID'], inplace = True)"
   ]
  },
  {
   "cell_type": "code",
   "execution_count": null,
   "id": "88cc8c3a",
   "metadata": {},
   "outputs": [],
   "source": [
    "RWN_Revisit_c_merge.head(1)"
   ]
  },
  {
   "cell_type": "code",
   "execution_count": null,
   "id": "9d718fd4",
   "metadata": {},
   "outputs": [],
   "source": [
    "RWN_Revisit_c_f = RWN_Revisit_c_merge[['Merchant ID', 'CompletedSubTaskTypes']]"
   ]
  },
  {
   "cell_type": "code",
   "execution_count": null,
   "id": "8d2a3c86",
   "metadata": {},
   "outputs": [],
   "source": [
    "RWN_Revisit_f_merge = RWN_Revisit_f.merge(RWN_Revisit_c_f, on='Merchant ID', how='left')"
   ]
  },
  {
   "cell_type": "code",
   "execution_count": null,
   "id": "74cff0d7",
   "metadata": {},
   "outputs": [],
   "source": [
    "RWN_Revisit_f_merge.drop_duplicates(subset=['Merchant ID'], inplace=True)"
   ]
  },
  {
   "cell_type": "code",
   "execution_count": null,
   "id": "5ffc1958",
   "metadata": {},
   "outputs": [],
   "source": [
    "RWN_Revisit_f_merge.head(1)"
   ]
  },
  {
   "cell_type": "code",
   "execution_count": null,
   "id": "50cefc66",
   "metadata": {},
   "outputs": [],
   "source": [
    "RWN_Revisit_c3 = RWN_Revisit_f_merge"
   ]
  },
  {
   "cell_type": "markdown",
   "id": "98ef5f77",
   "metadata": {},
   "source": [
    "# Task Count\n",
    "### Counting the lenght of the string in dataframe and substracting it"
   ]
  },
  {
   "cell_type": "code",
   "execution_count": null,
   "id": "7ab15f16",
   "metadata": {},
   "outputs": [],
   "source": [
    "RWM_Revisit_mid_cstt = RWN_Revisit_c3.filter(['Merchant ID' ,'Merchant Ext ID', 'CompletedSubTaskTypes'])"
   ]
  },
  {
   "cell_type": "code",
   "execution_count": null,
   "id": "d000570e",
   "metadata": {},
   "outputs": [],
   "source": [
    "RWM_Revisit_mid_cstt"
   ]
  },
  {
   "cell_type": "code",
   "execution_count": null,
   "id": "77661a40",
   "metadata": {},
   "outputs": [],
   "source": [
    "RWM_Revisit_mid_cstt['Total Len'] = RWM_Revisit_mid_cstt['CompletedSubTaskTypes'].str.len()"
   ]
  },
  {
   "cell_type": "code",
   "execution_count": null,
   "id": "53c79f14",
   "metadata": {},
   "outputs": [],
   "source": [
    "RWM_Revisit_mid_cstt.head(1)"
   ]
  },
  {
   "cell_type": "code",
   "execution_count": null,
   "id": "64dd11f3",
   "metadata": {},
   "outputs": [],
   "source": [
    "RWM_Revisit_mid_cstt['CompletedSubTaskTypes with no space'] = RWM_Revisit_mid_cstt[\n",
    "    'CompletedSubTaskTypes'].str.replace(\" \", '')"
   ]
  },
  {
   "cell_type": "code",
   "execution_count": null,
   "id": "07ddad79",
   "metadata": {},
   "outputs": [],
   "source": [
    "RWM_Revisit_mid_cstt['Total Len with no space'] = RWM_Revisit_mid_cstt['CompletedSubTaskTypes with no space'].str.len()"
   ]
  },
  {
   "cell_type": "code",
   "execution_count": null,
   "id": "57c948e6",
   "metadata": {},
   "outputs": [],
   "source": [
    "RWM_Revisit_mid_cstt['Task Count'] = RWM_Revisit_mid_cstt[\n",
    "    'Total Len'] - RWM_Revisit_mid_cstt['Total Len with no space']"
   ]
  },
  {
   "cell_type": "code",
   "execution_count": null,
   "id": "bb7aa917",
   "metadata": {},
   "outputs": [],
   "source": [
    "RWM_Revisit_mid_cstt['Task Count'].fillna(-1, inplace = True)"
   ]
  },
  {
   "cell_type": "code",
   "execution_count": null,
   "id": "b52aefad",
   "metadata": {},
   "outputs": [],
   "source": [
    "RWM_Revisit_mid_cstt['Task Count'] = RWM_Revisit_mid_cstt['Task Count'] + 1"
   ]
  },
  {
   "cell_type": "code",
   "execution_count": null,
   "id": "24a11612",
   "metadata": {},
   "outputs": [],
   "source": [
    "RWM_Revisit_mid_cstt['Task Count'] = RWM_Revisit_mid_cstt['Task Count'].replace(0,np.nan)"
   ]
  },
  {
   "cell_type": "code",
   "execution_count": null,
   "id": "733815c3",
   "metadata": {},
   "outputs": [],
   "source": [
    "RWM_Revisit_mid_cstt.head(1)"
   ]
  },
  {
   "cell_type": "code",
   "execution_count": null,
   "id": "d42bb537",
   "metadata": {},
   "outputs": [],
   "source": [
    "RWM_Revisit_mid_cstt_f = RWM_Revisit_mid_cstt.filter(['Merchant ID', 'Merchant Ext ID', 'Task Count'])"
   ]
  },
  {
   "cell_type": "code",
   "execution_count": null,
   "id": "7d330c39",
   "metadata": {},
   "outputs": [],
   "source": [
    "RWM_Revisit_mid_cstt_f.head(1)"
   ]
  },
  {
   "cell_type": "code",
   "execution_count": null,
   "id": "8e028fea",
   "metadata": {},
   "outputs": [],
   "source": [
    "RWN_Revisit_c3.shape"
   ]
  },
  {
   "cell_type": "code",
   "execution_count": null,
   "id": "f2bec309",
   "metadata": {},
   "outputs": [],
   "source": [
    "RWN_Revisit_concat = pd.concat([RWN_Revisit_c3, RWM_Revisit_mid_cstt_f['Task Count']], axis = 1, join = 'inner')"
   ]
  },
  {
   "cell_type": "code",
   "execution_count": null,
   "id": "3cbf0399",
   "metadata": {},
   "outputs": [],
   "source": [
    "RWN_Revisit_c4 = RWN_Revisit_concat"
   ]
  },
  {
   "cell_type": "markdown",
   "id": "3b70f4b7",
   "metadata": {},
   "source": [
    "# PreProvisionedQRCount, StickerQRCount, StandeeQRCount"
   ]
  },
  {
   "cell_type": "code",
   "execution_count": null,
   "id": "474ff993",
   "metadata": {},
   "outputs": [],
   "source": [
    "RWN_Revisit_c4_f = RWN_Revisit_c4.filter([\n",
    "    'Merchant ID', 'Merchant Ext ID']).rename(columns={'Merchant Ext ID':'MerchantExternalId'})\n",
    "RWN_Revisit_c4_f.shape"
   ]
  },
  {
   "cell_type": "code",
   "execution_count": null,
   "id": "807ebd7a",
   "metadata": {},
   "outputs": [],
   "source": [
    "RWN_Revisit_c4_f.head(1)"
   ]
  },
  {
   "cell_type": "code",
   "execution_count": null,
   "id": "e6efa72a",
   "metadata": {},
   "outputs": [],
   "source": [
    "df_G4.shape"
   ]
  },
  {
   "cell_type": "code",
   "execution_count": null,
   "id": "8be1e01a",
   "metadata": {},
   "outputs": [],
   "source": [
    "df_G4.head(1)"
   ]
  },
  {
   "cell_type": "code",
   "execution_count": null,
   "id": "b8cba1ce",
   "metadata": {},
   "outputs": [],
   "source": [
    "df_G4_f = df_G4.filter(['MerchantExternalId', 'PreProvisionedQRCount', 'StickerQRCount', 'StandeeQRCount'])\n",
    "df_G4_f.head(1)"
   ]
  },
  {
   "cell_type": "markdown",
   "id": "85ca29e4",
   "metadata": {},
   "source": [
    "### Merging dataframe df_G4_f with the RWN_Revisit_c4_f "
   ]
  },
  {
   "cell_type": "code",
   "execution_count": null,
   "id": "7f1524d6",
   "metadata": {},
   "outputs": [],
   "source": [
    "RWN_Revisit_c4_merge = RWN_Revisit_c4_f.merge(df_G4_f, how='left', on='MerchantExternalId')"
   ]
  },
  {
   "cell_type": "code",
   "execution_count": null,
   "id": "f103c9db",
   "metadata": {},
   "outputs": [],
   "source": [
    "RWN_Revisit_c4_merge_f = RWN_Revisit_c4_merge.filter(['PreProvisionedQRCount', 'StickerQRCount', 'StandeeQRCount'])"
   ]
  },
  {
   "cell_type": "markdown",
   "id": "57366db7",
   "metadata": {},
   "source": [
    "### Concate the column with the original dataframe"
   ]
  },
  {
   "cell_type": "code",
   "execution_count": null,
   "id": "61528e2f",
   "metadata": {},
   "outputs": [],
   "source": [
    "RWN_Revisit_c4_concat = pd.concat([RWN_Revisit_c4, RWN_Revisit_c4_merge_f], axis = 1, join = 'inner')"
   ]
  },
  {
   "cell_type": "code",
   "execution_count": null,
   "id": "40530426",
   "metadata": {},
   "outputs": [],
   "source": [
    "RWN_Revisit_c4_concat.head(1)"
   ]
  },
  {
   "cell_type": "code",
   "execution_count": null,
   "id": "f90bc473",
   "metadata": {},
   "outputs": [],
   "source": [
    "RWN_Revisit_c5 = RWN_Revisit_c4_concat"
   ]
  },
  {
   "cell_type": "markdown",
   "id": "52d53ffa",
   "metadata": {},
   "source": [
    "# Validity"
   ]
  },
  {
   "cell_type": "code",
   "execution_count": null,
   "id": "673041fa",
   "metadata": {},
   "outputs": [],
   "source": [
    "df_G4.shape"
   ]
  },
  {
   "cell_type": "code",
   "execution_count": null,
   "id": "37274445",
   "metadata": {},
   "outputs": [],
   "source": [
    "df_G4.head(1)"
   ]
  },
  {
   "cell_type": "code",
   "execution_count": null,
   "id": "ac234ef7",
   "metadata": {},
   "outputs": [],
   "source": [
    "RWN_Revisit_c5.shape"
   ]
  },
  {
   "cell_type": "code",
   "execution_count": null,
   "id": "b49d1fd2",
   "metadata": {},
   "outputs": [],
   "source": [
    "RWN_Revisit_c5.head(1)"
   ]
  },
  {
   "cell_type": "code",
   "execution_count": null,
   "id": "4d96676b",
   "metadata": {},
   "outputs": [],
   "source": [
    "df_G4_f = df_G4.filter(['MerchantExternalId', 'Validity'])"
   ]
  },
  {
   "cell_type": "code",
   "execution_count": null,
   "id": "7066e52d",
   "metadata": {},
   "outputs": [],
   "source": [
    "RWN_Revisit_c5_f = RWN_Revisit_c5.filter(['Merchant ID', 'Merchant Ext ID']).rename(\n",
    "    columns={'Merchant Ext ID':'MerchantExternalId'})"
   ]
  },
  {
   "cell_type": "code",
   "execution_count": null,
   "id": "73a23828",
   "metadata": {},
   "outputs": [],
   "source": [
    "RWN_Revisit_c5_f.head(1)"
   ]
  },
  {
   "cell_type": "code",
   "execution_count": null,
   "id": "74b3830c",
   "metadata": {},
   "outputs": [],
   "source": [
    "RWN_Revisit_c5_f_merge = RWN_Revisit_c5_f.merge(df_G4_f, how='left' , on= 'MerchantExternalId')"
   ]
  },
  {
   "cell_type": "code",
   "execution_count": null,
   "id": "da2a79f2",
   "metadata": {},
   "outputs": [],
   "source": [
    "RWN_Revisit_c5_f_merge.drop_duplicates(subset='Merchant ID', inplace=True)"
   ]
  },
  {
   "cell_type": "code",
   "execution_count": null,
   "id": "7c568afe",
   "metadata": {},
   "outputs": [],
   "source": [
    "RWN_Revisit_c5_f_merge.shape"
   ]
  },
  {
   "cell_type": "code",
   "execution_count": null,
   "id": "cb221bea",
   "metadata": {},
   "outputs": [],
   "source": [
    "RWN_Revisit_c5_f_merge.head(1)"
   ]
  },
  {
   "cell_type": "code",
   "execution_count": null,
   "id": "dd4ea91d",
   "metadata": {},
   "outputs": [],
   "source": [
    "RWN_Revisit_c5_f2 = RWN_Revisit_c5_f_merge.filter(['Validity'])"
   ]
  },
  {
   "cell_type": "code",
   "execution_count": null,
   "id": "afe958aa",
   "metadata": {},
   "outputs": [],
   "source": [
    "RWN_Revisit_c5_f2.head(1)"
   ]
  },
  {
   "cell_type": "code",
   "execution_count": null,
   "id": "b6e3b2d9",
   "metadata": {},
   "outputs": [],
   "source": [
    "RWN_Revisit_c5_f_concat = pd.concat([RWN_Revisit_c5, RWN_Revisit_c5_f2], axis = 1, join='inner')"
   ]
  },
  {
   "cell_type": "code",
   "execution_count": null,
   "id": "51462df2",
   "metadata": {},
   "outputs": [],
   "source": [
    "RWN_Revisit_c6 = RWN_Revisit_c5_f_concat"
   ]
  },
  {
   "cell_type": "code",
   "execution_count": null,
   "id": "1dcf445b",
   "metadata": {},
   "outputs": [],
   "source": [
    "RWN_Revisit_c6.shape"
   ]
  },
  {
   "cell_type": "markdown",
   "id": "ca3771f9",
   "metadata": {},
   "source": [
    "# Updating validity from google final"
   ]
  },
  {
   "cell_type": "code",
   "execution_count": null,
   "id": "0caf2b54",
   "metadata": {},
   "outputs": [],
   "source": [
    "google_final.head(1)"
   ]
  },
  {
   "cell_type": "code",
   "execution_count": null,
   "id": "04e84c8e",
   "metadata": {},
   "outputs": [],
   "source": [
    "google_final_f = google_final[['MerchantExternalId', 'Validity']].rename(\n",
    "    columns={'MerchantExternalId':'Merchant Ext ID','Validity':'Validity_2'})"
   ]
  },
  {
   "cell_type": "code",
   "execution_count": null,
   "id": "a4fed663",
   "metadata": {},
   "outputs": [],
   "source": [
    "RWN_Revisit_c6_merge_2 = RWN_Revisit_c6.merge(google_final_f, on='Merchant Ext ID', how='left')"
   ]
  },
  {
   "cell_type": "code",
   "execution_count": null,
   "id": "36f6c15d",
   "metadata": {},
   "outputs": [],
   "source": [
    "RWN_Revisit_c6_merge_2.drop_duplicates(subset = ['Merchant ID'], inplace=True)"
   ]
  },
  {
   "cell_type": "code",
   "execution_count": null,
   "id": "7b7bb24b",
   "metadata": {},
   "outputs": [],
   "source": [
    "RWN_Revisit_c6_merge_2['Validity_2'].fillna(RWN_Revisit_c6_merge_2['Validity'], inplace=True)"
   ]
  },
  {
   "cell_type": "code",
   "execution_count": null,
   "id": "25619803",
   "metadata": {},
   "outputs": [],
   "source": [
    "RWN_Revisit_c6 = RWN_Revisit_c6_merge_2"
   ]
  },
  {
   "cell_type": "code",
   "execution_count": null,
   "id": "d6499263",
   "metadata": {},
   "outputs": [],
   "source": [
    "RWN_Revisit_c6.shape"
   ]
  },
  {
   "cell_type": "code",
   "execution_count": null,
   "id": "2c001dba",
   "metadata": {},
   "outputs": [],
   "source": [
    "RWN_Revisit_c6.head(1)"
   ]
  },
  {
   "cell_type": "markdown",
   "id": "ecd9320b",
   "metadata": {},
   "source": [
    "# InvalidReasons"
   ]
  },
  {
   "cell_type": "code",
   "execution_count": null,
   "id": "fd65482a",
   "metadata": {},
   "outputs": [],
   "source": [
    "df_G4.head(1)"
   ]
  },
  {
   "cell_type": "code",
   "execution_count": null,
   "id": "503f2a34",
   "metadata": {},
   "outputs": [],
   "source": [
    "RWN_Revisit_c6.head(1)"
   ]
  },
  {
   "cell_type": "code",
   "execution_count": null,
   "id": "6ad62626",
   "metadata": {},
   "outputs": [],
   "source": [
    "df_G4_f = df_G4.filter(['MerchantExternalId', 'InvalidReasons']) "
   ]
  },
  {
   "cell_type": "code",
   "execution_count": null,
   "id": "1768e435",
   "metadata": {},
   "outputs": [],
   "source": [
    "RWN_Revisit_c6_f = RWN_Revisit_c6.filter([\n",
    "    'Merchant ID', 'Merchant Ext ID']).rename(columns={'Merchant Ext ID':'MerchantExternalId'})"
   ]
  },
  {
   "cell_type": "code",
   "execution_count": null,
   "id": "902ae59c",
   "metadata": {},
   "outputs": [],
   "source": [
    "RWN_Revisit_c6_f_merge = RWN_Revisit_c6_f.merge(df_G4_f, how='left', on='MerchantExternalId')"
   ]
  },
  {
   "cell_type": "code",
   "execution_count": null,
   "id": "2ec71380",
   "metadata": {},
   "outputs": [],
   "source": [
    "RWN_Revisit_c6_f2 = RWN_Revisit_c6_f_merge.filter(['InvalidReasons'])"
   ]
  },
  {
   "cell_type": "code",
   "execution_count": null,
   "id": "0254d59d",
   "metadata": {},
   "outputs": [],
   "source": [
    "RWN_Revisit_c6_f2.head(1)"
   ]
  },
  {
   "cell_type": "code",
   "execution_count": null,
   "id": "6468531e",
   "metadata": {},
   "outputs": [],
   "source": [
    "RWN_Revisit_c6.head(1)"
   ]
  },
  {
   "cell_type": "code",
   "execution_count": null,
   "id": "6f068e69",
   "metadata": {},
   "outputs": [],
   "source": [
    "RWN_Revisit_c6_concat = pd.concat([RWN_Revisit_c6, RWN_Revisit_c6_f2], axis = 1, join = 'inner') \n",
    "RWN_Revisit_c6_concat.head(1)"
   ]
  },
  {
   "cell_type": "code",
   "execution_count": null,
   "id": "c33b173d",
   "metadata": {},
   "outputs": [],
   "source": [
    "RWN_Revisit_c7 = RWN_Revisit_c6_concat"
   ]
  },
  {
   "cell_type": "markdown",
   "id": "a44a4a70",
   "metadata": {},
   "source": [
    "# Google Pincode"
   ]
  },
  {
   "cell_type": "code",
   "execution_count": null,
   "id": "f9b84900",
   "metadata": {},
   "outputs": [],
   "source": [
    "df_G4.head(1)"
   ]
  },
  {
   "cell_type": "code",
   "execution_count": null,
   "id": "1e9013e7",
   "metadata": {},
   "outputs": [],
   "source": [
    "df_G4_f_1 = df_G4.filter(['MerchantExternalId', 'Pincode'])\n",
    "df_G4_f_2 = df_G4.filter(['StorePhoneNumber', 'Pincode']).rename(columns={'Pincode':'Pincode_2'})"
   ]
  },
  {
   "cell_type": "code",
   "execution_count": null,
   "id": "fb86140a",
   "metadata": {},
   "outputs": [],
   "source": [
    "RWN_Revisit_c7_f = RWN_Revisit_c7.filter([\n",
    "     'Merchant ID', 'Merchant Ext ID', 'Owner Mobile No.','google_daily_file']).rename(columns={\n",
    "    'Merchant Ext ID':'MerchantExternalId', 'Owner Mobile No.': 'StorePhoneNumber'})\n",
    "RWN_Revisit_c7_f.head(1)"
   ]
  },
  {
   "cell_type": "code",
   "execution_count": null,
   "id": "f6d0c79e",
   "metadata": {},
   "outputs": [],
   "source": [
    "RWN_Revisit_c7_f.shape"
   ]
  },
  {
   "cell_type": "code",
   "execution_count": null,
   "id": "7e7fbce1",
   "metadata": {},
   "outputs": [],
   "source": [
    "Filt_yes = RWN_Revisit_c7_f['google_daily_file'] == 'Yes'"
   ]
  },
  {
   "cell_type": "code",
   "execution_count": null,
   "id": "a1b98b3b",
   "metadata": {},
   "outputs": [],
   "source": [
    "RWN_Revisit_c7_f2 = RWN_Revisit_c7_f[Filt_yes]"
   ]
  },
  {
   "cell_type": "code",
   "execution_count": null,
   "id": "41dba58d",
   "metadata": {},
   "outputs": [],
   "source": [
    "RWN_Revisit_c7_f = RWN_Revisit_c7_f2"
   ]
  },
  {
   "cell_type": "code",
   "execution_count": null,
   "id": "14c82bba",
   "metadata": {},
   "outputs": [],
   "source": [
    "RWN_Revisit_c7_f.shape"
   ]
  },
  {
   "cell_type": "code",
   "execution_count": null,
   "id": "5e8bd8a3",
   "metadata": {},
   "outputs": [],
   "source": [
    "RWN_Revisit_c7_f_merge_1 = RWN_Revisit_c7_f.merge(df_G4_f_1, how = 'left', on = 'MerchantExternalId')"
   ]
  },
  {
   "cell_type": "code",
   "execution_count": null,
   "id": "3b758830",
   "metadata": {},
   "outputs": [],
   "source": [
    "RWN_Revisit_c7_f_merge_2 = RWN_Revisit_c7_f_merge_1.merge(df_G4_f_2, how = 'left', on = 'StorePhoneNumber')"
   ]
  },
  {
   "cell_type": "code",
   "execution_count": null,
   "id": "c6f8e34c",
   "metadata": {},
   "outputs": [],
   "source": [
    "RWN_Revisit_c7_f_merge_2['Pincode'].fillna(RWN_Revisit_c7_f_merge_2['Pincode_2'], inplace = True)"
   ]
  },
  {
   "cell_type": "code",
   "execution_count": null,
   "id": "e26c7015",
   "metadata": {},
   "outputs": [],
   "source": [
    "RWN_Revisit_c7_f_merge_2_f = RWN_Revisit_c7_f_merge_2[['MerchantExternalId', 'Pincode']]"
   ]
  },
  {
   "cell_type": "code",
   "execution_count": null,
   "id": "63aa88f8",
   "metadata": {},
   "outputs": [],
   "source": [
    "RWN_Revisit_c7_f_merge_2_f.rename(\n",
    "    columns={'MerchantExternalId':'Merchant Ext ID','Pincode': 'Google Pincode'}, inplace=True)"
   ]
  },
  {
   "cell_type": "code",
   "execution_count": null,
   "id": "4f5b9688",
   "metadata": {},
   "outputs": [],
   "source": [
    "RWN_Revisit_c7_merge = RWN_Revisit_c7.merge(RWN_Revisit_c7_f_merge_2_f, how = 'left', on= 'Merchant Ext ID')"
   ]
  },
  {
   "cell_type": "code",
   "execution_count": null,
   "id": "b23f72b8",
   "metadata": {},
   "outputs": [],
   "source": [
    "RWN_Revisit_c8 = RWN_Revisit_c7_merge"
   ]
  },
  {
   "cell_type": "code",
   "execution_count": null,
   "id": "cb235357",
   "metadata": {},
   "outputs": [],
   "source": [
    "RWN_Revisit_c8.head(1)"
   ]
  },
  {
   "cell_type": "code",
   "execution_count": null,
   "id": "ab6af444",
   "metadata": {},
   "outputs": [],
   "source": [
    "# Start from here"
   ]
  },
  {
   "cell_type": "code",
   "execution_count": null,
   "id": "595e5015",
   "metadata": {},
   "outputs": [],
   "source": []
  },
  {
   "cell_type": "markdown",
   "id": "4bf67c51",
   "metadata": {},
   "source": [
    "# Source file match"
   ]
  },
  {
   "cell_type": "code",
   "execution_count": null,
   "id": "152faef8",
   "metadata": {},
   "outputs": [],
   "source": [
    "input_loc_source = \"/home/dhrubakumardolai/Desktop/Python Test/Target/Source Match/\""
   ]
  },
  {
   "cell_type": "code",
   "execution_count": null,
   "id": "452d936f",
   "metadata": {},
   "outputs": [],
   "source": []
  },
  {
   "cell_type": "code",
   "execution_count": null,
   "id": "bf314f13",
   "metadata": {},
   "outputs": [],
   "source": [
    "target_file = RWN_Revisit_c8[['Merchant ID', 'Owner Mobile No.', 'Merchant Ext ID', \n",
    "\"Revisit Date\"]].rename(columns={'Owner Mobile No.':\"StorePhoneNumber\", \"Merchant Ext ID\":\"MerchantExternalId\"})"
   ]
  },
  {
   "cell_type": "code",
   "execution_count": null,
   "id": "0e0917fe",
   "metadata": {},
   "outputs": [],
   "source": [
    "target_file.head(1)"
   ]
  },
  {
   "cell_type": "code",
   "execution_count": null,
   "id": "cb41344e",
   "metadata": {},
   "outputs": [],
   "source": [
    "target_file['Primary_key'] = range(1,(1+len(target_file)))"
   ]
  },
  {
   "cell_type": "code",
   "execution_count": null,
   "id": "4ae0921b",
   "metadata": {},
   "outputs": [],
   "source": []
  },
  {
   "cell_type": "code",
   "execution_count": null,
   "id": "05202726",
   "metadata": {},
   "outputs": [],
   "source": [
    "Dynamic_source_aug.head(1)"
   ]
  },
  {
   "cell_type": "code",
   "execution_count": null,
   "id": "3e24bf09",
   "metadata": {
    "scrolled": false
   },
   "outputs": [],
   "source": [
    "Source_data_Q1_2022.head(1)"
   ]
  },
  {
   "cell_type": "code",
   "execution_count": null,
   "id": "ef2f891f",
   "metadata": {},
   "outputs": [],
   "source": [
    "Source_data_Q2_2022.head(1)"
   ]
  },
  {
   "cell_type": "code",
   "execution_count": null,
   "id": "9ddfa3ee",
   "metadata": {
    "scrolled": true
   },
   "outputs": [],
   "source": [
    "Source_data_Q1_2022_ingestion.head(1)"
   ]
  },
  {
   "cell_type": "code",
   "execution_count": null,
   "id": "e43076f3",
   "metadata": {
    "scrolled": false
   },
   "outputs": [],
   "source": [
    "For_matching.head(1)"
   ]
  },
  {
   "cell_type": "code",
   "execution_count": null,
   "id": "012a2b9c",
   "metadata": {},
   "outputs": [],
   "source": [
    "Vaco_RV_Q2_2022.head(1)"
   ]
  },
  {
   "cell_type": "code",
   "execution_count": null,
   "id": "ec874747",
   "metadata": {},
   "outputs": [],
   "source": [
    "Vaco_RV_Q2_2022.shape"
   ]
  },
  {
   "cell_type": "markdown",
   "id": "dd3fd2c5",
   "metadata": {},
   "source": [
    "### Dynamic Source Match"
   ]
  },
  {
   "cell_type": "code",
   "execution_count": null,
   "id": "af1df1b7",
   "metadata": {
    "scrolled": true
   },
   "outputs": [],
   "source": [
    "Dynamic_source_aug_f = Dynamic_source_aug[['MerchantId', 'Objectives', 'IngestionStatus', 'Report Date', \n",
    "                                           'Ingestion Date', 'Revisit Expire Date']]"
   ]
  },
  {
   "cell_type": "code",
   "execution_count": null,
   "id": "75f037b3",
   "metadata": {},
   "outputs": [],
   "source": [
    "Dynamic_source_aug_f.drop_duplicates(subset=['MerchantId'], keep='last', inplace=True)"
   ]
  },
  {
   "cell_type": "code",
   "execution_count": null,
   "id": "79f0b7cd",
   "metadata": {},
   "outputs": [],
   "source": [
    "Dynamic_source_aug_f.rename(columns={'MerchantId':'MerchantExternalId'}, inplace=True)"
   ]
  },
  {
   "cell_type": "code",
   "execution_count": null,
   "id": "a6f032fc",
   "metadata": {},
   "outputs": [],
   "source": [
    "Dynamic_source_aug_f['Objectives'].replace('checkin-nob', \"Active\", inplace=True)\n",
    "Dynamic_source_aug_f['Objectives'].replace('inactive | stuck_settlements', 'inactive', inplace=True)\n",
    "Dynamic_source_aug_f['Objectives'].replace('support | stuck_settlements', 'support', inplace=True)\n",
    "Dynamic_source_aug_f['Objectives'].replace('stuck_settlements | inactive', 'inactive', inplace=True)\n",
    "Dynamic_source_aug_f['Objectives'].replace('stuck_settlements | active', 'active', inplace=True)\n",
    "Dynamic_source_aug_f['Objectives'].replace('stuck_settlements | support', 'support', inplace=True)\n",
    "Dynamic_source_aug_f['Objectives'].replace('P0 | active | checkin-nob', 'PO| active', inplace=True)\n",
    "Dynamic_source_aug_f['Objectives'].replace('active | stuck_settlements | P0', 'active|P0', inplace=True)\n",
    "Dynamic_source_aug_f['Objectives'].replace('active | P0 | checkin-nob', 'active|P0', inplace=True)\n",
    "Dynamic_source_aug_f['Objectives'].replace('active | stuck_settlements', 'active', inplace=True)\n",
    "Dynamic_source_aug_f['Objectives'].replace('checkin-nob | active | P0', 'active|P0', inplace=True)"
   ]
  },
  {
   "cell_type": "code",
   "execution_count": null,
   "id": "4dd06f10",
   "metadata": {},
   "outputs": [],
   "source": [
    "Dynamic_source_aug_f['Objectives'].replace('checkin-nob | P0 | active', 'PO| active', inplace=True)\n",
    "Dynamic_source_aug_f['Objectives'].replace('active | REVIEW_MERCHANT_EDIT', 'active', inplace=True)\n",
    "Dynamic_source_aug_f['Objectives'].replace('NULL', np.nan, inplace=True)\n",
    "Dynamic_source_aug_f['Objectives'].replace('REVIEW_MERCHANT_EDIT | inactive', 'inactive', inplace=True)\n",
    "Dynamic_source_aug_f['Objectives'].replace('P0 | checkin-nob | active', 'PO| active', inplace=True)\n",
    "Dynamic_source_aug_f['Objectives'].replace('REVIEW_MERCHANT_EDIT | active', 'active', inplace=True)\n",
    "Dynamic_source_aug_f['Objectives'].replace('stuck_settlements | active | P0', 'active|P0', inplace=True)\n",
    "Dynamic_source_aug_f['Objectives'].replace('checkin-nob | REVIEW_MERCHANT_EDIT', 'Revisit_Merchant_Edit', inplace=True)\n",
    "Dynamic_source_aug_f['Objectives'].replace('active | checkin-nob | P0', 'active|P0', inplace=True)\n",
    "Dynamic_source_aug_f['Objectives'].replace('inactive | REVIEW_MERCHANT_EDIT', 'inactive', inplace=True)\n",
    "Dynamic_source_aug_f['Objectives'].replace('P0 | REVIEW_MERCHANT_EDIT | active', 'PO| active', inplace=True)\n",
    "Dynamic_source_aug_f['Objectives'].replace('stuck_settlements | inactive | REVIEW_MERCHANT_EDIT', 'inactive', inplace=True)\n",
    "Dynamic_source_aug_f['Objectives'].replace('stuck_settlements | checkin-nob', 'stuck_settlements', inplace=True)"
   ]
  },
  {
   "cell_type": "code",
   "execution_count": null,
   "id": "f90a3e33",
   "metadata": {},
   "outputs": [],
   "source": [
    "Dynamic_source_aug_f['Objectives'].replace('active | P0 | stuck_settlements', 'active|P0', inplace=True)\n",
    "Dynamic_source_aug_f['Objectives'].replace('active | P0 | REVIEW_MERCHANT_EDIT', 'active|P0', inplace=True)\n",
    "Dynamic_source_aug_f['Objectives'].replace('P0 | active | REVIEW_MERCHANT_EDIT', 'PO| active', inplace=True)\n",
    "Dynamic_source_aug_f['Objectives'].replace('stuck_settlements | P0 | active', 'PO| active', inplace=True)\n",
    "Dynamic_source_aug_f['Objectives'].replace('active | REVIEW_MERCHANT_EDIT | P0', 'active|P0', inplace=True)\n",
    "Dynamic_source_aug_f['Objectives'].replace('REVIEW_MERCHANT_EDIT | checkin-nob | active | P0', 'active|P0', inplace=True)\n",
    "Dynamic_source_aug_f['Objectives'].replace('stuck_settlements | credit', 'credit', inplace=True)\n",
    "Dynamic_source_aug_f['Objectives'].replace('credit | stuck_settlements', 'credit', inplace=True)\n",
    "Dynamic_source_aug_f['Objectives'].replace('REVIEW_MERCHANT_EDIT | P0 | active', 'active|P0', inplace=True)\n",
    "Dynamic_source_aug_f['Objectives'].replace('P0 | stuck_settlements | active', 'active|P0', inplace=True)\n",
    "Dynamic_source_aug_f['Objectives'].replace('REVIEW_MERCHANT_EDIT | stuck_settlements | support', 'Support', inplace=True)\n",
    "Dynamic_source_aug_f['Objectives'].replace('checkin-nob | P0 | active | REVIEW_MERCHANT_EDIT', 'active|P0', inplace=True)\n",
    "Dynamic_source_aug_f['Objectives'].replace('active | checkin-nob | stuck_settlements | P0', 'active|P0', inplace=True)\n",
    "Dynamic_source_aug_f['Objectives'].replace('P0 | REVIEW_MERCHANT_EDIT', 'Revisit_Merchant_Edit', inplace=True)"
   ]
  },
  {
   "cell_type": "code",
   "execution_count": null,
   "id": "55da9b7f",
   "metadata": {},
   "outputs": [],
   "source": [
    "Dynamic_source_aug_f['Objectives'].replace('P0 | active | stuck_settlements', 'active|P0', inplace=True)\n",
    "Dynamic_source_aug_f['Objectives'].replace('REVIEW_MERCHANT_EDIT | stuck_settlements', 'Revisit_Merchant_Edit', inplace=True)\n",
    "Dynamic_source_aug_f['Objectives'].replace('stuck_settlements | REVIEW_MERCHANT_EDIT', 'Revisit_Merchant_Edit', inplace=True)\n",
    "Dynamic_source_aug_f['Objectives'].replace('REVIEW_MERCHANT_EDIT | P0', 'Revisit_Merchant_Edit', inplace=True)\n",
    "Dynamic_source_aug_f['Objectives'].replace('REVIEW_MERCHANT_EDIT | active | P0', 'active|P0', inplace=True)\n",
    "Dynamic_source_aug_f['Objectives'].replace('REVIEW_MERCHANT_EDIT | credit', 'credit', inplace=True)\n",
    "Dynamic_source_aug_f['Objectives'].replace('REVIEW_MERCHANT_EDIT | checkin-nob', 'Revisit_Merchant_Edit', inplace=True)\n",
    "Dynamic_source_aug_f['Objectives'].replace('active | credit | stuck_settlements', 'active|credit ', inplace=True)\n",
    "Dynamic_source_aug_f['Objectives'].replace('credit | active', 'credit | active', inplace=True)\n",
    "Dynamic_source_aug_f['Objectives'].replace('REVIEW_MERCHANT_EDIT | support | stuck_settlements', 'support', inplace=True)\n",
    "Dynamic_source_aug_f['Objectives'].replace('checkin-nob | stuck_settlements', 'stuck_settlements', inplace=True)\n",
    "Dynamic_source_aug_f['Objectives'].replace('active | stuck_settlements | credit', 'active|credit', inplace=True)"
   ]
  },
  {
   "cell_type": "code",
   "execution_count": null,
   "id": "04b9f97e",
   "metadata": {},
   "outputs": [],
   "source": [
    "Dynamic_source_aug_f['Objectives'].replace('credit | REVIEW_MERCHANT_EDIT', 'credit', inplace=True)\n",
    "Dynamic_source_aug_f['Objectives'].replace('active | credit | REVIEW_MERCHANT_EDIT', 'active | credit', inplace=True)\n",
    "Dynamic_source_aug_f['Objectives'].replace('stuck_settlements | active | REVIEW_MERCHANT_EDIT', 'active', inplace=True)\n",
    "Dynamic_source_aug_f['Objectives'].replace('checkin-nob | active | REVIEW_MERCHANT_EDIT | P0', 'active|P0', inplace=True)\n",
    "Dynamic_source_aug_f['Objectives'].replace('active | REVIEW_MERCHANT_EDIT | credit', 'active|credit', inplace=True)\n",
    "Dynamic_source_aug_f['Objectives'].replace('stuck_settlements | REVIEW_MERCHANT_EDIT | active', 'active', inplace=True)\n",
    "Dynamic_source_aug_f['Objectives'].replace('REVIEW_MERCHANT_EDIT | checkin-nob | P0 | active', 'active|P0', inplace=True)\n",
    "Dynamic_source_aug_f['Objectives'].replace('REVIEW_MERCHANT_EDIT | active | credit', 'active|credit', inplace=True)\n",
    "Dynamic_source_aug_f['Objectives'].replace('active | stuck_settlements | REVIEW_MERCHANT_EDIT', 'active', inplace=True)\n",
    "Dynamic_source_aug_f['Objectives'].replace('inactive | stuck_settlements | REVIEW_MERCHANT_EDIT', 'inactive', inplace=True)\n",
    "Dynamic_source_aug_f['Objectives'].replace('REVIEW_MERCHANT_EDIT | active | stuck_settlements', 'active', inplace=True)\n",
    "Dynamic_source_aug_f['Objectives'].replace('stuck_settlements | active | REVIEW_MERCHANT_EDIT | P0', 'active|P0', inplace=True)\n",
    "Dynamic_source_aug_f['Objectives'].replace('REVIEW_MERCHANT_EDIT | P0 | active | checkin-nob', 'active|P0', inplace=True)\n",
    "Dynamic_source_aug_f['Objectives'].replace('credit | REVIEW_MERCHANT_EDIT | active', 'credit|active', inplace=True)"
   ]
  },
  {
   "cell_type": "code",
   "execution_count": null,
   "id": "08f8487f",
   "metadata": {},
   "outputs": [],
   "source": [
    "Dynamic_source_aug_f['Objectives'].replace('stuck_settlements | support | REVIEW_MERCHANT_EDIT', 'support', inplace=True)\n",
    "Dynamic_source_aug_f['Objectives'].replace('REVIEW_MERCHANT_EDIT | active | checkin-nob | P0', 'active|P0', inplace=True)\n",
    "Dynamic_source_aug_f['Objectives'].replace('support | stuck_settlements | REVIEW_MERCHANT_EDIT', 'support', inplace=True)\n",
    "Dynamic_source_aug_f['Objectives'].replace('REVIEW_MERCHANT_EDIT | P0 | checkin-nob | active', 'active|P0', inplace=True)\n",
    "Dynamic_source_aug_f['Objectives'].replace('P0 | checkin-nob | REVIEW_MERCHANT_EDIT | active', 'active|P0', inplace=True)\n",
    "Dynamic_source_aug_f['Objectives'].replace('credit | active | REVIEW_MERCHANT_EDIT', 'credit|active', inplace=True)\n",
    "Dynamic_source_aug_f['Objectives'].replace('checkin-nob | P0 | REVIEW_MERCHANT_EDIT | active', 'active|P0', inplace=True)\n",
    "Dynamic_source_aug_f['Objectives'].replace('checkin-nob | active | P0 | stuck_settlements', 'active|P0', inplace=True)\n",
    "Dynamic_source_aug_f['Objectives'].replace('P0 | REVIEW_MERCHANT_EDIT | active | checkin-nob', 'active|P0', inplace=True)\n",
    "Dynamic_source_aug_f['Objectives'].replace('active | P0 | REVIEW_MERCHANT_EDIT | checkin-nob', 'active|P0', inplace=True)\n",
    "Dynamic_source_aug_f['Objectives'].replace('REVIEW_MERCHANT_EDIT | inactive | stuck_settlements', 'inactive', inplace=True)\n",
    "Dynamic_source_aug_f['Objectives'].replace('P0 | active | checkin-nob | REVIEW_MERCHANT_EDIT', 'active|P0', inplace=True)\n",
    "Dynamic_source_aug_f['Objectives'].replace('credit | checkin-nob', 'credit', inplace=True)"
   ]
  },
  {
   "cell_type": "code",
   "execution_count": null,
   "id": "0b0842e9",
   "metadata": {},
   "outputs": [],
   "source": [
    "Dynamic_source_aug_f['Objectives'].replace('support | REVIEW_MERCHANT_EDIT', 'support', inplace=True)\n",
    "Dynamic_source_aug_f['Objectives'].replace('stuck_settlements | REVIEW_MERCHANT_EDIT | inactive', 'inactive', inplace=True)\n",
    "Dynamic_source_aug_f['Objectives'].replace('active | REVIEW_MERCHANT_EDIT | checkin-nob | P0', 'active|P0', inplace=True)\n",
    "Dynamic_source_aug_f['Objectives'].replace('active | REVIEW_MERCHANT_EDIT | stuck_settlements', 'active|P0', inplace=True)\n",
    "Dynamic_source_aug_f['Objectives'].replace('REVIEW_MERCHANT_EDIT | credit | active', 'credit|active', inplace=True)\n",
    "Dynamic_source_aug_f['Objectives'].replace('inactive | REVIEW_MERCHANT_EDIT | stuck_settlements', 'inactive', inplace=True)\n",
    "Dynamic_source_aug_f['Objectives'].replace('REVIEW_MERCHANT_EDIT | stuck_settlements | inactive', 'inactive', inplace=True)\n",
    "Dynamic_source_aug_f['Objectives'].replace('REVIEW_MERCHANT_EDIT | support', 'support', inplace=True)\n",
    "Dynamic_source_aug_f['Objectives'].replace('checkin-nob | REVIEW_MERCHANT_EDIT | P0 | active', 'active|P0', inplace=True)\n",
    "Dynamic_source_aug_f['Objectives'].replace('P0 | REVIEW_MERCHANT_EDIT | stuck_settlements', 'P0|stuck_settlements', inplace=True)\n",
    "Dynamic_source_aug_f['Objectives'].replace('REVIEW_MERCHANT_EDIT | stuck_settlements | active', 'active', inplace=True)\n",
    "Dynamic_source_aug_f['Objectives'].replace('stuck_settlements | REVIEW_MERCHANT_EDIT | support', 'support', inplace=True)"
   ]
  },
  {
   "cell_type": "code",
   "execution_count": null,
   "id": "4a0157d3",
   "metadata": {},
   "outputs": [],
   "source": [
    "Dynamic_source_aug_f['Objectives'].unique()"
   ]
  },
  {
   "cell_type": "code",
   "execution_count": null,
   "id": "a949363e",
   "metadata": {},
   "outputs": [],
   "source": [
    "Dynamic_source_aug_f['Objectives'] = Dynamic_source_aug_f['Objectives'].str.lower()"
   ]
  },
  {
   "cell_type": "code",
   "execution_count": null,
   "id": "ae208c67",
   "metadata": {},
   "outputs": [],
   "source": [
    "Dynamic_source_aug_f.rename(columns={'Objectives':'Segments'}, inplace=True)"
   ]
  },
  {
   "cell_type": "code",
   "execution_count": null,
   "id": "a1bd006d",
   "metadata": {},
   "outputs": [],
   "source": [
    "target_file_dynamic_match = target_file.merge(\n",
    "    Dynamic_source_aug_f, on='MerchantExternalId', how='left', indicator=True)"
   ]
  },
  {
   "cell_type": "code",
   "execution_count": null,
   "id": "8c6ba7d5",
   "metadata": {},
   "outputs": [],
   "source": [
    "target_file_dynamic_match.drop_duplicates(subset=['Primary_key'], inplace=True)"
   ]
  },
  {
   "cell_type": "code",
   "execution_count": null,
   "id": "69a84ffd",
   "metadata": {},
   "outputs": [],
   "source": [
    "target_file_dynamic_match.rename(columns={'_merge':'Is in Dynamic Source?'}, inplace=True)"
   ]
  },
  {
   "cell_type": "code",
   "execution_count": null,
   "id": "c43ff1cf",
   "metadata": {},
   "outputs": [],
   "source": [
    "target_file_dynamic_match['Is in Dynamic Source?'] = target_file_dynamic_match[\n",
    "    'Is in Dynamic Source?'].map({\"left_only\":\"No Match\", \"right_only\":'No Match', 'both':'Match'})"
   ]
  },
  {
   "cell_type": "code",
   "execution_count": null,
   "id": "03ead43b",
   "metadata": {},
   "outputs": [],
   "source": [
    "target_file_dynamic_match[\"Dynamic Validity\"] = target_file_dynamic_match[\n",
    "    'Is in Dynamic Source?'].map({'Match':\"VALID\", \"No Match\":np.nan})"
   ]
  },
  {
   "cell_type": "code",
   "execution_count": null,
   "id": "0d29cdf9",
   "metadata": {},
   "outputs": [],
   "source": [
    "target_file_dynamic_match['Is in Dynamic Source?_Final'] = target_file_dynamic_match['Is in Dynamic Source?']"
   ]
  },
  {
   "cell_type": "markdown",
   "id": "4863444f",
   "metadata": {},
   "source": [
    "# Is in Dynamic Source Visit Date Valid?"
   ]
  },
  {
   "cell_type": "code",
   "execution_count": null,
   "id": "75fe9999",
   "metadata": {
    "scrolled": true
   },
   "outputs": [],
   "source": [
    "target_file_dynamic_match.head(1)"
   ]
  },
  {
   "cell_type": "code",
   "execution_count": null,
   "id": "3250ade0",
   "metadata": {},
   "outputs": [],
   "source": [
    "target_file_dynamic_match_f = target_file_dynamic_match[['Primary_key', 'IngestionStatus' ,'Revisit Date', \n",
    "                                                         'Revisit Expire Date']]"
   ]
  },
  {
   "cell_type": "code",
   "execution_count": null,
   "id": "de19a3f2",
   "metadata": {},
   "outputs": [],
   "source": [
    "target_file_dynamic_match_f['Revisit Expire Date'] = pd.to_datetime(target_file_dynamic_match_f[\n",
    "    'Revisit Expire Date'])\n",
    "target_file_dynamic_match_f['Revisit Date'] = pd.to_datetime(target_file_dynamic_match_f[\n",
    "    'Revisit Date'])"
   ]
  },
  {
   "cell_type": "code",
   "execution_count": null,
   "id": "4e5a5eed",
   "metadata": {},
   "outputs": [],
   "source": [
    "target_file_dynamic_match_f['Revisit Expire Date'] = target_file_dynamic_match_f[\n",
    "    'Revisit Expire Date'].dt.strftime('%Y/%m/%d')\n",
    "target_file_dynamic_match_f['Revisit Date'] = target_file_dynamic_match_f[\n",
    "    'Revisit Date'].dt.strftime('%Y/%m/%d')"
   ]
  },
  {
   "cell_type": "code",
   "execution_count": null,
   "id": "aae444f8",
   "metadata": {},
   "outputs": [],
   "source": [
    "target_file_dynamic_match_f_del = target_file_dynamic_match_f[target_file_dynamic_match_f[\n",
    "    'IngestionStatus'].isin([\"DELETE\"])]"
   ]
  },
  {
   "cell_type": "code",
   "execution_count": null,
   "id": "69511d8c",
   "metadata": {
    "scrolled": false
   },
   "outputs": [],
   "source": [
    "target_file_dynamic_match_f_del.head(1)"
   ]
  },
  {
   "cell_type": "code",
   "execution_count": null,
   "id": "835c09f5",
   "metadata": {},
   "outputs": [],
   "source": [
    "target_file_dynamic_match_f_del.shape"
   ]
  },
  {
   "cell_type": "markdown",
   "id": "b8abe5b3",
   "metadata": {},
   "source": [
    "# Check wheather the TaskSubmissionTimestamp > Revisit Expire Date"
   ]
  },
  {
   "cell_type": "code",
   "execution_count": null,
   "id": "d55e6e7f",
   "metadata": {},
   "outputs": [],
   "source": [
    "# start2"
   ]
  },
  {
   "cell_type": "code",
   "execution_count": null,
   "id": "8588944e",
   "metadata": {},
   "outputs": [],
   "source": [
    "target_file_dynamic_match_f_del['Match_if_ED<RD'] = target_file_dynamic_match_f_del[\n",
    "    'Revisit Expire Date'] >= target_file_dynamic_match_f_del['Revisit Date']"
   ]
  },
  {
   "cell_type": "code",
   "execution_count": null,
   "id": "18e829df",
   "metadata": {
    "scrolled": true
   },
   "outputs": [],
   "source": [
    "target_file_dynamic_match_f_del['Match_if_ED<RD'].replace(True,\"VALID\", inplace=True)"
   ]
  },
  {
   "cell_type": "code",
   "execution_count": null,
   "id": "9c26dbe6",
   "metadata": {},
   "outputs": [],
   "source": [
    "target_file_dynamic_match_f_del['Match_if_ED<RD'].replace(False,\"INVALID\", inplace=True)"
   ]
  },
  {
   "cell_type": "code",
   "execution_count": null,
   "id": "25201659",
   "metadata": {},
   "outputs": [],
   "source": [
    "target_file_dynamic_match_f_del['Match_Dynamic_Validity'] = target_file_dynamic_match_f_del['Match_if_ED<RD']"
   ]
  },
  {
   "cell_type": "code",
   "execution_count": null,
   "id": "b1e1d018",
   "metadata": {},
   "outputs": [],
   "source": [
    "target_file_dynamic_match_f_del2 = target_file_dynamic_match_f_del[['Primary_key', 'Match_Dynamic_Validity']]"
   ]
  },
  {
   "cell_type": "code",
   "execution_count": null,
   "id": "fd300907",
   "metadata": {},
   "outputs": [],
   "source": [
    "target_file_dynamic_match_merge = target_file_dynamic_match.merge(\n",
    "    target_file_dynamic_match_f_del2, on='Primary_key', how='left')"
   ]
  },
  {
   "cell_type": "code",
   "execution_count": null,
   "id": "786eb837",
   "metadata": {},
   "outputs": [],
   "source": [
    "target_file_dynamic_match_merge.drop_duplicates(subset=['Primary_key'], inplace=True)"
   ]
  },
  {
   "cell_type": "code",
   "execution_count": null,
   "id": "11a9a0a1",
   "metadata": {},
   "outputs": [],
   "source": [
    "target_file_dynamic_match_merge.head(1)"
   ]
  },
  {
   "cell_type": "code",
   "execution_count": null,
   "id": "bd9811af",
   "metadata": {},
   "outputs": [],
   "source": [
    "target_file_dynamic_match_merge['Check_Delete_validity'] = target_file_dynamic_match_merge[\n",
    "    'Match_Dynamic_Validity'].str.contains(pat='INVALID')"
   ]
  },
  {
   "cell_type": "code",
   "execution_count": null,
   "id": "761555e4",
   "metadata": {},
   "outputs": [],
   "source": [
    "target_file_dynamic_match_merge['Check_Delete_validity'].replace(False, \"Match\", inplace=True)\n",
    "target_file_dynamic_match_merge['Check_Delete_validity'].replace(True, \"No Match Dynamic\", inplace=True)"
   ]
  },
  {
   "cell_type": "code",
   "execution_count": null,
   "id": "828c7658",
   "metadata": {},
   "outputs": [],
   "source": [
    "target_file_dynamic_match_merge['Match_Dynamic_Validity'].fillna(target_file_dynamic_match_merge[\n",
    "    'Dynamic Validity'], inplace=True)"
   ]
  },
  {
   "cell_type": "code",
   "execution_count": null,
   "id": "5990e685",
   "metadata": {},
   "outputs": [],
   "source": [
    "target_file_dynamic_match_merge.drop(['Dynamic Validity'], axis=1, inplace=True)"
   ]
  },
  {
   "cell_type": "code",
   "execution_count": null,
   "id": "22916c4b",
   "metadata": {},
   "outputs": [],
   "source": [
    "target_file_dynamic_match_merge['Check_Delete_validity'].fillna(target_file_dynamic_match_merge[\n",
    "    'Is in Dynamic Source?'], inplace=True)"
   ]
  },
  {
   "cell_type": "code",
   "execution_count": null,
   "id": "277f167d",
   "metadata": {},
   "outputs": [],
   "source": [
    "target_file_dynamic_match_merge.drop(['Is in Dynamic Source?'], axis=1, inplace=True)"
   ]
  },
  {
   "cell_type": "code",
   "execution_count": null,
   "id": "affde43b",
   "metadata": {},
   "outputs": [],
   "source": [
    "target_file_dynamic_match_merge.rename(columns={\"Match_Dynamic_Validity\":\"Is the Dynamic Match Valid?\", \n",
    "                                               \"Check_Delete_validity\":\"Is in Dynamic Source?\"}, inplace=True)"
   ]
  },
  {
   "cell_type": "code",
   "execution_count": null,
   "id": "e668b8c6",
   "metadata": {},
   "outputs": [],
   "source": [
    "target_file_dynamic_match_merge.drop(['Is in Dynamic Source?_Final'], axis=1, inplace=True)"
   ]
  },
  {
   "cell_type": "code",
   "execution_count": null,
   "id": "91134706",
   "metadata": {},
   "outputs": [],
   "source": [
    "target_file_dynamic_match_merge['Is in Dynamic Source?_Final'] = np.nan\n",
    "target_file_dynamic_match_merge['Is in Dynamic Source?_Final'] = target_file_dynamic_match_merge[\n",
    "    'Is in Dynamic Source?']"
   ]
  },
  {
   "cell_type": "markdown",
   "id": "b4685065",
   "metadata": {},
   "source": [
    "# Update the empty segment with the q2 Segment"
   ]
  },
  {
   "cell_type": "code",
   "execution_count": null,
   "id": "9f05544f",
   "metadata": {},
   "outputs": [],
   "source": [
    "target_file_dynamic_match_merge.head(1)"
   ]
  },
  {
   "cell_type": "code",
   "execution_count": null,
   "id": "5d6b62d4",
   "metadata": {},
   "outputs": [],
   "source": [
    "Source_data_Q2_2022.head(1)"
   ]
  },
  {
   "cell_type": "code",
   "execution_count": null,
   "id": "8998e4e8",
   "metadata": {},
   "outputs": [],
   "source": [
    "target_file_dynamic_match_merge_f = target_file_dynamic_match_merge[['StorePhoneNumber', 'MerchantExternalId', \n",
    "                                                                     'IngestionStatus', 'Is in Dynamic Source?',\n",
    "                                                                    'Segments', 'Primary_key']]"
   ]
  },
  {
   "cell_type": "code",
   "execution_count": null,
   "id": "4aa1166c",
   "metadata": {},
   "outputs": [],
   "source": [
    "target_file_dynamic_match_merge_f.head(1)"
   ]
  },
  {
   "cell_type": "code",
   "execution_count": null,
   "id": "9b02b081",
   "metadata": {},
   "outputs": [],
   "source": [
    "target_file_dynamic_match_merge_f2 = target_file_dynamic_match_merge_f[~target_file_dynamic_match_merge_f[\n",
    "    \"IngestionStatus\"].isin([np.nan])]"
   ]
  },
  {
   "cell_type": "code",
   "execution_count": null,
   "id": "e7f96de7",
   "metadata": {},
   "outputs": [],
   "source": [
    "target_file_dynamic_match_merge_f2.head(1)"
   ]
  },
  {
   "cell_type": "code",
   "execution_count": null,
   "id": "25ad509f",
   "metadata": {},
   "outputs": [],
   "source": [
    "Source_data_Q2_2022_mid = Source_data_Q2_2022[[\n",
    "    'Merchant Ext ID', 'segments']].rename(columns={'Merchant Ext ID':\"MerchantExternalId\"})"
   ]
  },
  {
   "cell_type": "code",
   "execution_count": null,
   "id": "c25b5ad4",
   "metadata": {},
   "outputs": [],
   "source": [
    "Source_data_Q2_2022_mn = Source_data_Q2_2022[[\n",
    "    'Phone Number', 'segments']].rename(columns={'Phone Number':\"StorePhoneNumber\"})"
   ]
  },
  {
   "cell_type": "code",
   "execution_count": null,
   "id": "8a1e1bcf",
   "metadata": {},
   "outputs": [],
   "source": [
    "target_file_dynamic_match_merge_f2_q2_mid = target_file_dynamic_match_merge_f2.merge(\n",
    "    Source_data_Q2_2022_mid, on=\"MerchantExternalId\", how='left', indicator = True)"
   ]
  },
  {
   "cell_type": "code",
   "execution_count": null,
   "id": "25c4d852",
   "metadata": {},
   "outputs": [],
   "source": [
    "target_file_dynamic_match_merge_f2_q2_mid.rename(columns={'_merge':\"Dynamic MID in Source?\"}, inplace=True)"
   ]
  },
  {
   "cell_type": "code",
   "execution_count": null,
   "id": "df71d9f0",
   "metadata": {},
   "outputs": [],
   "source": [
    "target_file_dynamic_match_merge_f2_q2_mid_mn = target_file_dynamic_match_merge_f2_q2_mid.merge(\n",
    "    Source_data_Q2_2022_mn, on=\"StorePhoneNumber\", how='left', indicator = True)"
   ]
  },
  {
   "cell_type": "code",
   "execution_count": null,
   "id": "7b38f38d",
   "metadata": {},
   "outputs": [],
   "source": [
    "target_file_dynamic_match_merge_f2_q2_mid_mn.rename(columns={'_merge':'Dynamic MN in Source?'}, inplace=True)"
   ]
  },
  {
   "cell_type": "code",
   "execution_count": null,
   "id": "ef8fd53e",
   "metadata": {},
   "outputs": [],
   "source": [
    "target_file_dynamic_match_merge_f2_q2_mid_mn['Segments'].fillna(target_file_dynamic_match_merge_f2_q2_mid_mn[\n",
    "    'segments_x'], inplace=True)"
   ]
  },
  {
   "cell_type": "code",
   "execution_count": null,
   "id": "69532f76",
   "metadata": {},
   "outputs": [],
   "source": [
    "target_file_dynamic_match_merge_f2_q2_mid_mn['Segments'].fillna(target_file_dynamic_match_merge_f2_q2_mid_mn[\n",
    "    'segments_y'], inplace=True)"
   ]
  },
  {
   "cell_type": "code",
   "execution_count": null,
   "id": "38ba826a",
   "metadata": {
    "scrolled": true
   },
   "outputs": [],
   "source": [
    "target_file_dynamic_match_merge_f2_q2_mid_mn.head(1)"
   ]
  },
  {
   "cell_type": "code",
   "execution_count": null,
   "id": "ca6064c8",
   "metadata": {},
   "outputs": [],
   "source": [
    "target_file_dynamic_match_merge_f2_q2_mid_mn_f = target_file_dynamic_match_merge_f2_q2_mid_mn[[\n",
    "    'Primary_key', 'Segments']].rename(columns={'Segments':\"New_Segments\"})"
   ]
  },
  {
   "cell_type": "code",
   "execution_count": null,
   "id": "16c05247",
   "metadata": {},
   "outputs": [],
   "source": [
    "target_file_dynamic_match_merge_f2_q2_mid_mn_f.head(1)"
   ]
  },
  {
   "cell_type": "code",
   "execution_count": null,
   "id": "6379f2c5",
   "metadata": {},
   "outputs": [],
   "source": [
    "target_file_dynamic_match_merge2 = target_file_dynamic_match_merge.merge(\n",
    "    target_file_dynamic_match_merge_f2_q2_mid_mn_f, on='Primary_key', how='left')"
   ]
  },
  {
   "cell_type": "code",
   "execution_count": null,
   "id": "917ca7d4",
   "metadata": {},
   "outputs": [],
   "source": [
    "target_file_dynamic_match_merge2.drop_duplicates(subset=['Primary_key'], inplace=True)"
   ]
  },
  {
   "cell_type": "code",
   "execution_count": null,
   "id": "7da3932d",
   "metadata": {},
   "outputs": [],
   "source": [
    "target_file_dynamic_match_merge2['Segments'].fillna(target_file_dynamic_match_merge2['New_Segments'], inplace=True)"
   ]
  },
  {
   "cell_type": "code",
   "execution_count": null,
   "id": "c1b23498",
   "metadata": {},
   "outputs": [],
   "source": [
    "target_file_dynamic_match_merge2.drop(['New_Segments'], axis=1, inplace=True)"
   ]
  },
  {
   "cell_type": "markdown",
   "id": "7a86339a",
   "metadata": {},
   "source": [
    "# Update the empty segment with the q1 Segment"
   ]
  },
  {
   "cell_type": "code",
   "execution_count": null,
   "id": "078f18b7",
   "metadata": {},
   "outputs": [],
   "source": [
    "target_file_dynamic_match_merge2.head(1)"
   ]
  },
  {
   "cell_type": "code",
   "execution_count": null,
   "id": "2e064ec2",
   "metadata": {},
   "outputs": [],
   "source": [
    "Source_data_Q1_2022.head(1)"
   ]
  },
  {
   "cell_type": "code",
   "execution_count": null,
   "id": "6882a8bb",
   "metadata": {},
   "outputs": [],
   "source": [
    "Source_data_Q1_2022_mid = Source_data_Q1_2022[[\n",
    "    'Merchant Ext.ID', 'segments']].rename(columns={\"Merchant Ext.ID\":'MerchantExternalId'})"
   ]
  },
  {
   "cell_type": "code",
   "execution_count": null,
   "id": "7a59554c",
   "metadata": {},
   "outputs": [],
   "source": [
    "Source_data_Q1_2022_mn = Source_data_Q1_2022[[\n",
    "    'Phone Number', 'segments']].rename(columns={\"Phone Number\":'StorePhoneNumber'})"
   ]
  },
  {
   "cell_type": "code",
   "execution_count": null,
   "id": "33510c5a",
   "metadata": {},
   "outputs": [],
   "source": [
    "target_file_dynamic_match_merge2_f = target_file_dynamic_match_merge2[['StorePhoneNumber', 'MerchantExternalId', \n",
    "                                                                     'IngestionStatus', 'Is in Dynamic Source?',\n",
    "                                                                    'Segments', 'Primary_key']]"
   ]
  },
  {
   "cell_type": "code",
   "execution_count": null,
   "id": "c0534816",
   "metadata": {},
   "outputs": [],
   "source": [
    "target_file_dynamic_match_merge2_f2 = target_file_dynamic_match_merge2_f[~target_file_dynamic_match_merge2_f[\n",
    "    \"IngestionStatus\"].isin([np.nan])]"
   ]
  },
  {
   "cell_type": "code",
   "execution_count": null,
   "id": "8a77716f",
   "metadata": {},
   "outputs": [],
   "source": [
    "target_file_dynamic_match_merge_f2_q1_mid = target_file_dynamic_match_merge2_f2.merge(\n",
    "    Source_data_Q1_2022_mid, on=\"MerchantExternalId\", how='left', indicator = True)"
   ]
  },
  {
   "cell_type": "code",
   "execution_count": null,
   "id": "79323af2",
   "metadata": {},
   "outputs": [],
   "source": [
    "target_file_dynamic_match_merge_f2_q1_mid.rename(columns={'_merge':\"Dynamic MID in Source?\"}, inplace=True)"
   ]
  },
  {
   "cell_type": "code",
   "execution_count": null,
   "id": "528fb4c4",
   "metadata": {},
   "outputs": [],
   "source": [
    "target_file_dynamic_match_merge_f2_q1_mid_mn = target_file_dynamic_match_merge_f2_q1_mid.merge(\n",
    "    Source_data_Q1_2022_mn, on=\"StorePhoneNumber\", how='left', indicator = True)"
   ]
  },
  {
   "cell_type": "code",
   "execution_count": null,
   "id": "072f2de4",
   "metadata": {},
   "outputs": [],
   "source": [
    "target_file_dynamic_match_merge_f2_q1_mid_mn.rename(columns={'_merge':'Dynamic MN in Source?'}, inplace=True)"
   ]
  },
  {
   "cell_type": "code",
   "execution_count": null,
   "id": "d08a12b0",
   "metadata": {},
   "outputs": [],
   "source": [
    "target_file_dynamic_match_merge_f2_q1_mid_mn['Segments'].fillna(target_file_dynamic_match_merge_f2_q1_mid_mn[\n",
    "    'segments_x'], inplace=True)"
   ]
  },
  {
   "cell_type": "code",
   "execution_count": null,
   "id": "e14cf747",
   "metadata": {},
   "outputs": [],
   "source": [
    "target_file_dynamic_match_merge_f2_q1_mid_mn['Segments'].fillna(target_file_dynamic_match_merge_f2_q1_mid_mn[\n",
    "    'segments_y'], inplace=True)"
   ]
  },
  {
   "cell_type": "code",
   "execution_count": null,
   "id": "9de103a9",
   "metadata": {
    "scrolled": false
   },
   "outputs": [],
   "source": [
    "target_file_dynamic_match_merge_f2_q1_mid_mn.head(1)"
   ]
  },
  {
   "cell_type": "code",
   "execution_count": null,
   "id": "2b9f55ed",
   "metadata": {},
   "outputs": [],
   "source": [
    "target_file_dynamic_match_merge_f2_q1_mid_mn_f = target_file_dynamic_match_merge_f2_q1_mid_mn[[\n",
    "    'Primary_key', 'Segments']].rename(columns={'Segments':\"New_Segments\"})"
   ]
  },
  {
   "cell_type": "code",
   "execution_count": null,
   "id": "9d8721ba",
   "metadata": {},
   "outputs": [],
   "source": [
    "target_file_dynamic_match_merge_f2_q1_mid_mn_f.head(1)"
   ]
  },
  {
   "cell_type": "code",
   "execution_count": null,
   "id": "21636165",
   "metadata": {},
   "outputs": [],
   "source": [
    "target_file_dynamic_match_merge3 = target_file_dynamic_match_merge2.merge(\n",
    "    target_file_dynamic_match_merge_f2_q1_mid_mn_f, on='Primary_key', how='left')"
   ]
  },
  {
   "cell_type": "code",
   "execution_count": null,
   "id": "ab093224",
   "metadata": {},
   "outputs": [],
   "source": [
    "target_file_dynamic_match_merge3.drop_duplicates(subset=['Primary_key'], inplace=True)"
   ]
  },
  {
   "cell_type": "code",
   "execution_count": null,
   "id": "1297a741",
   "metadata": {},
   "outputs": [],
   "source": [
    "target_file_dynamic_match_merge3['Segments'].fillna(target_file_dynamic_match_merge3['New_Segments'], inplace=True)"
   ]
  },
  {
   "cell_type": "code",
   "execution_count": null,
   "id": "3e15a89d",
   "metadata": {},
   "outputs": [],
   "source": [
    "target_file_dynamic_match_merge3.drop(['New_Segments'], axis=1, inplace=True)"
   ]
  },
  {
   "cell_type": "markdown",
   "id": "17357eb0",
   "metadata": {},
   "source": [
    "# No Match from Dynamic to Q2 Data"
   ]
  },
  {
   "cell_type": "markdown",
   "id": "23532c67",
   "metadata": {},
   "source": [
    "### Q2 MID DATA match"
   ]
  },
  {
   "cell_type": "code",
   "execution_count": null,
   "id": "b1c57c9f",
   "metadata": {
    "scrolled": true
   },
   "outputs": [],
   "source": [
    "target_file_dynamic_match_merge3.head(1)"
   ]
  },
  {
   "cell_type": "code",
   "execution_count": null,
   "id": "7b61fb67",
   "metadata": {},
   "outputs": [],
   "source": [
    "target_file_dynamic_match_merge3_f = target_file_dynamic_match_merge3[['StorePhoneNumber', 'MerchantExternalId',\n",
    "                                                                       'Is in Dynamic Source?']]"
   ]
  },
  {
   "cell_type": "code",
   "execution_count": null,
   "id": "bd71a279",
   "metadata": {},
   "outputs": [],
   "source": [
    "target_file_dynamic_match_merge3_f = target_file_dynamic_match_merge3_f[target_file_dynamic_match_merge3_f[\n",
    "    'Is in Dynamic Source?'].isin(['No Match'])]"
   ]
  },
  {
   "cell_type": "code",
   "execution_count": null,
   "id": "48d09f17",
   "metadata": {
    "scrolled": false
   },
   "outputs": [],
   "source": [
    "Source_data_Q2_2022_mid.head(1)"
   ]
  },
  {
   "cell_type": "code",
   "execution_count": null,
   "id": "2aa601f5",
   "metadata": {},
   "outputs": [],
   "source": [
    "target_file_dynamic_match_merge3_f = target_file_dynamic_match_merge3.merge(\n",
    "    Source_data_Q2_2022_mid, on=\"MerchantExternalId\", how=\"left\", indicator = True)"
   ]
  },
  {
   "cell_type": "code",
   "execution_count": null,
   "id": "3f2d1390",
   "metadata": {},
   "outputs": [],
   "source": [
    "target_file_dynamic_match_merge3_f.drop_duplicates(subset=['Primary_key'], inplace=True)"
   ]
  },
  {
   "cell_type": "code",
   "execution_count": null,
   "id": "91e4c92e",
   "metadata": {},
   "outputs": [],
   "source": [
    "target_file_dynamic_match_merge3_f.rename(columns={'_merge':'Is the mid q2 source?'}, inplace=True)"
   ]
  },
  {
   "cell_type": "code",
   "execution_count": null,
   "id": "7be09ca6",
   "metadata": {},
   "outputs": [],
   "source": [
    "target_file_dynamic_match_merge3_f.rename(columns={'segments':'Q2 Segments'}, inplace=True)"
   ]
  },
  {
   "cell_type": "code",
   "execution_count": null,
   "id": "1f8e8c85",
   "metadata": {},
   "outputs": [],
   "source": [
    "target_file_dynamic_match_merge3_f['Is the mid q2 source?'].unique()"
   ]
  },
  {
   "cell_type": "code",
   "execution_count": null,
   "id": "eb3f963f",
   "metadata": {},
   "outputs": [],
   "source": [
    "target_file_dynamic_match_merge3_f['Is the mid q2 source?'] = target_file_dynamic_match_merge3_f[\n",
    "    'Is the mid q2 source?'].map({'left_only':\"No Match\",'right_only':\"No Match\",'both':\"Match\"})"
   ]
  },
  {
   "cell_type": "markdown",
   "id": "e0a028ac",
   "metadata": {},
   "source": [
    "### Filling the No Match from Dynamic with the Is the mid q2 source?"
   ]
  },
  {
   "cell_type": "code",
   "execution_count": null,
   "id": "b0824e0c",
   "metadata": {},
   "outputs": [],
   "source": [
    "target_file_dynamic_match_merge3_f[\"Is in Dynamic Source?\"].replace(\"No Match\", np.nan, inplace=True)"
   ]
  },
  {
   "cell_type": "code",
   "execution_count": null,
   "id": "b63547c5",
   "metadata": {},
   "outputs": [],
   "source": [
    "target_file_dynamic_match_merge3_f['Is in Dynamic Source?'].fillna(target_file_dynamic_match_merge3_f[\n",
    "    \"Is the mid q2 source?\"], inplace=True)"
   ]
  },
  {
   "cell_type": "code",
   "execution_count": null,
   "id": "4567c1f3",
   "metadata": {},
   "outputs": [],
   "source": [
    "target_file_dynamic_match_merge3_f['Segments'].fillna(target_file_dynamic_match_merge3_f[\n",
    "    \"Q2 Segments\"], inplace=True)"
   ]
  },
  {
   "cell_type": "markdown",
   "id": "182bfa7a",
   "metadata": {},
   "source": [
    "### Q2 MN DATA match"
   ]
  },
  {
   "cell_type": "code",
   "execution_count": null,
   "id": "256cfb0f",
   "metadata": {},
   "outputs": [],
   "source": [
    "Source_data_Q2_2022_mn.head(1)"
   ]
  },
  {
   "cell_type": "code",
   "execution_count": null,
   "id": "c9b31016",
   "metadata": {},
   "outputs": [],
   "source": [
    "target_file_dynamic_match_merge3_f.head(1)"
   ]
  },
  {
   "cell_type": "code",
   "execution_count": null,
   "id": "efdc70fb",
   "metadata": {},
   "outputs": [],
   "source": [
    "target_file_dynamic_match_merge3_f2 = target_file_dynamic_match_merge3_f[['StorePhoneNumber', 'MerchantExternalId',\n",
    "                                                                       'Is in Dynamic Source?', 'Primary_key']]"
   ]
  },
  {
   "cell_type": "code",
   "execution_count": null,
   "id": "ff11b3b7",
   "metadata": {},
   "outputs": [],
   "source": [
    "target_file_dynamic_match_merge3_f3 = target_file_dynamic_match_merge3_f2[target_file_dynamic_match_merge3_f2[\n",
    "    'Is in Dynamic Source?'].isin(['No Match'])]"
   ]
  },
  {
   "cell_type": "code",
   "execution_count": null,
   "id": "a9b87879",
   "metadata": {
    "scrolled": false
   },
   "outputs": [],
   "source": [
    "Source_data_Q2_2022_mn.head(1)"
   ]
  },
  {
   "cell_type": "code",
   "execution_count": null,
   "id": "ae7e8de6",
   "metadata": {},
   "outputs": [],
   "source": [
    "target_file_dynamic_match_merge4_f = target_file_dynamic_match_merge3_f3.merge(\n",
    "    Source_data_Q2_2022_mn, on=\"StorePhoneNumber\", how=\"left\", indicator = True)"
   ]
  },
  {
   "cell_type": "code",
   "execution_count": null,
   "id": "b4e62443",
   "metadata": {},
   "outputs": [],
   "source": [
    "target_file_dynamic_match_merge4_f.drop_duplicates(subset=['Primary_key'], inplace=True)"
   ]
  },
  {
   "cell_type": "code",
   "execution_count": null,
   "id": "bf5d1716",
   "metadata": {},
   "outputs": [],
   "source": [
    "target_file_dynamic_match_merge4_f.rename(columns={'_merge':'Is the mn q2 source?'}, inplace=True)"
   ]
  },
  {
   "cell_type": "code",
   "execution_count": null,
   "id": "26e015c8",
   "metadata": {},
   "outputs": [],
   "source": [
    "target_file_dynamic_match_merge4_f.rename(columns={'segments':'Q2 MN Segments'}, inplace=True)"
   ]
  },
  {
   "cell_type": "code",
   "execution_count": null,
   "id": "66dedd22",
   "metadata": {},
   "outputs": [],
   "source": [
    "target_file_dynamic_match_merge4_f['Is the mn q2 source?'].unique()"
   ]
  },
  {
   "cell_type": "code",
   "execution_count": null,
   "id": "9982eb99",
   "metadata": {},
   "outputs": [],
   "source": [
    "target_file_dynamic_match_merge4_f['Is the mn q2 source?'] = target_file_dynamic_match_merge4_f[\n",
    "    'Is the mn q2 source?'].map({'left_only':\"No Match\",'right_only':\"No Match\",'both':\"MN Match\"})"
   ]
  },
  {
   "cell_type": "code",
   "execution_count": null,
   "id": "7069ab1e",
   "metadata": {},
   "outputs": [],
   "source": [
    "target_file_dynamic_match_merge4_f2 = target_file_dynamic_match_merge4_f[[\"Primary_key\", 'Q2 MN Segments',\n",
    "                                                                          'Is the mn q2 source?']]"
   ]
  },
  {
   "cell_type": "code",
   "execution_count": null,
   "id": "85debe11",
   "metadata": {},
   "outputs": [],
   "source": [
    "target_file_dynamic_match_merge5_f2 = target_file_dynamic_match_merge3_f.merge(\n",
    "    target_file_dynamic_match_merge4_f2, on='Primary_key', how='left')"
   ]
  },
  {
   "cell_type": "code",
   "execution_count": null,
   "id": "6cc0c1ea",
   "metadata": {},
   "outputs": [],
   "source": [
    "target_file_dynamic_match_merge5_f2.drop_duplicates(subset=['Primary_key'], inplace=True)"
   ]
  },
  {
   "cell_type": "markdown",
   "id": "76778f71",
   "metadata": {},
   "source": [
    "### Filling the No Match from Dynamic with the Is the mid q2 source?"
   ]
  },
  {
   "cell_type": "code",
   "execution_count": null,
   "id": "aa58b819",
   "metadata": {},
   "outputs": [],
   "source": [
    "target_file_dynamic_match_merge5_f2[\"Is in Dynamic Source?\"].replace(\"No Match\", np.nan, inplace=True)"
   ]
  },
  {
   "cell_type": "code",
   "execution_count": null,
   "id": "951517eb",
   "metadata": {},
   "outputs": [],
   "source": [
    "target_file_dynamic_match_merge5_f2['Is in Dynamic Source?'].fillna(target_file_dynamic_match_merge5_f2[\n",
    "    \"Is the mn q2 source?\"], inplace=True)"
   ]
  },
  {
   "cell_type": "code",
   "execution_count": null,
   "id": "52bd6a4f",
   "metadata": {},
   "outputs": [],
   "source": [
    "target_file_dynamic_match_merge5_f2['Segments'].fillna(target_file_dynamic_match_merge5_f2[\n",
    "    \"Q2 MN Segments\"], inplace=True)"
   ]
  },
  {
   "cell_type": "code",
   "execution_count": null,
   "id": "308bb95b",
   "metadata": {},
   "outputs": [],
   "source": [
    "target_file_dynamic_match_merge5_f2.head(1)"
   ]
  },
  {
   "cell_type": "code",
   "execution_count": null,
   "id": "c1b4c4e7",
   "metadata": {},
   "outputs": [],
   "source": [
    "Source_data_Q1_2022.head(1)"
   ]
  },
  {
   "cell_type": "markdown",
   "id": "132fefff",
   "metadata": {},
   "source": [
    "# No Match from Dynamic to Q1 Data"
   ]
  },
  {
   "cell_type": "markdown",
   "id": "21a6d972",
   "metadata": {},
   "source": [
    "### Q1 MID Data Match"
   ]
  },
  {
   "cell_type": "code",
   "execution_count": null,
   "id": "3f271972",
   "metadata": {},
   "outputs": [],
   "source": [
    "target_file_dynamic_match_merge5_f3 = target_file_dynamic_match_merge5_f2[['StorePhoneNumber',\n",
    "                                'MerchantExternalId', 'Is in Dynamic Source?', 'Primary_key']]"
   ]
  },
  {
   "cell_type": "code",
   "execution_count": null,
   "id": "9a5f65c9",
   "metadata": {
    "scrolled": true
   },
   "outputs": [],
   "source": [
    "Source_data_Q1_2022_mid.head(1)"
   ]
  },
  {
   "cell_type": "code",
   "execution_count": null,
   "id": "4f564512",
   "metadata": {},
   "outputs": [],
   "source": [
    "target_file_dynamic_match_merge5_f4 = target_file_dynamic_match_merge5_f3[target_file_dynamic_match_merge5_f3[\n",
    "    \"Is in Dynamic Source?\"].isin(['No Match'])]"
   ]
  },
  {
   "cell_type": "code",
   "execution_count": null,
   "id": "bb2e842c",
   "metadata": {},
   "outputs": [],
   "source": [
    "target_file_dynamic_match_merge5_f4.head(1)"
   ]
  },
  {
   "cell_type": "code",
   "execution_count": null,
   "id": "dbcf95d1",
   "metadata": {},
   "outputs": [],
   "source": [
    "target_file_dynamic_match_merge6_q1_mid_merge = target_file_dynamic_match_merge5_f4.merge(\n",
    "    Source_data_Q1_2022_mid, on='MerchantExternalId', how='left', indicator=True)"
   ]
  },
  {
   "cell_type": "code",
   "execution_count": null,
   "id": "5da8df95",
   "metadata": {
    "scrolled": true
   },
   "outputs": [],
   "source": [
    "target_file_dynamic_match_merge6_q1_mid_merge.drop_duplicates(subset=['Primary_key'], inplace=True)"
   ]
  },
  {
   "cell_type": "code",
   "execution_count": null,
   "id": "dea5ea29",
   "metadata": {},
   "outputs": [],
   "source": [
    "target_file_dynamic_match_merge6_q1_mid_merge.rename(columns={'_merge':\"Is MID in Q1 Source?\"}, inplace=True)"
   ]
  },
  {
   "cell_type": "code",
   "execution_count": null,
   "id": "69aa2a0e",
   "metadata": {},
   "outputs": [],
   "source": [
    "target_file_dynamic_match_merge6_q1_mid_merge['Is MID in Q1 Source?'].unique()"
   ]
  },
  {
   "cell_type": "code",
   "execution_count": null,
   "id": "f861824f",
   "metadata": {},
   "outputs": [],
   "source": [
    "target_file_dynamic_match_merge6_q1_mid_merge['Is MID in Q1 Source?'] = target_file_dynamic_match_merge6_q1_mid_merge[\n",
    "    'Is MID in Q1 Source?'].map({'left_only':\"No Match\",'right_only':\"No Match\", 'both':'Match'})"
   ]
  },
  {
   "cell_type": "code",
   "execution_count": null,
   "id": "960d5ca5",
   "metadata": {},
   "outputs": [],
   "source": [
    "target_file_dynamic_match_merge6_q1_mid_merge.rename(columns={\"segments\":\"q1 segments\"}, inplace=True)"
   ]
  },
  {
   "cell_type": "code",
   "execution_count": null,
   "id": "2209178c",
   "metadata": {},
   "outputs": [],
   "source": [
    "target_file_dynamic_match_merge6_q1_mid_merge.head(1)"
   ]
  },
  {
   "cell_type": "markdown",
   "id": "69565064",
   "metadata": {},
   "source": [
    "### Q1 MN Data Match"
   ]
  },
  {
   "cell_type": "code",
   "execution_count": null,
   "id": "805ecfe7",
   "metadata": {
    "scrolled": true
   },
   "outputs": [],
   "source": [
    "Source_data_Q1_2022_mn.head(1)"
   ]
  },
  {
   "cell_type": "code",
   "execution_count": null,
   "id": "87d16df3",
   "metadata": {},
   "outputs": [],
   "source": [
    "target_file_dynamic_match_merge6_q1_mid_mn_merge = target_file_dynamic_match_merge6_q1_mid_merge.merge(\n",
    "Source_data_Q1_2022_mn, on='StorePhoneNumber', how='left', indicator=True)"
   ]
  },
  {
   "cell_type": "code",
   "execution_count": null,
   "id": "bb222e17",
   "metadata": {},
   "outputs": [],
   "source": [
    "target_file_dynamic_match_merge6_q1_mid_mn_merge.rename(columns={\"_merge\":\"Is MN in Q1 Source?\", \n",
    "                                                                 \"segments\":\"q1 mn segments\"}, inplace=True)"
   ]
  },
  {
   "cell_type": "code",
   "execution_count": null,
   "id": "6cc56211",
   "metadata": {},
   "outputs": [],
   "source": [
    "target_file_dynamic_match_merge6_q1_mid_mn_merge.drop_duplicates(subset=['Primary_key'], inplace=True)"
   ]
  },
  {
   "cell_type": "code",
   "execution_count": null,
   "id": "0d547e6e",
   "metadata": {},
   "outputs": [],
   "source": [
    "target_file_dynamic_match_merge6_q1_mid_mn_merge[\n",
    "    'Is MN in Q1 Source?'] = target_file_dynamic_match_merge6_q1_mid_mn_merge[\n",
    "    'Is MN in Q1 Source?'].map({\"left_only\":\"No Match\",'right_only':\"No Match\", 'both':'MN Match'})"
   ]
  },
  {
   "cell_type": "code",
   "execution_count": null,
   "id": "635dabc4",
   "metadata": {},
   "outputs": [],
   "source": [
    "target_file_dynamic_match_merge6_q1_mid_mn_merge_f = target_file_dynamic_match_merge6_q1_mid_mn_merge[[\n",
    "    \"Primary_key\", \"q1 segments\", \"Is MID in Q1 Source?\", \"q1 mn segments\", \"Is MN in Q1 Source?\"]]"
   ]
  },
  {
   "cell_type": "code",
   "execution_count": null,
   "id": "8e52a4ea",
   "metadata": {},
   "outputs": [],
   "source": [
    "target_file_dynamic_match_merge6 = target_file_dynamic_match_merge5_f2.merge(\n",
    "    target_file_dynamic_match_merge6_q1_mid_mn_merge_f, on='Primary_key', how='left')"
   ]
  },
  {
   "cell_type": "code",
   "execution_count": null,
   "id": "8f049353",
   "metadata": {},
   "outputs": [],
   "source": [
    "target_file_dynamic_match_merge6.drop_duplicates(subset=['Primary_key'], inplace=True)"
   ]
  },
  {
   "cell_type": "code",
   "execution_count": null,
   "id": "ec2ac8d6",
   "metadata": {},
   "outputs": [],
   "source": [
    "target_file_dynamic_match_merge6['Is in Dynamic Source?'].replace(\"No Match\", np.nan, inplace=True)\n",
    "target_file_dynamic_match_merge6['Is MID in Q1 Source?'].replace(\"No Match\", np.nan, inplace=True)"
   ]
  },
  {
   "cell_type": "code",
   "execution_count": null,
   "id": "416fdd86",
   "metadata": {},
   "outputs": [],
   "source": [
    "target_file_dynamic_match_merge6['Is in Dynamic Source?'].fillna(target_file_dynamic_match_merge6[\n",
    "    'Is MID in Q1 Source?'], inplace=True)"
   ]
  },
  {
   "cell_type": "code",
   "execution_count": null,
   "id": "b166ab28",
   "metadata": {},
   "outputs": [],
   "source": [
    "target_file_dynamic_match_merge6['Is in Dynamic Source?'].fillna(target_file_dynamic_match_merge6[\n",
    "    'Is MN in Q1 Source?'], inplace=True)"
   ]
  },
  {
   "cell_type": "code",
   "execution_count": null,
   "id": "6e9ca761",
   "metadata": {},
   "outputs": [],
   "source": [
    "target_file_dynamic_match_merge6['Segments'].fillna(target_file_dynamic_match_merge6[\n",
    "    'q1 segments'], inplace=True)"
   ]
  },
  {
   "cell_type": "code",
   "execution_count": null,
   "id": "26a164b2",
   "metadata": {},
   "outputs": [],
   "source": [
    "target_file_dynamic_match_merge6['Segments'].fillna(target_file_dynamic_match_merge6[\n",
    "    'q1 mn segments'], inplace=True)"
   ]
  },
  {
   "cell_type": "markdown",
   "id": "f2633017",
   "metadata": {},
   "source": [
    "# Matching the no match with the for matching file"
   ]
  },
  {
   "cell_type": "code",
   "execution_count": null,
   "id": "4b26dcc6",
   "metadata": {},
   "outputs": [],
   "source": [
    "For_matching2 = For_matching.rename(columns={\"Phone Number\":\"StorePhoneNumber\", \n",
    "                             \"Merchant Ext.ID\":\"MerchantExternalId\"})"
   ]
  },
  {
   "cell_type": "code",
   "execution_count": null,
   "id": "0444ed8b",
   "metadata": {
    "scrolled": true
   },
   "outputs": [],
   "source": [
    "For_matching2.head(1)"
   ]
  },
  {
   "cell_type": "code",
   "execution_count": null,
   "id": "4b6c89d7",
   "metadata": {},
   "outputs": [],
   "source": [
    "For_matching2_mid = For_matching2[['MerchantExternalId']]\n",
    "For_matching2_mn = For_matching2[['StorePhoneNumber']]"
   ]
  },
  {
   "cell_type": "code",
   "execution_count": null,
   "id": "16828523",
   "metadata": {},
   "outputs": [],
   "source": [
    "target_file_dynamic_match_merge6_f = target_file_dynamic_match_merge6[target_file_dynamic_match_merge6[\n",
    "    \"Is in Dynamic Source?\"].isin(['No Match'])]"
   ]
  },
  {
   "cell_type": "code",
   "execution_count": null,
   "id": "9e1967e2",
   "metadata": {},
   "outputs": [],
   "source": [
    "target_file_dynamic_match_merge6_f2 = target_file_dynamic_match_merge6_f[[\"StorePhoneNumber\", \"MerchantExternalId\",\n",
    "                            \"Revisit Date\", 'Primary_key', 'Is in Dynamic Source?']]"
   ]
  },
  {
   "cell_type": "code",
   "execution_count": null,
   "id": "463b5cbc",
   "metadata": {},
   "outputs": [],
   "source": [
    "target_file_dynamic_match_merge6_f2_mid_merge = target_file_dynamic_match_merge6_f2.merge(For_matching2_mid,\n",
    "                                    on='MerchantExternalId', how='left', indicator=True)"
   ]
  },
  {
   "cell_type": "code",
   "execution_count": null,
   "id": "14ce0630",
   "metadata": {},
   "outputs": [],
   "source": [
    "target_file_dynamic_match_merge6_f2_mid_merge.rename(columns={'_merge':\"Is the MID in For Matching\"}, inplace=True)"
   ]
  },
  {
   "cell_type": "code",
   "execution_count": null,
   "id": "198b7396",
   "metadata": {},
   "outputs": [],
   "source": [
    "target_file_dynamic_match_merge6_f2_mid_merge.drop_duplicates(subset=['Primary_key'], inplace=True)"
   ]
  },
  {
   "cell_type": "code",
   "execution_count": null,
   "id": "1c9c7cdd",
   "metadata": {},
   "outputs": [],
   "source": [
    "target_file_dynamic_match_merge6_f2_mid_mn_merge = target_file_dynamic_match_merge6_f2_mid_merge.merge(\n",
    "    For_matching2_mn, on='StorePhoneNumber', how='left', indicator=True)"
   ]
  },
  {
   "cell_type": "code",
   "execution_count": null,
   "id": "efaebecf",
   "metadata": {},
   "outputs": [],
   "source": [
    "target_file_dynamic_match_merge6_f2_mid_mn_merge.drop_duplicates(subset=['Primary_key'], inplace=True)"
   ]
  },
  {
   "cell_type": "code",
   "execution_count": null,
   "id": "c5ff40ac",
   "metadata": {},
   "outputs": [],
   "source": [
    "target_file_dynamic_match_merge6_f2_mid_mn_merge.rename(\n",
    "    columns={'_merge':\"Is the MN in For Matching\"}, inplace=True)"
   ]
  },
  {
   "cell_type": "code",
   "execution_count": null,
   "id": "31af1720",
   "metadata": {},
   "outputs": [],
   "source": [
    "target_file_dynamic_match_merge6_f2_mid_mn_merge[\n",
    "    'Is the MID in For Matching'] = target_file_dynamic_match_merge6_f2_mid_mn_merge[\n",
    "    'Is the MID in For Matching'].map({\"left_only\":\"No Match\", \"right_only\":\"No Match\", \"both\":\"Match\"})\n",
    "target_file_dynamic_match_merge6_f2_mid_mn_merge[\n",
    "    'Is the MN in For Matching'] = target_file_dynamic_match_merge6_f2_mid_mn_merge[\n",
    "    'Is the MN in For Matching'].map({\"left_only\":\"No Match\", \"right_only\":\"No Match\", \"both\":\"MN Match\"})"
   ]
  },
  {
   "cell_type": "code",
   "execution_count": null,
   "id": "8983543d",
   "metadata": {},
   "outputs": [],
   "source": [
    "target_file_dynamic_match_merge6_f2_mid_mn_merge_f = target_file_dynamic_match_merge6_f2_mid_mn_merge[[\n",
    "    \"Primary_key\", 'Is the MID in For Matching', \"Is the MN in For Matching\"]]"
   ]
  },
  {
   "cell_type": "code",
   "execution_count": null,
   "id": "08b02915",
   "metadata": {},
   "outputs": [],
   "source": [
    "target_file_dynamic_match_merge7 = target_file_dynamic_match_merge6.merge(\n",
    "    target_file_dynamic_match_merge6_f2_mid_mn_merge_f, on=\"Primary_key\", how='left')"
   ]
  },
  {
   "cell_type": "code",
   "execution_count": null,
   "id": "b100df30",
   "metadata": {},
   "outputs": [],
   "source": [
    "target_file_dynamic_match_merge7.drop_duplicates(subset=['Primary_key'], inplace=True)"
   ]
  },
  {
   "cell_type": "markdown",
   "id": "9eadc8f1",
   "metadata": {},
   "source": [
    "# Cheating Columns Is in Source File based on Merchant Ext ID? & Is in Source File based on Merchant Mobile Number?"
   ]
  },
  {
   "cell_type": "code",
   "execution_count": null,
   "id": "20bdf2c4",
   "metadata": {},
   "outputs": [],
   "source": [
    "target_file_dynamic_match_merge7[\"Is the mid q2 source?\"].replace(\"No Match\", np.nan, inplace=True)\n",
    "target_file_dynamic_match_merge7[\"Is the mn q2 source?\"].replace(\"No Match\", np.nan, inplace=True)"
   ]
  },
  {
   "cell_type": "code",
   "execution_count": null,
   "id": "c78ad587",
   "metadata": {},
   "outputs": [],
   "source": [
    "target_file_dynamic_match_merge7['Is in Source File based on Merchant Ext ID?'] = np.nan\n",
    "target_file_dynamic_match_merge7['Is in Source File based on Merchant Mobile Number?'] = np.nan"
   ]
  },
  {
   "cell_type": "code",
   "execution_count": null,
   "id": "e6e24486",
   "metadata": {},
   "outputs": [],
   "source": [
    "target_file_dynamic_match_merge7['Is in Source File based on Merchant Ext ID?'].fillna(\n",
    "    target_file_dynamic_match_merge7['Is the mid q2 source?'], inplace=True)\n",
    "target_file_dynamic_match_merge7['Is in Source File based on Merchant Ext ID?'].fillna(\n",
    "    target_file_dynamic_match_merge7['Is MID in Q1 Source?'], inplace=True)\n",
    "target_file_dynamic_match_merge7['Is in Source File based on Merchant Ext ID?'].fillna(\n",
    "    target_file_dynamic_match_merge7['Is the MID in For Matching'], inplace=True)"
   ]
  },
  {
   "cell_type": "code",
   "execution_count": null,
   "id": "1e159b4c",
   "metadata": {},
   "outputs": [],
   "source": [
    "target_file_dynamic_match_merge7['Is in Source File based on Merchant Mobile Number?'].fillna(\n",
    "    target_file_dynamic_match_merge7['Is the mn q2 source?'], inplace=True)\n",
    "target_file_dynamic_match_merge7['Is in Source File based on Merchant Mobile Number?'].fillna(\n",
    "    target_file_dynamic_match_merge7['Is MN in Q1 Source?'], inplace=True)\n",
    "target_file_dynamic_match_merge7['Is in Source File based on Merchant Mobile Number?'].fillna(\n",
    "    target_file_dynamic_match_merge7['Is the MN in For Matching'], inplace=True)"
   ]
  },
  {
   "cell_type": "code",
   "execution_count": null,
   "id": "b8a427c0",
   "metadata": {},
   "outputs": [],
   "source": [
    "target_file_dynamic_match_merge7[\n",
    "    'Is in Source File based on Merchant Ext ID?'].replace(np.nan, \"No Match\", inplace=True)\n",
    "target_file_dynamic_match_merge7[\n",
    "    'Is in Source File based on Merchant Mobile Number?'].replace(np.nan, \"No Match\", inplace=True)"
   ]
  },
  {
   "cell_type": "markdown",
   "id": "5770fc17",
   "metadata": {},
   "source": [
    "# Filling the empty segment with Vaco_RV_Q2_2022"
   ]
  },
  {
   "cell_type": "code",
   "execution_count": null,
   "id": "18ce1c59",
   "metadata": {},
   "outputs": [],
   "source": [
    "Vaco_RV_Q2_2022.head(1)"
   ]
  },
  {
   "cell_type": "code",
   "execution_count": null,
   "id": "02538b04",
   "metadata": {},
   "outputs": [],
   "source": [
    "target_file_dynamic_match_merge7_f = target_file_dynamic_match_merge7[['StorePhoneNumber', 'Primary_key', \n",
    "                                                                       \"Is in Dynamic Source?\"]]"
   ]
  },
  {
   "cell_type": "code",
   "execution_count": null,
   "id": "7ecce9fa",
   "metadata": {
    "scrolled": true
   },
   "outputs": [],
   "source": [
    "target_file_dynamic_match_merge7_1 = target_file_dynamic_match_merge7_f[target_file_dynamic_match_merge7_f[\n",
    "    \"Is in Dynamic Source?\"].isin(['Match', \"MN Match\"])]"
   ]
  },
  {
   "cell_type": "code",
   "execution_count": null,
   "id": "0d9029f1",
   "metadata": {},
   "outputs": [],
   "source": [
    "target_file_dynamic_match_merge7_1.head(1)"
   ]
  },
  {
   "cell_type": "code",
   "execution_count": null,
   "id": "911fa583",
   "metadata": {},
   "outputs": [],
   "source": [
    "target_file_dynamic_match_merge7_1['Is in Dynamic Source?'].unique()"
   ]
  },
  {
   "cell_type": "code",
   "execution_count": null,
   "id": "81141e4a",
   "metadata": {},
   "outputs": [],
   "source": [
    "target_file_dynamic_match_merge7_2 = target_file_dynamic_match_merge7_1.merge(\n",
    "    Vaco_RV_Q2_2022, on=\"StorePhoneNumber\", how=\"left\")"
   ]
  },
  {
   "cell_type": "code",
   "execution_count": null,
   "id": "e70bdad8",
   "metadata": {},
   "outputs": [],
   "source": [
    "target_file_dynamic_match_merge7_2_f = target_file_dynamic_match_merge7_2[['Primary_key', 'segments_vaco_mn']]"
   ]
  },
  {
   "cell_type": "code",
   "execution_count": null,
   "id": "397de005",
   "metadata": {},
   "outputs": [],
   "source": [
    "target_file_dynamic_match_merge8 = target_file_dynamic_match_merge7.merge(\n",
    "    target_file_dynamic_match_merge7_2_f, on='Primary_key', how='left')"
   ]
  },
  {
   "cell_type": "code",
   "execution_count": null,
   "id": "644b23ad",
   "metadata": {},
   "outputs": [],
   "source": [
    "target_file_dynamic_match_merge8.drop_duplicates(subset=['Primary_key'], inplace=True)"
   ]
  },
  {
   "cell_type": "code",
   "execution_count": null,
   "id": "ad23692c",
   "metadata": {},
   "outputs": [],
   "source": [
    "target_file_dynamic_match_merge8['Segments'].fillna(target_file_dynamic_match_merge8[\n",
    "    'segments_vaco_mn'], inplace=True)"
   ]
  },
  {
   "cell_type": "code",
   "execution_count": null,
   "id": "5faf8bc0",
   "metadata": {},
   "outputs": [],
   "source": [
    "target_file_dynamic_match_merge8['Is in Latest Source?'] = np.nan"
   ]
  },
  {
   "cell_type": "code",
   "execution_count": null,
   "id": "de673c0e",
   "metadata": {},
   "outputs": [],
   "source": [
    "target_file_dynamic_match_merge8['Is in Latest Source?'] = target_file_dynamic_match_merge8[\n",
    "    'Is in Dynamic Source?']"
   ]
  },
  {
   "cell_type": "code",
   "execution_count": null,
   "id": "f9bcd119",
   "metadata": {},
   "outputs": [],
   "source": [
    "Is_in_source = target_file_dynamic_match_merge8[[\"Merchant ID\", 'StorePhoneNumber', \n",
    "                            'MerchantExternalId', 'Revisit Date', 'Segments', 'IngestionStatus', 'Report Date', \n",
    "                                  'Ingestion Date', 'Revisit Expire Date','Is in Dynamic Source?_Final', \n",
    " 'Is in Latest Source?','Is the Dynamic Match Valid?', 'Is in Dynamic Source?', \n",
    "'Is in Source File based on Merchant Ext ID?', 'Is in Source File based on Merchant Mobile Number?']].rename(\n",
    "    columns={\"Is in Dynamic Source?\": \"Is in Source File?\", 'Is in Dynamic Source?_Final':\"Is in Dynamic Source?\"})"
   ]
  },
  {
   "cell_type": "code",
   "execution_count": null,
   "id": "0e8ce84b",
   "metadata": {},
   "outputs": [],
   "source": [
    "Is_in_source_f = Is_in_source[['Merchant ID', 'Segments', 'IngestionStatus', 'Report Date', 'Ingestion Date',\n",
    "            'Revisit Expire Date', 'Is in Dynamic Source?', 'Is in Latest Source?', 'Is the Dynamic Match Valid?',\n",
    "            'Is in Source File?']]"
   ]
  },
  {
   "cell_type": "code",
   "execution_count": null,
   "id": "322ce87d",
   "metadata": {},
   "outputs": [],
   "source": [
    "RWN_Revisit_c8_merge = RWN_Revisit_c8.merge(Is_in_source_f, on='Merchant ID', how='left')"
   ]
  },
  {
   "cell_type": "code",
   "execution_count": null,
   "id": "b6f7848a",
   "metadata": {},
   "outputs": [],
   "source": [
    "RWN_Revisit_c8_merge.drop_duplicates(subset = ['Merchant ID'], inplace = True)"
   ]
  },
  {
   "cell_type": "code",
   "execution_count": null,
   "id": "beb45efe",
   "metadata": {},
   "outputs": [],
   "source": [
    "RWN_Revisit_c8 = RWN_Revisit_c8_merge"
   ]
  },
  {
   "cell_type": "code",
   "execution_count": null,
   "id": "934a34d3",
   "metadata": {},
   "outputs": [],
   "source": [
    "# Stop Here"
   ]
  },
  {
   "cell_type": "markdown",
   "id": "168a457a",
   "metadata": {},
   "source": [
    "# OLD DataSoruce?"
   ]
  },
  {
   "cell_type": "code",
   "execution_count": null,
   "id": "180b1414",
   "metadata": {},
   "outputs": [],
   "source": [
    "RWN_Revisit_c8_f = RWN_Revisit_c8[['Merchant ID', 'Merchant Ext ID', 'Owner Mobile No.', 'Is in Source File?']]"
   ]
  },
  {
   "cell_type": "code",
   "execution_count": null,
   "id": "ec023e17",
   "metadata": {
    "scrolled": true
   },
   "outputs": [],
   "source": [
    "RWN_Revisit_c8_f.shape"
   ]
  },
  {
   "cell_type": "code",
   "execution_count": null,
   "id": "60b27b06",
   "metadata": {},
   "outputs": [],
   "source": [
    "RWN_Revisit_c8_f = RWN_Revisit_c8_f[RWN_Revisit_c8_f['Is in Source File?'].isin(['No Match'])]"
   ]
  },
  {
   "cell_type": "code",
   "execution_count": null,
   "id": "988e6d47",
   "metadata": {},
   "outputs": [],
   "source": [
    "Source_data_Q1_2022_ingestion_mid = Source_data_Q1_2022_ingestion[[\n",
    "    'Merchant Ext.ID']].rename(columns={'Merchant Ext.ID':'Merchant Ext ID'})\n",
    "Source_data_Q1_2022_ingestion_mn = Source_data_Q1_2022_ingestion[[\n",
    "    'Phone Number']].rename(columns={'Phone Number':'Owner Mobile No.'})"
   ]
  },
  {
   "cell_type": "code",
   "execution_count": null,
   "id": "cae149e8",
   "metadata": {},
   "outputs": [],
   "source": [
    "RWN_Revisit_c8_f_merge = RWN_Revisit_c8_f.merge(\n",
    "    Source_data_Q1_2022_ingestion_mid, how='left', on='Merchant Ext ID', indicator=True)"
   ]
  },
  {
   "cell_type": "code",
   "execution_count": null,
   "id": "90466a55",
   "metadata": {},
   "outputs": [],
   "source": [
    "RWN_Revisit_c8_f_merge.drop_duplicates(subset = ['Merchant ID'], inplace=True)"
   ]
  },
  {
   "cell_type": "code",
   "execution_count": null,
   "id": "021cf301",
   "metadata": {},
   "outputs": [],
   "source": [
    "RWN_Revisit_c8_f_merge.rename(columns={'_merge':'OLD DataSoruce?_MID'}, inplace=True)"
   ]
  },
  {
   "cell_type": "code",
   "execution_count": null,
   "id": "67a2b77d",
   "metadata": {},
   "outputs": [],
   "source": [
    "RWN_Revisit_c8_f_merge2 = RWN_Revisit_c8_f_merge.merge(\n",
    "    Source_data_Q1_2022_ingestion_mn, how='left', on='Owner Mobile No.', indicator=True)"
   ]
  },
  {
   "cell_type": "code",
   "execution_count": null,
   "id": "7aea9e57",
   "metadata": {},
   "outputs": [],
   "source": [
    "RWN_Revisit_c8_f_merge2.drop_duplicates(subset = ['Merchant ID'], inplace=True)"
   ]
  },
  {
   "cell_type": "code",
   "execution_count": null,
   "id": "672ebae1",
   "metadata": {},
   "outputs": [],
   "source": [
    "RWN_Revisit_c8_f_merge2.rename(columns={'_merge':'OLD DataSoruce?_MN'}, inplace=True)"
   ]
  },
  {
   "cell_type": "code",
   "execution_count": null,
   "id": "7715cec6",
   "metadata": {},
   "outputs": [],
   "source": [
    "RWN_Revisit_c8_f_merge2['OLD DataSoruce?_MID'].replace('left_only', np.nan, inplace=True)\n",
    "RWN_Revisit_c8_f_merge2['OLD DataSoruce?_MID'].replace('both', \"Yes\", inplace=True)\n",
    "RWN_Revisit_c8_f_merge2['OLD DataSoruce?_MN'].replace('left_only', np.nan, inplace=True)\n",
    "RWN_Revisit_c8_f_merge2['OLD DataSoruce?_MN'].replace('both', \"Yes\", inplace=True)"
   ]
  },
  {
   "cell_type": "code",
   "execution_count": null,
   "id": "2ff80542",
   "metadata": {},
   "outputs": [],
   "source": [
    "RWN_Revisit_c8_f_merge2['Match_mid'] = np.nan\n",
    "RWN_Revisit_c8_f_merge2['Match_mid'].fillna(RWN_Revisit_c8_f_merge2['OLD DataSoruce?_MN'], inplace=True)\n",
    "RWN_Revisit_c8_f_merge2['Match_mid'].fillna(RWN_Revisit_c8_f_merge2['OLD DataSoruce?_MID'], inplace=True)\n",
    "RWN_Revisit_c8_f_merge2['Match_mid'].replace(np.nan, 'No', inplace=True)"
   ]
  },
  {
   "cell_type": "code",
   "execution_count": null,
   "id": "99edd246",
   "metadata": {},
   "outputs": [],
   "source": [
    "RWN_Revisit_c8_f2 = RWN_Revisit_c8_f_merge2[[\n",
    "    'Merchant ID', 'Match_mid']].rename(columns={'Match_mid':'OLD DataSoruce?'})"
   ]
  },
  {
   "cell_type": "code",
   "execution_count": null,
   "id": "94493024",
   "metadata": {},
   "outputs": [],
   "source": [
    "RWN_Revisit_c9 = RWN_Revisit_c8.merge(RWN_Revisit_c8_f2, how = 'left', on = 'Merchant ID')"
   ]
  },
  {
   "cell_type": "code",
   "execution_count": null,
   "id": "1c1625d2",
   "metadata": {},
   "outputs": [],
   "source": [
    "RWN_Revisit_c9.drop_duplicates(subset = ['Merchant ID'], inplace = True)"
   ]
  },
  {
   "cell_type": "code",
   "execution_count": null,
   "id": "2f319a5b",
   "metadata": {},
   "outputs": [],
   "source": [
    "RWN_Revisit_c9['OLD DataSoruce?'].replace(np.nan, \"No\", inplace=True)"
   ]
  },
  {
   "cell_type": "code",
   "execution_count": null,
   "id": "e61e1439",
   "metadata": {
    "scrolled": true
   },
   "outputs": [],
   "source": [
    "RWN_Revisit_c9.shape"
   ]
  },
  {
   "cell_type": "code",
   "execution_count": null,
   "id": "d345c6ae",
   "metadata": {},
   "outputs": [],
   "source": [
    "RWN_Revisit_c9.rename(columns={\"Segments\":\"segments\"}, inplace=True)"
   ]
  },
  {
   "cell_type": "code",
   "execution_count": null,
   "id": "5b3c715d",
   "metadata": {},
   "outputs": [],
   "source": [
    "RWN_Revisit_c10 = RWN_Revisit_c9"
   ]
  },
  {
   "cell_type": "code",
   "execution_count": null,
   "id": "dfdb5b5e",
   "metadata": {},
   "outputs": [],
   "source": [
    "RWN_Revisit_c10.drop_duplicates(subset=['Merchant ID'], inplace=True)"
   ]
  },
  {
   "cell_type": "code",
   "execution_count": null,
   "id": "77147d6b",
   "metadata": {},
   "outputs": [],
   "source": [
    "RWN_Revisit_c10.shape"
   ]
  },
  {
   "cell_type": "markdown",
   "id": "7608c1f0",
   "metadata": {},
   "source": [
    "# Segment (active old)"
   ]
  },
  {
   "cell_type": "code",
   "execution_count": null,
   "id": "07ddfed0",
   "metadata": {},
   "outputs": [],
   "source": [
    "RWN_Revisit_c10_f = RWN_Revisit_c10[['Merchant ID', 'OLD DataSoruce?', 'InvalidReasons', 'segments']]"
   ]
  },
  {
   "cell_type": "code",
   "execution_count": null,
   "id": "72ee2629",
   "metadata": {},
   "outputs": [],
   "source": [
    "RWN_Revisit_c10_f.head(1)"
   ]
  },
  {
   "cell_type": "code",
   "execution_count": null,
   "id": "d620d473",
   "metadata": {},
   "outputs": [],
   "source": [
    "Filter_Yes = RWN_Revisit_c10_f['OLD DataSoruce?'] == 'Yes'"
   ]
  },
  {
   "cell_type": "code",
   "execution_count": null,
   "id": "054be156",
   "metadata": {},
   "outputs": [],
   "source": [
    "RWN_Revisit_c10_f2 = RWN_Revisit_c10_f[Filter_Yes]"
   ]
  },
  {
   "cell_type": "code",
   "execution_count": null,
   "id": "a191bd42",
   "metadata": {},
   "outputs": [],
   "source": [
    "RWN_Revisit_c10_f2.shape"
   ]
  },
  {
   "cell_type": "code",
   "execution_count": null,
   "id": "f4ead473",
   "metadata": {},
   "outputs": [],
   "source": [
    "RWN_Revisit_c10_f2.head(1)"
   ]
  },
  {
   "cell_type": "code",
   "execution_count": null,
   "id": "81a709a4",
   "metadata": {},
   "outputs": [],
   "source": [
    "RWN_Revisit_c10_f2['Invalid_NotOnTargetlist'] = RWN_Revisit_c10_f2[\n",
    "    'InvalidReasons'].str.contains('Invalid_NotOnTargetlist')"
   ]
  },
  {
   "cell_type": "code",
   "execution_count": null,
   "id": "e6108916",
   "metadata": {},
   "outputs": [],
   "source": [
    "RWN_Revisit_c10_f2.head(1)"
   ]
  },
  {
   "cell_type": "code",
   "execution_count": null,
   "id": "508b3841",
   "metadata": {},
   "outputs": [],
   "source": [
    "RWN_Revisit_c10_f2['Invalid_NotOnTargetlist'].fillna(False, inplace= True)"
   ]
  },
  {
   "cell_type": "code",
   "execution_count": null,
   "id": "1dd48141",
   "metadata": {},
   "outputs": [],
   "source": [
    "RWN_Revisit_c10_f2['Invalid_NotOnTargetlist'] = RWN_Revisit_c10_f2[\n",
    "    'Invalid_NotOnTargetlist'].map({True:\"active old\", False: np.nan})"
   ]
  },
  {
   "cell_type": "code",
   "execution_count": null,
   "id": "cbbcc185",
   "metadata": {},
   "outputs": [],
   "source": [
    "RWN_Revisit_c10_f2['segments'].fillna(RWN_Revisit_c10_f2[\n",
    "    'Invalid_NotOnTargetlist'], inplace = True)"
   ]
  },
  {
   "cell_type": "code",
   "execution_count": null,
   "id": "18a4718f",
   "metadata": {},
   "outputs": [],
   "source": [
    "RWN_Revisit_c10_f3 = RWN_Revisit_c10_f2[['Merchant ID', 'segments']].rename(columns={'segments':'segments_2'})"
   ]
  },
  {
   "cell_type": "code",
   "execution_count": null,
   "id": "38d4cf5f",
   "metadata": {},
   "outputs": [],
   "source": [
    "RWN_Revisit_c10_merge = RWN_Revisit_c10.merge(RWN_Revisit_c10_f3, how = 'left', on = 'Merchant ID')"
   ]
  },
  {
   "cell_type": "code",
   "execution_count": null,
   "id": "7324d877",
   "metadata": {},
   "outputs": [],
   "source": [
    "RWN_Revisit_c10_merge.head(1)"
   ]
  },
  {
   "cell_type": "code",
   "execution_count": null,
   "id": "ee56825e",
   "metadata": {},
   "outputs": [],
   "source": [
    "RWN_Revisit_c10_merge['segments'].fillna(RWN_Revisit_c10_merge['segments_2'], inplace = True)"
   ]
  },
  {
   "cell_type": "code",
   "execution_count": null,
   "id": "1248a659",
   "metadata": {},
   "outputs": [],
   "source": [
    "RWN_Revisit_c11 = RWN_Revisit_c10_merge"
   ]
  },
  {
   "cell_type": "code",
   "execution_count": null,
   "id": "965623c9",
   "metadata": {},
   "outputs": [],
   "source": [
    "RWN_Revisit_c11.shape"
   ]
  },
  {
   "cell_type": "code",
   "execution_count": null,
   "id": "dede52c5",
   "metadata": {},
   "outputs": [],
   "source": [
    "# Start from here"
   ]
  },
  {
   "cell_type": "markdown",
   "id": "34a1f3ca",
   "metadata": {},
   "source": [
    "# Is in Source File?"
   ]
  },
  {
   "cell_type": "code",
   "execution_count": null,
   "id": "2a376e27",
   "metadata": {},
   "outputs": [],
   "source": [
    "RWN_Revisit_c11_f = RWN_Revisit_c11[['Merchant ID', 'Is in Latest Source?' ,'OLD DataSoruce?']]"
   ]
  },
  {
   "cell_type": "code",
   "execution_count": null,
   "id": "8379081a",
   "metadata": {},
   "outputs": [],
   "source": [
    "RWN_Revisit_c11_f['Is in Latest Source?'] = RWN_Revisit_c11_f[\n",
    "    'Is in Latest Source?'].map({'No Match':False, 'Match':True})"
   ]
  },
  {
   "cell_type": "code",
   "execution_count": null,
   "id": "438d306a",
   "metadata": {},
   "outputs": [],
   "source": [
    "RWN_Revisit_c11_f['OLD DataSoruce?'] = RWN_Revisit_c11_f[\n",
    "    'OLD DataSoruce?'].map({'No':False, 'Yes':True})"
   ]
  },
  {
   "cell_type": "code",
   "execution_count": null,
   "id": "ca6b61c4",
   "metadata": {},
   "outputs": [],
   "source": [
    "RWN_Revisit_c11_f['Is in Source File?'] = RWN_Revisit_c11_f[\n",
    "    'Is in Latest Source?'] + RWN_Revisit_c11_f['OLD DataSoruce?']"
   ]
  },
  {
   "cell_type": "code",
   "execution_count": null,
   "id": "3b8d740e",
   "metadata": {},
   "outputs": [],
   "source": [
    "RWN_Revisit_c11_f['Is in Source File?'] = RWN_Revisit_c11_f[\n",
    "    'Is in Source File?'].map({False:'No Match', True:'Match'})"
   ]
  },
  {
   "cell_type": "code",
   "execution_count": null,
   "id": "494a4775",
   "metadata": {},
   "outputs": [],
   "source": [
    "RWN_Revisit_c11_f_2 = RWN_Revisit_c11_f[['Merchant ID', 'Is in Source File?']]"
   ]
  },
  {
   "cell_type": "code",
   "execution_count": null,
   "id": "79dea1ae",
   "metadata": {},
   "outputs": [],
   "source": [
    "RWN_Revisit_c11_merge = RWN_Revisit_c11.merge(RWN_Revisit_c11_f_2, how='left', on = 'Merchant ID')"
   ]
  },
  {
   "cell_type": "code",
   "execution_count": null,
   "id": "5d778abc",
   "metadata": {},
   "outputs": [],
   "source": [
    "RWN_Revisit_c12 = RWN_Revisit_c11_merge"
   ]
  },
  {
   "cell_type": "code",
   "execution_count": null,
   "id": "0a73d694",
   "metadata": {},
   "outputs": [],
   "source": [
    "RWN_Revisit_c12.head(1)"
   ]
  },
  {
   "cell_type": "code",
   "execution_count": null,
   "id": "095c7e6d",
   "metadata": {},
   "outputs": [],
   "source": [
    "RWN_Revisit_c12.shape"
   ]
  },
  {
   "cell_type": "markdown",
   "id": "2f8d3129",
   "metadata": {},
   "source": [
    "# On Boarding Date, On Boarding Time and Revisit Time"
   ]
  },
  {
   "cell_type": "code",
   "execution_count": null,
   "id": "35f7095a",
   "metadata": {},
   "outputs": [],
   "source": [
    "RWN_Revisit_c12['On Boarding Date'] = pd.to_datetime(RWN_Revisit_c12['On Boarding Date'])\n",
    "RWN_Revisit_c12['On Boarding Time'] = pd.to_datetime(RWN_Revisit_c12['On Boarding Time'])"
   ]
  },
  {
   "cell_type": "code",
   "execution_count": null,
   "id": "ef47828d",
   "metadata": {},
   "outputs": [],
   "source": [
    "RWN_Revisit_c12['On Boarding Date'] = RWN_Revisit_c12['On Boarding Date'].dt.strftime('%b-%d-%Y')\n",
    "RWN_Revisit_c12['On Boarding Time'] = RWN_Revisit_c12['On Boarding Time'].dt.strftime('%-H:%M:%S')"
   ]
  },
  {
   "cell_type": "code",
   "execution_count": null,
   "id": "db1bf9f4",
   "metadata": {},
   "outputs": [],
   "source": [
    "RWN_Revisit_c12['Revisit Time'] = pd.to_datetime(RWN_Revisit_c12['Revisit Time'])"
   ]
  },
  {
   "cell_type": "code",
   "execution_count": null,
   "id": "10f91c53",
   "metadata": {},
   "outputs": [],
   "source": [
    "RWN_Revisit_c12['Revisit Time'] = RWN_Revisit_c12['Revisit Time'].dt.strftime('%-H:%M:%S')"
   ]
  },
  {
   "cell_type": "code",
   "execution_count": null,
   "id": "a6f7d041",
   "metadata": {},
   "outputs": [],
   "source": [
    "RWN_Revisit_c12['Created Date'] = pd.to_datetime(RWN_Revisit_c12['Created Date'])"
   ]
  },
  {
   "cell_type": "code",
   "execution_count": null,
   "id": "5af1bb35",
   "metadata": {},
   "outputs": [],
   "source": [
    "RWN_Revisit_c12['Created Date'] = RWN_Revisit_c12['Created Date'].dt.strftime('%b-%-d-%Y %-H:%M:%S')"
   ]
  },
  {
   "cell_type": "code",
   "execution_count": null,
   "id": "2536d879",
   "metadata": {
    "scrolled": true
   },
   "outputs": [],
   "source": [
    "RWN_Revisit_c12.shape"
   ]
  },
  {
   "cell_type": "code",
   "execution_count": null,
   "id": "19c25e15",
   "metadata": {},
   "outputs": [],
   "source": [
    "RWN_Revisit_c12.rename(\n",
    "    columns={'Is the Dynamic Match Valid?':\"Is in Dynamic Source Visit Date Valid?\"}, inplace=True)"
   ]
  },
  {
   "cell_type": "code",
   "execution_count": null,
   "id": "777123e1",
   "metadata": {},
   "outputs": [],
   "source": [
    "RWN_Revisit_c16 = RWN_Revisit_c12"
   ]
  },
  {
   "cell_type": "code",
   "execution_count": null,
   "id": "8982ddec",
   "metadata": {},
   "outputs": [],
   "source": [
    "RWN_Revisit_c16.drop_duplicates(subset = ['Merchant ID'], inplace = True)"
   ]
  },
  {
   "cell_type": "code",
   "execution_count": null,
   "id": "945ef96d",
   "metadata": {},
   "outputs": [],
   "source": [
    "RWN_Revisit_c16.head(1)"
   ]
  },
  {
   "cell_type": "markdown",
   "id": "fb0b76a0",
   "metadata": {},
   "source": [
    "# Changing Validity for the Active old"
   ]
  },
  {
   "cell_type": "code",
   "execution_count": null,
   "id": "24f70962",
   "metadata": {},
   "outputs": [],
   "source": [
    "RWN_Revisit_c16_f = RWN_Revisit_c16[['Merchant ID', 'Validity', 'InvalidReasons', 'OLD DataSoruce?']].rename(\n",
    "    columns={'Validity':'Validity_o'})"
   ]
  },
  {
   "cell_type": "code",
   "execution_count": null,
   "id": "0f6aa491",
   "metadata": {},
   "outputs": [],
   "source": [
    "RWN_Revisit_c16_f2 = RWN_Revisit_c16_f[RWN_Revisit_c16_f['OLD DataSoruce?'].isin(['Yes'])]"
   ]
  },
  {
   "cell_type": "code",
   "execution_count": null,
   "id": "50080964",
   "metadata": {},
   "outputs": [],
   "source": [
    "RWN_Revisit_c16_f3 = RWN_Revisit_c16_f2[RWN_Revisit_c16_f2['InvalidReasons'].isin(['Invalid_NotOnTargetlist'])]"
   ]
  },
  {
   "cell_type": "code",
   "execution_count": null,
   "id": "ab5de68c",
   "metadata": {},
   "outputs": [],
   "source": [
    "RWN_Revisit_c16_f3['Validity_o'].replace('INVALID', 'VALID', inplace=True)"
   ]
  },
  {
   "cell_type": "code",
   "execution_count": null,
   "id": "c00a4388",
   "metadata": {},
   "outputs": [],
   "source": [
    "RWN_Revisit_c16_f4 = RWN_Revisit_c16_f3[['Merchant ID', 'Validity_o']]"
   ]
  },
  {
   "cell_type": "code",
   "execution_count": null,
   "id": "8a16b666",
   "metadata": {},
   "outputs": [],
   "source": [
    "RWN_Revisit_c16.shape"
   ]
  },
  {
   "cell_type": "code",
   "execution_count": null,
   "id": "6c89f9ff",
   "metadata": {},
   "outputs": [],
   "source": [
    "RWN_Revisit_c16_merge = RWN_Revisit_c16.merge(RWN_Revisit_c16_f4, how='left', on='Merchant ID')"
   ]
  },
  {
   "cell_type": "code",
   "execution_count": null,
   "id": "d3605f50",
   "metadata": {},
   "outputs": [],
   "source": [
    "RWN_Revisit_c16_merge['Validity_o'].fillna(RWN_Revisit_c16_merge['Validity_2'], inplace=True)"
   ]
  },
  {
   "cell_type": "code",
   "execution_count": null,
   "id": "8b653b02",
   "metadata": {},
   "outputs": [],
   "source": [
    "RWN_Revisit_c17 = RWN_Revisit_c16_merge"
   ]
  },
  {
   "cell_type": "code",
   "execution_count": null,
   "id": "31ae847f",
   "metadata": {},
   "outputs": [],
   "source": [
    "RWN_Revisit_c = RWN_Revisit_c17"
   ]
  },
  {
   "cell_type": "markdown",
   "id": "9184bb56",
   "metadata": {},
   "source": [
    "# Filter out the \"Merchant ID\" and \"Pin Code\" in a original Dataframe\n",
    "# Dulpicate the above Dataframe\n",
    "# Filter out only the numeric character in the Duplicate Dataframe\n",
    "# Left Join the original and duplicate Dataframe"
   ]
  },
  {
   "cell_type": "code",
   "execution_count": null,
   "id": "65825b93",
   "metadata": {},
   "outputs": [],
   "source": [
    "RWN_Revisit_pin_o = RWN_Revisit_c.filter(['Merchant ID','PIN Code'])\n",
    "RWN_Revisit_pin_d = RWN_Revisit_c.filter(['Merchant ID','PIN Code'])\n",
    "RWN_Revisit_pin_d2 = RWN_Revisit_pin_d.rename(columns = {\n",
    "        'PIN Code':'PIN Code_2'})"
   ]
  },
  {
   "cell_type": "markdown",
   "id": "096c9895",
   "metadata": {},
   "source": [
    "#### Detect the numeric value"
   ]
  },
  {
   "cell_type": "code",
   "execution_count": null,
   "id": "99d61bc9",
   "metadata": {},
   "outputs": [],
   "source": [
    "RWN_Revisit_pin_d2['Pin Code_N'] = RWN_Revisit_pin_d2['PIN Code_2'].str.isnumeric()"
   ]
  },
  {
   "cell_type": "markdown",
   "id": "127d48f8",
   "metadata": {},
   "source": [
    "#### Filter the numeric value only"
   ]
  },
  {
   "cell_type": "code",
   "execution_count": null,
   "id": "e67e205b",
   "metadata": {},
   "outputs": [],
   "source": [
    "RWN_Revisit_pin_d3 = (RWN_Revisit_pin_d2['Pin Code_N'] != False)"
   ]
  },
  {
   "cell_type": "code",
   "execution_count": null,
   "id": "1e6cbd85",
   "metadata": {},
   "outputs": [],
   "source": [
    "RWN_Revisit_pin_d4 = RWN_Revisit_pin_d2[RWN_Revisit_pin_d3]\n",
    "RWN_Revisit_pin_d4.head(2)"
   ]
  },
  {
   "cell_type": "markdown",
   "id": "fe10a997",
   "metadata": {},
   "source": [
    "#### Left join with the original data"
   ]
  },
  {
   "cell_type": "code",
   "execution_count": null,
   "id": "7d967e98",
   "metadata": {},
   "outputs": [],
   "source": [
    "RWN_Revisit_pin = RWN_Revisit_pin_o.merge(RWN_Revisit_pin_d4, how = 'left' ,on = 'Merchant ID')\n",
    "RWN_Revisit_pin.head(5)"
   ]
  },
  {
   "cell_type": "code",
   "execution_count": null,
   "id": "ca8f4448",
   "metadata": {},
   "outputs": [],
   "source": [
    "RWN_Revisit_pin.drop_duplicates(subset = ['Merchant ID'], inplace = True)"
   ]
  },
  {
   "cell_type": "code",
   "execution_count": null,
   "id": "2d23acfd",
   "metadata": {},
   "outputs": [],
   "source": [
    "RWN_Revisit_pin.shape"
   ]
  },
  {
   "cell_type": "code",
   "execution_count": null,
   "id": "57cfc8f7",
   "metadata": {},
   "outputs": [],
   "source": [
    "RWN_Revisit_pin_2 = RWN_Revisit_pin.filter(['Merchant ID', 'PIN Code_2'])"
   ]
  },
  {
   "cell_type": "code",
   "execution_count": null,
   "id": "bd33e7d4",
   "metadata": {},
   "outputs": [],
   "source": [
    "RWN_Revisit_pin_2.shape"
   ]
  },
  {
   "cell_type": "markdown",
   "id": "1c9804ed",
   "metadata": {},
   "source": [
    "# Filtering the postal_code and City Name from the Pivot Table 1"
   ]
  },
  {
   "cell_type": "code",
   "execution_count": null,
   "id": "9deb74a4",
   "metadata": {},
   "outputs": [],
   "source": [
    "Pivot_table.head(1)"
   ]
  },
  {
   "cell_type": "code",
   "execution_count": null,
   "id": "074357dd",
   "metadata": {},
   "outputs": [],
   "source": [
    "Pivot_table_f = Pivot_table[['Unnamed: 20', 'Unnamed: 21']]"
   ]
  },
  {
   "cell_type": "code",
   "execution_count": null,
   "id": "27a5ddb6",
   "metadata": {},
   "outputs": [],
   "source": [
    "Pivot_table_f.columns = Pivot_table_f.iloc[0]"
   ]
  },
  {
   "cell_type": "code",
   "execution_count": null,
   "id": "d43f7943",
   "metadata": {},
   "outputs": [],
   "source": [
    "Pivot_table_f = Pivot_table_f.drop(0)"
   ]
  },
  {
   "cell_type": "code",
   "execution_count": null,
   "id": "a3d641bf",
   "metadata": {},
   "outputs": [],
   "source": [
    "Pivot_table_f = Pivot_table_f.dropna()"
   ]
  },
  {
   "cell_type": "code",
   "execution_count": null,
   "id": "e06fffa2",
   "metadata": {},
   "outputs": [],
   "source": [
    "Pivot_table_f.rename(columns={'postal_code':'PIN Code_2', 'City Name':'City Name_2'}, inplace=True)"
   ]
  },
  {
   "cell_type": "code",
   "execution_count": null,
   "id": "0082b37b",
   "metadata": {},
   "outputs": [],
   "source": [
    "Pivot_table_f.shape"
   ]
  },
  {
   "cell_type": "code",
   "execution_count": null,
   "id": "fc16dbb2",
   "metadata": {},
   "outputs": [],
   "source": [
    "Pivot_table_f.head(1)"
   ]
  },
  {
   "cell_type": "code",
   "execution_count": null,
   "id": "021b5bab",
   "metadata": {},
   "outputs": [],
   "source": [
    "Pivot_table_f.dtypes"
   ]
  },
  {
   "cell_type": "code",
   "execution_count": null,
   "id": "0147545f",
   "metadata": {},
   "outputs": [],
   "source": [
    "Pivot_table_f['PIN Code_2'] = pd.to_numeric(Pivot_table_f['PIN Code_2'])"
   ]
  },
  {
   "cell_type": "code",
   "execution_count": null,
   "id": "555dfb26",
   "metadata": {},
   "outputs": [],
   "source": [
    "RWN_Revisit_pin_2.head(1)"
   ]
  },
  {
   "cell_type": "code",
   "execution_count": null,
   "id": "2afe1880",
   "metadata": {},
   "outputs": [],
   "source": [
    "RWN_Revisit_pin_2['PIN Code_2'] = pd.to_numeric(RWN_Revisit_pin_2['PIN Code_2'])"
   ]
  },
  {
   "cell_type": "code",
   "execution_count": null,
   "id": "0ea96c56",
   "metadata": {},
   "outputs": [],
   "source": [
    "RWN_Revisit_pin_2.dtypes"
   ]
  },
  {
   "cell_type": "code",
   "execution_count": null,
   "id": "9f8cb219",
   "metadata": {},
   "outputs": [],
   "source": [
    "RWN_Revisit_pin_2_merge = RWN_Revisit_pin_2.merge(Pivot_table_f, on='PIN Code_2', how='left')"
   ]
  },
  {
   "cell_type": "code",
   "execution_count": null,
   "id": "9302c46d",
   "metadata": {},
   "outputs": [],
   "source": [
    "RWN_Revisit_pin_2_merge.drop_duplicates(subset = ['Merchant ID'], inplace = True)"
   ]
  },
  {
   "cell_type": "code",
   "execution_count": null,
   "id": "e3461c14",
   "metadata": {},
   "outputs": [],
   "source": [
    "RWN_Revisit_pin_2 = RWN_Revisit_pin_2_merge"
   ]
  },
  {
   "cell_type": "markdown",
   "id": "b0c73d7c",
   "metadata": {},
   "source": [
    "# Replace NaN in Approved Time and Approved Remarks with \"NA\""
   ]
  },
  {
   "cell_type": "code",
   "execution_count": null,
   "id": "8d427015",
   "metadata": {},
   "outputs": [],
   "source": [
    "RWN_Revisit_at_ar = RWN_Revisit_c.fillna({'Approved Time': 'NA', 'Approved Remarks': 'NA'})\n",
    "RWN_Revisit_at_ar.filter(['Approved Time', 'Approved Remarks']).head(5)"
   ]
  },
  {
   "cell_type": "code",
   "execution_count": null,
   "id": "27d0949d",
   "metadata": {},
   "outputs": [],
   "source": [
    "RWN_Revisit_c.shape"
   ]
  },
  {
   "cell_type": "markdown",
   "id": "9cf9183a",
   "metadata": {},
   "source": [
    "# Index Merchant ID\n",
    "# Merge all the columns in a single Row\n",
    "#### Left join the pin code(RWN_Revisit_pin_2) to the main project dataframe"
   ]
  },
  {
   "cell_type": "code",
   "execution_count": null,
   "id": "8fdca15e",
   "metadata": {},
   "outputs": [],
   "source": [
    "RWN_Revisit_c_2 = RWN_Revisit_at_ar.merge(RWN_Revisit_pin_2, how = 'left' ,on = 'Merchant ID')"
   ]
  },
  {
   "cell_type": "code",
   "execution_count": null,
   "id": "e4ae2ab5",
   "metadata": {},
   "outputs": [],
   "source": [
    "RWN_Revisit_at_ar.shape"
   ]
  },
  {
   "cell_type": "code",
   "execution_count": null,
   "id": "19e4ee2f",
   "metadata": {},
   "outputs": [],
   "source": [
    "RWN_Revisit_c_2['City Name_2'].fillna(RWN_Revisit_c_2['City Name'], inplace=True)"
   ]
  },
  {
   "cell_type": "code",
   "execution_count": null,
   "id": "9053de03",
   "metadata": {},
   "outputs": [],
   "source": [
    "RWN_Revisit_c_3 = RWN_Revisit_c_2.filter(['City Name_2','Merchant ID','Merchant Name', 'Visit Count', \n",
    "'Business Category','Owner Mobile No.', 'Follow Up Date', 'PIN Code_2', 'On Boarding Date', 'On Boarding Time',\n",
    "'On-Boarded Employee Code', 'Visit By', 'Employee Code', 'Role Name', 'POD Name', 'POD ID', 'Employment Type',\n",
    "'Revisit Date', 'Revisit Time', 'Team Lead Name', 'Remarks', 'Visit Status', 'Approved By', 'Approved Date',\n",
    "'Approved Time', 'Approved Remarks', 'Reason for not Accepting Payments using G-Pay',\n",
    "'New Collateral Given : QR Code label', 'New Collateral Given : G-Pay Accepted Sticker',\n",
    "'New Collateral Given : Dangler', 'QR Code String', 'Not Interested in Gpay Reasons', 'Created By',\n",
    "'Created Name', 'Created Date', 'Merchant Ext ID', 'google_daily_file', 'CompletedSubTaskTypes',\n",
    "'Task Count', 'Is in Source File?_x' ,'PreProvisionedQRCount', 'StickerQRCount', 'StandeeQRCount', \n",
    "'Validity_o', 'InvalidReasons', 'Is in Latest Source?','segments','OLD DataSoruce?',\n",
    "'Google Pincode', 'Is in Dynamic Source?','Is in Dynamic Source Visit Date Valid?', 'Report Date', \n",
    "'IngestionStatus', 'Report Date', 'Ingestion Date', 'Revisit Expire Date']).rename(\n",
    "    columns={'InvalidReasons':'Invalid Reason','segments':'Segment','PIN Code_2':'PIN Code',\n",
    "           \"City Name_2\":\"City Name\" ,'Is in Dynamic + Consolidated Source?':'Is in Source File?', \n",
    "             'Validity_o':'Validity'})"
   ]
  },
  {
   "cell_type": "code",
   "execution_count": null,
   "id": "16b7a1d2",
   "metadata": {},
   "outputs": [],
   "source": [
    "RWN_Revisit_c_3['City Name'].replace(\"Bhopal\", \"Hyderabad\", inplace=True)"
   ]
  },
  {
   "cell_type": "markdown",
   "id": "3594d74c",
   "metadata": {},
   "source": [
    "#### Index Merchant ID # Test Code"
   ]
  },
  {
   "cell_type": "code",
   "execution_count": null,
   "id": "b9fc4190",
   "metadata": {},
   "outputs": [],
   "source": [
    "RWN_Revisit_i = RWN_Revisit_c_3.set_index('City Name')"
   ]
  },
  {
   "cell_type": "code",
   "execution_count": null,
   "id": "844407e6",
   "metadata": {},
   "outputs": [],
   "source": [
    "len(RWN_Revisit_i)"
   ]
  },
  {
   "cell_type": "markdown",
   "id": "33f4907e",
   "metadata": {},
   "source": [
    "# Rename Codes"
   ]
  },
  {
   "cell_type": "markdown",
   "id": "37b5629f",
   "metadata": {},
   "source": [
    "#### Rename the Column to Is in Google Daily File?"
   ]
  },
  {
   "cell_type": "code",
   "execution_count": null,
   "id": "a723fd6d",
   "metadata": {},
   "outputs": [],
   "source": [
    "RWN_Revisit_o = RWN_Revisit_i.rename(columns = {'google_daily_file': 'Is in Google Daily File?'})"
   ]
  },
  {
   "cell_type": "markdown",
   "id": "4e0aa1f6",
   "metadata": {},
   "source": [
    "#### Download the Final File"
   ]
  },
  {
   "cell_type": "code",
   "execution_count": null,
   "id": "bd1ac228",
   "metadata": {},
   "outputs": [],
   "source": [
    "RWN_Revisit_o.to_excel('RWN_Revisit_1.xlsx')"
   ]
  },
  {
   "cell_type": "markdown",
   "id": "130c7f60",
   "metadata": {},
   "source": [
    "# Optimizing Output"
   ]
  },
  {
   "cell_type": "code",
   "execution_count": null,
   "id": "487506a1",
   "metadata": {},
   "outputs": [],
   "source": [
    "wb = op.load_workbook('RWN_Revisit_1.xlsx')"
   ]
  },
  {
   "cell_type": "code",
   "execution_count": null,
   "id": "eaf1e98a",
   "metadata": {},
   "outputs": [],
   "source": [
    "ws = wb['Sheet1']"
   ]
  },
  {
   "cell_type": "code",
   "execution_count": null,
   "id": "b17cf97f",
   "metadata": {},
   "outputs": [],
   "source": [
    "ws.column_dimensions['A'].width = 12\n",
    "ws.column_dimensions['B'].width = 12\n",
    "ws.column_dimensions['C'].width = 12\n",
    "ws.column_dimensions['D'].width = 12\n",
    "ws.column_dimensions['E'].width = 12\n",
    "ws.column_dimensions['F'].width = 12\n",
    "ws.column_dimensions['G'].width = 12\n",
    "ws.column_dimensions['H'].width = 12\n",
    "ws.column_dimensions['I'].width = 12\n",
    "ws.column_dimensions['J'].width = 12\n",
    "ws.column_dimensions['K'].width = 12\n",
    "ws.column_dimensions['L'].width = 12\n",
    "ws.column_dimensions['M'].width = 12\n",
    "ws.column_dimensions['N'].width = 12\n",
    "ws.column_dimensions['O'].width = 12\n",
    "ws.column_dimensions['P'].width = 12\n",
    "ws.column_dimensions['Q'].width = 12\n",
    "ws.column_dimensions['R'].width = 12\n",
    "ws.column_dimensions['S'].width = 12\n",
    "ws.column_dimensions['T'].width = 12\n",
    "ws.column_dimensions['U'].width = 12\n",
    "ws.column_dimensions['V'].width = 12\n",
    "ws.column_dimensions['W'].width = 12\n",
    "ws.column_dimensions['X'].width = 12\n",
    "ws.column_dimensions['Y'].width = 12\n",
    "ws.column_dimensions['Z'].width = 12\n",
    "ws.column_dimensions['AA'].width = 12\n",
    "ws.column_dimensions['AB'].width = 12\n",
    "ws.column_dimensions['AC'].width = 12\n",
    "ws.column_dimensions['AD'].width = 12\n",
    "ws.column_dimensions['AE'].width = 12\n",
    "ws.column_dimensions['AF'].width = 12\n",
    "ws.column_dimensions['AG'].width = 12\n",
    "ws.column_dimensions['AH'].width = 12\n",
    "ws.column_dimensions['AI'].width = 12\n",
    "ws.column_dimensions['AJ'].width = 12\n",
    "ws.column_dimensions['AK'].width = 12\n",
    "ws.column_dimensions['AL'].width = 12\n",
    "ws.column_dimensions['AM'].width = 12\n",
    "ws.column_dimensions['AN'].width = 12\n",
    "ws.column_dimensions['AO'].width = 12\n",
    "ws.column_dimensions['AP'].width = 12\n",
    "ws.column_dimensions['AQ'].width = 12\n",
    "ws.column_dimensions['AR'].width = 12\n",
    "ws.column_dimensions['AS'].width = 14\n",
    "ws.column_dimensions['AT'].width = 12\n",
    "ws.column_dimensions['AU'].width = 12\n",
    "ws.column_dimensions['AV'].width = 12\n",
    "ws.column_dimensions['AW'].width = 12\n",
    "ws.column_dimensions['AX'].width = 12\n",
    "ws.column_dimensions['AY'].width = 12"
   ]
  },
  {
   "cell_type": "markdown",
   "id": "4cb18e2c",
   "metadata": {},
   "source": [
    "## Row Height"
   ]
  },
  {
   "cell_type": "code",
   "execution_count": null,
   "id": "0b2f937c",
   "metadata": {},
   "outputs": [],
   "source": [
    "ws.row_dimensions[1].height = 50"
   ]
  },
  {
   "cell_type": "markdown",
   "id": "1acff31a",
   "metadata": {},
   "source": [
    "# Change Font Style"
   ]
  },
  {
   "cell_type": "code",
   "execution_count": null,
   "id": "ba3e2d1c",
   "metadata": {},
   "outputs": [],
   "source": [
    "Rows = Font(name='Arial', bold= False, size = \"10\")\n",
    "Heading_Rows = Font(name='Arial', bold= True, size = \"10\")"
   ]
  },
  {
   "cell_type": "code",
   "execution_count": null,
   "id": "e30128eb",
   "metadata": {},
   "outputs": [],
   "source": [
    "col = RWN_Revisit_o.columns"
   ]
  },
  {
   "cell_type": "markdown",
   "id": "5bbb1bbd",
   "metadata": {},
   "source": [
    "#### Font change for header"
   ]
  },
  {
   "cell_type": "code",
   "execution_count": null,
   "id": "1f7dfd81",
   "metadata": {},
   "outputs": [],
   "source": [
    "for j in range(1, (len(col)+2)):\n",
    "        ws.cell(row=1, column=j).font = Heading_Rows"
   ]
  },
  {
   "cell_type": "markdown",
   "id": "d2a524bb",
   "metadata": {},
   "source": [
    "#### Font change for body"
   ]
  },
  {
   "cell_type": "code",
   "execution_count": null,
   "id": "f561f6a6",
   "metadata": {},
   "outputs": [],
   "source": [
    "for i in range(2, (len(RWN_Revisit_o)+2)):\n",
    "    for j in range(1, (len(col)+2)):\n",
    "        ws.cell(row=i, column=j).font = Rows"
   ]
  },
  {
   "cell_type": "markdown",
   "id": "aea1dcc0",
   "metadata": {},
   "source": [
    "# No Border"
   ]
  },
  {
   "cell_type": "code",
   "execution_count": null,
   "id": "827737d7",
   "metadata": {},
   "outputs": [],
   "source": [
    "border = Border(left=None, right=None, top=None, bottom=None)"
   ]
  },
  {
   "cell_type": "code",
   "execution_count": null,
   "id": "6dd4a943",
   "metadata": {},
   "outputs": [],
   "source": [
    "for i in range(1, (len(RWN_Revisit_o)+2)):\n",
    "    for j in range(1, (len(col)+2)):\n",
    "        ws.cell(row=i, column=j).border = border"
   ]
  },
  {
   "cell_type": "markdown",
   "id": "bee2630f",
   "metadata": {},
   "source": [
    "# Alignment"
   ]
  },
  {
   "cell_type": "code",
   "execution_count": null,
   "id": "d8a31237",
   "metadata": {},
   "outputs": [],
   "source": [
    "body_ali = Alignment(wrap_text=False, horizontal=\"center\", vertical=\"center\")"
   ]
  },
  {
   "cell_type": "code",
   "execution_count": null,
   "id": "8ce53858",
   "metadata": {},
   "outputs": [],
   "source": [
    "head_ali = Alignment(wrap_text=True, shrinkToFit=True, horizontal=\"center\", vertical=\"center\")"
   ]
  },
  {
   "cell_type": "code",
   "execution_count": null,
   "id": "919f245b",
   "metadata": {},
   "outputs": [],
   "source": [
    "for j in range(1, (len(col)+2)):\n",
    "        ws.cell(row=1, column=j).alignment = head_ali"
   ]
  },
  {
   "cell_type": "code",
   "execution_count": null,
   "id": "ed9567b2",
   "metadata": {},
   "outputs": [],
   "source": [
    "for i in range(2, (len(RWN_Revisit_o)+2)):\n",
    "    for j in range(2, (len(col)+2)):\n",
    "        ws.cell(row=i, column=j).alignment = body_ali"
   ]
  },
  {
   "cell_type": "markdown",
   "id": "92a78007",
   "metadata": {},
   "source": [
    "# Download File"
   ]
  },
  {
   "cell_type": "code",
   "execution_count": null,
   "id": "d4633a62",
   "metadata": {},
   "outputs": [],
   "source": [
    "wb.save(output_loc+'RWN_Revisit_Final.xlsx')"
   ]
  },
  {
   "cell_type": "code",
   "execution_count": null,
   "id": "9478508a",
   "metadata": {},
   "outputs": [],
   "source": [
    "RWN_Revisit_raw.head(1)"
   ]
  },
  {
   "cell_type": "code",
   "execution_count": null,
   "id": "46889217",
   "metadata": {
    "scrolled": true
   },
   "outputs": [],
   "source": [
    "RWN_Revisit_c_3.head(1)"
   ]
  },
  {
   "cell_type": "code",
   "execution_count": null,
   "id": "eb93b6f4",
   "metadata": {},
   "outputs": [],
   "source": [
    "RWN_Revisit_raw = RWN_Revisit_raw[['City Name','Merchant ID','Merchant Name','Visit Count','Business Category',\n",
    "'Owner Mobile No.','Follow Up Date','PIN Code','On Boarding Date','On Boarding Time','On-Boarded Employee Code',\n",
    "'Visit By','Employee Code','Role Name','POD Name','POD ID','Employment Type','Revisit Date','Revisit Time',\n",
    "'Team Lead Name','Remarks','Visit Status','Approved By','Approved Date','Approved Time','Approved Remarks',\n",
    "'Reason for not Accepting Payments using G-Pay','New Collateral Given : QR Code label',\n",
    "'New Collateral Given : G-Pay Accepted Sticker','New Collateral Given : Dangler','QR Code String',\n",
    "'Not Interested in Gpay Reasons','Created By','Created Name','Created Date','Merchant Ext ID',]]"
   ]
  },
  {
   "cell_type": "code",
   "execution_count": null,
   "id": "51e1e062",
   "metadata": {},
   "outputs": [],
   "source": [
    "RWN_Revisit_raw.to_excel(output_loc+'RWM_Revisit_Raw.xlsx', index=False)"
   ]
  },
  {
   "cell_type": "code",
   "execution_count": null,
   "id": "77669710",
   "metadata": {},
   "outputs": [],
   "source": []
  },
  {
   "cell_type": "code",
   "execution_count": null,
   "id": "c3ac93f9",
   "metadata": {},
   "outputs": [],
   "source": [
    "source_file ="
   ]
  },
  {
   "cell_type": "markdown",
   "id": "59b1e525",
   "metadata": {},
   "source": [
    "# Source file match"
   ]
  },
  {
   "cell_type": "code",
   "execution_count": null,
   "id": "5fdfd30c",
   "metadata": {},
   "outputs": [],
   "source": [
    "input_loc_source = \"/home/dhrubakumardolai/Desktop/Python Test/Target/Source Match/\""
   ]
  },
  {
   "cell_type": "code",
   "execution_count": null,
   "id": "73c5b139",
   "metadata": {},
   "outputs": [],
   "source": [
    "target_file = pd.read_csv(input_loc_source+\"target(1).csv\")"
   ]
  },
  {
   "cell_type": "code",
   "execution_count": null,
   "id": "f8e74297",
   "metadata": {},
   "outputs": [],
   "source": [
    "target_file['Revisit Date'].fillna(method='bfill', inplace=True)\n",
    "target_file['Revisit Date'].fillna(method='ffill', inplace=True)"
   ]
  },
  {
   "cell_type": "code",
   "execution_count": null,
   "id": "aadb0f0f",
   "metadata": {},
   "outputs": [],
   "source": [
    "target_file.head(1)"
   ]
  },
  {
   "cell_type": "code",
   "execution_count": null,
   "id": "7ad6600b",
   "metadata": {},
   "outputs": [],
   "source": [
    "target_file.shape"
   ]
  },
  {
   "cell_type": "code",
   "execution_count": null,
   "id": "b25de8e3",
   "metadata": {},
   "outputs": [],
   "source": [
    "target_file['Primary_key'] = range(1,(1+len(target_file)))"
   ]
  },
  {
   "cell_type": "code",
   "execution_count": null,
   "id": "78669bc4",
   "metadata": {},
   "outputs": [],
   "source": []
  },
  {
   "cell_type": "code",
   "execution_count": null,
   "id": "fc3f750d",
   "metadata": {},
   "outputs": [],
   "source": [
    "Dynamic_source_aug.head(1)"
   ]
  },
  {
   "cell_type": "code",
   "execution_count": null,
   "id": "2c10f80d",
   "metadata": {
    "scrolled": true
   },
   "outputs": [],
   "source": [
    "Source_data_Q1_2022.head(1)"
   ]
  },
  {
   "cell_type": "code",
   "execution_count": null,
   "id": "137228f7",
   "metadata": {
    "scrolled": true
   },
   "outputs": [],
   "source": [
    "Source_data_Q2_2022.head(1)"
   ]
  },
  {
   "cell_type": "code",
   "execution_count": null,
   "id": "fa604f93",
   "metadata": {
    "scrolled": true
   },
   "outputs": [],
   "source": [
    "Source_data_Q1_2022_ingestion.head(1)"
   ]
  },
  {
   "cell_type": "code",
   "execution_count": null,
   "id": "e7fdfdb9",
   "metadata": {
    "scrolled": false
   },
   "outputs": [],
   "source": [
    "For_matching.head(1)"
   ]
  },
  {
   "cell_type": "code",
   "execution_count": null,
   "id": "851c0eb6",
   "metadata": {},
   "outputs": [],
   "source": [
    "Vaco_RV_Q2_2022.head(1)"
   ]
  },
  {
   "cell_type": "code",
   "execution_count": null,
   "id": "de46929a",
   "metadata": {},
   "outputs": [],
   "source": [
    "Vaco_RV_Q2_2022.shape"
   ]
  },
  {
   "cell_type": "markdown",
   "id": "97b2ae52",
   "metadata": {},
   "source": [
    "### Dynamic Source Match"
   ]
  },
  {
   "cell_type": "code",
   "execution_count": null,
   "id": "3c1201ec",
   "metadata": {
    "scrolled": true
   },
   "outputs": [],
   "source": [
    "Dynamic_source_aug_f = Dynamic_source_aug[['MerchantId', 'Objectives', 'IngestionStatus', 'Report Date', \n",
    "                                           'Ingestion Date', 'Revisit Expire Date']]"
   ]
  },
  {
   "cell_type": "code",
   "execution_count": null,
   "id": "20a0988b",
   "metadata": {},
   "outputs": [],
   "source": [
    "Dynamic_source_aug_f.drop_duplicates(subset=['MerchantId'], keep='last', inplace=True)"
   ]
  },
  {
   "cell_type": "code",
   "execution_count": null,
   "id": "c8d46c98",
   "metadata": {},
   "outputs": [],
   "source": [
    "Dynamic_source_aug_f.rename(columns={'MerchantId':'MerchantExternalId'}, inplace=True)"
   ]
  },
  {
   "cell_type": "code",
   "execution_count": null,
   "id": "4f108d0d",
   "metadata": {},
   "outputs": [],
   "source": [
    "Dynamic_source_aug_f['Objectives'].replace('checkin-nob', \"Active\", inplace=True)\n",
    "Dynamic_source_aug_f['Objectives'].replace('inactive | stuck_settlements', 'inactive', inplace=True)\n",
    "Dynamic_source_aug_f['Objectives'].replace('support | stuck_settlements', 'support', inplace=True)\n",
    "Dynamic_source_aug_f['Objectives'].replace('stuck_settlements | inactive', 'inactive', inplace=True)\n",
    "Dynamic_source_aug_f['Objectives'].replace('stuck_settlements | active', 'active', inplace=True)\n",
    "Dynamic_source_aug_f['Objectives'].replace('stuck_settlements | support', 'support', inplace=True)\n",
    "Dynamic_source_aug_f['Objectives'].replace('P0 | active | checkin-nob', 'PO| active', inplace=True)\n",
    "Dynamic_source_aug_f['Objectives'].replace('active | stuck_settlements | P0', 'active|P0', inplace=True)\n",
    "Dynamic_source_aug_f['Objectives'].replace('active | P0 | checkin-nob', 'active|P0', inplace=True)\n",
    "Dynamic_source_aug_f['Objectives'].replace('active | stuck_settlements', 'active', inplace=True)\n",
    "Dynamic_source_aug_f['Objectives'].replace('checkin-nob | active | P0', 'active|P0', inplace=True)"
   ]
  },
  {
   "cell_type": "code",
   "execution_count": null,
   "id": "c4acad28",
   "metadata": {},
   "outputs": [],
   "source": [
    "Dynamic_source_aug_f['Objectives'].replace('checkin-nob | P0 | active', 'PO| active', inplace=True)\n",
    "Dynamic_source_aug_f['Objectives'].replace('active | REVIEW_MERCHANT_EDIT', 'active', inplace=True)\n",
    "Dynamic_source_aug_f['Objectives'].replace('NULL', np.nan, inplace=True)\n",
    "Dynamic_source_aug_f['Objectives'].replace('REVIEW_MERCHANT_EDIT | inactive', 'inactive', inplace=True)\n",
    "Dynamic_source_aug_f['Objectives'].replace('P0 | checkin-nob | active', 'PO| active', inplace=True)\n",
    "Dynamic_source_aug_f['Objectives'].replace('REVIEW_MERCHANT_EDIT | active', 'active', inplace=True)\n",
    "Dynamic_source_aug_f['Objectives'].replace('stuck_settlements | active | P0', 'active|P0', inplace=True)\n",
    "Dynamic_source_aug_f['Objectives'].replace('checkin-nob | REVIEW_MERCHANT_EDIT', 'Revisit_Merchant_Edit', inplace=True)\n",
    "Dynamic_source_aug_f['Objectives'].replace('active | checkin-nob | P0', 'active|P0', inplace=True)\n",
    "Dynamic_source_aug_f['Objectives'].replace('inactive | REVIEW_MERCHANT_EDIT', 'inactive', inplace=True)\n",
    "Dynamic_source_aug_f['Objectives'].replace('P0 | REVIEW_MERCHANT_EDIT | active', 'PO| active', inplace=True)\n",
    "Dynamic_source_aug_f['Objectives'].replace('stuck_settlements | inactive | REVIEW_MERCHANT_EDIT', 'inactive', inplace=True)\n",
    "Dynamic_source_aug_f['Objectives'].replace('stuck_settlements | checkin-nob', 'stuck_settlements', inplace=True)"
   ]
  },
  {
   "cell_type": "code",
   "execution_count": null,
   "id": "54ac6bda",
   "metadata": {},
   "outputs": [],
   "source": [
    "Dynamic_source_aug_f['Objectives'].replace('active | P0 | stuck_settlements', 'active|P0', inplace=True)\n",
    "Dynamic_source_aug_f['Objectives'].replace('active | P0 | REVIEW_MERCHANT_EDIT', 'active|P0', inplace=True)\n",
    "Dynamic_source_aug_f['Objectives'].replace('P0 | active | REVIEW_MERCHANT_EDIT', 'PO| active', inplace=True)\n",
    "Dynamic_source_aug_f['Objectives'].replace('stuck_settlements | P0 | active', 'PO| active', inplace=True)\n",
    "Dynamic_source_aug_f['Objectives'].replace('active | REVIEW_MERCHANT_EDIT | P0', 'active|P0', inplace=True)\n",
    "Dynamic_source_aug_f['Objectives'].replace('REVIEW_MERCHANT_EDIT | checkin-nob | active | P0', 'active|P0', inplace=True)\n",
    "Dynamic_source_aug_f['Objectives'].replace('stuck_settlements | credit', 'credit', inplace=True)\n",
    "Dynamic_source_aug_f['Objectives'].replace('credit | stuck_settlements', 'credit', inplace=True)\n",
    "Dynamic_source_aug_f['Objectives'].replace('REVIEW_MERCHANT_EDIT | P0 | active', 'active|P0', inplace=True)\n",
    "Dynamic_source_aug_f['Objectives'].replace('P0 | stuck_settlements | active', 'active|P0', inplace=True)\n",
    "Dynamic_source_aug_f['Objectives'].replace('REVIEW_MERCHANT_EDIT | stuck_settlements | support', 'Support', inplace=True)\n",
    "Dynamic_source_aug_f['Objectives'].replace('checkin-nob | P0 | active | REVIEW_MERCHANT_EDIT', 'active|P0', inplace=True)\n",
    "Dynamic_source_aug_f['Objectives'].replace('active | checkin-nob | stuck_settlements | P0', 'active|P0', inplace=True)\n",
    "Dynamic_source_aug_f['Objectives'].replace('P0 | REVIEW_MERCHANT_EDIT', 'Revisit_Merchant_Edit', inplace=True)"
   ]
  },
  {
   "cell_type": "code",
   "execution_count": null,
   "id": "2f511101",
   "metadata": {},
   "outputs": [],
   "source": [
    "Dynamic_source_aug_f['Objectives'].replace('P0 | active | stuck_settlements', 'active|P0', inplace=True)\n",
    "Dynamic_source_aug_f['Objectives'].replace('REVIEW_MERCHANT_EDIT | stuck_settlements', 'Revisit_Merchant_Edit', inplace=True)\n",
    "Dynamic_source_aug_f['Objectives'].replace('stuck_settlements | REVIEW_MERCHANT_EDIT', 'Revisit_Merchant_Edit', inplace=True)\n",
    "Dynamic_source_aug_f['Objectives'].replace('REVIEW_MERCHANT_EDIT | P0', 'Revisit_Merchant_Edit', inplace=True)\n",
    "Dynamic_source_aug_f['Objectives'].replace('REVIEW_MERCHANT_EDIT | active | P0', 'active|P0', inplace=True)\n",
    "Dynamic_source_aug_f['Objectives'].replace('REVIEW_MERCHANT_EDIT | credit', 'credit', inplace=True)\n",
    "Dynamic_source_aug_f['Objectives'].replace('REVIEW_MERCHANT_EDIT | checkin-nob', 'Revisit_Merchant_Edit', inplace=True)\n",
    "Dynamic_source_aug_f['Objectives'].replace('active | credit | stuck_settlements', 'active|credit ', inplace=True)\n",
    "Dynamic_source_aug_f['Objectives'].replace('credit | active', 'credit | active', inplace=True)\n",
    "Dynamic_source_aug_f['Objectives'].replace('REVIEW_MERCHANT_EDIT | support | stuck_settlements', 'support', inplace=True)\n",
    "Dynamic_source_aug_f['Objectives'].replace('checkin-nob | stuck_settlements', 'stuck_settlements', inplace=True)\n",
    "Dynamic_source_aug_f['Objectives'].replace('active | stuck_settlements | credit', 'active|credit', inplace=True)"
   ]
  },
  {
   "cell_type": "code",
   "execution_count": null,
   "id": "899b7cee",
   "metadata": {},
   "outputs": [],
   "source": [
    "Dynamic_source_aug_f['Objectives'].replace('credit | REVIEW_MERCHANT_EDIT', 'credit', inplace=True)\n",
    "Dynamic_source_aug_f['Objectives'].replace('active | credit | REVIEW_MERCHANT_EDIT', 'active | credit', inplace=True)\n",
    "Dynamic_source_aug_f['Objectives'].replace('stuck_settlements | active | REVIEW_MERCHANT_EDIT', 'active', inplace=True)\n",
    "Dynamic_source_aug_f['Objectives'].replace('checkin-nob | active | REVIEW_MERCHANT_EDIT | P0', 'active|P0', inplace=True)\n",
    "Dynamic_source_aug_f['Objectives'].replace('active | REVIEW_MERCHANT_EDIT | credit', 'active|credit', inplace=True)\n",
    "Dynamic_source_aug_f['Objectives'].replace('stuck_settlements | REVIEW_MERCHANT_EDIT | active', 'active', inplace=True)\n",
    "Dynamic_source_aug_f['Objectives'].replace('REVIEW_MERCHANT_EDIT | checkin-nob | P0 | active', 'active|P0', inplace=True)\n",
    "Dynamic_source_aug_f['Objectives'].replace('REVIEW_MERCHANT_EDIT | active | credit', 'active|credit', inplace=True)\n",
    "Dynamic_source_aug_f['Objectives'].replace('active | stuck_settlements | REVIEW_MERCHANT_EDIT', 'active', inplace=True)\n",
    "Dynamic_source_aug_f['Objectives'].replace('inactive | stuck_settlements | REVIEW_MERCHANT_EDIT', 'inactive', inplace=True)\n",
    "Dynamic_source_aug_f['Objectives'].replace('REVIEW_MERCHANT_EDIT | active | stuck_settlements', 'active', inplace=True)\n",
    "Dynamic_source_aug_f['Objectives'].replace('stuck_settlements | active | REVIEW_MERCHANT_EDIT | P0', 'active|P0', inplace=True)\n",
    "Dynamic_source_aug_f['Objectives'].replace('REVIEW_MERCHANT_EDIT | P0 | active | checkin-nob', 'active|P0', inplace=True)\n",
    "Dynamic_source_aug_f['Objectives'].replace('credit | REVIEW_MERCHANT_EDIT | active', 'credit|active', inplace=True)"
   ]
  },
  {
   "cell_type": "code",
   "execution_count": null,
   "id": "7b853c0d",
   "metadata": {},
   "outputs": [],
   "source": [
    "Dynamic_source_aug_f['Objectives'].replace('stuck_settlements | support | REVIEW_MERCHANT_EDIT', 'support', inplace=True)\n",
    "Dynamic_source_aug_f['Objectives'].replace('REVIEW_MERCHANT_EDIT | active | checkin-nob | P0', 'active|P0', inplace=True)\n",
    "Dynamic_source_aug_f['Objectives'].replace('support | stuck_settlements | REVIEW_MERCHANT_EDIT', 'support', inplace=True)\n",
    "Dynamic_source_aug_f['Objectives'].replace('REVIEW_MERCHANT_EDIT | P0 | checkin-nob | active', 'active|P0', inplace=True)\n",
    "Dynamic_source_aug_f['Objectives'].replace('P0 | checkin-nob | REVIEW_MERCHANT_EDIT | active', 'active|P0', inplace=True)\n",
    "Dynamic_source_aug_f['Objectives'].replace('credit | active | REVIEW_MERCHANT_EDIT', 'credit|active', inplace=True)\n",
    "Dynamic_source_aug_f['Objectives'].replace('checkin-nob | P0 | REVIEW_MERCHANT_EDIT | active', 'active|P0', inplace=True)\n",
    "Dynamic_source_aug_f['Objectives'].replace('checkin-nob | active | P0 | stuck_settlements', 'active|P0', inplace=True)\n",
    "Dynamic_source_aug_f['Objectives'].replace('P0 | REVIEW_MERCHANT_EDIT | active | checkin-nob', 'active|P0', inplace=True)\n",
    "Dynamic_source_aug_f['Objectives'].replace('active | P0 | REVIEW_MERCHANT_EDIT | checkin-nob', 'active|P0', inplace=True)\n",
    "Dynamic_source_aug_f['Objectives'].replace('REVIEW_MERCHANT_EDIT | inactive | stuck_settlements', 'inactive', inplace=True)\n",
    "Dynamic_source_aug_f['Objectives'].replace('P0 | active | checkin-nob | REVIEW_MERCHANT_EDIT', 'active|P0', inplace=True)\n",
    "Dynamic_source_aug_f['Objectives'].replace('credit | checkin-nob', 'credit', inplace=True)"
   ]
  },
  {
   "cell_type": "code",
   "execution_count": null,
   "id": "089827aa",
   "metadata": {},
   "outputs": [],
   "source": [
    "Dynamic_source_aug_f['Objectives'].replace('support | REVIEW_MERCHANT_EDIT', 'support', inplace=True)\n",
    "Dynamic_source_aug_f['Objectives'].replace('stuck_settlements | REVIEW_MERCHANT_EDIT | inactive', 'inactive', inplace=True)\n",
    "Dynamic_source_aug_f['Objectives'].replace('active | REVIEW_MERCHANT_EDIT | checkin-nob | P0', 'active|P0', inplace=True)\n",
    "Dynamic_source_aug_f['Objectives'].replace('active | REVIEW_MERCHANT_EDIT | stuck_settlements', 'active|P0', inplace=True)\n",
    "Dynamic_source_aug_f['Objectives'].replace('REVIEW_MERCHANT_EDIT | credit | active', 'credit|active', inplace=True)\n",
    "Dynamic_source_aug_f['Objectives'].replace('inactive | REVIEW_MERCHANT_EDIT | stuck_settlements', 'inactive', inplace=True)\n",
    "Dynamic_source_aug_f['Objectives'].replace('REVIEW_MERCHANT_EDIT | stuck_settlements | inactive', 'inactive', inplace=True)\n",
    "Dynamic_source_aug_f['Objectives'].replace('REVIEW_MERCHANT_EDIT | support', 'support', inplace=True)\n",
    "Dynamic_source_aug_f['Objectives'].replace('checkin-nob | REVIEW_MERCHANT_EDIT | P0 | active', 'active|P0', inplace=True)\n",
    "Dynamic_source_aug_f['Objectives'].replace('P0 | REVIEW_MERCHANT_EDIT | stuck_settlements', 'P0|stuck_settlements', inplace=True)\n",
    "Dynamic_source_aug_f['Objectives'].replace('REVIEW_MERCHANT_EDIT | stuck_settlements | active', 'active', inplace=True)\n",
    "Dynamic_source_aug_f['Objectives'].replace('stuck_settlements | REVIEW_MERCHANT_EDIT | support', 'support', inplace=True)"
   ]
  },
  {
   "cell_type": "code",
   "execution_count": null,
   "id": "5569d1ea",
   "metadata": {},
   "outputs": [],
   "source": [
    "Dynamic_source_aug_f['Objectives'].unique()"
   ]
  },
  {
   "cell_type": "code",
   "execution_count": null,
   "id": "2ff8d4ca",
   "metadata": {},
   "outputs": [],
   "source": [
    "Dynamic_source_aug_f['Objectives'] = Dynamic_source_aug_f['Objectives'].str.lower()"
   ]
  },
  {
   "cell_type": "code",
   "execution_count": null,
   "id": "ceb5e055",
   "metadata": {},
   "outputs": [],
   "source": [
    "Dynamic_source_aug_f.rename(columns={'Objectives':'Segments'}, inplace=True)"
   ]
  },
  {
   "cell_type": "code",
   "execution_count": null,
   "id": "5bebfbb8",
   "metadata": {},
   "outputs": [],
   "source": [
    "target_file_dynamic_match = target_file.merge(\n",
    "    Dynamic_source_aug_f, on='MerchantExternalId', how='left', indicator=True)"
   ]
  },
  {
   "cell_type": "code",
   "execution_count": null,
   "id": "2b231616",
   "metadata": {},
   "outputs": [],
   "source": [
    "target_file_dynamic_match.drop_duplicates(subset=['Primary_key'], inplace=True)"
   ]
  },
  {
   "cell_type": "code",
   "execution_count": null,
   "id": "d27b483b",
   "metadata": {},
   "outputs": [],
   "source": [
    "target_file_dynamic_match.rename(columns={'_merge':'Is in Dynamic Source?'}, inplace=True)"
   ]
  },
  {
   "cell_type": "code",
   "execution_count": null,
   "id": "c8935d0b",
   "metadata": {},
   "outputs": [],
   "source": [
    "target_file_dynamic_match['Is in Dynamic Source?'] = target_file_dynamic_match[\n",
    "    'Is in Dynamic Source?'].map({\"left_only\":\"No Match\", \"right_only\":'No Match', 'both':'Match'})"
   ]
  },
  {
   "cell_type": "code",
   "execution_count": null,
   "id": "bca44f51",
   "metadata": {},
   "outputs": [],
   "source": [
    "target_file_dynamic_match[\"Dynamic Validity\"] = target_file_dynamic_match[\n",
    "    'Is in Dynamic Source?'].map({'Match':\"VALID\", \"No Match\":np.nan})"
   ]
  },
  {
   "cell_type": "code",
   "execution_count": null,
   "id": "99d8227b",
   "metadata": {},
   "outputs": [],
   "source": [
    "target_file_dynamic_match['Is in Dynamic Source?_Final'] = target_file_dynamic_match['Is in Dynamic Source?']"
   ]
  },
  {
   "cell_type": "markdown",
   "id": "2d8bc3c8",
   "metadata": {},
   "source": [
    "# Is in Dynamic Source Visit Date Valid?"
   ]
  },
  {
   "cell_type": "code",
   "execution_count": null,
   "id": "30011dde",
   "metadata": {
    "scrolled": true
   },
   "outputs": [],
   "source": [
    "target_file_dynamic_match.head(1)"
   ]
  },
  {
   "cell_type": "code",
   "execution_count": null,
   "id": "13933fe2",
   "metadata": {},
   "outputs": [],
   "source": [
    "target_file_dynamic_match_f = target_file_dynamic_match[['Primary_key', 'IngestionStatus' ,'Revisit Date', \n",
    "                                                         'Revisit Expire Date']]"
   ]
  },
  {
   "cell_type": "code",
   "execution_count": null,
   "id": "09e22acd",
   "metadata": {},
   "outputs": [],
   "source": [
    "target_file_dynamic_match_f['Revisit Expire Date'] = pd.to_datetime(target_file_dynamic_match_f[\n",
    "    'Revisit Expire Date'])\n",
    "target_file_dynamic_match_f['Revisit Date'] = pd.to_datetime(target_file_dynamic_match_f[\n",
    "    'Revisit Date'])"
   ]
  },
  {
   "cell_type": "code",
   "execution_count": null,
   "id": "94e1b7c2",
   "metadata": {},
   "outputs": [],
   "source": [
    "target_file_dynamic_match_f['Revisit Expire Date'] = target_file_dynamic_match_f[\n",
    "    'Revisit Expire Date'].dt.strftime('%Y/%m/%d')\n",
    "target_file_dynamic_match_f['Revisit Date'] = target_file_dynamic_match_f[\n",
    "    'Revisit Date'].dt.strftime('%Y/%m/%d')"
   ]
  },
  {
   "cell_type": "code",
   "execution_count": null,
   "id": "9d3d0b04",
   "metadata": {},
   "outputs": [],
   "source": [
    "target_file_dynamic_match_f_del = target_file_dynamic_match_f[target_file_dynamic_match_f[\n",
    "    'IngestionStatus'].isin([\"DELETE\"])]"
   ]
  },
  {
   "cell_type": "code",
   "execution_count": null,
   "id": "1ca0ac51",
   "metadata": {
    "scrolled": false
   },
   "outputs": [],
   "source": [
    "target_file_dynamic_match_f_del.head(1)"
   ]
  },
  {
   "cell_type": "code",
   "execution_count": null,
   "id": "2062fe7d",
   "metadata": {},
   "outputs": [],
   "source": [
    "target_file_dynamic_match_f_del.shape"
   ]
  },
  {
   "cell_type": "markdown",
   "id": "968ae38b",
   "metadata": {},
   "source": [
    "# Check wheather the TaskSubmissionTimestamp > Revisit Expire Date"
   ]
  },
  {
   "cell_type": "code",
   "execution_count": null,
   "id": "32c682f8",
   "metadata": {},
   "outputs": [],
   "source": [
    "target_file_dynamic_match_f_del['Match_if_ED<RD'] = target_file_dynamic_match_f_del[\n",
    "    'Revisit Expire Date'] >= target_file_dynamic_match_f_del['Revisit Date']"
   ]
  },
  {
   "cell_type": "code",
   "execution_count": null,
   "id": "5cd0a5ea",
   "metadata": {
    "scrolled": true
   },
   "outputs": [],
   "source": [
    "target_file_dynamic_match_f_del['Match_if_ED<RD'].replace(True,\"VALID\", inplace=True)"
   ]
  },
  {
   "cell_type": "code",
   "execution_count": null,
   "id": "582c9dfa",
   "metadata": {},
   "outputs": [],
   "source": [
    "target_file_dynamic_match_f_del['Match_if_ED<RD'].replace(False,\"INVALID\", inplace=True)"
   ]
  },
  {
   "cell_type": "code",
   "execution_count": null,
   "id": "c10c2e3e",
   "metadata": {},
   "outputs": [],
   "source": [
    "target_file_dynamic_match_f_del['Match_Dynamic_Validity'] = target_file_dynamic_match_f_del['Match_if_ED<RD']"
   ]
  },
  {
   "cell_type": "code",
   "execution_count": null,
   "id": "f0f7a278",
   "metadata": {},
   "outputs": [],
   "source": [
    "target_file_dynamic_match_f_del2 = target_file_dynamic_match_f_del[['Primary_key', 'Match_Dynamic_Validity']]"
   ]
  },
  {
   "cell_type": "code",
   "execution_count": null,
   "id": "0eb978fc",
   "metadata": {},
   "outputs": [],
   "source": [
    "target_file_dynamic_match_merge = target_file_dynamic_match.merge(\n",
    "    target_file_dynamic_match_f_del2, on='Primary_key', how='left')"
   ]
  },
  {
   "cell_type": "code",
   "execution_count": null,
   "id": "53ecaed2",
   "metadata": {},
   "outputs": [],
   "source": [
    "target_file_dynamic_match_merge.drop_duplicates(subset=['Primary_key'], inplace=True)"
   ]
  },
  {
   "cell_type": "code",
   "execution_count": null,
   "id": "b3ce65ea",
   "metadata": {},
   "outputs": [],
   "source": [
    "target_file_dynamic_match_merge.head(1)"
   ]
  },
  {
   "cell_type": "code",
   "execution_count": null,
   "id": "e847c773",
   "metadata": {},
   "outputs": [],
   "source": [
    "target_file_dynamic_match_merge['Check_Delete_validity'] = target_file_dynamic_match_merge[\n",
    "    'Match_Dynamic_Validity'].str.contains(pat='INVALID')"
   ]
  },
  {
   "cell_type": "code",
   "execution_count": null,
   "id": "de3a740d",
   "metadata": {},
   "outputs": [],
   "source": [
    "target_file_dynamic_match_merge['Check_Delete_validity'].replace(False, \"Match\", inplace=True)\n",
    "target_file_dynamic_match_merge['Check_Delete_validity'].replace(True, \"No Match Dynamic\", inplace=True)"
   ]
  },
  {
   "cell_type": "code",
   "execution_count": null,
   "id": "d323a78f",
   "metadata": {},
   "outputs": [],
   "source": [
    "target_file_dynamic_match_merge['Match_Dynamic_Validity'].fillna(target_file_dynamic_match_merge[\n",
    "    'Dynamic Validity'], inplace=True)"
   ]
  },
  {
   "cell_type": "code",
   "execution_count": null,
   "id": "fc64663a",
   "metadata": {},
   "outputs": [],
   "source": [
    "target_file_dynamic_match_merge.drop(['Dynamic Validity'], axis=1, inplace=True)"
   ]
  },
  {
   "cell_type": "code",
   "execution_count": null,
   "id": "c2cc916b",
   "metadata": {},
   "outputs": [],
   "source": [
    "target_file_dynamic_match_merge['Check_Delete_validity'].fillna(target_file_dynamic_match_merge[\n",
    "    'Is in Dynamic Source?'], inplace=True)"
   ]
  },
  {
   "cell_type": "code",
   "execution_count": null,
   "id": "d0f460ac",
   "metadata": {},
   "outputs": [],
   "source": [
    "target_file_dynamic_match_merge.drop(['Is in Dynamic Source?'], axis=1, inplace=True)"
   ]
  },
  {
   "cell_type": "code",
   "execution_count": null,
   "id": "6439bb73",
   "metadata": {},
   "outputs": [],
   "source": [
    "target_file_dynamic_match_merge.rename(columns={\"Match_Dynamic_Validity\":\"Is the Dynamic Match Valid?\", \n",
    "                                               \"Check_Delete_validity\":\"Is in Dynamic Source?\"}, inplace=True)"
   ]
  },
  {
   "cell_type": "code",
   "execution_count": null,
   "id": "d4bb9967",
   "metadata": {},
   "outputs": [],
   "source": [
    "target_file_dynamic_match_merge.drop(['Is in Dynamic Source?_Final'], axis=1, inplace=True)"
   ]
  },
  {
   "cell_type": "code",
   "execution_count": null,
   "id": "763510c3",
   "metadata": {},
   "outputs": [],
   "source": [
    "target_file_dynamic_match_merge['Is in Dynamic Source?_Final'] = np.nan\n",
    "target_file_dynamic_match_merge['Is in Dynamic Source?_Final'] = target_file_dynamic_match_merge[\n",
    "    'Is in Dynamic Source?']"
   ]
  },
  {
   "cell_type": "markdown",
   "id": "0a4e63b6",
   "metadata": {},
   "source": [
    "# Update the empty segment with the q2 Segment"
   ]
  },
  {
   "cell_type": "code",
   "execution_count": null,
   "id": "6fce48ec",
   "metadata": {},
   "outputs": [],
   "source": [
    "target_file_dynamic_match_merge.head(1)"
   ]
  },
  {
   "cell_type": "code",
   "execution_count": null,
   "id": "de0c04ff",
   "metadata": {},
   "outputs": [],
   "source": [
    "Source_data_Q2_2022.head(1)"
   ]
  },
  {
   "cell_type": "code",
   "execution_count": null,
   "id": "dcd3eb8f",
   "metadata": {},
   "outputs": [],
   "source": [
    "target_file_dynamic_match_merge_f = target_file_dynamic_match_merge[['StorePhoneNumber', 'MerchantExternalId', \n",
    "                                                                     'IngestionStatus', 'Is in Dynamic Source?',\n",
    "                                                                    'Segments', 'Primary_key']]"
   ]
  },
  {
   "cell_type": "code",
   "execution_count": null,
   "id": "e54380c9",
   "metadata": {},
   "outputs": [],
   "source": [
    "target_file_dynamic_match_merge_f.head(1)"
   ]
  },
  {
   "cell_type": "code",
   "execution_count": null,
   "id": "151d8f1b",
   "metadata": {},
   "outputs": [],
   "source": [
    "target_file_dynamic_match_merge_f2 = target_file_dynamic_match_merge_f[~target_file_dynamic_match_merge_f[\n",
    "    \"IngestionStatus\"].isin([np.nan])]"
   ]
  },
  {
   "cell_type": "code",
   "execution_count": null,
   "id": "625dce24",
   "metadata": {},
   "outputs": [],
   "source": [
    "target_file_dynamic_match_merge_f2.head(1)"
   ]
  },
  {
   "cell_type": "code",
   "execution_count": null,
   "id": "f671e40a",
   "metadata": {},
   "outputs": [],
   "source": [
    "Source_data_Q2_2022_mid = Source_data_Q2_2022[[\n",
    "    'Merchant Ext ID', 'segments']].rename(columns={'Merchant Ext ID':\"MerchantExternalId\"})"
   ]
  },
  {
   "cell_type": "code",
   "execution_count": null,
   "id": "605d7ce4",
   "metadata": {},
   "outputs": [],
   "source": [
    "Source_data_Q2_2022_mn = Source_data_Q2_2022[[\n",
    "    'Phone Number', 'segments']].rename(columns={'Phone Number':\"StorePhoneNumber\"})"
   ]
  },
  {
   "cell_type": "code",
   "execution_count": null,
   "id": "aa379236",
   "metadata": {},
   "outputs": [],
   "source": [
    "target_file_dynamic_match_merge_f2_q2_mid = target_file_dynamic_match_merge_f2.merge(\n",
    "    Source_data_Q2_2022_mid, on=\"MerchantExternalId\", how='left', indicator = True)"
   ]
  },
  {
   "cell_type": "code",
   "execution_count": null,
   "id": "2526a2b6",
   "metadata": {},
   "outputs": [],
   "source": [
    "target_file_dynamic_match_merge_f2_q2_mid.rename(columns={'_merge':\"Dynamic MID in Source?\"}, inplace=True)"
   ]
  },
  {
   "cell_type": "code",
   "execution_count": null,
   "id": "fb54a6fd",
   "metadata": {},
   "outputs": [],
   "source": [
    "target_file_dynamic_match_merge_f2_q2_mid_mn = target_file_dynamic_match_merge_f2_q2_mid.merge(\n",
    "    Source_data_Q2_2022_mn, on=\"StorePhoneNumber\", how='left', indicator = True)"
   ]
  },
  {
   "cell_type": "code",
   "execution_count": null,
   "id": "4ddf1add",
   "metadata": {},
   "outputs": [],
   "source": [
    "target_file_dynamic_match_merge_f2_q2_mid_mn.rename(columns={'_merge':'Dynamic MN in Source?'}, inplace=True)"
   ]
  },
  {
   "cell_type": "code",
   "execution_count": null,
   "id": "9e38a045",
   "metadata": {},
   "outputs": [],
   "source": [
    "target_file_dynamic_match_merge_f2_q2_mid_mn['Segments'].fillna(target_file_dynamic_match_merge_f2_q2_mid_mn[\n",
    "    'segments_x'], inplace=True)"
   ]
  },
  {
   "cell_type": "code",
   "execution_count": null,
   "id": "017205c2",
   "metadata": {},
   "outputs": [],
   "source": [
    "target_file_dynamic_match_merge_f2_q2_mid_mn['Segments'].fillna(target_file_dynamic_match_merge_f2_q2_mid_mn[\n",
    "    'segments_y'], inplace=True)"
   ]
  },
  {
   "cell_type": "code",
   "execution_count": null,
   "id": "784387a5",
   "metadata": {
    "scrolled": true
   },
   "outputs": [],
   "source": [
    "target_file_dynamic_match_merge_f2_q2_mid_mn.head(1)"
   ]
  },
  {
   "cell_type": "code",
   "execution_count": null,
   "id": "59958641",
   "metadata": {},
   "outputs": [],
   "source": [
    "target_file_dynamic_match_merge_f2_q2_mid_mn_f = target_file_dynamic_match_merge_f2_q2_mid_mn[[\n",
    "    'Primary_key', 'Segments']].rename(columns={'Segments':\"New_Segments\"})"
   ]
  },
  {
   "cell_type": "code",
   "execution_count": null,
   "id": "ba8832c6",
   "metadata": {},
   "outputs": [],
   "source": [
    "target_file_dynamic_match_merge_f2_q2_mid_mn_f.head(1)"
   ]
  },
  {
   "cell_type": "code",
   "execution_count": null,
   "id": "ed750b23",
   "metadata": {},
   "outputs": [],
   "source": [
    "target_file_dynamic_match_merge2 = target_file_dynamic_match_merge.merge(\n",
    "    target_file_dynamic_match_merge_f2_q2_mid_mn_f, on='Primary_key', how='left')"
   ]
  },
  {
   "cell_type": "code",
   "execution_count": null,
   "id": "f774d9d9",
   "metadata": {},
   "outputs": [],
   "source": [
    "target_file_dynamic_match_merge2.drop_duplicates(subset=['Primary_key'], inplace=True)"
   ]
  },
  {
   "cell_type": "code",
   "execution_count": null,
   "id": "cc16be77",
   "metadata": {},
   "outputs": [],
   "source": [
    "target_file_dynamic_match_merge2['Segments'].fillna(target_file_dynamic_match_merge2['New_Segments'], inplace=True)"
   ]
  },
  {
   "cell_type": "code",
   "execution_count": null,
   "id": "5c74503e",
   "metadata": {},
   "outputs": [],
   "source": [
    "target_file_dynamic_match_merge2.drop(['New_Segments'], axis=1, inplace=True)"
   ]
  },
  {
   "cell_type": "markdown",
   "id": "7e3b8350",
   "metadata": {},
   "source": [
    "# Update the empty segment with the q1 Segment"
   ]
  },
  {
   "cell_type": "code",
   "execution_count": null,
   "id": "c5e6f489",
   "metadata": {},
   "outputs": [],
   "source": [
    "target_file_dynamic_match_merge2.head(1)"
   ]
  },
  {
   "cell_type": "code",
   "execution_count": null,
   "id": "5a31dea8",
   "metadata": {},
   "outputs": [],
   "source": [
    "Source_data_Q1_2022.head(1)"
   ]
  },
  {
   "cell_type": "code",
   "execution_count": null,
   "id": "2b0c55fc",
   "metadata": {},
   "outputs": [],
   "source": [
    "Source_data_Q1_2022_mid = Source_data_Q1_2022[[\n",
    "    'Merchant Ext.ID', 'segments']].rename(columns={\"Merchant Ext.ID\":'MerchantExternalId'})"
   ]
  },
  {
   "cell_type": "code",
   "execution_count": null,
   "id": "d0bf394a",
   "metadata": {},
   "outputs": [],
   "source": [
    "Source_data_Q1_2022_mn = Source_data_Q1_2022[[\n",
    "    'Phone Number', 'segments']].rename(columns={\"Phone Number\":'StorePhoneNumber'})"
   ]
  },
  {
   "cell_type": "code",
   "execution_count": null,
   "id": "f904afc5",
   "metadata": {},
   "outputs": [],
   "source": [
    "target_file_dynamic_match_merge2_f = target_file_dynamic_match_merge2[['StorePhoneNumber', 'MerchantExternalId', \n",
    "                                                                     'IngestionStatus', 'Is in Dynamic Source?',\n",
    "                                                                    'Segments', 'Primary_key']]"
   ]
  },
  {
   "cell_type": "code",
   "execution_count": null,
   "id": "6b96978f",
   "metadata": {},
   "outputs": [],
   "source": [
    "target_file_dynamic_match_merge2_f2 = target_file_dynamic_match_merge2_f[~target_file_dynamic_match_merge2_f[\n",
    "    \"IngestionStatus\"].isin([np.nan])]"
   ]
  },
  {
   "cell_type": "code",
   "execution_count": null,
   "id": "19edeb98",
   "metadata": {},
   "outputs": [],
   "source": [
    "target_file_dynamic_match_merge_f2_q1_mid = target_file_dynamic_match_merge2_f2.merge(\n",
    "    Source_data_Q1_2022_mid, on=\"MerchantExternalId\", how='left', indicator = True)"
   ]
  },
  {
   "cell_type": "code",
   "execution_count": null,
   "id": "95ecc980",
   "metadata": {},
   "outputs": [],
   "source": [
    "target_file_dynamic_match_merge_f2_q1_mid.rename(columns={'_merge':\"Dynamic MID in Source?\"}, inplace=True)"
   ]
  },
  {
   "cell_type": "code",
   "execution_count": null,
   "id": "6d103b8b",
   "metadata": {},
   "outputs": [],
   "source": [
    "target_file_dynamic_match_merge_f2_q1_mid_mn = target_file_dynamic_match_merge_f2_q1_mid.merge(\n",
    "    Source_data_Q1_2022_mn, on=\"StorePhoneNumber\", how='left', indicator = True)"
   ]
  },
  {
   "cell_type": "code",
   "execution_count": null,
   "id": "5881094f",
   "metadata": {},
   "outputs": [],
   "source": [
    "target_file_dynamic_match_merge_f2_q1_mid_mn.rename(columns={'_merge':'Dynamic MN in Source?'}, inplace=True)"
   ]
  },
  {
   "cell_type": "code",
   "execution_count": null,
   "id": "e8d2bf71",
   "metadata": {},
   "outputs": [],
   "source": [
    "target_file_dynamic_match_merge_f2_q1_mid_mn['Segments'].fillna(target_file_dynamic_match_merge_f2_q1_mid_mn[\n",
    "    'segments_x'], inplace=True)"
   ]
  },
  {
   "cell_type": "code",
   "execution_count": null,
   "id": "b6629873",
   "metadata": {},
   "outputs": [],
   "source": [
    "target_file_dynamic_match_merge_f2_q1_mid_mn['Segments'].fillna(target_file_dynamic_match_merge_f2_q1_mid_mn[\n",
    "    'segments_y'], inplace=True)"
   ]
  },
  {
   "cell_type": "code",
   "execution_count": null,
   "id": "a1a9f812",
   "metadata": {
    "scrolled": false
   },
   "outputs": [],
   "source": [
    "target_file_dynamic_match_merge_f2_q1_mid_mn.head(1)"
   ]
  },
  {
   "cell_type": "code",
   "execution_count": null,
   "id": "eafb9f3c",
   "metadata": {},
   "outputs": [],
   "source": [
    "target_file_dynamic_match_merge_f2_q1_mid_mn_f = target_file_dynamic_match_merge_f2_q1_mid_mn[[\n",
    "    'Primary_key', 'Segments']].rename(columns={'Segments':\"New_Segments\"})"
   ]
  },
  {
   "cell_type": "code",
   "execution_count": null,
   "id": "fb14b1f0",
   "metadata": {},
   "outputs": [],
   "source": [
    "target_file_dynamic_match_merge_f2_q1_mid_mn_f.head(1)"
   ]
  },
  {
   "cell_type": "code",
   "execution_count": null,
   "id": "c10cc21a",
   "metadata": {},
   "outputs": [],
   "source": [
    "target_file_dynamic_match_merge3 = target_file_dynamic_match_merge2.merge(\n",
    "    target_file_dynamic_match_merge_f2_q1_mid_mn_f, on='Primary_key', how='left')"
   ]
  },
  {
   "cell_type": "code",
   "execution_count": null,
   "id": "fe25423c",
   "metadata": {},
   "outputs": [],
   "source": [
    "target_file_dynamic_match_merge3.drop_duplicates(subset=['Primary_key'], inplace=True)"
   ]
  },
  {
   "cell_type": "code",
   "execution_count": null,
   "id": "e7d3b53b",
   "metadata": {},
   "outputs": [],
   "source": [
    "target_file_dynamic_match_merge3['Segments'].fillna(target_file_dynamic_match_merge3['New_Segments'], inplace=True)"
   ]
  },
  {
   "cell_type": "code",
   "execution_count": null,
   "id": "8cf2086e",
   "metadata": {},
   "outputs": [],
   "source": [
    "target_file_dynamic_match_merge3.drop(['New_Segments'], axis=1, inplace=True)"
   ]
  },
  {
   "cell_type": "markdown",
   "id": "23d1d332",
   "metadata": {},
   "source": [
    "# No Match from Dynamic to Q2 Data"
   ]
  },
  {
   "cell_type": "markdown",
   "id": "4cbc39a7",
   "metadata": {},
   "source": [
    "### Q2 MID DATA match"
   ]
  },
  {
   "cell_type": "code",
   "execution_count": null,
   "id": "2006ad07",
   "metadata": {
    "scrolled": true
   },
   "outputs": [],
   "source": [
    "target_file_dynamic_match_merge3.head(1)"
   ]
  },
  {
   "cell_type": "code",
   "execution_count": null,
   "id": "871e3822",
   "metadata": {},
   "outputs": [],
   "source": [
    "target_file_dynamic_match_merge3_f = target_file_dynamic_match_merge3[['StorePhoneNumber', 'MerchantExternalId',\n",
    "                                                                       'Is in Dynamic Source?']]"
   ]
  },
  {
   "cell_type": "code",
   "execution_count": null,
   "id": "b610eb28",
   "metadata": {},
   "outputs": [],
   "source": [
    "target_file_dynamic_match_merge3_f = target_file_dynamic_match_merge3_f[target_file_dynamic_match_merge3_f[\n",
    "    'Is in Dynamic Source?'].isin(['No Match'])]"
   ]
  },
  {
   "cell_type": "code",
   "execution_count": null,
   "id": "a2cb3e59",
   "metadata": {
    "scrolled": false
   },
   "outputs": [],
   "source": [
    "Source_data_Q2_2022_mid.head(1)"
   ]
  },
  {
   "cell_type": "code",
   "execution_count": null,
   "id": "e218ba10",
   "metadata": {},
   "outputs": [],
   "source": [
    "target_file_dynamic_match_merge3_f = target_file_dynamic_match_merge3.merge(\n",
    "    Source_data_Q2_2022_mid, on=\"MerchantExternalId\", how=\"left\", indicator = True)"
   ]
  },
  {
   "cell_type": "code",
   "execution_count": null,
   "id": "d82e2ac6",
   "metadata": {},
   "outputs": [],
   "source": [
    "target_file_dynamic_match_merge3_f.drop_duplicates(subset=['Primary_key'], inplace=True)"
   ]
  },
  {
   "cell_type": "code",
   "execution_count": null,
   "id": "1c114f93",
   "metadata": {},
   "outputs": [],
   "source": [
    "target_file_dynamic_match_merge3_f.rename(columns={'_merge':'Is the mid q2 source?'}, inplace=True)"
   ]
  },
  {
   "cell_type": "code",
   "execution_count": null,
   "id": "db87ea39",
   "metadata": {},
   "outputs": [],
   "source": [
    "target_file_dynamic_match_merge3_f.rename(columns={'segments':'Q2 Segments'}, inplace=True)"
   ]
  },
  {
   "cell_type": "code",
   "execution_count": null,
   "id": "7409dee0",
   "metadata": {},
   "outputs": [],
   "source": [
    "target_file_dynamic_match_merge3_f['Is the mid q2 source?'].unique()"
   ]
  },
  {
   "cell_type": "code",
   "execution_count": null,
   "id": "ac43ab64",
   "metadata": {},
   "outputs": [],
   "source": [
    "target_file_dynamic_match_merge3_f['Is the mid q2 source?'] = target_file_dynamic_match_merge3_f[\n",
    "    'Is the mid q2 source?'].map({'left_only':\"No Match\",'right_only':\"No Match\",'both':\"Match\"})"
   ]
  },
  {
   "cell_type": "markdown",
   "id": "43a9f81c",
   "metadata": {},
   "source": [
    "### Filling the No Match from Dynamic with the Is the mid q2 source?"
   ]
  },
  {
   "cell_type": "code",
   "execution_count": null,
   "id": "43e728a5",
   "metadata": {},
   "outputs": [],
   "source": [
    "target_file_dynamic_match_merge3_f[\"Is in Dynamic Source?\"].replace(\"No Match\", np.nan, inplace=True)"
   ]
  },
  {
   "cell_type": "code",
   "execution_count": null,
   "id": "67abdd03",
   "metadata": {},
   "outputs": [],
   "source": [
    "target_file_dynamic_match_merge3_f['Is in Dynamic Source?'].fillna(target_file_dynamic_match_merge3_f[\n",
    "    \"Is the mid q2 source?\"], inplace=True)"
   ]
  },
  {
   "cell_type": "code",
   "execution_count": null,
   "id": "11444b03",
   "metadata": {},
   "outputs": [],
   "source": [
    "target_file_dynamic_match_merge3_f['Segments'].fillna(target_file_dynamic_match_merge3_f[\n",
    "    \"Q2 Segments\"], inplace=True)"
   ]
  },
  {
   "cell_type": "markdown",
   "id": "1029d2d2",
   "metadata": {},
   "source": [
    "### Q2 MN DATA match"
   ]
  },
  {
   "cell_type": "code",
   "execution_count": null,
   "id": "e53f7f13",
   "metadata": {},
   "outputs": [],
   "source": [
    "Source_data_Q2_2022_mn.head(1)"
   ]
  },
  {
   "cell_type": "code",
   "execution_count": null,
   "id": "b629a19b",
   "metadata": {},
   "outputs": [],
   "source": [
    "target_file_dynamic_match_merge3_f.head(1)"
   ]
  },
  {
   "cell_type": "code",
   "execution_count": null,
   "id": "66eb2344",
   "metadata": {},
   "outputs": [],
   "source": [
    "target_file_dynamic_match_merge3_f2 = target_file_dynamic_match_merge3_f[['StorePhoneNumber', 'MerchantExternalId',\n",
    "                                                                       'Is in Dynamic Source?', 'Primary_key']]"
   ]
  },
  {
   "cell_type": "code",
   "execution_count": null,
   "id": "bbf75eb3",
   "metadata": {},
   "outputs": [],
   "source": [
    "target_file_dynamic_match_merge3_f3 = target_file_dynamic_match_merge3_f2[target_file_dynamic_match_merge3_f2[\n",
    "    'Is in Dynamic Source?'].isin(['No Match'])]"
   ]
  },
  {
   "cell_type": "code",
   "execution_count": null,
   "id": "7241f5b3",
   "metadata": {
    "scrolled": false
   },
   "outputs": [],
   "source": [
    "Source_data_Q2_2022_mn.head(1)"
   ]
  },
  {
   "cell_type": "code",
   "execution_count": null,
   "id": "1ae02ae5",
   "metadata": {},
   "outputs": [],
   "source": [
    "target_file_dynamic_match_merge4_f = target_file_dynamic_match_merge3_f3.merge(\n",
    "    Source_data_Q2_2022_mn, on=\"StorePhoneNumber\", how=\"left\", indicator = True)"
   ]
  },
  {
   "cell_type": "code",
   "execution_count": null,
   "id": "a23c6c7e",
   "metadata": {},
   "outputs": [],
   "source": [
    "target_file_dynamic_match_merge4_f.drop_duplicates(subset=['Primary_key'], inplace=True)"
   ]
  },
  {
   "cell_type": "code",
   "execution_count": null,
   "id": "50fb9f5a",
   "metadata": {},
   "outputs": [],
   "source": [
    "target_file_dynamic_match_merge4_f.rename(columns={'_merge':'Is the mn q2 source?'}, inplace=True)"
   ]
  },
  {
   "cell_type": "code",
   "execution_count": null,
   "id": "fe0ba875",
   "metadata": {},
   "outputs": [],
   "source": [
    "target_file_dynamic_match_merge4_f.rename(columns={'segments':'Q2 MN Segments'}, inplace=True)"
   ]
  },
  {
   "cell_type": "code",
   "execution_count": null,
   "id": "072b59c3",
   "metadata": {},
   "outputs": [],
   "source": [
    "target_file_dynamic_match_merge4_f['Is the mn q2 source?'].unique()"
   ]
  },
  {
   "cell_type": "code",
   "execution_count": null,
   "id": "7f0c15dd",
   "metadata": {},
   "outputs": [],
   "source": [
    "target_file_dynamic_match_merge4_f['Is the mn q2 source?'] = target_file_dynamic_match_merge4_f[\n",
    "    'Is the mn q2 source?'].map({'left_only':\"No Match\",'right_only':\"No Match\",'both':\"MN Match\"})"
   ]
  },
  {
   "cell_type": "code",
   "execution_count": null,
   "id": "7b8e0bfc",
   "metadata": {},
   "outputs": [],
   "source": [
    "target_file_dynamic_match_merge4_f2 = target_file_dynamic_match_merge4_f[[\"Primary_key\", 'Q2 MN Segments',\n",
    "                                                                          'Is the mn q2 source?']]"
   ]
  },
  {
   "cell_type": "code",
   "execution_count": null,
   "id": "1da1e6a1",
   "metadata": {},
   "outputs": [],
   "source": [
    "target_file_dynamic_match_merge5_f2 = target_file_dynamic_match_merge3_f.merge(\n",
    "    target_file_dynamic_match_merge4_f2, on='Primary_key', how='left')"
   ]
  },
  {
   "cell_type": "code",
   "execution_count": null,
   "id": "98fd042c",
   "metadata": {},
   "outputs": [],
   "source": [
    "target_file_dynamic_match_merge5_f2.drop_duplicates(subset=['Primary_key'], inplace=True)"
   ]
  },
  {
   "cell_type": "markdown",
   "id": "5c9b0eee",
   "metadata": {},
   "source": [
    "### Filling the No Match from Dynamic with the Is the mid q2 source?"
   ]
  },
  {
   "cell_type": "code",
   "execution_count": null,
   "id": "410ada96",
   "metadata": {},
   "outputs": [],
   "source": [
    "target_file_dynamic_match_merge5_f2[\"Is in Dynamic Source?\"].replace(\"No Match\", np.nan, inplace=True)"
   ]
  },
  {
   "cell_type": "code",
   "execution_count": null,
   "id": "505f7745",
   "metadata": {},
   "outputs": [],
   "source": [
    "target_file_dynamic_match_merge5_f2['Is in Dynamic Source?'].fillna(target_file_dynamic_match_merge5_f2[\n",
    "    \"Is the mn q2 source?\"], inplace=True)"
   ]
  },
  {
   "cell_type": "code",
   "execution_count": null,
   "id": "0ebf95c7",
   "metadata": {},
   "outputs": [],
   "source": [
    "target_file_dynamic_match_merge5_f2['Segments'].fillna(target_file_dynamic_match_merge5_f2[\n",
    "    \"Q2 MN Segments\"], inplace=True)"
   ]
  },
  {
   "cell_type": "code",
   "execution_count": null,
   "id": "65bfc83e",
   "metadata": {},
   "outputs": [],
   "source": [
    "target_file_dynamic_match_merge5_f2.head(1)"
   ]
  },
  {
   "cell_type": "code",
   "execution_count": null,
   "id": "9da3c220",
   "metadata": {},
   "outputs": [],
   "source": [
    "Source_data_Q1_2022.head(1)"
   ]
  },
  {
   "cell_type": "markdown",
   "id": "8d3a528f",
   "metadata": {},
   "source": [
    "# No Match from Dynamic to Q1 Data"
   ]
  },
  {
   "cell_type": "markdown",
   "id": "156568f5",
   "metadata": {},
   "source": [
    "### Q1 MID Data Match"
   ]
  },
  {
   "cell_type": "code",
   "execution_count": null,
   "id": "fe7c2b8c",
   "metadata": {},
   "outputs": [],
   "source": [
    "target_file_dynamic_match_merge5_f3 = target_file_dynamic_match_merge5_f2[['StorePhoneNumber',\n",
    "                                'MerchantExternalId', 'Is in Dynamic Source?', 'Primary_key']]"
   ]
  },
  {
   "cell_type": "code",
   "execution_count": null,
   "id": "2bae17ce",
   "metadata": {
    "scrolled": true
   },
   "outputs": [],
   "source": [
    "Source_data_Q1_2022_mid.head(1)"
   ]
  },
  {
   "cell_type": "code",
   "execution_count": null,
   "id": "7d918860",
   "metadata": {},
   "outputs": [],
   "source": [
    "target_file_dynamic_match_merge5_f4 = target_file_dynamic_match_merge5_f3[target_file_dynamic_match_merge5_f3[\n",
    "    \"Is in Dynamic Source?\"].isin(['No Match'])]"
   ]
  },
  {
   "cell_type": "code",
   "execution_count": null,
   "id": "85a6277f",
   "metadata": {},
   "outputs": [],
   "source": [
    "target_file_dynamic_match_merge5_f4.head(1)"
   ]
  },
  {
   "cell_type": "code",
   "execution_count": null,
   "id": "08ff7df3",
   "metadata": {},
   "outputs": [],
   "source": [
    "target_file_dynamic_match_merge6_q1_mid_merge = target_file_dynamic_match_merge5_f4.merge(\n",
    "    Source_data_Q1_2022_mid, on='MerchantExternalId', how='left', indicator=True)"
   ]
  },
  {
   "cell_type": "code",
   "execution_count": null,
   "id": "0854fc2e",
   "metadata": {
    "scrolled": true
   },
   "outputs": [],
   "source": [
    "target_file_dynamic_match_merge6_q1_mid_merge.drop_duplicates(subset=['Primary_key'], inplace=True)"
   ]
  },
  {
   "cell_type": "code",
   "execution_count": null,
   "id": "2a42a40e",
   "metadata": {},
   "outputs": [],
   "source": [
    "target_file_dynamic_match_merge6_q1_mid_merge.rename(columns={'_merge':\"Is MID in Q1 Source?\"}, inplace=True)"
   ]
  },
  {
   "cell_type": "code",
   "execution_count": null,
   "id": "e6ee31ef",
   "metadata": {},
   "outputs": [],
   "source": [
    "target_file_dynamic_match_merge6_q1_mid_merge['Is MID in Q1 Source?'].unique()"
   ]
  },
  {
   "cell_type": "code",
   "execution_count": null,
   "id": "2723aa47",
   "metadata": {},
   "outputs": [],
   "source": [
    "target_file_dynamic_match_merge6_q1_mid_merge['Is MID in Q1 Source?'] = target_file_dynamic_match_merge6_q1_mid_merge[\n",
    "    'Is MID in Q1 Source?'].map({'left_only':\"No Match\",'right_only':\"No Match\", 'both':'Match'})"
   ]
  },
  {
   "cell_type": "code",
   "execution_count": null,
   "id": "acd02c2d",
   "metadata": {},
   "outputs": [],
   "source": [
    "target_file_dynamic_match_merge6_q1_mid_merge.rename(columns={\"segments\":\"q1 segments\"}, inplace=True)"
   ]
  },
  {
   "cell_type": "code",
   "execution_count": null,
   "id": "f350bda3",
   "metadata": {},
   "outputs": [],
   "source": [
    "target_file_dynamic_match_merge6_q1_mid_merge.head(1)"
   ]
  },
  {
   "cell_type": "markdown",
   "id": "adf26565",
   "metadata": {},
   "source": [
    "### Q1 MN Data Match"
   ]
  },
  {
   "cell_type": "code",
   "execution_count": null,
   "id": "3b0a523e",
   "metadata": {
    "scrolled": true
   },
   "outputs": [],
   "source": [
    "Source_data_Q1_2022_mn.head(1)"
   ]
  },
  {
   "cell_type": "code",
   "execution_count": null,
   "id": "344f496a",
   "metadata": {},
   "outputs": [],
   "source": [
    "target_file_dynamic_match_merge6_q1_mid_mn_merge = target_file_dynamic_match_merge6_q1_mid_merge.merge(\n",
    "Source_data_Q1_2022_mn, on='StorePhoneNumber', how='left', indicator=True)"
   ]
  },
  {
   "cell_type": "code",
   "execution_count": null,
   "id": "2f40669b",
   "metadata": {},
   "outputs": [],
   "source": [
    "target_file_dynamic_match_merge6_q1_mid_mn_merge.rename(columns={\"_merge\":\"Is MN in Q1 Source?\", \n",
    "                                                                 \"segments\":\"q1 mn segments\"}, inplace=True)"
   ]
  },
  {
   "cell_type": "code",
   "execution_count": null,
   "id": "41f830ca",
   "metadata": {},
   "outputs": [],
   "source": [
    "target_file_dynamic_match_merge6_q1_mid_mn_merge.drop_duplicates(subset=['Primary_key'], inplace=True)"
   ]
  },
  {
   "cell_type": "code",
   "execution_count": null,
   "id": "d6efda22",
   "metadata": {},
   "outputs": [],
   "source": [
    "target_file_dynamic_match_merge6_q1_mid_mn_merge[\n",
    "    'Is MN in Q1 Source?'] = target_file_dynamic_match_merge6_q1_mid_mn_merge[\n",
    "    'Is MN in Q1 Source?'].map({\"left_only\":\"No Match\",'right_only':\"No Match\", 'both':'MN Match'})"
   ]
  },
  {
   "cell_type": "code",
   "execution_count": null,
   "id": "dd98c925",
   "metadata": {},
   "outputs": [],
   "source": [
    "target_file_dynamic_match_merge6_q1_mid_mn_merge_f = target_file_dynamic_match_merge6_q1_mid_mn_merge[[\n",
    "    \"Primary_key\", \"q1 segments\", \"Is MID in Q1 Source?\", \"q1 mn segments\", \"Is MN in Q1 Source?\"]]"
   ]
  },
  {
   "cell_type": "code",
   "execution_count": null,
   "id": "4eeb06f0",
   "metadata": {},
   "outputs": [],
   "source": [
    "target_file_dynamic_match_merge6 = target_file_dynamic_match_merge5_f2.merge(\n",
    "    target_file_dynamic_match_merge6_q1_mid_mn_merge_f, on='Primary_key', how='left')"
   ]
  },
  {
   "cell_type": "code",
   "execution_count": null,
   "id": "bf3a888e",
   "metadata": {},
   "outputs": [],
   "source": [
    "target_file_dynamic_match_merge6.drop_duplicates(subset=['Primary_key'], inplace=True)"
   ]
  },
  {
   "cell_type": "code",
   "execution_count": null,
   "id": "a8833f1b",
   "metadata": {},
   "outputs": [],
   "source": [
    "target_file_dynamic_match_merge6['Is in Dynamic Source?'].replace(\"No Match\", np.nan, inplace=True)\n",
    "target_file_dynamic_match_merge6['Is MID in Q1 Source?'].replace(\"No Match\", np.nan, inplace=True)"
   ]
  },
  {
   "cell_type": "code",
   "execution_count": null,
   "id": "6a56d582",
   "metadata": {},
   "outputs": [],
   "source": [
    "target_file_dynamic_match_merge6['Is in Dynamic Source?'].fillna(target_file_dynamic_match_merge6[\n",
    "    'Is MID in Q1 Source?'], inplace=True)"
   ]
  },
  {
   "cell_type": "code",
   "execution_count": null,
   "id": "3c9fd5f9",
   "metadata": {},
   "outputs": [],
   "source": [
    "target_file_dynamic_match_merge6['Is in Dynamic Source?'].fillna(target_file_dynamic_match_merge6[\n",
    "    'Is MN in Q1 Source?'], inplace=True)"
   ]
  },
  {
   "cell_type": "code",
   "execution_count": null,
   "id": "149b7254",
   "metadata": {},
   "outputs": [],
   "source": [
    "target_file_dynamic_match_merge6['Segments'].fillna(target_file_dynamic_match_merge6[\n",
    "    'q1 segments'], inplace=True)"
   ]
  },
  {
   "cell_type": "code",
   "execution_count": null,
   "id": "563fcebf",
   "metadata": {},
   "outputs": [],
   "source": [
    "target_file_dynamic_match_merge6['Segments'].fillna(target_file_dynamic_match_merge6[\n",
    "    'q1 mn segments'], inplace=True)"
   ]
  },
  {
   "cell_type": "markdown",
   "id": "7baf5cf0",
   "metadata": {},
   "source": [
    "# Matching the no match with the for matching file"
   ]
  },
  {
   "cell_type": "code",
   "execution_count": null,
   "id": "9f19bdbd",
   "metadata": {},
   "outputs": [],
   "source": [
    "For_matching2 = For_matching.rename(columns={\"Phone Number\":\"StorePhoneNumber\", \n",
    "                             \"Merchant Ext.ID\":\"MerchantExternalId\"})"
   ]
  },
  {
   "cell_type": "code",
   "execution_count": null,
   "id": "9b7859cf",
   "metadata": {
    "scrolled": true
   },
   "outputs": [],
   "source": [
    "For_matching2.head(1)"
   ]
  },
  {
   "cell_type": "code",
   "execution_count": null,
   "id": "72a02f6a",
   "metadata": {},
   "outputs": [],
   "source": [
    "For_matching2_mid = For_matching2[['MerchantExternalId']]\n",
    "For_matching2_mn = For_matching2[['StorePhoneNumber']]"
   ]
  },
  {
   "cell_type": "code",
   "execution_count": null,
   "id": "b4919c53",
   "metadata": {},
   "outputs": [],
   "source": [
    "target_file_dynamic_match_merge6_f = target_file_dynamic_match_merge6[target_file_dynamic_match_merge6[\n",
    "    \"Is in Dynamic Source?\"].isin(['No Match'])]"
   ]
  },
  {
   "cell_type": "code",
   "execution_count": null,
   "id": "f0255ba9",
   "metadata": {},
   "outputs": [],
   "source": [
    "target_file_dynamic_match_merge6_f2 = target_file_dynamic_match_merge6_f[[\"StorePhoneNumber\", \"MerchantExternalId\",\n",
    "                            \"Revisit Date\", 'Validity','Invalid Reson', 'Task Count', 'Primary_key', \n",
    "                         'Is in Dynamic Source?']]"
   ]
  },
  {
   "cell_type": "code",
   "execution_count": null,
   "id": "44db7e8c",
   "metadata": {},
   "outputs": [],
   "source": [
    "target_file_dynamic_match_merge6_f2_mid_merge = target_file_dynamic_match_merge6_f2.merge(For_matching2_mid,\n",
    "                                    on='MerchantExternalId', how='left', indicator=True)"
   ]
  },
  {
   "cell_type": "code",
   "execution_count": null,
   "id": "613d0218",
   "metadata": {},
   "outputs": [],
   "source": [
    "target_file_dynamic_match_merge6_f2_mid_merge.rename(columns={'_merge':\"Is the MID in For Matching\"}, inplace=True)"
   ]
  },
  {
   "cell_type": "code",
   "execution_count": null,
   "id": "84f500d8",
   "metadata": {},
   "outputs": [],
   "source": [
    "target_file_dynamic_match_merge6_f2_mid_merge.drop_duplicates(subset=['Primary_key'], inplace=True)"
   ]
  },
  {
   "cell_type": "code",
   "execution_count": null,
   "id": "9c9a057a",
   "metadata": {},
   "outputs": [],
   "source": [
    "target_file_dynamic_match_merge6_f2_mid_mn_merge = target_file_dynamic_match_merge6_f2_mid_merge.merge(\n",
    "    For_matching2_mn, on='StorePhoneNumber', how='left', indicator=True)"
   ]
  },
  {
   "cell_type": "code",
   "execution_count": null,
   "id": "e80de838",
   "metadata": {},
   "outputs": [],
   "source": [
    "target_file_dynamic_match_merge6_f2_mid_mn_merge.drop_duplicates(subset=['Primary_key'], inplace=True)"
   ]
  },
  {
   "cell_type": "code",
   "execution_count": null,
   "id": "a4922cad",
   "metadata": {},
   "outputs": [],
   "source": [
    "target_file_dynamic_match_merge6_f2_mid_mn_merge.rename(\n",
    "    columns={'_merge':\"Is the MN in For Matching\"}, inplace=True)"
   ]
  },
  {
   "cell_type": "code",
   "execution_count": null,
   "id": "02f1eaf2",
   "metadata": {},
   "outputs": [],
   "source": [
    "target_file_dynamic_match_merge6_f2_mid_mn_merge[\n",
    "    'Is the MID in For Matching'] = target_file_dynamic_match_merge6_f2_mid_mn_merge[\n",
    "    'Is the MID in For Matching'].map({\"left_only\":\"No Match\", \"right_only\":\"No Match\", \"both\":\"Match\"})\n",
    "target_file_dynamic_match_merge6_f2_mid_mn_merge[\n",
    "    'Is the MN in For Matching'] = target_file_dynamic_match_merge6_f2_mid_mn_merge[\n",
    "    'Is the MN in For Matching'].map({\"left_only\":\"No Match\", \"right_only\":\"No Match\", \"both\":\"MN Match\"})"
   ]
  },
  {
   "cell_type": "code",
   "execution_count": null,
   "id": "e136c6f4",
   "metadata": {},
   "outputs": [],
   "source": [
    "target_file_dynamic_match_merge6_f2_mid_mn_merge_f = target_file_dynamic_match_merge6_f2_mid_mn_merge[[\n",
    "    \"Primary_key\", 'Is the MID in For Matching', \"Is the MN in For Matching\"]]"
   ]
  },
  {
   "cell_type": "code",
   "execution_count": null,
   "id": "4691e6d3",
   "metadata": {},
   "outputs": [],
   "source": [
    "target_file_dynamic_match_merge7 = target_file_dynamic_match_merge6.merge(\n",
    "    target_file_dynamic_match_merge6_f2_mid_mn_merge_f, on=\"Primary_key\", how='left')"
   ]
  },
  {
   "cell_type": "code",
   "execution_count": null,
   "id": "74e0f06e",
   "metadata": {},
   "outputs": [],
   "source": [
    "target_file_dynamic_match_merge7.drop_duplicates(subset=['Primary_key'], inplace=True)"
   ]
  },
  {
   "cell_type": "markdown",
   "id": "410a1ab7",
   "metadata": {},
   "source": [
    "# Cheating Columns Is in Source File based on Merchant Ext ID? & Is in Source File based on Merchant Mobile Number?"
   ]
  },
  {
   "cell_type": "code",
   "execution_count": null,
   "id": "9b234655",
   "metadata": {},
   "outputs": [],
   "source": [
    "target_file_dynamic_match_merge7[\"Is the mid q2 source?\"].replace(\"No Match\", np.nan, inplace=True)\n",
    "target_file_dynamic_match_merge7[\"Is the mn q2 source?\"].replace(\"No Match\", np.nan, inplace=True)"
   ]
  },
  {
   "cell_type": "code",
   "execution_count": null,
   "id": "aae069d8",
   "metadata": {},
   "outputs": [],
   "source": [
    "target_file_dynamic_match_merge7['Is in Source File based on Merchant Ext ID?'] = np.nan\n",
    "target_file_dynamic_match_merge7['Is in Source File based on Merchant Mobile Number?'] = np.nan"
   ]
  },
  {
   "cell_type": "code",
   "execution_count": null,
   "id": "3e91bbaf",
   "metadata": {},
   "outputs": [],
   "source": [
    "target_file_dynamic_match_merge7['Is in Source File based on Merchant Ext ID?'].fillna(\n",
    "    target_file_dynamic_match_merge7['Is the mid q2 source?'], inplace=True)\n",
    "target_file_dynamic_match_merge7['Is in Source File based on Merchant Ext ID?'].fillna(\n",
    "    target_file_dynamic_match_merge7['Is MID in Q1 Source?'], inplace=True)\n",
    "target_file_dynamic_match_merge7['Is in Source File based on Merchant Ext ID?'].fillna(\n",
    "    target_file_dynamic_match_merge7['Is the MID in For Matching'], inplace=True)"
   ]
  },
  {
   "cell_type": "code",
   "execution_count": null,
   "id": "c38f3c8d",
   "metadata": {},
   "outputs": [],
   "source": [
    "target_file_dynamic_match_merge7['Is in Source File based on Merchant Mobile Number?'].fillna(\n",
    "    target_file_dynamic_match_merge7['Is the mn q2 source?'], inplace=True)\n",
    "target_file_dynamic_match_merge7['Is in Source File based on Merchant Mobile Number?'].fillna(\n",
    "    target_file_dynamic_match_merge7['Is MN in Q1 Source?'], inplace=True)\n",
    "target_file_dynamic_match_merge7['Is in Source File based on Merchant Mobile Number?'].fillna(\n",
    "    target_file_dynamic_match_merge7['Is the MN in For Matching'], inplace=True)"
   ]
  },
  {
   "cell_type": "code",
   "execution_count": null,
   "id": "f2455b99",
   "metadata": {},
   "outputs": [],
   "source": [
    "target_file_dynamic_match_merge7[\n",
    "    'Is in Source File based on Merchant Ext ID?'].replace(np.nan, \"No Match\", inplace=True)\n",
    "target_file_dynamic_match_merge7[\n",
    "    'Is in Source File based on Merchant Mobile Number?'].replace(np.nan, \"No Match\", inplace=True)"
   ]
  },
  {
   "cell_type": "markdown",
   "id": "0da4529e",
   "metadata": {},
   "source": [
    "# Filling the empty segment with Vaco_RV_Q2_2022"
   ]
  },
  {
   "cell_type": "code",
   "execution_count": null,
   "id": "9e0c7c8d",
   "metadata": {},
   "outputs": [],
   "source": [
    "Vaco_RV_Q2_2022.head(1)"
   ]
  },
  {
   "cell_type": "code",
   "execution_count": null,
   "id": "1e3f311c",
   "metadata": {},
   "outputs": [],
   "source": [
    "target_file_dynamic_match_merge7_f = target_file_dynamic_match_merge7[['StorePhoneNumber', 'Primary_key', \n",
    "                                                                       \"Is in Dynamic Source?\"]]"
   ]
  },
  {
   "cell_type": "code",
   "execution_count": null,
   "id": "6bd8037c",
   "metadata": {
    "scrolled": true
   },
   "outputs": [],
   "source": [
    "target_file_dynamic_match_merge7_1 = target_file_dynamic_match_merge7_f[target_file_dynamic_match_merge7_f[\n",
    "    \"Is in Dynamic Source?\"].isin(['Match', \"MN Match\"])]"
   ]
  },
  {
   "cell_type": "code",
   "execution_count": null,
   "id": "e081d023",
   "metadata": {},
   "outputs": [],
   "source": [
    "target_file_dynamic_match_merge7_1.head(1)"
   ]
  },
  {
   "cell_type": "code",
   "execution_count": null,
   "id": "174a20b5",
   "metadata": {},
   "outputs": [],
   "source": [
    "target_file_dynamic_match_merge7_1['Is in Dynamic Source?'].unique()"
   ]
  },
  {
   "cell_type": "code",
   "execution_count": null,
   "id": "7357bd60",
   "metadata": {},
   "outputs": [],
   "source": [
    "Vaco_RV_Q2_2022.rename(columns={\"Owner Mobile No.\":\"StorePhoneNumber\"}, inplace=True)"
   ]
  },
  {
   "cell_type": "code",
   "execution_count": null,
   "id": "6a836b2b",
   "metadata": {},
   "outputs": [],
   "source": [
    "Vaco_RV_Q2_2022['StorePhoneNumber'] = pd.to_numeric(Vaco_RV_Q2_2022['StorePhoneNumber'])"
   ]
  },
  {
   "cell_type": "code",
   "execution_count": null,
   "id": "9c20f158",
   "metadata": {},
   "outputs": [],
   "source": [
    "target_file_dynamic_match_merge7_2 = target_file_dynamic_match_merge7_1.merge(\n",
    "    Vaco_RV_Q2_2022, on=\"StorePhoneNumber\", how=\"left\")"
   ]
  },
  {
   "cell_type": "code",
   "execution_count": null,
   "id": "5fef72f9",
   "metadata": {},
   "outputs": [],
   "source": [
    "target_file_dynamic_match_merge7_2_f = target_file_dynamic_match_merge7_2[['Primary_key', 'segments_vaco_mn']]"
   ]
  },
  {
   "cell_type": "code",
   "execution_count": null,
   "id": "fb45ef7c",
   "metadata": {},
   "outputs": [],
   "source": [
    "target_file_dynamic_match_merge8 = target_file_dynamic_match_merge7.merge(\n",
    "    target_file_dynamic_match_merge7_2_f, on='Primary_key', how='left')"
   ]
  },
  {
   "cell_type": "code",
   "execution_count": null,
   "id": "386cee03",
   "metadata": {},
   "outputs": [],
   "source": [
    "target_file_dynamic_match_merge8.drop_duplicates(subset=['Primary_key'], inplace=True)"
   ]
  },
  {
   "cell_type": "code",
   "execution_count": null,
   "id": "854dba1f",
   "metadata": {},
   "outputs": [],
   "source": [
    "target_file_dynamic_match_merge8['Segments'].fillna(target_file_dynamic_match_merge8[\n",
    "    'segments_vaco_mn'], inplace=True)"
   ]
  },
  {
   "cell_type": "code",
   "execution_count": null,
   "id": "bd722028",
   "metadata": {},
   "outputs": [],
   "source": [
    "Is_in_source = target_file_dynamic_match_merge8[['StorePhoneNumber', \n",
    "                                  'MerchantExternalId', 'Revisit Date', 'Validity', \n",
    "                                'Invalid Reson', 'Task Count', 'Segments', 'IngestionStatus', 'Report Date', \n",
    "                                  'Ingestion Date', 'Revisit Expire Date','Is in Dynamic Source?_Final', \n",
    "                                  'Is the Dynamic Match Valid?', 'Is in Dynamic Source?', \n",
    "'Is in Source File based on Merchant Ext ID?', 'Is in Source File based on Merchant Mobile Number?',\n",
    "                                                \"Primary_key\"]].rename(\n",
    "    columns={\"Is in Dynamic Source?\": \"Is in Source File?\", 'Is in Dynamic Source?_Final':\"Is in Dynamic Source?\"})"
   ]
  },
  {
   "cell_type": "code",
   "execution_count": null,
   "id": "1b9bd86e",
   "metadata": {},
   "outputs": [],
   "source": [
    "Is_in_source.to_csv(output_loc+\"is_in_source_match.csv\", index=False)"
   ]
  },
  {
   "cell_type": "code",
   "execution_count": null,
   "id": "aa7bc02a",
   "metadata": {},
   "outputs": [],
   "source": [
    "Is_in_source_f = Is_in_source[[\"StorePhoneNumber\",\"MerchantExternalId\", \"Primary_key\",\"Is in Source File?\" ]]"
   ]
  },
  {
   "cell_type": "code",
   "execution_count": null,
   "id": "1747fdd3",
   "metadata": {},
   "outputs": [],
   "source": [
    "Source_data_Q1_2022_MID_MN = Source_data_Q1_2022[['Phone Number', 'Merchant Ext.ID']].rename(\n",
    "    columns={'Phone Number':\"StorePhoneNumber\",'Merchant Ext.ID':\"MerchantExternalId_q1\"})"
   ]
  },
  {
   "cell_type": "code",
   "execution_count": null,
   "id": "6beff13b",
   "metadata": {},
   "outputs": [],
   "source": [
    "Source_data_Q2_2022_MID_MN = Source_data_Q2_2022.rename(\n",
    "    columns={'Phone Number':\"StorePhoneNumber\",'Merchant Ext ID':\"MerchantExternalId_q2\"})"
   ]
  },
  {
   "cell_type": "code",
   "execution_count": null,
   "id": "52e972c3",
   "metadata": {},
   "outputs": [],
   "source": [
    "Is_in_source_f2 = Is_in_source_f[Is_in_source_f[\"Is in Source File?\"].isin(['MN Match'])]"
   ]
  },
  {
   "cell_type": "code",
   "execution_count": null,
   "id": "c658a3c8",
   "metadata": {},
   "outputs": [],
   "source": [
    "Is_in_source_f2_merge = Is_in_source_f2.merge(Source_data_Q2_2022_MID_MN, on='StorePhoneNumber', how='left')"
   ]
  },
  {
   "cell_type": "code",
   "execution_count": null,
   "id": "dd7a1457",
   "metadata": {},
   "outputs": [],
   "source": [
    "Is_in_source_f2_merge.drop_duplicates(subset=['Primary_key'], inplace=True)"
   ]
  },
  {
   "cell_type": "code",
   "execution_count": null,
   "id": "29d8b0d1",
   "metadata": {},
   "outputs": [],
   "source": [
    "Is_in_source_f2_merge2 = Is_in_source_f2_merge.merge(Source_data_Q1_2022_MID_MN, on='StorePhoneNumber', how='left')"
   ]
  },
  {
   "cell_type": "code",
   "execution_count": null,
   "id": "85bf7b05",
   "metadata": {},
   "outputs": [],
   "source": [
    "Is_in_source_f2_merge2.drop_duplicates(subset=['Primary_key'], inplace=True)"
   ]
  },
  {
   "cell_type": "code",
   "execution_count": null,
   "id": "0739bccb",
   "metadata": {},
   "outputs": [],
   "source": [
    "Is_in_source_f2_merge2['MerchantExternalId_q2'].fillna(Is_in_source_f2_merge2[\n",
    "    'MerchantExternalId_q1'], inplace=True)"
   ]
  },
  {
   "cell_type": "code",
   "execution_count": null,
   "id": "1bfe660c",
   "metadata": {},
   "outputs": [],
   "source": [
    "Is_in_source_f2_merge2.rename(columns={'MerchantExternalId_q2':\"Source_MID\"}, inplace=True)"
   ]
  },
  {
   "cell_type": "code",
   "execution_count": null,
   "id": "cf557c4e",
   "metadata": {},
   "outputs": [],
   "source": [
    "Is_in_source_f2_merge2_f = Is_in_source_f2_merge2[[\"Primary_key\", 'Source_MID']]"
   ]
  },
  {
   "cell_type": "code",
   "execution_count": null,
   "id": "125b938b",
   "metadata": {},
   "outputs": [],
   "source": [
    "Is_in_source_merge = Is_in_source.merge(Is_in_source_f2_merge2_f, on=\"Primary_key\", how='left')"
   ]
  },
  {
   "cell_type": "code",
   "execution_count": null,
   "id": "d37a7efc",
   "metadata": {},
   "outputs": [],
   "source": [
    "Is_in_source_merge.drop_duplicates(subset=['Primary_key'], inplace=True)"
   ]
  },
  {
   "cell_type": "code",
   "execution_count": null,
   "id": "d1f241cb",
   "metadata": {},
   "outputs": [],
   "source": [
    "Is_in_source_merge['Revisit Date'] = pd.to_datetime(Is_in_source_merge['Revisit Date'])"
   ]
  },
  {
   "cell_type": "code",
   "execution_count": null,
   "id": "5392f1ba",
   "metadata": {},
   "outputs": [],
   "source": [
    "Is_in_source_merge['Revisit Date'] = Is_in_source_merge['Revisit Date'].dt.strftime('%d/%b/%Y')"
   ]
  },
  {
   "cell_type": "code",
   "execution_count": null,
   "id": "8b867a54",
   "metadata": {},
   "outputs": [],
   "source": [
    "Is_in_source_merge.to_csv(output_loc+\"Source_MID.csv\", index=False)"
   ]
  },
  {
   "cell_type": "code",
   "execution_count": null,
   "id": "f4c9a809",
   "metadata": {},
   "outputs": [],
   "source": []
  },
  {
   "cell_type": "code",
   "execution_count": null,
   "id": "71c94bfe",
   "metadata": {},
   "outputs": [],
   "source": [
    "Stop = "
   ]
  },
  {
   "cell_type": "markdown",
   "id": "881b410c",
   "metadata": {},
   "source": [
    "# Extra"
   ]
  },
  {
   "cell_type": "code",
   "execution_count": 633,
   "id": "53b7c0a8",
   "metadata": {},
   "outputs": [],
   "source": [
    "input_loc_check = \"/home/dhrubakumardolai/Desktop/Python Test/Target/Check/\""
   ]
  },
  {
   "cell_type": "code",
   "execution_count": 634,
   "id": "645abd38",
   "metadata": {},
   "outputs": [],
   "source": [
    "target_file = pd.read_csv(input_loc_check+\"Segment2.csv\")"
   ]
  },
  {
   "cell_type": "code",
   "execution_count": 635,
   "id": "1448237c",
   "metadata": {
    "scrolled": false
   },
   "outputs": [
    {
     "data": {
      "text/html": [
       "<div>\n",
       "<style scoped>\n",
       "    .dataframe tbody tr th:only-of-type {\n",
       "        vertical-align: middle;\n",
       "    }\n",
       "\n",
       "    .dataframe tbody tr th {\n",
       "        vertical-align: top;\n",
       "    }\n",
       "\n",
       "    .dataframe thead th {\n",
       "        text-align: right;\n",
       "    }\n",
       "</style>\n",
       "<table border=\"1\" class=\"dataframe\">\n",
       "  <thead>\n",
       "    <tr style=\"text-align: right;\">\n",
       "      <th></th>\n",
       "      <th>Merchant_Ext_ID</th>\n",
       "      <th>Phone_Number</th>\n",
       "    </tr>\n",
       "  </thead>\n",
       "  <tbody>\n",
       "    <tr>\n",
       "      <th>0</th>\n",
       "      <td>BCR2DN6TSOCPLYCA</td>\n",
       "      <td>8447899182</td>\n",
       "    </tr>\n",
       "  </tbody>\n",
       "</table>\n",
       "</div>"
      ],
      "text/plain": [
       "    Merchant_Ext_ID  Phone_Number\n",
       "0  BCR2DN6TSOCPLYCA    8447899182"
      ]
     },
     "execution_count": 635,
     "metadata": {},
     "output_type": "execute_result"
    }
   ],
   "source": [
    "target_file.head(1)"
   ]
  },
  {
   "cell_type": "code",
   "execution_count": 636,
   "id": "e5f07762",
   "metadata": {},
   "outputs": [],
   "source": [
    "target_file.rename(columns={'Merchant_Ext_ID':'Merchant Ext.ID', 'Phone_Number':'Phone Number'}, inplace=True)"
   ]
  },
  {
   "cell_type": "code",
   "execution_count": 637,
   "id": "891cb980",
   "metadata": {},
   "outputs": [],
   "source": [
    "target_file_mid = target_file[['Merchant Ext.ID']]\n",
    "target_file_mn = target_file[['Phone Number']]"
   ]
  },
  {
   "cell_type": "code",
   "execution_count": 638,
   "id": "e7fd5499",
   "metadata": {},
   "outputs": [],
   "source": [
    "match = Source_data_Q1_2022_segment2"
   ]
  },
  {
   "cell_type": "code",
   "execution_count": 639,
   "id": "ada4f188",
   "metadata": {},
   "outputs": [],
   "source": [
    "match['Primary_key'] = range(1,1+len(match))"
   ]
  },
  {
   "cell_type": "code",
   "execution_count": 640,
   "id": "fb052214",
   "metadata": {
    "scrolled": true
   },
   "outputs": [
    {
     "data": {
      "text/html": [
       "<div>\n",
       "<style scoped>\n",
       "    .dataframe tbody tr th:only-of-type {\n",
       "        vertical-align: middle;\n",
       "    }\n",
       "\n",
       "    .dataframe tbody tr th {\n",
       "        vertical-align: top;\n",
       "    }\n",
       "\n",
       "    .dataframe thead th {\n",
       "        text-align: right;\n",
       "    }\n",
       "</style>\n",
       "<table border=\"1\" class=\"dataframe\">\n",
       "  <thead>\n",
       "    <tr style=\"text-align: right;\">\n",
       "      <th></th>\n",
       "      <th>Name</th>\n",
       "      <th>Phone Number</th>\n",
       "      <th>Address</th>\n",
       "      <th>Pincode</th>\n",
       "      <th>Latitude</th>\n",
       "      <th>Longitude</th>\n",
       "      <th>District</th>\n",
       "      <th>Polygon Name</th>\n",
       "      <th>Created By ID</th>\n",
       "      <th>Merchant Ext.ID</th>\n",
       "      <th>Last Transaction date</th>\n",
       "      <th>Gpay OB E-mail</th>\n",
       "      <th>segments</th>\n",
       "      <th>_merge</th>\n",
       "      <th>Primary_key</th>\n",
       "    </tr>\n",
       "  </thead>\n",
       "  <tbody>\n",
       "    <tr>\n",
       "      <th>0</th>\n",
       "      <td>Riyaz Tent House</td>\n",
       "      <td>7.842958e+09</td>\n",
       "      <td>Abdullapur Met Kawadipalli Road,Abdullapurmet</td>\n",
       "      <td>501505.0</td>\n",
       "      <td>17.311496</td>\n",
       "      <td>78.686985</td>\n",
       "      <td>Hyderabad</td>\n",
       "      <td>Google Hyderabad Polygon</td>\n",
       "      <td>22585.0</td>\n",
       "      <td>BCR2DN6T37TON5AV</td>\n",
       "      <td>27-12-2021</td>\n",
       "      <td>rehanmohammad1528@gmail.com</td>\n",
       "      <td>active</td>\n",
       "      <td>both</td>\n",
       "      <td>1</td>\n",
       "    </tr>\n",
       "  </tbody>\n",
       "</table>\n",
       "</div>"
      ],
      "text/plain": [
       "               Name  Phone Number  \\\n",
       "0  Riyaz Tent House  7.842958e+09   \n",
       "\n",
       "                                         Address   Pincode   Latitude  \\\n",
       "0  Abdullapur Met Kawadipalli Road,Abdullapurmet  501505.0  17.311496   \n",
       "\n",
       "   Longitude   District              Polygon Name  Created By ID  \\\n",
       "0  78.686985  Hyderabad  Google Hyderabad Polygon        22585.0   \n",
       "\n",
       "    Merchant Ext.ID Last Transaction date               Gpay OB E-mail  \\\n",
       "0  BCR2DN6T37TON5AV            27-12-2021  rehanmohammad1528@gmail.com   \n",
       "\n",
       "  segments _merge  Primary_key  \n",
       "0   active   both            1  "
      ]
     },
     "execution_count": 640,
     "metadata": {},
     "output_type": "execute_result"
    }
   ],
   "source": [
    "match.head(1)"
   ]
  },
  {
   "cell_type": "code",
   "execution_count": 641,
   "id": "f07a008e",
   "metadata": {},
   "outputs": [],
   "source": [
    "match.drop(['_merge'], axis=1, inplace=True)"
   ]
  },
  {
   "cell_type": "code",
   "execution_count": 642,
   "id": "66fdbd87",
   "metadata": {},
   "outputs": [],
   "source": [
    "match_mid_merge = match.merge(target_file_mid, on='Merchant Ext.ID', how='left',indicator=True)"
   ]
  },
  {
   "cell_type": "code",
   "execution_count": 643,
   "id": "b2aacc9f",
   "metadata": {},
   "outputs": [],
   "source": [
    "match_mid_merge.drop_duplicates(subset=['Primary_key'], inplace=True)"
   ]
  },
  {
   "cell_type": "code",
   "execution_count": 644,
   "id": "8c79a005",
   "metadata": {},
   "outputs": [
    {
     "data": {
      "text/plain": [
       "['both', 'left_only']\n",
       "Categories (3, object): ['left_only', 'right_only', 'both']"
      ]
     },
     "execution_count": 644,
     "metadata": {},
     "output_type": "execute_result"
    }
   ],
   "source": [
    "match_mid_merge['_merge'].unique()"
   ]
  },
  {
   "cell_type": "code",
   "execution_count": 645,
   "id": "39adc773",
   "metadata": {},
   "outputs": [],
   "source": [
    "match_mid_merge2 = match_mid_merge[match_mid_merge[\"_merge\"].isin(['left_only'])]"
   ]
  },
  {
   "cell_type": "code",
   "execution_count": 646,
   "id": "c4ac0114",
   "metadata": {},
   "outputs": [],
   "source": [
    "match_mid_merge2.to_csv(output_loc+'Remaining_Segment2.csv', index=False)"
   ]
  },
  {
   "cell_type": "code",
   "execution_count": 647,
   "id": "9e71f2cb",
   "metadata": {},
   "outputs": [
    {
     "data": {
      "text/plain": [
       "(10632, 15)"
      ]
     },
     "execution_count": 647,
     "metadata": {},
     "output_type": "execute_result"
    }
   ],
   "source": [
    "match_mid_merge2.shape"
   ]
  }
 ],
 "metadata": {
  "kernelspec": {
   "display_name": "Python 3 (ipykernel)",
   "language": "python",
   "name": "python3"
  },
  "language_info": {
   "codemirror_mode": {
    "name": "ipython",
    "version": 3
   },
   "file_extension": ".py",
   "mimetype": "text/x-python",
   "name": "python",
   "nbconvert_exporter": "python",
   "pygments_lexer": "ipython3",
   "version": "3.10.6"
  }
 },
 "nbformat": 4,
 "nbformat_minor": 5
}
