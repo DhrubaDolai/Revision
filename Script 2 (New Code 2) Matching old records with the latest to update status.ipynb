{
 "cells": [
  {
   "cell_type": "code",
   "execution_count": 1,
   "id": "67966b95",
   "metadata": {},
   "outputs": [],
   "source": [
    "import pandas as pd\n",
    "import os\n",
    "import numpy as np\n",
    "import xlsxwriter as xw\n",
    "import re\n",
    "import warnings\n",
    "warnings.filterwarnings('ignore')\n",
    "import openpyxl as op\n",
    "from openpyxl import Workbook, load_workbook\n",
    "from openpyxl.styles import PatternFill, Border, Side, Alignment, Protection, Font"
   ]
  },
  {
   "cell_type": "markdown",
   "id": "78a884d6",
   "metadata": {},
   "source": [
    "# Date to split the files result"
   ]
  },
  {
   "cell_type": "code",
   "execution_count": 2,
   "id": "c7839e5d",
   "metadata": {},
   "outputs": [
    {
     "data": {
      "text/plain": [
       "list"
      ]
     },
     "execution_count": 2,
     "metadata": {},
     "output_type": "execute_result"
    }
   ],
   "source": [
    "date_list = [['5-Aug-2022','12-Aug-2022', '19-Aug-2022', '26-Aug-2022', '2-Sep-2022', '9-Sep-2022',\n",
    "             '16-Sep-2022', '23-Sep-2022', '28-Sep-2022', '30-Sep-2022'], ['6-Oct-2022'], ['7-Oct-2022'],\n",
    "             ['14-Oct-2022'],['21-Oct-2022'], ['28-Oct-2022'], ['4-Nov-2022'], ['11-Nov-2022']]\n",
    "type(date_list)"
   ]
  },
  {
   "cell_type": "code",
   "execution_count": 3,
   "id": "fee267d4",
   "metadata": {},
   "outputs": [],
   "source": [
    "latest_data_set_date = \"11-Nov-2022\""
   ]
  },
  {
   "cell_type": "code",
   "execution_count": 4,
   "id": "7302e895",
   "metadata": {},
   "outputs": [],
   "source": [
    "Default_Ingestion_Date = \"8-Jun-2022\""
   ]
  },
  {
   "cell_type": "markdown",
   "id": "d57472d0",
   "metadata": {},
   "source": [
    "# Location variable"
   ]
  },
  {
   "cell_type": "code",
   "execution_count": 5,
   "id": "f9e22dd1",
   "metadata": {},
   "outputs": [],
   "source": [
    "input_loc = '/home/dhrubakumardolai/Desktop/Python Test/Rahul/Script 2 Google Dynamic Revisit/Target/'\n",
    "output_loc = '/home/dhrubakumardolai/Desktop/Python Test/Rahul/Script 2 Google Dynamic Revisit/Result/Final/'"
   ]
  },
  {
   "cell_type": "markdown",
   "id": "907b7258",
   "metadata": {},
   "source": [
    "# Extract Data from Dynamics"
   ]
  },
  {
   "cell_type": "code",
   "execution_count": 6,
   "id": "feab60d9",
   "metadata": {},
   "outputs": [],
   "source": [
    "Dynamic_source = pd.read_csv(\n",
    "    \"/home/dhrubakumardolai/Desktop/Python Test/Rahul/Script 1 Invalid file read for dynamics/Result/Dynamic_source.csv\")"
   ]
  },
  {
   "cell_type": "code",
   "execution_count": 7,
   "id": "63734840",
   "metadata": {
    "scrolled": true
   },
   "outputs": [
    {
     "data": {
      "text/plain": [
       "(2278167, 19)"
      ]
     },
     "execution_count": 7,
     "metadata": {},
     "output_type": "execute_result"
    }
   ],
   "source": [
    "Dynamic_source.shape"
   ]
  },
  {
   "cell_type": "code",
   "execution_count": 8,
   "id": "f4f38fad",
   "metadata": {
    "scrolled": false
   },
   "outputs": [
    {
     "data": {
      "text/html": [
       "<div>\n",
       "<style scoped>\n",
       "    .dataframe tbody tr th:only-of-type {\n",
       "        vertical-align: middle;\n",
       "    }\n",
       "\n",
       "    .dataframe tbody tr th {\n",
       "        vertical-align: top;\n",
       "    }\n",
       "\n",
       "    .dataframe thead th {\n",
       "        text-align: right;\n",
       "    }\n",
       "</style>\n",
       "<table border=\"1\" class=\"dataframe\">\n",
       "  <thead>\n",
       "    <tr style=\"text-align: right;\">\n",
       "      <th></th>\n",
       "      <th>MerchantId</th>\n",
       "      <th>Objectives</th>\n",
       "      <th>IngestionStatus</th>\n",
       "      <th>Report Date</th>\n",
       "      <th>RWM Remarks</th>\n",
       "      <th>Ingestion Date</th>\n",
       "      <th>RWM Revisit Status</th>\n",
       "      <th>RWM Revisit Date</th>\n",
       "      <th>Revisit Expire Date</th>\n",
       "      <th>Validity</th>\n",
       "      <th>Pincode</th>\n",
       "      <th>Phone Number</th>\n",
       "      <th>City</th>\n",
       "      <th>Cluster</th>\n",
       "      <th>Failed Upload RWM MID</th>\n",
       "      <th>csv Google MID</th>\n",
       "      <th>Google csv Visit Date</th>\n",
       "      <th>csv Validity</th>\n",
       "      <th>s no</th>\n",
       "    </tr>\n",
       "  </thead>\n",
       "  <tbody>\n",
       "    <tr>\n",
       "      <th>0</th>\n",
       "      <td>BCR2DN4TSCO3DNDR</td>\n",
       "      <td>checkin-nob</td>\n",
       "      <td>ADD</td>\n",
       "      <td>5-Aug-2022</td>\n",
       "      <td>Success</td>\n",
       "      <td>5-Aug-2022</td>\n",
       "      <td>NaN</td>\n",
       "      <td>NaN</td>\n",
       "      <td>NaN</td>\n",
       "      <td>NaN</td>\n",
       "      <td>NaN</td>\n",
       "      <td>NaN</td>\n",
       "      <td>NaN</td>\n",
       "      <td>NaN</td>\n",
       "      <td>NaN</td>\n",
       "      <td>NaN</td>\n",
       "      <td>NaN</td>\n",
       "      <td>NaN</td>\n",
       "      <td>1</td>\n",
       "    </tr>\n",
       "  </tbody>\n",
       "</table>\n",
       "</div>"
      ],
      "text/plain": [
       "         MerchantId   Objectives IngestionStatus Report Date RWM Remarks  \\\n",
       "0  BCR2DN4TSCO3DNDR  checkin-nob             ADD  5-Aug-2022     Success   \n",
       "\n",
       "  Ingestion Date RWM Revisit Status RWM Revisit Date Revisit Expire Date  \\\n",
       "0     5-Aug-2022                NaN              NaN                 NaN   \n",
       "\n",
       "  Validity  Pincode  Phone Number City Cluster  Failed Upload RWM MID  \\\n",
       "0      NaN      NaN           NaN  NaN     NaN                    NaN   \n",
       "\n",
       "  csv Google MID Google csv Visit Date csv Validity  s no  \n",
       "0            NaN                   NaN          NaN     1  "
      ]
     },
     "execution_count": 8,
     "metadata": {},
     "output_type": "execute_result"
    }
   ],
   "source": [
    "Dynamic_source.head(1)"
   ]
  },
  {
   "cell_type": "markdown",
   "id": "65fd6e30",
   "metadata": {},
   "source": [
    "# Extracting from latest file\n",
    "# Update the update date in the old records"
   ]
  },
  {
   "cell_type": "code",
   "execution_count": 9,
   "id": "7346016c",
   "metadata": {},
   "outputs": [],
   "source": [
    "Dynamic_source_f = Dynamic_source[['MerchantId', 'Objectives' ,'IngestionStatus', 'Report Date', 'RWM Remarks', \n",
    "                                   'Ingestion Date', 'Revisit Expire Date', 's no']]"
   ]
  },
  {
   "cell_type": "code",
   "execution_count": 10,
   "id": "32c62cd9",
   "metadata": {
    "scrolled": false
   },
   "outputs": [
    {
     "data": {
      "text/html": [
       "<div>\n",
       "<style scoped>\n",
       "    .dataframe tbody tr th:only-of-type {\n",
       "        vertical-align: middle;\n",
       "    }\n",
       "\n",
       "    .dataframe tbody tr th {\n",
       "        vertical-align: top;\n",
       "    }\n",
       "\n",
       "    .dataframe thead th {\n",
       "        text-align: right;\n",
       "    }\n",
       "</style>\n",
       "<table border=\"1\" class=\"dataframe\">\n",
       "  <thead>\n",
       "    <tr style=\"text-align: right;\">\n",
       "      <th></th>\n",
       "      <th>MerchantId</th>\n",
       "      <th>Objectives</th>\n",
       "      <th>IngestionStatus</th>\n",
       "      <th>Report Date</th>\n",
       "      <th>RWM Remarks</th>\n",
       "      <th>Ingestion Date</th>\n",
       "      <th>Revisit Expire Date</th>\n",
       "      <th>s no</th>\n",
       "    </tr>\n",
       "  </thead>\n",
       "  <tbody>\n",
       "    <tr>\n",
       "      <th>0</th>\n",
       "      <td>BCR2DN4TSCO3DNDR</td>\n",
       "      <td>checkin-nob</td>\n",
       "      <td>ADD</td>\n",
       "      <td>5-Aug-2022</td>\n",
       "      <td>Success</td>\n",
       "      <td>5-Aug-2022</td>\n",
       "      <td>NaN</td>\n",
       "      <td>1</td>\n",
       "    </tr>\n",
       "  </tbody>\n",
       "</table>\n",
       "</div>"
      ],
      "text/plain": [
       "         MerchantId   Objectives IngestionStatus Report Date RWM Remarks  \\\n",
       "0  BCR2DN4TSCO3DNDR  checkin-nob             ADD  5-Aug-2022     Success   \n",
       "\n",
       "  Ingestion Date Revisit Expire Date  s no  \n",
       "0     5-Aug-2022                 NaN     1  "
      ]
     },
     "execution_count": 10,
     "metadata": {},
     "output_type": "execute_result"
    }
   ],
   "source": [
    "Dynamic_source_f.head(1)"
   ]
  },
  {
   "cell_type": "code",
   "execution_count": 11,
   "id": "35ba094d",
   "metadata": {
    "scrolled": false
   },
   "outputs": [
    {
     "data": {
      "text/plain": [
       "array(['5-Aug-2022', '12-Aug-2022', '19-Aug-2022', '26-Aug-2022',\n",
       "       '2-Sep-2022', '9-Sep-2022', '16-Sep-2022', '23-Sep-2022',\n",
       "       '28-Sep-2022', '30-Sep-2022', '6-Oct-2022', '7-Oct-2022',\n",
       "       '14-Oct-2022', '21-Oct-2022', '28-Oct-2022', '4-Nov-2022',\n",
       "       '11-Nov-2022'], dtype=object)"
      ]
     },
     "execution_count": 11,
     "metadata": {},
     "output_type": "execute_result"
    }
   ],
   "source": [
    "Dynamic_source_f['Report Date'].unique()"
   ]
  },
  {
   "cell_type": "code",
   "execution_count": 12,
   "id": "923ab213",
   "metadata": {},
   "outputs": [],
   "source": [
    "Dynamic_source_final = Dynamic_source_f"
   ]
  },
  {
   "cell_type": "markdown",
   "id": "7d13d169",
   "metadata": {},
   "source": [
    "### Dynamic Failed"
   ]
  },
  {
   "cell_type": "code",
   "execution_count": 13,
   "id": "c367a408",
   "metadata": {},
   "outputs": [],
   "source": [
    "Dynamic_source_failed = Dynamic_source_f[~Dynamic_source_f['RWM Remarks'].isin(['Success'])]"
   ]
  },
  {
   "cell_type": "code",
   "execution_count": 14,
   "id": "d6f5f733",
   "metadata": {
    "scrolled": true
   },
   "outputs": [
    {
     "data": {
      "text/plain": [
       "array(['Merchant Ext.ID is not present in Merchant Master.',\n",
       "       'Merchant Ext. ID is not present in the Revisit Merchant Table.',\n",
       "       'This Merchant Ext.ID is not present in Revisit Merchant.',\n",
       "       'Duplicate Merchant Ext.ID Already Exist in Excel'], dtype=object)"
      ]
     },
     "execution_count": 14,
     "metadata": {},
     "output_type": "execute_result"
    }
   ],
   "source": [
    "Dynamic_source_failed['RWM Remarks'].unique()"
   ]
  },
  {
   "cell_type": "code",
   "execution_count": 15,
   "id": "e8dde84d",
   "metadata": {},
   "outputs": [],
   "source": [
    "Dynamic_source_failed = Dynamic_source_failed.drop_duplicates(subset=['MerchantId'], keep='last')"
   ]
  },
  {
   "cell_type": "markdown",
   "id": "abfa71c6",
   "metadata": {},
   "source": [
    "### Dynamic Success"
   ]
  },
  {
   "cell_type": "code",
   "execution_count": 16,
   "id": "c59657d6",
   "metadata": {},
   "outputs": [],
   "source": [
    "Dynamic_source_f = Dynamic_source_f[Dynamic_source_f['RWM Remarks'].isin(['Success'])]"
   ]
  },
  {
   "cell_type": "code",
   "execution_count": 17,
   "id": "63dc25bd",
   "metadata": {
    "scrolled": true
   },
   "outputs": [
    {
     "data": {
      "text/plain": [
       "array(['Success'], dtype=object)"
      ]
     },
     "execution_count": 17,
     "metadata": {},
     "output_type": "execute_result"
    }
   ],
   "source": [
    "Dynamic_source_f['RWM Remarks'].unique()"
   ]
  },
  {
   "cell_type": "code",
   "execution_count": 18,
   "id": "bc5a3fd6",
   "metadata": {},
   "outputs": [],
   "source": [
    "Dynamic_source_f = Dynamic_source_f.drop_duplicates(subset=['MerchantId'], keep='last')"
   ]
  },
  {
   "cell_type": "markdown",
   "id": "16d4f0f6",
   "metadata": {},
   "source": [
    "# Latest file"
   ]
  },
  {
   "cell_type": "code",
   "execution_count": 19,
   "id": "42423962",
   "metadata": {},
   "outputs": [
    {
     "data": {
      "text/plain": [
       "(2278167, 19)"
      ]
     },
     "execution_count": 19,
     "metadata": {},
     "output_type": "execute_result"
    }
   ],
   "source": [
    "Dynamic_source.shape"
   ]
  },
  {
   "cell_type": "code",
   "execution_count": 20,
   "id": "9dafe654",
   "metadata": {},
   "outputs": [],
   "source": [
    "latest_file = Dynamic_source_f[Dynamic_source_f['Report Date'].isin([latest_data_set_date])]"
   ]
  },
  {
   "cell_type": "code",
   "execution_count": 21,
   "id": "1839ce9e",
   "metadata": {
    "scrolled": false
   },
   "outputs": [
    {
     "data": {
      "text/plain": [
       "array(['11-Nov-2022'], dtype=object)"
      ]
     },
     "execution_count": 21,
     "metadata": {},
     "output_type": "execute_result"
    }
   ],
   "source": [
    "latest_file['Report Date'].unique()"
   ]
  },
  {
   "cell_type": "code",
   "execution_count": 22,
   "id": "301c37d8",
   "metadata": {
    "scrolled": true
   },
   "outputs": [
    {
     "data": {
      "text/html": [
       "<div>\n",
       "<style scoped>\n",
       "    .dataframe tbody tr th:only-of-type {\n",
       "        vertical-align: middle;\n",
       "    }\n",
       "\n",
       "    .dataframe tbody tr th {\n",
       "        vertical-align: top;\n",
       "    }\n",
       "\n",
       "    .dataframe thead th {\n",
       "        text-align: right;\n",
       "    }\n",
       "</style>\n",
       "<table border=\"1\" class=\"dataframe\">\n",
       "  <thead>\n",
       "    <tr style=\"text-align: right;\">\n",
       "      <th></th>\n",
       "      <th>MerchantId</th>\n",
       "      <th>Objectives</th>\n",
       "      <th>IngestionStatus</th>\n",
       "      <th>Report Date</th>\n",
       "      <th>RWM Remarks</th>\n",
       "      <th>Ingestion Date</th>\n",
       "      <th>Revisit Expire Date</th>\n",
       "      <th>s no</th>\n",
       "    </tr>\n",
       "  </thead>\n",
       "  <tbody>\n",
       "    <tr>\n",
       "      <th>1991413</th>\n",
       "      <td>BCR2DN4T7T4YPRDM</td>\n",
       "      <td>Inactive - INR 40 Extra Pay on Txn</td>\n",
       "      <td>ADD</td>\n",
       "      <td>11-Nov-2022</td>\n",
       "      <td>Success</td>\n",
       "      <td>11-Nov-2022</td>\n",
       "      <td>NaN</td>\n",
       "      <td>1991414</td>\n",
       "    </tr>\n",
       "  </tbody>\n",
       "</table>\n",
       "</div>"
      ],
      "text/plain": [
       "               MerchantId                          Objectives IngestionStatus  \\\n",
       "1991413  BCR2DN4T7T4YPRDM  Inactive - INR 40 Extra Pay on Txn             ADD   \n",
       "\n",
       "         Report Date RWM Remarks Ingestion Date Revisit Expire Date     s no  \n",
       "1991413  11-Nov-2022     Success    11-Nov-2022                 NaN  1991414  "
      ]
     },
     "execution_count": 22,
     "metadata": {},
     "output_type": "execute_result"
    }
   ],
   "source": [
    "latest_file.head(1)"
   ]
  },
  {
   "cell_type": "code",
   "execution_count": 23,
   "id": "c4bdc543",
   "metadata": {
    "scrolled": true
   },
   "outputs": [
    {
     "data": {
      "text/plain": [
       "(246424, 8)"
      ]
     },
     "execution_count": 23,
     "metadata": {},
     "output_type": "execute_result"
    }
   ],
   "source": [
    "latest_file.shape"
   ]
  },
  {
   "cell_type": "markdown",
   "id": "3787e976",
   "metadata": {},
   "source": [
    "# Adding primary key column in the Dynamics source"
   ]
  },
  {
   "cell_type": "code",
   "execution_count": 24,
   "id": "976d4505",
   "metadata": {},
   "outputs": [],
   "source": [
    "Dynamic_source_f['Primary_key'] = range(1,(len(Dynamic_source_f)+1))"
   ]
  },
  {
   "cell_type": "markdown",
   "id": "4168c4db",
   "metadata": {},
   "source": [
    "### Filter out the latest dataset from the dynamics"
   ]
  },
  {
   "cell_type": "code",
   "execution_count": 25,
   "id": "8298e89d",
   "metadata": {},
   "outputs": [
    {
     "data": {
      "text/plain": [
       "array(['5-Aug-2022', '12-Aug-2022', '19-Aug-2022', '26-Aug-2022',\n",
       "       '2-Sep-2022', '9-Sep-2022', '16-Sep-2022', '23-Sep-2022',\n",
       "       '28-Sep-2022', '30-Sep-2022', '6-Oct-2022', '7-Oct-2022',\n",
       "       '14-Oct-2022', '21-Oct-2022', '28-Oct-2022', '4-Nov-2022',\n",
       "       '11-Nov-2022'], dtype=object)"
      ]
     },
     "execution_count": 25,
     "metadata": {},
     "output_type": "execute_result"
    }
   ],
   "source": [
    "Dynamic_source_f['Report Date'].unique()"
   ]
  },
  {
   "cell_type": "code",
   "execution_count": 26,
   "id": "49b167d1",
   "metadata": {},
   "outputs": [],
   "source": [
    "Dynamic_source_f2 = Dynamic_source_f[~Dynamic_source_f['Report Date'].isin([latest_data_set_date])]"
   ]
  },
  {
   "cell_type": "code",
   "execution_count": 27,
   "id": "9cf753e8",
   "metadata": {},
   "outputs": [],
   "source": [
    "Dynamic_source_f = Dynamic_source_f2"
   ]
  },
  {
   "cell_type": "code",
   "execution_count": 28,
   "id": "465c7508",
   "metadata": {},
   "outputs": [],
   "source": [
    "Dynamic_source_old_record = Dynamic_source_f"
   ]
  },
  {
   "cell_type": "code",
   "execution_count": 29,
   "id": "6dcc134c",
   "metadata": {
    "scrolled": true
   },
   "outputs": [
    {
     "data": {
      "text/plain": [
       "array(['5-Aug-2022', '12-Aug-2022', '19-Aug-2022', '26-Aug-2022',\n",
       "       '2-Sep-2022', '9-Sep-2022', '16-Sep-2022', '23-Sep-2022',\n",
       "       '28-Sep-2022', '30-Sep-2022', '6-Oct-2022', '7-Oct-2022',\n",
       "       '14-Oct-2022', '21-Oct-2022', '28-Oct-2022', '4-Nov-2022'],\n",
       "      dtype=object)"
      ]
     },
     "execution_count": 29,
     "metadata": {},
     "output_type": "execute_result"
    }
   ],
   "source": [
    "Dynamic_source_old_record['Report Date'].unique()"
   ]
  },
  {
   "cell_type": "code",
   "execution_count": 30,
   "id": "c430b5c1",
   "metadata": {
    "scrolled": true
   },
   "outputs": [
    {
     "data": {
      "text/plain": [
       "(1175459, 9)"
      ]
     },
     "execution_count": 30,
     "metadata": {},
     "output_type": "execute_result"
    }
   ],
   "source": [
    "Dynamic_source_old_record.shape"
   ]
  },
  {
   "cell_type": "code",
   "execution_count": 31,
   "id": "ce74e2ab",
   "metadata": {
    "scrolled": false
   },
   "outputs": [
    {
     "data": {
      "text/html": [
       "<div>\n",
       "<style scoped>\n",
       "    .dataframe tbody tr th:only-of-type {\n",
       "        vertical-align: middle;\n",
       "    }\n",
       "\n",
       "    .dataframe tbody tr th {\n",
       "        vertical-align: top;\n",
       "    }\n",
       "\n",
       "    .dataframe thead th {\n",
       "        text-align: right;\n",
       "    }\n",
       "</style>\n",
       "<table border=\"1\" class=\"dataframe\">\n",
       "  <thead>\n",
       "    <tr style=\"text-align: right;\">\n",
       "      <th></th>\n",
       "      <th>MerchantId</th>\n",
       "      <th>Objectives</th>\n",
       "      <th>IngestionStatus</th>\n",
       "      <th>Report Date</th>\n",
       "      <th>RWM Remarks</th>\n",
       "      <th>Ingestion Date</th>\n",
       "      <th>Revisit Expire Date</th>\n",
       "      <th>s no</th>\n",
       "      <th>Primary_key</th>\n",
       "    </tr>\n",
       "  </thead>\n",
       "  <tbody>\n",
       "    <tr>\n",
       "      <th>0</th>\n",
       "      <td>BCR2DN4TSCO3DNDR</td>\n",
       "      <td>checkin-nob</td>\n",
       "      <td>ADD</td>\n",
       "      <td>5-Aug-2022</td>\n",
       "      <td>Success</td>\n",
       "      <td>5-Aug-2022</td>\n",
       "      <td>NaN</td>\n",
       "      <td>1</td>\n",
       "      <td>1</td>\n",
       "    </tr>\n",
       "  </tbody>\n",
       "</table>\n",
       "</div>"
      ],
      "text/plain": [
       "         MerchantId   Objectives IngestionStatus Report Date RWM Remarks  \\\n",
       "0  BCR2DN4TSCO3DNDR  checkin-nob             ADD  5-Aug-2022     Success   \n",
       "\n",
       "  Ingestion Date Revisit Expire Date  s no  Primary_key  \n",
       "0     5-Aug-2022                 NaN     1            1  "
      ]
     },
     "execution_count": 31,
     "metadata": {},
     "output_type": "execute_result"
    }
   ],
   "source": [
    "Dynamic_source_old_record.head(1)"
   ]
  },
  {
   "cell_type": "markdown",
   "id": "d03a2f18",
   "metadata": {},
   "source": [
    "### Filter  the latest dataset from the latest file"
   ]
  },
  {
   "cell_type": "code",
   "execution_count": 32,
   "id": "06b1d1ee",
   "metadata": {},
   "outputs": [
    {
     "data": {
      "text/plain": [
       "array(['11-Nov-2022'], dtype=object)"
      ]
     },
     "execution_count": 32,
     "metadata": {},
     "output_type": "execute_result"
    }
   ],
   "source": [
    "latest_file['Report Date'].unique()"
   ]
  },
  {
   "cell_type": "code",
   "execution_count": 33,
   "id": "8bf79018",
   "metadata": {},
   "outputs": [],
   "source": [
    "latest_file_f = latest_file[latest_file['Report Date'].isin([latest_data_set_date])]"
   ]
  },
  {
   "cell_type": "code",
   "execution_count": 34,
   "id": "095953e2",
   "metadata": {},
   "outputs": [
    {
     "data": {
      "text/plain": [
       "(246424, 8)"
      ]
     },
     "execution_count": 34,
     "metadata": {},
     "output_type": "execute_result"
    }
   ],
   "source": [
    "latest_file_f.shape"
   ]
  },
  {
   "cell_type": "markdown",
   "id": "5c0bda16",
   "metadata": {},
   "source": [
    "# Updating the old Dataset"
   ]
  },
  {
   "cell_type": "markdown",
   "id": "45cec450",
   "metadata": {},
   "source": [
    "### Updating the Latest Expiry Date"
   ]
  },
  {
   "cell_type": "code",
   "execution_count": 35,
   "id": "88bcb807",
   "metadata": {},
   "outputs": [],
   "source": [
    "latest_file_f_d = latest_file_f[latest_file_f[\"IngestionStatus\"].isin(['DELETE'])] "
   ]
  },
  {
   "cell_type": "code",
   "execution_count": 36,
   "id": "dd9fd408",
   "metadata": {},
   "outputs": [],
   "source": [
    "latest_file_f_d2 = latest_file_f_d[['MerchantId', 'Revisit Expire Date']].rename(\n",
    "    columns={'Revisit Expire Date':\"latest_expire\"})"
   ]
  },
  {
   "cell_type": "code",
   "execution_count": 37,
   "id": "255a70b2",
   "metadata": {},
   "outputs": [],
   "source": [
    "Dynamic_source_old_record_merge = Dynamic_source_old_record.merge(latest_file_f_d2, how='left', on='MerchantId')"
   ]
  },
  {
   "cell_type": "code",
   "execution_count": 38,
   "id": "e098e09b",
   "metadata": {},
   "outputs": [],
   "source": [
    "Dynamic_source_old_record_merge.drop_duplicates(subset=['Primary_key'], inplace=True)"
   ]
  },
  {
   "cell_type": "code",
   "execution_count": 39,
   "id": "9d439512",
   "metadata": {},
   "outputs": [],
   "source": [
    "Dynamic_source_old_record_merge['Revisit Expire Date'].fillna(Dynamic_source_old_record_merge[\n",
    "    'latest_expire'], inplace=True)"
   ]
  },
  {
   "cell_type": "markdown",
   "id": "0bb4d09e",
   "metadata": {},
   "source": [
    "### Updating the old objective in the latest objective"
   ]
  },
  {
   "cell_type": "code",
   "execution_count": 40,
   "id": "97ce27ae",
   "metadata": {},
   "outputs": [],
   "source": [
    "Dynamic_source_old_record_f = Dynamic_source_old_record[['MerchantId', 'Objectives']].rename(\n",
    "    columns={'Objectives':\"Old_Success_Objectives\"})"
   ]
  },
  {
   "cell_type": "code",
   "execution_count": 41,
   "id": "2fedc36a",
   "metadata": {},
   "outputs": [],
   "source": [
    "latest_file_f_obj_suc = latest_file_f.merge(Dynamic_source_old_record_f, on='MerchantId', how='left')"
   ]
  },
  {
   "cell_type": "code",
   "execution_count": 42,
   "id": "ae7f3e59",
   "metadata": {},
   "outputs": [],
   "source": [
    "latest_file_f_obj_suc.drop_duplicates(subset=['s no'], inplace=True)"
   ]
  },
  {
   "cell_type": "code",
   "execution_count": 43,
   "id": "20ad8453",
   "metadata": {},
   "outputs": [],
   "source": [
    "Dynamic_source_failed = Dynamic_source_failed[~Dynamic_source_failed['Report Date'].isin([latest_data_set_date])]"
   ]
  },
  {
   "cell_type": "code",
   "execution_count": 44,
   "id": "ed539f64",
   "metadata": {},
   "outputs": [],
   "source": [
    "Dynamic_source_failed_f = Dynamic_source_failed[['MerchantId', 'Objectives']].rename(\n",
    "    columns={'Objectives':\"Old_Failed_Objectives\"})"
   ]
  },
  {
   "cell_type": "code",
   "execution_count": 45,
   "id": "86c949a1",
   "metadata": {},
   "outputs": [],
   "source": [
    "latest_file_f_obj_suc_fail = latest_file_f_obj_suc.merge(Dynamic_source_failed_f, on='MerchantId', how='left')"
   ]
  },
  {
   "cell_type": "code",
   "execution_count": 46,
   "id": "39d1795b",
   "metadata": {},
   "outputs": [],
   "source": [
    "latest_file_f_obj_suc_fail.drop_duplicates(subset=['s no'], inplace=True)"
   ]
  },
  {
   "cell_type": "code",
   "execution_count": 47,
   "id": "600c0bda",
   "metadata": {},
   "outputs": [],
   "source": [
    "latest_file_f_obj_suc_fail['Objectives'].fillna(latest_file_f_obj_suc_fail['Old_Success_Objectives'], inplace=True)\n",
    "latest_file_f_obj_suc_fail['Objectives'].fillna(latest_file_f_obj_suc_fail['Old_Failed_Objectives'], inplace=True)"
   ]
  },
  {
   "cell_type": "code",
   "execution_count": 48,
   "id": "12e2a8ae",
   "metadata": {
    "scrolled": true
   },
   "outputs": [
    {
     "data": {
      "text/html": [
       "<div>\n",
       "<style scoped>\n",
       "    .dataframe tbody tr th:only-of-type {\n",
       "        vertical-align: middle;\n",
       "    }\n",
       "\n",
       "    .dataframe tbody tr th {\n",
       "        vertical-align: top;\n",
       "    }\n",
       "\n",
       "    .dataframe thead th {\n",
       "        text-align: right;\n",
       "    }\n",
       "</style>\n",
       "<table border=\"1\" class=\"dataframe\">\n",
       "  <thead>\n",
       "    <tr style=\"text-align: right;\">\n",
       "      <th></th>\n",
       "      <th>MerchantId</th>\n",
       "      <th>Objectives</th>\n",
       "      <th>IngestionStatus</th>\n",
       "      <th>Report Date</th>\n",
       "      <th>RWM Remarks</th>\n",
       "      <th>Ingestion Date</th>\n",
       "      <th>Revisit Expire Date</th>\n",
       "      <th>s no</th>\n",
       "      <th>Old_Success_Objectives</th>\n",
       "      <th>Old_Failed_Objectives</th>\n",
       "    </tr>\n",
       "  </thead>\n",
       "  <tbody>\n",
       "    <tr>\n",
       "      <th>0</th>\n",
       "      <td>BCR2DN4T7T4YPRDM</td>\n",
       "      <td>Inactive - INR 40 Extra Pay on Txn</td>\n",
       "      <td>ADD</td>\n",
       "      <td>11-Nov-2022</td>\n",
       "      <td>Success</td>\n",
       "      <td>11-Nov-2022</td>\n",
       "      <td>NaN</td>\n",
       "      <td>1991414</td>\n",
       "      <td>NaN</td>\n",
       "      <td>NaN</td>\n",
       "    </tr>\n",
       "  </tbody>\n",
       "</table>\n",
       "</div>"
      ],
      "text/plain": [
       "         MerchantId                          Objectives IngestionStatus  \\\n",
       "0  BCR2DN4T7T4YPRDM  Inactive - INR 40 Extra Pay on Txn             ADD   \n",
       "\n",
       "   Report Date RWM Remarks Ingestion Date Revisit Expire Date     s no  \\\n",
       "0  11-Nov-2022     Success    11-Nov-2022                 NaN  1991414   \n",
       "\n",
       "  Old_Success_Objectives Old_Failed_Objectives  \n",
       "0                    NaN                   NaN  "
      ]
     },
     "execution_count": 48,
     "metadata": {},
     "output_type": "execute_result"
    }
   ],
   "source": [
    "latest_file_f_obj_suc_fail.head(1)"
   ]
  },
  {
   "cell_type": "code",
   "execution_count": 49,
   "id": "01831121",
   "metadata": {},
   "outputs": [],
   "source": [
    "latest_file_f_obj_suc_fail_f = latest_file_f_obj_suc_fail[['s no', 'Objectives']].rename(\n",
    "    columns={'Objectives':'Objectives_Delete'})"
   ]
  },
  {
   "cell_type": "markdown",
   "id": "e4faf3b4",
   "metadata": {},
   "source": [
    "# Updating the ingestion date from the previous record"
   ]
  },
  {
   "cell_type": "code",
   "execution_count": 50,
   "id": "91bc36ae",
   "metadata": {},
   "outputs": [],
   "source": [
    "Dynamic_source_old_record_f = Dynamic_source_old_record[Dynamic_source_old_record['IngestionStatus'].isin([\n",
    "    \"ADD\",'EDIT'])]"
   ]
  },
  {
   "cell_type": "code",
   "execution_count": 51,
   "id": "e4685238",
   "metadata": {},
   "outputs": [],
   "source": [
    "Dynamic_source_old_record_f2 = Dynamic_source_old_record_f[['MerchantId', 'Report Date']].rename(\n",
    "    columns={'Report Date':\"Old_Ingestion Date\"})"
   ]
  },
  {
   "cell_type": "code",
   "execution_count": 52,
   "id": "289aeff7",
   "metadata": {},
   "outputs": [],
   "source": [
    "latest_file_f_obj_suc_fail_inda = latest_file_f_obj_suc_fail.merge(\n",
    "    Dynamic_source_old_record_f2, on='MerchantId', how='left')"
   ]
  },
  {
   "cell_type": "code",
   "execution_count": 53,
   "id": "6d0fccb9",
   "metadata": {},
   "outputs": [],
   "source": [
    "latest_file_f_obj_suc_fail_inda.drop_duplicates(subset=['s no'], inplace=True)"
   ]
  },
  {
   "cell_type": "code",
   "execution_count": 54,
   "id": "f065a6d5",
   "metadata": {},
   "outputs": [],
   "source": [
    "latest_file_f_obj_suc_fail_inda['Old_Ingestion Date'].fillna(latest_file_f_obj_suc_fail_inda[\n",
    "    'Ingestion Date'], inplace=True)"
   ]
  },
  {
   "cell_type": "code",
   "execution_count": 55,
   "id": "ad6763a9",
   "metadata": {},
   "outputs": [],
   "source": [
    "latest_file_f_obj_suc_fail_inda.drop(['Ingestion Date'], axis=1, inplace=True)"
   ]
  },
  {
   "cell_type": "code",
   "execution_count": 56,
   "id": "33202de6",
   "metadata": {},
   "outputs": [],
   "source": [
    "latest_file_f_obj_suc_fail_inda.rename(columns={'Old_Ingestion Date':'Ingestion Date'}, inplace=True)"
   ]
  },
  {
   "cell_type": "code",
   "execution_count": 57,
   "id": "f5f1aaf0",
   "metadata": {},
   "outputs": [],
   "source": [
    "latest_file_f_obj_suc_fail_inda['Ingestion Date'].fillna(Default_Ingestion_Date, inplace=True)"
   ]
  },
  {
   "cell_type": "code",
   "execution_count": 58,
   "id": "843f1c43",
   "metadata": {},
   "outputs": [],
   "source": [
    "latest_file_f_obj_suc_fail_inda_f = latest_file_f_obj_suc_fail_inda[['s no', 'Ingestion Date', \"Objectives\"]]"
   ]
  },
  {
   "cell_type": "code",
   "execution_count": 59,
   "id": "ce915744",
   "metadata": {},
   "outputs": [],
   "source": [
    "latest_file_f_obj_suc_fail_inda_f.rename(columns={'Ingestion Date':\"New Ingestion Date\"}, inplace=True)\n",
    "latest_file_f_obj_suc_fail_inda_f.rename(columns={'Objectives':\"New Objectives\"}, inplace=True)"
   ]
  },
  {
   "cell_type": "code",
   "execution_count": 60,
   "id": "63270afe",
   "metadata": {},
   "outputs": [],
   "source": [
    "Dynamic_source_merge = Dynamic_source.merge(latest_file_f_obj_suc_fail_inda_f, on='s no', how='left')"
   ]
  },
  {
   "cell_type": "code",
   "execution_count": 61,
   "id": "24ae747f",
   "metadata": {},
   "outputs": [],
   "source": [
    "Dynamic_source_merge.drop_duplicates(subset=['s no'], inplace=True)"
   ]
  },
  {
   "cell_type": "code",
   "execution_count": 62,
   "id": "4a112661",
   "metadata": {},
   "outputs": [],
   "source": [
    "Dynamic_source_merge['Ingestion Date'].fillna(Dynamic_source_merge['New Ingestion Date'], inplace=True)"
   ]
  },
  {
   "cell_type": "code",
   "execution_count": 63,
   "id": "3b5a97e1",
   "metadata": {},
   "outputs": [],
   "source": [
    "Dynamic_source_merge['Objectives'].fillna(Dynamic_source_merge['New Objectives'], inplace=True)"
   ]
  },
  {
   "cell_type": "code",
   "execution_count": 64,
   "id": "02a10d1d",
   "metadata": {},
   "outputs": [],
   "source": [
    "Dynamic_source_merge2 = Dynamic_source_merge.merge(latest_file_f_obj_suc_fail_f, on='s no', how='left')"
   ]
  },
  {
   "cell_type": "code",
   "execution_count": 65,
   "id": "03b04949",
   "metadata": {},
   "outputs": [],
   "source": [
    "Dynamic_source_merge2.drop_duplicates(subset=['s no'], inplace=True)"
   ]
  },
  {
   "cell_type": "code",
   "execution_count": 66,
   "id": "d415003d",
   "metadata": {},
   "outputs": [],
   "source": [
    "Dynamic_source_merge2['Objectives'].fillna(Dynamic_source_merge2['Objectives_Delete'], inplace=True)"
   ]
  },
  {
   "cell_type": "code",
   "execution_count": 67,
   "id": "6d6969e9",
   "metadata": {},
   "outputs": [],
   "source": [
    "Dynamic_source_merge2_f = Dynamic_source_merge2[['MerchantId', 'Objectives', 'IngestionStatus', 'Report Date',\n",
    "                    'RWM Remarks', 'Ingestion Date', 'RWM Revisit Status', 'RWM Revisit Date', \n",
    "'Revisit Expire Date', 'Validity', 'Pincode', 'Phone Number', 'City', 'Cluster', 'Failed Upload RWM MID',\n",
    "'csv Google MID', 'Google csv Visit Date', 'csv Validity', 's no']]"
   ]
  },
  {
   "cell_type": "code",
   "execution_count": 68,
   "id": "2eed1a0f",
   "metadata": {},
   "outputs": [],
   "source": [
    "Dynamic_source_merge2_f.to_csv(output_loc+\"Dynamic_Source.csv\", index=False)"
   ]
  },
  {
   "cell_type": "code",
   "execution_count": 69,
   "id": "b7077752",
   "metadata": {},
   "outputs": [],
   "source": [
    "Dynamic_source_merge2_f2 = Dynamic_source_merge2_f[['MerchantId', 'Objectives', 'IngestionStatus', 'Report Date',\n",
    "                    'RWM Remarks', 'Ingestion Date', 'Revisit Expire Date', 's no']]"
   ]
  },
  {
   "cell_type": "code",
   "execution_count": 70,
   "id": "c46a108c",
   "metadata": {},
   "outputs": [],
   "source": [
    "Dynamic_source_merge2_f3 = Dynamic_source_merge2_f2[Dynamic_source_merge2_f2['RWM Remarks'].isin(['Success'])]"
   ]
  },
  {
   "cell_type": "code",
   "execution_count": 71,
   "id": "d11f2969",
   "metadata": {},
   "outputs": [],
   "source": [
    "Dynamic_source_merge2_f3.drop_duplicates(subset=['MerchantId'], keep='last', inplace=True)"
   ]
  },
  {
   "cell_type": "code",
   "execution_count": 72,
   "id": "347e955d",
   "metadata": {},
   "outputs": [],
   "source": [
    "Dynamic_source_merge2_f4 = Dynamic_source_merge2_f3[['s no', 'IngestionStatus', 'Revisit Expire Date']]"
   ]
  },
  {
   "cell_type": "code",
   "execution_count": 73,
   "id": "df38a9ce",
   "metadata": {},
   "outputs": [],
   "source": [
    "Dynamic_source_merge2_f5 = Dynamic_source_merge2_f4[Dynamic_source_merge2_f4['IngestionStatus'].isin([\n",
    "    'ADD', 'EDIT'])]"
   ]
  },
  {
   "cell_type": "code",
   "execution_count": 74,
   "id": "20980f4e",
   "metadata": {},
   "outputs": [],
   "source": [
    "Dynamic_source_merge2_f5['Check_Expire'] = Dynamic_source_merge2_f5['Revisit Expire Date'].isna()"
   ]
  },
  {
   "cell_type": "code",
   "execution_count": 75,
   "id": "211d5650",
   "metadata": {},
   "outputs": [],
   "source": [
    "Dynamic_source_merge2_f5['Check_Expire'].replace(True, np.nan, inplace=True)"
   ]
  },
  {
   "cell_type": "code",
   "execution_count": 76,
   "id": "a5b0a865",
   "metadata": {},
   "outputs": [],
   "source": [
    "Dynamic_source_merge2_f6 = Dynamic_source_merge2_f5[['s no', 'Check_Expire']]"
   ]
  },
  {
   "cell_type": "code",
   "execution_count": 77,
   "id": "8fbe81ec",
   "metadata": {},
   "outputs": [],
   "source": [
    "Dynamic_source_merge3_f3 = Dynamic_source_merge2_f3.merge(Dynamic_source_merge2_f6, on='s no', how='left')"
   ]
  },
  {
   "cell_type": "code",
   "execution_count": 78,
   "id": "4f27ca21",
   "metadata": {},
   "outputs": [],
   "source": [
    "Dynamic_source_merge3_f3['Check_Expire'].fillna(Dynamic_source_merge3_f3['Revisit Expire Date'], inplace=True)"
   ]
  },
  {
   "cell_type": "code",
   "execution_count": 79,
   "id": "04e18523",
   "metadata": {},
   "outputs": [],
   "source": [
    "Dynamic_source_merge3_f3['Check_Expire'].replace(False, np.nan, inplace=True)"
   ]
  },
  {
   "cell_type": "code",
   "execution_count": 80,
   "id": "72f35bd7",
   "metadata": {},
   "outputs": [],
   "source": [
    "Dynamic_source_merge3_f3.drop(['Revisit Expire Date'], axis=1, inplace=True)"
   ]
  },
  {
   "cell_type": "code",
   "execution_count": 81,
   "id": "870f1554",
   "metadata": {},
   "outputs": [],
   "source": [
    "Dynamic_source_merge3_f3.rename(columns={'Check_Expire':\"Revisit Expire Date\"}, inplace=True)"
   ]
  },
  {
   "cell_type": "code",
   "execution_count": 82,
   "id": "d291cc25",
   "metadata": {},
   "outputs": [],
   "source": [
    "Dynamic_source_merge3_f3[['MerchantId', 'Objectives','RWM Remarks','IngestionStatus', 'Report Date', 'Ingestion Date',\n",
    "                         'Revisit Expire Date', 's no']].to_csv(output_loc+\"Dynamic_for_matching.csv\", index=False)"
   ]
  },
  {
   "cell_type": "code",
   "execution_count": 85,
   "id": "e3466542",
   "metadata": {},
   "outputs": [
    {
     "data": {
      "text/plain": [
       "array(['5-Aug-2022', '12-Aug-2022', '19-Aug-2022', '26-Aug-2022',\n",
       "       '2-Sep-2022', '9-Sep-2022', '16-Sep-2022', '23-Sep-2022',\n",
       "       '28-Sep-2022', '30-Sep-2022', '6-Oct-2022', '7-Oct-2022',\n",
       "       '14-Oct-2022', '21-Oct-2022', '28-Oct-2022', '4-Nov-2022',\n",
       "       '11-Nov-2022'], dtype=object)"
      ]
     },
     "execution_count": 85,
     "metadata": {},
     "output_type": "execute_result"
    }
   ],
   "source": [
    "Dynamic_source_merge3_f3['Report Date'].unique()"
   ]
  },
  {
   "cell_type": "code",
   "execution_count": null,
   "id": "a093558b",
   "metadata": {},
   "outputs": [],
   "source": []
  },
  {
   "cell_type": "code",
   "execution_count": 84,
   "id": "f2b73079",
   "metadata": {},
   "outputs": [
    {
     "ename": "SyntaxError",
     "evalue": "invalid syntax (2587651117.py, line 1)",
     "output_type": "error",
     "traceback": [
      "\u001b[0;36m  File \u001b[0;32m\"/tmp/ipykernel_11630/2587651117.py\"\u001b[0;36m, line \u001b[0;32m1\u001b[0m\n\u001b[0;31m    Stop =\u001b[0m\n\u001b[0m           ^\u001b[0m\n\u001b[0;31mSyntaxError\u001b[0m\u001b[0;31m:\u001b[0m invalid syntax\n"
     ]
    }
   ],
   "source": [
    "Stop = "
   ]
  },
  {
   "cell_type": "markdown",
   "id": "268c89f0",
   "metadata": {},
   "source": [
    "# Extra"
   ]
  },
  {
   "cell_type": "code",
   "execution_count": 86,
   "id": "d6ab1696",
   "metadata": {},
   "outputs": [],
   "source": [
    "output_loc_2 = \"/home/dhrubakumardolai/Desktop/Python Test/Rahul/Script 1 Invalid file read for dynamics/Result/\""
   ]
  },
  {
   "cell_type": "code",
   "execution_count": 87,
   "id": "c8a25e3b",
   "metadata": {},
   "outputs": [],
   "source": [
    "Dynamic_source_merge2_f2 = Dynamic_source_merge2_f[Dynamic_source_merge2_f['Report Date'].isin(['21-Oct-2022',\n",
    "\"28-Oct-2022\", '4-Nov-2022', '11-Nov-2022'])]"
   ]
  },
  {
   "cell_type": "code",
   "execution_count": 88,
   "id": "ca32adf2",
   "metadata": {},
   "outputs": [],
   "source": [
    "Dynamic_source_merge2_f3 = Dynamic_source_merge2_f2[Dynamic_source_merge2_f2[\n",
    "    'IngestionStatus'].isin(['ADD', 'EDIT'])]"
   ]
  },
  {
   "cell_type": "code",
   "execution_count": 89,
   "id": "c8abb8dc",
   "metadata": {},
   "outputs": [],
   "source": [
    "Dynamic_source_merge2_f4 = Dynamic_source_merge2_f3[~Dynamic_source_merge2_f3['RWM Remarks'].isin(['Success'])]"
   ]
  },
  {
   "cell_type": "code",
   "execution_count": 90,
   "id": "b04db2bd",
   "metadata": {},
   "outputs": [],
   "source": [
    "Dynamic_source_merge2_f5 = Dynamic_source_merge2_f4[['MerchantId', 'Objectives', 'IngestionStatus','Report Date',\n",
    "                                                    'RWM Remarks']]"
   ]
  },
  {
   "cell_type": "code",
   "execution_count": 91,
   "id": "974147cf",
   "metadata": {},
   "outputs": [],
   "source": [
    "Dynamic_ADD_Edit = Dynamic_source_merge2_f5"
   ]
  },
  {
   "cell_type": "code",
   "execution_count": 92,
   "id": "dc94c525",
   "metadata": {},
   "outputs": [],
   "source": [
    "Dynamic_ADD_Edit.to_csv(output_loc_2+'Reingest/ADD_EDIT.csv', index=False)"
   ]
  },
  {
   "cell_type": "code",
   "execution_count": 93,
   "id": "46eddf25",
   "metadata": {},
   "outputs": [],
   "source": [
    "Dynamic_source_del = Dynamic_source_merge2_f2[Dynamic_source_merge2_f2['IngestionStatus'].isin(['DELETE'])]"
   ]
  },
  {
   "cell_type": "code",
   "execution_count": 94,
   "id": "ee0f457d",
   "metadata": {},
   "outputs": [],
   "source": [
    "#Dynamic_source_del_success = Dynamic_source_del[Dynamic_source_del['RWM Remarks'].isin(['Success'])]"
   ]
  },
  {
   "cell_type": "code",
   "execution_count": 97,
   "id": "6ce37bfc",
   "metadata": {},
   "outputs": [],
   "source": [
    "Dynamic_source_del_success_f = Dynamic_source_del[['MerchantId', \n",
    "'Objectives', 'IngestionStatus', 'Report Date', 'RWM Remarks']]"
   ]
  },
  {
   "cell_type": "code",
   "execution_count": 98,
   "id": "fd9fd14d",
   "metadata": {},
   "outputs": [],
   "source": [
    "Dynamic_source_del_success_f.to_csv(output_loc_2+'Reingest/DELETE.csv', index=False)"
   ]
  },
  {
   "cell_type": "code",
   "execution_count": null,
   "id": "3dcfda96",
   "metadata": {},
   "outputs": [],
   "source": []
  },
  {
   "cell_type": "code",
   "execution_count": null,
   "id": "4348dc28",
   "metadata": {},
   "outputs": [],
   "source": []
  },
  {
   "cell_type": "code",
   "execution_count": null,
   "id": "8bef6a3d",
   "metadata": {},
   "outputs": [],
   "source": []
  },
  {
   "cell_type": "code",
   "execution_count": null,
   "id": "b8be89fb",
   "metadata": {},
   "outputs": [],
   "source": []
  },
  {
   "cell_type": "code",
   "execution_count": null,
   "id": "0562a86f",
   "metadata": {},
   "outputs": [],
   "source": []
  },
  {
   "cell_type": "code",
   "execution_count": null,
   "id": "5069c10a",
   "metadata": {},
   "outputs": [],
   "source": []
  }
 ],
 "metadata": {
  "kernelspec": {
   "display_name": "Python 3 (ipykernel)",
   "language": "python",
   "name": "python3"
  },
  "language_info": {
   "codemirror_mode": {
    "name": "ipython",
    "version": 3
   },
   "file_extension": ".py",
   "mimetype": "text/x-python",
   "name": "python",
   "nbconvert_exporter": "python",
   "pygments_lexer": "ipython3",
   "version": "3.10.6"
  }
 },
 "nbformat": 4,
 "nbformat_minor": 5
}
