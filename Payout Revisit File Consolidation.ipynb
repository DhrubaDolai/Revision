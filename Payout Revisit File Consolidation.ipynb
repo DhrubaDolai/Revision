{
 "cells": [
  {
   "cell_type": "code",
   "execution_count": 1,
   "id": "529316bd",
   "metadata": {},
   "outputs": [],
   "source": [
    "import pandas as pd\n",
    "import os\n",
    "import numpy as np\n",
    "import xlsxwriter as xw\n",
    "import re\n",
    "import warnings\n",
    "warnings.filterwarnings('ignore')\n",
    "import openpyxl as op\n",
    "from openpyxl import Workbook, load_workbook\n",
    "from openpyxl.styles import PatternFill, Border, Side, Alignment, Protection, Font\n",
    "from pathlib import Path\n",
    "import glob"
   ]
  },
  {
   "cell_type": "code",
   "execution_count": 2,
   "id": "760b1c60",
   "metadata": {},
   "outputs": [],
   "source": [
    "input_loc = \"/home/dhrubakumardolai/Desktop/Python Test/Result/Revisit File/Nov/\""
   ]
  },
  {
   "cell_type": "markdown",
   "id": "cf1e023d",
   "metadata": {},
   "source": [
    "# Google File"
   ]
  },
  {
   "cell_type": "code",
   "execution_count": 3,
   "id": "30a904da",
   "metadata": {},
   "outputs": [],
   "source": [
    "input_loc_g = input_loc+\"Google/\""
   ]
  },
  {
   "cell_type": "code",
   "execution_count": 4,
   "id": "fb927d56",
   "metadata": {
    "scrolled": true
   },
   "outputs": [],
   "source": [
    "filelist = glob.glob(input_loc_g+\"**/*.xlsx\", recursive = True)"
   ]
  },
  {
   "cell_type": "code",
   "execution_count": 5,
   "id": "d9735937",
   "metadata": {},
   "outputs": [
    {
     "data": {
      "text/plain": [
       "['/home/dhrubakumardolai/Desktop/Python Test/Result/Revisit File/Nov/Google/Google_Revisit_Final (28).xlsx',\n",
       " '/home/dhrubakumardolai/Desktop/Python Test/Result/Revisit File/Nov/Google/Google_Revisit_Final (01).xlsx',\n",
       " '/home/dhrubakumardolai/Desktop/Python Test/Result/Revisit File/Nov/Google/Google_Revisit_Final (22).xlsx',\n",
       " '/home/dhrubakumardolai/Desktop/Python Test/Result/Revisit File/Nov/Google/Google_Revisit_Final (13).xlsx',\n",
       " '/home/dhrubakumardolai/Desktop/Python Test/Result/Revisit File/Nov/Google/Google_Revisit_Final (03).xlsx',\n",
       " '/home/dhrubakumardolai/Desktop/Python Test/Result/Revisit File/Nov/Google/Google_Revisit_Final (07).xlsx',\n",
       " '/home/dhrubakumardolai/Desktop/Python Test/Result/Revisit File/Nov/Google/Google_Revisit_Final (09).xlsx',\n",
       " '/home/dhrubakumardolai/Desktop/Python Test/Result/Revisit File/Nov/Google/Google_Revisit_Final (21).xlsx',\n",
       " '/home/dhrubakumardolai/Desktop/Python Test/Result/Revisit File/Nov/Google/Google_Revisit_Final (27).xlsx',\n",
       " '/home/dhrubakumardolai/Desktop/Python Test/Result/Revisit File/Nov/Google/Google_Revisit_Final (06).xlsx',\n",
       " '/home/dhrubakumardolai/Desktop/Python Test/Result/Revisit File/Nov/Google/Google_Revisit_Final (25).xlsx',\n",
       " '/home/dhrubakumardolai/Desktop/Python Test/Result/Revisit File/Nov/Google/Google_Revisit_Final (24).xlsx',\n",
       " '/home/dhrubakumardolai/Desktop/Python Test/Result/Revisit File/Nov/Google/Google_Revisit_Final (05).xlsx',\n",
       " '/home/dhrubakumardolai/Desktop/Python Test/Result/Revisit File/Nov/Google/Google_Revisit_Final (26).xlsx',\n",
       " '/home/dhrubakumardolai/Desktop/Python Test/Result/Revisit File/Nov/Google/Google_Revisit_Final (18).xlsx',\n",
       " '/home/dhrubakumardolai/Desktop/Python Test/Result/Revisit File/Nov/Google/Google_Revisit_Final (15).xlsx',\n",
       " '/home/dhrubakumardolai/Desktop/Python Test/Result/Revisit File/Nov/Google/Google_Revisit_Final (02).xlsx',\n",
       " '/home/dhrubakumardolai/Desktop/Python Test/Result/Revisit File/Nov/Google/Google_Revisit_Final (19).xlsx',\n",
       " '/home/dhrubakumardolai/Desktop/Python Test/Result/Revisit File/Nov/Google/Google_Revisit_Final (30).xlsx',\n",
       " '/home/dhrubakumardolai/Desktop/Python Test/Result/Revisit File/Nov/Google/Google_Revisit_Final (14).xlsx',\n",
       " '/home/dhrubakumardolai/Desktop/Python Test/Result/Revisit File/Nov/Google/Google_Revisit_Final (12).xlsx',\n",
       " '/home/dhrubakumardolai/Desktop/Python Test/Result/Revisit File/Nov/Google/Google_Revisit_Final (11).xlsx',\n",
       " '/home/dhrubakumardolai/Desktop/Python Test/Result/Revisit File/Nov/Google/Google_Revisit_Final (16).xlsx',\n",
       " '/home/dhrubakumardolai/Desktop/Python Test/Result/Revisit File/Nov/Google/Google_Revisit_Final (29).xlsx',\n",
       " '/home/dhrubakumardolai/Desktop/Python Test/Result/Revisit File/Nov/Google/Google_Revisit_Final (23).xlsx',\n",
       " '/home/dhrubakumardolai/Desktop/Python Test/Result/Revisit File/Nov/Google/Google_Revisit_Final (10).xlsx',\n",
       " '/home/dhrubakumardolai/Desktop/Python Test/Result/Revisit File/Nov/Google/Google_Revisit_Final (08).xlsx',\n",
       " '/home/dhrubakumardolai/Desktop/Python Test/Result/Revisit File/Nov/Google/Google_Revisit_Final (17).xlsx',\n",
       " '/home/dhrubakumardolai/Desktop/Python Test/Result/Revisit File/Nov/Google/Google_Revisit_Final (04).xlsx',\n",
       " '/home/dhrubakumardolai/Desktop/Python Test/Result/Revisit File/Nov/Google/Google_Revisit_Final (20).xlsx']"
      ]
     },
     "execution_count": 5,
     "metadata": {},
     "output_type": "execute_result"
    }
   ],
   "source": [
    "filelist"
   ]
  },
  {
   "cell_type": "code",
   "execution_count": 6,
   "id": "d807a375",
   "metadata": {},
   "outputs": [],
   "source": [
    "Google_re = pd.DataFrame()\n",
    "\n",
    "for file in filelist:\n",
    "    if file.endswith(\".xlsx\"):\n",
    "        df = pd.read_excel(file)\n",
    "        Google_re = Google_re.append(df)"
   ]
  },
  {
   "cell_type": "code",
   "execution_count": 7,
   "id": "8f46036f",
   "metadata": {},
   "outputs": [],
   "source": [
    "Google_re[\"Primary_key\"] = range(1,(len(Google_re)+1))"
   ]
  },
  {
   "cell_type": "code",
   "execution_count": 8,
   "id": "02e773a9",
   "metadata": {
    "scrolled": true
   },
   "outputs": [],
   "source": [
    "Google_re.sort_values(by=['sno'], inplace=True)"
   ]
  },
  {
   "cell_type": "code",
   "execution_count": 9,
   "id": "e86aae51",
   "metadata": {},
   "outputs": [],
   "source": [
    "Google_re.to_csv(input_loc+\"Google/Consolidated/Google_consolidated.csv\", index=False)"
   ]
  },
  {
   "cell_type": "code",
   "execution_count": 10,
   "id": "277a546d",
   "metadata": {},
   "outputs": [
    {
     "data": {
      "text/plain": [
       "(185526, 44)"
      ]
     },
     "execution_count": 10,
     "metadata": {},
     "output_type": "execute_result"
    }
   ],
   "source": [
    "Google_re.shape"
   ]
  },
  {
   "cell_type": "markdown",
   "id": "2812eb22",
   "metadata": {},
   "source": [
    "# RWM File"
   ]
  },
  {
   "cell_type": "code",
   "execution_count": 11,
   "id": "41a65585",
   "metadata": {},
   "outputs": [],
   "source": [
    "input_loc_r = input_loc+\"RWM/\""
   ]
  },
  {
   "cell_type": "code",
   "execution_count": 12,
   "id": "8632e5e6",
   "metadata": {},
   "outputs": [],
   "source": [
    "filelist = glob.glob(input_loc_r+\"**/*.xlsx\", recursive = True)"
   ]
  },
  {
   "cell_type": "code",
   "execution_count": 13,
   "id": "3e07070a",
   "metadata": {},
   "outputs": [
    {
     "data": {
      "text/plain": [
       "['/home/dhrubakumardolai/Desktop/Python Test/Result/Revisit File/Nov/RWM/RWN_Revisit_Final (12).xlsx',\n",
       " '/home/dhrubakumardolai/Desktop/Python Test/Result/Revisit File/Nov/RWM/RWN_Revisit_Final (13).xlsx',\n",
       " '/home/dhrubakumardolai/Desktop/Python Test/Result/Revisit File/Nov/RWM/RWN_Revisit_Final (10).xlsx',\n",
       " '/home/dhrubakumardolai/Desktop/Python Test/Result/Revisit File/Nov/RWM/RWN_Revisit_Final (09).xlsx',\n",
       " '/home/dhrubakumardolai/Desktop/Python Test/Result/Revisit File/Nov/RWM/RWN_Revisit_Final (04).xlsx',\n",
       " '/home/dhrubakumardolai/Desktop/Python Test/Result/Revisit File/Nov/RWM/RWN_Revisit_Final (28).xlsx',\n",
       " '/home/dhrubakumardolai/Desktop/Python Test/Result/Revisit File/Nov/RWM/RWN_Revisit_Final (08).xlsx',\n",
       " '/home/dhrubakumardolai/Desktop/Python Test/Result/Revisit File/Nov/RWM/RWN_Revisit_Final (21).xlsx',\n",
       " '/home/dhrubakumardolai/Desktop/Python Test/Result/Revisit File/Nov/RWM/RWN_Revisit_Final (22).xlsx',\n",
       " '/home/dhrubakumardolai/Desktop/Python Test/Result/Revisit File/Nov/RWM/RWN_Revisit_Final (20).xlsx',\n",
       " '/home/dhrubakumardolai/Desktop/Python Test/Result/Revisit File/Nov/RWM/RWN_Revisit_Final (27).xlsx',\n",
       " '/home/dhrubakumardolai/Desktop/Python Test/Result/Revisit File/Nov/RWM/RWN_Revisit_Final (24).xlsx',\n",
       " '/home/dhrubakumardolai/Desktop/Python Test/Result/Revisit File/Nov/RWM/RWN_Revisit_Final (07).xlsx',\n",
       " '/home/dhrubakumardolai/Desktop/Python Test/Result/Revisit File/Nov/RWM/RWN_Revisit_Final (29).xlsx',\n",
       " '/home/dhrubakumardolai/Desktop/Python Test/Result/Revisit File/Nov/RWM/RWN_Revisit_Final (06).xlsx',\n",
       " '/home/dhrubakumardolai/Desktop/Python Test/Result/Revisit File/Nov/RWM/RWN_Revisit_Final (25).xlsx',\n",
       " '/home/dhrubakumardolai/Desktop/Python Test/Result/Revisit File/Nov/RWM/RWN_Revisit_Final (19).xlsx',\n",
       " '/home/dhrubakumardolai/Desktop/Python Test/Result/Revisit File/Nov/RWM/RWN_Revisit_Final (05).xlsx',\n",
       " '/home/dhrubakumardolai/Desktop/Python Test/Result/Revisit File/Nov/RWM/RWN_Revisit_Final (14).xlsx',\n",
       " '/home/dhrubakumardolai/Desktop/Python Test/Result/Revisit File/Nov/RWM/RWN_Revisit_Final (02).xlsx',\n",
       " '/home/dhrubakumardolai/Desktop/Python Test/Result/Revisit File/Nov/RWM/RWN_Revisit_Final (30).xlsx',\n",
       " '/home/dhrubakumardolai/Desktop/Python Test/Result/Revisit File/Nov/RWM/RWN_Revisit_Final (16).xlsx',\n",
       " '/home/dhrubakumardolai/Desktop/Python Test/Result/Revisit File/Nov/RWM/RWN_Revisit_Final (26).xlsx',\n",
       " '/home/dhrubakumardolai/Desktop/Python Test/Result/Revisit File/Nov/RWM/RWN_Revisit_Final (15).xlsx',\n",
       " '/home/dhrubakumardolai/Desktop/Python Test/Result/Revisit File/Nov/RWM/RWN_Revisit_Final (17).xlsx',\n",
       " '/home/dhrubakumardolai/Desktop/Python Test/Result/Revisit File/Nov/RWM/RWN_Revisit_Final (23).xlsx',\n",
       " '/home/dhrubakumardolai/Desktop/Python Test/Result/Revisit File/Nov/RWM/RWN_Revisit_Final (03).xlsx',\n",
       " '/home/dhrubakumardolai/Desktop/Python Test/Result/Revisit File/Nov/RWM/RWN_Revisit_Final (01).xlsx',\n",
       " '/home/dhrubakumardolai/Desktop/Python Test/Result/Revisit File/Nov/RWM/RWN_Revisit_Final (18).xlsx',\n",
       " '/home/dhrubakumardolai/Desktop/Python Test/Result/Revisit File/Nov/RWM/RWN_Revisit_Final (11).xlsx']"
      ]
     },
     "execution_count": 13,
     "metadata": {},
     "output_type": "execute_result"
    }
   ],
   "source": [
    "filelist"
   ]
  },
  {
   "cell_type": "code",
   "execution_count": 14,
   "id": "66c7a8c3",
   "metadata": {},
   "outputs": [],
   "source": [
    "RWM_re = pd.DataFrame()\n",
    "\n",
    "for file in filelist:\n",
    "    if file.endswith(\".xlsx\"):\n",
    "        df = pd.read_excel(file)\n",
    "        RWM_re = RWM_re.append(df)"
   ]
  },
  {
   "cell_type": "code",
   "execution_count": 15,
   "id": "8ffe6b67",
   "metadata": {},
   "outputs": [],
   "source": [
    "RWM_re[\"Primary_key\"] = range(1,(len(RWM_re)+1))"
   ]
  },
  {
   "cell_type": "code",
   "execution_count": 16,
   "id": "d0a34509",
   "metadata": {},
   "outputs": [],
   "source": [
    "RWM_re.sort_values(by=['sno'], inplace=True)"
   ]
  },
  {
   "cell_type": "code",
   "execution_count": 17,
   "id": "9b674ef5",
   "metadata": {},
   "outputs": [],
   "source": [
    "RWM_re.to_csv(input_loc+\"RWM/Consolidated/RWM_consolidated.csv\", index=False)"
   ]
  },
  {
   "cell_type": "code",
   "execution_count": 18,
   "id": "fb06a2f9",
   "metadata": {
    "scrolled": false
   },
   "outputs": [
    {
     "data": {
      "text/plain": [
       "(190655, 58)"
      ]
     },
     "execution_count": 18,
     "metadata": {},
     "output_type": "execute_result"
    }
   ],
   "source": [
    "RWM_re.shape"
   ]
  },
  {
   "cell_type": "code",
   "execution_count": null,
   "id": "732be6fb",
   "metadata": {},
   "outputs": [],
   "source": []
  },
  {
   "cell_type": "code",
   "execution_count": null,
   "id": "acca1ff1",
   "metadata": {},
   "outputs": [],
   "source": []
  },
  {
   "cell_type": "code",
   "execution_count": null,
   "id": "5d87471b",
   "metadata": {},
   "outputs": [],
   "source": []
  }
 ],
 "metadata": {
  "kernelspec": {
   "display_name": "Python 3.10.6 64-bit",
   "language": "python",
   "name": "python3"
  },
  "language_info": {
   "codemirror_mode": {
    "name": "ipython",
    "version": 3
   },
   "file_extension": ".py",
   "mimetype": "text/x-python",
   "name": "python",
   "nbconvert_exporter": "python",
   "pygments_lexer": "ipython3",
   "version": "3.10.6"
  },
  "vscode": {
   "interpreter": {
    "hash": "916dbcbb3f70747c44a77c7bcd40155683ae19c65e1c03b4aa3499c5328201f1"
   }
  }
 },
 "nbformat": 4,
 "nbformat_minor": 5
}
