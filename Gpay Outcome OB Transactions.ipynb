{
 "cells": [
  {
   "cell_type": "code",
   "execution_count": 576,
   "id": "d46f89ee",
   "metadata": {},
   "outputs": [],
   "source": [
    "import pandas as pd\n",
    "import os\n",
    "import numpy as np\n",
    "import xlsxwriter as xw\n",
    "import re\n",
    "import warnings\n",
    "warnings.filterwarnings('ignore')\n",
    "import openpyxl as op\n",
    "from openpyxl import Workbook, load_workbook\n",
    "from openpyxl.styles import PatternFill, Border, Side, Alignment, Protection, Font\n",
    "from pathlib import Path\n",
    "import glob\n",
    "from google.cloud import storage\n",
    "import requests\n",
    "import datetime\n",
    "from datetime import date"
   ]
  },
  {
   "cell_type": "code",
   "execution_count": 577,
   "id": "69864ee6",
   "metadata": {},
   "outputs": [],
   "source": [
    "Month = \"Jul\"\n",
    "Year = \"2023\"\n",
    "Date = \"16\"\n",
    "file_size = 24999\n",
    "batch_no_1 = 1"
   ]
  },
  {
   "cell_type": "code",
   "execution_count": 578,
   "id": "998c94de",
   "metadata": {},
   "outputs": [],
   "source": [
    "input_loc = \"/home/dhrubakumardolai/Desktop/Python Test/Rahul/Gpay Outcome OB Transactions/Target/\"\n",
    "output_loc = \"/home/dhrubakumardolai/Desktop/Python Test/Rahul/Gpay Outcome OB Transactions/Result/\"\n",
    "input_loc_bonus_pen = \"/home/dhrubakumardolai/Desktop/Python Test/Rahul/Gpay Outcome OB Transactions/OB Transaction/\" \n",
    "result_loc_true_false = f\"/home/dhrubakumardolai/Desktop/Python Test/Rahul/Gpay Outcome OB Transactions/OB Transaction/{Year}/{Month}/{Date}/\""
   ]
  },
  {
   "cell_type": "code",
   "execution_count": 579,
   "id": "4ba04cf7",
   "metadata": {},
   "outputs": [],
   "source": [
    "Today_date = pd.to_datetime(date.today())"
   ]
  },
  {
   "cell_type": "code",
   "execution_count": 580,
   "id": "0cb55185",
   "metadata": {},
   "outputs": [],
   "source": [
    "def Create_directory(Directory_to_Check):\n",
    "    if os.path.exists(Directory_to_Check):\n",
    "        print(\"Path is Available\")\n",
    "    else: \n",
    "        os.makedirs(Directory_to_Check)\n",
    "        print(\"Path is Created\")"
   ]
  },
  {
   "cell_type": "code",
   "execution_count": 581,
   "id": "a72df5e1",
   "metadata": {},
   "outputs": [],
   "source": [
    "def Check_if_empty(Directroy_location):\n",
    "    filelist = glob.glob(Directroy_location+\"*\", recursive=True)\n",
    "    if len(filelist) == 0:\n",
    "        print(\"File is Empty\")\n",
    "    else:\n",
    "        for file in filelist:\n",
    "            os.remove(file)"
   ]
  },
  {
   "cell_type": "code",
   "execution_count": 582,
   "id": "5d7929d4",
   "metadata": {},
   "outputs": [],
   "source": [
    "def Check_New_City(Table_to_Check, Column_to_filter, Column_to_Verify):\n",
    "    Blank_Analysis = pd.DataFrame()\n",
    "    Blank_Analysis = Table_to_Check[~Table_to_Check[Column_to_filter].isin([np.nan])]\n",
    "    len(Blank_Analysis[Blank_Analysis[Column_to_Verify].isin([np.nan])])\n",
    "    if(len(Blank_Analysis[Blank_Analysis[Column_to_Verify].isin([np.nan])]) > 0):\n",
    "        print(f\"Their is a new City in the Payout Model Update the City in the Excel & Check the file {output_loc}/Split OB/Data_For_New_City.csv\")\n",
    "        Blank_Analysis[Blank_Analysis[Column_to_Verify].isin([np.nan])].to_csv(output_loc+\"/Split OB/\"+\"Data_For_New_City.csv\", index=False)\n",
    "        return\n",
    "    else:\n",
    "        print(\"No New City is added in Payout Model\")"
   ]
  },
  {
   "cell_type": "code",
   "execution_count": 583,
   "id": "6674a162",
   "metadata": {},
   "outputs": [],
   "source": [
    "#Table_to_Update['Diff_in_day'] = Table_to_Update['Diff_in_day'].dt.days\n",
    "def substract_day(Table_to_Update, Date_column, Column_to_be_replace):\n",
    "    Table_to_Update['Diff_in_day'] = (Today_date-pd.to_datetime(Table_to_Update[Date_column])).dt.days\n",
    "    Table_to_Update['New_Time_Remaining'] = Table_to_Update[Column_to_be_replace] - Table_to_Update['Diff_in_day']\n",
    "    Table_to_Update['New_Time_Remaining_2'] = Table_to_Update['New_Time_Remaining'].apply(lambda x:0 if x<0 else x)\n",
    "    Table_to_Update.drop([Column_to_be_replace,'Diff_in_day' ,'New_Time_Remaining'], axis =1, inplace=True)\n",
    "    Table_to_Update.rename(columns={'New_Time_Remaining_2':Column_to_be_replace}, inplace=True)\n",
    "    return Table_to_Update.head(1)"
   ]
  },
  {
   "cell_type": "code",
   "execution_count": 584,
   "id": "ddeecdcd",
   "metadata": {},
   "outputs": [],
   "source": [
    "bonus_penalties = pd.read_excel(input_loc_bonus_pen+\"Transaction Bonus and Penalties - 15th July updated.xlsx\")"
   ]
  },
  {
   "cell_type": "code",
   "execution_count": 585,
   "id": "4195aba7",
   "metadata": {},
   "outputs": [],
   "source": [
    "bonus_penalties['City'] = bonus_penalties['City'].str.title()"
   ]
  },
  {
   "cell_type": "code",
   "execution_count": 586,
   "id": "54749637",
   "metadata": {},
   "outputs": [
    {
     "data": {
      "text/plain": [
       "['/home/dhrubakumardolai/Desktop/Python Test/Rahul/Gpay Outcome OB Transactions/Target/OB/18-Jul-2023 to 19-Jul-2023.csv']"
      ]
     },
     "execution_count": 586,
     "metadata": {},
     "output_type": "execute_result"
    }
   ],
   "source": [
    "filelist = glob.glob(input_loc+\"OB/**/*.csv\",recursive=True)\n",
    "filelist"
   ]
  },
  {
   "cell_type": "code",
   "execution_count": 587,
   "id": "b3b5d8a8",
   "metadata": {},
   "outputs": [],
   "source": [
    "Outcome_con = pd.DataFrame()\n",
    "\n",
    "for i in filelist:\n",
    "    df = pd.read_csv(i)\n",
    "    Outcome_con = Outcome_con.append(df)"
   ]
  },
  {
   "cell_type": "code",
   "execution_count": 588,
   "id": "394d6a39",
   "metadata": {},
   "outputs": [],
   "source": [
    "Outcome_con_f = Outcome_con[['Merchant_External_Id', 'Time_Remaining', 'Outcome_Status', 'Merchant_ID', 'CityName', 'DataDate']]"
   ]
  },
  {
   "cell_type": "code",
   "execution_count": 589,
   "id": "9c67968c",
   "metadata": {},
   "outputs": [],
   "source": [
    "Outcome_con_f['CityName'] = Outcome_con_f['CityName'].str.title()"
   ]
  },
  {
   "cell_type": "code",
   "execution_count": 590,
   "id": "1118696b",
   "metadata": {},
   "outputs": [],
   "source": [
    "Outcome_con_f.sort_values(by=['Outcome_Status' ,'DataDate','Time_Remaining'], ascending=[False,False,True ], inplace=True)"
   ]
  },
  {
   "cell_type": "code",
   "execution_count": 591,
   "id": "dfd584d5",
   "metadata": {},
   "outputs": [
    {
     "data": {
      "text/plain": [
       "array(['Jul 19, 2023', 'Jul 18, 2023'], dtype=object)"
      ]
     },
     "execution_count": 591,
     "metadata": {},
     "output_type": "execute_result"
    }
   ],
   "source": [
    "Outcome_con_f['DataDate'].unique()"
   ]
  },
  {
   "cell_type": "code",
   "execution_count": 592,
   "id": "a8121ced",
   "metadata": {},
   "outputs": [],
   "source": [
    "Outcome_con_f2 = Outcome_con_f.drop_duplicates(subset=['Merchant_External_Id'])"
   ]
  },
  {
   "cell_type": "code",
   "execution_count": 593,
   "id": "6605371b",
   "metadata": {},
   "outputs": [],
   "source": [
    "Outcome_con_f2['DataDate'] = pd.to_datetime(Outcome_con_f2['DataDate'])\n",
    "Outcome_con_f2['DataDate'] = Outcome_con_f2['DataDate'].dt.strftime(\"%d-%b-%Y\")"
   ]
  },
  {
   "cell_type": "code",
   "execution_count": 594,
   "id": "1d91ba13",
   "metadata": {},
   "outputs": [],
   "source": [
    "bonus_penalties.rename(columns={'City':'CityName'}, inplace=True)"
   ]
  },
  {
   "cell_type": "code",
   "execution_count": 595,
   "id": "1c4773fe",
   "metadata": {},
   "outputs": [],
   "source": [
    "Outcome_con_f2_merge = Outcome_con_f2.merge(bonus_penalties, on='CityName', how=\"left\")\n",
    "Outcome_con_f2_merge.drop_duplicates(subset=['Merchant_External_Id'], inplace=True)"
   ]
  },
  {
   "cell_type": "code",
   "execution_count": 596,
   "id": "1a2f7982",
   "metadata": {},
   "outputs": [
    {
     "data": {
      "text/plain": [
       "59732"
      ]
     },
     "execution_count": 596,
     "metadata": {},
     "output_type": "execute_result"
    }
   ],
   "source": [
    "len(Outcome_con_f2_merge)"
   ]
  },
  {
   "attachments": {},
   "cell_type": "markdown",
   "id": "c582f3e3",
   "metadata": {},
   "source": [
    "# Create Folder for OB"
   ]
  },
  {
   "cell_type": "code",
   "execution_count": 597,
   "id": "6bb7b36e",
   "metadata": {},
   "outputs": [
    {
     "name": "stdout",
     "output_type": "stream",
     "text": [
      "Path is Available\n"
     ]
    }
   ],
   "source": [
    "Create_directory(result_loc_true_false)"
   ]
  },
  {
   "cell_type": "code",
   "execution_count": 598,
   "id": "d64adad6",
   "metadata": {},
   "outputs": [
    {
     "name": "stdout",
     "output_type": "stream",
     "text": [
      "No New City is added in Payout Model\n"
     ]
    }
   ],
   "source": [
    "Check_New_City(Outcome_con_f2_merge, \"Merchant_ID\", \"Transaction Bonus INR\\n(Per OB)\")"
   ]
  },
  {
   "cell_type": "code",
   "execution_count": 599,
   "id": "48cc17df",
   "metadata": {},
   "outputs": [],
   "source": [
    "Outcome_con_f2_merge.to_csv(output_loc+\"/Split OB/\"+\"True_False.csv\", index=False)\n",
    "Outcome_con_f2_merge.to_csv(result_loc_true_false+\"True_False.csv\", index=False)"
   ]
  },
  {
   "cell_type": "code",
   "execution_count": 600,
   "id": "ddded3a6",
   "metadata": {},
   "outputs": [],
   "source": [
    "#Stop ="
   ]
  },
  {
   "cell_type": "code",
   "execution_count": 601,
   "id": "a034e45a",
   "metadata": {},
   "outputs": [],
   "source": [
    "input_loc_split = \"/home/dhrubakumardolai/Desktop/Python Test/Rahul/Gpay Outcome OB Transactions/Result/Split OB/\"\n",
    "result_loc_true = f\"/home/dhrubakumardolai/Desktop/Python Test/Rahul/Gpay Outcome OB Transactions/OB Transaction/{Year}/{Month}/{Date}/True/\"\n",
    "result_loc_false_0 = f\"/home/dhrubakumardolai/Desktop/Python Test/Rahul/Gpay Outcome OB Transactions/OB Transaction/{Year}/{Month}/{Date}/False/0/\"\n",
    "result_loc_false_1 = f\"/home/dhrubakumardolai/Desktop/Python Test/Rahul/Gpay Outcome OB Transactions/OB Transaction/{Year}/{Month}/{Date}/False/>0/\""
   ]
  },
  {
   "cell_type": "code",
   "execution_count": 602,
   "id": "43edf3e6",
   "metadata": {},
   "outputs": [],
   "source": [
    "outcome_true_false = pd.read_csv(input_loc_split+\"True_False.csv\")"
   ]
  },
  {
   "cell_type": "code",
   "execution_count": 603,
   "id": "397b0e0a",
   "metadata": {},
   "outputs": [
    {
     "data": {
      "text/html": [
       "<div>\n",
       "<style scoped>\n",
       "    .dataframe tbody tr th:only-of-type {\n",
       "        vertical-align: middle;\n",
       "    }\n",
       "\n",
       "    .dataframe tbody tr th {\n",
       "        vertical-align: top;\n",
       "    }\n",
       "\n",
       "    .dataframe thead th {\n",
       "        text-align: right;\n",
       "    }\n",
       "</style>\n",
       "<table border=\"1\" class=\"dataframe\">\n",
       "  <thead>\n",
       "    <tr style=\"text-align: right;\">\n",
       "      <th></th>\n",
       "      <th>Merchant_External_Id</th>\n",
       "      <th>Outcome_Status</th>\n",
       "      <th>Merchant_ID</th>\n",
       "      <th>CityName</th>\n",
       "      <th>DataDate</th>\n",
       "      <th>Type</th>\n",
       "      <th>Transaction Bonus INR\\n(Per OB)</th>\n",
       "      <th>Transaction Penalty INR\\n(Per OB)</th>\n",
       "      <th>Transaction Bonus INR\\n(Per Inactive Revisit)</th>\n",
       "      <th>Time_Remaining</th>\n",
       "    </tr>\n",
       "  </thead>\n",
       "  <tbody>\n",
       "    <tr>\n",
       "      <th>0</th>\n",
       "      <td>BCR2DN4TRKMIPDK3</td>\n",
       "      <td>True</td>\n",
       "      <td>9531728.0</td>\n",
       "      <td>Pathanamthitta</td>\n",
       "      <td>19-Jul-2023</td>\n",
       "      <td>A/Exception</td>\n",
       "      <td>15.0</td>\n",
       "      <td>-40.0</td>\n",
       "      <td>NaN</td>\n",
       "      <td>0</td>\n",
       "    </tr>\n",
       "  </tbody>\n",
       "</table>\n",
       "</div>"
      ],
      "text/plain": [
       "  Merchant_External_Id  Outcome_Status  Merchant_ID        CityName  \\\n",
       "0     BCR2DN4TRKMIPDK3            True    9531728.0  Pathanamthitta   \n",
       "\n",
       "      DataDate         Type  Transaction Bonus INR\\n(Per OB)  \\\n",
       "0  19-Jul-2023  A/Exception                             15.0   \n",
       "\n",
       "   Transaction Penalty INR\\n(Per OB)  \\\n",
       "0                              -40.0   \n",
       "\n",
       "   Transaction Bonus INR\\n(Per Inactive Revisit)  Time_Remaining  \n",
       "0                                            NaN               0  "
      ]
     },
     "execution_count": 603,
     "metadata": {},
     "output_type": "execute_result"
    }
   ],
   "source": [
    "substract_day(outcome_true_false, \"DataDate\", \"Time_Remaining\")"
   ]
  },
  {
   "cell_type": "code",
   "execution_count": 604,
   "id": "bbcb4491",
   "metadata": {},
   "outputs": [],
   "source": [
    "outcome_true_false2 = outcome_true_false[~outcome_true_false['Merchant_ID'].isin([np.nan])]"
   ]
  },
  {
   "cell_type": "code",
   "execution_count": 605,
   "id": "2750afc9",
   "metadata": {},
   "outputs": [],
   "source": [
    "outcome_true_false3 = outcome_true_false2[['Merchant_ID', 'Transaction Bonus INR\\n(Per OB)', 'Transaction Penalty INR\\n(Per OB)', 'Time_Remaining',\n",
    "'Outcome_Status']]"
   ]
  },
  {
   "cell_type": "code",
   "execution_count": 606,
   "id": "cbd14b4f",
   "metadata": {},
   "outputs": [],
   "source": [
    "outcome_true = outcome_true_false3[outcome_true_false3['Outcome_Status'].isin([True])]\n",
    "outcome_false = outcome_true_false3[outcome_true_false3['Outcome_Status'].isin([False])]\n",
    "outcome_false_0 = outcome_false[outcome_true_false3['Time_Remaining'].isin([0])]\n",
    "outcome_false_1 = outcome_false[~outcome_true_false3['Time_Remaining'].isin([0])]"
   ]
  },
  {
   "cell_type": "code",
   "execution_count": 607,
   "id": "6b321318",
   "metadata": {},
   "outputs": [],
   "source": [
    "outcome_true_f = outcome_true[['Merchant_ID','Transaction Bonus INR\\n(Per OB)', 'Time_Remaining']].rename(\n",
    "    columns={'Merchant_ID':'Merchant ID','Transaction Bonus INR\\n(Per OB)':'Comment', 'Time_Remaining':'Remaining Days'})"
   ]
  },
  {
   "cell_type": "code",
   "execution_count": 608,
   "id": "a1cfdbca",
   "metadata": {},
   "outputs": [],
   "source": [
    "outcome_true_f['Transaction Category'] = \"Transaction Complete - No Action\"\n",
    "outcome_true_f['Comment'] = outcome_true_f['Comment'].astype(int)\n",
    "outcome_true_f['Comment'] = outcome_true_f['Comment'].astype(str)\n",
    "#outcome_true_f['Comment'] = outcome_true_f['Comment'].str.replace(\".0\",\"\")\n",
    "outcome_true_f['New Comment'] = \"+\"+outcome_true_f['Comment']+\" INR\""
   ]
  },
  {
   "cell_type": "code",
   "execution_count": 609,
   "id": "0bd7100d",
   "metadata": {},
   "outputs": [],
   "source": [
    "outcome_true_f2 = outcome_true_f[['Merchant ID', 'Transaction Category', 'New Comment', 'Remaining Days']].rename(columns={'New Comment':'Comment'})\n",
    "outcome_true_f2.to_csv(input_loc_split+\"/True/True.csv\", index=False)"
   ]
  },
  {
   "cell_type": "code",
   "execution_count": 610,
   "id": "9d78dda1",
   "metadata": {},
   "outputs": [],
   "source": [
    "outcome_false_0_f = outcome_false_0[['Merchant_ID','Transaction Penalty INR\\n(Per OB)', 'Time_Remaining']].rename(\n",
    "    columns={'Merchant_ID':'Merchant ID','Transaction Penalty INR\\n(Per OB)':'Comment', 'Time_Remaining':'Remaining Days'})"
   ]
  },
  {
   "cell_type": "code",
   "execution_count": 611,
   "id": "235e15cc",
   "metadata": {},
   "outputs": [],
   "source": [
    "outcome_false_0_f['Transaction Category'] = \"Transaction Missed (14 day cycle missed)\"\n",
    "outcome_false_0_f['Comment'] = outcome_false_0_f['Comment'].astype(int)\n",
    "outcome_false_0_f['Comment'] = outcome_false_0_f['Comment'].astype(str)\n",
    "#outcome_false_0_f['Comment'] = outcome_false_0_f['Comment'].str.replace(\".0\",\"\")\n",
    "outcome_false_0_f['New Comment'] = outcome_false_0_f['Comment']+\" INR\""
   ]
  },
  {
   "cell_type": "code",
   "execution_count": 612,
   "id": "66b06ff1",
   "metadata": {},
   "outputs": [],
   "source": [
    "outcome_false_0_f2 = outcome_false_0_f[['Merchant ID', 'Transaction Category', 'New Comment', 'Remaining Days']].rename(columns={'New Comment':'Comment'})\n",
    "outcome_false_0_f2.to_csv(input_loc_split+\"False/0/False_0.csv\", index=False)"
   ]
  },
  {
   "cell_type": "code",
   "execution_count": 613,
   "id": "62697313",
   "metadata": {},
   "outputs": [],
   "source": [
    "outcome_false_1_f = outcome_false_1[['Merchant_ID','Transaction Penalty INR\\n(Per OB)', 'Time_Remaining']].rename(\n",
    "    columns={'Merchant_ID':'Merchant ID','Transaction Penalty INR\\n(Per OB)':'Comment', 'Time_Remaining':'Remaining Days'})"
   ]
  },
  {
   "cell_type": "code",
   "execution_count": 614,
   "id": "06c3c808",
   "metadata": {},
   "outputs": [],
   "source": [
    "outcome_false_1_f['Transaction Category'] = \"Transaction Incomplete (14 days) - Action Needed\"\n",
    "outcome_false_1_f['Comment'] = outcome_false_1_f['Comment'].astype(int)\n",
    "outcome_false_1_f['Comment'] = outcome_false_1_f['Comment'].astype(str)\n",
    "#outcome_false_1_f['Comment'] = outcome_false_1_f['Comment'].str.replace(\".0\",\"\")\n",
    "outcome_false_1_f['New Comment'] = outcome_false_1_f['Comment']+\" INR\""
   ]
  },
  {
   "cell_type": "code",
   "execution_count": 615,
   "id": "bfab213b",
   "metadata": {},
   "outputs": [],
   "source": [
    "outcome_false_1_f2 = outcome_false_1_f[['Merchant ID', 'Transaction Category', 'New Comment', 'Remaining Days']].rename(columns={'New Comment':'Comment'})\n",
    "outcome_false_1_f2.to_csv(input_loc_split+\"/False/>0/False>0.csv\", index=False)"
   ]
  },
  {
   "cell_type": "code",
   "execution_count": 616,
   "id": "3ba32992",
   "metadata": {},
   "outputs": [
    {
     "name": "stdout",
     "output_type": "stream",
     "text": [
      "Path is Available\n"
     ]
    }
   ],
   "source": [
    "Create_directory(result_loc_true)"
   ]
  },
  {
   "cell_type": "code",
   "execution_count": 617,
   "id": "eb3cd91a",
   "metadata": {},
   "outputs": [],
   "source": [
    "Check_if_empty(result_loc_true)"
   ]
  },
  {
   "cell_type": "code",
   "execution_count": 618,
   "id": "d4124732",
   "metadata": {},
   "outputs": [],
   "source": [
    "ob_final = pd.DataFrame()\n",
    "for j in pd.read_csv(input_loc_split+\"/True/True.csv\", chunksize=file_size):\n",
    "    j['Remaining Days'] = j['Remaining Days'].apply(lambda x: x if x < 0 else 0)\n",
    "    j.to_excel(result_loc_true+'OB_MerchantTransactionData_Format'+str(batch_no_1)+'.xlsx', index=False)\n",
    "    ob_final = ob_final.append(j)\n",
    "    batch_no_1 += 1"
   ]
  },
  {
   "cell_type": "code",
   "execution_count": 619,
   "id": "da1256ec",
   "metadata": {},
   "outputs": [
    {
     "name": "stdout",
     "output_type": "stream",
     "text": [
      "Path is Available\n"
     ]
    }
   ],
   "source": [
    "Create_directory(result_loc_false_0)"
   ]
  },
  {
   "cell_type": "code",
   "execution_count": 620,
   "id": "7060b0ec",
   "metadata": {},
   "outputs": [],
   "source": [
    "Check_if_empty(result_loc_false_0)"
   ]
  },
  {
   "cell_type": "code",
   "execution_count": 621,
   "id": "f0111f9e",
   "metadata": {},
   "outputs": [],
   "source": [
    "for i in pd.read_csv(input_loc_split+\"/False/0/False_0.csv\", chunksize=file_size):\n",
    "    i.to_excel(result_loc_false_0+'OB_MerchantTransactionData_Format'+str(batch_no_1)+'.xlsx', index=False)\n",
    "    ob_final = ob_final.append(i)\n",
    "    batch_no_1 += 1"
   ]
  },
  {
   "cell_type": "code",
   "execution_count": 622,
   "id": "f9718c90",
   "metadata": {},
   "outputs": [
    {
     "name": "stdout",
     "output_type": "stream",
     "text": [
      "Path is Available\n"
     ]
    }
   ],
   "source": [
    "Create_directory(result_loc_false_1)"
   ]
  },
  {
   "cell_type": "code",
   "execution_count": 623,
   "id": "8b9cf378",
   "metadata": {},
   "outputs": [],
   "source": [
    "Check_if_empty(result_loc_false_1)"
   ]
  },
  {
   "cell_type": "code",
   "execution_count": 624,
   "id": "5621a5b5",
   "metadata": {},
   "outputs": [],
   "source": [
    "for k in pd.read_csv(input_loc_split+\"/False/>0/False>0.csv\", chunksize=file_size):\n",
    "    k.to_excel(result_loc_false_1+'OB_MerchantTransactionData_Format'+str(batch_no_1)+'.xlsx', index=False)\n",
    "    ob_final = ob_final.append(k)\n",
    "    batch_no_1 += 1"
   ]
  },
  {
   "cell_type": "code",
   "execution_count": 625,
   "id": "1812a966",
   "metadata": {},
   "outputs": [],
   "source": [
    "ob_final.to_csv(result_loc_true_false + \"Final_OB_File.csv\", index=False)"
   ]
  },
  {
   "cell_type": "code",
   "execution_count": 626,
   "id": "7abc8321",
   "metadata": {},
   "outputs": [],
   "source": [
    "#Stop ="
   ]
  },
  {
   "attachments": {},
   "cell_type": "markdown",
   "id": "4457e5c1",
   "metadata": {},
   "source": [
    "# Revisit Consolidate"
   ]
  },
  {
   "cell_type": "code",
   "execution_count": 627,
   "id": "f1b8b5e8",
   "metadata": {},
   "outputs": [],
   "source": [
    "input_loc = \"/home/dhrubakumardolai/Desktop/Python Test/Rahul/Gpay Outcome OB Transactions/Target/Revisit/\"\n",
    "output_loc_split_revisit = \"/home/dhrubakumardolai/Desktop/Python Test/Rahul/Gpay Outcome OB Transactions/Result/Split Revisit/\"\n",
    "output_loc_final_revisit = \"/home/dhrubakumardolai/Desktop/Python Test/Rahul/Gpay Outcome OB Transactions/OB Transaction/Sample/Revisit/\"\n",
    "result_loc_true_false = f\"/home/dhrubakumardolai/Desktop/Python Test/Rahul/Gpay Outcome OB Transactions/Revisit Transaction/{Year}/{Month}/{Date}/\""
   ]
  },
  {
   "cell_type": "code",
   "execution_count": 628,
   "id": "8519e2bf",
   "metadata": {},
   "outputs": [
    {
     "name": "stdout",
     "output_type": "stream",
     "text": [
      "Path is Available\n"
     ]
    }
   ],
   "source": [
    "Create_directory(result_loc_true_false)"
   ]
  },
  {
   "cell_type": "code",
   "execution_count": 629,
   "id": "eb2846fa",
   "metadata": {},
   "outputs": [],
   "source": [
    "filelist = glob.glob(input_loc+\"*/**/*.csv\", recursive=True)"
   ]
  },
  {
   "cell_type": "code",
   "execution_count": 630,
   "id": "6791821b",
   "metadata": {},
   "outputs": [],
   "source": [
    "revisit_outcome = pd.DataFrame()\n",
    "for i in filelist:\n",
    "    df = pd.read_csv(i)\n",
    "    revisit_outcome = revisit_outcome.append(df)"
   ]
  },
  {
   "cell_type": "code",
   "execution_count": 631,
   "id": "efbcf4c9",
   "metadata": {},
   "outputs": [
    {
     "data": {
      "text/html": [
       "<div>\n",
       "<style scoped>\n",
       "    .dataframe tbody tr th:only-of-type {\n",
       "        vertical-align: middle;\n",
       "    }\n",
       "\n",
       "    .dataframe tbody tr th {\n",
       "        vertical-align: top;\n",
       "    }\n",
       "\n",
       "    .dataframe thead th {\n",
       "        text-align: right;\n",
       "    }\n",
       "</style>\n",
       "<table border=\"1\" class=\"dataframe\">\n",
       "  <thead>\n",
       "    <tr style=\"text-align: right;\">\n",
       "      <th></th>\n",
       "      <th>merchant_external_id</th>\n",
       "      <th>region</th>\n",
       "      <th>state</th>\n",
       "      <th>district</th>\n",
       "      <th>postal_code</th>\n",
       "      <th>revisit_timestamp</th>\n",
       "      <th>time_remaining</th>\n",
       "      <th>Outcome_Status</th>\n",
       "      <th>City Name</th>\n",
       "      <th>Merchant ID</th>\n",
       "      <th>...</th>\n",
       "      <th>POD Name</th>\n",
       "      <th>POD ID</th>\n",
       "      <th>Revisit Date</th>\n",
       "      <th>Remarks</th>\n",
       "      <th>Team Lead Name</th>\n",
       "      <th>CM</th>\n",
       "      <th>Cluster</th>\n",
       "      <th>Report_Date</th>\n",
       "      <th>outcome_status</th>\n",
       "      <th>Role Name\\n</th>\n",
       "    </tr>\n",
       "  </thead>\n",
       "  <tbody>\n",
       "    <tr>\n",
       "      <th>0</th>\n",
       "      <td>BCR2DN6T46GKHWKK</td>\n",
       "      <td>West</td>\n",
       "      <td>MAHARASHTRA</td>\n",
       "      <td>Yavatmal</td>\n",
       "      <td>445105</td>\n",
       "      <td>2023-06-28</td>\n",
       "      <td>0</td>\n",
       "      <td>True</td>\n",
       "      <td>Yavatmal</td>\n",
       "      <td>6536119.0</td>\n",
       "      <td>...</td>\n",
       "      <td>Mahesh Rajusing Rathod</td>\n",
       "      <td>33291.0</td>\n",
       "      <td>28/06/2023</td>\n",
       "      <td>Revisit Done</td>\n",
       "      <td>Vishal.Dabhade</td>\n",
       "      <td>Sudeep</td>\n",
       "      <td>Pune</td>\n",
       "      <td>2023-07-16</td>\n",
       "      <td>NaN</td>\n",
       "      <td>NaN</td>\n",
       "    </tr>\n",
       "  </tbody>\n",
       "</table>\n",
       "<p>1 rows × 25 columns</p>\n",
       "</div>"
      ],
      "text/plain": [
       "  merchant_external_id region        state  district postal_code  \\\n",
       "0     BCR2DN6T46GKHWKK   West  MAHARASHTRA  Yavatmal      445105   \n",
       "\n",
       "  revisit_timestamp  time_remaining Outcome_Status City Name  Merchant ID  \\\n",
       "0        2023-06-28               0           True  Yavatmal    6536119.0   \n",
       "\n",
       "   ...                POD Name   POD ID  Revisit Date       Remarks  \\\n",
       "0  ...  Mahesh Rajusing Rathod  33291.0    28/06/2023  Revisit Done   \n",
       "\n",
       "   Team Lead Name      CM  Cluster Report_Date outcome_status Role Name\\n  \n",
       "0  Vishal.Dabhade  Sudeep     Pune  2023-07-16            NaN         NaN  \n",
       "\n",
       "[1 rows x 25 columns]"
      ]
     },
     "execution_count": 631,
     "metadata": {},
     "output_type": "execute_result"
    }
   ],
   "source": [
    "revisit_outcome.head(1)"
   ]
  },
  {
   "cell_type": "code",
   "execution_count": 632,
   "id": "2e9534c3",
   "metadata": {},
   "outputs": [],
   "source": [
    "revisit_outcome.rename(columns={'Merchant_ID':'Merchant ID', 'Region':'region', 'MerchantExternalId':'merchant_external_id', 'State':'state', 'District':'district',\n",
    "                                'Pincode':'postal_code', 'Revisit_Date':'revisit_timestamp', 'Time_Remaining':'time_remaining', 'Datadate':'Report_Date'}, inplace=True)"
   ]
  },
  {
   "cell_type": "code",
   "execution_count": 633,
   "id": "4a7e7e81",
   "metadata": {},
   "outputs": [
    {
     "data": {
      "text/plain": [
       "Index(['merchant_external_id', 'region', 'state', 'district', 'postal_code',\n",
       "       'revisit_timestamp', 'time_remaining', 'Outcome_Status', 'City Name',\n",
       "       'Merchant ID', 'Merchant Name', 'On Boarding Date',\n",
       "       'On-Boarded Employee Code', 'Employee Code', 'Role Name', 'POD Name',\n",
       "       'POD ID', 'Revisit Date', 'Remarks', 'Team Lead Name', 'CM', 'Cluster',\n",
       "       'Report_Date', 'outcome_status', 'Role Name\\n'],\n",
       "      dtype='object')"
      ]
     },
     "execution_count": 633,
     "metadata": {},
     "output_type": "execute_result"
    }
   ],
   "source": [
    "revisit_outcome.columns"
   ]
  },
  {
   "cell_type": "code",
   "execution_count": 634,
   "id": "a83568be",
   "metadata": {},
   "outputs": [],
   "source": [
    "revisit_outcome['Outcome_Status'].fillna(revisit_outcome['outcome_status'], inplace=True)"
   ]
  },
  {
   "cell_type": "code",
   "execution_count": 635,
   "id": "4b067e60",
   "metadata": {},
   "outputs": [],
   "source": [
    "revisit_outcome_f = revisit_outcome[['merchant_external_id', 'region', 'state', 'district', 'postal_code', 'revisit_timestamp', 'time_remaining', \n",
    "'Outcome_Status', 'Report_Date', 'Merchant ID']]"
   ]
  },
  {
   "cell_type": "code",
   "execution_count": null,
   "id": "b3524f52",
   "metadata": {},
   "outputs": [],
   "source": []
  },
  {
   "cell_type": "code",
   "execution_count": 636,
   "id": "73a8dcca",
   "metadata": {},
   "outputs": [],
   "source": [
    "revisit_outcome_f2 = revisit_outcome_f[~revisit_outcome_f['Merchant ID'].isin([np.nan])]"
   ]
  },
  {
   "cell_type": "code",
   "execution_count": 637,
   "id": "4d8e74e0",
   "metadata": {},
   "outputs": [],
   "source": [
    "revisit_outcome_f2.to_csv(output_loc_split_revisit+\"Revisit_True_False.csv\", index=False)\n",
    "revisit_outcome_f2.to_csv(result_loc_true_false+\"Revisit_True_False.csv\", index=False)"
   ]
  },
  {
   "cell_type": "code",
   "execution_count": null,
   "id": "a6282c97",
   "metadata": {},
   "outputs": [],
   "source": []
  },
  {
   "cell_type": "code",
   "execution_count": 638,
   "id": "a3a2cea9",
   "metadata": {},
   "outputs": [],
   "source": [
    "#Revisit_stop = "
   ]
  },
  {
   "cell_type": "code",
   "execution_count": 639,
   "id": "21718c35",
   "metadata": {},
   "outputs": [],
   "source": [
    "update_revisit_outcome = pd.read_csv(output_loc_split_revisit+\"Revisit_True_False.csv\")"
   ]
  },
  {
   "cell_type": "code",
   "execution_count": 640,
   "id": "976747e4",
   "metadata": {},
   "outputs": [],
   "source": [
    "result_loc_true = f\"/home/dhrubakumardolai/Desktop/Python Test/Rahul/Gpay Outcome OB Transactions/Revisit Transaction/{Year}/{Month}/{Date}/True/\"\n",
    "result_loc_false_0 = f\"/home/dhrubakumardolai/Desktop/Python Test/Rahul/Gpay Outcome OB Transactions/Revisit Transaction/{Year}/{Month}/{Date}/False/0/\"\n",
    "result_loc_false_1 = f\"/home/dhrubakumardolai/Desktop/Python Test/Rahul/Gpay Outcome OB Transactions/Revisit Transaction/{Year}/{Month}/{Date}/False/>0/\""
   ]
  },
  {
   "cell_type": "code",
   "execution_count": 641,
   "id": "eef71fab",
   "metadata": {},
   "outputs": [
    {
     "name": "stdout",
     "output_type": "stream",
     "text": [
      "Path is Available\n",
      "Path is Available\n",
      "Path is Available\n"
     ]
    }
   ],
   "source": [
    "Create_directory(result_loc_true)\n",
    "Create_directory(result_loc_false_0)\n",
    "Create_directory(result_loc_false_1)\n",
    "Create_directory(result_loc_true+\"Invalid/\")\n",
    "Create_directory(result_loc_false_0+\"Invalid/\")\n",
    "Create_directory(result_loc_false_1+\"Invalid/\")"
   ]
  },
  {
   "cell_type": "code",
   "execution_count": 642,
   "id": "52efad97",
   "metadata": {},
   "outputs": [],
   "source": [
    "Check_if_empty(result_loc_true)\n",
    "Check_if_empty(result_loc_false_0)\n",
    "Check_if_empty(result_loc_false_1)"
   ]
  },
  {
   "cell_type": "code",
   "execution_count": 643,
   "id": "fc29b102",
   "metadata": {},
   "outputs": [],
   "source": [
    "outcome_true_false = update_revisit_outcome"
   ]
  },
  {
   "cell_type": "code",
   "execution_count": 644,
   "id": "2ef9ad9c",
   "metadata": {},
   "outputs": [
    {
     "data": {
      "text/html": [
       "<div>\n",
       "<style scoped>\n",
       "    .dataframe tbody tr th:only-of-type {\n",
       "        vertical-align: middle;\n",
       "    }\n",
       "\n",
       "    .dataframe tbody tr th {\n",
       "        vertical-align: top;\n",
       "    }\n",
       "\n",
       "    .dataframe thead th {\n",
       "        text-align: right;\n",
       "    }\n",
       "</style>\n",
       "<table border=\"1\" class=\"dataframe\">\n",
       "  <thead>\n",
       "    <tr style=\"text-align: right;\">\n",
       "      <th></th>\n",
       "      <th>merchant_external_id</th>\n",
       "      <th>region</th>\n",
       "      <th>state</th>\n",
       "      <th>district</th>\n",
       "      <th>postal_code</th>\n",
       "      <th>revisit_timestamp</th>\n",
       "      <th>Outcome_Status</th>\n",
       "      <th>Report_Date</th>\n",
       "      <th>Merchant ID</th>\n",
       "      <th>time_remaining</th>\n",
       "    </tr>\n",
       "  </thead>\n",
       "  <tbody>\n",
       "    <tr>\n",
       "      <th>0</th>\n",
       "      <td>BCR2DN6T46GKHWKK</td>\n",
       "      <td>West</td>\n",
       "      <td>MAHARASHTRA</td>\n",
       "      <td>Yavatmal</td>\n",
       "      <td>445105</td>\n",
       "      <td>2023-06-28</td>\n",
       "      <td>True</td>\n",
       "      <td>2023-07-16</td>\n",
       "      <td>6536119.0</td>\n",
       "      <td>0</td>\n",
       "    </tr>\n",
       "  </tbody>\n",
       "</table>\n",
       "</div>"
      ],
      "text/plain": [
       "  merchant_external_id region        state  district postal_code  \\\n",
       "0     BCR2DN6T46GKHWKK   West  MAHARASHTRA  Yavatmal      445105   \n",
       "\n",
       "  revisit_timestamp  Outcome_Status Report_Date  Merchant ID  time_remaining  \n",
       "0        2023-06-28            True  2023-07-16    6536119.0               0  "
      ]
     },
     "execution_count": 644,
     "metadata": {},
     "output_type": "execute_result"
    }
   ],
   "source": [
    "substract_day(outcome_true_false, \"Report_Date\", 'time_remaining')"
   ]
  },
  {
   "cell_type": "code",
   "execution_count": 645,
   "id": "632668a3",
   "metadata": {},
   "outputs": [],
   "source": [
    "outcome_true_false.rename(columns={'merchant_external_id':'Merchant_External_Id', 'time_remaining':'Time_Remaining', 'Outcome_Status':'Outcome_Status',\n",
    "'Report_Date':'DataDate', 'Merchant ID':'Merchant_ID', 'district':'CityName', 'Merchant ID':'Merchant_ID'}, inplace=True)\n",
    "outcome_true_false['Transaction Bonus INR\\n(Per OB)'] = np.nan\n",
    "outcome_true_false['Transaction Bonus INR\\n(Per OB)'].replace(np.nan, 'NA', inplace=True)\n",
    "outcome_true_false['Transaction Penalty INR\\n(Per OB)'] = np.nan\n",
    "outcome_true_false['Transaction Penalty INR\\n(Per OB)'].replace(np.nan, 'NA', inplace=True)"
   ]
  },
  {
   "cell_type": "code",
   "execution_count": 646,
   "id": "999cd669",
   "metadata": {},
   "outputs": [],
   "source": [
    "outcome_true_false.sort_values(by=['Outcome_Status','DataDate','Time_Remaining'], ascending=[False, False, True], inplace=True)\n",
    "outcome_true_false.drop_duplicates(subset=['Merchant_ID'], inplace=True)"
   ]
  },
  {
   "cell_type": "code",
   "execution_count": 647,
   "id": "f76dc63c",
   "metadata": {},
   "outputs": [
    {
     "data": {
      "text/plain": [
       "92792"
      ]
     },
     "execution_count": 647,
     "metadata": {},
     "output_type": "execute_result"
    }
   ],
   "source": [
    "len(outcome_true_false)"
   ]
  },
  {
   "cell_type": "code",
   "execution_count": 648,
   "id": "9217f3ea",
   "metadata": {},
   "outputs": [],
   "source": [
    "outcome_true_false2 = outcome_true_false[~outcome_true_false['Merchant_ID'].isin([np.nan])]"
   ]
  },
  {
   "cell_type": "code",
   "execution_count": 649,
   "id": "2750afc9",
   "metadata": {},
   "outputs": [],
   "source": [
    "outcome_true_false3 = outcome_true_false2[['Merchant_ID', 'Transaction Bonus INR\\n(Per OB)', 'Transaction Penalty INR\\n(Per OB)', 'Time_Remaining',\n",
    "'Outcome_Status']]"
   ]
  },
  {
   "cell_type": "code",
   "execution_count": 650,
   "id": "cbd14b4f",
   "metadata": {},
   "outputs": [],
   "source": [
    "outcome_true = outcome_true_false3[outcome_true_false3['Outcome_Status'].isin([True])]\n",
    "outcome_false = outcome_true_false3[outcome_true_false3['Outcome_Status'].isin([False])]\n",
    "outcome_false_0 = outcome_false[outcome_true_false3['Time_Remaining'].isin([0])]\n",
    "outcome_false_1 = outcome_false[~outcome_true_false3['Time_Remaining'].isin([0])]"
   ]
  },
  {
   "cell_type": "code",
   "execution_count": 651,
   "id": "6b321318",
   "metadata": {},
   "outputs": [],
   "source": [
    "outcome_true_f = outcome_true[['Merchant_ID','Transaction Bonus INR\\n(Per OB)', 'Time_Remaining']].rename(\n",
    "    columns={'Merchant_ID':'Merchant ID','Transaction Bonus INR\\n(Per OB)':'Comment', 'Time_Remaining':'Remaining Days'})"
   ]
  },
  {
   "cell_type": "code",
   "execution_count": 652,
   "id": "a1cfdbca",
   "metadata": {},
   "outputs": [],
   "source": [
    "outcome_true_f['Transaction Category'] = \"Transaction Complete - No Action\"\n",
    "outcome_true_f['Comment'] = outcome_true_f['Comment'].astype(str)\n",
    "outcome_true_f['Comment'] = outcome_true_f['Comment'].str.replace(\".0\",\"\")\n",
    "outcome_true_f['New Comment'] = \"\"+outcome_true_f['Comment']+\"\""
   ]
  },
  {
   "cell_type": "code",
   "execution_count": 653,
   "id": "0bd7100d",
   "metadata": {},
   "outputs": [],
   "source": [
    "outcome_true_f2 = outcome_true_f[['Merchant ID', 'Transaction Category', 'New Comment', 'Remaining Days']].rename(columns={'New Comment':'Comment'})\n",
    "outcome_true_f2.to_csv(output_loc+\"/Split Revisit/True/True.csv\", index=False)"
   ]
  },
  {
   "cell_type": "code",
   "execution_count": 654,
   "id": "9d78dda1",
   "metadata": {},
   "outputs": [],
   "source": [
    "outcome_false_0_f = outcome_false_0[['Merchant_ID','Transaction Penalty INR\\n(Per OB)', 'Time_Remaining']].rename(\n",
    "    columns={'Merchant_ID':'Merchant ID','Transaction Penalty INR\\n(Per OB)':'Comment', 'Time_Remaining':'Remaining Days'})"
   ]
  },
  {
   "cell_type": "code",
   "execution_count": 655,
   "id": "235e15cc",
   "metadata": {},
   "outputs": [],
   "source": [
    "outcome_false_0_f['Transaction Category'] = \"Transaction Missed (14 day cycle missed)\"\n",
    "outcome_false_0_f['Comment'] = outcome_false_0_f['Comment'].astype(str)\n",
    "outcome_false_0_f['Comment'] = outcome_false_0_f['Comment'].str.replace(\".0\",\"\")\n",
    "outcome_false_0_f['New Comment'] = outcome_false_0_f['Comment']+\"\""
   ]
  },
  {
   "cell_type": "code",
   "execution_count": 656,
   "id": "66b06ff1",
   "metadata": {},
   "outputs": [],
   "source": [
    "outcome_false_0_f2 = outcome_false_0_f[['Merchant ID', 'Transaction Category', 'New Comment', 'Remaining Days']].rename(columns={'New Comment':'Comment'})\n",
    "outcome_false_0_f2.to_csv(output_loc+\"/Split Revisit/False/0/False_0.csv\", index=False)\n"
   ]
  },
  {
   "cell_type": "code",
   "execution_count": 657,
   "id": "62697313",
   "metadata": {},
   "outputs": [],
   "source": [
    "outcome_false_1_f = outcome_false_1[['Merchant_ID','Transaction Penalty INR\\n(Per OB)', 'Time_Remaining']].rename(\n",
    "    columns={'Merchant_ID':'Merchant ID','Transaction Penalty INR\\n(Per OB)':'Comment', 'Time_Remaining':'Remaining Days'})"
   ]
  },
  {
   "cell_type": "code",
   "execution_count": 658,
   "id": "06c3c808",
   "metadata": {},
   "outputs": [],
   "source": [
    "outcome_false_1_f['Transaction Category'] = \"Transaction Incomplete (14 days) - Action Needed\"\n",
    "outcome_false_1_f['Comment'] = outcome_false_1_f['Comment'].astype(str)\n",
    "outcome_false_1_f['Comment'] = outcome_false_1_f['Comment'].str.replace(\".0\",\"\")\n",
    "outcome_false_1_f['New Comment'] = outcome_false_1_f['Comment']+\"\""
   ]
  },
  {
   "cell_type": "code",
   "execution_count": 659,
   "id": "bfab213b",
   "metadata": {},
   "outputs": [],
   "source": [
    "outcome_false_1_f2 = outcome_false_1_f[['Merchant ID', 'Transaction Category', 'New Comment', 'Remaining Days']].rename(columns={'New Comment':'Comment'})\n",
    "outcome_false_1_f2.to_csv(output_loc+\"/Split Revisit/False/>0/False>0.csv\", index=False)"
   ]
  },
  {
   "cell_type": "code",
   "execution_count": 660,
   "id": "751b9f78",
   "metadata": {},
   "outputs": [
    {
     "name": "stdout",
     "output_type": "stream",
     "text": [
      "Path is Available\n"
     ]
    }
   ],
   "source": [
    "Create_directory(result_loc_true_false+\"/Revisit Target/\")"
   ]
  },
  {
   "cell_type": "code",
   "execution_count": 661,
   "id": "d4124732",
   "metadata": {},
   "outputs": [],
   "source": [
    "Revisit_final = pd.DataFrame()\n",
    "for j in pd.read_csv(output_loc+\"/Split Revisit/True/True.csv\", chunksize=file_size):\n",
    "    j['Comment'].replace(np.nan,\"NA\", inplace=True) \n",
    "    j['Remaining Days'] = j['Remaining Days'].apply(lambda x: x if x < 0 else 0)\n",
    "    j.to_excel(result_loc_true+'RV_MerchantTransactionData_Format'+str(batch_no_1)+'.xlsx', index=False)\n",
    "    Revisit_final = Revisit_final.append(j)\n",
    "    batch_no_1 += 1"
   ]
  },
  {
   "cell_type": "code",
   "execution_count": 662,
   "id": "f0111f9e",
   "metadata": {},
   "outputs": [],
   "source": [
    "for i in pd.read_csv(output_loc+\"/Split Revisit/False/0/False_0.csv\", chunksize=file_size):\n",
    "    i['Comment'].replace(np.nan,\"NA\", inplace=True)\n",
    "    i.to_excel(result_loc_false_0+'RV_MerchantTransactionData_Format'+str(batch_no_1)+'.xlsx', index=False)\n",
    "    Revisit_final = Revisit_final.append(i)\n",
    "    batch_no_1 += 1"
   ]
  },
  {
   "cell_type": "code",
   "execution_count": 663,
   "id": "5621a5b5",
   "metadata": {},
   "outputs": [],
   "source": [
    "for k in pd.read_csv(output_loc+\"/Split Revisit/False/>0/False>0.csv\", chunksize=file_size):\n",
    "    k['Comment'].replace(np.nan,\"NA\", inplace=True)\n",
    "    k.to_excel(result_loc_false_1+'RV_MerchantTransactionData_Format'+str(batch_no_1)+'.xlsx', index=False)\n",
    "    Revisit_final = Revisit_final.append(k)\n",
    "    batch_no_1 += 1"
   ]
  },
  {
   "cell_type": "code",
   "execution_count": 664,
   "id": "a957062e",
   "metadata": {},
   "outputs": [],
   "source": [
    "Revisit_final.to_csv(result_loc_true_false+'Revisit_final_file.csv', index=False)"
   ]
  }
 ],
 "metadata": {
  "kernelspec": {
   "display_name": "Python 3 (ipykernel)",
   "language": "python",
   "name": "python3"
  },
  "language_info": {
   "codemirror_mode": {
    "name": "ipython",
    "version": 3
   },
   "file_extension": ".py",
   "mimetype": "text/x-python",
   "name": "python",
   "nbconvert_exporter": "python",
   "pygments_lexer": "ipython3",
   "version": "3.10.6"
  },
  "vscode": {
   "interpreter": {
    "hash": "916dbcbb3f70747c44a77c7bcd40155683ae19c65e1c03b4aa3499c5328201f1"
   }
  }
 },
 "nbformat": 4,
 "nbformat_minor": 5
}
