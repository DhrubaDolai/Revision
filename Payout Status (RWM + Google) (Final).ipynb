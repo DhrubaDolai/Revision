{
 "cells": [
  {
   "cell_type": "code",
   "execution_count": 1,
   "id": "529316bd",
   "metadata": {},
   "outputs": [],
   "source": [
    "import pandas as pd\n",
    "import os\n",
    "import numpy as np\n",
    "import xlsxwriter as xw\n",
    "import re\n",
    "import warnings\n",
    "warnings.filterwarnings('ignore')\n",
    "import openpyxl as op\n",
    "from openpyxl import Workbook, load_workbook\n",
    "from openpyxl.styles import PatternFill, Border, Side, Alignment, Protection, Font\n",
    "from pathlib import Path\n",
    "import glob"
   ]
  },
  {
   "cell_type": "code",
   "execution_count": 2,
   "id": "760b1c60",
   "metadata": {},
   "outputs": [],
   "source": [
    "input_loc = \"/home/dhrubakumardolai/Desktop/Python Test/Rahul/Payout/Target/Raw/Nov/\"\n",
    "output_loc = \"/home/dhrubakumardolai/Desktop/Python Test/Rahul/Payout/Result/Payout Status/\"\n",
    "output_loc_invalid = \"/home/dhrubakumardolai/Desktop/Python Test/Rahul/Payout/Result/Payout Status/Invalid/\"\n",
    "output_loc_final = \"/home/dhrubakumardolai/Desktop/Python Test/Rahul/Payout/Result/Payout Status/Final/\""
   ]
  },
  {
   "cell_type": "code",
   "execution_count": 3,
   "id": "07b7f483",
   "metadata": {},
   "outputs": [],
   "source": [
    "First_ingestion_of_month = \"2022/11/04\""
   ]
  },
  {
   "cell_type": "code",
   "execution_count": 4,
   "id": "3958dc26",
   "metadata": {},
   "outputs": [],
   "source": [
    "current_date = [\"Nov-28-2022\"]"
   ]
  },
  {
   "cell_type": "code",
   "execution_count": 5,
   "id": "521bf79f",
   "metadata": {},
   "outputs": [],
   "source": [
    "default_ingestion_date = \"2022/06/08\""
   ]
  },
  {
   "cell_type": "code",
   "execution_count": 6,
   "id": "dc29d030",
   "metadata": {},
   "outputs": [],
   "source": [
    "current_month = \"Nov\"\n",
    "current_year = 2022"
   ]
  },
  {
   "cell_type": "code",
   "execution_count": 7,
   "id": "a23b9da1",
   "metadata": {},
   "outputs": [],
   "source": [
    "date_1 = range(1,10)\n",
    "date_2 = range(1,17)"
   ]
  },
  {
   "cell_type": "code",
   "execution_count": 8,
   "id": "d975974e",
   "metadata": {},
   "outputs": [],
   "source": [
    "Date = []\n",
    "for i in date_1:\n",
    "    i = str(current_month)+\"-\"+str(0)+str(i)+\"-\"+str(current_year)\n",
    "    Date.append(i)\n",
    "\n",
    "for i in date_2:\n",
    "    i = str(current_month)+\"-\"+str(i)+\"-\"+str(current_year)\n",
    "    Date.append(i)"
   ]
  },
  {
   "cell_type": "markdown",
   "id": "cf1e023d",
   "metadata": {},
   "source": [
    "# Google File"
   ]
  },
  {
   "cell_type": "code",
   "execution_count": 9,
   "id": "30a904da",
   "metadata": {},
   "outputs": [],
   "source": [
    "input_loc_g = input_loc+\"Google/Reconsilation Final/\""
   ]
  },
  {
   "cell_type": "code",
   "execution_count": 10,
   "id": "fb927d56",
   "metadata": {
    "scrolled": true
   },
   "outputs": [],
   "source": [
    "filelist = glob.glob(input_loc_g+\"**/*.csv\", recursive = True)"
   ]
  },
  {
   "cell_type": "code",
   "execution_count": 11,
   "id": "d9735937",
   "metadata": {},
   "outputs": [
    {
     "data": {
      "text/plain": [
       "['/home/dhrubakumardolai/Desktop/Python Test/Rahul/Payout/Target/Raw/Nov/Google/Reconsilation Final/Google_Reconsilation_status_17_to_Remaining.csv',\n",
       " '/home/dhrubakumardolai/Desktop/Python Test/Rahul/Payout/Target/Raw/Nov/Google/Reconsilation Final/Google_Reconsilation_status_01_to_16.csv']"
      ]
     },
     "execution_count": 11,
     "metadata": {},
     "output_type": "execute_result"
    }
   ],
   "source": [
    "filelist"
   ]
  },
  {
   "cell_type": "code",
   "execution_count": 12,
   "id": "d807a375",
   "metadata": {},
   "outputs": [],
   "source": [
    "Google_re = pd.DataFrame()\n",
    "\n",
    "for file in filelist:\n",
    "    if file.endswith(\".csv\"):\n",
    "        df = pd.read_csv(file)\n",
    "        Google_re = Google_re.append(df)"
   ]
  },
  {
   "cell_type": "code",
   "execution_count": 13,
   "id": "02e773a9",
   "metadata": {},
   "outputs": [],
   "source": [
    "Google_re.sort_values(by=['sno'], inplace=True)"
   ]
  },
  {
   "cell_type": "code",
   "execution_count": 14,
   "id": "de005252",
   "metadata": {},
   "outputs": [],
   "source": [
    "Google_re['sno'] = Google_re['sno'].astype(str)"
   ]
  },
  {
   "cell_type": "code",
   "execution_count": 15,
   "id": "277a546d",
   "metadata": {},
   "outputs": [
    {
     "data": {
      "text/plain": [
       "(174874, 34)"
      ]
     },
     "execution_count": 15,
     "metadata": {},
     "output_type": "execute_result"
    }
   ],
   "source": [
    "Google_re.shape"
   ]
  },
  {
   "cell_type": "code",
   "execution_count": 16,
   "id": "3131981d",
   "metadata": {},
   "outputs": [
    {
     "data": {
      "text/html": [
       "<div>\n",
       "<style scoped>\n",
       "    .dataframe tbody tr th:only-of-type {\n",
       "        vertical-align: middle;\n",
       "    }\n",
       "\n",
       "    .dataframe tbody tr th {\n",
       "        vertical-align: top;\n",
       "    }\n",
       "\n",
       "    .dataframe thead th {\n",
       "        text-align: right;\n",
       "    }\n",
       "</style>\n",
       "<table border=\"1\" class=\"dataframe\">\n",
       "  <thead>\n",
       "    <tr style=\"text-align: right;\">\n",
       "      <th></th>\n",
       "      <th>sno</th>\n",
       "      <th>City</th>\n",
       "      <th>TV City</th>\n",
       "      <th>Merchant ID</th>\n",
       "      <th>StorePhoneNumber</th>\n",
       "      <th>Employee Code</th>\n",
       "      <th>POD ID</th>\n",
       "      <th>MerchantExternalId</th>\n",
       "      <th>Validity</th>\n",
       "      <th>InvalidReasons</th>\n",
       "      <th>...</th>\n",
       "      <th>Is in Previous Month Payout</th>\n",
       "      <th>Is in Previous Month Payout Date</th>\n",
       "      <th>Source MID</th>\n",
       "      <th>Source MID Match Check</th>\n",
       "      <th>Ext_ID Dup?</th>\n",
       "      <th>Phone_Dup?</th>\n",
       "      <th>Is in OB CSV file? MID</th>\n",
       "      <th>Is in OB CSV file? MN</th>\n",
       "      <th>OB Date</th>\n",
       "      <th>Data Tag</th>\n",
       "    </tr>\n",
       "  </thead>\n",
       "  <tbody>\n",
       "    <tr>\n",
       "      <th>0</th>\n",
       "      <td>1</td>\n",
       "      <td>Akola</td>\n",
       "      <td>Akola</td>\n",
       "      <td>7196591.0</td>\n",
       "      <td>8381097116</td>\n",
       "      <td>43260</td>\n",
       "      <td>14549.0</td>\n",
       "      <td>BCR2DN4T2C2KVQ2C</td>\n",
       "      <td>VALID</td>\n",
       "      <td>NaN</td>\n",
       "      <td>...</td>\n",
       "      <td>No Match</td>\n",
       "      <td>NaN</td>\n",
       "      <td>NaN</td>\n",
       "      <td>NaN</td>\n",
       "      <td>1</td>\n",
       "      <td>1</td>\n",
       "      <td>No</td>\n",
       "      <td>No</td>\n",
       "      <td>NaN</td>\n",
       "      <td>Google</td>\n",
       "    </tr>\n",
       "  </tbody>\n",
       "</table>\n",
       "<p>1 rows × 34 columns</p>\n",
       "</div>"
      ],
      "text/plain": [
       "  sno   City TV City  Merchant ID  StorePhoneNumber  Employee Code   POD ID  \\\n",
       "0   1  Akola   Akola    7196591.0        8381097116          43260  14549.0   \n",
       "\n",
       "  MerchantExternalId Validity InvalidReasons  ... Is in Previous Month Payout  \\\n",
       "0   BCR2DN4T2C2KVQ2C    VALID            NaN  ...                    No Match   \n",
       "\n",
       "  Is in Previous Month Payout Date Source MID Source MID Match Check  \\\n",
       "0                              NaN        NaN                    NaN   \n",
       "\n",
       "  Ext_ID Dup? Phone_Dup?  Is in OB CSV file? MID Is in OB CSV file? MN  \\\n",
       "0           1          1                      No                    No   \n",
       "\n",
       "  OB Date Data Tag  \n",
       "0     NaN   Google  \n",
       "\n",
       "[1 rows x 34 columns]"
      ]
     },
     "execution_count": 16,
     "metadata": {},
     "output_type": "execute_result"
    }
   ],
   "source": [
    "Google_re.head(1)"
   ]
  },
  {
   "cell_type": "code",
   "execution_count": 17,
   "id": "53a77a3c",
   "metadata": {},
   "outputs": [
    {
     "data": {
      "text/plain": [
       "174874"
      ]
     },
     "execution_count": 17,
     "metadata": {},
     "output_type": "execute_result"
    }
   ],
   "source": [
    "Google_re.sort_values(by=['Validity', 'Date'], ascending = [False, True], inplace=True)\n",
    "len(Google_re)"
   ]
  },
  {
   "cell_type": "code",
   "execution_count": null,
   "id": "b0800636",
   "metadata": {},
   "outputs": [],
   "source": []
  },
  {
   "cell_type": "code",
   "execution_count": null,
   "id": "9fe49779",
   "metadata": {},
   "outputs": [],
   "source": []
  },
  {
   "cell_type": "code",
   "execution_count": null,
   "id": "5b3567df",
   "metadata": {},
   "outputs": [],
   "source": []
  },
  {
   "cell_type": "code",
   "execution_count": null,
   "id": "d6be2dfc",
   "metadata": {},
   "outputs": [],
   "source": []
  },
  {
   "cell_type": "markdown",
   "id": "f2263277",
   "metadata": {},
   "source": [
    "# Invalid_IncompleteSubTasks"
   ]
  },
  {
   "cell_type": "code",
   "execution_count": 18,
   "id": "1d04cdaa",
   "metadata": {},
   "outputs": [],
   "source": [
    "Google_re_f = Google_re[['sno', 'MerchantExternalId', 'StorePhoneNumber', 'Task Count', 'Validity', 'InvalidReasons']]"
   ]
  },
  {
   "cell_type": "code",
   "execution_count": 19,
   "id": "beca073d",
   "metadata": {},
   "outputs": [],
   "source": [
    "Google_re_f2 = Google_re_f[['sno','Validity', 'InvalidReasons' , 'Task Count']]"
   ]
  },
  {
   "cell_type": "code",
   "execution_count": 20,
   "id": "dc95afbb",
   "metadata": {},
   "outputs": [],
   "source": [
    "Google_re_f3 = Google_re_f2.loc[(Google_re_f2['Task Count']<3)]"
   ]
  },
  {
   "cell_type": "code",
   "execution_count": 21,
   "id": "a4406d70",
   "metadata": {},
   "outputs": [],
   "source": [
    "Google_re_f3['Payout_Status_1'] = 'Invalid_IncompleteSubTasks'"
   ]
  },
  {
   "cell_type": "code",
   "execution_count": 22,
   "id": "0d13ce60",
   "metadata": {},
   "outputs": [],
   "source": [
    "Google_re_f4 = Google_re_f3[Google_re_f3['InvalidReasons'].str.contains('Invalid_PhonenumberLookup', na=False)]"
   ]
  },
  {
   "cell_type": "code",
   "execution_count": 23,
   "id": "e342c2b1",
   "metadata": {},
   "outputs": [],
   "source": [
    "Google_re_f4['Payout_Status_2'] = 'Invalid_PhonenumberLookup'"
   ]
  },
  {
   "cell_type": "code",
   "execution_count": 24,
   "id": "b838271a",
   "metadata": {},
   "outputs": [],
   "source": [
    "Google_re_f4_f = Google_re_f4[['sno', 'Payout_Status_2']]"
   ]
  },
  {
   "cell_type": "code",
   "execution_count": 25,
   "id": "86c78209",
   "metadata": {},
   "outputs": [],
   "source": [
    "Google_re_f3_merge = Google_re_f3.merge(Google_re_f4_f, on='sno', how='left')"
   ]
  },
  {
   "cell_type": "code",
   "execution_count": 26,
   "id": "b13255df",
   "metadata": {},
   "outputs": [],
   "source": [
    "Google_re_f3_merge.drop_duplicates(subset=['sno'], inplace=True)"
   ]
  },
  {
   "cell_type": "code",
   "execution_count": 27,
   "id": "d0f5b32c",
   "metadata": {},
   "outputs": [],
   "source": [
    "Google_re_f3_merge['New_Payout_Status_1'] = np.nan\n",
    "Google_re_f3_merge['New_Payout_Status_1'].fillna(Google_re_f3_merge['Payout_Status_2'], inplace=True)\n",
    "Google_re_f3_merge['New_Payout_Status_1'].fillna(Google_re_f3_merge['Payout_Status_1'], inplace=True)"
   ]
  },
  {
   "cell_type": "code",
   "execution_count": 28,
   "id": "f9135b8e",
   "metadata": {},
   "outputs": [],
   "source": [
    "Google_re_f3_merge_f = Google_re_f3_merge[['sno', 'New_Payout_Status_1']]"
   ]
  },
  {
   "cell_type": "code",
   "execution_count": 29,
   "id": "0c6e5aed",
   "metadata": {},
   "outputs": [
    {
     "data": {
      "text/html": [
       "<div>\n",
       "<style scoped>\n",
       "    .dataframe tbody tr th:only-of-type {\n",
       "        vertical-align: middle;\n",
       "    }\n",
       "\n",
       "    .dataframe tbody tr th {\n",
       "        vertical-align: top;\n",
       "    }\n",
       "\n",
       "    .dataframe thead th {\n",
       "        text-align: right;\n",
       "    }\n",
       "</style>\n",
       "<table border=\"1\" class=\"dataframe\">\n",
       "  <thead>\n",
       "    <tr style=\"text-align: right;\">\n",
       "      <th></th>\n",
       "      <th>sno</th>\n",
       "      <th>New_Payout_Status_1</th>\n",
       "    </tr>\n",
       "  </thead>\n",
       "  <tbody>\n",
       "    <tr>\n",
       "      <th>0</th>\n",
       "      <td>45</td>\n",
       "      <td>Invalid_IncompleteSubTasks</td>\n",
       "    </tr>\n",
       "  </tbody>\n",
       "</table>\n",
       "</div>"
      ],
      "text/plain": [
       "  sno         New_Payout_Status_1\n",
       "0  45  Invalid_IncompleteSubTasks"
      ]
     },
     "execution_count": 29,
     "metadata": {},
     "output_type": "execute_result"
    }
   ],
   "source": [
    "Google_re_f3_merge_f.head(1)"
   ]
  },
  {
   "cell_type": "code",
   "execution_count": 30,
   "id": "2751e2e3",
   "metadata": {},
   "outputs": [],
   "source": [
    "Google_re_1 = Google_re.merge(Google_re_f3_merge_f, how='left', on='sno')\n",
    "Google_re_1.drop_duplicates(subset=['sno'], inplace=True)"
   ]
  },
  {
   "cell_type": "code",
   "execution_count": null,
   "id": "5ae21ed8",
   "metadata": {},
   "outputs": [],
   "source": []
  },
  {
   "cell_type": "markdown",
   "id": "fc930126",
   "metadata": {},
   "source": [
    "# Duplicate Merchant External ID"
   ]
  },
  {
   "cell_type": "code",
   "execution_count": 31,
   "id": "047d3316",
   "metadata": {},
   "outputs": [],
   "source": [
    "Google_re_1_mid = Google_re_1[['sno', 'Ext_ID Dup?']]\n",
    "Google_re_1_mn = Google_re_1[['sno', 'Phone_Dup?']]"
   ]
  },
  {
   "cell_type": "code",
   "execution_count": 32,
   "id": "840f0b3d",
   "metadata": {},
   "outputs": [],
   "source": [
    "Google_re_1_mid_f = Google_re_1_mid.loc[(Google_re_1_mid['Ext_ID Dup?']>1)]"
   ]
  },
  {
   "cell_type": "code",
   "execution_count": 33,
   "id": "7f479339",
   "metadata": {},
   "outputs": [],
   "source": [
    "Google_re_1_mid_f['Payout_Status_1'] = \"Duplicate Ext_ID\""
   ]
  },
  {
   "cell_type": "code",
   "execution_count": 34,
   "id": "653912f5",
   "metadata": {},
   "outputs": [],
   "source": [
    "Google_re_1_mid_f2 = Google_re_1_mid_f[['sno', 'Payout_Status_1']]"
   ]
  },
  {
   "cell_type": "code",
   "execution_count": 35,
   "id": "04462064",
   "metadata": {},
   "outputs": [],
   "source": [
    "Google_re_1_mn_f = Google_re_1_mn.loc[(Google_re_1_mn['Phone_Dup?']>1)]"
   ]
  },
  {
   "cell_type": "code",
   "execution_count": 36,
   "id": "17afdd7d",
   "metadata": {},
   "outputs": [],
   "source": [
    "Google_re_1_mn_f['Payout_Status_2'] = \"Duplicate Phone_No\""
   ]
  },
  {
   "cell_type": "code",
   "execution_count": 37,
   "id": "c7c19185",
   "metadata": {},
   "outputs": [],
   "source": [
    "Google_re_1_mn_f2 = Google_re_1_mn_f[['sno', 'Payout_Status_2']]"
   ]
  },
  {
   "cell_type": "code",
   "execution_count": 38,
   "id": "e9dceb64",
   "metadata": {},
   "outputs": [],
   "source": [
    "Google_re_1_merge = Google_re_1.merge(Google_re_1_mid_f2, on='sno', how='left')\n",
    "Google_re_1_merge.drop_duplicates(subset=['sno'], inplace=True)"
   ]
  },
  {
   "cell_type": "code",
   "execution_count": 39,
   "id": "a4f8c2d1",
   "metadata": {},
   "outputs": [],
   "source": [
    "Google_re_1_merge2 = Google_re_1_merge.merge(Google_re_1_mn_f2, on='sno', how='left')\n",
    "Google_re_1_merge2.drop_duplicates(subset=['sno'], inplace=True)"
   ]
  },
  {
   "cell_type": "code",
   "execution_count": 40,
   "id": "6a2c9667",
   "metadata": {},
   "outputs": [],
   "source": [
    "Google_re_2 = Google_re_1_merge2"
   ]
  },
  {
   "cell_type": "code",
   "execution_count": 41,
   "id": "92b1c2e7",
   "metadata": {},
   "outputs": [],
   "source": [
    "Google_re_2['New_Payout_Status_2'] = np.nan\n",
    "Google_re_2['New_Payout_Status_2'].fillna(Google_re_2['Payout_Status_1'], inplace=True)\n",
    "Google_re_2['New_Payout_Status_2'].fillna(Google_re_2['Payout_Status_2'], inplace=True)\n",
    "Google_re_2['New_Payout_Status_2'].fillna(Google_re_2['New_Payout_Status_1'], inplace=True)\n",
    "Google_re_2.drop(['Payout_Status_1', 'Payout_Status_2', 'New_Payout_Status_1'], axis=1, inplace=True)"
   ]
  },
  {
   "cell_type": "code",
   "execution_count": 42,
   "id": "bf95cad4",
   "metadata": {},
   "outputs": [
    {
     "data": {
      "text/html": [
       "<div>\n",
       "<style scoped>\n",
       "    .dataframe tbody tr th:only-of-type {\n",
       "        vertical-align: middle;\n",
       "    }\n",
       "\n",
       "    .dataframe tbody tr th {\n",
       "        vertical-align: top;\n",
       "    }\n",
       "\n",
       "    .dataframe thead th {\n",
       "        text-align: right;\n",
       "    }\n",
       "</style>\n",
       "<table border=\"1\" class=\"dataframe\">\n",
       "  <thead>\n",
       "    <tr style=\"text-align: right;\">\n",
       "      <th></th>\n",
       "      <th>sno</th>\n",
       "      <th>City</th>\n",
       "      <th>TV City</th>\n",
       "      <th>Merchant ID</th>\n",
       "      <th>StorePhoneNumber</th>\n",
       "      <th>Employee Code</th>\n",
       "      <th>POD ID</th>\n",
       "      <th>MerchantExternalId</th>\n",
       "      <th>Validity</th>\n",
       "      <th>InvalidReasons</th>\n",
       "      <th>...</th>\n",
       "      <th>Is in Previous Month Payout Date</th>\n",
       "      <th>Source MID</th>\n",
       "      <th>Source MID Match Check</th>\n",
       "      <th>Ext_ID Dup?</th>\n",
       "      <th>Phone_Dup?</th>\n",
       "      <th>Is in OB CSV file? MID</th>\n",
       "      <th>Is in OB CSV file? MN</th>\n",
       "      <th>OB Date</th>\n",
       "      <th>Data Tag</th>\n",
       "      <th>New_Payout_Status_2</th>\n",
       "    </tr>\n",
       "  </thead>\n",
       "  <tbody>\n",
       "    <tr>\n",
       "      <th>0</th>\n",
       "      <td>1</td>\n",
       "      <td>Akola</td>\n",
       "      <td>Akola</td>\n",
       "      <td>7196591.0</td>\n",
       "      <td>8381097116</td>\n",
       "      <td>43260</td>\n",
       "      <td>14549.0</td>\n",
       "      <td>BCR2DN4T2C2KVQ2C</td>\n",
       "      <td>VALID</td>\n",
       "      <td>NaN</td>\n",
       "      <td>...</td>\n",
       "      <td>NaN</td>\n",
       "      <td>NaN</td>\n",
       "      <td>NaN</td>\n",
       "      <td>1</td>\n",
       "      <td>1</td>\n",
       "      <td>No</td>\n",
       "      <td>No</td>\n",
       "      <td>NaN</td>\n",
       "      <td>Google</td>\n",
       "      <td>NaN</td>\n",
       "    </tr>\n",
       "  </tbody>\n",
       "</table>\n",
       "<p>1 rows × 35 columns</p>\n",
       "</div>"
      ],
      "text/plain": [
       "  sno   City TV City  Merchant ID  StorePhoneNumber  Employee Code   POD ID  \\\n",
       "0   1  Akola   Akola    7196591.0        8381097116          43260  14549.0   \n",
       "\n",
       "  MerchantExternalId Validity InvalidReasons  ...  \\\n",
       "0   BCR2DN4T2C2KVQ2C    VALID            NaN  ...   \n",
       "\n",
       "  Is in Previous Month Payout Date Source MID Source MID Match Check  \\\n",
       "0                              NaN        NaN                    NaN   \n",
       "\n",
       "  Ext_ID Dup? Phone_Dup? Is in OB CSV file? MID  Is in OB CSV file? MN  \\\n",
       "0           1          1                     No                     No   \n",
       "\n",
       "  OB Date Data Tag New_Payout_Status_2  \n",
       "0     NaN   Google                 NaN  \n",
       "\n",
       "[1 rows x 35 columns]"
      ]
     },
     "execution_count": 42,
     "metadata": {},
     "output_type": "execute_result"
    }
   ],
   "source": [
    "Google_re_2.head(1)"
   ]
  },
  {
   "cell_type": "markdown",
   "id": "54176e02",
   "metadata": {},
   "source": [
    "# Valid"
   ]
  },
  {
   "cell_type": "code",
   "execution_count": 43,
   "id": "a86923ef",
   "metadata": {},
   "outputs": [],
   "source": [
    "Google_re_2_f = Google_re_2[['sno', 'Validity']]"
   ]
  },
  {
   "cell_type": "code",
   "execution_count": 44,
   "id": "5944b135",
   "metadata": {},
   "outputs": [
    {
     "data": {
      "text/plain": [
       "VALID      157524\n",
       "INVALID     17350\n",
       "Name: Validity, dtype: int64"
      ]
     },
     "execution_count": 44,
     "metadata": {},
     "output_type": "execute_result"
    }
   ],
   "source": [
    "Google_re_2_f['Validity'].value_counts()"
   ]
  },
  {
   "cell_type": "code",
   "execution_count": 45,
   "id": "7d942c73",
   "metadata": {},
   "outputs": [],
   "source": [
    "Google_re_2_f2 = Google_re_2_f[Google_re_2_f['Validity'].isin(['VALID'])]"
   ]
  },
  {
   "cell_type": "code",
   "execution_count": 46,
   "id": "38a17be3",
   "metadata": {},
   "outputs": [],
   "source": [
    "Google_re_2_f2['Payout_Status_2'] = \"Valid\""
   ]
  },
  {
   "cell_type": "code",
   "execution_count": 47,
   "id": "4b4c37a5",
   "metadata": {},
   "outputs": [],
   "source": [
    "Google_re_2_f3 = Google_re_2_f2[['sno', 'Payout_Status_2']]"
   ]
  },
  {
   "cell_type": "code",
   "execution_count": 48,
   "id": "e972e1c0",
   "metadata": {},
   "outputs": [],
   "source": [
    "Google_re_2_merge = Google_re_2.merge(Google_re_2_f3, on='sno', how='left')\n",
    "Google_re_2_merge.drop_duplicates(subset=['sno'], inplace=True)\n",
    "Google_re_2_merge['New_Payout_Status_2'].fillna(Google_re_2_merge['Payout_Status_2'], inplace=True)\n",
    "Google_re_2_merge.drop('Payout_Status_2', axis=1, inplace=True)"
   ]
  },
  {
   "cell_type": "code",
   "execution_count": 49,
   "id": "5cbbbd53",
   "metadata": {},
   "outputs": [],
   "source": [
    "Google_re_3 = Google_re_2_merge"
   ]
  },
  {
   "cell_type": "code",
   "execution_count": 50,
   "id": "a32e8239",
   "metadata": {},
   "outputs": [
    {
     "data": {
      "text/html": [
       "<div>\n",
       "<style scoped>\n",
       "    .dataframe tbody tr th:only-of-type {\n",
       "        vertical-align: middle;\n",
       "    }\n",
       "\n",
       "    .dataframe tbody tr th {\n",
       "        vertical-align: top;\n",
       "    }\n",
       "\n",
       "    .dataframe thead th {\n",
       "        text-align: right;\n",
       "    }\n",
       "</style>\n",
       "<table border=\"1\" class=\"dataframe\">\n",
       "  <thead>\n",
       "    <tr style=\"text-align: right;\">\n",
       "      <th></th>\n",
       "      <th>sno</th>\n",
       "      <th>City</th>\n",
       "      <th>TV City</th>\n",
       "      <th>Merchant ID</th>\n",
       "      <th>StorePhoneNumber</th>\n",
       "      <th>Employee Code</th>\n",
       "      <th>POD ID</th>\n",
       "      <th>MerchantExternalId</th>\n",
       "      <th>Validity</th>\n",
       "      <th>InvalidReasons</th>\n",
       "      <th>...</th>\n",
       "      <th>Is in Previous Month Payout Date</th>\n",
       "      <th>Source MID</th>\n",
       "      <th>Source MID Match Check</th>\n",
       "      <th>Ext_ID Dup?</th>\n",
       "      <th>Phone_Dup?</th>\n",
       "      <th>Is in OB CSV file? MID</th>\n",
       "      <th>Is in OB CSV file? MN</th>\n",
       "      <th>OB Date</th>\n",
       "      <th>Data Tag</th>\n",
       "      <th>New_Payout_Status_2</th>\n",
       "    </tr>\n",
       "  </thead>\n",
       "  <tbody>\n",
       "    <tr>\n",
       "      <th>0</th>\n",
       "      <td>1</td>\n",
       "      <td>Akola</td>\n",
       "      <td>Akola</td>\n",
       "      <td>7196591.0</td>\n",
       "      <td>8381097116</td>\n",
       "      <td>43260</td>\n",
       "      <td>14549.0</td>\n",
       "      <td>BCR2DN4T2C2KVQ2C</td>\n",
       "      <td>VALID</td>\n",
       "      <td>NaN</td>\n",
       "      <td>...</td>\n",
       "      <td>NaN</td>\n",
       "      <td>NaN</td>\n",
       "      <td>NaN</td>\n",
       "      <td>1</td>\n",
       "      <td>1</td>\n",
       "      <td>No</td>\n",
       "      <td>No</td>\n",
       "      <td>NaN</td>\n",
       "      <td>Google</td>\n",
       "      <td>Valid</td>\n",
       "    </tr>\n",
       "  </tbody>\n",
       "</table>\n",
       "<p>1 rows × 35 columns</p>\n",
       "</div>"
      ],
      "text/plain": [
       "  sno   City TV City  Merchant ID  StorePhoneNumber  Employee Code   POD ID  \\\n",
       "0   1  Akola   Akola    7196591.0        8381097116          43260  14549.0   \n",
       "\n",
       "  MerchantExternalId Validity InvalidReasons  ...  \\\n",
       "0   BCR2DN4T2C2KVQ2C    VALID            NaN  ...   \n",
       "\n",
       "  Is in Previous Month Payout Date Source MID Source MID Match Check  \\\n",
       "0                              NaN        NaN                    NaN   \n",
       "\n",
       "  Ext_ID Dup? Phone_Dup? Is in OB CSV file? MID  Is in OB CSV file? MN  \\\n",
       "0           1          1                     No                     No   \n",
       "\n",
       "  OB Date Data Tag New_Payout_Status_2  \n",
       "0     NaN   Google               Valid  \n",
       "\n",
       "[1 rows x 35 columns]"
      ]
     },
     "execution_count": 50,
     "metadata": {},
     "output_type": "execute_result"
    }
   ],
   "source": [
    "Google_re_3.head(1)"
   ]
  },
  {
   "cell_type": "markdown",
   "id": "8153a6b2",
   "metadata": {},
   "source": [
    "# Invalid Analysis and Finding Valid"
   ]
  },
  {
   "cell_type": "markdown",
   "id": "13b03b1d",
   "metadata": {},
   "source": [
    "### Already paid in Match, MN Match"
   ]
  },
  {
   "cell_type": "code",
   "execution_count": 51,
   "id": "a17f3500",
   "metadata": {},
   "outputs": [],
   "source": [
    "Google_re_3_f = Google_re_3[['sno','Validity', 'Date', 'Is In Source?', 'IngestionStatus', 'Ingestion Date', 'Is in Previous Month Payout', \n",
    "'Is in Previous Month Payout Date']]"
   ]
  },
  {
   "cell_type": "code",
   "execution_count": 52,
   "id": "f94d1909",
   "metadata": {},
   "outputs": [],
   "source": [
    "Google_re_3_f2 = Google_re_3_f[Google_re_3_f['Validity'].isin(['INVALID'])]"
   ]
  },
  {
   "cell_type": "code",
   "execution_count": 53,
   "id": "2cef6453",
   "metadata": {},
   "outputs": [],
   "source": [
    "Google_re_3_f3 = Google_re_3_f2[Google_re_3_f2['IngestionStatus'].isna()]"
   ]
  },
  {
   "cell_type": "code",
   "execution_count": 54,
   "id": "0ddb0bdf",
   "metadata": {},
   "outputs": [],
   "source": [
    "Google_re_3_f4 = Google_re_3_f3[Google_re_3_f3['Is In Source?'].isin(['MN Match', \"Match\"])]"
   ]
  },
  {
   "cell_type": "code",
   "execution_count": 55,
   "id": "af825f2c",
   "metadata": {},
   "outputs": [],
   "source": [
    "Google_re_3_f4['Payout_Status_1'] = Google_re_3_f4['Is in Previous Month Payout']\n",
    "Google_re_3_f4['Payout_Status_1'] = Google_re_3_f4['Payout_Status_1'].map({\"No Match\": np.nan, \"Match\":\"Already Paid\"})\n",
    "Google_re_3_f4['Payout_Status_1'].fillna(Google_re_3_f4['Is In Source?'], inplace=True)\n",
    "Google_re_3_f4['Payout_Status_1'].replace('MN Match', 'Self OB w/Same Ph.', inplace=True)\n",
    "Google_re_3_f4['Payout_Status_1'].replace('Match', 'Valid', inplace=True)"
   ]
  },
  {
   "cell_type": "code",
   "execution_count": 56,
   "id": "d875284b",
   "metadata": {},
   "outputs": [],
   "source": [
    "Google_re_3_f4_f = Google_re_3_f4[['sno', 'Payout_Status_1']]"
   ]
  },
  {
   "cell_type": "code",
   "execution_count": 57,
   "id": "1f73b541",
   "metadata": {},
   "outputs": [],
   "source": [
    "Google_re_3_f5 = Google_re_3_f2[~Google_re_3_f2['IngestionStatus'].isna()]"
   ]
  },
  {
   "cell_type": "code",
   "execution_count": 58,
   "id": "3946368d",
   "metadata": {},
   "outputs": [],
   "source": [
    "Google_re_3_f5_f = Google_re_3_f5[Google_re_3_f5['Is in Previous Month Payout'].isin(['Match'])]\n",
    "Google_re_3_f5_f = Google_re_3_f5_f[Google_re_3_f5_f['Is In Source?'].isin(['Match'])]"
   ]
  },
  {
   "cell_type": "code",
   "execution_count": 59,
   "id": "e828bd84",
   "metadata": {},
   "outputs": [],
   "source": [
    "Google_re_3_f5_f['Is in Previous Month Payout Date'] = pd.to_datetime(Google_re_3_f5_f['Is in Previous Month Payout Date'])\n",
    "Google_re_3_f5_f['Is in Previous Month Payout Date'] = Google_re_3_f5_f['Is in Previous Month Payout Date'].dt.strftime('%Y/%m/%d')"
   ]
  },
  {
   "cell_type": "code",
   "execution_count": 60,
   "id": "bfecf93f",
   "metadata": {},
   "outputs": [],
   "source": [
    "Google_re_3_f5_f['Ingestion Date'] = pd.to_datetime(Google_re_3_f5_f['Ingestion Date'])\n",
    "Google_re_3_f5_f['Ingestion Date'] = Google_re_3_f5_f['Ingestion Date'].dt.strftime('%Y/%m/%d')"
   ]
  },
  {
   "cell_type": "code",
   "execution_count": 61,
   "id": "3c337722",
   "metadata": {},
   "outputs": [],
   "source": [
    "Google_re_3_f5_f['Payout_Status_2'] = Google_re_3_f5_f['Ingestion Date']>=Google_re_3_f5_f['Is in Previous Month Payout Date']"
   ]
  },
  {
   "cell_type": "code",
   "execution_count": 62,
   "id": "25741ece",
   "metadata": {},
   "outputs": [],
   "source": [
    "Google_re_3_f5_f['Payout_Status_2'] = Google_re_3_f5_f['Payout_Status_2'].map({False:'Already Paid', True:'Dynamic_Valid'})"
   ]
  },
  {
   "cell_type": "code",
   "execution_count": 63,
   "id": "c9c5a192",
   "metadata": {},
   "outputs": [],
   "source": [
    "Google_re_3_f5_f2 = Google_re_3_f5_f[['sno', 'Payout_Status_2']]"
   ]
  },
  {
   "cell_type": "code",
   "execution_count": 64,
   "id": "0a7276ff",
   "metadata": {},
   "outputs": [],
   "source": [
    "Google_re_3_f5_f3 = Google_re_3_f5[Google_re_3_f5['Is in Previous Month Payout'].isin(['No Match'])]\n",
    "Google_re_3_f5_f3 = Google_re_3_f5_f3[Google_re_3_f5_f3['Is In Source?'].isin(['Match'])]"
   ]
  },
  {
   "cell_type": "code",
   "execution_count": 65,
   "id": "bf6ededb",
   "metadata": {},
   "outputs": [],
   "source": [
    "Google_re_3_f5_f3['Payout_Status_3'] = 'Valid'"
   ]
  },
  {
   "cell_type": "code",
   "execution_count": 66,
   "id": "d570dc99",
   "metadata": {},
   "outputs": [],
   "source": [
    "Google_re_3_f5_f3_f = Google_re_3_f5_f3[['sno', 'Payout_Status_3']]"
   ]
  },
  {
   "cell_type": "code",
   "execution_count": 67,
   "id": "d4598e9c",
   "metadata": {},
   "outputs": [],
   "source": [
    "Google_re_3_f_merge = Google_re_3_f2.merge(Google_re_3_f4_f, on='sno', how='left')\n",
    "Google_re_3_f_merge.drop_duplicates(subset=['sno'], inplace=True)\n",
    "Google_re_3_f_merge2 = Google_re_3_f_merge.merge(Google_re_3_f5_f2, on='sno', how='left')\n",
    "Google_re_3_f_merge2.drop_duplicates(subset=['sno'], inplace=True)\n",
    "Google_re_3_f_merge3 = Google_re_3_f_merge2.merge(Google_re_3_f5_f3_f, on='sno', how='left')\n",
    "Google_re_3_f_merge3.drop_duplicates(subset=['sno'], inplace=True)\n",
    "Google_re_3_f_merge3['Temp_Payout_status'] = np.nan\n",
    "Google_re_3_f_merge3['Temp_Payout_status'].fillna(Google_re_3_f_merge3['Payout_Status_1'], inplace=True)\n",
    "Google_re_3_f_merge3['Temp_Payout_status'].fillna(Google_re_3_f_merge3['Payout_Status_2'], inplace=True)\n",
    "Google_re_3_f_merge3['Temp_Payout_status'].fillna(Google_re_3_f_merge3['Payout_Status_3'], inplace=True)"
   ]
  },
  {
   "cell_type": "code",
   "execution_count": 68,
   "id": "bcd07c3a",
   "metadata": {},
   "outputs": [],
   "source": [
    "Google_re_3_f_merge3_f = Google_re_3_f_merge3[['sno', 'Is In Source?', 'Temp_Payout_status']]"
   ]
  },
  {
   "cell_type": "code",
   "execution_count": 69,
   "id": "b6664c2b",
   "metadata": {},
   "outputs": [],
   "source": [
    "Google_re_3_f_merge3_f2 = Google_re_3_f_merge3_f[Google_re_3_f_merge3_f['Temp_Payout_status'].isna()]"
   ]
  },
  {
   "cell_type": "code",
   "execution_count": 70,
   "id": "d9be985f",
   "metadata": {},
   "outputs": [],
   "source": [
    "Google_re_3_f_merge3_f2['Payout_Status_4'] = Google_re_3_f_merge3_f2['Is In Source?']"
   ]
  },
  {
   "cell_type": "code",
   "execution_count": 71,
   "id": "fdf57c47",
   "metadata": {},
   "outputs": [
    {
     "data": {
      "text/plain": [
       "array(['No Match', 'No Match Dynamic'], dtype=object)"
      ]
     },
     "execution_count": 71,
     "metadata": {},
     "output_type": "execute_result"
    }
   ],
   "source": [
    "Google_re_3_f_merge3_f2['Payout_Status_4'].unique()"
   ]
  },
  {
   "cell_type": "code",
   "execution_count": 72,
   "id": "7d37f02d",
   "metadata": {},
   "outputs": [],
   "source": [
    "Google_re_3_f_merge3_f2['Payout_Status_4'] = Google_re_3_f_merge3_f2[\n",
    "    'Payout_Status_4'].map({'No Match':'Invalid_NotOnTargetlist', 'No Match Dynamic':'Dynamic_Expiry'})"
   ]
  },
  {
   "cell_type": "code",
   "execution_count": 73,
   "id": "3fb9179d",
   "metadata": {},
   "outputs": [],
   "source": [
    "Google_re_3_f_merge3_f2_f = Google_re_3_f_merge3_f2[['sno', 'Payout_Status_4']]"
   ]
  },
  {
   "cell_type": "code",
   "execution_count": 74,
   "id": "66ad82e1",
   "metadata": {},
   "outputs": [],
   "source": [
    "Google_re_3_f_merge4 = Google_re_3_f_merge3.merge(Google_re_3_f_merge3_f2_f, on='sno', how='left')\n",
    "Google_re_3_f_merge4.drop_duplicates(subset=['sno'], inplace=True)\n",
    "Google_re_3_f_merge4['Temp_Payout_status'].fillna(Google_re_3_f_merge4['Payout_Status_4'], inplace=True)"
   ]
  },
  {
   "cell_type": "code",
   "execution_count": 75,
   "id": "37a591f8",
   "metadata": {},
   "outputs": [],
   "source": [
    "Google_re_3_f_merge4_f = Google_re_3_f_merge4[['sno', 'Temp_Payout_status']]"
   ]
  },
  {
   "cell_type": "code",
   "execution_count": 76,
   "id": "ec9632b9",
   "metadata": {},
   "outputs": [],
   "source": [
    "Google_re_3_merge = Google_re_3.merge(Google_re_3_f_merge4_f, on='sno', how='left')\n",
    "Google_re_3_merge['New_Payout_Status_2'].fillna(Google_re_3_merge['Temp_Payout_status'], inplace=True)\n",
    "Google_re_3_merge.drop('Temp_Payout_status', axis=1, inplace=True)"
   ]
  },
  {
   "cell_type": "code",
   "execution_count": 77,
   "id": "15feb03e",
   "metadata": {},
   "outputs": [],
   "source": [
    "Google_re_4 = Google_re_3_merge[['sno','City','TV City',\t'Merchant ID',\t'StorePhoneNumber',\t'Employee Code',\t'POD ID',\t'MerchantExternalId',\t'Validity',\n",
    "\t'InvalidReasons',\t'Date',\t'Is in RWM File?',\t'Is In Source?',\t'New_Payout_Status_2',\t'Payout Invalid Reason',\t'OB Date Check',\t'Task Count',\t\n",
    "    'CompletedSubTaskTypes',\t'Segment',\t'Ingestion Date',\t'IngestionStatus',\t'Revisit Expire Date',\t'Is in Dynamic Source Visit Date Valid?',\t\n",
    "    'Outcome Status',\t'Is in Previous Month Payout',\t'Is in Previous Month Payout Date',\t'Source MID',\t'Source MID Match Check',\t'Ext_ID Dup?',\t'Phone_Dup?',\n",
    "    'Is in OB CSV file? MID',\t'Is in OB CSV file? MN',\t'OB Date',\t'Data Tag']].rename(columns={'New_Payout_Status_2':'Payout Status'})"
   ]
  },
  {
   "cell_type": "code",
   "execution_count": 79,
   "id": "87faf513",
   "metadata": {},
   "outputs": [],
   "source": [
    "Google_re_4.to_csv(output_loc_final+'Final_Google_Reconsilation.csv', index=False)"
   ]
  },
  {
   "cell_type": "code",
   "execution_count": 80,
   "id": "322e6e96",
   "metadata": {},
   "outputs": [
    {
     "data": {
      "text/plain": [
       "Valid                         158499\n",
       "Invalid_PhonenumberLookup       5220\n",
       "Invalid_NotOnTargetlist         2914\n",
       "Invalid_IncompleteSubTasks      2620\n",
       "Self OB w/Same Ph.              2000\n",
       "Already Paid                    1803\n",
       "Duplicate Ext_ID                1326\n",
       "Dynamic_Expiry                   239\n",
       "Dynamic_Valid                    209\n",
       "Duplicate Phone_No                44\n",
       "Name: Payout Status, dtype: int64"
      ]
     },
     "execution_count": 80,
     "metadata": {},
     "output_type": "execute_result"
    }
   ],
   "source": [
    "Google_re_4['Payout Status'].value_counts()"
   ]
  },
  {
   "cell_type": "code",
   "execution_count": null,
   "id": "ce0aa99b",
   "metadata": {},
   "outputs": [],
   "source": []
  },
  {
   "cell_type": "markdown",
   "id": "2990449b",
   "metadata": {},
   "source": [
    "# RWM File"
   ]
  },
  {
   "cell_type": "code",
   "execution_count": 81,
   "id": "30a904da",
   "metadata": {},
   "outputs": [],
   "source": [
    "input_loc_g = input_loc+\"RWM/Payout Final/\"\n",
    "#input_loc_g = input_loc+\"RWM/Estimated/Consolidated/\""
   ]
  },
  {
   "cell_type": "code",
   "execution_count": 82,
   "id": "fb927d56",
   "metadata": {
    "scrolled": true
   },
   "outputs": [],
   "source": [
    "filelist = glob.glob(input_loc_g+\"**/*.csv\", recursive = True)"
   ]
  },
  {
   "cell_type": "code",
   "execution_count": 83,
   "id": "d9735937",
   "metadata": {},
   "outputs": [
    {
     "data": {
      "text/plain": [
       "['/home/dhrubakumardolai/Desktop/Python Test/Rahul/Payout/Target/Raw/Nov/RWM/Payout Final/RWM_Payout_status_01_to_16.csv',\n",
       " '/home/dhrubakumardolai/Desktop/Python Test/Rahul/Payout/Target/Raw/Nov/RWM/Payout Final/RWM_Payout_status_17_to_Remaining.csv']"
      ]
     },
     "execution_count": 83,
     "metadata": {},
     "output_type": "execute_result"
    }
   ],
   "source": [
    "filelist"
   ]
  },
  {
   "cell_type": "code",
   "execution_count": 84,
   "id": "d807a375",
   "metadata": {},
   "outputs": [],
   "source": [
    "Google_re = pd.DataFrame()\n",
    "\n",
    "for file in filelist:\n",
    "    if file.endswith(\".csv\"):\n",
    "        df = pd.read_csv(file)\n",
    "        Google_re = Google_re.append(df)"
   ]
  },
  {
   "cell_type": "code",
   "execution_count": 85,
   "id": "02e773a9",
   "metadata": {},
   "outputs": [],
   "source": [
    "Google_re.sort_values(by=['sno'], inplace=True)"
   ]
  },
  {
   "cell_type": "code",
   "execution_count": 86,
   "id": "8ffb3673",
   "metadata": {},
   "outputs": [],
   "source": [
    "Google_re['sno'] = Google_re['sno'].astype(str)"
   ]
  },
  {
   "cell_type": "code",
   "execution_count": 87,
   "id": "277a546d",
   "metadata": {},
   "outputs": [
    {
     "data": {
      "text/plain": [
       "(190655, 35)"
      ]
     },
     "execution_count": 87,
     "metadata": {},
     "output_type": "execute_result"
    }
   ],
   "source": [
    "Google_re.shape"
   ]
  },
  {
   "cell_type": "code",
   "execution_count": 88,
   "id": "3131981d",
   "metadata": {},
   "outputs": [
    {
     "data": {
      "text/html": [
       "<div>\n",
       "<style scoped>\n",
       "    .dataframe tbody tr th:only-of-type {\n",
       "        vertical-align: middle;\n",
       "    }\n",
       "\n",
       "    .dataframe tbody tr th {\n",
       "        vertical-align: top;\n",
       "    }\n",
       "\n",
       "    .dataframe thead th {\n",
       "        text-align: right;\n",
       "    }\n",
       "</style>\n",
       "<table border=\"1\" class=\"dataframe\">\n",
       "  <thead>\n",
       "    <tr style=\"text-align: right;\">\n",
       "      <th></th>\n",
       "      <th>sno</th>\n",
       "      <th>City</th>\n",
       "      <th>TV City</th>\n",
       "      <th>Merchant ID</th>\n",
       "      <th>StorePhoneNumber</th>\n",
       "      <th>Employee Code</th>\n",
       "      <th>POD ID</th>\n",
       "      <th>MerchantExternalId</th>\n",
       "      <th>Validity</th>\n",
       "      <th>InvalidReasons</th>\n",
       "      <th>...</th>\n",
       "      <th>Is in Previous Month Payout Date</th>\n",
       "      <th>Source MID</th>\n",
       "      <th>Source MID Match Check</th>\n",
       "      <th>Ext_ID Dup?</th>\n",
       "      <th>Phone_Dup?</th>\n",
       "      <th>Merchant_ID_Dup</th>\n",
       "      <th>Is in OB CSV file? MID</th>\n",
       "      <th>Is in OB CSV file? MN</th>\n",
       "      <th>OB Date</th>\n",
       "      <th>Data Tag</th>\n",
       "    </tr>\n",
       "  </thead>\n",
       "  <tbody>\n",
       "    <tr>\n",
       "      <th>0</th>\n",
       "      <td>1</td>\n",
       "      <td>Pune</td>\n",
       "      <td>Pune</td>\n",
       "      <td>8252706</td>\n",
       "      <td>9579920335</td>\n",
       "      <td>78442</td>\n",
       "      <td>3115.0</td>\n",
       "      <td>BCR2DN4TQD2OZ3BF</td>\n",
       "      <td>VALID</td>\n",
       "      <td>NaN</td>\n",
       "      <td>...</td>\n",
       "      <td>NaN</td>\n",
       "      <td>NaN</td>\n",
       "      <td>NaN</td>\n",
       "      <td>1</td>\n",
       "      <td>1</td>\n",
       "      <td>1</td>\n",
       "      <td>No</td>\n",
       "      <td>No</td>\n",
       "      <td>NaN</td>\n",
       "      <td>RWM</td>\n",
       "    </tr>\n",
       "  </tbody>\n",
       "</table>\n",
       "<p>1 rows × 35 columns</p>\n",
       "</div>"
      ],
      "text/plain": [
       "  sno  City TV City  Merchant ID  StorePhoneNumber  Employee Code  POD ID  \\\n",
       "0   1  Pune    Pune      8252706        9579920335          78442  3115.0   \n",
       "\n",
       "  MerchantExternalId Validity InvalidReasons  ...  \\\n",
       "0   BCR2DN4TQD2OZ3BF    VALID            NaN  ...   \n",
       "\n",
       "  Is in Previous Month Payout Date Source MID Source MID Match Check  \\\n",
       "0                              NaN        NaN                    NaN   \n",
       "\n",
       "  Ext_ID Dup? Phone_Dup? Merchant_ID_Dup  Is in OB CSV file? MID  \\\n",
       "0           1          1               1                      No   \n",
       "\n",
       "  Is in OB CSV file? MN OB Date Data Tag  \n",
       "0                    No     NaN      RWM  \n",
       "\n",
       "[1 rows x 35 columns]"
      ]
     },
     "execution_count": 88,
     "metadata": {},
     "output_type": "execute_result"
    }
   ],
   "source": [
    "Google_re.head(1)"
   ]
  },
  {
   "cell_type": "code",
   "execution_count": 89,
   "id": "57fa7e07",
   "metadata": {},
   "outputs": [],
   "source": [
    "Google_re['Task Count'].replace(np.nan, 0, inplace=True)"
   ]
  },
  {
   "cell_type": "code",
   "execution_count": 90,
   "id": "b73a2d1d",
   "metadata": {},
   "outputs": [
    {
     "data": {
      "text/plain": [
       "184432"
      ]
     },
     "execution_count": 90,
     "metadata": {},
     "output_type": "execute_result"
    }
   ],
   "source": [
    "len(Google_re['Merchant ID'].unique())"
   ]
  },
  {
   "cell_type": "code",
   "execution_count": 91,
   "id": "69410472",
   "metadata": {},
   "outputs": [],
   "source": [
    "Google_re['Merchant ID'] = Google_re['Merchant ID'].astype(str)\n",
    "Google_re.sort_values(by=['sno'], inplace=True)\n",
    "Google_re.sort_values(by=['Validity', 'Merchant_ID_Dup'], ascending=[False, True], inplace=True)\n",
    "Google_re.drop_duplicates(subset=['Merchant ID'], inplace=True)"
   ]
  },
  {
   "cell_type": "code",
   "execution_count": 92,
   "id": "69c27d67",
   "metadata": {},
   "outputs": [
    {
     "data": {
      "text/plain": [
       "184432"
      ]
     },
     "execution_count": 92,
     "metadata": {},
     "output_type": "execute_result"
    }
   ],
   "source": [
    "len(Google_re['Merchant ID'].unique())"
   ]
  },
  {
   "cell_type": "code",
   "execution_count": 93,
   "id": "9fffd3ee",
   "metadata": {},
   "outputs": [
    {
     "data": {
      "text/plain": [
       "array(['VALID', 'INVALID', nan], dtype=object)"
      ]
     },
     "execution_count": 93,
     "metadata": {},
     "output_type": "execute_result"
    }
   ],
   "source": [
    "Google_re['Validity'].unique()"
   ]
  },
  {
   "cell_type": "markdown",
   "id": "f2263277",
   "metadata": {},
   "source": [
    "# Invalid_IncompleteSubTasks"
   ]
  },
  {
   "cell_type": "code",
   "execution_count": 94,
   "id": "1d04cdaa",
   "metadata": {},
   "outputs": [],
   "source": [
    "Google_re_f = Google_re[['sno', 'MerchantExternalId', 'StorePhoneNumber', 'Task Count', 'Validity', 'InvalidReasons']]"
   ]
  },
  {
   "cell_type": "code",
   "execution_count": 95,
   "id": "beca073d",
   "metadata": {},
   "outputs": [],
   "source": [
    "Google_re_f2 = Google_re_f[['sno','Validity', 'InvalidReasons' , 'Task Count']]"
   ]
  },
  {
   "cell_type": "code",
   "execution_count": 96,
   "id": "09ee53b2",
   "metadata": {},
   "outputs": [],
   "source": [
    "Google_re_f2 = Google_re_f2[~Google_re_f2['Validity'].isna()]"
   ]
  },
  {
   "cell_type": "code",
   "execution_count": 97,
   "id": "2f4dbd11",
   "metadata": {},
   "outputs": [],
   "source": [
    "Google_re_f2['Validity'].replace(np.nan, 0, inplace=True)"
   ]
  },
  {
   "cell_type": "code",
   "execution_count": 98,
   "id": "dc95afbb",
   "metadata": {},
   "outputs": [],
   "source": [
    "Google_re_f3 = Google_re_f2.loc[(Google_re_f2['Task Count']<3)]"
   ]
  },
  {
   "cell_type": "code",
   "execution_count": 99,
   "id": "a4406d70",
   "metadata": {},
   "outputs": [],
   "source": [
    "Google_re_f3['Payout_Status_1'] = 'Invalid_IncompleteSubTasks'"
   ]
  },
  {
   "cell_type": "code",
   "execution_count": 100,
   "id": "0d13ce60",
   "metadata": {},
   "outputs": [],
   "source": [
    "Google_re_f4 = Google_re_f3[Google_re_f3['InvalidReasons'].str.contains('Invalid_PhonenumberLookup', na=False)]"
   ]
  },
  {
   "cell_type": "code",
   "execution_count": 101,
   "id": "e342c2b1",
   "metadata": {},
   "outputs": [],
   "source": [
    "Google_re_f4['Payout_Status_2'] = 'Invalid_PhonenumberLookup'"
   ]
  },
  {
   "cell_type": "code",
   "execution_count": 102,
   "id": "b838271a",
   "metadata": {},
   "outputs": [],
   "source": [
    "Google_re_f4_f = Google_re_f4[['sno', 'Payout_Status_2']]"
   ]
  },
  {
   "cell_type": "code",
   "execution_count": 103,
   "id": "86c78209",
   "metadata": {},
   "outputs": [],
   "source": [
    "Google_re_f3_merge = Google_re_f3.merge(Google_re_f4_f, on='sno', how='left')"
   ]
  },
  {
   "cell_type": "code",
   "execution_count": 104,
   "id": "b13255df",
   "metadata": {},
   "outputs": [],
   "source": [
    "Google_re_f3_merge.drop_duplicates(subset=['sno'], inplace=True)"
   ]
  },
  {
   "cell_type": "code",
   "execution_count": 105,
   "id": "d0f5b32c",
   "metadata": {},
   "outputs": [],
   "source": [
    "Google_re_f3_merge['New_Payout_Status_1'] = np.nan\n",
    "Google_re_f3_merge['New_Payout_Status_1'].fillna(Google_re_f3_merge['Payout_Status_2'], inplace=True)\n",
    "Google_re_f3_merge['New_Payout_Status_1'].fillna(Google_re_f3_merge['Payout_Status_1'], inplace=True)"
   ]
  },
  {
   "cell_type": "code",
   "execution_count": 106,
   "id": "f9135b8e",
   "metadata": {},
   "outputs": [],
   "source": [
    "Google_re_f3_merge_f = Google_re_f3_merge[['sno', 'New_Payout_Status_1']]"
   ]
  },
  {
   "cell_type": "code",
   "execution_count": 107,
   "id": "0c6e5aed",
   "metadata": {},
   "outputs": [
    {
     "data": {
      "text/html": [
       "<div>\n",
       "<style scoped>\n",
       "    .dataframe tbody tr th:only-of-type {\n",
       "        vertical-align: middle;\n",
       "    }\n",
       "\n",
       "    .dataframe tbody tr th {\n",
       "        vertical-align: top;\n",
       "    }\n",
       "\n",
       "    .dataframe thead th {\n",
       "        text-align: right;\n",
       "    }\n",
       "</style>\n",
       "<table border=\"1\" class=\"dataframe\">\n",
       "  <thead>\n",
       "    <tr style=\"text-align: right;\">\n",
       "      <th></th>\n",
       "      <th>sno</th>\n",
       "      <th>New_Payout_Status_1</th>\n",
       "    </tr>\n",
       "  </thead>\n",
       "  <tbody>\n",
       "    <tr>\n",
       "      <th>0</th>\n",
       "      <td>101638</td>\n",
       "      <td>Invalid_IncompleteSubTasks</td>\n",
       "    </tr>\n",
       "  </tbody>\n",
       "</table>\n",
       "</div>"
      ],
      "text/plain": [
       "      sno         New_Payout_Status_1\n",
       "0  101638  Invalid_IncompleteSubTasks"
      ]
     },
     "execution_count": 107,
     "metadata": {},
     "output_type": "execute_result"
    }
   ],
   "source": [
    "Google_re_f3_merge_f.head(1)"
   ]
  },
  {
   "cell_type": "code",
   "execution_count": 108,
   "id": "2751e2e3",
   "metadata": {},
   "outputs": [],
   "source": [
    "Google_re_1 = Google_re.merge(Google_re_f3_merge_f, how='left', on='sno')\n",
    "Google_re_1.drop_duplicates(subset=['sno'], inplace=True)"
   ]
  },
  {
   "cell_type": "markdown",
   "id": "fc930126",
   "metadata": {},
   "source": [
    "# Duplicate Merchant External ID"
   ]
  },
  {
   "cell_type": "code",
   "execution_count": 109,
   "id": "047d3316",
   "metadata": {},
   "outputs": [],
   "source": [
    "Google_re_1_mid = Google_re_1[['sno', 'Ext_ID Dup?']]\n",
    "Google_re_1_mn = Google_re_1[['sno', 'Phone_Dup?']]\n",
    "Google_re_1_merchant_id = Google_re_1[['sno', 'Merchant_ID_Dup']]"
   ]
  },
  {
   "cell_type": "code",
   "execution_count": 110,
   "id": "840f0b3d",
   "metadata": {},
   "outputs": [],
   "source": [
    "Google_re_1_mid_f = Google_re_1_mid.loc[(Google_re_1_mid['Ext_ID Dup?']>1)]"
   ]
  },
  {
   "cell_type": "code",
   "execution_count": 111,
   "id": "7f479339",
   "metadata": {},
   "outputs": [],
   "source": [
    "Google_re_1_mid_f['Payout_Status_1'] = \"Duplicate Ext_ID\""
   ]
  },
  {
   "cell_type": "code",
   "execution_count": 112,
   "id": "653912f5",
   "metadata": {},
   "outputs": [],
   "source": [
    "Google_re_1_mid_f2 = Google_re_1_mid_f[['sno', 'Payout_Status_1']]"
   ]
  },
  {
   "cell_type": "code",
   "execution_count": 113,
   "id": "04462064",
   "metadata": {},
   "outputs": [],
   "source": [
    "Google_re_1_mn_f = Google_re_1_mn.loc[(Google_re_1_mn['Phone_Dup?']>1)]"
   ]
  },
  {
   "cell_type": "code",
   "execution_count": 114,
   "id": "17afdd7d",
   "metadata": {},
   "outputs": [],
   "source": [
    "Google_re_1_mn_f['Payout_Status_2'] = \"Duplicate Phone_No\""
   ]
  },
  {
   "cell_type": "code",
   "execution_count": 115,
   "id": "c7c19185",
   "metadata": {},
   "outputs": [],
   "source": [
    "Google_re_1_mn_f2 = Google_re_1_mn_f[['sno', 'Payout_Status_2']]"
   ]
  },
  {
   "cell_type": "code",
   "execution_count": 116,
   "id": "e42ba466",
   "metadata": {},
   "outputs": [],
   "source": [
    "Google_re_1_merchant_id_f = Google_re_1_merchant_id.loc[(Google_re_1_merchant_id['Merchant_ID_Dup']>1)]"
   ]
  },
  {
   "cell_type": "code",
   "execution_count": 117,
   "id": "8c224c4a",
   "metadata": {},
   "outputs": [],
   "source": [
    "Google_re_1_merchant_id_f['Payout_Status_3'] = \"Duplicate Merchant_ID\""
   ]
  },
  {
   "cell_type": "code",
   "execution_count": 118,
   "id": "0712bfa3",
   "metadata": {},
   "outputs": [],
   "source": [
    "Google_re_1_merchant_id_f2 = Google_re_1_merchant_id_f[['sno', 'Payout_Status_3']]"
   ]
  },
  {
   "cell_type": "code",
   "execution_count": 119,
   "id": "e9dceb64",
   "metadata": {},
   "outputs": [],
   "source": [
    "Google_re_1_merge = Google_re_1.merge(Google_re_1_mid_f2, on='sno', how='left')\n",
    "Google_re_1_merge.drop_duplicates(subset=['sno'], inplace=True)"
   ]
  },
  {
   "cell_type": "code",
   "execution_count": 120,
   "id": "a4f8c2d1",
   "metadata": {},
   "outputs": [],
   "source": [
    "Google_re_1_merge2 = Google_re_1_merge.merge(Google_re_1_mn_f2, on='sno', how='left')\n",
    "Google_re_1_merge2.drop_duplicates(subset=['sno'], inplace=True)"
   ]
  },
  {
   "cell_type": "code",
   "execution_count": 121,
   "id": "61d4974d",
   "metadata": {},
   "outputs": [],
   "source": [
    "Google_re_1_merge2 = Google_re_1_merge2.merge(Google_re_1_merchant_id_f2, on='sno', how='left')\n",
    "Google_re_1_merge2.drop_duplicates(subset=['sno'], inplace=True)"
   ]
  },
  {
   "cell_type": "code",
   "execution_count": 122,
   "id": "6a2c9667",
   "metadata": {},
   "outputs": [],
   "source": [
    "Google_re_2 = Google_re_1_merge2"
   ]
  },
  {
   "cell_type": "code",
   "execution_count": 123,
   "id": "92b1c2e7",
   "metadata": {},
   "outputs": [],
   "source": [
    "Google_re_2['New_Payout_Status_2'] = np.nan\n",
    "Google_re_2['New_Payout_Status_2'].fillna(Google_re_2['Payout_Status_1'], inplace=True)\n",
    "Google_re_2['New_Payout_Status_2'].fillna(Google_re_2['Payout_Status_2'], inplace=True)\n",
    "Google_re_2['New_Payout_Status_2'].fillna(Google_re_2['Payout_Status_3'], inplace=True)\n",
    "Google_re_2['New_Payout_Status_2'].fillna(Google_re_2['New_Payout_Status_1'], inplace=True)\n",
    "Google_re_2.drop(['Payout_Status_1', 'Payout_Status_2', 'Payout_Status_3','New_Payout_Status_1'], axis=1, inplace=True)"
   ]
  },
  {
   "cell_type": "code",
   "execution_count": 124,
   "id": "bf95cad4",
   "metadata": {},
   "outputs": [
    {
     "data": {
      "text/html": [
       "<div>\n",
       "<style scoped>\n",
       "    .dataframe tbody tr th:only-of-type {\n",
       "        vertical-align: middle;\n",
       "    }\n",
       "\n",
       "    .dataframe tbody tr th {\n",
       "        vertical-align: top;\n",
       "    }\n",
       "\n",
       "    .dataframe thead th {\n",
       "        text-align: right;\n",
       "    }\n",
       "</style>\n",
       "<table border=\"1\" class=\"dataframe\">\n",
       "  <thead>\n",
       "    <tr style=\"text-align: right;\">\n",
       "      <th></th>\n",
       "      <th>sno</th>\n",
       "      <th>City</th>\n",
       "      <th>TV City</th>\n",
       "      <th>Merchant ID</th>\n",
       "      <th>StorePhoneNumber</th>\n",
       "      <th>Employee Code</th>\n",
       "      <th>POD ID</th>\n",
       "      <th>MerchantExternalId</th>\n",
       "      <th>Validity</th>\n",
       "      <th>InvalidReasons</th>\n",
       "      <th>...</th>\n",
       "      <th>Source MID</th>\n",
       "      <th>Source MID Match Check</th>\n",
       "      <th>Ext_ID Dup?</th>\n",
       "      <th>Phone_Dup?</th>\n",
       "      <th>Merchant_ID_Dup</th>\n",
       "      <th>Is in OB CSV file? MID</th>\n",
       "      <th>Is in OB CSV file? MN</th>\n",
       "      <th>OB Date</th>\n",
       "      <th>Data Tag</th>\n",
       "      <th>New_Payout_Status_2</th>\n",
       "    </tr>\n",
       "  </thead>\n",
       "  <tbody>\n",
       "    <tr>\n",
       "      <th>0</th>\n",
       "      <td>1</td>\n",
       "      <td>Pune</td>\n",
       "      <td>Pune</td>\n",
       "      <td>8252706</td>\n",
       "      <td>9579920335</td>\n",
       "      <td>78442</td>\n",
       "      <td>3115.0</td>\n",
       "      <td>BCR2DN4TQD2OZ3BF</td>\n",
       "      <td>VALID</td>\n",
       "      <td>NaN</td>\n",
       "      <td>...</td>\n",
       "      <td>NaN</td>\n",
       "      <td>NaN</td>\n",
       "      <td>1</td>\n",
       "      <td>1</td>\n",
       "      <td>1</td>\n",
       "      <td>No</td>\n",
       "      <td>No</td>\n",
       "      <td>NaN</td>\n",
       "      <td>RWM</td>\n",
       "      <td>NaN</td>\n",
       "    </tr>\n",
       "  </tbody>\n",
       "</table>\n",
       "<p>1 rows × 36 columns</p>\n",
       "</div>"
      ],
      "text/plain": [
       "  sno  City TV City Merchant ID  StorePhoneNumber  Employee Code  POD ID  \\\n",
       "0   1  Pune    Pune     8252706        9579920335          78442  3115.0   \n",
       "\n",
       "  MerchantExternalId Validity InvalidReasons  ... Source MID  \\\n",
       "0   BCR2DN4TQD2OZ3BF    VALID            NaN  ...        NaN   \n",
       "\n",
       "  Source MID Match Check Ext_ID Dup? Phone_Dup? Merchant_ID_Dup  \\\n",
       "0                    NaN           1          1               1   \n",
       "\n",
       "  Is in OB CSV file? MID  Is in OB CSV file? MN OB Date Data Tag  \\\n",
       "0                     No                     No     NaN      RWM   \n",
       "\n",
       "  New_Payout_Status_2  \n",
       "0                 NaN  \n",
       "\n",
       "[1 rows x 36 columns]"
      ]
     },
     "execution_count": 124,
     "metadata": {},
     "output_type": "execute_result"
    }
   ],
   "source": [
    "Google_re_2.head(1)"
   ]
  },
  {
   "cell_type": "markdown",
   "id": "54176e02",
   "metadata": {},
   "source": [
    "# Valid"
   ]
  },
  {
   "cell_type": "code",
   "execution_count": 125,
   "id": "a86923ef",
   "metadata": {},
   "outputs": [],
   "source": [
    "Google_re_2_f = Google_re_2[['sno', 'Validity']]"
   ]
  },
  {
   "cell_type": "code",
   "execution_count": 126,
   "id": "5944b135",
   "metadata": {},
   "outputs": [
    {
     "data": {
      "text/plain": [
       "VALID      159297\n",
       "INVALID      8517\n",
       "Name: Validity, dtype: int64"
      ]
     },
     "execution_count": 126,
     "metadata": {},
     "output_type": "execute_result"
    }
   ],
   "source": [
    "Google_re_2_f['Validity'].value_counts()"
   ]
  },
  {
   "cell_type": "code",
   "execution_count": 127,
   "id": "7d942c73",
   "metadata": {},
   "outputs": [],
   "source": [
    "Google_re_2_f2 = Google_re_2_f[Google_re_2_f['Validity'].isin(['VALID'])]"
   ]
  },
  {
   "cell_type": "code",
   "execution_count": 128,
   "id": "38a17be3",
   "metadata": {},
   "outputs": [],
   "source": [
    "Google_re_2_f2['Payout_Status_2'] = \"Valid\""
   ]
  },
  {
   "cell_type": "code",
   "execution_count": 129,
   "id": "4b4c37a5",
   "metadata": {},
   "outputs": [],
   "source": [
    "Google_re_2_f3 = Google_re_2_f2[['sno', 'Payout_Status_2']]"
   ]
  },
  {
   "cell_type": "code",
   "execution_count": 130,
   "id": "e972e1c0",
   "metadata": {},
   "outputs": [],
   "source": [
    "Google_re_2_merge = Google_re_2.merge(Google_re_2_f3, on='sno', how='left')\n",
    "Google_re_2_merge.drop_duplicates(subset=['sno'], inplace=True)\n",
    "Google_re_2_merge['New_Payout_Status_2'].fillna(Google_re_2_merge['Payout_Status_2'], inplace=True)\n",
    "Google_re_2_merge.drop('Payout_Status_2', axis=1, inplace=True)"
   ]
  },
  {
   "cell_type": "code",
   "execution_count": 131,
   "id": "5cbbbd53",
   "metadata": {},
   "outputs": [],
   "source": [
    "Google_re_3 = Google_re_2_merge"
   ]
  },
  {
   "cell_type": "code",
   "execution_count": 132,
   "id": "a32e8239",
   "metadata": {},
   "outputs": [
    {
     "data": {
      "text/html": [
       "<div>\n",
       "<style scoped>\n",
       "    .dataframe tbody tr th:only-of-type {\n",
       "        vertical-align: middle;\n",
       "    }\n",
       "\n",
       "    .dataframe tbody tr th {\n",
       "        vertical-align: top;\n",
       "    }\n",
       "\n",
       "    .dataframe thead th {\n",
       "        text-align: right;\n",
       "    }\n",
       "</style>\n",
       "<table border=\"1\" class=\"dataframe\">\n",
       "  <thead>\n",
       "    <tr style=\"text-align: right;\">\n",
       "      <th></th>\n",
       "      <th>sno</th>\n",
       "      <th>City</th>\n",
       "      <th>TV City</th>\n",
       "      <th>Merchant ID</th>\n",
       "      <th>StorePhoneNumber</th>\n",
       "      <th>Employee Code</th>\n",
       "      <th>POD ID</th>\n",
       "      <th>MerchantExternalId</th>\n",
       "      <th>Validity</th>\n",
       "      <th>InvalidReasons</th>\n",
       "      <th>...</th>\n",
       "      <th>Source MID</th>\n",
       "      <th>Source MID Match Check</th>\n",
       "      <th>Ext_ID Dup?</th>\n",
       "      <th>Phone_Dup?</th>\n",
       "      <th>Merchant_ID_Dup</th>\n",
       "      <th>Is in OB CSV file? MID</th>\n",
       "      <th>Is in OB CSV file? MN</th>\n",
       "      <th>OB Date</th>\n",
       "      <th>Data Tag</th>\n",
       "      <th>New_Payout_Status_2</th>\n",
       "    </tr>\n",
       "  </thead>\n",
       "  <tbody>\n",
       "    <tr>\n",
       "      <th>0</th>\n",
       "      <td>1</td>\n",
       "      <td>Pune</td>\n",
       "      <td>Pune</td>\n",
       "      <td>8252706</td>\n",
       "      <td>9579920335</td>\n",
       "      <td>78442</td>\n",
       "      <td>3115.0</td>\n",
       "      <td>BCR2DN4TQD2OZ3BF</td>\n",
       "      <td>VALID</td>\n",
       "      <td>NaN</td>\n",
       "      <td>...</td>\n",
       "      <td>NaN</td>\n",
       "      <td>NaN</td>\n",
       "      <td>1</td>\n",
       "      <td>1</td>\n",
       "      <td>1</td>\n",
       "      <td>No</td>\n",
       "      <td>No</td>\n",
       "      <td>NaN</td>\n",
       "      <td>RWM</td>\n",
       "      <td>Valid</td>\n",
       "    </tr>\n",
       "  </tbody>\n",
       "</table>\n",
       "<p>1 rows × 36 columns</p>\n",
       "</div>"
      ],
      "text/plain": [
       "  sno  City TV City Merchant ID  StorePhoneNumber  Employee Code  POD ID  \\\n",
       "0   1  Pune    Pune     8252706        9579920335          78442  3115.0   \n",
       "\n",
       "  MerchantExternalId Validity InvalidReasons  ... Source MID  \\\n",
       "0   BCR2DN4TQD2OZ3BF    VALID            NaN  ...        NaN   \n",
       "\n",
       "  Source MID Match Check Ext_ID Dup? Phone_Dup? Merchant_ID_Dup  \\\n",
       "0                    NaN           1          1               1   \n",
       "\n",
       "  Is in OB CSV file? MID  Is in OB CSV file? MN OB Date Data Tag  \\\n",
       "0                     No                     No     NaN      RWM   \n",
       "\n",
       "  New_Payout_Status_2  \n",
       "0               Valid  \n",
       "\n",
       "[1 rows x 36 columns]"
      ]
     },
     "execution_count": 132,
     "metadata": {},
     "output_type": "execute_result"
    }
   ],
   "source": [
    "Google_re_3.head(1)"
   ]
  },
  {
   "cell_type": "markdown",
   "id": "8153a6b2",
   "metadata": {},
   "source": [
    "# Invalid Analysis and Finding Valid"
   ]
  },
  {
   "cell_type": "markdown",
   "id": "13b03b1d",
   "metadata": {},
   "source": [
    "### Already paid in Match, MN Match"
   ]
  },
  {
   "cell_type": "code",
   "execution_count": 133,
   "id": "a17f3500",
   "metadata": {},
   "outputs": [],
   "source": [
    "Google_re_3_f = Google_re_3[['sno','Validity', 'Date', 'Is In Source?', 'IngestionStatus', 'Ingestion Date', 'Is in Previous Month Payout', \n",
    "'Is in Previous Month Payout Date']]"
   ]
  },
  {
   "cell_type": "code",
   "execution_count": 134,
   "id": "f94d1909",
   "metadata": {},
   "outputs": [],
   "source": [
    "Google_re_3_f2 = Google_re_3_f[Google_re_3_f['Validity'].isin(['INVALID'])]"
   ]
  },
  {
   "cell_type": "code",
   "execution_count": 135,
   "id": "2cef6453",
   "metadata": {},
   "outputs": [],
   "source": [
    "Google_re_3_f3 = Google_re_3_f2[Google_re_3_f2['IngestionStatus'].isna()]"
   ]
  },
  {
   "cell_type": "code",
   "execution_count": 136,
   "id": "0ddb0bdf",
   "metadata": {},
   "outputs": [],
   "source": [
    "Google_re_3_f4 = Google_re_3_f3[Google_re_3_f3['Is In Source?'].isin(['MN Match', \"Match\"])]"
   ]
  },
  {
   "cell_type": "code",
   "execution_count": 137,
   "id": "af825f2c",
   "metadata": {},
   "outputs": [],
   "source": [
    "Google_re_3_f4['Payout_Status_1'] = Google_re_3_f4['Is in Previous Month Payout']\n",
    "Google_re_3_f4['Payout_Status_1'] = Google_re_3_f4['Payout_Status_1'].map({\"No Match\": np.nan, \"Match\":\"Already Paid\"})\n",
    "Google_re_3_f4['Payout_Status_1'].fillna(Google_re_3_f4['Is In Source?'], inplace=True)\n",
    "Google_re_3_f4['Payout_Status_1'].replace('MN Match', 'Self OB w/Same Ph.', inplace=True)\n",
    "Google_re_3_f4['Payout_Status_1'].replace('Match', 'Valid', inplace=True)"
   ]
  },
  {
   "cell_type": "code",
   "execution_count": 138,
   "id": "d875284b",
   "metadata": {},
   "outputs": [],
   "source": [
    "Google_re_3_f4_f = Google_re_3_f4[['sno', 'Payout_Status_1']]"
   ]
  },
  {
   "cell_type": "code",
   "execution_count": 139,
   "id": "1f73b541",
   "metadata": {},
   "outputs": [],
   "source": [
    "Google_re_3_f5 = Google_re_3_f2[~Google_re_3_f2['IngestionStatus'].isna()]"
   ]
  },
  {
   "cell_type": "code",
   "execution_count": 140,
   "id": "3946368d",
   "metadata": {},
   "outputs": [],
   "source": [
    "Google_re_3_f5_f = Google_re_3_f5[Google_re_3_f5['Is in Previous Month Payout'].isin(['Match'])]\n",
    "Google_re_3_f5_f = Google_re_3_f5_f[Google_re_3_f5_f['Is In Source?'].isin(['Match'])]"
   ]
  },
  {
   "cell_type": "code",
   "execution_count": 141,
   "id": "e828bd84",
   "metadata": {},
   "outputs": [],
   "source": [
    "Google_re_3_f5_f['Is in Previous Month Payout Date'] = pd.to_datetime(Google_re_3_f5_f['Is in Previous Month Payout Date'])\n",
    "Google_re_3_f5_f['Is in Previous Month Payout Date'] = Google_re_3_f5_f['Is in Previous Month Payout Date'].dt.strftime('%Y/%m/%d')"
   ]
  },
  {
   "cell_type": "code",
   "execution_count": 142,
   "id": "bfecf93f",
   "metadata": {},
   "outputs": [],
   "source": [
    "Google_re_3_f5_f['Ingestion Date'] = pd.to_datetime(Google_re_3_f5_f['Ingestion Date'])\n",
    "Google_re_3_f5_f['Ingestion Date'] = Google_re_3_f5_f['Ingestion Date'].dt.strftime('%Y/%m/%d')"
   ]
  },
  {
   "cell_type": "code",
   "execution_count": 143,
   "id": "3c337722",
   "metadata": {},
   "outputs": [],
   "source": [
    "Google_re_3_f5_f['Payout_Status_2'] = Google_re_3_f5_f['Ingestion Date']>=Google_re_3_f5_f['Is in Previous Month Payout Date']"
   ]
  },
  {
   "cell_type": "code",
   "execution_count": 144,
   "id": "25741ece",
   "metadata": {},
   "outputs": [],
   "source": [
    "Google_re_3_f5_f['Payout_Status_2'] = Google_re_3_f5_f['Payout_Status_2'].map({False:'Already Paid', True:'Dynamic_Valid'})"
   ]
  },
  {
   "cell_type": "code",
   "execution_count": 145,
   "id": "c9c5a192",
   "metadata": {},
   "outputs": [],
   "source": [
    "Google_re_3_f5_f2 = Google_re_3_f5_f[['sno', 'Payout_Status_2']]"
   ]
  },
  {
   "cell_type": "code",
   "execution_count": 146,
   "id": "0a7276ff",
   "metadata": {},
   "outputs": [],
   "source": [
    "Google_re_3_f5_f3 = Google_re_3_f5[Google_re_3_f5['Is in Previous Month Payout'].isin(['No Match'])]\n",
    "Google_re_3_f5_f3 = Google_re_3_f5_f3[Google_re_3_f5_f3['Is In Source?'].isin(['Match'])]"
   ]
  },
  {
   "cell_type": "code",
   "execution_count": 147,
   "id": "bf6ededb",
   "metadata": {},
   "outputs": [],
   "source": [
    "Google_re_3_f5_f3['Payout_Status_3'] = 'Valid'"
   ]
  },
  {
   "cell_type": "code",
   "execution_count": 148,
   "id": "d570dc99",
   "metadata": {},
   "outputs": [],
   "source": [
    "Google_re_3_f5_f3_f = Google_re_3_f5_f3[['sno', 'Payout_Status_3']]"
   ]
  },
  {
   "cell_type": "code",
   "execution_count": 149,
   "id": "d4598e9c",
   "metadata": {},
   "outputs": [],
   "source": [
    "Google_re_3_f_merge = Google_re_3_f2.merge(Google_re_3_f4_f, on='sno', how='left')\n",
    "Google_re_3_f_merge.drop_duplicates(subset=['sno'], inplace=True)\n",
    "Google_re_3_f_merge2 = Google_re_3_f_merge.merge(Google_re_3_f5_f2, on='sno', how='left')\n",
    "Google_re_3_f_merge2.drop_duplicates(subset=['sno'], inplace=True)\n",
    "Google_re_3_f_merge3 = Google_re_3_f_merge2.merge(Google_re_3_f5_f3_f, on='sno', how='left')\n",
    "Google_re_3_f_merge3.drop_duplicates(subset=['sno'], inplace=True)\n",
    "Google_re_3_f_merge3['Temp_Payout_status'] = np.nan\n",
    "Google_re_3_f_merge3['Temp_Payout_status'].fillna(Google_re_3_f_merge3['Payout_Status_1'], inplace=True)\n",
    "Google_re_3_f_merge3['Temp_Payout_status'].fillna(Google_re_3_f_merge3['Payout_Status_2'], inplace=True)\n",
    "Google_re_3_f_merge3['Temp_Payout_status'].fillna(Google_re_3_f_merge3['Payout_Status_3'], inplace=True)"
   ]
  },
  {
   "cell_type": "code",
   "execution_count": 150,
   "id": "bcd07c3a",
   "metadata": {},
   "outputs": [],
   "source": [
    "Google_re_3_f_merge3_f = Google_re_3_f_merge3[['sno', 'Is In Source?', 'Temp_Payout_status']]"
   ]
  },
  {
   "cell_type": "code",
   "execution_count": 151,
   "id": "b6664c2b",
   "metadata": {},
   "outputs": [],
   "source": [
    "Google_re_3_f_merge3_f2 = Google_re_3_f_merge3_f[Google_re_3_f_merge3_f['Temp_Payout_status'].isna()]"
   ]
  },
  {
   "cell_type": "code",
   "execution_count": 152,
   "id": "d9be985f",
   "metadata": {},
   "outputs": [],
   "source": [
    "Google_re_3_f_merge3_f2['Payout_Status_4'] = Google_re_3_f_merge3_f2['Is In Source?']"
   ]
  },
  {
   "cell_type": "code",
   "execution_count": 153,
   "id": "fdf57c47",
   "metadata": {},
   "outputs": [
    {
     "data": {
      "text/plain": [
       "array(['No Match', 'No Match Dynamic'], dtype=object)"
      ]
     },
     "execution_count": 153,
     "metadata": {},
     "output_type": "execute_result"
    }
   ],
   "source": [
    "Google_re_3_f_merge3_f2['Payout_Status_4'].unique()"
   ]
  },
  {
   "cell_type": "code",
   "execution_count": 154,
   "id": "7d37f02d",
   "metadata": {},
   "outputs": [],
   "source": [
    "Google_re_3_f_merge3_f2['Payout_Status_4'] = Google_re_3_f_merge3_f2[\n",
    "    'Payout_Status_4'].map({'No Match':'Invalid_NotOnTargetlist', 'No Match Dynamic':'Dynamic_Expiry'})"
   ]
  },
  {
   "cell_type": "code",
   "execution_count": 155,
   "id": "3fb9179d",
   "metadata": {},
   "outputs": [],
   "source": [
    "Google_re_3_f_merge3_f2_f = Google_re_3_f_merge3_f2[['sno', 'Payout_Status_4']]"
   ]
  },
  {
   "cell_type": "code",
   "execution_count": 156,
   "id": "66ad82e1",
   "metadata": {},
   "outputs": [],
   "source": [
    "Google_re_3_f_merge4 = Google_re_3_f_merge3.merge(Google_re_3_f_merge3_f2_f, on='sno', how='left')\n",
    "Google_re_3_f_merge4.drop_duplicates(subset=['sno'], inplace=True)\n",
    "Google_re_3_f_merge4['Temp_Payout_status'].fillna(Google_re_3_f_merge4['Payout_Status_4'], inplace=True)"
   ]
  },
  {
   "cell_type": "code",
   "execution_count": 157,
   "id": "37a591f8",
   "metadata": {},
   "outputs": [],
   "source": [
    "Google_re_3_f_merge4_f = Google_re_3_f_merge4[['sno', 'Temp_Payout_status']]"
   ]
  },
  {
   "cell_type": "code",
   "execution_count": 158,
   "id": "ec9632b9",
   "metadata": {},
   "outputs": [],
   "source": [
    "Google_re_3_merge = Google_re_3.merge(Google_re_3_f_merge4_f, on='sno', how='left')\n",
    "Google_re_3_merge['New_Payout_Status_2'].fillna(Google_re_3_merge['Temp_Payout_status'], inplace=True)\n",
    "Google_re_3_merge.drop('Temp_Payout_status', axis=1, inplace=True)"
   ]
  },
  {
   "cell_type": "code",
   "execution_count": 159,
   "id": "485da228",
   "metadata": {},
   "outputs": [],
   "source": [
    "rwm_re = Google_re_3_merge"
   ]
  },
  {
   "cell_type": "markdown",
   "id": "19793b6d",
   "metadata": {},
   "source": [
    "# Not Found Cases Analysis"
   ]
  },
  {
   "cell_type": "code",
   "execution_count": 160,
   "id": "eaf68028",
   "metadata": {},
   "outputs": [
    {
     "data": {
      "text/html": [
       "<div>\n",
       "<style scoped>\n",
       "    .dataframe tbody tr th:only-of-type {\n",
       "        vertical-align: middle;\n",
       "    }\n",
       "\n",
       "    .dataframe tbody tr th {\n",
       "        vertical-align: top;\n",
       "    }\n",
       "\n",
       "    .dataframe thead th {\n",
       "        text-align: right;\n",
       "    }\n",
       "</style>\n",
       "<table border=\"1\" class=\"dataframe\">\n",
       "  <thead>\n",
       "    <tr style=\"text-align: right;\">\n",
       "      <th></th>\n",
       "      <th>sno</th>\n",
       "      <th>City</th>\n",
       "      <th>TV City</th>\n",
       "      <th>Merchant ID</th>\n",
       "      <th>StorePhoneNumber</th>\n",
       "      <th>Employee Code</th>\n",
       "      <th>POD ID</th>\n",
       "      <th>MerchantExternalId</th>\n",
       "      <th>Validity</th>\n",
       "      <th>InvalidReasons</th>\n",
       "      <th>...</th>\n",
       "      <th>Source MID</th>\n",
       "      <th>Source MID Match Check</th>\n",
       "      <th>Ext_ID Dup?</th>\n",
       "      <th>Phone_Dup?</th>\n",
       "      <th>Merchant_ID_Dup</th>\n",
       "      <th>Is in OB CSV file? MID</th>\n",
       "      <th>Is in OB CSV file? MN</th>\n",
       "      <th>OB Date</th>\n",
       "      <th>Data Tag</th>\n",
       "      <th>New_Payout_Status_2</th>\n",
       "    </tr>\n",
       "  </thead>\n",
       "  <tbody>\n",
       "    <tr>\n",
       "      <th>0</th>\n",
       "      <td>1</td>\n",
       "      <td>Pune</td>\n",
       "      <td>Pune</td>\n",
       "      <td>8252706</td>\n",
       "      <td>9579920335</td>\n",
       "      <td>78442</td>\n",
       "      <td>3115.0</td>\n",
       "      <td>BCR2DN4TQD2OZ3BF</td>\n",
       "      <td>VALID</td>\n",
       "      <td>NaN</td>\n",
       "      <td>...</td>\n",
       "      <td>NaN</td>\n",
       "      <td>NaN</td>\n",
       "      <td>1</td>\n",
       "      <td>1</td>\n",
       "      <td>1</td>\n",
       "      <td>No</td>\n",
       "      <td>No</td>\n",
       "      <td>NaN</td>\n",
       "      <td>RWM</td>\n",
       "      <td>Valid</td>\n",
       "    </tr>\n",
       "  </tbody>\n",
       "</table>\n",
       "<p>1 rows × 36 columns</p>\n",
       "</div>"
      ],
      "text/plain": [
       "  sno  City TV City Merchant ID  StorePhoneNumber  Employee Code  POD ID  \\\n",
       "0   1  Pune    Pune     8252706        9579920335          78442  3115.0   \n",
       "\n",
       "  MerchantExternalId Validity InvalidReasons  ... Source MID  \\\n",
       "0   BCR2DN4TQD2OZ3BF    VALID            NaN  ...        NaN   \n",
       "\n",
       "  Source MID Match Check Ext_ID Dup? Phone_Dup? Merchant_ID_Dup  \\\n",
       "0                    NaN           1          1               1   \n",
       "\n",
       "  Is in OB CSV file? MID  Is in OB CSV file? MN OB Date Data Tag  \\\n",
       "0                     No                     No     NaN      RWM   \n",
       "\n",
       "  New_Payout_Status_2  \n",
       "0               Valid  \n",
       "\n",
       "[1 rows x 36 columns]"
      ]
     },
     "execution_count": 160,
     "metadata": {},
     "output_type": "execute_result"
    }
   ],
   "source": [
    "rwm_re.head(1)"
   ]
  },
  {
   "cell_type": "code",
   "execution_count": 161,
   "id": "e7f89ebc",
   "metadata": {},
   "outputs": [],
   "source": [
    "rwm_re_f = rwm_re[rwm_re['Is in Google Csv File?'].isin([\"No\"])]"
   ]
  },
  {
   "cell_type": "code",
   "execution_count": 162,
   "id": "d79de417",
   "metadata": {},
   "outputs": [],
   "source": [
    "rwm_re_f2 = rwm_re_f[['sno', 'Is In Source?', 'Segment', 'Is in OB CSV file? MID', 'Is in OB CSV file? MN', 'OB Date', 'OB Date Check']]"
   ]
  },
  {
   "cell_type": "code",
   "execution_count": null,
   "id": "3b93b6d1",
   "metadata": {},
   "outputs": [],
   "source": []
  },
  {
   "cell_type": "markdown",
   "id": "f573b465",
   "metadata": {},
   "source": [
    "### MN Match"
   ]
  },
  {
   "cell_type": "code",
   "execution_count": 163,
   "id": "bc8bfece",
   "metadata": {},
   "outputs": [],
   "source": [
    "rwm_re_f2_f = rwm_re_f2[rwm_re_f2['Is In Source?'].isin(['MN Match'])]"
   ]
  },
  {
   "cell_type": "code",
   "execution_count": 164,
   "id": "e065c976",
   "metadata": {},
   "outputs": [],
   "source": [
    "rwm_re_f2_f['Payout_Status_1'] = rwm_re_f2_f['OB Date Check']\n",
    "rwm_re_f2_f['Payout_Status_1'] = rwm_re_f2_f['Payout_Status_1'].map({True:'Re-onboarded', False:'Self OB w/Same Ph.', np.nan:'Self OB w/Same Ph.'})"
   ]
  },
  {
   "cell_type": "code",
   "execution_count": 165,
   "id": "76659eb8",
   "metadata": {},
   "outputs": [],
   "source": [
    "rwm_re_f2_f2 = rwm_re_f2_f[['sno', 'Payout_Status_1']]"
   ]
  },
  {
   "cell_type": "markdown",
   "id": "35d93877",
   "metadata": {},
   "source": [
    "### Match"
   ]
  },
  {
   "cell_type": "code",
   "execution_count": 166,
   "id": "7841e442",
   "metadata": {},
   "outputs": [],
   "source": [
    "rwm_re_f2_f3 = rwm_re_f2[rwm_re_f2['Is In Source?'].isin(['Match'])]"
   ]
  },
  {
   "cell_type": "code",
   "execution_count": 167,
   "id": "3abe0518",
   "metadata": {},
   "outputs": [],
   "source": [
    "rwm_re_f2_f3['Payout_Status_2'] = rwm_re_f2_f3['OB Date Check']\n",
    "rwm_re_f2_f3['Payout_Status_2'] = rwm_re_f2_f3['Payout_Status_2'].map({True:'Re-onboarded', False:'Not Found', np.nan:'Not Found'})"
   ]
  },
  {
   "cell_type": "code",
   "execution_count": 168,
   "id": "57ceae05",
   "metadata": {},
   "outputs": [],
   "source": [
    "rwm_re_f2_f4 = rwm_re_f2_f3[['sno', 'Payout_Status_2']]"
   ]
  },
  {
   "cell_type": "markdown",
   "id": "4acea0c1",
   "metadata": {},
   "source": [
    "### No Match"
   ]
  },
  {
   "cell_type": "code",
   "execution_count": 169,
   "id": "ad58dd03",
   "metadata": {},
   "outputs": [],
   "source": [
    "rwm_re_f2_f5 = rwm_re_f2[rwm_re_f2['Is In Source?'].isin(['No Match'])]"
   ]
  },
  {
   "cell_type": "code",
   "execution_count": 170,
   "id": "99f4daa5",
   "metadata": {},
   "outputs": [],
   "source": [
    "rwm_re_f2_f5['Payout_Status_3'] = rwm_re_f2_f5['OB Date Check']\n",
    "rwm_re_f2_f5['Payout_Status_3'] = rwm_re_f2_f5['Payout_Status_3'].map({True:'Invalid_NotOnTargetlist', False:'Not Found', np.nan:'Not Found'})"
   ]
  },
  {
   "cell_type": "code",
   "execution_count": 171,
   "id": "d0672533",
   "metadata": {},
   "outputs": [],
   "source": [
    "rwm_re_f2_f6 = rwm_re_f2_f5[['sno', 'Payout_Status_3']]"
   ]
  },
  {
   "cell_type": "markdown",
   "id": "2bccf7c3",
   "metadata": {},
   "source": [
    "### No Match Dynamic"
   ]
  },
  {
   "cell_type": "code",
   "execution_count": 172,
   "id": "011948de",
   "metadata": {},
   "outputs": [],
   "source": [
    "rwm_re_f2_f7 = rwm_re_f2[rwm_re_f2['Is In Source?'].isin(['No Match Dynamic'])]\n",
    "rwm_re_f2_f7['Payout_Status_4'] = rwm_re_f2_f7['OB Date Check']\n",
    "rwm_re_f2_f7['Payout_Status_4'] = rwm_re_f2_f7['Payout_Status_4'].map({True:'Not Found', False:'Not Found', np.nan:'Not Found'})"
   ]
  },
  {
   "cell_type": "code",
   "execution_count": 173,
   "id": "bd873029",
   "metadata": {},
   "outputs": [],
   "source": [
    "rwm_re_f2_f8 = rwm_re_f2_f7[['sno', 'Payout_Status_4']]"
   ]
  },
  {
   "cell_type": "markdown",
   "id": "9452a1f0",
   "metadata": {},
   "source": [
    "### Merging the above criteria in Not Found"
   ]
  },
  {
   "cell_type": "code",
   "execution_count": 174,
   "id": "44572aa8",
   "metadata": {},
   "outputs": [],
   "source": [
    "rwm_re_f2_merge = rwm_re_f2.merge(rwm_re_f2_f2, on='sno', how='left')\n",
    "rwm_re_f2_merge.drop_duplicates(subset=['sno'], inplace=True)\n",
    "rwm_re_f2_merge2 = rwm_re_f2_merge.merge(rwm_re_f2_f4, on='sno', how='left')\n",
    "rwm_re_f2_merge2.drop_duplicates(subset=['sno'], inplace=True)\n",
    "rwm_re_f2_merge3 = rwm_re_f2_merge2.merge(rwm_re_f2_f6, on='sno', how='left')\n",
    "rwm_re_f2_merge3.drop_duplicates(subset=['sno'], inplace=True)\n",
    "rwm_re_f2_merge4 = rwm_re_f2_merge3.merge(rwm_re_f2_f8, on='sno', how='left')\n",
    "rwm_re_f2_merge4.drop_duplicates(subset=['sno'], inplace=True)"
   ]
  },
  {
   "cell_type": "code",
   "execution_count": 175,
   "id": "4ca772ff",
   "metadata": {},
   "outputs": [],
   "source": [
    "rwm_re_f2_merge4['Temp_Payout_Status_2'] = rwm_re_f2_merge4['Payout_Status_1']\n",
    "rwm_re_f2_merge4['Temp_Payout_Status_2'].fillna(rwm_re_f2_merge4['Payout_Status_2'], inplace=True)\n",
    "rwm_re_f2_merge4['Temp_Payout_Status_2'].fillna(rwm_re_f2_merge4['Payout_Status_3'], inplace=True)\n",
    "rwm_re_f2_merge4['Temp_Payout_Status_2'].fillna(rwm_re_f2_merge4['Payout_Status_4'], inplace=True)"
   ]
  },
  {
   "cell_type": "code",
   "execution_count": 176,
   "id": "a575a686",
   "metadata": {},
   "outputs": [],
   "source": [
    "rwm_re_f2_merge4_f = rwm_re_f2_merge4[['sno', 'Temp_Payout_Status_2']]"
   ]
  },
  {
   "cell_type": "code",
   "execution_count": 177,
   "id": "5220ff38",
   "metadata": {},
   "outputs": [],
   "source": [
    "rwm_re_merge = rwm_re.merge(rwm_re_f2_merge4_f, on='sno', how='left')\n",
    "rwm_re_merge.drop_duplicates(subset=['sno'], inplace=True)"
   ]
  },
  {
   "cell_type": "code",
   "execution_count": 178,
   "id": "db045002",
   "metadata": {},
   "outputs": [
    {
     "data": {
      "text/html": [
       "<div>\n",
       "<style scoped>\n",
       "    .dataframe tbody tr th:only-of-type {\n",
       "        vertical-align: middle;\n",
       "    }\n",
       "\n",
       "    .dataframe tbody tr th {\n",
       "        vertical-align: top;\n",
       "    }\n",
       "\n",
       "    .dataframe thead th {\n",
       "        text-align: right;\n",
       "    }\n",
       "</style>\n",
       "<table border=\"1\" class=\"dataframe\">\n",
       "  <thead>\n",
       "    <tr style=\"text-align: right;\">\n",
       "      <th></th>\n",
       "      <th>sno</th>\n",
       "      <th>City</th>\n",
       "      <th>TV City</th>\n",
       "      <th>Merchant ID</th>\n",
       "      <th>StorePhoneNumber</th>\n",
       "      <th>Employee Code</th>\n",
       "      <th>POD ID</th>\n",
       "      <th>MerchantExternalId</th>\n",
       "      <th>Validity</th>\n",
       "      <th>InvalidReasons</th>\n",
       "      <th>...</th>\n",
       "      <th>Source MID Match Check</th>\n",
       "      <th>Ext_ID Dup?</th>\n",
       "      <th>Phone_Dup?</th>\n",
       "      <th>Merchant_ID_Dup</th>\n",
       "      <th>Is in OB CSV file? MID</th>\n",
       "      <th>Is in OB CSV file? MN</th>\n",
       "      <th>OB Date</th>\n",
       "      <th>Data Tag</th>\n",
       "      <th>New_Payout_Status_2</th>\n",
       "      <th>Temp_Payout_Status_2</th>\n",
       "    </tr>\n",
       "  </thead>\n",
       "  <tbody>\n",
       "    <tr>\n",
       "      <th>0</th>\n",
       "      <td>1</td>\n",
       "      <td>Pune</td>\n",
       "      <td>Pune</td>\n",
       "      <td>8252706</td>\n",
       "      <td>9579920335</td>\n",
       "      <td>78442</td>\n",
       "      <td>3115.0</td>\n",
       "      <td>BCR2DN4TQD2OZ3BF</td>\n",
       "      <td>VALID</td>\n",
       "      <td>NaN</td>\n",
       "      <td>...</td>\n",
       "      <td>NaN</td>\n",
       "      <td>1</td>\n",
       "      <td>1</td>\n",
       "      <td>1</td>\n",
       "      <td>No</td>\n",
       "      <td>No</td>\n",
       "      <td>NaN</td>\n",
       "      <td>RWM</td>\n",
       "      <td>Valid</td>\n",
       "      <td>NaN</td>\n",
       "    </tr>\n",
       "  </tbody>\n",
       "</table>\n",
       "<p>1 rows × 37 columns</p>\n",
       "</div>"
      ],
      "text/plain": [
       "  sno  City TV City Merchant ID  StorePhoneNumber  Employee Code  POD ID  \\\n",
       "0   1  Pune    Pune     8252706        9579920335          78442  3115.0   \n",
       "\n",
       "  MerchantExternalId Validity InvalidReasons  ... Source MID Match Check  \\\n",
       "0   BCR2DN4TQD2OZ3BF    VALID            NaN  ...                    NaN   \n",
       "\n",
       "  Ext_ID Dup? Phone_Dup? Merchant_ID_Dup Is in OB CSV file? MID  \\\n",
       "0           1          1               1                     No   \n",
       "\n",
       "  Is in OB CSV file? MN  OB Date Data Tag New_Payout_Status_2  \\\n",
       "0                    No      NaN      RWM               Valid   \n",
       "\n",
       "  Temp_Payout_Status_2  \n",
       "0                  NaN  \n",
       "\n",
       "[1 rows x 37 columns]"
      ]
     },
     "execution_count": 178,
     "metadata": {},
     "output_type": "execute_result"
    }
   ],
   "source": [
    "rwm_re_merge.head(1)"
   ]
  },
  {
   "cell_type": "code",
   "execution_count": 179,
   "id": "0ec05706",
   "metadata": {},
   "outputs": [],
   "source": [
    "rwm_re_merge['New_Payout_Status_2'].fillna(rwm_re_merge['Temp_Payout_Status_2'], inplace=True)\n",
    "rwm_re_merge.drop('Temp_Payout_Status_2', axis=1, inplace=True)"
   ]
  },
  {
   "cell_type": "code",
   "execution_count": 180,
   "id": "740034c7",
   "metadata": {},
   "outputs": [],
   "source": [
    "rwm_re_merge_2 = rwm_re_merge[['sno','City',\t'TV City',\t'Merchant ID',\t'StorePhoneNumber',\t'Employee Code',\t'POD ID',\t'MerchantExternalId',\t'Validity',\n",
    "\t'InvalidReasons',\t'Date',\t'Is in Google Csv File?',\t'Is In Source?',\t'New_Payout_Status_2',\t'Payout Invalid Reason',\t'OB Date Check',\t'Task Count',\t\n",
    "    'CompletedSubTaskTypes',\t'Segment',\t'Ingestion Date',\t'IngestionStatus',\t'Revisit Expire Date',\t'Is in Dynamic Source Visit Date Valid?',\t\n",
    "    'Outcome Status',\t'Is in Previous Month Payout',\t'Is in Previous Month Payout Date',\t'Source MID',\t'Source MID Match Check',\t'Ext_ID Dup?',\t\n",
    "    'Phone_Dup?', \"Merchant_ID_Dup\" ,'Is in OB CSV file? MID',\t'Is in OB CSV file? MN',\t'OB Date',\t'Data Tag']].rename(\n",
    "        columns={'New_Payout_Status_2':'Payout Status'})"
   ]
  },
  {
   "cell_type": "code",
   "execution_count": 181,
   "id": "4dcf393b",
   "metadata": {},
   "outputs": [],
   "source": [
    "rwm_re_merge_2.to_csv(output_loc_final+'Payout_Consolidate.csv', index=False)"
   ]
  },
  {
   "cell_type": "code",
   "execution_count": 182,
   "id": "b82afd9b",
   "metadata": {},
   "outputs": [
    {
     "data": {
      "text/plain": [
       "Valid                         160571\n",
       "Re-onboarded                    8112\n",
       "Not Found                       4985\n",
       "Invalid_NotOnTargetlist         3468\n",
       "Self OB w/Same Ph.              2516\n",
       "Invalid_PhonenumberLookup       1991\n",
       "Invalid_IncompleteSubTasks      1336\n",
       "Already Paid                     793\n",
       "Duplicate Ext_ID                 408\n",
       "Dynamic_Valid                    208\n",
       "Dynamic_Expiry                    40\n",
       "Duplicate Phone_No                 4\n",
       "Name: Payout Status, dtype: int64"
      ]
     },
     "execution_count": 182,
     "metadata": {},
     "output_type": "execute_result"
    }
   ],
   "source": [
    "rwm_re_merge_2['Payout Status'].value_counts()"
   ]
  },
  {
   "cell_type": "code",
   "execution_count": 183,
   "id": "ac8b71ac",
   "metadata": {},
   "outputs": [
    {
     "data": {
      "text/plain": [
       "184432"
      ]
     },
     "execution_count": 183,
     "metadata": {},
     "output_type": "execute_result"
    }
   ],
   "source": [
    "len(rwm_re_merge_2)"
   ]
  }
 ],
 "metadata": {
  "kernelspec": {
   "display_name": "Python 3.10.6 64-bit",
   "language": "python",
   "name": "python3"
  },
  "language_info": {
   "codemirror_mode": {
    "name": "ipython",
    "version": 3
   },
   "file_extension": ".py",
   "mimetype": "text/x-python",
   "name": "python",
   "nbconvert_exporter": "python",
   "pygments_lexer": "ipython3",
   "version": "3.10.6"
  },
  "vscode": {
   "interpreter": {
    "hash": "916dbcbb3f70747c44a77c7bcd40155683ae19c65e1c03b4aa3499c5328201f1"
   }
  }
 },
 "nbformat": 4,
 "nbformat_minor": 5
}
