{
 "cells": [
  {
   "cell_type": "code",
   "execution_count": 4,
   "id": "d46f89ee",
   "metadata": {},
   "outputs": [],
   "source": [
    "import pandas as pd"
   ]
  },
  {
   "cell_type": "code",
   "execution_count": 5,
   "id": "998c94de",
   "metadata": {},
   "outputs": [],
   "source": [
    "input_loc = \"/home/dhrubakumardolai/Desktop/Python Test/Rahul/Script 0 Split the dynamic file/Target/\"\n",
    "output_loc = \"/home/dhrubakumardolai/Desktop/Python Test/Rahul/Script 0 Split the dynamic file/Result/\""
   ]
  },
  {
   "cell_type": "code",
   "execution_count": 6,
   "id": "e9ef3741",
   "metadata": {},
   "outputs": [],
   "source": [
    "file_size = 10000\n",
    "batch_no = 1"
   ]
  },
  {
   "cell_type": "code",
   "execution_count": 8,
   "id": "21d7aa9d",
   "metadata": {},
   "outputs": [],
   "source": [
    "for i in pd.read_csv(input_loc+\"latest_dataset_final.csv\", chunksize=file_size):\n",
    "    i = i[~i['IngestionStatus'].isin(['DELETE', 'EDIT'])]\n",
    "    i = i[i['Status'].isin(['Failed'])]\n",
    "    i.to_csv(output_loc+'Add_failed_file'+str(batch_no)+'.csv', index=False)\n",
    "    batch_no += 1"
   ]
  },
  {
   "cell_type": "code",
   "execution_count": null,
   "id": "ed4a9ff3",
   "metadata": {},
   "outputs": [],
   "source": []
  }
 ],
 "metadata": {
  "kernelspec": {
   "display_name": "Python 3 (ipykernel)",
   "language": "python",
   "name": "python3"
  },
  "language_info": {
   "codemirror_mode": {
    "name": "ipython",
    "version": 3
   },
   "file_extension": ".py",
   "mimetype": "text/x-python",
   "name": "python",
   "nbconvert_exporter": "python",
   "pygments_lexer": "ipython3",
   "version": "3.10.4"
  }
 },
 "nbformat": 4,
 "nbformat_minor": 5
}
