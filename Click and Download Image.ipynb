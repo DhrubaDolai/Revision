{
 "cells": [
  {
   "cell_type": "code",
   "execution_count": 46,
   "id": "7086937a",
   "metadata": {},
   "outputs": [],
   "source": [
    "import pandas as pd\n",
    "import numpy as np\n",
    "import xlsxwriter as xw\n",
    "import re\n",
    "import warnings\n",
    "warnings.filterwarnings('ignore')\n",
    "import openpyxl as op\n",
    "from openpyxl import Workbook, load_workbook\n",
    "from openpyxl.styles import PatternFill, Border, Side, Alignment, Protection, Font\n",
    "import os\n",
    "import glob\n",
    "import requests\n",
    "import datetime\n",
    "from datetime import date"
   ]
  },
  {
   "cell_type": "code",
   "execution_count": 47,
   "id": "32cd8056",
   "metadata": {},
   "outputs": [],
   "source": [
    "Today_date = (date.today()).strftime(\"%d-%b-%Y\")"
   ]
  },
  {
   "cell_type": "code",
   "execution_count": 48,
   "id": "26d5b338",
   "metadata": {},
   "outputs": [],
   "source": [
    "input_loc = \"/home/dhrubakumardolai/Desktop/Python Test/Rahul/Task File Rahul Sir/Click and Download Image/Target/\"\n",
    "output_loc = f\"/home/dhrubakumardolai/Desktop/Python Test/Rahul/Task File Rahul Sir/Click and Download Image/Result/{Today_date}/\""
   ]
  },
  {
   "cell_type": "code",
   "execution_count": 49,
   "id": "0a6a7c0a",
   "metadata": {},
   "outputs": [
    {
     "name": "stdout",
     "output_type": "stream",
     "text": [
      "Path is Available\n"
     ]
    }
   ],
   "source": [
    "if os.path.exists(output_loc):\n",
    "    print(\"Path is Available\")\n",
    "else:\n",
    "    os.makedirs(output_loc)\n",
    "    print(\"Path is Created\")"
   ]
  },
  {
   "cell_type": "code",
   "execution_count": 50,
   "id": "3b6dedca",
   "metadata": {},
   "outputs": [],
   "source": [
    "filelist = glob.glob(output_loc+\"*\", recursive=True)\n",
    "if len(filelist) == 0:\n",
    "    print(\"File is Empty\")\n",
    "else:\n",
    "    for file_path in filelist:\n",
    "        os.remove(file_path)"
   ]
  },
  {
   "cell_type": "code",
   "execution_count": 51,
   "id": "6c2cc530",
   "metadata": {},
   "outputs": [],
   "source": [
    "Target = pd.read_csv(input_loc+\"Target.csv\")"
   ]
  },
  {
   "cell_type": "code",
   "execution_count": 52,
   "id": "71e2b2e4",
   "metadata": {},
   "outputs": [
    {
     "data": {
      "text/html": [
       "<div>\n",
       "<style scoped>\n",
       "    .dataframe tbody tr th:only-of-type {\n",
       "        vertical-align: middle;\n",
       "    }\n",
       "\n",
       "    .dataframe tbody tr th {\n",
       "        vertical-align: top;\n",
       "    }\n",
       "\n",
       "    .dataframe thead th {\n",
       "        text-align: right;\n",
       "    }\n",
       "</style>\n",
       "<table border=\"1\" class=\"dataframe\">\n",
       "  <thead>\n",
       "    <tr style=\"text-align: right;\">\n",
       "      <th></th>\n",
       "      <th>File Name</th>\n",
       "      <th>URL</th>\n",
       "    </tr>\n",
       "  </thead>\n",
       "  <tbody>\n",
       "    <tr>\n",
       "      <th>0</th>\n",
       "      <td>BCR2DN4T7KULN7YT</td>\n",
       "      <td>https://imagev1.fleetrobo.com/App_Images\\FSTSI...</td>\n",
       "    </tr>\n",
       "  </tbody>\n",
       "</table>\n",
       "</div>"
      ],
      "text/plain": [
       "          File Name                                                URL\n",
       "0  BCR2DN4T7KULN7YT  https://imagev1.fleetrobo.com/App_Images\\FSTSI..."
      ]
     },
     "execution_count": 52,
     "metadata": {},
     "output_type": "execute_result"
    }
   ],
   "source": [
    "Target.head(1)"
   ]
  },
  {
   "cell_type": "code",
   "execution_count": 53,
   "id": "439efbb4",
   "metadata": {},
   "outputs": [],
   "source": [
    "Size = len(Target)"
   ]
  },
  {
   "cell_type": "code",
   "execution_count": 54,
   "id": "416293f4",
   "metadata": {},
   "outputs": [],
   "source": [
    "for i in range(Size):\n",
    "    url = Target['URL'].iloc[i]\n",
    "    name = Target['File Name'].iloc[i]\n",
    "    response = requests.get(url, verify=False)\n",
    "    response.raise_for_status()\n",
    "    output_path = os.path.join(output_loc, name)\n",
    "    with open(output_path, \"wb\") as file:\n",
    "        file.write(response.content)"
   ]
  },
  {
   "cell_type": "code",
   "execution_count": null,
   "id": "fd2bf751",
   "metadata": {},
   "outputs": [],
   "source": []
  },
  {
   "cell_type": "code",
   "execution_count": null,
   "id": "5b71dc9f",
   "metadata": {},
   "outputs": [],
   "source": []
  },
  {
   "cell_type": "code",
   "execution_count": null,
   "id": "a5710991",
   "metadata": {},
   "outputs": [],
   "source": []
  }
 ],
 "metadata": {
  "kernelspec": {
   "display_name": "Python 3 (ipykernel)",
   "language": "python",
   "name": "python3"
  },
  "language_info": {
   "codemirror_mode": {
    "name": "ipython",
    "version": 3
   },
   "file_extension": ".py",
   "mimetype": "text/x-python",
   "name": "python",
   "nbconvert_exporter": "python",
   "pygments_lexer": "ipython3",
   "version": "3.10.6"
  }
 },
 "nbformat": 4,
 "nbformat_minor": 5
}
