{
 "cells": [
  {
   "cell_type": "code",
   "execution_count": 1,
   "id": "d46f89ee",
   "metadata": {},
   "outputs": [],
   "source": [
    "import pandas as pd\n",
    "import warnings\n",
    "warnings.filterwarnings('ignore')\n",
    "import numpy as np\n",
    "import xlsxwriter as xw\n",
    "import warnings\n",
    "warnings.filterwarnings('ignore')\n",
    "import openpyxl as op\n",
    "from openpyxl import Workbook, load_workbook\n",
    "from openpyxl.styles import PatternFill, Border, Side, Alignment, Protection, Font, Border, Side"
   ]
  },
  {
   "cell_type": "code",
   "execution_count": 2,
   "id": "998c94de",
   "metadata": {},
   "outputs": [],
   "source": [
    "input_loc = \"/home/dhrubakumardolai/Desktop/Python Test/Rahul/Script 0 Split the dynamic file/Target/\"\n",
    "output_loc = \"/home/dhrubakumardolai/Desktop/Python Test/Rahul/Script 0 Split the dynamic file/Result/\""
   ]
  },
  {
   "cell_type": "code",
   "execution_count": 3,
   "id": "c1d3fe44",
   "metadata": {},
   "outputs": [],
   "source": [
    "result_loc = \"/home/dhrubakumardolai/Desktop/Python Test/Rahul/Script 0 Split the dynamic file/Result/02-Dec-2022/ADD_EDIT/\""
   ]
  },
  {
   "cell_type": "code",
   "execution_count": 4,
   "id": "caaebd3f",
   "metadata": {},
   "outputs": [],
   "source": [
    "result_loc_2 = \"/home/dhrubakumardolai/Desktop/Python Test/Rahul/Script 0 Split the dynamic file/Result/02-Dec-2022/DELETE/\""
   ]
  },
  {
   "cell_type": "code",
   "execution_count": 5,
   "id": "01b74d03",
   "metadata": {},
   "outputs": [],
   "source": [
    "result_loc_3 = \"/home/dhrubakumardolai/Desktop/Python Test/Rahul/Script 0 Split the dynamic file/Result/02-Dec-2022/\""
   ]
  },
  {
   "cell_type": "code",
   "execution_count": 6,
   "id": "e9ef3741",
   "metadata": {},
   "outputs": [],
   "source": [
    "file_size = 24999\n",
    "batch_no_1 = 1\n",
    "batch_no_2 = 1"
   ]
  },
  {
   "cell_type": "code",
   "execution_count": 7,
   "id": "4d7a2691",
   "metadata": {},
   "outputs": [],
   "source": [
    "target = pd.read_csv(input_loc+\"/02-Dec/target.csv\")"
   ]
  },
  {
   "cell_type": "code",
   "execution_count": 8,
   "id": "0da0df20",
   "metadata": {
    "scrolled": false
   },
   "outputs": [
    {
     "data": {
      "text/html": [
       "<div>\n",
       "<style scoped>\n",
       "    .dataframe tbody tr th:only-of-type {\n",
       "        vertical-align: middle;\n",
       "    }\n",
       "\n",
       "    .dataframe tbody tr th {\n",
       "        vertical-align: top;\n",
       "    }\n",
       "\n",
       "    .dataframe thead th {\n",
       "        text-align: right;\n",
       "    }\n",
       "</style>\n",
       "<table border=\"1\" class=\"dataframe\">\n",
       "  <thead>\n",
       "    <tr style=\"text-align: right;\">\n",
       "      <th></th>\n",
       "      <th>MerchantId</th>\n",
       "      <th>Objectives</th>\n",
       "      <th>IngestionStatus</th>\n",
       "      <th>s no</th>\n",
       "      <th>Report Date</th>\n",
       "      <th>reingestion no</th>\n",
       "      <th>Reingestion_original_date</th>\n",
       "    </tr>\n",
       "  </thead>\n",
       "  <tbody>\n",
       "    <tr>\n",
       "      <th>0</th>\n",
       "      <td>BCR2DN6TSP67LXSI</td>\n",
       "      <td>Null</td>\n",
       "      <td>DELETE</td>\n",
       "      <td>2853044</td>\n",
       "      <td>25-Nov-2022</td>\n",
       "      <td>NaN</td>\n",
       "      <td>NaN</td>\n",
       "    </tr>\n",
       "  </tbody>\n",
       "</table>\n",
       "</div>"
      ],
      "text/plain": [
       "         MerchantId Objectives IngestionStatus     s no  Report Date  \\\n",
       "0  BCR2DN6TSP67LXSI       Null          DELETE  2853044  25-Nov-2022   \n",
       "\n",
       "   reingestion no  Reingestion_original_date  \n",
       "0             NaN                        NaN  "
      ]
     },
     "execution_count": 8,
     "metadata": {},
     "output_type": "execute_result"
    }
   ],
   "source": [
    "target.head(1)"
   ]
  },
  {
   "cell_type": "code",
   "execution_count": 9,
   "id": "1138a579",
   "metadata": {},
   "outputs": [],
   "source": [
    "target['New_objective'] = target['Objectives'].str.contains(pat='Inactive')"
   ]
  },
  {
   "cell_type": "code",
   "execution_count": 10,
   "id": "57b5871c",
   "metadata": {},
   "outputs": [],
   "source": [
    "target['New_objective'].fillna(False, inplace=True)"
   ]
  },
  {
   "cell_type": "code",
   "execution_count": 11,
   "id": "944dba8a",
   "metadata": {},
   "outputs": [],
   "source": [
    "target['New_objective'].replace(True, \"Inactive - INR 40 Extra Pay on Txn\", inplace=True)\n",
    "target['New_objective'].replace(False, np.nan, inplace=True)"
   ]
  },
  {
   "cell_type": "code",
   "execution_count": 12,
   "id": "435da9d0",
   "metadata": {},
   "outputs": [],
   "source": [
    "target['New_objective'].fillna(target['Objectives'], inplace=True)"
   ]
  },
  {
   "cell_type": "code",
   "execution_count": 13,
   "id": "b7551473",
   "metadata": {},
   "outputs": [],
   "source": [
    "target.drop(['Objectives'],axis=1, inplace=True)"
   ]
  },
  {
   "cell_type": "code",
   "execution_count": 14,
   "id": "5eb9e0db",
   "metadata": {},
   "outputs": [],
   "source": [
    "target.rename(columns={'New_objective':'Objectives'}, inplace=True)"
   ]
  },
  {
   "cell_type": "code",
   "execution_count": 17,
   "id": "b9bcdcf5",
   "metadata": {},
   "outputs": [],
   "source": [
    "target[[\"MerchantId\", 'Objectives', 'IngestionStatus', 'reingestion no',\n",
    "'s no', 'Reingestion_original_date']].to_csv(output_loc+\"Ingestion_objective_change.csv\", index=False)"
   ]
  },
  {
   "cell_type": "code",
   "execution_count": 18,
   "id": "77f3b5c1",
   "metadata": {},
   "outputs": [],
   "source": [
    "target_2 = target[[\"MerchantId\", 'Objectives', 'IngestionStatus', \n",
    "        's no']]"
   ]
  },
  {
   "cell_type": "code",
   "execution_count": 19,
   "id": "ad3e1dff",
   "metadata": {},
   "outputs": [],
   "source": [
    "target = target_2"
   ]
  },
  {
   "cell_type": "code",
   "execution_count": 20,
   "id": "f154d488",
   "metadata": {
    "scrolled": true
   },
   "outputs": [
    {
     "data": {
      "text/plain": [
       "(281514, 4)"
      ]
     },
     "execution_count": 20,
     "metadata": {},
     "output_type": "execute_result"
    }
   ],
   "source": [
    "target.shape"
   ]
  },
  {
   "cell_type": "code",
   "execution_count": 21,
   "id": "75193f3c",
   "metadata": {
    "scrolled": true
   },
   "outputs": [
    {
     "data": {
      "text/plain": [
       "ADD       144862\n",
       "DELETE     84442\n",
       "EDIT       52210\n",
       "Name: IngestionStatus, dtype: int64"
      ]
     },
     "execution_count": 21,
     "metadata": {},
     "output_type": "execute_result"
    }
   ],
   "source": [
    "target['IngestionStatus'].value_counts()"
   ]
  },
  {
   "cell_type": "code",
   "execution_count": 22,
   "id": "77f40c3b",
   "metadata": {},
   "outputs": [
    {
     "data": {
      "text/plain": [
       "array(['DELETE', 'ADD', 'EDIT'], dtype=object)"
      ]
     },
     "execution_count": 22,
     "metadata": {},
     "output_type": "execute_result"
    }
   ],
   "source": [
    "target['IngestionStatus'].unique()"
   ]
  },
  {
   "cell_type": "code",
   "execution_count": 23,
   "id": "246b9d1b",
   "metadata": {},
   "outputs": [],
   "source": [
    "target_f_d = target[target['IngestionStatus'].isin(['DELETE'])]"
   ]
  },
  {
   "cell_type": "code",
   "execution_count": 24,
   "id": "62b03c55",
   "metadata": {},
   "outputs": [],
   "source": [
    "target_f_d.to_csv(output_loc+\"Split/Delete.csv\", index=False)"
   ]
  },
  {
   "cell_type": "code",
   "execution_count": 25,
   "id": "3bb45316",
   "metadata": {},
   "outputs": [],
   "source": [
    "target_f_A_E = target[target['IngestionStatus'].isin(['ADD', 'EDIT'])]"
   ]
  },
  {
   "cell_type": "code",
   "execution_count": 26,
   "id": "381f4f48",
   "metadata": {},
   "outputs": [],
   "source": [
    "target_f_A_E.to_csv(output_loc+\"Split/Add_Edit.csv\", index=False)"
   ]
  },
  {
   "cell_type": "code",
   "execution_count": 27,
   "id": "21d7aa9d",
   "metadata": {},
   "outputs": [],
   "source": [
    "for i in pd.read_csv(output_loc+\"/Split/Add_Edit.csv\", chunksize=file_size):\n",
    "    i = i[~i['IngestionStatus'].isin(['DELETE'])]\n",
    "    i.to_csv(result_loc+'ADD_EDIT'+str(batch_no_1)+'.csv', index=False)\n",
    "    batch_no_1 += 1"
   ]
  },
  {
   "cell_type": "code",
   "execution_count": 28,
   "id": "ab8174e8",
   "metadata": {},
   "outputs": [],
   "source": [
    "for j in pd.read_csv(output_loc+\"/Split/Delete.csv\", chunksize=file_size):\n",
    "    j = j[j['IngestionStatus'].isin(['DELETE'])]\n",
    "    j.to_csv(result_loc_2+'Delete'+str(batch_no_2)+'.csv', index=False)\n",
    "    batch_no_2 += 1"
   ]
  },
  {
   "cell_type": "code",
   "execution_count": 29,
   "id": "898950d6",
   "metadata": {},
   "outputs": [],
   "source": [
    "batch_no_3 = 1\n",
    "batch_no_4 = 1\n",
    "batch_no_5 = 1"
   ]
  },
  {
   "cell_type": "code",
   "execution_count": 30,
   "id": "3e6387b4",
   "metadata": {},
   "outputs": [],
   "source": [
    "# Delete Format\n",
    "for i in pd.read_csv(output_loc+\"/Split/Delete.csv\", chunksize=file_size):\n",
    "    i = i[i['IngestionStatus'].isin(['DELETE'])]\n",
    "    i['Merchant ID'] = np.nan\n",
    "    i.rename(columns={\"MerchantId\":'Merchant Ext.ID'}, inplace=True)\n",
    "    i[['Merchant ID','Merchant Ext.ID']].to_excel(result_loc_3+'Delete_format/Delete_format'+str(batch_no_3)+'.xlsx', index=False)\n",
    "    batch_no_3 += 1"
   ]
  },
  {
   "cell_type": "code",
   "execution_count": 31,
   "id": "8b5e32b6",
   "metadata": {},
   "outputs": [],
   "source": [
    "# Adhoc Format\n",
    "for i in pd.read_csv(output_loc+\"/Split/Add_Edit.csv\", chunksize=file_size):\n",
    "    i = i[~i['IngestionStatus'].isin(['DELETE'])]\n",
    "    i[\"Alternate Mobile\"] = np.nan\n",
    "    i.rename(columns={\"MerchantId\":'Merchant Ext.ID', \"Objectives\":'Eligibility'}, inplace=True)\n",
    "    i[[\"Merchant Ext.ID\", \"Alternate Mobile\", \n",
    "       \"Eligibility\"]].to_excel(result_loc_3+'AdHOC_format/AdHOC_format'+str(batch_no_4)+'.xlsx', index=False)\n",
    "    batch_no_4 += 1"
   ]
  },
  {
   "cell_type": "code",
   "execution_count": 32,
   "id": "d530b0da",
   "metadata": {},
   "outputs": [],
   "source": [
    "# Optional Format\n",
    "for i in pd.read_csv(output_loc+\"/Split/Add_Edit.csv\", chunksize=file_size):\n",
    "    i = i[~i['IngestionStatus'].isin(['DELETE'])]\n",
    "    i.rename(columns={\"MerchantId\":'Merchant Ext.ID'}, inplace=True)\n",
    "    i[\"Name\"] = np.nan\n",
    "    i[\"Last Transaction date\"] = np.nan\n",
    "    i[\"Phone Number\"] = np.nan\n",
    "    i[\"Address\"] = np.nan\n",
    "    i[\"Pincode\"] = np.nan\n",
    "    i[\"Latitude\"] = np.nan\n",
    "    i[\"Longitude\"] = np.nan\n",
    "    i[\"District\"] = np.nan\n",
    "    i[\"Polygon Name\"] = np.nan\n",
    "    i[\"Created By ID\"] = np.nan\n",
    "    i[\"Gpay OB E-mail\"] = np.nan\n",
    "    i[\"Merchant Health\"] = np.nan\n",
    "    i[[\"Merchant Ext.ID\", 'Name', 'Phone Number', 'Address', 'Pincode', 'Latitude',\n",
    "      'Longitude', 'District', 'Polygon Name', 'Created By ID', 'Last Transaction date',\n",
    "      'Gpay OB E-mail', 'Merchant Health']].to_excel(result_loc_3+'Optional_format/Optional_format'+str(batch_no_5)+'.xlsx', index=False)\n",
    "    batch_no_5 += 1"
   ]
  }
 ],
 "metadata": {
  "kernelspec": {
   "display_name": "Python 3 (ipykernel)",
   "language": "python",
   "name": "python3"
  },
  "language_info": {
   "codemirror_mode": {
    "name": "ipython",
    "version": 3
   },
   "file_extension": ".py",
   "mimetype": "text/x-python",
   "name": "python",
   "nbconvert_exporter": "python",
   "pygments_lexer": "ipython3",
   "version": "3.10.6"
  }
 },
 "nbformat": 4,
 "nbformat_minor": 5
}
