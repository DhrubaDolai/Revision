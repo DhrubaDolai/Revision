{
 "cells": [
  {
   "cell_type": "code",
   "execution_count": 1,
   "id": "7086937a",
   "metadata": {},
   "outputs": [],
   "source": [
    "import pandas as pd\n",
    "import numpy as np\n",
    "import xlsxwriter as xw\n",
    "import re\n",
    "import warnings\n",
    "warnings.filterwarnings('ignore')\n",
    "import openpyxl as op\n",
    "from openpyxl import Workbook, load_workbook\n",
    "from openpyxl.styles import PatternFill, Border, Side, Alignment, Protection, Font\n",
    "import os\n",
    "import glob"
   ]
  },
  {
   "cell_type": "code",
   "execution_count": 2,
   "id": "877e2e45",
   "metadata": {},
   "outputs": [],
   "source": [
    "Year = \"2023\"\n",
    "Month = \"Jul\"\n",
    "Month_n = \"07\"\n",
    "Date_n_ob_no_change = \"32\""
   ]
  },
  {
   "cell_type": "code",
   "execution_count": 3,
   "id": "1ff3b09f",
   "metadata": {},
   "outputs": [],
   "source": [
    "filter_range = ['18-Jul-2023', '19-Jul-2023']\n",
    "filter_form = ['Form Visit', 'Form OB', 'Form', 'Form Team View']"
   ]
  },
  {
   "cell_type": "code",
   "execution_count": 4,
   "id": "825f2788",
   "metadata": {},
   "outputs": [],
   "source": [
    "input_loc = f\"/home/dhrubakumardolai/Desktop/Python Test/Result/Revisit File/{Year}/{Month}/Form/RWM/Consolidated/\"\n",
    "output_loc = \"/home/dhrubakumardolai/Desktop/Python Test/Rahul/Payout Remarks/Result/\"\n",
    "input_loc_ob = f\"/home/dhrubakumardolai/Desktop/Python Test/Rahul/Is in OB?/Target/latest ob/{Year}/{Month}/\"\n",
    "input_loc_ob_google = f\"/home/dhrubakumardolai/Desktop/Python Test/Revisit File/Google Revisit/{Year}/{Month_n}/\"\n",
    "input_loc_ob_rwm = f\"/home/dhrubakumardolai/Desktop/Python Test/Revisit File/OB/{Year}/{Month}/{Date_n_ob_no_change}/\""
   ]
  },
  {
   "cell_type": "code",
   "execution_count": 5,
   "id": "e6bbafa5",
   "metadata": {},
   "outputs": [],
   "source": [
    "def fill_task(row2):\n",
    "    if row2['Is in Google Daily File?'] == \"Yes\" and row2['CompletedSubTaskTypes'] is np.nan:\n",
    "        return 0\n",
    "    else:\n",
    "        return row2['Task Count']"
   ]
  },
  {
   "cell_type": "code",
   "execution_count": 6,
   "id": "1b4b5468",
   "metadata": {},
   "outputs": [],
   "source": [
    "def Check_False(row3):\n",
    "    if row3['Previous MID'] is np.nan:\n",
    "        return np.nan\n",
    "    elif row3['Previous MID'] != row3['MerchantExternalId']:\n",
    "        return False\n",
    "    elif row3['Previous MID'] == row3['MerchantExternalId']:\n",
    "        return True\n",
    "    else:\n",
    "        return np.nan"
   ]
  },
  {
   "cell_type": "code",
   "execution_count": 7,
   "id": "a2c59154",
   "metadata": {},
   "outputs": [],
   "source": [
    "def left_join_date_wise(left_table, left_date, right_table, right_date,\n",
    " common_col, merge_table_name, new_column_name, Date, Primary_key):\n",
    "    merge_table_name = pd.DataFrame()\n",
    "    for i in Date:\n",
    "        t = left_table[left_table[left_date].isin([i])]\n",
    "        m = right_table[right_table[right_date].isin([i])]\n",
    "        t_merge = t.merge(m, on = common_col, how=\"left\", indicator=True)\n",
    "        t_merge.drop_duplicates(subset=[Primary_key], inplace=True)\n",
    "        t_merge.rename(columns={'_merge':new_column_name}, inplace=True)\n",
    "        t_merge[new_column_name].replace('left_only', \"No\", inplace=True)\n",
    "        t_merge[new_column_name].replace('both', \"Yes\", inplace=True)\n",
    "        merge_table_name = merge_table_name.append(t_merge)\n",
    "    return merge_table_name"
   ]
  },
  {
   "cell_type": "code",
   "execution_count": 8,
   "id": "00bb0544",
   "metadata": {},
   "outputs": [],
   "source": [
    "filelist = glob.glob(input_loc+\"/*.csv\", recursive=True)"
   ]
  },
  {
   "cell_type": "code",
   "execution_count": 9,
   "id": "283bbee3",
   "metadata": {},
   "outputs": [],
   "source": [
    "target = pd.DataFrame()\n",
    "for i in filelist:\n",
    "    df = pd.read_csv(i)\n",
    "    target = target.append(df)"
   ]
  },
  {
   "cell_type": "code",
   "execution_count": 10,
   "id": "ab65fcb5",
   "metadata": {},
   "outputs": [
    {
     "data": {
      "text/html": [
       "<div>\n",
       "<style scoped>\n",
       "    .dataframe tbody tr th:only-of-type {\n",
       "        vertical-align: middle;\n",
       "    }\n",
       "\n",
       "    .dataframe tbody tr th {\n",
       "        vertical-align: top;\n",
       "    }\n",
       "\n",
       "    .dataframe thead th {\n",
       "        text-align: right;\n",
       "    }\n",
       "</style>\n",
       "<table border=\"1\" class=\"dataframe\">\n",
       "  <thead>\n",
       "    <tr style=\"text-align: right;\">\n",
       "      <th></th>\n",
       "      <th>City Name</th>\n",
       "      <th>Merchant ID</th>\n",
       "      <th>Merchant Name</th>\n",
       "      <th>Visit Count</th>\n",
       "      <th>Business Category</th>\n",
       "      <th>Owner Mobile No.</th>\n",
       "      <th>Follow Up Date</th>\n",
       "      <th>PIN Code</th>\n",
       "      <th>On Boarding Date</th>\n",
       "      <th>On Boarding Time</th>\n",
       "      <th>...</th>\n",
       "      <th>Revisit Expire Date</th>\n",
       "      <th>Source_MID</th>\n",
       "      <th>Hustle Task Completion Image</th>\n",
       "      <th>Data Tag</th>\n",
       "      <th>Unnamed: 33</th>\n",
       "      <th>sno</th>\n",
       "      <th>Dup_MerchantID</th>\n",
       "      <th>Report_Date</th>\n",
       "      <th>Revisit_Date</th>\n",
       "      <th>Dup</th>\n",
       "    </tr>\n",
       "  </thead>\n",
       "  <tbody>\n",
       "    <tr>\n",
       "      <th>0</th>\n",
       "      <td>Bardhaman</td>\n",
       "      <td>9518165.0</td>\n",
       "      <td>KALIMATA MOBILE SERVICE CENTER</td>\n",
       "      <td>2.0</td>\n",
       "      <td>Service</td>\n",
       "      <td>9641025856</td>\n",
       "      <td>NaN</td>\n",
       "      <td>713502.0</td>\n",
       "      <td>Jun-27-2023</td>\n",
       "      <td>10:49:01</td>\n",
       "      <td>...</td>\n",
       "      <td>NaN</td>\n",
       "      <td>NaN</td>\n",
       "      <td>http://imagev1.fleetrobo.com/App_Images/FSTSIm...</td>\n",
       "      <td>RWM</td>\n",
       "      <td>NaN</td>\n",
       "      <td>100001</td>\n",
       "      <td>NaN</td>\n",
       "      <td>NaN</td>\n",
       "      <td>NaN</td>\n",
       "      <td>NaN</td>\n",
       "    </tr>\n",
       "  </tbody>\n",
       "</table>\n",
       "<p>1 rows × 69 columns</p>\n",
       "</div>"
      ],
      "text/plain": [
       "   City Name  Merchant ID                   Merchant Name  Visit Count  \\\n",
       "0  Bardhaman    9518165.0  KALIMATA MOBILE SERVICE CENTER          2.0   \n",
       "\n",
       "  Business Category  Owner Mobile No.  Follow Up Date  PIN Code  \\\n",
       "0           Service        9641025856             NaN  713502.0   \n",
       "\n",
       "  On Boarding Date On Boarding Time  ...  Revisit Expire Date Source_MID  \\\n",
       "0      Jun-27-2023         10:49:01  ...                  NaN        NaN   \n",
       "\n",
       "                        Hustle Task Completion Image Data Tag Unnamed: 33  \\\n",
       "0  http://imagev1.fleetrobo.com/App_Images/FSTSIm...      RWM         NaN   \n",
       "\n",
       "      sno Dup_MerchantID Report_Date Revisit_Date Dup  \n",
       "0  100001            NaN         NaN          NaN NaN  \n",
       "\n",
       "[1 rows x 69 columns]"
      ]
     },
     "execution_count": 10,
     "metadata": {},
     "output_type": "execute_result"
    }
   ],
   "source": [
    "target.head(1)"
   ]
  },
  {
   "cell_type": "code",
   "execution_count": 11,
   "id": "3118c468",
   "metadata": {},
   "outputs": [
    {
     "data": {
      "text/plain": [
       "97708"
      ]
     },
     "execution_count": 11,
     "metadata": {},
     "output_type": "execute_result"
    }
   ],
   "source": [
    "len(target)"
   ]
  },
  {
   "cell_type": "code",
   "execution_count": 12,
   "id": "a81b7cea",
   "metadata": {},
   "outputs": [],
   "source": [
    "target_f = target[['City Name','Merchant ID','Merchant Name','Visit Count','Business Category','Owner Mobile No.','PIN Code','On Boarding Date','On Boarding Time',\n",
    "'On-Boarded Employee Code','Visit By','Employee Code','Role Name','POD Name','POD ID','Employment Type','Revisit Date','Revisit Time','Team Lead Name',\n",
    "'Remarks','Visit Status','Reason for not Accepting Payments using G-Pay','New Collateral Given : QR Code label','New Collateral Given : G-Pay Accepted Sticker',\n",
    "'New Collateral Given : Dangler','QR Code String','Not Interested in Gpay Reasons','Created By','Created Name','Created Date','Merchant Ext ID',\n",
    "'Is in Google Daily File?','CompletedSubTaskTypes','Task Count','Is in Source File?_x','Validity','Invalid Reason','Segment','Source_MID','Hustle Task Completion Image',\n",
    "'Data Tag']].rename(columns={'Is in Source File?_x':'Is in Source File?', 'Source_MID':'Previous MID', 'Data Tag':'Source Data picekd from?', \n",
    "                                                 'Hustle Task Completion Image':'Hustle_Completion_Image'})"
   ]
  },
  {
   "cell_type": "code",
   "execution_count": 13,
   "id": "31da4d51",
   "metadata": {},
   "outputs": [],
   "source": [
    "target_f2 = target_f[target_f['Validity'].isin(['INVALID', np.nan])]"
   ]
  },
  {
   "cell_type": "code",
   "execution_count": 14,
   "id": "06163643",
   "metadata": {},
   "outputs": [],
   "source": [
    "target = target_f2"
   ]
  },
  {
   "cell_type": "code",
   "execution_count": 15,
   "id": "2f110602",
   "metadata": {},
   "outputs": [],
   "source": [
    "target['Primary_key'] = range(1,(len(target)+1))"
   ]
  },
  {
   "cell_type": "code",
   "execution_count": 16,
   "id": "844d62a4",
   "metadata": {},
   "outputs": [],
   "source": [
    "filelist = glob.glob(input_loc_ob+\"/*.csv\", recursive=True)"
   ]
  },
  {
   "cell_type": "code",
   "execution_count": 17,
   "id": "1df03a2f",
   "metadata": {},
   "outputs": [],
   "source": [
    "ob_con = pd.DataFrame()\n",
    "for i in filelist:\n",
    "    df = pd.read_csv(i)\n",
    "    ob_con = ob_con.append(df)"
   ]
  },
  {
   "cell_type": "code",
   "execution_count": 18,
   "id": "f304060c",
   "metadata": {},
   "outputs": [],
   "source": [
    "ob_con['VerificationTimestamp'] = pd.to_datetime(ob_con['VerificationTimestamp'])\n",
    "ob_con['VerificationTimestamp'] = ob_con['VerificationTimestamp'].dt.strftime('%d-%b-%Y')"
   ]
  },
  {
   "cell_type": "code",
   "execution_count": 19,
   "id": "0d3dc0c1",
   "metadata": {},
   "outputs": [],
   "source": [
    "ob_con_f = ob_con[ob_con['VerificationTimestamp'].str.contains(f\"{Month}\")]"
   ]
  },
  {
   "cell_type": "code",
   "execution_count": 20,
   "id": "1ff27a05",
   "metadata": {},
   "outputs": [],
   "source": [
    "ob_con_f2 = ob_con_f[['MerchantExternalId', 'VerificationTimestamp']]"
   ]
  },
  {
   "cell_type": "code",
   "execution_count": 21,
   "id": "7ade1df2",
   "metadata": {},
   "outputs": [],
   "source": [
    "target.rename(columns={'Merchant Ext ID':'MerchantExternalId'}, inplace=True)"
   ]
  },
  {
   "cell_type": "code",
   "execution_count": 22,
   "id": "ac931750",
   "metadata": {},
   "outputs": [],
   "source": [
    "target['Revisit Date'] = pd.to_datetime(target['Revisit Date'])\n",
    "target['Revisit Date'] = target['Revisit Date'].dt.strftime(\"%d-%b-%Y\")\n",
    "Date = target['Revisit Date'].unique()"
   ]
  },
  {
   "cell_type": "code",
   "execution_count": 23,
   "id": "41933f10",
   "metadata": {},
   "outputs": [],
   "source": [
    "target_2 = pd.DataFrame()\n",
    "for i in Date:\n",
    "    t = target[target['Revisit Date'].isin([i])]\n",
    "    m = ob_con_f2[ob_con_f2['VerificationTimestamp'].isin([i])]\n",
    "    t_merge = t.merge(m, on='MerchantExternalId', how=\"left\", indicator=True)\n",
    "    t_merge.drop_duplicates(subset=['Primary_key'], inplace=True)\n",
    "    t_merge.rename(columns={'_merge':'Present in Google Invalid?_2'}, inplace=True)\n",
    "    t_merge['Present in Google Invalid?_2'].replace('left_only', np.nan, inplace=True)\n",
    "    t_merge['Present in Google Invalid?_2'].replace('both', \"Yes\", inplace=True)\n",
    "    target_2 = target_2.append(t_merge)"
   ]
  },
  {
   "attachments": {},
   "cell_type": "markdown",
   "id": "2a9f26e8",
   "metadata": {},
   "source": [
    "# OB_Google_Invalid Mapping for Date and Validity"
   ]
  },
  {
   "cell_type": "code",
   "execution_count": 24,
   "id": "19a4a340",
   "metadata": {},
   "outputs": [],
   "source": [
    "filelist = glob.glob(input_loc_ob_google+\"**/*/onboardings/data-00000-of-00001.csv\", recursive = True)"
   ]
  },
  {
   "cell_type": "code",
   "execution_count": 25,
   "id": "282d3a60",
   "metadata": {},
   "outputs": [],
   "source": [
    "google_csv_ob = pd.DataFrame()\n",
    "\n",
    "for file in filelist:\n",
    "    if file.endswith(\".csv\"):\n",
    "        df = pd.read_csv(file)\n",
    "        google_csv_ob = google_csv_ob.append(df)"
   ]
  },
  {
   "cell_type": "code",
   "execution_count": 26,
   "id": "13061f47",
   "metadata": {},
   "outputs": [],
   "source": [
    "google_csv_ob['VerificationTimestamp'] = pd.to_datetime(google_csv_ob['VerificationTimestamp'])\n",
    "google_csv_ob['VerificationTimestamp'] = google_csv_ob['VerificationTimestamp'].dt.strftime('%d-%b-%Y')"
   ]
  },
  {
   "cell_type": "code",
   "execution_count": 27,
   "id": "54448ad1",
   "metadata": {},
   "outputs": [],
   "source": [
    "google_csv_ob_f = google_csv_ob[google_csv_ob['VerificationTimestamp'].str.contains(f\"{Month}\")]"
   ]
  },
  {
   "cell_type": "code",
   "execution_count": 28,
   "id": "18167ba7",
   "metadata": {},
   "outputs": [],
   "source": [
    "google_csv_ob_f2 = google_csv_ob_f[['MerchantExternalId', 'VerificationTimestamp', 'Validity']].rename(\n",
    "    columns={'Validity':'Validity_google_ob'})"
   ]
  },
  {
   "cell_type": "code",
   "execution_count": 29,
   "id": "0a24f2bd",
   "metadata": {},
   "outputs": [],
   "source": [
    "target_3 = pd.DataFrame()\n",
    "for i in Date:\n",
    "    t = target_2[target_2['Revisit Date'].isin([i])]\n",
    "    m = google_csv_ob_f2[google_csv_ob_f2['VerificationTimestamp'].isin([i])]\n",
    "    t_merge = t.merge(m, on='MerchantExternalId', how=\"left\", indicator=True)\n",
    "    t_merge.drop_duplicates(subset=['Primary_key'], inplace=True)\n",
    "    t_merge.rename(columns={'_merge':'Is_in_OB_Google_CSV_file'}, inplace=True)\n",
    "    t_merge['Is_in_OB_Google_CSV_file'].replace('left_only', \"No\", inplace=True)\n",
    "    t_merge['Is_in_OB_Google_CSV_file'].replace('both', \"Yes\", inplace=True)\n",
    "    target_3 = target_3.append(t_merge)"
   ]
  },
  {
   "cell_type": "code",
   "execution_count": 30,
   "id": "764fc3cb",
   "metadata": {},
   "outputs": [],
   "source": [
    "target_3['VerificationTimestamp_x'].fillna(target_3['VerificationTimestamp_y'], inplace=True)\n",
    "target_3.drop(['VerificationTimestamp_y'], axis=1, inplace=True)"
   ]
  },
  {
   "cell_type": "code",
   "execution_count": 31,
   "id": "0e8e2487",
   "metadata": {},
   "outputs": [],
   "source": [
    "target_3.rename(columns={'VerificationTimestamp_x':'VerificationTimestamp'}, inplace=True)"
   ]
  },
  {
   "cell_type": "code",
   "execution_count": 32,
   "id": "ba920de8",
   "metadata": {},
   "outputs": [],
   "source": [
    "target_3.rename(columns={\"VerificationTimestamp\":'Valid_OB_Date'}, inplace=True)"
   ]
  },
  {
   "cell_type": "code",
   "execution_count": 33,
   "id": "f126c5d3",
   "metadata": {},
   "outputs": [
    {
     "data": {
      "text/plain": [
       "array([nan, '01-Jul-2023', '02-Jul-2023', '03-Jul-2023', '04-Jul-2023',\n",
       "       '05-Jul-2023', '06-Jul-2023', '07-Jul-2023', '08-Jul-2023',\n",
       "       '09-Jul-2023', '10-Jul-2023', '11-Jul-2023', '12-Jul-2023',\n",
       "       '13-Jul-2023', '14-Jul-2023', '15-Jul-2023', '16-Jul-2023',\n",
       "       '17-Jul-2023'], dtype=object)"
      ]
     },
     "execution_count": 33,
     "metadata": {},
     "output_type": "execute_result"
    }
   ],
   "source": [
    "target_3['Valid_OB_Date'].unique()"
   ]
  },
  {
   "cell_type": "code",
   "execution_count": 34,
   "id": "702da3bd",
   "metadata": {},
   "outputs": [],
   "source": [
    "#target_3[\"Onboarding Date from google invalid\"].unique()"
   ]
  },
  {
   "cell_type": "code",
   "execution_count": 35,
   "id": "d3f9e442",
   "metadata": {},
   "outputs": [],
   "source": [
    "target_3.rename(columns={\"Validity_google_ob_y\":'Validity_google_ob'}, inplace=True)"
   ]
  },
  {
   "cell_type": "code",
   "execution_count": 36,
   "id": "e844271b",
   "metadata": {},
   "outputs": [],
   "source": [
    "target_3['Validity_google_ob'].fillna(target_3['Present in Google Invalid?_2'], inplace=True)\n",
    "target_3['Validity_google_ob'].replace(\"Yes\", \"INVALID\", inplace=True)"
   ]
  },
  {
   "cell_type": "code",
   "execution_count": 37,
   "id": "15776bd7",
   "metadata": {},
   "outputs": [
    {
     "data": {
      "text/plain": [
       "array([nan, ' INVALID', 'VALID ', 'INVALID'], dtype=object)"
      ]
     },
     "execution_count": 37,
     "metadata": {},
     "output_type": "execute_result"
    }
   ],
   "source": [
    "target_3['Validity_google_ob'].unique()"
   ]
  },
  {
   "cell_type": "code",
   "execution_count": 38,
   "id": "db0496fa",
   "metadata": {},
   "outputs": [],
   "source": [
    "target_3['Validity_google_ob'] = target_3['Validity_google_ob'].str.replace(\" \", \"\")"
   ]
  },
  {
   "cell_type": "code",
   "execution_count": 39,
   "id": "08e95f9f",
   "metadata": {},
   "outputs": [],
   "source": [
    "target_2 = target_3"
   ]
  },
  {
   "cell_type": "code",
   "execution_count": 40,
   "id": "1090e4c3",
   "metadata": {},
   "outputs": [],
   "source": [
    "target_2.rename(columns={'Present in Google Invalid?_2':'Present in Google Invalid?','Valid_OB_Date':'Onboarding Date from google invalid'}, inplace=True)"
   ]
  },
  {
   "cell_type": "code",
   "execution_count": 41,
   "id": "0a360436",
   "metadata": {},
   "outputs": [],
   "source": [
    "target_2['MerchantExternalId'].replace('Empty', np.nan, inplace=True)"
   ]
  },
  {
   "cell_type": "code",
   "execution_count": 42,
   "id": "110ea443",
   "metadata": {},
   "outputs": [],
   "source": [
    "target_2.sort_values(by=['Revisit Date'], inplace=True)\n",
    "target_2['Dup_Check'] = target_2.groupby('MerchantExternalId')['MerchantExternalId'].rank(method='first')\n",
    "target_2['Dup_Check'].replace(np.nan, 0, inplace=True)"
   ]
  },
  {
   "cell_type": "code",
   "execution_count": 43,
   "id": "547a8d07",
   "metadata": {},
   "outputs": [],
   "source": [
    "target_2.rename(columns={'Dup_Check':'Dup Check MID'}, inplace=True)"
   ]
  },
  {
   "cell_type": "code",
   "execution_count": 44,
   "id": "3c5658a5",
   "metadata": {},
   "outputs": [
    {
     "data": {
      "text/plain": [
       "array([1., 2., 3.])"
      ]
     },
     "execution_count": 44,
     "metadata": {},
     "output_type": "execute_result"
    }
   ],
   "source": [
    "target_2['Dup Check MID'].unique()"
   ]
  },
  {
   "cell_type": "code",
   "execution_count": 45,
   "id": "27a5259c",
   "metadata": {},
   "outputs": [],
   "source": [
    "target_3 = target_2[~target_2['Revisit Date'].isin([np.nan])]"
   ]
  },
  {
   "cell_type": "code",
   "execution_count": 46,
   "id": "e4a00eb4",
   "metadata": {},
   "outputs": [],
   "source": [
    "target_3['Task Count_2'] = target_3.apply(fill_task, axis=1)\n",
    "target_3.drop(['Task Count'], axis=1, inplace=True)\n",
    "target_3.rename(columns={'Task Count_2':'Task Count'}, inplace=True)"
   ]
  },
  {
   "cell_type": "code",
   "execution_count": 47,
   "id": "58fd06b2",
   "metadata": {},
   "outputs": [],
   "source": [
    "target_3['Invalid_PhonenumberLookup'] = target_3['Invalid Reason'].str.contains('Invalid_PhonenumberLookup', na=False)\n",
    "target_3['Invalid_NotOnTargetlist'] = target_3['Invalid Reason'].str.contains('Invalid_NotOnTargetlist', na=False)"
   ]
  },
  {
   "cell_type": "code",
   "execution_count": 48,
   "id": "32842f44",
   "metadata": {},
   "outputs": [
    {
     "data": {
      "text/plain": [
       "array([nan, 'INVALID', 'VALID'], dtype=object)"
      ]
     },
     "execution_count": 48,
     "metadata": {},
     "output_type": "execute_result"
    }
   ],
   "source": [
    "target_3['Validity_google_ob'].unique()"
   ]
  },
  {
   "cell_type": "code",
   "execution_count": 49,
   "id": "b1a6853c",
   "metadata": {},
   "outputs": [],
   "source": [
    "target_3['Validity_google_ob'] = target_3['Validity_google_ob'].str.replace(\" \", \"\", regex=True)"
   ]
  },
  {
   "cell_type": "code",
   "execution_count": 50,
   "id": "2371c914",
   "metadata": {},
   "outputs": [],
   "source": [
    "#target_3['Present in Google Invalid?'].fillna(target_3['Validity_google_ob'], inplace=True)\n",
    "#target_3['Present in Google Invalid?'].replace('INVALID', \"Yes\", inplace=True)\n",
    "#target_3['Present in Google Invalid?'].replace('VALID', \"Yes\", inplace=True) "
   ]
  },
  {
   "attachments": {},
   "cell_type": "markdown",
   "id": "d4547edd",
   "metadata": {},
   "source": [
    "# RWM OB Date and Validity Remarks"
   ]
  },
  {
   "cell_type": "code",
   "execution_count": 51,
   "id": "90817ae1",
   "metadata": {},
   "outputs": [],
   "source": [
    "rwm_ob_validity = pd.read_csv(input_loc_ob_rwm+\"Is Suspicious_Updated.csv\")"
   ]
  },
  {
   "cell_type": "code",
   "execution_count": 52,
   "id": "c84628dd",
   "metadata": {},
   "outputs": [
    {
     "data": {
      "text/html": [
       "<div>\n",
       "<style scoped>\n",
       "    .dataframe tbody tr th:only-of-type {\n",
       "        vertical-align: middle;\n",
       "    }\n",
       "\n",
       "    .dataframe tbody tr th {\n",
       "        vertical-align: top;\n",
       "    }\n",
       "\n",
       "    .dataframe thead th {\n",
       "        text-align: right;\n",
       "    }\n",
       "</style>\n",
       "<table border=\"1\" class=\"dataframe\">\n",
       "  <thead>\n",
       "    <tr style=\"text-align: right;\">\n",
       "      <th></th>\n",
       "      <th>Merchant ID</th>\n",
       "      <th>Is Suspicious</th>\n",
       "      <th>Final</th>\n",
       "    </tr>\n",
       "  </thead>\n",
       "  <tbody>\n",
       "    <tr>\n",
       "      <th>0</th>\n",
       "      <td>9531548</td>\n",
       "      <td>No</td>\n",
       "      <td>Valid</td>\n",
       "    </tr>\n",
       "  </tbody>\n",
       "</table>\n",
       "</div>"
      ],
      "text/plain": [
       "   Merchant ID Is Suspicious  Final\n",
       "0      9531548            No  Valid"
      ]
     },
     "execution_count": 52,
     "metadata": {},
     "output_type": "execute_result"
    }
   ],
   "source": [
    "rwm_ob_validity.head(1)"
   ]
  },
  {
   "cell_type": "code",
   "execution_count": 53,
   "id": "44d34506",
   "metadata": {},
   "outputs": [],
   "source": [
    "rwm_ob_validity_f = rwm_ob_validity[['Merchant ID', 'Final']]"
   ]
  },
  {
   "cell_type": "code",
   "execution_count": 54,
   "id": "7c13c0b6",
   "metadata": {},
   "outputs": [],
   "source": [
    "External_Gpay_fos = pd.read_csv(input_loc_ob_rwm+\"External Gpay FOS Backend_Trail - Gpay Internal.csv\")"
   ]
  },
  {
   "cell_type": "code",
   "execution_count": 55,
   "id": "ac4f94f9",
   "metadata": {},
   "outputs": [],
   "source": [
    "External_Gpay_fos_f = External_Gpay_fos[['On Boarding Date', 'Owner Mob No', 'Merchant ID']]"
   ]
  },
  {
   "cell_type": "code",
   "execution_count": 56,
   "id": "98cc1a0f",
   "metadata": {},
   "outputs": [],
   "source": [
    "External_Gpay_fos_f['On Boarding Date'] = pd.to_datetime(External_Gpay_fos_f['On Boarding Date'])\n",
    "External_Gpay_fos_f['On Boarding Date'] = External_Gpay_fos_f['On Boarding Date'].dt.strftime(\"%d-%b-%Y\")"
   ]
  },
  {
   "cell_type": "code",
   "execution_count": 57,
   "id": "3f669977",
   "metadata": {},
   "outputs": [],
   "source": [
    "External_Gpay_fos_f_merge = External_Gpay_fos_f.merge(rwm_ob_validity_f, on=\"Merchant ID\", how=\"left\")"
   ]
  },
  {
   "cell_type": "code",
   "execution_count": 58,
   "id": "2c24e969",
   "metadata": {},
   "outputs": [
    {
     "data": {
      "text/html": [
       "<div>\n",
       "<style scoped>\n",
       "    .dataframe tbody tr th:only-of-type {\n",
       "        vertical-align: middle;\n",
       "    }\n",
       "\n",
       "    .dataframe tbody tr th {\n",
       "        vertical-align: top;\n",
       "    }\n",
       "\n",
       "    .dataframe thead th {\n",
       "        text-align: right;\n",
       "    }\n",
       "</style>\n",
       "<table border=\"1\" class=\"dataframe\">\n",
       "  <thead>\n",
       "    <tr style=\"text-align: right;\">\n",
       "      <th></th>\n",
       "      <th>On Boarding Date</th>\n",
       "      <th>Owner Mob No</th>\n",
       "      <th>Merchant ID</th>\n",
       "      <th>Final</th>\n",
       "    </tr>\n",
       "  </thead>\n",
       "  <tbody>\n",
       "    <tr>\n",
       "      <th>0</th>\n",
       "      <td>01-Jul-2023</td>\n",
       "      <td>BCR2DN4T53A4XX2V</td>\n",
       "      <td>9531548</td>\n",
       "      <td>Valid</td>\n",
       "    </tr>\n",
       "  </tbody>\n",
       "</table>\n",
       "</div>"
      ],
      "text/plain": [
       "  On Boarding Date      Owner Mob No  Merchant ID  Final\n",
       "0      01-Jul-2023  BCR2DN4T53A4XX2V      9531548  Valid"
      ]
     },
     "execution_count": 58,
     "metadata": {},
     "output_type": "execute_result"
    }
   ],
   "source": [
    "External_Gpay_fos_f_merge.head(1)"
   ]
  },
  {
   "cell_type": "code",
   "execution_count": 59,
   "id": "88195ee2",
   "metadata": {},
   "outputs": [],
   "source": [
    "External_Gpay_fos_f_merge_f = External_Gpay_fos_f_merge[['Owner Mob No', 'Final', 'On Boarding Date']].rename(\n",
    "    columns={'On Boarding Date':'RWM OB Date', 'Owner Mob No':'MerchantExternalId'})"
   ]
  },
  {
   "cell_type": "code",
   "execution_count": 60,
   "id": "102291b7",
   "metadata": {},
   "outputs": [
    {
     "data": {
      "text/plain": [
       "0"
      ]
     },
     "execution_count": 60,
     "metadata": {},
     "output_type": "execute_result"
    }
   ],
   "source": [
    "len(External_Gpay_fos_f_merge) - len(External_Gpay_fos_f_merge['Owner Mob No'])"
   ]
  },
  {
   "attachments": {},
   "cell_type": "markdown",
   "id": "a932f460",
   "metadata": {},
   "source": [
    "# RWM Valid OB with Date"
   ]
  },
  {
   "cell_type": "code",
   "execution_count": 61,
   "id": "59068bd8",
   "metadata": {},
   "outputs": [],
   "source": [
    "Date_for_mapping = target_3['Revisit Date'].unique()"
   ]
  },
  {
   "cell_type": "code",
   "execution_count": 62,
   "id": "55985e07",
   "metadata": {},
   "outputs": [],
   "source": [
    "target_4 = pd.DataFrame()\n",
    "target_4 = left_join_date_wise(target_3, 'Revisit Date', External_Gpay_fos_f_merge_f, 'RWM OB Date',\n",
    " 'MerchantExternalId', target_3, 'Is_in_OB_RWM_file', Date_for_mapping,'Primary_key')"
   ]
  },
  {
   "cell_type": "code",
   "execution_count": 63,
   "id": "305bed1e",
   "metadata": {},
   "outputs": [
    {
     "data": {
      "text/html": [
       "<div>\n",
       "<style scoped>\n",
       "    .dataframe tbody tr th:only-of-type {\n",
       "        vertical-align: middle;\n",
       "    }\n",
       "\n",
       "    .dataframe tbody tr th {\n",
       "        vertical-align: top;\n",
       "    }\n",
       "\n",
       "    .dataframe thead th {\n",
       "        text-align: right;\n",
       "    }\n",
       "</style>\n",
       "<table border=\"1\" class=\"dataframe\">\n",
       "  <thead>\n",
       "    <tr style=\"text-align: right;\">\n",
       "      <th></th>\n",
       "      <th>City Name</th>\n",
       "      <th>Merchant ID</th>\n",
       "      <th>Merchant Name</th>\n",
       "      <th>Visit Count</th>\n",
       "      <th>Business Category</th>\n",
       "      <th>Owner Mobile No.</th>\n",
       "      <th>PIN Code</th>\n",
       "      <th>On Boarding Date</th>\n",
       "      <th>On Boarding Time</th>\n",
       "      <th>On-Boarded Employee Code</th>\n",
       "      <th>...</th>\n",
       "      <th>Present in Google Invalid?</th>\n",
       "      <th>Validity_google_ob</th>\n",
       "      <th>Is_in_OB_Google_CSV_file</th>\n",
       "      <th>Dup Check MID</th>\n",
       "      <th>Task Count</th>\n",
       "      <th>Invalid_PhonenumberLookup</th>\n",
       "      <th>Invalid_NotOnTargetlist</th>\n",
       "      <th>Final</th>\n",
       "      <th>RWM OB Date</th>\n",
       "      <th>Is_in_OB_RWM_file</th>\n",
       "    </tr>\n",
       "  </thead>\n",
       "  <tbody>\n",
       "    <tr>\n",
       "      <th>0</th>\n",
       "      <td>Hingoli</td>\n",
       "      <td>9439962.0</td>\n",
       "      <td>SUNNY S%2FO VILAYATI SINGH</td>\n",
       "      <td>2.0</td>\n",
       "      <td>Stores &amp; Shopping</td>\n",
       "      <td>8750305816</td>\n",
       "      <td>431513.0</td>\n",
       "      <td>Jun-01-2023</td>\n",
       "      <td>18:20:01</td>\n",
       "      <td>52084.0</td>\n",
       "      <td>...</td>\n",
       "      <td>NaN</td>\n",
       "      <td>NaN</td>\n",
       "      <td>No</td>\n",
       "      <td>1.0</td>\n",
       "      <td>1.0</td>\n",
       "      <td>True</td>\n",
       "      <td>False</td>\n",
       "      <td>NaN</td>\n",
       "      <td>NaN</td>\n",
       "      <td>No</td>\n",
       "    </tr>\n",
       "  </tbody>\n",
       "</table>\n",
       "<p>1 rows × 52 columns</p>\n",
       "</div>"
      ],
      "text/plain": [
       "  City Name  Merchant ID               Merchant Name  Visit Count  \\\n",
       "0   Hingoli    9439962.0  SUNNY S%2FO VILAYATI SINGH          2.0   \n",
       "\n",
       "   Business Category  Owner Mobile No.  PIN Code On Boarding Date  \\\n",
       "0  Stores & Shopping        8750305816  431513.0      Jun-01-2023   \n",
       "\n",
       "  On Boarding Time  On-Boarded Employee Code  ... Present in Google Invalid?  \\\n",
       "0         18:20:01                   52084.0  ...                        NaN   \n",
       "\n",
       "   Validity_google_ob Is_in_OB_Google_CSV_file Dup Check MID  Task Count  \\\n",
       "0                 NaN                       No           1.0         1.0   \n",
       "\n",
       "  Invalid_PhonenumberLookup Invalid_NotOnTargetlist Final RWM OB Date  \\\n",
       "0                      True                   False   NaN         NaN   \n",
       "\n",
       "  Is_in_OB_RWM_file  \n",
       "0                No  \n",
       "\n",
       "[1 rows x 52 columns]"
      ]
     },
     "execution_count": 63,
     "metadata": {},
     "output_type": "execute_result"
    }
   ],
   "source": [
    "target_4.head(1)"
   ]
  },
  {
   "cell_type": "code",
   "execution_count": 64,
   "id": "4ae24f8d",
   "metadata": {},
   "outputs": [],
   "source": [
    "target_4['Dynamic Source MID Check'] = target_4.apply(Check_False, axis=1)"
   ]
  },
  {
   "cell_type": "code",
   "execution_count": 65,
   "id": "04e06fa3",
   "metadata": {},
   "outputs": [],
   "source": [
    "def payout_remarks(row):\n",
    "   if row['Dup Check MID'] > 1:\n",
    "       return 'Duplicate Ext_ID'\n",
    "   elif row['Dup Check MID'] == 0:\n",
    "       return 'Not Found'\n",
    "   elif row['Is in Google Daily File?'] == \"No\" and row['Present in Google Invalid?'] == \"Yes\" and row['Validity_google_ob'] == \"INVALID\" and row['Dynamic Source MID Check'] == False:\n",
    "       return 'Possible -Re OB'\n",
    "       \n",
    "   elif row['Is in Google Daily File?'] == \"No\" and row['Present in Google Invalid?'] == \"Yes\" and row['Is in Source File?'] in ('No Match','No Match Dynamic'):\n",
    "        return 'Not Found, Invalid_NotOnTargetlist'\n",
    "   elif row['Final'] == \"Valid\":\n",
    "       return 'Considered in Onboarding'\n",
    "   elif row['Is in Google Daily File?'] == \"No\" and row['Present in Google Invalid?'] == \"Yes\" and row['Is in Source File?'] == 'No Match':\n",
    "       return 'Not Found, Invalid_NotOnTargetlist'\n",
    "   elif row['Is in Google Daily File?'] == \"No\" and row['Present in Google Invalid?'] != \"Yes\" and row['Dynamic Source MID Check'] != False:\n",
    "       if row['Is in Source File?'] in ('Match','MN Match'):\n",
    "           return 'Not Found'\n",
    "       elif row['Is in Source File?'] in ('No Match','No Match Dynamic'):\n",
    "           return 'Not Found, Invalid_NotOnTargetlist'\n",
    "       else:\n",
    "           return 'Not Found'\n",
    "   elif row['Is in Google Daily File?'] == \"No\" and row['Present in Google Invalid?'] == np.nan and row['Is in Source File?'] in ('No Match','No Match Dynamic'):\n",
    "       return 'Not Found, Invalid_NotOnTargetlist'\n",
    "   elif row['Is in Google Daily File?'] == \"No\" and row['Source Data picekd from?'] == 'Form Data' and row['MerchantExternalId'] == np.nan:\n",
    "       return 'Not Found'\n",
    "   elif row['Is in Google Daily File?'] == \"No\" and row['Source Data picekd from?'] == 'RWM' and row['MerchantExternalId'] == np.nan:\n",
    "       return 'Not Found'\n",
    "   elif row['Is in Google Daily File?'] == \"No\" and row['Source Data picekd from?'] == 'RWM' and row['Is in Source File?'] == 'Match':\n",
    "       return 'Not Found'\n",
    "   elif row['Is in Google Daily File?'] == \"No\" and row['Source Data picekd from?'] == 'RWM' and row['Is in Source File?'] == 'MN Match':\n",
    "       return 'Not Found'\n",
    "   elif row['Is in Google Daily File?'] == \"Yes\" : \n",
    "       if row['Task Count'] < 3:\n",
    "           if row['Invalid_PhonenumberLookup'] == True:\n",
    "               return 'Invalid_PhonenumberLookup'\n",
    "           else:\n",
    "               return 'Invalid_IncompleteSubTasks'\n",
    "       elif row['Task Count'] >= 3:\n",
    "           if row['Is in Source File?'] == 'MN Match' and row['Validity'] == \"INVALID\":\n",
    "               return \"Invalid_NotOnTargetlist\"\n",
    "           elif row['Is in Source File?'] != 'MN Match' and row['Invalid_PhonenumberLookup'] == True:\n",
    "               return \"Invalid_PhonenumberLookup\"\n",
    "           elif row['Is in Source File?'] != 'MN Match' and row['Invalid_NotOnTargetlist'] == True:\n",
    "               return \"Invalid_NotOnTargetlist\"\n",
    "           else:\n",
    "               if row['Validity'] == \"VALID\":\n",
    "                    return \"Valid\"\n",
    "               else:\n",
    "                    return np.nan\n",
    "   else:\n",
    "       return \"Not Found\"\n",
    "\n"
   ]
  },
  {
   "cell_type": "code",
   "execution_count": 66,
   "id": "16714c0c",
   "metadata": {},
   "outputs": [],
   "source": [
    "target_4['Payout_remarks_2'] = target_4.apply(payout_remarks, axis=1)"
   ]
  },
  {
   "cell_type": "code",
   "execution_count": 67,
   "id": "fa06ea1a",
   "metadata": {},
   "outputs": [
    {
     "data": {
      "text/plain": [
       "Possible -Re OB                       5271\n",
       "Invalid_NotOnTargetlist               1688\n",
       "Invalid_PhonenumberLookup              682\n",
       "Invalid_IncompleteSubTasks             672\n",
       "Not Found, Invalid_NotOnTargetlist     608\n",
       "Not Found                              589\n",
       "Duplicate Ext_ID                        44\n",
       "Name: Payout_remarks_2, dtype: int64"
      ]
     },
     "execution_count": 67,
     "metadata": {},
     "output_type": "execute_result"
    }
   ],
   "source": [
    "target_4['Payout_remarks_2'].value_counts()"
   ]
  },
  {
   "cell_type": "code",
   "execution_count": 68,
   "id": "a83b1c8a",
   "metadata": {},
   "outputs": [],
   "source": [
    "target_4.sort_values(by=['Primary_key'], inplace=True)"
   ]
  },
  {
   "cell_type": "code",
   "execution_count": 69,
   "id": "0e15f5f3",
   "metadata": {},
   "outputs": [],
   "source": [
    "target_4['cluster'] = np.nan\n",
    "target_4['Hustle Images'] = np.nan\n",
    "target_4['Image Found'] = np.nan\n",
    "target_4['ObjectivesDuringRevisit'] = np.nan"
   ]
  },
  {
   "cell_type": "code",
   "execution_count": 70,
   "id": "7aa2a61e",
   "metadata": {},
   "outputs": [],
   "source": [
    "target_4['Image Found New'] = np.nan\n",
    "target_4['Merchant Name Matched/ Unmatched'] = np.nan\n",
    "target_4['SS Time Format'] = np.nan\n",
    "target_4['SS Time Vs Revisit Time (15 mins)'] = np.nan\n",
    "target_4['Invalid/ Valid (Time Matched)'] = np.nan\n",
    "target_4['Assigned to'] = np.nan\n",
    "target_4['Date'] = np.nan"
   ]
  },
  {
   "cell_type": "code",
   "execution_count": null,
   "id": "efbec24f",
   "metadata": {},
   "outputs": [],
   "source": [
    "target_5 = target_4[['City Name',\n",
    "'Merchant ID',\n",
    "'Merchant Name',\n",
    "'Owner Mobile No.',\n",
    "'PIN Code',\n",
    "'Visit By',\n",
    "'Employee Code',\n",
    "'Role Name',\n",
    "'POD Name',\n",
    "'POD ID',\n",
    "'Revisit Date',\n",
    "'Revisit Time',\n",
    "'Team Lead Name',\n",
    "'Remarks',\n",
    "'QR Code String',\n",
    "'MerchantExternalId',\n",
    "'Is in Google Daily File?',\n",
    "'CompletedSubTaskTypes',\n",
    "'Task Count',\n",
    "'Source Data picekd from?',\n",
    "'cluster',\n",
    "'Payout_remarks_2',\n",
    "'Dup Check MID',\n",
    "'Segment',\n",
    "'ObjectivesDuringRevisit',\n",
    "'Onboarding Date from google invalid',\n",
    "'Present in Google Invalid?',\n",
    "'Validity_google_ob',\n",
    "'Dynamic Source MID Check',\n",
    "'Validity',\n",
    "'Invalid Reason',\n",
    "'Previous MID',\n",
    "'Is in Source File?',\n",
    "'Image Found New',\n",
    "'Merchant Name Matched/ Unmatched',\n",
    "'SS Time Format',\n",
    "'SS Time Vs Revisit Time (15 mins)',\n",
    "'Hustle_Completion_Image',\n",
    "'Invalid/ Valid (Time Matched)',\n",
    "'Assigned to',\n",
    "'Date',\n",
    "'Image Found']].rename(columns={'Payout_remarks_2':'Final Remark'})"
   ]
  },
  {
   "cell_type": "code",
   "execution_count": null,
   "id": "7bbb7fbd",
   "metadata": {},
   "outputs": [],
   "source": [
    "target_5.to_csv(output_loc+'New_Current_Payout_Remarks.csv', index=False)"
   ]
  },
  {
   "cell_type": "code",
   "execution_count": null,
   "id": "cdff5e62",
   "metadata": {},
   "outputs": [],
   "source": [
    "target_5[target_5['Revisit Date'].isin(filter_range)].to_csv(output_loc+'Filter_Current_Payout_Remarks.csv', index=False)\n",
    "target_5[target_5['Source Data picekd from?'].isin(filter_form)].to_csv(output_loc+'Form_Data_filter_Current_Payout_Remarks.csv', index=False)"
   ]
  }
 ],
 "metadata": {
  "kernelspec": {
   "display_name": "Python 3 (ipykernel)",
   "language": "python",
   "name": "python3"
  },
  "language_info": {
   "codemirror_mode": {
    "name": "ipython",
    "version": 3
   },
   "file_extension": ".py",
   "mimetype": "text/x-python",
   "name": "python",
   "nbconvert_exporter": "python",
   "pygments_lexer": "ipython3",
   "version": "3.10.6"
  },
  "vscode": {
   "interpreter": {
    "hash": "916dbcbb3f70747c44a77c7bcd40155683ae19c65e1c03b4aa3499c5328201f1"
   }
  }
 },
 "nbformat": 4,
 "nbformat_minor": 5
}
