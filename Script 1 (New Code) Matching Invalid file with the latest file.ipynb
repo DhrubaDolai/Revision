{
 "cells": [
  {
   "cell_type": "code",
   "execution_count": 1,
   "id": "9a529dd4",
   "metadata": {},
   "outputs": [],
   "source": [
    "import pandas as pd\n",
    "import os\n",
    "import numpy as np\n",
    "import xlsxwriter as xw\n",
    "import re\n",
    "import warnings\n",
    "warnings.filterwarnings('ignore')\n",
    "import openpyxl as op\n",
    "from openpyxl import Workbook, load_workbook\n",
    "from openpyxl.styles import PatternFill, Border, Side, Alignment, Protection, Font\n",
    "from pathlib import Path"
   ]
  },
  {
   "cell_type": "markdown",
   "id": "41969ab4",
   "metadata": {},
   "source": [
    "# Fill the Ingestion Date and Revisit Expire Date"
   ]
  },
  {
   "cell_type": "code",
   "execution_count": 2,
   "id": "02cf9d0b",
   "metadata": {},
   "outputs": [],
   "source": [
    "Ingestion_Date = \"11-Nov-2022\"\n",
    "Default_Ingestion_Date = \"8-Jun-2022\"\n",
    "Revisit_Expire_Date = \"11-Nov-2022\""
   ]
  },
  {
   "cell_type": "markdown",
   "id": "2bd2094e",
   "metadata": {},
   "source": [
    "# Target file"
   ]
  },
  {
   "cell_type": "markdown",
   "id": "bb548b94",
   "metadata": {},
   "source": [
    "# Extracting the latest file"
   ]
  },
  {
   "cell_type": "code",
   "execution_count": 3,
   "id": "dbdf2b95",
   "metadata": {},
   "outputs": [],
   "source": [
    "input_loc = '/home/dhrubakumardolai/Desktop/Python Test/Rahul/Script 1 Invalid file read for dynamics/Target/Dynamic/'\n",
    "output_loc = '/home/dhrubakumardolai/Desktop/Python Test/Rahul/Script 1 Invalid file read for dynamics/Result/'"
   ]
  },
  {
   "cell_type": "code",
   "execution_count": 4,
   "id": "571d50a1",
   "metadata": {},
   "outputs": [],
   "source": [
    "filelist = os.listdir(input_loc)\n",
    "\n",
    "latest_dataset = pd.DataFrame()\n",
    "\n",
    "for file in filelist:\n",
    "    if file.endswith('.xlsx'):\n",
    "        df_1 = pd.read_excel(input_loc+file)\n",
    "        latest_dataset = latest_dataset.append(df_1)\n",
    "    elif file.endswith('csv'):\n",
    "        df_2 = pd.read_csv(input_loc+file)\n",
    "        latest_dataset = latest_dataset.append(df_2)"
   ]
  },
  {
   "cell_type": "code",
   "execution_count": 5,
   "id": "05903f4c",
   "metadata": {},
   "outputs": [
    {
     "data": {
      "text/html": [
       "<div>\n",
       "<style scoped>\n",
       "    .dataframe tbody tr th:only-of-type {\n",
       "        vertical-align: middle;\n",
       "    }\n",
       "\n",
       "    .dataframe tbody tr th {\n",
       "        vertical-align: top;\n",
       "    }\n",
       "\n",
       "    .dataframe thead th {\n",
       "        text-align: right;\n",
       "    }\n",
       "</style>\n",
       "<table border=\"1\" class=\"dataframe\">\n",
       "  <thead>\n",
       "    <tr style=\"text-align: right;\">\n",
       "      <th></th>\n",
       "      <th>MerchantId</th>\n",
       "      <th>Objectives</th>\n",
       "      <th>IngestionStatus</th>\n",
       "      <th>Report Date</th>\n",
       "      <th>RWM Remarks</th>\n",
       "      <th>Ingestion Date</th>\n",
       "      <th>RWM Revisit Status</th>\n",
       "      <th>RWM Revisit Date</th>\n",
       "      <th>Revisit Expire Date</th>\n",
       "      <th>Validity</th>\n",
       "      <th>Pincode</th>\n",
       "      <th>Phone Number</th>\n",
       "      <th>City</th>\n",
       "      <th>Cluster</th>\n",
       "      <th>Failed Upload RWM MID</th>\n",
       "      <th>csv Google MID</th>\n",
       "      <th>Google csv Visit Date</th>\n",
       "      <th>csv Validity</th>\n",
       "      <th>s no</th>\n",
       "    </tr>\n",
       "  </thead>\n",
       "  <tbody>\n",
       "    <tr>\n",
       "      <th>0</th>\n",
       "      <td>BCR2DN4TSCO3DNDR</td>\n",
       "      <td>checkin-nob</td>\n",
       "      <td>ADD</td>\n",
       "      <td>5-Aug-2022</td>\n",
       "      <td>Success</td>\n",
       "      <td>5-Aug-2022</td>\n",
       "      <td>NaN</td>\n",
       "      <td>NaN</td>\n",
       "      <td>NaN</td>\n",
       "      <td>NaN</td>\n",
       "      <td>NaN</td>\n",
       "      <td>NaN</td>\n",
       "      <td>NaN</td>\n",
       "      <td>NaN</td>\n",
       "      <td>NaN</td>\n",
       "      <td>NaN</td>\n",
       "      <td>NaN</td>\n",
       "      <td>NaN</td>\n",
       "      <td>1</td>\n",
       "    </tr>\n",
       "  </tbody>\n",
       "</table>\n",
       "</div>"
      ],
      "text/plain": [
       "         MerchantId   Objectives IngestionStatus Report Date RWM Remarks  \\\n",
       "0  BCR2DN4TSCO3DNDR  checkin-nob             ADD  5-Aug-2022     Success   \n",
       "\n",
       "  Ingestion Date RWM Revisit Status RWM Revisit Date Revisit Expire Date  \\\n",
       "0     5-Aug-2022                NaN              NaN                 NaN   \n",
       "\n",
       "  Validity  Pincode  Phone Number City Cluster  Failed Upload RWM MID  \\\n",
       "0      NaN      NaN           NaN  NaN     NaN                    NaN   \n",
       "\n",
       "  csv Google MID Google csv Visit Date csv Validity  s no  \n",
       "0            NaN                   NaN          NaN     1  "
      ]
     },
     "execution_count": 5,
     "metadata": {},
     "output_type": "execute_result"
    }
   ],
   "source": [
    "latest_dataset.head(1)"
   ]
  },
  {
   "cell_type": "code",
   "execution_count": 6,
   "id": "f1dea168",
   "metadata": {},
   "outputs": [],
   "source": [
    "latest_dataset.sort_values(by=['s no'], inplace=True)"
   ]
  },
  {
   "cell_type": "code",
   "execution_count": 7,
   "id": "3a0de18a",
   "metadata": {},
   "outputs": [],
   "source": [
    "latest_dataset_filter = latest_dataset[latest_dataset['Report Date'].isin([Ingestion_Date])]"
   ]
  },
  {
   "cell_type": "code",
   "execution_count": 8,
   "id": "be1cdad3",
   "metadata": {},
   "outputs": [
    {
     "data": {
      "text/plain": [
       "(133036, 19)"
      ]
     },
     "execution_count": 8,
     "metadata": {},
     "output_type": "execute_result"
    }
   ],
   "source": [
    "latest_dataset_filter.shape"
   ]
  },
  {
   "cell_type": "code",
   "execution_count": 9,
   "id": "4cfdb6ee",
   "metadata": {},
   "outputs": [],
   "source": [
    "latest_dataset_f = latest_dataset_filter[['MerchantId', 'Objectives', 'IngestionStatus', 'Report Date', 's no']]"
   ]
  },
  {
   "cell_type": "code",
   "execution_count": 10,
   "id": "e8878c0c",
   "metadata": {},
   "outputs": [],
   "source": [
    "latest_dataset_f['Primary_key'] = range(1,(len(latest_dataset_f)+1))"
   ]
  },
  {
   "cell_type": "code",
   "execution_count": 11,
   "id": "f472644b",
   "metadata": {
    "scrolled": true
   },
   "outputs": [
    {
     "data": {
      "text/html": [
       "<div>\n",
       "<style scoped>\n",
       "    .dataframe tbody tr th:only-of-type {\n",
       "        vertical-align: middle;\n",
       "    }\n",
       "\n",
       "    .dataframe tbody tr th {\n",
       "        vertical-align: top;\n",
       "    }\n",
       "\n",
       "    .dataframe thead th {\n",
       "        text-align: right;\n",
       "    }\n",
       "</style>\n",
       "<table border=\"1\" class=\"dataframe\">\n",
       "  <thead>\n",
       "    <tr style=\"text-align: right;\">\n",
       "      <th></th>\n",
       "      <th>MerchantId</th>\n",
       "      <th>Objectives</th>\n",
       "      <th>IngestionStatus</th>\n",
       "      <th>Report Date</th>\n",
       "      <th>s no</th>\n",
       "      <th>Primary_key</th>\n",
       "    </tr>\n",
       "  </thead>\n",
       "  <tbody>\n",
       "    <tr>\n",
       "      <th>0</th>\n",
       "      <td>BCR2DN4T7SL2PPY6</td>\n",
       "      <td>checkin-nob</td>\n",
       "      <td>ADD</td>\n",
       "      <td>11-Nov-2022</td>\n",
       "      <td>2278168</td>\n",
       "      <td>1</td>\n",
       "    </tr>\n",
       "  </tbody>\n",
       "</table>\n",
       "</div>"
      ],
      "text/plain": [
       "         MerchantId   Objectives IngestionStatus  Report Date     s no  \\\n",
       "0  BCR2DN4T7SL2PPY6  checkin-nob             ADD  11-Nov-2022  2278168   \n",
       "\n",
       "   Primary_key  \n",
       "0            1  "
      ]
     },
     "execution_count": 11,
     "metadata": {},
     "output_type": "execute_result"
    }
   ],
   "source": [
    "latest_dataset_f.head(1)"
   ]
  },
  {
   "cell_type": "code",
   "execution_count": 12,
   "id": "3a12411a",
   "metadata": {},
   "outputs": [],
   "source": [
    "old_dataset = latest_dataset[~latest_dataset[\"Report Date\"].isin([Ingestion_Date])]"
   ]
  },
  {
   "cell_type": "code",
   "execution_count": 13,
   "id": "4dcd3dc0",
   "metadata": {},
   "outputs": [
    {
     "data": {
      "text/plain": [
       "(1991413, 19)"
      ]
     },
     "execution_count": 13,
     "metadata": {},
     "output_type": "execute_result"
    }
   ],
   "source": [
    "old_dataset.shape"
   ]
  },
  {
   "cell_type": "markdown",
   "id": "55858303",
   "metadata": {},
   "source": [
    "# Change file name"
   ]
  },
  {
   "cell_type": "code",
   "execution_count": 14,
   "id": "cb09c1c5",
   "metadata": {
    "scrolled": true
   },
   "outputs": [
    {
     "ename": "SyntaxError",
     "evalue": "invalid syntax (816266325.py, line 1)",
     "output_type": "error",
     "traceback": [
      "\u001b[0;36m  File \u001b[0;32m\"/tmp/ipykernel_12033/816266325.py\"\u001b[0;36m, line \u001b[0;32m1\u001b[0m\n\u001b[0;31m    Break =\u001b[0m\n\u001b[0m           ^\u001b[0m\n\u001b[0;31mSyntaxError\u001b[0m\u001b[0;31m:\u001b[0m invalid syntax\n"
     ]
    }
   ],
   "source": [
    "Break ="
   ]
  },
  {
   "cell_type": "markdown",
   "id": "56f648a4",
   "metadata": {},
   "source": [
    "# Extracting the file from the invalid to match"
   ]
  },
  {
   "cell_type": "code",
   "execution_count": 15,
   "id": "410be08f",
   "metadata": {},
   "outputs": [],
   "source": [
    "input_loc_invalid = '/home/dhrubakumardolai/Desktop/Python Test/Rahul/Script 1 Invalid file read for dynamics/Target/Invalid/'\n",
    "output_loc_invalid = '/home/dhrubakumardolai/Desktop/Python Test/Rahul/Script 1 Invalid file read for dynamics/Result/'"
   ]
  },
  {
   "cell_type": "markdown",
   "id": "d65759ff",
   "metadata": {},
   "source": [
    "#### Extracting Delete"
   ]
  },
  {
   "cell_type": "code",
   "execution_count": 19,
   "id": "540f05c5",
   "metadata": {},
   "outputs": [],
   "source": [
    "failed_delete = pd.read_excel(input_loc_invalid+'Invalid_delete_consolidated.xlsx')"
   ]
  },
  {
   "cell_type": "code",
   "execution_count": 20,
   "id": "fd893585",
   "metadata": {},
   "outputs": [],
   "source": [
    "failed_delete_f = failed_delete[['Merchant Ext.ID', 'Error']].rename(columns={'Error':'Remarks_Delete'})"
   ]
  },
  {
   "cell_type": "code",
   "execution_count": 21,
   "id": "c883951d",
   "metadata": {},
   "outputs": [
    {
     "data": {
      "text/html": [
       "<div>\n",
       "<style scoped>\n",
       "    .dataframe tbody tr th:only-of-type {\n",
       "        vertical-align: middle;\n",
       "    }\n",
       "\n",
       "    .dataframe tbody tr th {\n",
       "        vertical-align: top;\n",
       "    }\n",
       "\n",
       "    .dataframe thead th {\n",
       "        text-align: right;\n",
       "    }\n",
       "</style>\n",
       "<table border=\"1\" class=\"dataframe\">\n",
       "  <thead>\n",
       "    <tr style=\"text-align: right;\">\n",
       "      <th></th>\n",
       "      <th>Merchant Ext.ID</th>\n",
       "      <th>Remarks_Delete</th>\n",
       "    </tr>\n",
       "  </thead>\n",
       "  <tbody>\n",
       "    <tr>\n",
       "      <th>0</th>\n",
       "      <td>Empty</td>\n",
       "      <td>Empty</td>\n",
       "    </tr>\n",
       "  </tbody>\n",
       "</table>\n",
       "</div>"
      ],
      "text/plain": [
       "  Merchant Ext.ID Remarks_Delete\n",
       "0           Empty          Empty"
      ]
     },
     "execution_count": 21,
     "metadata": {},
     "output_type": "execute_result"
    }
   ],
   "source": [
    "failed_delete_f.head(1)"
   ]
  },
  {
   "cell_type": "markdown",
   "id": "454c52a5",
   "metadata": {},
   "source": [
    "#### Extracting Adhoc"
   ]
  },
  {
   "cell_type": "code",
   "execution_count": 22,
   "id": "81e7cf6f",
   "metadata": {
    "scrolled": true
   },
   "outputs": [],
   "source": [
    "failed_edit = pd.read_excel(input_loc_invalid+'Invalid_adhoc_consolidated.xlsx')"
   ]
  },
  {
   "cell_type": "code",
   "execution_count": 23,
   "id": "2a87c91a",
   "metadata": {},
   "outputs": [],
   "source": [
    "failed_edit_f = failed_edit[['Merchant Ext.ID', 'Error']].rename(columns={'Error':'Remarks_Edit'})"
   ]
  },
  {
   "cell_type": "code",
   "execution_count": 24,
   "id": "0ff3827d",
   "metadata": {},
   "outputs": [
    {
     "data": {
      "text/html": [
       "<div>\n",
       "<style scoped>\n",
       "    .dataframe tbody tr th:only-of-type {\n",
       "        vertical-align: middle;\n",
       "    }\n",
       "\n",
       "    .dataframe tbody tr th {\n",
       "        vertical-align: top;\n",
       "    }\n",
       "\n",
       "    .dataframe thead th {\n",
       "        text-align: right;\n",
       "    }\n",
       "</style>\n",
       "<table border=\"1\" class=\"dataframe\">\n",
       "  <thead>\n",
       "    <tr style=\"text-align: right;\">\n",
       "      <th></th>\n",
       "      <th>Merchant Ext.ID</th>\n",
       "      <th>Remarks_Edit</th>\n",
       "    </tr>\n",
       "  </thead>\n",
       "  <tbody>\n",
       "    <tr>\n",
       "      <th>0</th>\n",
       "      <td>BCR2DN4T7SL2PPY6</td>\n",
       "      <td>Merchant Ext. ID is not present in the Revisit...</td>\n",
       "    </tr>\n",
       "  </tbody>\n",
       "</table>\n",
       "</div>"
      ],
      "text/plain": [
       "    Merchant Ext.ID                                       Remarks_Edit\n",
       "0  BCR2DN4T7SL2PPY6  Merchant Ext. ID is not present in the Revisit..."
      ]
     },
     "execution_count": 24,
     "metadata": {},
     "output_type": "execute_result"
    }
   ],
   "source": [
    "failed_edit_f.head(1)"
   ]
  },
  {
   "cell_type": "markdown",
   "id": "c4043ce6",
   "metadata": {},
   "source": [
    "#### Extracting optional"
   ]
  },
  {
   "cell_type": "code",
   "execution_count": 25,
   "id": "9da81326",
   "metadata": {},
   "outputs": [],
   "source": [
    "failed_add = pd.read_excel(input_loc_invalid+'Invalid_optional_consolidated.xlsx')"
   ]
  },
  {
   "cell_type": "code",
   "execution_count": 26,
   "id": "52fd1b71",
   "metadata": {},
   "outputs": [],
   "source": [
    "failed_add_f = failed_add[['Merchant Ext.ID', 'Remarks']].rename(columns={'Remarks':'Remarks_Add'})"
   ]
  },
  {
   "cell_type": "code",
   "execution_count": 27,
   "id": "9efc9922",
   "metadata": {},
   "outputs": [
    {
     "data": {
      "text/html": [
       "<div>\n",
       "<style scoped>\n",
       "    .dataframe tbody tr th:only-of-type {\n",
       "        vertical-align: middle;\n",
       "    }\n",
       "\n",
       "    .dataframe tbody tr th {\n",
       "        vertical-align: top;\n",
       "    }\n",
       "\n",
       "    .dataframe thead th {\n",
       "        text-align: right;\n",
       "    }\n",
       "</style>\n",
       "<table border=\"1\" class=\"dataframe\">\n",
       "  <thead>\n",
       "    <tr style=\"text-align: right;\">\n",
       "      <th></th>\n",
       "      <th>Merchant Ext.ID</th>\n",
       "      <th>Remarks_Add</th>\n",
       "    </tr>\n",
       "  </thead>\n",
       "  <tbody>\n",
       "    <tr>\n",
       "      <th>0</th>\n",
       "      <td>BCR2DN4T7SL2PPY6</td>\n",
       "      <td>Merchant Ext.ID is not present in Merchant Mas...</td>\n",
       "    </tr>\n",
       "  </tbody>\n",
       "</table>\n",
       "</div>"
      ],
      "text/plain": [
       "    Merchant Ext.ID                                        Remarks_Add\n",
       "0  BCR2DN4T7SL2PPY6  Merchant Ext.ID is not present in Merchant Mas..."
      ]
     },
     "execution_count": 27,
     "metadata": {},
     "output_type": "execute_result"
    }
   ],
   "source": [
    "failed_add_f.head(1)"
   ]
  },
  {
   "cell_type": "markdown",
   "id": "114d1344",
   "metadata": {},
   "source": [
    "# Matching the Delete, Adhoc and optional one by one to the latest dynamic dataset.\n",
    "# Fill the status of the latest dataset"
   ]
  },
  {
   "cell_type": "code",
   "execution_count": 28,
   "id": "b0888ff2",
   "metadata": {},
   "outputs": [],
   "source": [
    "latest_dataset_f['Status'] = np.nan"
   ]
  },
  {
   "cell_type": "code",
   "execution_count": 29,
   "id": "d5cf80eb",
   "metadata": {},
   "outputs": [
    {
     "data": {
      "text/html": [
       "<div>\n",
       "<style scoped>\n",
       "    .dataframe tbody tr th:only-of-type {\n",
       "        vertical-align: middle;\n",
       "    }\n",
       "\n",
       "    .dataframe tbody tr th {\n",
       "        vertical-align: top;\n",
       "    }\n",
       "\n",
       "    .dataframe thead th {\n",
       "        text-align: right;\n",
       "    }\n",
       "</style>\n",
       "<table border=\"1\" class=\"dataframe\">\n",
       "  <thead>\n",
       "    <tr style=\"text-align: right;\">\n",
       "      <th></th>\n",
       "      <th>MerchantId</th>\n",
       "      <th>Objectives</th>\n",
       "      <th>IngestionStatus</th>\n",
       "      <th>Report Date</th>\n",
       "      <th>s no</th>\n",
       "      <th>Primary_key</th>\n",
       "      <th>Status</th>\n",
       "    </tr>\n",
       "  </thead>\n",
       "  <tbody>\n",
       "    <tr>\n",
       "      <th>0</th>\n",
       "      <td>BCR2DN4T7SL2PPY6</td>\n",
       "      <td>checkin-nob</td>\n",
       "      <td>ADD</td>\n",
       "      <td>11-Nov-2022</td>\n",
       "      <td>2278168</td>\n",
       "      <td>1</td>\n",
       "      <td>NaN</td>\n",
       "    </tr>\n",
       "  </tbody>\n",
       "</table>\n",
       "</div>"
      ],
      "text/plain": [
       "         MerchantId   Objectives IngestionStatus  Report Date     s no  \\\n",
       "0  BCR2DN4T7SL2PPY6  checkin-nob             ADD  11-Nov-2022  2278168   \n",
       "\n",
       "   Primary_key  Status  \n",
       "0            1     NaN  "
      ]
     },
     "execution_count": 29,
     "metadata": {},
     "output_type": "execute_result"
    }
   ],
   "source": [
    "latest_dataset_f.head(1)"
   ]
  },
  {
   "cell_type": "markdown",
   "id": "35771ea4",
   "metadata": {},
   "source": [
    "## Delete"
   ]
  },
  {
   "cell_type": "markdown",
   "id": "6c8b0fb4",
   "metadata": {},
   "source": [
    "#### Filter the Delete from the latest dataset_f"
   ]
  },
  {
   "cell_type": "code",
   "execution_count": 30,
   "id": "6452edf8",
   "metadata": {
    "scrolled": true
   },
   "outputs": [
    {
     "data": {
      "text/plain": [
       "(133036, 7)"
      ]
     },
     "execution_count": 30,
     "metadata": {},
     "output_type": "execute_result"
    }
   ],
   "source": [
    "latest_dataset_f.shape"
   ]
  },
  {
   "cell_type": "code",
   "execution_count": 31,
   "id": "3c5a5f69",
   "metadata": {},
   "outputs": [],
   "source": [
    "latest_dataset_delete = latest_dataset_f[latest_dataset_f['IngestionStatus'].isin(['DELETE'])]"
   ]
  },
  {
   "cell_type": "code",
   "execution_count": 32,
   "id": "41e34570",
   "metadata": {},
   "outputs": [
    {
     "data": {
      "text/plain": [
       "(0, 7)"
      ]
     },
     "execution_count": 32,
     "metadata": {},
     "output_type": "execute_result"
    }
   ],
   "source": [
    "latest_dataset_delete.shape"
   ]
  },
  {
   "cell_type": "code",
   "execution_count": 33,
   "id": "efd3d0b4",
   "metadata": {},
   "outputs": [
    {
     "data": {
      "text/html": [
       "<div>\n",
       "<style scoped>\n",
       "    .dataframe tbody tr th:only-of-type {\n",
       "        vertical-align: middle;\n",
       "    }\n",
       "\n",
       "    .dataframe tbody tr th {\n",
       "        vertical-align: top;\n",
       "    }\n",
       "\n",
       "    .dataframe thead th {\n",
       "        text-align: right;\n",
       "    }\n",
       "</style>\n",
       "<table border=\"1\" class=\"dataframe\">\n",
       "  <thead>\n",
       "    <tr style=\"text-align: right;\">\n",
       "      <th></th>\n",
       "      <th>MerchantId</th>\n",
       "      <th>Objectives</th>\n",
       "      <th>IngestionStatus</th>\n",
       "      <th>Report Date</th>\n",
       "      <th>s no</th>\n",
       "      <th>Primary_key</th>\n",
       "      <th>Status</th>\n",
       "    </tr>\n",
       "  </thead>\n",
       "  <tbody>\n",
       "  </tbody>\n",
       "</table>\n",
       "</div>"
      ],
      "text/plain": [
       "Empty DataFrame\n",
       "Columns: [MerchantId, Objectives, IngestionStatus, Report Date, s no, Primary_key, Status]\n",
       "Index: []"
      ]
     },
     "execution_count": 33,
     "metadata": {},
     "output_type": "execute_result"
    }
   ],
   "source": [
    "latest_dataset_delete.head(1)"
   ]
  },
  {
   "cell_type": "markdown",
   "id": "3fa587ca",
   "metadata": {},
   "source": [
    "#### Merging the invalid delete with the latest_dataset and filling the status"
   ]
  },
  {
   "cell_type": "code",
   "execution_count": 34,
   "id": "42bec996",
   "metadata": {},
   "outputs": [
    {
     "data": {
      "text/html": [
       "<div>\n",
       "<style scoped>\n",
       "    .dataframe tbody tr th:only-of-type {\n",
       "        vertical-align: middle;\n",
       "    }\n",
       "\n",
       "    .dataframe tbody tr th {\n",
       "        vertical-align: top;\n",
       "    }\n",
       "\n",
       "    .dataframe thead th {\n",
       "        text-align: right;\n",
       "    }\n",
       "</style>\n",
       "<table border=\"1\" class=\"dataframe\">\n",
       "  <thead>\n",
       "    <tr style=\"text-align: right;\">\n",
       "      <th></th>\n",
       "      <th>Merchant Ext.ID</th>\n",
       "      <th>Remarks_Delete</th>\n",
       "    </tr>\n",
       "  </thead>\n",
       "  <tbody>\n",
       "    <tr>\n",
       "      <th>0</th>\n",
       "      <td>Empty</td>\n",
       "      <td>Empty</td>\n",
       "    </tr>\n",
       "  </tbody>\n",
       "</table>\n",
       "</div>"
      ],
      "text/plain": [
       "  Merchant Ext.ID Remarks_Delete\n",
       "0           Empty          Empty"
      ]
     },
     "execution_count": 34,
     "metadata": {},
     "output_type": "execute_result"
    }
   ],
   "source": [
    "failed_delete_f.head(1)"
   ]
  },
  {
   "cell_type": "code",
   "execution_count": 35,
   "id": "9adf65aa",
   "metadata": {},
   "outputs": [],
   "source": [
    "failed_delete_f.rename(columns={'Merchant Ext.ID':'MerchantId'}, inplace = True)"
   ]
  },
  {
   "cell_type": "code",
   "execution_count": 36,
   "id": "f0c83046",
   "metadata": {},
   "outputs": [],
   "source": [
    "latest_dataset_delete_merge = latest_dataset_delete.merge(failed_delete_f, how=\"left\", on='MerchantId')"
   ]
  },
  {
   "cell_type": "code",
   "execution_count": 37,
   "id": "9cb15dd2",
   "metadata": {},
   "outputs": [
    {
     "data": {
      "text/html": [
       "<div>\n",
       "<style scoped>\n",
       "    .dataframe tbody tr th:only-of-type {\n",
       "        vertical-align: middle;\n",
       "    }\n",
       "\n",
       "    .dataframe tbody tr th {\n",
       "        vertical-align: top;\n",
       "    }\n",
       "\n",
       "    .dataframe thead th {\n",
       "        text-align: right;\n",
       "    }\n",
       "</style>\n",
       "<table border=\"1\" class=\"dataframe\">\n",
       "  <thead>\n",
       "    <tr style=\"text-align: right;\">\n",
       "      <th></th>\n",
       "      <th>Objectives</th>\n",
       "      <th>IngestionStatus</th>\n",
       "      <th>Report Date</th>\n",
       "      <th>s no</th>\n",
       "      <th>Primary_key</th>\n",
       "      <th>Status</th>\n",
       "      <th>MerchantId</th>\n",
       "      <th>Remarks_Delete</th>\n",
       "    </tr>\n",
       "  </thead>\n",
       "  <tbody>\n",
       "  </tbody>\n",
       "</table>\n",
       "</div>"
      ],
      "text/plain": [
       "Empty DataFrame\n",
       "Columns: [Objectives, IngestionStatus, Report Date, s no, Primary_key, Status, MerchantId, Remarks_Delete]\n",
       "Index: []"
      ]
     },
     "execution_count": 37,
     "metadata": {},
     "output_type": "execute_result"
    }
   ],
   "source": [
    "latest_dataset_delete_merge.drop_duplicates(subset=['Primary_key'], inplace=True)"
   ]
  },
  {
   "cell_type": "code",
   "execution_count": 38,
   "id": "17beca8f",
   "metadata": {},
   "outputs": [],
   "source": [
    "latest_dataset_delete_merge['Status'] = latest_dataset_delete_merge['Remarks_Delete'].isnull()"
   ]
  },
  {
   "cell_type": "code",
   "execution_count": 39,
   "id": "172c9b84",
   "metadata": {},
   "outputs": [],
   "source": [
    "latest_dataset_delete_merge['Status'] = latest_dataset_delete_merge['Status'].map({True:'Delete', False:'Failed'})"
   ]
  },
  {
   "cell_type": "code",
   "execution_count": 40,
   "id": "1614a35c",
   "metadata": {},
   "outputs": [],
   "source": [
    "latest_dataset_delete_merge_f = latest_dataset_delete_merge[[\n",
    "    'MerchantId', 'Status', 'Remarks_Delete']].rename(columns={'Status':'Status_Delete'})"
   ]
  },
  {
   "cell_type": "code",
   "execution_count": 41,
   "id": "9d7cdd41",
   "metadata": {},
   "outputs": [
    {
     "data": {
      "text/html": [
       "<div>\n",
       "<style scoped>\n",
       "    .dataframe tbody tr th:only-of-type {\n",
       "        vertical-align: middle;\n",
       "    }\n",
       "\n",
       "    .dataframe tbody tr th {\n",
       "        vertical-align: top;\n",
       "    }\n",
       "\n",
       "    .dataframe thead th {\n",
       "        text-align: right;\n",
       "    }\n",
       "</style>\n",
       "<table border=\"1\" class=\"dataframe\">\n",
       "  <thead>\n",
       "    <tr style=\"text-align: right;\">\n",
       "      <th></th>\n",
       "      <th>MerchantId</th>\n",
       "      <th>Status_Delete</th>\n",
       "      <th>Remarks_Delete</th>\n",
       "    </tr>\n",
       "  </thead>\n",
       "  <tbody>\n",
       "  </tbody>\n",
       "</table>\n",
       "</div>"
      ],
      "text/plain": [
       "Empty DataFrame\n",
       "Columns: [MerchantId, Status_Delete, Remarks_Delete]\n",
       "Index: []"
      ]
     },
     "execution_count": 41,
     "metadata": {},
     "output_type": "execute_result"
    }
   ],
   "source": [
    "latest_dataset_delete_merge_f.head(1)"
   ]
  },
  {
   "cell_type": "markdown",
   "id": "51581114",
   "metadata": {},
   "source": [
    "## Edit"
   ]
  },
  {
   "cell_type": "markdown",
   "id": "05d97719",
   "metadata": {},
   "source": [
    "#### Filter the Delete from the latest dataset_f"
   ]
  },
  {
   "cell_type": "code",
   "execution_count": 42,
   "id": "93051671",
   "metadata": {},
   "outputs": [],
   "source": [
    "latest_dataset_edit = latest_dataset_f[latest_dataset_f['IngestionStatus'].isin(['EDIT'])]"
   ]
  },
  {
   "cell_type": "code",
   "execution_count": 43,
   "id": "1760c489",
   "metadata": {},
   "outputs": [
    {
     "data": {
      "text/plain": [
       "(27063, 7)"
      ]
     },
     "execution_count": 43,
     "metadata": {},
     "output_type": "execute_result"
    }
   ],
   "source": [
    "latest_dataset_edit.shape"
   ]
  },
  {
   "cell_type": "code",
   "execution_count": 44,
   "id": "4d1af946",
   "metadata": {},
   "outputs": [
    {
     "data": {
      "text/html": [
       "<div>\n",
       "<style scoped>\n",
       "    .dataframe tbody tr th:only-of-type {\n",
       "        vertical-align: middle;\n",
       "    }\n",
       "\n",
       "    .dataframe tbody tr th {\n",
       "        vertical-align: top;\n",
       "    }\n",
       "\n",
       "    .dataframe thead th {\n",
       "        text-align: right;\n",
       "    }\n",
       "</style>\n",
       "<table border=\"1\" class=\"dataframe\">\n",
       "  <thead>\n",
       "    <tr style=\"text-align: right;\">\n",
       "      <th></th>\n",
       "      <th>MerchantId</th>\n",
       "      <th>Objectives</th>\n",
       "      <th>IngestionStatus</th>\n",
       "      <th>Report Date</th>\n",
       "      <th>s no</th>\n",
       "      <th>Primary_key</th>\n",
       "      <th>Status</th>\n",
       "    </tr>\n",
       "  </thead>\n",
       "  <tbody>\n",
       "    <tr>\n",
       "      <th>3</th>\n",
       "      <td>BCR2DN4TUDZ4XNLL</td>\n",
       "      <td>Inactive - INR 40 Extra Pay on Txn</td>\n",
       "      <td>EDIT</td>\n",
       "      <td>11-Nov-2022</td>\n",
       "      <td>2278171</td>\n",
       "      <td>4</td>\n",
       "      <td>NaN</td>\n",
       "    </tr>\n",
       "  </tbody>\n",
       "</table>\n",
       "</div>"
      ],
      "text/plain": [
       "         MerchantId                          Objectives IngestionStatus  \\\n",
       "3  BCR2DN4TUDZ4XNLL  Inactive - INR 40 Extra Pay on Txn            EDIT   \n",
       "\n",
       "   Report Date     s no  Primary_key  Status  \n",
       "3  11-Nov-2022  2278171            4     NaN  "
      ]
     },
     "execution_count": 44,
     "metadata": {},
     "output_type": "execute_result"
    }
   ],
   "source": [
    "latest_dataset_edit.head(1)"
   ]
  },
  {
   "cell_type": "markdown",
   "id": "e66f4c8e",
   "metadata": {},
   "source": [
    "#### Merging the latest_dataset_edit with the invalid adhoc and fill the status"
   ]
  },
  {
   "cell_type": "code",
   "execution_count": 45,
   "id": "1a5b5961",
   "metadata": {},
   "outputs": [
    {
     "data": {
      "text/html": [
       "<div>\n",
       "<style scoped>\n",
       "    .dataframe tbody tr th:only-of-type {\n",
       "        vertical-align: middle;\n",
       "    }\n",
       "\n",
       "    .dataframe tbody tr th {\n",
       "        vertical-align: top;\n",
       "    }\n",
       "\n",
       "    .dataframe thead th {\n",
       "        text-align: right;\n",
       "    }\n",
       "</style>\n",
       "<table border=\"1\" class=\"dataframe\">\n",
       "  <thead>\n",
       "    <tr style=\"text-align: right;\">\n",
       "      <th></th>\n",
       "      <th>Merchant Ext.ID</th>\n",
       "      <th>Remarks_Edit</th>\n",
       "    </tr>\n",
       "  </thead>\n",
       "  <tbody>\n",
       "    <tr>\n",
       "      <th>0</th>\n",
       "      <td>BCR2DN4T7SL2PPY6</td>\n",
       "      <td>Merchant Ext. ID is not present in the Revisit...</td>\n",
       "    </tr>\n",
       "  </tbody>\n",
       "</table>\n",
       "</div>"
      ],
      "text/plain": [
       "    Merchant Ext.ID                                       Remarks_Edit\n",
       "0  BCR2DN4T7SL2PPY6  Merchant Ext. ID is not present in the Revisit..."
      ]
     },
     "execution_count": 45,
     "metadata": {},
     "output_type": "execute_result"
    }
   ],
   "source": [
    "failed_edit_f.head(1)"
   ]
  },
  {
   "cell_type": "code",
   "execution_count": 46,
   "id": "1877506c",
   "metadata": {},
   "outputs": [],
   "source": [
    "failed_edit_f.rename(columns={'Merchant Ext.ID':'MerchantId'}, inplace = True)"
   ]
  },
  {
   "cell_type": "code",
   "execution_count": 47,
   "id": "c6c5b948",
   "metadata": {},
   "outputs": [],
   "source": [
    "latest_dataset_edit_merge = latest_dataset_edit.merge(failed_edit_f, how='left', on='MerchantId')"
   ]
  },
  {
   "cell_type": "code",
   "execution_count": 48,
   "id": "40f07840",
   "metadata": {},
   "outputs": [],
   "source": [
    "latest_dataset_edit_merge.drop_duplicates(subset=['Primary_key'], inplace=True)"
   ]
  },
  {
   "cell_type": "code",
   "execution_count": 49,
   "id": "2fdf86b3",
   "metadata": {},
   "outputs": [
    {
     "data": {
      "text/html": [
       "<div>\n",
       "<style scoped>\n",
       "    .dataframe tbody tr th:only-of-type {\n",
       "        vertical-align: middle;\n",
       "    }\n",
       "\n",
       "    .dataframe tbody tr th {\n",
       "        vertical-align: top;\n",
       "    }\n",
       "\n",
       "    .dataframe thead th {\n",
       "        text-align: right;\n",
       "    }\n",
       "</style>\n",
       "<table border=\"1\" class=\"dataframe\">\n",
       "  <thead>\n",
       "    <tr style=\"text-align: right;\">\n",
       "      <th></th>\n",
       "      <th>MerchantId</th>\n",
       "      <th>Objectives</th>\n",
       "      <th>IngestionStatus</th>\n",
       "      <th>Report Date</th>\n",
       "      <th>s no</th>\n",
       "      <th>Primary_key</th>\n",
       "      <th>Status</th>\n",
       "      <th>Remarks_Edit</th>\n",
       "    </tr>\n",
       "  </thead>\n",
       "  <tbody>\n",
       "    <tr>\n",
       "      <th>0</th>\n",
       "      <td>BCR2DN4TUDZ4XNLL</td>\n",
       "      <td>Inactive - INR 40 Extra Pay on Txn</td>\n",
       "      <td>EDIT</td>\n",
       "      <td>11-Nov-2022</td>\n",
       "      <td>2278171</td>\n",
       "      <td>4</td>\n",
       "      <td>NaN</td>\n",
       "      <td>Merchant Ext. ID is not present in the Revisit...</td>\n",
       "    </tr>\n",
       "  </tbody>\n",
       "</table>\n",
       "</div>"
      ],
      "text/plain": [
       "         MerchantId                          Objectives IngestionStatus  \\\n",
       "0  BCR2DN4TUDZ4XNLL  Inactive - INR 40 Extra Pay on Txn            EDIT   \n",
       "\n",
       "   Report Date     s no  Primary_key  Status  \\\n",
       "0  11-Nov-2022  2278171            4     NaN   \n",
       "\n",
       "                                        Remarks_Edit  \n",
       "0  Merchant Ext. ID is not present in the Revisit...  "
      ]
     },
     "execution_count": 49,
     "metadata": {},
     "output_type": "execute_result"
    }
   ],
   "source": [
    "latest_dataset_edit_merge.head(1)"
   ]
  },
  {
   "cell_type": "code",
   "execution_count": 50,
   "id": "b41161a6",
   "metadata": {},
   "outputs": [],
   "source": [
    "latest_dataset_edit_merge['Status'] = latest_dataset_edit_merge['Remarks_Edit'].isnull()\n",
    "latest_dataset_edit_merge['Status'] = latest_dataset_edit_merge['Status'].map({True:'Ongoing', False:'Failed'})"
   ]
  },
  {
   "cell_type": "code",
   "execution_count": 51,
   "id": "fd79a970",
   "metadata": {},
   "outputs": [],
   "source": [
    "latest_dataset_edit_merge.rename(columns={'Status':'Status_Edit'}, inplace = True)"
   ]
  },
  {
   "cell_type": "code",
   "execution_count": 52,
   "id": "6372d315",
   "metadata": {},
   "outputs": [
    {
     "data": {
      "text/html": [
       "<div>\n",
       "<style scoped>\n",
       "    .dataframe tbody tr th:only-of-type {\n",
       "        vertical-align: middle;\n",
       "    }\n",
       "\n",
       "    .dataframe tbody tr th {\n",
       "        vertical-align: top;\n",
       "    }\n",
       "\n",
       "    .dataframe thead th {\n",
       "        text-align: right;\n",
       "    }\n",
       "</style>\n",
       "<table border=\"1\" class=\"dataframe\">\n",
       "  <thead>\n",
       "    <tr style=\"text-align: right;\">\n",
       "      <th></th>\n",
       "      <th>MerchantId</th>\n",
       "      <th>Objectives</th>\n",
       "      <th>IngestionStatus</th>\n",
       "      <th>Report Date</th>\n",
       "      <th>s no</th>\n",
       "      <th>Primary_key</th>\n",
       "      <th>Status_Edit</th>\n",
       "      <th>Remarks_Edit</th>\n",
       "    </tr>\n",
       "  </thead>\n",
       "  <tbody>\n",
       "    <tr>\n",
       "      <th>0</th>\n",
       "      <td>BCR2DN4TUDZ4XNLL</td>\n",
       "      <td>Inactive - INR 40 Extra Pay on Txn</td>\n",
       "      <td>EDIT</td>\n",
       "      <td>11-Nov-2022</td>\n",
       "      <td>2278171</td>\n",
       "      <td>4</td>\n",
       "      <td>Failed</td>\n",
       "      <td>Merchant Ext. ID is not present in the Revisit...</td>\n",
       "    </tr>\n",
       "  </tbody>\n",
       "</table>\n",
       "</div>"
      ],
      "text/plain": [
       "         MerchantId                          Objectives IngestionStatus  \\\n",
       "0  BCR2DN4TUDZ4XNLL  Inactive - INR 40 Extra Pay on Txn            EDIT   \n",
       "\n",
       "   Report Date     s no  Primary_key Status_Edit  \\\n",
       "0  11-Nov-2022  2278171            4      Failed   \n",
       "\n",
       "                                        Remarks_Edit  \n",
       "0  Merchant Ext. ID is not present in the Revisit...  "
      ]
     },
     "execution_count": 52,
     "metadata": {},
     "output_type": "execute_result"
    }
   ],
   "source": [
    "latest_dataset_edit_merge.head(1)"
   ]
  },
  {
   "cell_type": "code",
   "execution_count": 53,
   "id": "67e5e398",
   "metadata": {},
   "outputs": [],
   "source": [
    "latest_dataset_edit_merge_f = latest_dataset_edit_merge[['MerchantId', 'Status_Edit', 'Remarks_Edit']]"
   ]
  },
  {
   "cell_type": "code",
   "execution_count": 54,
   "id": "569cdd5b",
   "metadata": {},
   "outputs": [
    {
     "data": {
      "text/html": [
       "<div>\n",
       "<style scoped>\n",
       "    .dataframe tbody tr th:only-of-type {\n",
       "        vertical-align: middle;\n",
       "    }\n",
       "\n",
       "    .dataframe tbody tr th {\n",
       "        vertical-align: top;\n",
       "    }\n",
       "\n",
       "    .dataframe thead th {\n",
       "        text-align: right;\n",
       "    }\n",
       "</style>\n",
       "<table border=\"1\" class=\"dataframe\">\n",
       "  <thead>\n",
       "    <tr style=\"text-align: right;\">\n",
       "      <th></th>\n",
       "      <th>MerchantId</th>\n",
       "      <th>Status_Edit</th>\n",
       "      <th>Remarks_Edit</th>\n",
       "    </tr>\n",
       "  </thead>\n",
       "  <tbody>\n",
       "    <tr>\n",
       "      <th>0</th>\n",
       "      <td>BCR2DN4TUDZ4XNLL</td>\n",
       "      <td>Failed</td>\n",
       "      <td>Merchant Ext. ID is not present in the Revisit...</td>\n",
       "    </tr>\n",
       "  </tbody>\n",
       "</table>\n",
       "</div>"
      ],
      "text/plain": [
       "         MerchantId Status_Edit  \\\n",
       "0  BCR2DN4TUDZ4XNLL      Failed   \n",
       "\n",
       "                                        Remarks_Edit  \n",
       "0  Merchant Ext. ID is not present in the Revisit...  "
      ]
     },
     "execution_count": 54,
     "metadata": {},
     "output_type": "execute_result"
    }
   ],
   "source": [
    "latest_dataset_edit_merge_f.head(1)"
   ]
  },
  {
   "cell_type": "markdown",
   "id": "d0c45e70",
   "metadata": {},
   "source": [
    "# Adding"
   ]
  },
  {
   "cell_type": "markdown",
   "id": "8d69aba1",
   "metadata": {},
   "source": [
    "#### Filter the Add from the latest dataset_f"
   ]
  },
  {
   "cell_type": "code",
   "execution_count": 55,
   "id": "838346d3",
   "metadata": {},
   "outputs": [
    {
     "data": {
      "text/html": [
       "<div>\n",
       "<style scoped>\n",
       "    .dataframe tbody tr th:only-of-type {\n",
       "        vertical-align: middle;\n",
       "    }\n",
       "\n",
       "    .dataframe tbody tr th {\n",
       "        vertical-align: top;\n",
       "    }\n",
       "\n",
       "    .dataframe thead th {\n",
       "        text-align: right;\n",
       "    }\n",
       "</style>\n",
       "<table border=\"1\" class=\"dataframe\">\n",
       "  <thead>\n",
       "    <tr style=\"text-align: right;\">\n",
       "      <th></th>\n",
       "      <th>MerchantId</th>\n",
       "      <th>Objectives</th>\n",
       "      <th>IngestionStatus</th>\n",
       "      <th>Report Date</th>\n",
       "      <th>s no</th>\n",
       "      <th>Primary_key</th>\n",
       "      <th>Status</th>\n",
       "    </tr>\n",
       "  </thead>\n",
       "  <tbody>\n",
       "    <tr>\n",
       "      <th>0</th>\n",
       "      <td>BCR2DN4T7SL2PPY6</td>\n",
       "      <td>checkin-nob</td>\n",
       "      <td>ADD</td>\n",
       "      <td>11-Nov-2022</td>\n",
       "      <td>2278168</td>\n",
       "      <td>1</td>\n",
       "      <td>NaN</td>\n",
       "    </tr>\n",
       "  </tbody>\n",
       "</table>\n",
       "</div>"
      ],
      "text/plain": [
       "         MerchantId   Objectives IngestionStatus  Report Date     s no  \\\n",
       "0  BCR2DN4T7SL2PPY6  checkin-nob             ADD  11-Nov-2022  2278168   \n",
       "\n",
       "   Primary_key  Status  \n",
       "0            1     NaN  "
      ]
     },
     "execution_count": 55,
     "metadata": {},
     "output_type": "execute_result"
    }
   ],
   "source": [
    "latest_dataset_f.head(1)"
   ]
  },
  {
   "cell_type": "code",
   "execution_count": 56,
   "id": "bf8865f7",
   "metadata": {},
   "outputs": [],
   "source": [
    "latest_dataset_add = latest_dataset_f[latest_dataset_f['IngestionStatus'].isin(['ADD'])]"
   ]
  },
  {
   "cell_type": "code",
   "execution_count": 57,
   "id": "e9b6864f",
   "metadata": {},
   "outputs": [
    {
     "data": {
      "text/plain": [
       "(105973, 7)"
      ]
     },
     "execution_count": 57,
     "metadata": {},
     "output_type": "execute_result"
    }
   ],
   "source": [
    "latest_dataset_add.shape"
   ]
  },
  {
   "cell_type": "markdown",
   "id": "4e348f80",
   "metadata": {},
   "source": [
    "#### Merging the latest_dataset_add with the invalid Optional and fill the status"
   ]
  },
  {
   "cell_type": "code",
   "execution_count": 58,
   "id": "a18380cb",
   "metadata": {},
   "outputs": [
    {
     "data": {
      "text/html": [
       "<div>\n",
       "<style scoped>\n",
       "    .dataframe tbody tr th:only-of-type {\n",
       "        vertical-align: middle;\n",
       "    }\n",
       "\n",
       "    .dataframe tbody tr th {\n",
       "        vertical-align: top;\n",
       "    }\n",
       "\n",
       "    .dataframe thead th {\n",
       "        text-align: right;\n",
       "    }\n",
       "</style>\n",
       "<table border=\"1\" class=\"dataframe\">\n",
       "  <thead>\n",
       "    <tr style=\"text-align: right;\">\n",
       "      <th></th>\n",
       "      <th>Merchant Ext.ID</th>\n",
       "      <th>Remarks_Add</th>\n",
       "    </tr>\n",
       "  </thead>\n",
       "  <tbody>\n",
       "    <tr>\n",
       "      <th>0</th>\n",
       "      <td>BCR2DN4T7SL2PPY6</td>\n",
       "      <td>Merchant Ext.ID is not present in Merchant Mas...</td>\n",
       "    </tr>\n",
       "  </tbody>\n",
       "</table>\n",
       "</div>"
      ],
      "text/plain": [
       "    Merchant Ext.ID                                        Remarks_Add\n",
       "0  BCR2DN4T7SL2PPY6  Merchant Ext.ID is not present in Merchant Mas..."
      ]
     },
     "execution_count": 58,
     "metadata": {},
     "output_type": "execute_result"
    }
   ],
   "source": [
    "failed_add_f.head(1)"
   ]
  },
  {
   "cell_type": "code",
   "execution_count": 59,
   "id": "2ecc226a",
   "metadata": {},
   "outputs": [],
   "source": [
    "failed_add_f.rename(columns={'Merchant Ext.ID':'MerchantId'}, inplace = True)"
   ]
  },
  {
   "cell_type": "code",
   "execution_count": 60,
   "id": "8f278a6e",
   "metadata": {},
   "outputs": [],
   "source": [
    "latest_dataset_add_merge = latest_dataset_add.merge(failed_add_f, how = 'left', on = 'MerchantId')"
   ]
  },
  {
   "cell_type": "code",
   "execution_count": 61,
   "id": "c37d562c",
   "metadata": {},
   "outputs": [],
   "source": [
    "latest_dataset_add_merge.drop_duplicates(subset=['Primary_key'], inplace=True)"
   ]
  },
  {
   "cell_type": "code",
   "execution_count": 62,
   "id": "51471842",
   "metadata": {},
   "outputs": [],
   "source": [
    "latest_dataset_add_merge['Status'] = latest_dataset_add_merge['Remarks_Add'].isnull()"
   ]
  },
  {
   "cell_type": "code",
   "execution_count": 63,
   "id": "7b2c8c5e",
   "metadata": {},
   "outputs": [],
   "source": [
    "latest_dataset_add_merge['Status'] = latest_dataset_add_merge['Status'].map({True:'Ongoing', False:'Failed'})"
   ]
  },
  {
   "cell_type": "code",
   "execution_count": 64,
   "id": "22b2fcfc",
   "metadata": {},
   "outputs": [],
   "source": [
    "latest_dataset_add_merge_f = latest_dataset_add_merge[['MerchantId', 'Status', 'Remarks_Add']].rename(\n",
    "    columns={'Status':'Status_add'})"
   ]
  },
  {
   "cell_type": "code",
   "execution_count": 65,
   "id": "3e9d4679",
   "metadata": {},
   "outputs": [
    {
     "data": {
      "text/html": [
       "<div>\n",
       "<style scoped>\n",
       "    .dataframe tbody tr th:only-of-type {\n",
       "        vertical-align: middle;\n",
       "    }\n",
       "\n",
       "    .dataframe tbody tr th {\n",
       "        vertical-align: top;\n",
       "    }\n",
       "\n",
       "    .dataframe thead th {\n",
       "        text-align: right;\n",
       "    }\n",
       "</style>\n",
       "<table border=\"1\" class=\"dataframe\">\n",
       "  <thead>\n",
       "    <tr style=\"text-align: right;\">\n",
       "      <th></th>\n",
       "      <th>MerchantId</th>\n",
       "      <th>Status_add</th>\n",
       "      <th>Remarks_Add</th>\n",
       "    </tr>\n",
       "  </thead>\n",
       "  <tbody>\n",
       "    <tr>\n",
       "      <th>0</th>\n",
       "      <td>BCR2DN4T7SL2PPY6</td>\n",
       "      <td>Failed</td>\n",
       "      <td>Merchant Ext.ID is not present in Merchant Mas...</td>\n",
       "    </tr>\n",
       "  </tbody>\n",
       "</table>\n",
       "</div>"
      ],
      "text/plain": [
       "         MerchantId Status_add  \\\n",
       "0  BCR2DN4T7SL2PPY6     Failed   \n",
       "\n",
       "                                         Remarks_Add  \n",
       "0  Merchant Ext.ID is not present in Merchant Mas...  "
      ]
     },
     "execution_count": 65,
     "metadata": {},
     "output_type": "execute_result"
    }
   ],
   "source": [
    "latest_dataset_add_merge_f.head(1)"
   ]
  },
  {
   "cell_type": "markdown",
   "id": "5b565b97",
   "metadata": {},
   "source": [
    "# Merging all the dataframe (delete, edit, and add) back in the latest dataframe\n",
    "# And Updating status"
   ]
  },
  {
   "cell_type": "code",
   "execution_count": 66,
   "id": "aae668ad",
   "metadata": {},
   "outputs": [
    {
     "data": {
      "text/html": [
       "<div>\n",
       "<style scoped>\n",
       "    .dataframe tbody tr th:only-of-type {\n",
       "        vertical-align: middle;\n",
       "    }\n",
       "\n",
       "    .dataframe tbody tr th {\n",
       "        vertical-align: top;\n",
       "    }\n",
       "\n",
       "    .dataframe thead th {\n",
       "        text-align: right;\n",
       "    }\n",
       "</style>\n",
       "<table border=\"1\" class=\"dataframe\">\n",
       "  <thead>\n",
       "    <tr style=\"text-align: right;\">\n",
       "      <th></th>\n",
       "      <th>MerchantId</th>\n",
       "      <th>Objectives</th>\n",
       "      <th>IngestionStatus</th>\n",
       "      <th>Report Date</th>\n",
       "      <th>s no</th>\n",
       "      <th>Primary_key</th>\n",
       "      <th>Status</th>\n",
       "    </tr>\n",
       "  </thead>\n",
       "  <tbody>\n",
       "    <tr>\n",
       "      <th>0</th>\n",
       "      <td>BCR2DN4T7SL2PPY6</td>\n",
       "      <td>checkin-nob</td>\n",
       "      <td>ADD</td>\n",
       "      <td>11-Nov-2022</td>\n",
       "      <td>2278168</td>\n",
       "      <td>1</td>\n",
       "      <td>NaN</td>\n",
       "    </tr>\n",
       "    <tr>\n",
       "      <th>1</th>\n",
       "      <td>BCR2DN4TUC7YFOJZ</td>\n",
       "      <td>checkin-nob</td>\n",
       "      <td>ADD</td>\n",
       "      <td>11-Nov-2022</td>\n",
       "      <td>2278169</td>\n",
       "      <td>2</td>\n",
       "      <td>NaN</td>\n",
       "    </tr>\n",
       "    <tr>\n",
       "      <th>2</th>\n",
       "      <td>BCR2DN4T4DFYN3SG</td>\n",
       "      <td>Inactive - INR 40 Extra Pay on Txn</td>\n",
       "      <td>ADD</td>\n",
       "      <td>11-Nov-2022</td>\n",
       "      <td>2278170</td>\n",
       "      <td>3</td>\n",
       "      <td>NaN</td>\n",
       "    </tr>\n",
       "    <tr>\n",
       "      <th>3</th>\n",
       "      <td>BCR2DN4TUDZ4XNLL</td>\n",
       "      <td>Inactive - INR 40 Extra Pay on Txn</td>\n",
       "      <td>EDIT</td>\n",
       "      <td>11-Nov-2022</td>\n",
       "      <td>2278171</td>\n",
       "      <td>4</td>\n",
       "      <td>NaN</td>\n",
       "    </tr>\n",
       "    <tr>\n",
       "      <th>4</th>\n",
       "      <td>BCR2DN4TWCA7BVCW</td>\n",
       "      <td>checkin-nob</td>\n",
       "      <td>ADD</td>\n",
       "      <td>11-Nov-2022</td>\n",
       "      <td>2278172</td>\n",
       "      <td>5</td>\n",
       "      <td>NaN</td>\n",
       "    </tr>\n",
       "  </tbody>\n",
       "</table>\n",
       "</div>"
      ],
      "text/plain": [
       "         MerchantId                          Objectives IngestionStatus  \\\n",
       "0  BCR2DN4T7SL2PPY6                         checkin-nob             ADD   \n",
       "1  BCR2DN4TUC7YFOJZ                         checkin-nob             ADD   \n",
       "2  BCR2DN4T4DFYN3SG  Inactive - INR 40 Extra Pay on Txn             ADD   \n",
       "3  BCR2DN4TUDZ4XNLL  Inactive - INR 40 Extra Pay on Txn            EDIT   \n",
       "4  BCR2DN4TWCA7BVCW                         checkin-nob             ADD   \n",
       "\n",
       "   Report Date     s no  Primary_key  Status  \n",
       "0  11-Nov-2022  2278168            1     NaN  \n",
       "1  11-Nov-2022  2278169            2     NaN  \n",
       "2  11-Nov-2022  2278170            3     NaN  \n",
       "3  11-Nov-2022  2278171            4     NaN  \n",
       "4  11-Nov-2022  2278172            5     NaN  "
      ]
     },
     "execution_count": 66,
     "metadata": {},
     "output_type": "execute_result"
    }
   ],
   "source": [
    "latest_dataset_f.head()"
   ]
  },
  {
   "cell_type": "code",
   "execution_count": 67,
   "id": "a67d7083",
   "metadata": {},
   "outputs": [
    {
     "data": {
      "text/html": [
       "<div>\n",
       "<style scoped>\n",
       "    .dataframe tbody tr th:only-of-type {\n",
       "        vertical-align: middle;\n",
       "    }\n",
       "\n",
       "    .dataframe tbody tr th {\n",
       "        vertical-align: top;\n",
       "    }\n",
       "\n",
       "    .dataframe thead th {\n",
       "        text-align: right;\n",
       "    }\n",
       "</style>\n",
       "<table border=\"1\" class=\"dataframe\">\n",
       "  <thead>\n",
       "    <tr style=\"text-align: right;\">\n",
       "      <th></th>\n",
       "      <th>MerchantId</th>\n",
       "      <th>Status_Delete</th>\n",
       "      <th>Remarks_Delete</th>\n",
       "    </tr>\n",
       "  </thead>\n",
       "  <tbody>\n",
       "  </tbody>\n",
       "</table>\n",
       "</div>"
      ],
      "text/plain": [
       "Empty DataFrame\n",
       "Columns: [MerchantId, Status_Delete, Remarks_Delete]\n",
       "Index: []"
      ]
     },
     "execution_count": 67,
     "metadata": {},
     "output_type": "execute_result"
    }
   ],
   "source": [
    "latest_dataset_delete_merge_f.head(1)"
   ]
  },
  {
   "cell_type": "code",
   "execution_count": 68,
   "id": "f3ef8e4e",
   "metadata": {},
   "outputs": [
    {
     "data": {
      "text/html": [
       "<div>\n",
       "<style scoped>\n",
       "    .dataframe tbody tr th:only-of-type {\n",
       "        vertical-align: middle;\n",
       "    }\n",
       "\n",
       "    .dataframe tbody tr th {\n",
       "        vertical-align: top;\n",
       "    }\n",
       "\n",
       "    .dataframe thead th {\n",
       "        text-align: right;\n",
       "    }\n",
       "</style>\n",
       "<table border=\"1\" class=\"dataframe\">\n",
       "  <thead>\n",
       "    <tr style=\"text-align: right;\">\n",
       "      <th></th>\n",
       "      <th>MerchantId</th>\n",
       "      <th>Status_Edit</th>\n",
       "      <th>Remarks_Edit</th>\n",
       "    </tr>\n",
       "  </thead>\n",
       "  <tbody>\n",
       "    <tr>\n",
       "      <th>0</th>\n",
       "      <td>BCR2DN4TUDZ4XNLL</td>\n",
       "      <td>Failed</td>\n",
       "      <td>Merchant Ext. ID is not present in the Revisit...</td>\n",
       "    </tr>\n",
       "  </tbody>\n",
       "</table>\n",
       "</div>"
      ],
      "text/plain": [
       "         MerchantId Status_Edit  \\\n",
       "0  BCR2DN4TUDZ4XNLL      Failed   \n",
       "\n",
       "                                        Remarks_Edit  \n",
       "0  Merchant Ext. ID is not present in the Revisit...  "
      ]
     },
     "execution_count": 68,
     "metadata": {},
     "output_type": "execute_result"
    }
   ],
   "source": [
    "latest_dataset_edit_merge_f.head(1)"
   ]
  },
  {
   "cell_type": "code",
   "execution_count": 69,
   "id": "2a390709",
   "metadata": {},
   "outputs": [
    {
     "data": {
      "text/html": [
       "<div>\n",
       "<style scoped>\n",
       "    .dataframe tbody tr th:only-of-type {\n",
       "        vertical-align: middle;\n",
       "    }\n",
       "\n",
       "    .dataframe tbody tr th {\n",
       "        vertical-align: top;\n",
       "    }\n",
       "\n",
       "    .dataframe thead th {\n",
       "        text-align: right;\n",
       "    }\n",
       "</style>\n",
       "<table border=\"1\" class=\"dataframe\">\n",
       "  <thead>\n",
       "    <tr style=\"text-align: right;\">\n",
       "      <th></th>\n",
       "      <th>MerchantId</th>\n",
       "      <th>Status_add</th>\n",
       "      <th>Remarks_Add</th>\n",
       "    </tr>\n",
       "  </thead>\n",
       "  <tbody>\n",
       "    <tr>\n",
       "      <th>0</th>\n",
       "      <td>BCR2DN4T7SL2PPY6</td>\n",
       "      <td>Failed</td>\n",
       "      <td>Merchant Ext.ID is not present in Merchant Mas...</td>\n",
       "    </tr>\n",
       "  </tbody>\n",
       "</table>\n",
       "</div>"
      ],
      "text/plain": [
       "         MerchantId Status_add  \\\n",
       "0  BCR2DN4T7SL2PPY6     Failed   \n",
       "\n",
       "                                         Remarks_Add  \n",
       "0  Merchant Ext.ID is not present in Merchant Mas...  "
      ]
     },
     "execution_count": 69,
     "metadata": {},
     "output_type": "execute_result"
    }
   ],
   "source": [
    "latest_dataset_add_merge_f.head(1)"
   ]
  },
  {
   "cell_type": "code",
   "execution_count": 70,
   "id": "ef5ce9f2",
   "metadata": {},
   "outputs": [],
   "source": [
    "latest_dataset_merge_d = latest_dataset_f.merge(latest_dataset_delete_merge_f, how = 'left', on = 'MerchantId')"
   ]
  },
  {
   "cell_type": "code",
   "execution_count": 71,
   "id": "08c5ff59",
   "metadata": {},
   "outputs": [],
   "source": [
    "latest_dataset_merge_d.drop_duplicates(subset=['Primary_key'], inplace=True)"
   ]
  },
  {
   "cell_type": "code",
   "execution_count": 72,
   "id": "a66c1221",
   "metadata": {
    "scrolled": true
   },
   "outputs": [
    {
     "data": {
      "text/plain": [
       "(133036, 9)"
      ]
     },
     "execution_count": 72,
     "metadata": {},
     "output_type": "execute_result"
    }
   ],
   "source": [
    "latest_dataset_merge_d.shape"
   ]
  },
  {
   "cell_type": "code",
   "execution_count": 73,
   "id": "6938d9b3",
   "metadata": {},
   "outputs": [],
   "source": [
    "latest_dataset_merge_d_e = latest_dataset_merge_d.merge(\n",
    "    latest_dataset_edit_merge_f, how = 'left', on = 'MerchantId')"
   ]
  },
  {
   "cell_type": "code",
   "execution_count": 74,
   "id": "1177033a",
   "metadata": {},
   "outputs": [],
   "source": [
    "latest_dataset_merge_d_e.drop_duplicates(subset=['Primary_key'], inplace=True)"
   ]
  },
  {
   "cell_type": "code",
   "execution_count": 75,
   "id": "440f3df2",
   "metadata": {},
   "outputs": [
    {
     "data": {
      "text/plain": [
       "(133036, 11)"
      ]
     },
     "execution_count": 75,
     "metadata": {},
     "output_type": "execute_result"
    }
   ],
   "source": [
    "latest_dataset_merge_d_e.shape"
   ]
  },
  {
   "cell_type": "code",
   "execution_count": 76,
   "id": "c176ef6b",
   "metadata": {},
   "outputs": [],
   "source": [
    "latest_dataset_merge_d_e_a = latest_dataset_merge_d_e.merge(\n",
    "    latest_dataset_add_merge_f, how = 'left', on='MerchantId')"
   ]
  },
  {
   "cell_type": "code",
   "execution_count": 77,
   "id": "31bc5ac7",
   "metadata": {},
   "outputs": [],
   "source": [
    "latest_dataset_merge_d_e_a.drop_duplicates(subset=['Primary_key'], inplace=True)"
   ]
  },
  {
   "cell_type": "code",
   "execution_count": 78,
   "id": "34a747c5",
   "metadata": {},
   "outputs": [
    {
     "data": {
      "text/html": [
       "<div>\n",
       "<style scoped>\n",
       "    .dataframe tbody tr th:only-of-type {\n",
       "        vertical-align: middle;\n",
       "    }\n",
       "\n",
       "    .dataframe tbody tr th {\n",
       "        vertical-align: top;\n",
       "    }\n",
       "\n",
       "    .dataframe thead th {\n",
       "        text-align: right;\n",
       "    }\n",
       "</style>\n",
       "<table border=\"1\" class=\"dataframe\">\n",
       "  <thead>\n",
       "    <tr style=\"text-align: right;\">\n",
       "      <th></th>\n",
       "      <th>MerchantId</th>\n",
       "      <th>Objectives</th>\n",
       "      <th>IngestionStatus</th>\n",
       "      <th>Report Date</th>\n",
       "      <th>s no</th>\n",
       "      <th>Primary_key</th>\n",
       "      <th>Status</th>\n",
       "      <th>Status_Delete</th>\n",
       "      <th>Remarks_Delete</th>\n",
       "      <th>Status_Edit</th>\n",
       "      <th>Remarks_Edit</th>\n",
       "      <th>Status_add</th>\n",
       "      <th>Remarks_Add</th>\n",
       "    </tr>\n",
       "  </thead>\n",
       "  <tbody>\n",
       "    <tr>\n",
       "      <th>0</th>\n",
       "      <td>BCR2DN4T7SL2PPY6</td>\n",
       "      <td>checkin-nob</td>\n",
       "      <td>ADD</td>\n",
       "      <td>11-Nov-2022</td>\n",
       "      <td>2278168</td>\n",
       "      <td>1</td>\n",
       "      <td>NaN</td>\n",
       "      <td>NaN</td>\n",
       "      <td>NaN</td>\n",
       "      <td>NaN</td>\n",
       "      <td>NaN</td>\n",
       "      <td>Failed</td>\n",
       "      <td>Merchant Ext.ID is not present in Merchant Mas...</td>\n",
       "    </tr>\n",
       "    <tr>\n",
       "      <th>1</th>\n",
       "      <td>BCR2DN4TUC7YFOJZ</td>\n",
       "      <td>checkin-nob</td>\n",
       "      <td>ADD</td>\n",
       "      <td>11-Nov-2022</td>\n",
       "      <td>2278169</td>\n",
       "      <td>2</td>\n",
       "      <td>NaN</td>\n",
       "      <td>NaN</td>\n",
       "      <td>NaN</td>\n",
       "      <td>NaN</td>\n",
       "      <td>NaN</td>\n",
       "      <td>Failed</td>\n",
       "      <td>Merchant Ext.ID is not present in Merchant Mas...</td>\n",
       "    </tr>\n",
       "    <tr>\n",
       "      <th>2</th>\n",
       "      <td>BCR2DN4T4DFYN3SG</td>\n",
       "      <td>Inactive - INR 40 Extra Pay on Txn</td>\n",
       "      <td>ADD</td>\n",
       "      <td>11-Nov-2022</td>\n",
       "      <td>2278170</td>\n",
       "      <td>3</td>\n",
       "      <td>NaN</td>\n",
       "      <td>NaN</td>\n",
       "      <td>NaN</td>\n",
       "      <td>NaN</td>\n",
       "      <td>NaN</td>\n",
       "      <td>Failed</td>\n",
       "      <td>Merchant Ext.ID is not present in Merchant Mas...</td>\n",
       "    </tr>\n",
       "    <tr>\n",
       "      <th>3</th>\n",
       "      <td>BCR2DN4TUDZ4XNLL</td>\n",
       "      <td>Inactive - INR 40 Extra Pay on Txn</td>\n",
       "      <td>EDIT</td>\n",
       "      <td>11-Nov-2022</td>\n",
       "      <td>2278171</td>\n",
       "      <td>4</td>\n",
       "      <td>NaN</td>\n",
       "      <td>NaN</td>\n",
       "      <td>NaN</td>\n",
       "      <td>Failed</td>\n",
       "      <td>Merchant Ext. ID is not present in the Revisit...</td>\n",
       "      <td>NaN</td>\n",
       "      <td>NaN</td>\n",
       "    </tr>\n",
       "    <tr>\n",
       "      <th>4</th>\n",
       "      <td>BCR2DN4TWCA7BVCW</td>\n",
       "      <td>checkin-nob</td>\n",
       "      <td>ADD</td>\n",
       "      <td>11-Nov-2022</td>\n",
       "      <td>2278172</td>\n",
       "      <td>5</td>\n",
       "      <td>NaN</td>\n",
       "      <td>NaN</td>\n",
       "      <td>NaN</td>\n",
       "      <td>NaN</td>\n",
       "      <td>NaN</td>\n",
       "      <td>Failed</td>\n",
       "      <td>Merchant Ext.ID is not present in Merchant Mas...</td>\n",
       "    </tr>\n",
       "  </tbody>\n",
       "</table>\n",
       "</div>"
      ],
      "text/plain": [
       "         MerchantId                          Objectives IngestionStatus  \\\n",
       "0  BCR2DN4T7SL2PPY6                         checkin-nob             ADD   \n",
       "1  BCR2DN4TUC7YFOJZ                         checkin-nob             ADD   \n",
       "2  BCR2DN4T4DFYN3SG  Inactive - INR 40 Extra Pay on Txn             ADD   \n",
       "3  BCR2DN4TUDZ4XNLL  Inactive - INR 40 Extra Pay on Txn            EDIT   \n",
       "4  BCR2DN4TWCA7BVCW                         checkin-nob             ADD   \n",
       "\n",
       "   Report Date     s no  Primary_key  Status Status_Delete Remarks_Delete  \\\n",
       "0  11-Nov-2022  2278168            1     NaN           NaN            NaN   \n",
       "1  11-Nov-2022  2278169            2     NaN           NaN            NaN   \n",
       "2  11-Nov-2022  2278170            3     NaN           NaN            NaN   \n",
       "3  11-Nov-2022  2278171            4     NaN           NaN            NaN   \n",
       "4  11-Nov-2022  2278172            5     NaN           NaN            NaN   \n",
       "\n",
       "  Status_Edit                                       Remarks_Edit Status_add  \\\n",
       "0         NaN                                                NaN     Failed   \n",
       "1         NaN                                                NaN     Failed   \n",
       "2         NaN                                                NaN     Failed   \n",
       "3      Failed  Merchant Ext. ID is not present in the Revisit...        NaN   \n",
       "4         NaN                                                NaN     Failed   \n",
       "\n",
       "                                         Remarks_Add  \n",
       "0  Merchant Ext.ID is not present in Merchant Mas...  \n",
       "1  Merchant Ext.ID is not present in Merchant Mas...  \n",
       "2  Merchant Ext.ID is not present in Merchant Mas...  \n",
       "3                                                NaN  \n",
       "4  Merchant Ext.ID is not present in Merchant Mas...  "
      ]
     },
     "execution_count": 78,
     "metadata": {},
     "output_type": "execute_result"
    }
   ],
   "source": [
    "latest_dataset_merge_d_e_a.head(5)"
   ]
  },
  {
   "cell_type": "code",
   "execution_count": 79,
   "id": "55016280",
   "metadata": {},
   "outputs": [],
   "source": [
    "latest_dataset_merge_d_e_a['Status'].fillna(latest_dataset_merge_d_e_a['Status_Delete'], inplace=True)"
   ]
  },
  {
   "cell_type": "code",
   "execution_count": 80,
   "id": "fae52f41",
   "metadata": {},
   "outputs": [],
   "source": [
    "latest_dataset_merge_d_e_a['Status'].fillna(latest_dataset_merge_d_e_a['Status_Edit'], inplace=True)"
   ]
  },
  {
   "cell_type": "code",
   "execution_count": 81,
   "id": "797b703f",
   "metadata": {},
   "outputs": [],
   "source": [
    "latest_dataset_merge_d_e_a['Status'].fillna(latest_dataset_merge_d_e_a['Status_add'], inplace=True)"
   ]
  },
  {
   "cell_type": "code",
   "execution_count": 82,
   "id": "a4099787",
   "metadata": {},
   "outputs": [],
   "source": [
    "latest_dataset_merge_d_e_a['Remarks'] = np.nan"
   ]
  },
  {
   "cell_type": "code",
   "execution_count": 83,
   "id": "e3404c48",
   "metadata": {},
   "outputs": [],
   "source": [
    "latest_dataset_merge_d_e_a['Remarks'].fillna(latest_dataset_merge_d_e_a['Remarks_Delete'], inplace=True)"
   ]
  },
  {
   "cell_type": "code",
   "execution_count": 84,
   "id": "1ac5c490",
   "metadata": {},
   "outputs": [],
   "source": [
    "latest_dataset_merge_d_e_a['Remarks'].fillna(latest_dataset_merge_d_e_a['Remarks_Edit'], inplace=True)"
   ]
  },
  {
   "cell_type": "code",
   "execution_count": 85,
   "id": "42b32465",
   "metadata": {},
   "outputs": [],
   "source": [
    "latest_dataset_merge_d_e_a['Remarks'].fillna(latest_dataset_merge_d_e_a['Remarks_Add'], inplace=True)"
   ]
  },
  {
   "cell_type": "code",
   "execution_count": 86,
   "id": "55d32a15",
   "metadata": {},
   "outputs": [],
   "source": [
    "latest_dataset_final = latest_dataset_merge_d_e_a[['MerchantId', 'Objectives','IngestionStatus', 'Report Date',\n",
    "                                            'Remarks', 'Status',\"s no\"]].rename(columns={'Remarks':'RWM Remarks'})"
   ]
  },
  {
   "cell_type": "code",
   "execution_count": 87,
   "id": "4a37fcc9",
   "metadata": {},
   "outputs": [],
   "source": [
    "latest_dataset_final['RWM Remarks'].fillna('Success', inplace = True)"
   ]
  },
  {
   "cell_type": "markdown",
   "id": "4b411251",
   "metadata": {},
   "source": [
    "# Filling the Ingestion Date and Revisit Expire Date"
   ]
  },
  {
   "cell_type": "markdown",
   "id": "913ce896",
   "metadata": {},
   "source": [
    "### Ingestion Date for the Add"
   ]
  },
  {
   "cell_type": "code",
   "execution_count": 88,
   "id": "81b8ed93",
   "metadata": {},
   "outputs": [],
   "source": [
    "latest_dataset_final['IngestionStatus_add'] = latest_dataset_final['IngestionStatus'].str.contains('ADD')"
   ]
  },
  {
   "cell_type": "code",
   "execution_count": 89,
   "id": "9859dd8b",
   "metadata": {},
   "outputs": [],
   "source": [
    "latest_dataset_final['RWM Remarks_success'] = latest_dataset_final['RWM Remarks'].str.contains('Success')"
   ]
  },
  {
   "cell_type": "code",
   "execution_count": 90,
   "id": "63c5e5c8",
   "metadata": {},
   "outputs": [],
   "source": [
    "latest_dataset_final['RWM Remarks_success'].replace(False,\"No\", inplace=True)"
   ]
  },
  {
   "cell_type": "code",
   "execution_count": 91,
   "id": "5ebe2c1b",
   "metadata": {},
   "outputs": [],
   "source": [
    "latest_dataset_final['IngestionStatus_add_success'] = latest_dataset_final[\n",
    "    'IngestionStatus_add'] == latest_dataset_final['RWM Remarks_success']"
   ]
  },
  {
   "cell_type": "code",
   "execution_count": 92,
   "id": "b33aa425",
   "metadata": {},
   "outputs": [],
   "source": [
    "latest_dataset_final['IngestionStatus_add_success'] = latest_dataset_final[\n",
    "    'IngestionStatus_add_success'].map({False:np.nan, True:Ingestion_Date})"
   ]
  },
  {
   "cell_type": "code",
   "execution_count": 93,
   "id": "af3478f8",
   "metadata": {},
   "outputs": [
    {
     "data": {
      "text/html": [
       "<div>\n",
       "<style scoped>\n",
       "    .dataframe tbody tr th:only-of-type {\n",
       "        vertical-align: middle;\n",
       "    }\n",
       "\n",
       "    .dataframe tbody tr th {\n",
       "        vertical-align: top;\n",
       "    }\n",
       "\n",
       "    .dataframe thead th {\n",
       "        text-align: right;\n",
       "    }\n",
       "</style>\n",
       "<table border=\"1\" class=\"dataframe\">\n",
       "  <thead>\n",
       "    <tr style=\"text-align: right;\">\n",
       "      <th></th>\n",
       "      <th>MerchantId</th>\n",
       "      <th>Objectives</th>\n",
       "      <th>IngestionStatus</th>\n",
       "      <th>Report Date</th>\n",
       "      <th>RWM Remarks</th>\n",
       "      <th>Status</th>\n",
       "      <th>s no</th>\n",
       "      <th>IngestionStatus_add</th>\n",
       "      <th>RWM Remarks_success</th>\n",
       "      <th>IngestionStatus_add_success</th>\n",
       "    </tr>\n",
       "  </thead>\n",
       "  <tbody>\n",
       "    <tr>\n",
       "      <th>0</th>\n",
       "      <td>BCR2DN4T7SL2PPY6</td>\n",
       "      <td>checkin-nob</td>\n",
       "      <td>ADD</td>\n",
       "      <td>11-Nov-2022</td>\n",
       "      <td>Merchant Ext.ID is not present in Merchant Mas...</td>\n",
       "      <td>Failed</td>\n",
       "      <td>2278168</td>\n",
       "      <td>True</td>\n",
       "      <td>No</td>\n",
       "      <td>NaN</td>\n",
       "    </tr>\n",
       "  </tbody>\n",
       "</table>\n",
       "</div>"
      ],
      "text/plain": [
       "         MerchantId   Objectives IngestionStatus  Report Date  \\\n",
       "0  BCR2DN4T7SL2PPY6  checkin-nob             ADD  11-Nov-2022   \n",
       "\n",
       "                                         RWM Remarks  Status     s no  \\\n",
       "0  Merchant Ext.ID is not present in Merchant Mas...  Failed  2278168   \n",
       "\n",
       "   IngestionStatus_add RWM Remarks_success IngestionStatus_add_success  \n",
       "0                 True                  No                         NaN  "
      ]
     },
     "execution_count": 93,
     "metadata": {},
     "output_type": "execute_result"
    }
   ],
   "source": [
    "latest_dataset_final.head(1)"
   ]
  },
  {
   "cell_type": "markdown",
   "id": "ed928617",
   "metadata": {},
   "source": [
    "### Ingestion Date for the Edit"
   ]
  },
  {
   "cell_type": "code",
   "execution_count": 94,
   "id": "01d79510",
   "metadata": {},
   "outputs": [],
   "source": [
    "latest_dataset_final['IngestionStatus_edit'] = latest_dataset_final['IngestionStatus'].str.contains('EDIT')"
   ]
  },
  {
   "cell_type": "code",
   "execution_count": 95,
   "id": "992f1ead",
   "metadata": {},
   "outputs": [],
   "source": [
    "latest_dataset_final['IngestionStatus_edit_success'] = latest_dataset_final[\n",
    "    'IngestionStatus_edit'] == latest_dataset_final['RWM Remarks_success']"
   ]
  },
  {
   "cell_type": "code",
   "execution_count": 96,
   "id": "520a80c4",
   "metadata": {},
   "outputs": [],
   "source": [
    "latest_dataset_final['IngestionStatus_edit_success'] = latest_dataset_final[\n",
    "    'IngestionStatus_edit_success'].map({True:Default_Ingestion_Date, False:np.nan})"
   ]
  },
  {
   "cell_type": "markdown",
   "id": "17eeed54",
   "metadata": {},
   "source": [
    "# Fill na of the ingestion date with the IngestionStatus_edit_success and IngestionStatus_add_success date"
   ]
  },
  {
   "cell_type": "code",
   "execution_count": 97,
   "id": "6a33fc14",
   "metadata": {},
   "outputs": [],
   "source": [
    "latest_dataset_final['Ingestion Date'] = np.nan"
   ]
  },
  {
   "cell_type": "code",
   "execution_count": 98,
   "id": "17feab56",
   "metadata": {},
   "outputs": [],
   "source": [
    "latest_dataset_final['Ingestion Date'].fillna(latest_dataset_final['IngestionStatus_add_success'],inplace=True)"
   ]
  },
  {
   "cell_type": "code",
   "execution_count": 99,
   "id": "080f78ec",
   "metadata": {},
   "outputs": [],
   "source": [
    "latest_dataset_final['Ingestion Date'].fillna(latest_dataset_final['IngestionStatus_edit_success'],inplace=True)"
   ]
  },
  {
   "cell_type": "markdown",
   "id": "eff722b6",
   "metadata": {},
   "source": [
    "### Revisit Expire Date for the Delete"
   ]
  },
  {
   "cell_type": "code",
   "execution_count": 100,
   "id": "7a29c1ba",
   "metadata": {},
   "outputs": [],
   "source": [
    "latest_dataset_final['Revisit Expire Date'] = latest_dataset_final['Status'].str.contains(\"Delete\")"
   ]
  },
  {
   "cell_type": "code",
   "execution_count": 101,
   "id": "3795e2cc",
   "metadata": {},
   "outputs": [],
   "source": [
    "latest_dataset_final['Revisit Expire Date'].replace(True, np.nan, inplace=True)"
   ]
  },
  {
   "cell_type": "code",
   "execution_count": 102,
   "id": "a79433f4",
   "metadata": {},
   "outputs": [],
   "source": [
    "latest_dataset_final['Revisit Expire Date'].replace(np.nan, Revisit_Expire_Date , inplace=True)"
   ]
  },
  {
   "cell_type": "code",
   "execution_count": 103,
   "id": "4aeede8c",
   "metadata": {},
   "outputs": [],
   "source": [
    "latest_dataset_final['Revisit Expire Date'].replace(False, np.nan, inplace=True)"
   ]
  },
  {
   "cell_type": "markdown",
   "id": "285355b0",
   "metadata": {},
   "source": [
    "# Filter the columns and get the results"
   ]
  },
  {
   "cell_type": "code",
   "execution_count": 104,
   "id": "c5cab76b",
   "metadata": {},
   "outputs": [],
   "source": [
    "latest_dataset_final2 = latest_dataset_final[['MerchantId', 'Objectives', 'IngestionStatus', 'Report Date',\n",
    "                                             'RWM Remarks', 'Ingestion Date', 'Revisit Expire Date', 's no']]"
   ]
  },
  {
   "cell_type": "code",
   "execution_count": 112,
   "id": "b0ef55d6",
   "metadata": {},
   "outputs": [],
   "source": [
    "latest_dataset_final2.to_csv(output_loc+'latest_dataset_final.csv',index=False)"
   ]
  },
  {
   "cell_type": "code",
   "execution_count": 106,
   "id": "ed86b304",
   "metadata": {},
   "outputs": [
    {
     "data": {
      "text/html": [
       "<div>\n",
       "<style scoped>\n",
       "    .dataframe tbody tr th:only-of-type {\n",
       "        vertical-align: middle;\n",
       "    }\n",
       "\n",
       "    .dataframe tbody tr th {\n",
       "        vertical-align: top;\n",
       "    }\n",
       "\n",
       "    .dataframe thead th {\n",
       "        text-align: right;\n",
       "    }\n",
       "</style>\n",
       "<table border=\"1\" class=\"dataframe\">\n",
       "  <thead>\n",
       "    <tr style=\"text-align: right;\">\n",
       "      <th></th>\n",
       "      <th>MerchantId</th>\n",
       "      <th>Objectives</th>\n",
       "      <th>IngestionStatus</th>\n",
       "      <th>Report Date</th>\n",
       "      <th>RWM Remarks</th>\n",
       "      <th>Ingestion Date</th>\n",
       "      <th>Revisit Expire Date</th>\n",
       "      <th>s no</th>\n",
       "    </tr>\n",
       "  </thead>\n",
       "  <tbody>\n",
       "    <tr>\n",
       "      <th>0</th>\n",
       "      <td>BCR2DN4T7SL2PPY6</td>\n",
       "      <td>checkin-nob</td>\n",
       "      <td>ADD</td>\n",
       "      <td>11-Nov-2022</td>\n",
       "      <td>Merchant Ext.ID is not present in Merchant Mas...</td>\n",
       "      <td>NaN</td>\n",
       "      <td>NaN</td>\n",
       "      <td>2278168</td>\n",
       "    </tr>\n",
       "  </tbody>\n",
       "</table>\n",
       "</div>"
      ],
      "text/plain": [
       "         MerchantId   Objectives IngestionStatus  Report Date  \\\n",
       "0  BCR2DN4T7SL2PPY6  checkin-nob             ADD  11-Nov-2022   \n",
       "\n",
       "                                         RWM Remarks Ingestion Date  \\\n",
       "0  Merchant Ext.ID is not present in Merchant Mas...            NaN   \n",
       "\n",
       "   Revisit Expire Date     s no  \n",
       "0                  NaN  2278168  "
      ]
     },
     "execution_count": 106,
     "metadata": {},
     "output_type": "execute_result"
    }
   ],
   "source": [
    "latest_dataset_final2.head(1)"
   ]
  },
  {
   "cell_type": "code",
   "execution_count": 107,
   "id": "8aafda70",
   "metadata": {},
   "outputs": [
    {
     "data": {
      "text/plain": [
       "(133036, 8)"
      ]
     },
     "execution_count": 107,
     "metadata": {},
     "output_type": "execute_result"
    }
   ],
   "source": [
    "latest_dataset_final2.shape"
   ]
  },
  {
   "cell_type": "markdown",
   "id": "9c8c3b00",
   "metadata": {},
   "source": [
    "# Adding the this latest file with the previous data"
   ]
  },
  {
   "cell_type": "code",
   "execution_count": 108,
   "id": "2d43fa58",
   "metadata": {},
   "outputs": [],
   "source": [
    "old_dataset.sort_values(by=['s no'], inplace=True)"
   ]
  },
  {
   "cell_type": "code",
   "execution_count": 109,
   "id": "3ef1c80b",
   "metadata": {},
   "outputs": [
    {
     "data": {
      "text/html": [
       "<div>\n",
       "<style scoped>\n",
       "    .dataframe tbody tr th:only-of-type {\n",
       "        vertical-align: middle;\n",
       "    }\n",
       "\n",
       "    .dataframe tbody tr th {\n",
       "        vertical-align: top;\n",
       "    }\n",
       "\n",
       "    .dataframe thead th {\n",
       "        text-align: right;\n",
       "    }\n",
       "</style>\n",
       "<table border=\"1\" class=\"dataframe\">\n",
       "  <thead>\n",
       "    <tr style=\"text-align: right;\">\n",
       "      <th></th>\n",
       "      <th>MerchantId</th>\n",
       "      <th>Objectives</th>\n",
       "      <th>IngestionStatus</th>\n",
       "      <th>Report Date</th>\n",
       "      <th>RWM Remarks</th>\n",
       "      <th>Ingestion Date</th>\n",
       "      <th>RWM Revisit Status</th>\n",
       "      <th>RWM Revisit Date</th>\n",
       "      <th>Revisit Expire Date</th>\n",
       "      <th>Validity</th>\n",
       "      <th>Pincode</th>\n",
       "      <th>Phone Number</th>\n",
       "      <th>City</th>\n",
       "      <th>Cluster</th>\n",
       "      <th>Failed Upload RWM MID</th>\n",
       "      <th>csv Google MID</th>\n",
       "      <th>Google csv Visit Date</th>\n",
       "      <th>csv Validity</th>\n",
       "      <th>s no</th>\n",
       "    </tr>\n",
       "  </thead>\n",
       "  <tbody>\n",
       "    <tr>\n",
       "      <th>0</th>\n",
       "      <td>BCR2DN4TSCO3DNDR</td>\n",
       "      <td>checkin-nob</td>\n",
       "      <td>ADD</td>\n",
       "      <td>5-Aug-2022</td>\n",
       "      <td>Success</td>\n",
       "      <td>5-Aug-2022</td>\n",
       "      <td>NaN</td>\n",
       "      <td>NaN</td>\n",
       "      <td>NaN</td>\n",
       "      <td>NaN</td>\n",
       "      <td>NaN</td>\n",
       "      <td>NaN</td>\n",
       "      <td>NaN</td>\n",
       "      <td>NaN</td>\n",
       "      <td>NaN</td>\n",
       "      <td>NaN</td>\n",
       "      <td>NaN</td>\n",
       "      <td>NaN</td>\n",
       "      <td>1</td>\n",
       "    </tr>\n",
       "    <tr>\n",
       "      <th>1</th>\n",
       "      <td>BCR2DN4TWDVZF7LF</td>\n",
       "      <td>checkin-nob</td>\n",
       "      <td>ADD</td>\n",
       "      <td>5-Aug-2022</td>\n",
       "      <td>Merchant Ext.ID is not present in Merchant Mas...</td>\n",
       "      <td>NaN</td>\n",
       "      <td>NaN</td>\n",
       "      <td>NaN</td>\n",
       "      <td>NaN</td>\n",
       "      <td>NaN</td>\n",
       "      <td>NaN</td>\n",
       "      <td>NaN</td>\n",
       "      <td>NaN</td>\n",
       "      <td>NaN</td>\n",
       "      <td>NaN</td>\n",
       "      <td>NaN</td>\n",
       "      <td>NaN</td>\n",
       "      <td>NaN</td>\n",
       "      <td>2</td>\n",
       "    </tr>\n",
       "    <tr>\n",
       "      <th>2</th>\n",
       "      <td>BCR2DN6T2OKJNTKZ</td>\n",
       "      <td>inactive | stuck_settlements</td>\n",
       "      <td>EDIT</td>\n",
       "      <td>5-Aug-2022</td>\n",
       "      <td>Success</td>\n",
       "      <td>5-Aug-2022</td>\n",
       "      <td>Revisit Done</td>\n",
       "      <td>23-Sep-2022</td>\n",
       "      <td>NaN</td>\n",
       "      <td>VALID</td>\n",
       "      <td>422303.0</td>\n",
       "      <td>9.822789e+09</td>\n",
       "      <td>Nashik</td>\n",
       "      <td>Pune</td>\n",
       "      <td>NaN</td>\n",
       "      <td>BCR2DN6T2OKJNTKZ</td>\n",
       "      <td>23-Sep-2022</td>\n",
       "      <td>VALID</td>\n",
       "      <td>3</td>\n",
       "    </tr>\n",
       "    <tr>\n",
       "      <th>3</th>\n",
       "      <td>BCR2DN6TUXLJ3PTX</td>\n",
       "      <td>support | stuck_settlements</td>\n",
       "      <td>EDIT</td>\n",
       "      <td>5-Aug-2022</td>\n",
       "      <td>Success</td>\n",
       "      <td>5-Aug-2022</td>\n",
       "      <td>NaN</td>\n",
       "      <td>NaN</td>\n",
       "      <td>NaN</td>\n",
       "      <td>NaN</td>\n",
       "      <td>160022.0</td>\n",
       "      <td>9.217486e+09</td>\n",
       "      <td>Chandigarh</td>\n",
       "      <td>Delhi</td>\n",
       "      <td>NaN</td>\n",
       "      <td>NaN</td>\n",
       "      <td>NaN</td>\n",
       "      <td>NaN</td>\n",
       "      <td>4</td>\n",
       "    </tr>\n",
       "    <tr>\n",
       "      <th>4</th>\n",
       "      <td>BCR2DN6TUW2MV52D</td>\n",
       "      <td>stuck_settlements</td>\n",
       "      <td>ADD</td>\n",
       "      <td>5-Aug-2022</td>\n",
       "      <td>Merchant Ext.ID is not present in Merchant Mas...</td>\n",
       "      <td>NaN</td>\n",
       "      <td>NaN</td>\n",
       "      <td>NaN</td>\n",
       "      <td>NaN</td>\n",
       "      <td>NaN</td>\n",
       "      <td>NaN</td>\n",
       "      <td>NaN</td>\n",
       "      <td>NaN</td>\n",
       "      <td>NaN</td>\n",
       "      <td>NaN</td>\n",
       "      <td>NaN</td>\n",
       "      <td>NaN</td>\n",
       "      <td>NaN</td>\n",
       "      <td>5</td>\n",
       "    </tr>\n",
       "    <tr>\n",
       "      <th>...</th>\n",
       "      <td>...</td>\n",
       "      <td>...</td>\n",
       "      <td>...</td>\n",
       "      <td>...</td>\n",
       "      <td>...</td>\n",
       "      <td>...</td>\n",
       "      <td>...</td>\n",
       "      <td>...</td>\n",
       "      <td>...</td>\n",
       "      <td>...</td>\n",
       "      <td>...</td>\n",
       "      <td>...</td>\n",
       "      <td>...</td>\n",
       "      <td>...</td>\n",
       "      <td>...</td>\n",
       "      <td>...</td>\n",
       "      <td>...</td>\n",
       "      <td>...</td>\n",
       "      <td>...</td>\n",
       "    </tr>\n",
       "    <tr>\n",
       "      <th>1991408</th>\n",
       "      <td>BCR2DN6TSWNLLTCJ</td>\n",
       "      <td>Null</td>\n",
       "      <td>DELETE</td>\n",
       "      <td>4-Nov-2022</td>\n",
       "      <td>Success</td>\n",
       "      <td>8-Jun-2022</td>\n",
       "      <td>NaN</td>\n",
       "      <td>NaN</td>\n",
       "      <td>4-Nov-2022</td>\n",
       "      <td>NaN</td>\n",
       "      <td>400024.0</td>\n",
       "      <td>9.833178e+09</td>\n",
       "      <td>Mumbai</td>\n",
       "      <td>Mumbai</td>\n",
       "      <td>NaN</td>\n",
       "      <td>NaN</td>\n",
       "      <td>NaN</td>\n",
       "      <td>NaN</td>\n",
       "      <td>1991409</td>\n",
       "    </tr>\n",
       "    <tr>\n",
       "      <th>1991409</th>\n",
       "      <td>BCR2DN4TTSV7H5D7</td>\n",
       "      <td>Inactive - INR 40 Extra Pay on Txn</td>\n",
       "      <td>EDIT</td>\n",
       "      <td>4-Nov-2022</td>\n",
       "      <td>Merchant Ext. ID is not present in the Revisit...</td>\n",
       "      <td>NaN</td>\n",
       "      <td>NaN</td>\n",
       "      <td>NaN</td>\n",
       "      <td>NaN</td>\n",
       "      <td>NaN</td>\n",
       "      <td>NaN</td>\n",
       "      <td>NaN</td>\n",
       "      <td>NaN</td>\n",
       "      <td>NaN</td>\n",
       "      <td>NaN</td>\n",
       "      <td>NaN</td>\n",
       "      <td>NaN</td>\n",
       "      <td>NaN</td>\n",
       "      <td>1991410</td>\n",
       "    </tr>\n",
       "    <tr>\n",
       "      <th>1991410</th>\n",
       "      <td>BCR2DN6TV6F4DTJD</td>\n",
       "      <td>Inactive - INR 40 Extra Pay on Txn</td>\n",
       "      <td>EDIT</td>\n",
       "      <td>4-Nov-2022</td>\n",
       "      <td>Success</td>\n",
       "      <td>8-Jun-2022</td>\n",
       "      <td>NaN</td>\n",
       "      <td>NaN</td>\n",
       "      <td>NaN</td>\n",
       "      <td>NaN</td>\n",
       "      <td>613001.0</td>\n",
       "      <td>9.443183e+09</td>\n",
       "      <td>Trichy</td>\n",
       "      <td>Chennai</td>\n",
       "      <td>NaN</td>\n",
       "      <td>NaN</td>\n",
       "      <td>NaN</td>\n",
       "      <td>NaN</td>\n",
       "      <td>1991411</td>\n",
       "    </tr>\n",
       "    <tr>\n",
       "      <th>1991411</th>\n",
       "      <td>BCR2DN6TU6I2LQAC</td>\n",
       "      <td>Inactive - INR 40 Extra Pay on Txn</td>\n",
       "      <td>EDIT</td>\n",
       "      <td>4-Nov-2022</td>\n",
       "      <td>Success</td>\n",
       "      <td>8-Jun-2022</td>\n",
       "      <td>NaN</td>\n",
       "      <td>NaN</td>\n",
       "      <td>NaN</td>\n",
       "      <td>NaN</td>\n",
       "      <td>412803.0</td>\n",
       "      <td>9.850783e+09</td>\n",
       "      <td>Satara</td>\n",
       "      <td>Pune</td>\n",
       "      <td>NaN</td>\n",
       "      <td>NaN</td>\n",
       "      <td>NaN</td>\n",
       "      <td>NaN</td>\n",
       "      <td>1991412</td>\n",
       "    </tr>\n",
       "    <tr>\n",
       "      <th>1991412</th>\n",
       "      <td>BCR2DN6TT6YJDTJE</td>\n",
       "      <td>Inactive - INR 40 Extra Pay on Txn</td>\n",
       "      <td>ADD</td>\n",
       "      <td>4-Nov-2022</td>\n",
       "      <td>Success</td>\n",
       "      <td>4-Nov-2022</td>\n",
       "      <td>NaN</td>\n",
       "      <td>NaN</td>\n",
       "      <td>NaN</td>\n",
       "      <td>NaN</td>\n",
       "      <td>NaN</td>\n",
       "      <td>NaN</td>\n",
       "      <td>NaN</td>\n",
       "      <td>NaN</td>\n",
       "      <td>NaN</td>\n",
       "      <td>NaN</td>\n",
       "      <td>NaN</td>\n",
       "      <td>NaN</td>\n",
       "      <td>1991413</td>\n",
       "    </tr>\n",
       "  </tbody>\n",
       "</table>\n",
       "<p>1991413 rows × 19 columns</p>\n",
       "</div>"
      ],
      "text/plain": [
       "               MerchantId                          Objectives IngestionStatus  \\\n",
       "0        BCR2DN4TSCO3DNDR                         checkin-nob             ADD   \n",
       "1        BCR2DN4TWDVZF7LF                         checkin-nob             ADD   \n",
       "2        BCR2DN6T2OKJNTKZ        inactive | stuck_settlements            EDIT   \n",
       "3        BCR2DN6TUXLJ3PTX         support | stuck_settlements            EDIT   \n",
       "4        BCR2DN6TUW2MV52D                   stuck_settlements             ADD   \n",
       "...                   ...                                 ...             ...   \n",
       "1991408  BCR2DN6TSWNLLTCJ                                Null          DELETE   \n",
       "1991409  BCR2DN4TTSV7H5D7  Inactive - INR 40 Extra Pay on Txn            EDIT   \n",
       "1991410  BCR2DN6TV6F4DTJD  Inactive - INR 40 Extra Pay on Txn            EDIT   \n",
       "1991411  BCR2DN6TU6I2LQAC  Inactive - INR 40 Extra Pay on Txn            EDIT   \n",
       "1991412  BCR2DN6TT6YJDTJE  Inactive - INR 40 Extra Pay on Txn             ADD   \n",
       "\n",
       "        Report Date                                        RWM Remarks  \\\n",
       "0        5-Aug-2022                                            Success   \n",
       "1        5-Aug-2022  Merchant Ext.ID is not present in Merchant Mas...   \n",
       "2        5-Aug-2022                                            Success   \n",
       "3        5-Aug-2022                                            Success   \n",
       "4        5-Aug-2022  Merchant Ext.ID is not present in Merchant Mas...   \n",
       "...             ...                                                ...   \n",
       "1991408  4-Nov-2022                                            Success   \n",
       "1991409  4-Nov-2022  Merchant Ext. ID is not present in the Revisit...   \n",
       "1991410  4-Nov-2022                                            Success   \n",
       "1991411  4-Nov-2022                                            Success   \n",
       "1991412  4-Nov-2022                                            Success   \n",
       "\n",
       "        Ingestion Date RWM Revisit Status RWM Revisit Date  \\\n",
       "0           5-Aug-2022                NaN              NaN   \n",
       "1                  NaN                NaN              NaN   \n",
       "2           5-Aug-2022       Revisit Done      23-Sep-2022   \n",
       "3           5-Aug-2022                NaN              NaN   \n",
       "4                  NaN                NaN              NaN   \n",
       "...                ...                ...              ...   \n",
       "1991408     8-Jun-2022                NaN              NaN   \n",
       "1991409            NaN                NaN              NaN   \n",
       "1991410     8-Jun-2022                NaN              NaN   \n",
       "1991411     8-Jun-2022                NaN              NaN   \n",
       "1991412     4-Nov-2022                NaN              NaN   \n",
       "\n",
       "        Revisit Expire Date Validity   Pincode  Phone Number        City  \\\n",
       "0                       NaN      NaN       NaN           NaN         NaN   \n",
       "1                       NaN      NaN       NaN           NaN         NaN   \n",
       "2                       NaN    VALID  422303.0  9.822789e+09      Nashik   \n",
       "3                       NaN      NaN  160022.0  9.217486e+09  Chandigarh   \n",
       "4                       NaN      NaN       NaN           NaN         NaN   \n",
       "...                     ...      ...       ...           ...         ...   \n",
       "1991408          4-Nov-2022      NaN  400024.0  9.833178e+09      Mumbai   \n",
       "1991409                 NaN      NaN       NaN           NaN         NaN   \n",
       "1991410                 NaN      NaN  613001.0  9.443183e+09      Trichy   \n",
       "1991411                 NaN      NaN  412803.0  9.850783e+09      Satara   \n",
       "1991412                 NaN      NaN       NaN           NaN         NaN   \n",
       "\n",
       "         Cluster  Failed Upload RWM MID    csv Google MID  \\\n",
       "0            NaN                    NaN               NaN   \n",
       "1            NaN                    NaN               NaN   \n",
       "2           Pune                    NaN  BCR2DN6T2OKJNTKZ   \n",
       "3          Delhi                    NaN               NaN   \n",
       "4            NaN                    NaN               NaN   \n",
       "...          ...                    ...               ...   \n",
       "1991408   Mumbai                    NaN               NaN   \n",
       "1991409      NaN                    NaN               NaN   \n",
       "1991410  Chennai                    NaN               NaN   \n",
       "1991411     Pune                    NaN               NaN   \n",
       "1991412      NaN                    NaN               NaN   \n",
       "\n",
       "        Google csv Visit Date csv Validity     s no  \n",
       "0                         NaN          NaN        1  \n",
       "1                         NaN          NaN        2  \n",
       "2                 23-Sep-2022        VALID        3  \n",
       "3                         NaN          NaN        4  \n",
       "4                         NaN          NaN        5  \n",
       "...                       ...          ...      ...  \n",
       "1991408                   NaN          NaN  1991409  \n",
       "1991409                   NaN          NaN  1991410  \n",
       "1991410                   NaN          NaN  1991411  \n",
       "1991411                   NaN          NaN  1991412  \n",
       "1991412                   NaN          NaN  1991413  \n",
       "\n",
       "[1991413 rows x 19 columns]"
      ]
     },
     "execution_count": 109,
     "metadata": {},
     "output_type": "execute_result"
    }
   ],
   "source": [
    "old_dataset"
   ]
  },
  {
   "cell_type": "code",
   "execution_count": 110,
   "id": "a571156d",
   "metadata": {},
   "outputs": [],
   "source": [
    "Dynamic_dataset = old_dataset.append(latest_dataset_final2)"
   ]
  },
  {
   "cell_type": "code",
   "execution_count": 111,
   "id": "b9bb27d5",
   "metadata": {},
   "outputs": [],
   "source": [
    "Dynamic_dataset.to_csv(output_loc+'Dynamic_source.csv', index=False)"
   ]
  }
 ],
 "metadata": {
  "kernelspec": {
   "display_name": "Python 3 (ipykernel)",
   "language": "python",
   "name": "python3"
  },
  "language_info": {
   "codemirror_mode": {
    "name": "ipython",
    "version": 3
   },
   "file_extension": ".py",
   "mimetype": "text/x-python",
   "name": "python",
   "nbconvert_exporter": "python",
   "pygments_lexer": "ipython3",
   "version": "3.10.6"
  }
 },
 "nbformat": 4,
 "nbformat_minor": 5
}
